{
 "cells": [
  {
   "cell_type": "markdown",
   "metadata": {
    "toc": true
   },
   "source": [
    "<h1>Содержание<span class=\"tocSkip\"></span></h1>\n",
    "<div class=\"toc\"><ul class=\"toc-item\"><li><span><a href=\"#Подготовка-данных\" data-toc-modified-id=\"Подготовка-данных-1\"><span class=\"toc-item-num\">1&nbsp;&nbsp;</span>Подготовка данных</a></span><ul class=\"toc-item\"><li><span><a href=\"#Анализ-основных-данных\" data-toc-modified-id=\"Анализ-основных-данных-1.1\"><span class=\"toc-item-num\">1.1&nbsp;&nbsp;</span>Анализ основных данных</a></span></li><li><span><a href=\"#Выводы\" data-toc-modified-id=\"Выводы-1.2\"><span class=\"toc-item-num\">1.2&nbsp;&nbsp;</span>Выводы</a></span></li><li><span><a href=\"#Исправление-проблем\" data-toc-modified-id=\"Исправление-проблем-1.3\"><span class=\"toc-item-num\">1.3&nbsp;&nbsp;</span>Исправление проблем</a></span><ul class=\"toc-item\"><li><span><a href=\"#Удаление-не-информативных-данных\" data-toc-modified-id=\"Удаление-не-информативных-данных-1.3.1\"><span class=\"toc-item-num\">1.3.1&nbsp;&nbsp;</span>Удаление не информативных данных</a></span></li><li><span><a href=\"#Удаление-сбойного-набора\" data-toc-modified-id=\"Удаление-сбойного-набора-1.3.2\"><span class=\"toc-item-num\">1.3.2&nbsp;&nbsp;</span>Удаление сбойного набора</a></span></li><li><span><a href=\"#Замена-медианой\" data-toc-modified-id=\"Замена-медианой-1.3.3\"><span class=\"toc-item-num\">1.3.3&nbsp;&nbsp;</span>Замена медианой</a></span></li><li><span><a href=\"#Замена-нулем\" data-toc-modified-id=\"Замена-нулем-1.3.4\"><span class=\"toc-item-num\">1.3.4&nbsp;&nbsp;</span>Замена нулем</a></span></li><li><span><a href=\"#Вывод\" data-toc-modified-id=\"Вывод-1.3.5\"><span class=\"toc-item-num\">1.3.5&nbsp;&nbsp;</span>Вывод</a></span></li></ul></li><li><span><a href=\"#Удаление-явных-дублей\" data-toc-modified-id=\"Удаление-явных-дублей-1.4\"><span class=\"toc-item-num\">1.4&nbsp;&nbsp;</span>Удаление явных дублей</a></span></li><li><span><a href=\"#Вывод\" data-toc-modified-id=\"Вывод-1.5\"><span class=\"toc-item-num\">1.5&nbsp;&nbsp;</span>Вывод</a></span></li></ul></li><li><span><a href=\"#Исследование-задачи\" data-toc-modified-id=\"Исследование-задачи-2\"><span class=\"toc-item-num\">2&nbsp;&nbsp;</span>Исследование задачи</a></span><ul class=\"toc-item\"><li><span><a href=\"#Иследование-баланса-классов\" data-toc-modified-id=\"Иследование-баланса-классов-2.1\"><span class=\"toc-item-num\">2.1&nbsp;&nbsp;</span>Иследование баланса классов</a></span></li><li><span><a href=\"#Выводы\" data-toc-modified-id=\"Выводы-2.2\"><span class=\"toc-item-num\">2.2&nbsp;&nbsp;</span>Выводы</a></span></li><li><span><a href=\"#Кодирование-данных\" data-toc-modified-id=\"Кодирование-данных-2.3\"><span class=\"toc-item-num\">2.3&nbsp;&nbsp;</span>Кодирование данных</a></span></li><li><span><a href=\"#Разделение-данных\" data-toc-modified-id=\"Разделение-данных-2.4\"><span class=\"toc-item-num\">2.4&nbsp;&nbsp;</span>Разделение данных</a></span></li><li><span><a href=\"#Масштабирование-данных\" data-toc-modified-id=\"Масштабирование-данных-2.5\"><span class=\"toc-item-num\">2.5&nbsp;&nbsp;</span>Масштабирование данных</a></span></li><li><span><a href=\"#Проверка-моделей-без-учета-балансировки\" data-toc-modified-id=\"Проверка-моделей-без-учета-балансировки-2.6\"><span class=\"toc-item-num\">2.6&nbsp;&nbsp;</span>Проверка моделей без учета балансировки</a></span><ul class=\"toc-item\"><li><span><a href=\"#Дерево-решений\" data-toc-modified-id=\"Дерево-решений-2.6.1\"><span class=\"toc-item-num\">2.6.1&nbsp;&nbsp;</span>Дерево решений</a></span></li><li><span><a href=\"#Голосующее-дерево\" data-toc-modified-id=\"Голосующее-дерево-2.6.2\"><span class=\"toc-item-num\">2.6.2&nbsp;&nbsp;</span>Голосующее дерево</a></span></li><li><span><a href=\"#Случайный-лес\" data-toc-modified-id=\"Случайный-лес-2.6.3\"><span class=\"toc-item-num\">2.6.3&nbsp;&nbsp;</span>Случайный лес</a></span></li></ul></li><li><span><a href=\"#Проверка-результата\" data-toc-modified-id=\"Проверка-результата-2.7\"><span class=\"toc-item-num\">2.7&nbsp;&nbsp;</span>Проверка результата</a></span></li><li><span><a href=\"#Выводы\" data-toc-modified-id=\"Выводы-2.8\"><span class=\"toc-item-num\">2.8&nbsp;&nbsp;</span>Выводы</a></span></li></ul></li><li><span><a href=\"#Борьба-с-дисбалансом\" data-toc-modified-id=\"Борьба-с-дисбалансом-3\"><span class=\"toc-item-num\">3&nbsp;&nbsp;</span>Борьба с дисбалансом</a></span><ul class=\"toc-item\"><li><span><a href=\"#Баласировка-классов\" data-toc-modified-id=\"Баласировка-классов-3.1\"><span class=\"toc-item-num\">3.1&nbsp;&nbsp;</span>Баласировка классов</a></span><ul class=\"toc-item\"><li><span><a href=\"#Дерево-решений\" data-toc-modified-id=\"Дерево-решений-3.1.1\"><span class=\"toc-item-num\">3.1.1&nbsp;&nbsp;</span>Дерево решений</a></span></li><li><span><a href=\"#Голосующее-дерево\" data-toc-modified-id=\"Голосующее-дерево-3.1.2\"><span class=\"toc-item-num\">3.1.2&nbsp;&nbsp;</span>Голосующее дерево</a></span></li><li><span><a href=\"#Случайный-лес\" data-toc-modified-id=\"Случайный-лес-3.1.3\"><span class=\"toc-item-num\">3.1.3&nbsp;&nbsp;</span>Случайный лес</a></span></li><li><span><a href=\"#Выводы\" data-toc-modified-id=\"Выводы-3.1.4\"><span class=\"toc-item-num\">3.1.4&nbsp;&nbsp;</span>Выводы</a></span></li></ul></li><li><span><a href=\"#Уменьшение-выборки\" data-toc-modified-id=\"Уменьшение-выборки-3.2\"><span class=\"toc-item-num\">3.2&nbsp;&nbsp;</span>Уменьшение выборки</a></span><ul class=\"toc-item\"><li><span><a href=\"#Дерево-решений\" data-toc-modified-id=\"Дерево-решений-3.2.1\"><span class=\"toc-item-num\">3.2.1&nbsp;&nbsp;</span>Дерево решений</a></span></li><li><span><a href=\"#Голосующее-дерево\" data-toc-modified-id=\"Голосующее-дерево-3.2.2\"><span class=\"toc-item-num\">3.2.2&nbsp;&nbsp;</span>Голосующее дерево</a></span></li><li><span><a href=\"#Случайный-лес\" data-toc-modified-id=\"Случайный-лес-3.2.3\"><span class=\"toc-item-num\">3.2.3&nbsp;&nbsp;</span>Случайный лес</a></span></li><li><span><a href=\"#Выводы\" data-toc-modified-id=\"Выводы-3.2.4\"><span class=\"toc-item-num\">3.2.4&nbsp;&nbsp;</span>Выводы</a></span></li></ul></li><li><span><a href=\"#Увеличение-выборки\" data-toc-modified-id=\"Увеличение-выборки-3.3\"><span class=\"toc-item-num\">3.3&nbsp;&nbsp;</span>Увеличение выборки</a></span><ul class=\"toc-item\"><li><span><a href=\"#Дерево-решений\" data-toc-modified-id=\"Дерево-решений-3.3.1\"><span class=\"toc-item-num\">3.3.1&nbsp;&nbsp;</span>Дерево решений</a></span></li><li><span><a href=\"#Голосующее-дерево\" data-toc-modified-id=\"Голосующее-дерево-3.3.2\"><span class=\"toc-item-num\">3.3.2&nbsp;&nbsp;</span>Голосующее дерево</a></span></li><li><span><a href=\"#Случайный-лес\" data-toc-modified-id=\"Случайный-лес-3.3.3\"><span class=\"toc-item-num\">3.3.3&nbsp;&nbsp;</span>Случайный лес</a></span></li><li><span><a href=\"#Выводы\" data-toc-modified-id=\"Выводы-3.3.4\"><span class=\"toc-item-num\">3.3.4&nbsp;&nbsp;</span>Выводы</a></span></li></ul></li><li><span><a href=\"#Выводы\" data-toc-modified-id=\"Выводы-3.4\"><span class=\"toc-item-num\">3.4&nbsp;&nbsp;</span>Выводы</a></span></li></ul></li><li><span><a href=\"#Тестирование-модели\" data-toc-modified-id=\"Тестирование-модели-4\"><span class=\"toc-item-num\">4&nbsp;&nbsp;</span>Тестирование модели</a></span></li><li><span><a href=\"#Вывод\" data-toc-modified-id=\"Вывод-5\"><span class=\"toc-item-num\">5&nbsp;&nbsp;</span>Вывод</a></span></li></ul></div>"
   ]
  },
  {
   "cell_type": "markdown",
   "metadata": {},
   "source": [
    "# Отток клиентов"
   ]
  },
  {
   "cell_type": "markdown",
   "metadata": {},
   "source": [
    "Из «Бета-Банка» стали уходить клиенты. Каждый месяц. Немного, но заметно. Банковские маркетологи посчитали: сохранять текущих клиентов дешевле, чем привлекать новых.\n",
    "\n",
    "Нужно спрогнозировать, уйдёт клиент из банка в ближайшее время или нет. Вам предоставлены исторические данные о поведении клиентов и расторжении договоров с банком. \n",
    "\n",
    "Постройте модель с предельно большим значением *F1*-меры. Чтобы сдать проект успешно, нужно довести метрику до 0.59. Проверьте *F1*-меру на тестовой выборке самостоятельно.\n",
    "\n",
    "Дополнительно измеряйте *AUC-ROC*, сравнивайте её значение с *F1*-мерой.\n",
    "\n",
    "Источник данных: [https://www.kaggle.com/barelydedicated/bank-customer-churn-modeling](https://www.kaggle.com/barelydedicated/bank-customer-churn-modeling)"
   ]
  },
  {
   "cell_type": "markdown",
   "metadata": {},
   "source": [
    "<font color=\"green\">✔️ Комментарий ревьювера   \n",
    "Хорошо, что ты приводишь описание проекта и имеющихся данных.</font>\n"
   ]
  },
  {
   "cell_type": "code",
   "execution_count": 1,
   "metadata": {},
   "outputs": [],
   "source": [
    "import pandas as pd\n",
    "import matplotlib.pyplot as plt\n",
    "from sklearn.model_selection import train_test_split, GridSearchCV\n",
    "from sklearn.tree import DecisionTreeClassifier\n",
    "from sklearn.ensemble import RandomForestClassifier, VotingClassifier, RandomForestClassifier\n",
    "from sklearn.dummy import DummyClassifier\n",
    "from sklearn.linear_model import RidgeClassifier, LogisticRegression\n",
    "from sklearn.metrics import roc_auc_score, f1_score, precision_score, recall_score, roc_curve, auc\n",
    "from sklearn.naive_bayes import GaussianNB\n",
    "from sklearn.preprocessing import OrdinalEncoder, StandardScaler\n",
    "from sklearn.neighbors import KNeighborsRegressor\n",
    "from sklearn.utils import shuffle\n",
    "from matplotlib import pyplot as plt\n",
    "import numpy as np\n",
    "import warnings\n",
    "\n",
    "\n",
    "\n",
    "warnings.filterwarnings(\"ignore\")\n",
    "pd.options.mode.chained_assignment = None\n",
    "\n",
    "df = pd.read_csv('/datasets/Churn.csv')"
   ]
  },
  {
   "cell_type": "markdown",
   "metadata": {},
   "source": [
    "## Подготовка данных"
   ]
  },
  {
   "cell_type": "markdown",
   "metadata": {},
   "source": [
    "### Анализ основных данных"
   ]
  },
  {
   "cell_type": "code",
   "execution_count": 2,
   "metadata": {
    "scrolled": true
   },
   "outputs": [
    {
     "name": "stdout",
     "output_type": "stream",
     "text": [
      "<class 'pandas.core.frame.DataFrame'>\n",
      "RangeIndex: 10000 entries, 0 to 9999\n",
      "Data columns (total 14 columns):\n",
      " #   Column           Non-Null Count  Dtype  \n",
      "---  ------           --------------  -----  \n",
      " 0   RowNumber        10000 non-null  int64  \n",
      " 1   CustomerId       10000 non-null  int64  \n",
      " 2   Surname          10000 non-null  object \n",
      " 3   CreditScore      10000 non-null  int64  \n",
      " 4   Geography        10000 non-null  object \n",
      " 5   Gender           10000 non-null  object \n",
      " 6   Age              10000 non-null  int64  \n",
      " 7   Tenure           9091 non-null   float64\n",
      " 8   Balance          10000 non-null  float64\n",
      " 9   NumOfProducts    10000 non-null  int64  \n",
      " 10  HasCrCard        10000 non-null  int64  \n",
      " 11  IsActiveMember   10000 non-null  int64  \n",
      " 12  EstimatedSalary  10000 non-null  float64\n",
      " 13  Exited           10000 non-null  int64  \n",
      "dtypes: float64(3), int64(8), object(3)\n",
      "memory usage: 1.1+ MB\n"
     ]
    },
    {
     "data": {
      "text/plain": [
       "None"
      ]
     },
     "metadata": {},
     "output_type": "display_data"
    },
    {
     "data": {
      "text/plain": [
       "'===================================================================================================='"
      ]
     },
     "metadata": {},
     "output_type": "display_data"
    },
    {
     "data": {
      "text/html": [
       "<div>\n",
       "<style scoped>\n",
       "    .dataframe tbody tr th:only-of-type {\n",
       "        vertical-align: middle;\n",
       "    }\n",
       "\n",
       "    .dataframe tbody tr th {\n",
       "        vertical-align: top;\n",
       "    }\n",
       "\n",
       "    .dataframe thead th {\n",
       "        text-align: right;\n",
       "    }\n",
       "</style>\n",
       "<table border=\"1\" class=\"dataframe\">\n",
       "  <thead>\n",
       "    <tr style=\"text-align: right;\">\n",
       "      <th></th>\n",
       "      <th>RowNumber</th>\n",
       "      <th>CustomerId</th>\n",
       "      <th>Surname</th>\n",
       "      <th>CreditScore</th>\n",
       "      <th>Geography</th>\n",
       "      <th>Gender</th>\n",
       "      <th>Age</th>\n",
       "      <th>Tenure</th>\n",
       "      <th>Balance</th>\n",
       "      <th>NumOfProducts</th>\n",
       "      <th>HasCrCard</th>\n",
       "      <th>IsActiveMember</th>\n",
       "      <th>EstimatedSalary</th>\n",
       "      <th>Exited</th>\n",
       "    </tr>\n",
       "  </thead>\n",
       "  <tbody>\n",
       "    <tr>\n",
       "      <th>0</th>\n",
       "      <td>1</td>\n",
       "      <td>15634602</td>\n",
       "      <td>Hargrave</td>\n",
       "      <td>619</td>\n",
       "      <td>France</td>\n",
       "      <td>Female</td>\n",
       "      <td>42</td>\n",
       "      <td>2.0</td>\n",
       "      <td>0.00</td>\n",
       "      <td>1</td>\n",
       "      <td>1</td>\n",
       "      <td>1</td>\n",
       "      <td>101348.88</td>\n",
       "      <td>1</td>\n",
       "    </tr>\n",
       "    <tr>\n",
       "      <th>1</th>\n",
       "      <td>2</td>\n",
       "      <td>15647311</td>\n",
       "      <td>Hill</td>\n",
       "      <td>608</td>\n",
       "      <td>Spain</td>\n",
       "      <td>Female</td>\n",
       "      <td>41</td>\n",
       "      <td>1.0</td>\n",
       "      <td>83807.86</td>\n",
       "      <td>1</td>\n",
       "      <td>0</td>\n",
       "      <td>1</td>\n",
       "      <td>112542.58</td>\n",
       "      <td>0</td>\n",
       "    </tr>\n",
       "    <tr>\n",
       "      <th>2</th>\n",
       "      <td>3</td>\n",
       "      <td>15619304</td>\n",
       "      <td>Onio</td>\n",
       "      <td>502</td>\n",
       "      <td>France</td>\n",
       "      <td>Female</td>\n",
       "      <td>42</td>\n",
       "      <td>8.0</td>\n",
       "      <td>159660.80</td>\n",
       "      <td>3</td>\n",
       "      <td>1</td>\n",
       "      <td>0</td>\n",
       "      <td>113931.57</td>\n",
       "      <td>1</td>\n",
       "    </tr>\n",
       "    <tr>\n",
       "      <th>3</th>\n",
       "      <td>4</td>\n",
       "      <td>15701354</td>\n",
       "      <td>Boni</td>\n",
       "      <td>699</td>\n",
       "      <td>France</td>\n",
       "      <td>Female</td>\n",
       "      <td>39</td>\n",
       "      <td>1.0</td>\n",
       "      <td>0.00</td>\n",
       "      <td>2</td>\n",
       "      <td>0</td>\n",
       "      <td>0</td>\n",
       "      <td>93826.63</td>\n",
       "      <td>0</td>\n",
       "    </tr>\n",
       "    <tr>\n",
       "      <th>4</th>\n",
       "      <td>5</td>\n",
       "      <td>15737888</td>\n",
       "      <td>Mitchell</td>\n",
       "      <td>850</td>\n",
       "      <td>Spain</td>\n",
       "      <td>Female</td>\n",
       "      <td>43</td>\n",
       "      <td>2.0</td>\n",
       "      <td>125510.82</td>\n",
       "      <td>1</td>\n",
       "      <td>1</td>\n",
       "      <td>1</td>\n",
       "      <td>79084.10</td>\n",
       "      <td>0</td>\n",
       "    </tr>\n",
       "    <tr>\n",
       "      <th>5</th>\n",
       "      <td>6</td>\n",
       "      <td>15574012</td>\n",
       "      <td>Chu</td>\n",
       "      <td>645</td>\n",
       "      <td>Spain</td>\n",
       "      <td>Male</td>\n",
       "      <td>44</td>\n",
       "      <td>8.0</td>\n",
       "      <td>113755.78</td>\n",
       "      <td>2</td>\n",
       "      <td>1</td>\n",
       "      <td>0</td>\n",
       "      <td>149756.71</td>\n",
       "      <td>1</td>\n",
       "    </tr>\n",
       "    <tr>\n",
       "      <th>6</th>\n",
       "      <td>7</td>\n",
       "      <td>15592531</td>\n",
       "      <td>Bartlett</td>\n",
       "      <td>822</td>\n",
       "      <td>France</td>\n",
       "      <td>Male</td>\n",
       "      <td>50</td>\n",
       "      <td>7.0</td>\n",
       "      <td>0.00</td>\n",
       "      <td>2</td>\n",
       "      <td>1</td>\n",
       "      <td>1</td>\n",
       "      <td>10062.80</td>\n",
       "      <td>0</td>\n",
       "    </tr>\n",
       "    <tr>\n",
       "      <th>7</th>\n",
       "      <td>8</td>\n",
       "      <td>15656148</td>\n",
       "      <td>Obinna</td>\n",
       "      <td>376</td>\n",
       "      <td>Germany</td>\n",
       "      <td>Female</td>\n",
       "      <td>29</td>\n",
       "      <td>4.0</td>\n",
       "      <td>115046.74</td>\n",
       "      <td>4</td>\n",
       "      <td>1</td>\n",
       "      <td>0</td>\n",
       "      <td>119346.88</td>\n",
       "      <td>1</td>\n",
       "    </tr>\n",
       "    <tr>\n",
       "      <th>8</th>\n",
       "      <td>9</td>\n",
       "      <td>15792365</td>\n",
       "      <td>He</td>\n",
       "      <td>501</td>\n",
       "      <td>France</td>\n",
       "      <td>Male</td>\n",
       "      <td>44</td>\n",
       "      <td>4.0</td>\n",
       "      <td>142051.07</td>\n",
       "      <td>2</td>\n",
       "      <td>0</td>\n",
       "      <td>1</td>\n",
       "      <td>74940.50</td>\n",
       "      <td>0</td>\n",
       "    </tr>\n",
       "    <tr>\n",
       "      <th>9</th>\n",
       "      <td>10</td>\n",
       "      <td>15592389</td>\n",
       "      <td>H?</td>\n",
       "      <td>684</td>\n",
       "      <td>France</td>\n",
       "      <td>Male</td>\n",
       "      <td>27</td>\n",
       "      <td>2.0</td>\n",
       "      <td>134603.88</td>\n",
       "      <td>1</td>\n",
       "      <td>1</td>\n",
       "      <td>1</td>\n",
       "      <td>71725.73</td>\n",
       "      <td>0</td>\n",
       "    </tr>\n",
       "  </tbody>\n",
       "</table>\n",
       "</div>"
      ],
      "text/plain": [
       "   RowNumber  CustomerId   Surname  CreditScore Geography  Gender  Age  \\\n",
       "0          1    15634602  Hargrave          619    France  Female   42   \n",
       "1          2    15647311      Hill          608     Spain  Female   41   \n",
       "2          3    15619304      Onio          502    France  Female   42   \n",
       "3          4    15701354      Boni          699    France  Female   39   \n",
       "4          5    15737888  Mitchell          850     Spain  Female   43   \n",
       "5          6    15574012       Chu          645     Spain    Male   44   \n",
       "6          7    15592531  Bartlett          822    France    Male   50   \n",
       "7          8    15656148    Obinna          376   Germany  Female   29   \n",
       "8          9    15792365        He          501    France    Male   44   \n",
       "9         10    15592389        H?          684    France    Male   27   \n",
       "\n",
       "   Tenure    Balance  NumOfProducts  HasCrCard  IsActiveMember  \\\n",
       "0     2.0       0.00              1          1               1   \n",
       "1     1.0   83807.86              1          0               1   \n",
       "2     8.0  159660.80              3          1               0   \n",
       "3     1.0       0.00              2          0               0   \n",
       "4     2.0  125510.82              1          1               1   \n",
       "5     8.0  113755.78              2          1               0   \n",
       "6     7.0       0.00              2          1               1   \n",
       "7     4.0  115046.74              4          1               0   \n",
       "8     4.0  142051.07              2          0               1   \n",
       "9     2.0  134603.88              1          1               1   \n",
       "\n",
       "   EstimatedSalary  Exited  \n",
       "0        101348.88       1  \n",
       "1        112542.58       0  \n",
       "2        113931.57       1  \n",
       "3         93826.63       0  \n",
       "4         79084.10       0  \n",
       "5        149756.71       1  \n",
       "6         10062.80       0  \n",
       "7        119346.88       1  \n",
       "8         74940.50       0  \n",
       "9         71725.73       0  "
      ]
     },
     "metadata": {},
     "output_type": "display_data"
    },
    {
     "data": {
      "text/plain": [
       "'===================================================================================================='"
      ]
     },
     "metadata": {},
     "output_type": "display_data"
    },
    {
     "data": {
      "text/html": [
       "<div>\n",
       "<style scoped>\n",
       "    .dataframe tbody tr th:only-of-type {\n",
       "        vertical-align: middle;\n",
       "    }\n",
       "\n",
       "    .dataframe tbody tr th {\n",
       "        vertical-align: top;\n",
       "    }\n",
       "\n",
       "    .dataframe thead th {\n",
       "        text-align: right;\n",
       "    }\n",
       "</style>\n",
       "<table border=\"1\" class=\"dataframe\">\n",
       "  <thead>\n",
       "    <tr style=\"text-align: right;\">\n",
       "      <th></th>\n",
       "      <th>RowNumber</th>\n",
       "      <th>CustomerId</th>\n",
       "      <th>CreditScore</th>\n",
       "      <th>Age</th>\n",
       "      <th>Tenure</th>\n",
       "      <th>Balance</th>\n",
       "      <th>NumOfProducts</th>\n",
       "      <th>HasCrCard</th>\n",
       "      <th>IsActiveMember</th>\n",
       "      <th>EstimatedSalary</th>\n",
       "      <th>Exited</th>\n",
       "    </tr>\n",
       "  </thead>\n",
       "  <tbody>\n",
       "    <tr>\n",
       "      <th>count</th>\n",
       "      <td>10000.00000</td>\n",
       "      <td>1.000000e+04</td>\n",
       "      <td>10000.000000</td>\n",
       "      <td>10000.000000</td>\n",
       "      <td>9091.000000</td>\n",
       "      <td>10000.000000</td>\n",
       "      <td>10000.000000</td>\n",
       "      <td>10000.00000</td>\n",
       "      <td>10000.000000</td>\n",
       "      <td>10000.000000</td>\n",
       "      <td>10000.000000</td>\n",
       "    </tr>\n",
       "    <tr>\n",
       "      <th>mean</th>\n",
       "      <td>5000.50000</td>\n",
       "      <td>1.569094e+07</td>\n",
       "      <td>650.528800</td>\n",
       "      <td>38.921800</td>\n",
       "      <td>4.997690</td>\n",
       "      <td>76485.889288</td>\n",
       "      <td>1.530200</td>\n",
       "      <td>0.70550</td>\n",
       "      <td>0.515100</td>\n",
       "      <td>100090.239881</td>\n",
       "      <td>0.203700</td>\n",
       "    </tr>\n",
       "    <tr>\n",
       "      <th>std</th>\n",
       "      <td>2886.89568</td>\n",
       "      <td>7.193619e+04</td>\n",
       "      <td>96.653299</td>\n",
       "      <td>10.487806</td>\n",
       "      <td>2.894723</td>\n",
       "      <td>62397.405202</td>\n",
       "      <td>0.581654</td>\n",
       "      <td>0.45584</td>\n",
       "      <td>0.499797</td>\n",
       "      <td>57510.492818</td>\n",
       "      <td>0.402769</td>\n",
       "    </tr>\n",
       "    <tr>\n",
       "      <th>min</th>\n",
       "      <td>1.00000</td>\n",
       "      <td>1.556570e+07</td>\n",
       "      <td>350.000000</td>\n",
       "      <td>18.000000</td>\n",
       "      <td>0.000000</td>\n",
       "      <td>0.000000</td>\n",
       "      <td>1.000000</td>\n",
       "      <td>0.00000</td>\n",
       "      <td>0.000000</td>\n",
       "      <td>11.580000</td>\n",
       "      <td>0.000000</td>\n",
       "    </tr>\n",
       "    <tr>\n",
       "      <th>25%</th>\n",
       "      <td>2500.75000</td>\n",
       "      <td>1.562853e+07</td>\n",
       "      <td>584.000000</td>\n",
       "      <td>32.000000</td>\n",
       "      <td>2.000000</td>\n",
       "      <td>0.000000</td>\n",
       "      <td>1.000000</td>\n",
       "      <td>0.00000</td>\n",
       "      <td>0.000000</td>\n",
       "      <td>51002.110000</td>\n",
       "      <td>0.000000</td>\n",
       "    </tr>\n",
       "    <tr>\n",
       "      <th>50%</th>\n",
       "      <td>5000.50000</td>\n",
       "      <td>1.569074e+07</td>\n",
       "      <td>652.000000</td>\n",
       "      <td>37.000000</td>\n",
       "      <td>5.000000</td>\n",
       "      <td>97198.540000</td>\n",
       "      <td>1.000000</td>\n",
       "      <td>1.00000</td>\n",
       "      <td>1.000000</td>\n",
       "      <td>100193.915000</td>\n",
       "      <td>0.000000</td>\n",
       "    </tr>\n",
       "    <tr>\n",
       "      <th>75%</th>\n",
       "      <td>7500.25000</td>\n",
       "      <td>1.575323e+07</td>\n",
       "      <td>718.000000</td>\n",
       "      <td>44.000000</td>\n",
       "      <td>7.000000</td>\n",
       "      <td>127644.240000</td>\n",
       "      <td>2.000000</td>\n",
       "      <td>1.00000</td>\n",
       "      <td>1.000000</td>\n",
       "      <td>149388.247500</td>\n",
       "      <td>0.000000</td>\n",
       "    </tr>\n",
       "    <tr>\n",
       "      <th>max</th>\n",
       "      <td>10000.00000</td>\n",
       "      <td>1.581569e+07</td>\n",
       "      <td>850.000000</td>\n",
       "      <td>92.000000</td>\n",
       "      <td>10.000000</td>\n",
       "      <td>250898.090000</td>\n",
       "      <td>4.000000</td>\n",
       "      <td>1.00000</td>\n",
       "      <td>1.000000</td>\n",
       "      <td>199992.480000</td>\n",
       "      <td>1.000000</td>\n",
       "    </tr>\n",
       "  </tbody>\n",
       "</table>\n",
       "</div>"
      ],
      "text/plain": [
       "         RowNumber    CustomerId   CreditScore           Age       Tenure  \\\n",
       "count  10000.00000  1.000000e+04  10000.000000  10000.000000  9091.000000   \n",
       "mean    5000.50000  1.569094e+07    650.528800     38.921800     4.997690   \n",
       "std     2886.89568  7.193619e+04     96.653299     10.487806     2.894723   \n",
       "min        1.00000  1.556570e+07    350.000000     18.000000     0.000000   \n",
       "25%     2500.75000  1.562853e+07    584.000000     32.000000     2.000000   \n",
       "50%     5000.50000  1.569074e+07    652.000000     37.000000     5.000000   \n",
       "75%     7500.25000  1.575323e+07    718.000000     44.000000     7.000000   \n",
       "max    10000.00000  1.581569e+07    850.000000     92.000000    10.000000   \n",
       "\n",
       "             Balance  NumOfProducts    HasCrCard  IsActiveMember  \\\n",
       "count   10000.000000   10000.000000  10000.00000    10000.000000   \n",
       "mean    76485.889288       1.530200      0.70550        0.515100   \n",
       "std     62397.405202       0.581654      0.45584        0.499797   \n",
       "min         0.000000       1.000000      0.00000        0.000000   \n",
       "25%         0.000000       1.000000      0.00000        0.000000   \n",
       "50%     97198.540000       1.000000      1.00000        1.000000   \n",
       "75%    127644.240000       2.000000      1.00000        1.000000   \n",
       "max    250898.090000       4.000000      1.00000        1.000000   \n",
       "\n",
       "       EstimatedSalary        Exited  \n",
       "count     10000.000000  10000.000000  \n",
       "mean     100090.239881      0.203700  \n",
       "std       57510.492818      0.402769  \n",
       "min          11.580000      0.000000  \n",
       "25%       51002.110000      0.000000  \n",
       "50%      100193.915000      0.000000  \n",
       "75%      149388.247500      0.000000  \n",
       "max      199992.480000      1.000000  "
      ]
     },
     "metadata": {},
     "output_type": "display_data"
    },
    {
     "data": {
      "text/plain": [
       "'===================================================================================================='"
      ]
     },
     "metadata": {},
     "output_type": "display_data"
    },
    {
     "data": {
      "text/plain": [
       "Index(['RowNumber', 'CustomerId', 'Surname', 'CreditScore', 'Geography',\n",
       "       'Gender', 'Age', 'Tenure', 'Balance', 'NumOfProducts', 'HasCrCard',\n",
       "       'IsActiveMember', 'EstimatedSalary', 'Exited'],\n",
       "      dtype='object')"
      ]
     },
     "metadata": {},
     "output_type": "display_data"
    },
    {
     "data": {
      "text/plain": [
       "'===================================================================================================='"
      ]
     },
     "metadata": {},
     "output_type": "display_data"
    },
    {
     "data": {
      "text/plain": [
       "RowNumber            0\n",
       "CustomerId           0\n",
       "Surname              0\n",
       "CreditScore          0\n",
       "Geography            0\n",
       "Gender               0\n",
       "Age                  0\n",
       "Tenure             909\n",
       "Balance              0\n",
       "NumOfProducts        0\n",
       "HasCrCard            0\n",
       "IsActiveMember       0\n",
       "EstimatedSalary      0\n",
       "Exited               0\n",
       "dtype: int64"
      ]
     },
     "metadata": {},
     "output_type": "display_data"
    }
   ],
   "source": [
    "# посмотри сводную информацию о наборе данных\n",
    "display(df.info())\n",
    "display(100*'=')\n",
    "display(df.head(10))\n",
    "display(100*'=')\n",
    "display(df.describe())\n",
    "display(100*'=')\n",
    "display(df.columns)\n",
    "display(100*'=')\n",
    "display(df.isna().sum())"
   ]
  },
  {
   "cell_type": "markdown",
   "metadata": {},
   "source": [
    "### Выводы"
   ]
  },
  {
   "cell_type": "markdown",
   "metadata": {},
   "source": [
    "В предоставленном наборе данных содержится 10к записей, все колонки проименованы корректны, все типы определены корректно. Визаульно и аналитически погрешнойстей в данных не выявлено. В наборе содержится 909 строк для которых не определен срок членства клиента, необходимо уточнить у аналитиков, почему и как можно заменить."
   ]
  },
  {
   "cell_type": "markdown",
   "metadata": {},
   "source": [
    "### Исправление проблем"
   ]
  },
  {
   "cell_type": "markdown",
   "metadata": {},
   "source": [
    "#### Удаление не информативных данных"
   ]
  },
  {
   "cell_type": "code",
   "execution_count": 3,
   "metadata": {},
   "outputs": [],
   "source": [
    "# Колонка с фамилией не является необходимой дла анализа, можно ее удалить\n",
    "df.drop(['Surname','RowNumber','CustomerId'],axis=1,inplace=True)"
   ]
  },
  {
   "cell_type": "markdown",
   "metadata": {},
   "source": [
    "Это ретроспективный подход, т.к. далее по эксперименту для не сбалансированого набора наилучший показатель был у Случайного леса, то эксперименты будем ставить на нем с найденными оптимальными параметрами."
   ]
  },
  {
   "cell_type": "code",
   "execution_count": 4,
   "metadata": {},
   "outputs": [],
   "source": [
    "table = []\n",
    "def add_best_values(model, features, target, table, property_name):\n",
    "    \n",
    "    features_train, features_valid, target_train, target_valid = train_test_split(\n",
    "                                    features, target, test_size=.60, random_state=12345)\n",
    "    \n",
    "    model.fit(features_train, target_train)\n",
    "    \n",
    "    predicted_valid = model.predict(features_valid)\n",
    "    predicted_valid = model.predict(features_valid)\n",
    "    probabilities_valid = model.predict_proba(features_valid)\n",
    "    probabilities_one_valid = probabilities_valid[:, 1]\n",
    "    table.append([property_name,\n",
    "                    model,\n",
    "                    f1_score(predicted_valid,target_valid), \n",
    "                    roc_auc_score(target_valid,probabilities_one_valid)]) "
   ]
  },
  {
   "cell_type": "markdown",
   "metadata": {},
   "source": [
    "#### Удаление сбойного набора"
   ]
  },
  {
   "cell_type": "code",
   "execution_count": 5,
   "metadata": {},
   "outputs": [
    {
     "name": "stdout",
     "output_type": "stream",
     "text": [
      "Fitting 2 folds for each of 1 candidates, totalling 2 fits\n"
     ]
    }
   ],
   "source": [
    "test_df = df.copy()\n",
    "test_df.drop(test_df[test_df['Tenure'].isna()==True].index, inplace=True)\n",
    "\n",
    "test_df.drop_duplicates(inplace=True)\n",
    "test_df.reset_index(drop=True, inplace=True)\n",
    "\n",
    "encoder = OrdinalEncoder() \n",
    "encoder.fit(test_df) \n",
    "\n",
    "test_df['Geography'] = pd.DataFrame(encoder.fit_transform(test_df), \n",
    "                                                      columns=test_df.columns)['Geography'].astype(int) \n",
    "test_df['Gender']    = pd.DataFrame(encoder.fit_transform(test_df), \n",
    "                                                      columns=test_df.columns)['Gender'].astype(int)\n",
    "\n",
    "features = test_df.drop(['Exited'], axis=1)\n",
    "target = test_df['Exited']\n",
    "\n",
    "rf_grid = {'criterion': ['gini'],\n",
    " 'max_depth': [35],\n",
    " 'max_features': ['auto'],\n",
    " 'n_estimators': [100],\n",
    " 'random_state': [12345]}\n",
    "\n",
    "model = GridSearchCV(RandomForestClassifier(), rf_grid, scoring = 'f1', cv=2, verbose=1)\n",
    "add_best_values(model, features, target, table, 'Delet dataset')\n",
    "test_df = ''"
   ]
  },
  {
   "cell_type": "markdown",
   "metadata": {},
   "source": [
    "#### Замена медианой"
   ]
  },
  {
   "cell_type": "code",
   "execution_count": 6,
   "metadata": {},
   "outputs": [
    {
     "name": "stdout",
     "output_type": "stream",
     "text": [
      "Fitting 2 folds for each of 1 candidates, totalling 2 fits\n"
     ]
    }
   ],
   "source": [
    "test_df = df.copy()\n",
    "test_df.loc[test_df['Tenure'].isna()==True,'Tenure'] = test_df['Tenure'].median()\n",
    "test_df.drop_duplicates(inplace=True)\n",
    "test_df.reset_index(drop=True, inplace=True)\n",
    "\n",
    "test_df['Geography'] = pd.DataFrame(encoder.fit_transform(test_df), \n",
    "                                                      columns=test_df.columns)['Geography'].astype(int) \n",
    "test_df['Gender']    = pd.DataFrame(encoder.fit_transform(test_df), \n",
    "                                                      columns=test_df.columns)['Gender'].astype(int)\n",
    "\n",
    "features = test_df.drop(['Exited'], axis=1)\n",
    "target = test_df['Exited']\n",
    "\n",
    "rf_grid = {'criterion': ['gini'],\n",
    " 'max_depth': [35],\n",
    " 'max_features': ['auto'],\n",
    " 'n_estimators': [100],\n",
    " 'random_state': [12345]}\n",
    "\n",
    "model = GridSearchCV(RandomForestClassifier(), rf_grid, scoring = 'f1', cv=2, verbose=1)\n",
    "add_best_values(model, features, target, table, 'Median')\n",
    "test_df = ''"
   ]
  },
  {
   "cell_type": "markdown",
   "metadata": {},
   "source": [
    "#### Замена нулем"
   ]
  },
  {
   "cell_type": "code",
   "execution_count": 7,
   "metadata": {},
   "outputs": [
    {
     "name": "stdout",
     "output_type": "stream",
     "text": [
      "Fitting 2 folds for each of 1 candidates, totalling 2 fits\n"
     ]
    }
   ],
   "source": [
    "test_df = df.copy()\n",
    "test_df.loc[test_df['Tenure'].isna()==True,'Tenure'] = 0\n",
    "test_df.drop_duplicates(inplace=True)\n",
    "test_df.reset_index(drop=True, inplace=True)\n",
    "\n",
    "test_df['Geography'] = pd.DataFrame(encoder.fit_transform(test_df), \n",
    "                                                      columns=test_df.columns)['Geography'].astype(int) \n",
    "test_df['Gender']    = pd.DataFrame(encoder.fit_transform(test_df), \n",
    "                                                      columns=test_df.columns)['Gender'].astype(int)\n",
    "\n",
    "features = test_df.drop(['Exited'], axis=1)\n",
    "target = test_df['Exited']\n",
    "\n",
    "rf_grid = {'criterion': ['gini'],\n",
    " 'max_depth': [35],\n",
    " 'max_features': ['auto'],\n",
    " 'n_estimators': [100],\n",
    " 'random_state': [12345]}\n",
    "\n",
    "model = GridSearchCV(RandomForestClassifier(), rf_grid, scoring = 'f1', cv=2, verbose=1)\n",
    "add_best_values(model, features, target, table, 'Zero')\n",
    "test_df = ''"
   ]
  },
  {
   "cell_type": "markdown",
   "metadata": {},
   "source": [
    "#### Вывод"
   ]
  },
  {
   "cell_type": "code",
   "execution_count": 8,
   "metadata": {},
   "outputs": [
    {
     "data": {
      "text/plain": [
       "[['Delet dataset',\n",
       "  GridSearchCV(cv=2, estimator=RandomForestClassifier(),\n",
       "               param_grid={'criterion': ['gini'], 'max_depth': [35],\n",
       "                           'max_features': ['auto'], 'n_estimators': [100],\n",
       "                           'random_state': [12345]},\n",
       "               scoring='f1', verbose=1),\n",
       "  0.5742120343839542,\n",
       "  0.849216918515218],\n",
       " ['Median',\n",
       "  GridSearchCV(cv=2, estimator=RandomForestClassifier(),\n",
       "               param_grid={'criterion': ['gini'], 'max_depth': [35],\n",
       "                           'max_features': ['auto'], 'n_estimators': [100],\n",
       "                           'random_state': [12345]},\n",
       "               scoring='f1', verbose=1),\n",
       "  0.5638903259182618,\n",
       "  0.8388200289777186],\n",
       " ['Zero',\n",
       "  GridSearchCV(cv=2, estimator=RandomForestClassifier(),\n",
       "               param_grid={'criterion': ['gini'], 'max_depth': [35],\n",
       "                           'max_features': ['auto'], 'n_estimators': [100],\n",
       "                           'random_state': [12345]},\n",
       "               scoring='f1', verbose=1),\n",
       "  0.5533678756476684,\n",
       "  0.8432856108312288]]"
      ]
     },
     "execution_count": 8,
     "metadata": {},
     "output_type": "execute_result"
    }
   ],
   "source": [
    "table"
   ]
  },
  {
   "cell_type": "markdown",
   "metadata": {},
   "source": [
    "Наибольший результат показало удаление части набора данных, применим его к всему набору данных"
   ]
  },
  {
   "cell_type": "code",
   "execution_count": 9,
   "metadata": {},
   "outputs": [],
   "source": [
    "df.drop(df[df['Tenure'].isna()==True].index, inplace=True)"
   ]
  },
  {
   "cell_type": "markdown",
   "metadata": {},
   "source": [
    "### Удаление явных дублей"
   ]
  },
  {
   "cell_type": "code",
   "execution_count": 10,
   "metadata": {},
   "outputs": [
    {
     "name": "stdout",
     "output_type": "stream",
     "text": [
      "<class 'pandas.core.frame.DataFrame'>\n",
      "RangeIndex: 9091 entries, 0 to 9090\n",
      "Data columns (total 11 columns):\n",
      " #   Column           Non-Null Count  Dtype  \n",
      "---  ------           --------------  -----  \n",
      " 0   CreditScore      9091 non-null   int64  \n",
      " 1   Geography        9091 non-null   object \n",
      " 2   Gender           9091 non-null   object \n",
      " 3   Age              9091 non-null   int64  \n",
      " 4   Tenure           9091 non-null   float64\n",
      " 5   Balance          9091 non-null   float64\n",
      " 6   NumOfProducts    9091 non-null   int64  \n",
      " 7   HasCrCard        9091 non-null   int64  \n",
      " 8   IsActiveMember   9091 non-null   int64  \n",
      " 9   EstimatedSalary  9091 non-null   float64\n",
      " 10  Exited           9091 non-null   int64  \n",
      "dtypes: float64(3), int64(6), object(2)\n",
      "memory usage: 781.4+ KB\n"
     ]
    }
   ],
   "source": [
    "df.drop_duplicates(inplace=True)\n",
    "df.reset_index(drop=True, inplace=True)\n",
    "df.info()"
   ]
  },
  {
   "cell_type": "markdown",
   "metadata": {},
   "source": [
    "### Вывод"
   ]
  },
  {
   "cell_type": "markdown",
   "metadata": {},
   "source": [
    "В исходном наборе данных были пропуске в данных о том сколько клиент является клиентом, хоть этот сегмент и является достаточно большим - 9%, им пришлось пожертвовать. Т.к. анализ показал, что это саммый эффективный вариант для последующего обучения модели. В остальном проблем в исходном наборе нет."
   ]
  },
  {
   "cell_type": "markdown",
   "metadata": {},
   "source": [
    "## Исследование задачи"
   ]
  },
  {
   "cell_type": "markdown",
   "metadata": {},
   "source": [
    "### Иследование баланса классов"
   ]
  },
  {
   "cell_type": "code",
   "execution_count": 11,
   "metadata": {},
   "outputs": [],
   "source": [
    "def print_hist_data(df, column):\n",
    "    display(df[column].hist())\n",
    "    plt.title(column)\n",
    "    plt.show() "
   ]
  },
  {
   "cell_type": "code",
   "execution_count": 12,
   "metadata": {},
   "outputs": [
    {
     "data": {
      "text/plain": [
       "<AxesSubplot:>"
      ]
     },
     "metadata": {},
     "output_type": "display_data"
    },
    {
     "data": {
      "image/png": "[encoded data removed]",
      "text/plain": [
       "<Figure size 432x288 with 1 Axes>"
      ]
     },
     "metadata": {
      "needs_background": "light"
     },
     "output_type": "display_data"
    },
    {
     "name": "stdout",
     "output_type": "stream",
     "text": [
      "Корреляция с целевым классом:  -0.02395030567315958\n"
     ]
    },
    {
     "data": {
      "text/plain": [
       "<AxesSubplot:>"
      ]
     },
     "metadata": {},
     "output_type": "display_data"
    },
    {
     "data": {
      "image/png": "[encoded data removed]",
      "text/plain": [
       "<Figure size 432x288 with 1 Axes>"
      ]
     },
     "metadata": {
      "needs_background": "light"
     },
     "output_type": "display_data"
    },
    {
     "data": {
      "text/plain": [
       "<AxesSubplot:>"
      ]
     },
     "metadata": {},
     "output_type": "display_data"
    },
    {
     "data": {
      "image/png": "[encoded data removed]",
      "text/plain": [
       "<Figure size 432x288 with 1 Axes>"
      ]
     },
     "metadata": {
      "needs_background": "light"
     },
     "output_type": "display_data"
    },
    {
     "data": {
      "text/plain": [
       "<AxesSubplot:>"
      ]
     },
     "metadata": {},
     "output_type": "display_data"
    },
    {
     "data": {
      "image/png": "[encoded data removed]",
      "text/plain": [
       "<Figure size 432x288 with 1 Axes>"
      ]
     },
     "metadata": {
      "needs_background": "light"
     },
     "output_type": "display_data"
    },
    {
     "name": "stdout",
     "output_type": "stream",
     "text": [
      "Корреляция с целевым классом:  0.28301730525777774\n"
     ]
    },
    {
     "data": {
      "text/plain": [
       "<AxesSubplot:>"
      ]
     },
     "metadata": {},
     "output_type": "display_data"
    },
    {
     "data": {
      "image/png": "[encoded data removed]",
      "text/plain": [
       "<Figure size 432x288 with 1 Axes>"
      ]
     },
     "metadata": {
      "needs_background": "light"
     },
     "output_type": "display_data"
    },
    {
     "name": "stdout",
     "output_type": "stream",
     "text": [
      "Корреляция с целевым классом:  -0.016761481514933764\n"
     ]
    },
    {
     "data": {
      "text/plain": [
       "<AxesSubplot:>"
      ]
     },
     "metadata": {},
     "output_type": "display_data"
    },
    {
     "data": {
      "image/png": "[encoded data removed]",
      "text/plain": [
       "<Figure size 432x288 with 1 Axes>"
      ]
     },
     "metadata": {
      "needs_background": "light"
     },
     "output_type": "display_data"
    },
    {
     "name": "stdout",
     "output_type": "stream",
     "text": [
      "Корреляция с целевым классом:  0.11721803660805591\n"
     ]
    },
    {
     "data": {
      "text/plain": [
       "<AxesSubplot:>"
      ]
     },
     "metadata": {},
     "output_type": "display_data"
    },
    {
     "data": {
      "image/png": "[encoded data removed]",
      "text/plain": [
       "<Figure size 432x288 with 1 Axes>"
      ]
     },
     "metadata": {
      "needs_background": "light"
     },
     "output_type": "display_data"
    },
    {
     "name": "stdout",
     "output_type": "stream",
     "text": [
      "Корреляция с целевым классом:  -0.050271039610549226\n"
     ]
    },
    {
     "data": {
      "text/plain": [
       "<AxesSubplot:>"
      ]
     },
     "metadata": {},
     "output_type": "display_data"
    },
    {
     "data": {
      "image/png": "[encoded data removed]",
      "text/plain": [
       "<Figure size 432x288 with 1 Axes>"
      ]
     },
     "metadata": {
      "needs_background": "light"
     },
     "output_type": "display_data"
    },
    {
     "name": "stdout",
     "output_type": "stream",
     "text": [
      "Корреляция с целевым классом:  -0.00541058273599278\n"
     ]
    },
    {
     "data": {
      "text/plain": [
       "<AxesSubplot:>"
      ]
     },
     "metadata": {},
     "output_type": "display_data"
    },
    {
     "data": {
      "image/png": "[encoded data removed]",
      "text/plain": [
       "<Figure size 432x288 with 1 Axes>"
      ]
     },
     "metadata": {
      "needs_background": "light"
     },
     "output_type": "display_data"
    },
    {
     "name": "stdout",
     "output_type": "stream",
     "text": [
      "Корреляция с целевым классом:  -0.15506233587670484\n"
     ]
    },
    {
     "data": {
      "text/plain": [
       "<AxesSubplot:>"
      ]
     },
     "metadata": {},
     "output_type": "display_data"
    },
    {
     "data": {
      "image/png": "[encoded data removed]",
      "text/plain": [
       "<Figure size 432x288 with 1 Axes>"
      ]
     },
     "metadata": {
      "needs_background": "light"
     },
     "output_type": "display_data"
    },
    {
     "name": "stdout",
     "output_type": "stream",
     "text": [
      "Корреляция с целевым классом:  0.016029490017945416\n"
     ]
    },
    {
     "data": {
      "text/plain": [
       "<AxesSubplot:>"
      ]
     },
     "metadata": {},
     "output_type": "display_data"
    },
    {
     "data": {
      "image/png": "[encoded data removed]",
      "text/plain": [
       "<Figure size 432x288 with 1 Axes>"
      ]
     },
     "metadata": {
      "needs_background": "light"
     },
     "output_type": "display_data"
    },
    {
     "name": "stdout",
     "output_type": "stream",
     "text": [
      "Корреляция с целевым классом:  1.0\n"
     ]
    }
   ],
   "source": [
    "columns_list = (['CreditScore', 'Geography',\n",
    "       'Gender', 'Age', 'Tenure', 'Balance', 'NumOfProducts', 'HasCrCard',\n",
    "       'IsActiveMember', 'EstimatedSalary', 'Exited'])\n",
    "\n",
    "for column in columns_list:\n",
    "    print_hist_data(df, column)\n",
    "    try:\n",
    "        print('Корреляция с целевым классом: ',df[column].corr(df['Exited']))\n",
    "    except:\n",
    "        ''"
   ]
  },
  {
   "cell_type": "markdown",
   "metadata": {},
   "source": [
    "### Выводы"
   ]
  },
  {
   "cell_type": "markdown",
   "metadata": {},
   "source": [
    "Практически во всех классах, наблюдается дисбаланс классов, кроме ожидаемой зарплаты и активных пользователей, явной корреляции с целевым классом не выявлено."
   ]
  },
  {
   "cell_type": "markdown",
   "metadata": {},
   "source": [
    "### Кодирование данных"
   ]
  },
  {
   "cell_type": "code",
   "execution_count": 13,
   "metadata": {},
   "outputs": [
    {
     "name": "stdout",
     "output_type": "stream",
     "text": [
      "<class 'pandas.core.frame.DataFrame'>\n",
      "RangeIndex: 9091 entries, 0 to 9090\n",
      "Data columns (total 11 columns):\n",
      " #   Column           Non-Null Count  Dtype  \n",
      "---  ------           --------------  -----  \n",
      " 0   CreditScore      9091 non-null   int64  \n",
      " 1   Geography        9091 non-null   int64  \n",
      " 2   Gender           9091 non-null   int64  \n",
      " 3   Age              9091 non-null   int64  \n",
      " 4   Tenure           9091 non-null   float64\n",
      " 5   Balance          9091 non-null   float64\n",
      " 6   NumOfProducts    9091 non-null   int64  \n",
      " 7   HasCrCard        9091 non-null   int64  \n",
      " 8   IsActiveMember   9091 non-null   int64  \n",
      " 9   EstimatedSalary  9091 non-null   float64\n",
      " 10  Exited           9091 non-null   int64  \n",
      "dtypes: float64(3), int64(8)\n",
      "memory usage: 781.4 KB\n"
     ]
    }
   ],
   "source": [
    "encoder = OrdinalEncoder() \n",
    "encoder.fit(df) \n",
    "\n",
    "df['Geography'] = pd.DataFrame(encoder.fit_transform(df), \n",
    "                                                      columns=df.columns)['Geography'].astype(int) \n",
    "df['Gender'] = pd.DataFrame(encoder.fit_transform(df), \n",
    "                                                      columns=df.columns)['Gender'].astype(int)\n",
    "df.info(10)"
   ]
  },
  {
   "cell_type": "markdown",
   "metadata": {},
   "source": [
    "### Разделение данных"
   ]
  },
  {
   "cell_type": "code",
   "execution_count": 14,
   "metadata": {},
   "outputs": [
    {
     "name": "stdout",
     "output_type": "stream",
     "text": [
      "(5454, 10) (5454,)\n",
      "(1819, 10) (1819,)\n",
      "(1818, 10) (1818,)\n"
     ]
    }
   ],
   "source": [
    "features = df.drop(['Exited'], axis=1)\n",
    "target = df['Exited']\n",
    "\n",
    "features_train, features_valid, target_train, target_valid = train_test_split(\n",
    "    features, target, stratify=target, test_size=.40, random_state=12345)\n",
    "\n",
    "features_test, features_valid, target_test, target_valid = train_test_split(\n",
    "    features_valid, target_valid, stratify=target_valid, test_size=.50, random_state=12345)\n",
    "\n",
    "print(features_train.shape,target_train.shape)\n",
    "print(features_valid.shape,target_valid.shape)\n",
    "print(features_test.shape,target_test.shape)"
   ]
  },
  {
   "cell_type": "markdown",
   "metadata": {},
   "source": [
    "### Масштабирование данных"
   ]
  },
  {
   "cell_type": "code",
   "execution_count": 15,
   "metadata": {},
   "outputs": [
    {
     "data": {
      "text/html": [
       "<div>\n",
       "<style scoped>\n",
       "    .dataframe tbody tr th:only-of-type {\n",
       "        vertical-align: middle;\n",
       "    }\n",
       "\n",
       "    .dataframe tbody tr th {\n",
       "        vertical-align: top;\n",
       "    }\n",
       "\n",
       "    .dataframe thead th {\n",
       "        text-align: right;\n",
       "    }\n",
       "</style>\n",
       "<table border=\"1\" class=\"dataframe\">\n",
       "  <thead>\n",
       "    <tr style=\"text-align: right;\">\n",
       "      <th></th>\n",
       "      <th>CreditScore</th>\n",
       "      <th>Geography</th>\n",
       "      <th>Gender</th>\n",
       "      <th>Age</th>\n",
       "      <th>Tenure</th>\n",
       "      <th>Balance</th>\n",
       "      <th>NumOfProducts</th>\n",
       "      <th>HasCrCard</th>\n",
       "      <th>IsActiveMember</th>\n",
       "      <th>EstimatedSalary</th>\n",
       "    </tr>\n",
       "  </thead>\n",
       "  <tbody>\n",
       "    <tr>\n",
       "      <th>8837</th>\n",
       "      <td>-1.292898</td>\n",
       "      <td>-0.918068</td>\n",
       "      <td>1</td>\n",
       "      <td>-0.660843</td>\n",
       "      <td>0.686341</td>\n",
       "      <td>0.786636</td>\n",
       "      <td>-0.910943</td>\n",
       "      <td>0</td>\n",
       "      <td>0</td>\n",
       "      <td>-0.223548</td>\n",
       "    </tr>\n",
       "    <tr>\n",
       "      <th>1090</th>\n",
       "      <td>-1.563714</td>\n",
       "      <td>1.485169</td>\n",
       "      <td>0</td>\n",
       "      <td>0.778434</td>\n",
       "      <td>1.034232</td>\n",
       "      <td>0.833795</td>\n",
       "      <td>-0.910943</td>\n",
       "      <td>1</td>\n",
       "      <td>0</td>\n",
       "      <td>1.383021</td>\n",
       "    </tr>\n",
       "    <tr>\n",
       "      <th>7609</th>\n",
       "      <td>1.581914</td>\n",
       "      <td>1.485169</td>\n",
       "      <td>1</td>\n",
       "      <td>0.106771</td>\n",
       "      <td>-0.357331</td>\n",
       "      <td>-1.222967</td>\n",
       "      <td>0.789359</td>\n",
       "      <td>1</td>\n",
       "      <td>1</td>\n",
       "      <td>-0.308331</td>\n",
       "    </tr>\n",
       "    <tr>\n",
       "      <th>7279</th>\n",
       "      <td>0.842379</td>\n",
       "      <td>1.485169</td>\n",
       "      <td>0</td>\n",
       "      <td>0.010820</td>\n",
       "      <td>-1.053112</td>\n",
       "      <td>0.807063</td>\n",
       "      <td>-0.910943</td>\n",
       "      <td>1</td>\n",
       "      <td>1</td>\n",
       "      <td>-0.430980</td>\n",
       "    </tr>\n",
       "    <tr>\n",
       "      <th>2245</th>\n",
       "      <td>-0.397123</td>\n",
       "      <td>1.485169</td>\n",
       "      <td>0</td>\n",
       "      <td>-1.236554</td>\n",
       "      <td>-0.357331</td>\n",
       "      <td>-1.222967</td>\n",
       "      <td>0.789359</td>\n",
       "      <td>1</td>\n",
       "      <td>1</td>\n",
       "      <td>1.392642</td>\n",
       "    </tr>\n",
       "    <tr>\n",
       "      <th>2290</th>\n",
       "      <td>-1.042914</td>\n",
       "      <td>0.283550</td>\n",
       "      <td>0</td>\n",
       "      <td>0.586530</td>\n",
       "      <td>1.034232</td>\n",
       "      <td>0.558007</td>\n",
       "      <td>-0.910943</td>\n",
       "      <td>0</td>\n",
       "      <td>0</td>\n",
       "      <td>-0.035207</td>\n",
       "    </tr>\n",
       "    <tr>\n",
       "      <th>2027</th>\n",
       "      <td>-1.407474</td>\n",
       "      <td>-0.918068</td>\n",
       "      <td>0</td>\n",
       "      <td>2.601518</td>\n",
       "      <td>0.338450</td>\n",
       "      <td>-1.222967</td>\n",
       "      <td>0.789359</td>\n",
       "      <td>1</td>\n",
       "      <td>1</td>\n",
       "      <td>1.060388</td>\n",
       "    </tr>\n",
       "    <tr>\n",
       "      <th>4070</th>\n",
       "      <td>0.061180</td>\n",
       "      <td>-0.918068</td>\n",
       "      <td>1</td>\n",
       "      <td>-0.564891</td>\n",
       "      <td>0.686341</td>\n",
       "      <td>0.997376</td>\n",
       "      <td>0.789359</td>\n",
       "      <td>1</td>\n",
       "      <td>0</td>\n",
       "      <td>-1.086442</td>\n",
       "    </tr>\n",
       "    <tr>\n",
       "      <th>3396</th>\n",
       "      <td>-1.199154</td>\n",
       "      <td>1.485169</td>\n",
       "      <td>1</td>\n",
       "      <td>-0.372988</td>\n",
       "      <td>1.034232</td>\n",
       "      <td>0.681783</td>\n",
       "      <td>-0.910943</td>\n",
       "      <td>1</td>\n",
       "      <td>1</td>\n",
       "      <td>0.623706</td>\n",
       "    </tr>\n",
       "    <tr>\n",
       "      <th>802</th>\n",
       "      <td>-0.053396</td>\n",
       "      <td>-0.918068</td>\n",
       "      <td>0</td>\n",
       "      <td>0.874386</td>\n",
       "      <td>0.686341</td>\n",
       "      <td>0.227525</td>\n",
       "      <td>-0.910943</td>\n",
       "      <td>1</td>\n",
       "      <td>1</td>\n",
       "      <td>0.860108</td>\n",
       "    </tr>\n",
       "  </tbody>\n",
       "</table>\n",
       "</div>"
      ],
      "text/plain": [
       "      CreditScore  Geography  Gender       Age    Tenure   Balance  \\\n",
       "8837    -1.292898  -0.918068       1 -0.660843  0.686341  0.786636   \n",
       "1090    -1.563714   1.485169       0  0.778434  1.034232  0.833795   \n",
       "7609     1.581914   1.485169       1  0.106771 -0.357331 -1.222967   \n",
       "7279     0.842379   1.485169       0  0.010820 -1.053112  0.807063   \n",
       "2245    -0.397123   1.485169       0 -1.236554 -0.357331 -1.222967   \n",
       "2290    -1.042914   0.283550       0  0.586530  1.034232  0.558007   \n",
       "2027    -1.407474  -0.918068       0  2.601518  0.338450 -1.222967   \n",
       "4070     0.061180  -0.918068       1 -0.564891  0.686341  0.997376   \n",
       "3396    -1.199154   1.485169       1 -0.372988  1.034232  0.681783   \n",
       "802     -0.053396  -0.918068       0  0.874386  0.686341  0.227525   \n",
       "\n",
       "      NumOfProducts  HasCrCard  IsActiveMember  EstimatedSalary  \n",
       "8837      -0.910943          0               0        -0.223548  \n",
       "1090      -0.910943          1               0         1.383021  \n",
       "7609       0.789359          1               1        -0.308331  \n",
       "7279      -0.910943          1               1        -0.430980  \n",
       "2245       0.789359          1               1         1.392642  \n",
       "2290      -0.910943          0               0        -0.035207  \n",
       "2027       0.789359          1               1         1.060388  \n",
       "4070       0.789359          1               0        -1.086442  \n",
       "3396      -0.910943          1               1         0.623706  \n",
       "802       -0.910943          1               1         0.860108  "
      ]
     },
     "execution_count": 15,
     "metadata": {},
     "output_type": "execute_result"
    }
   ],
   "source": [
    "scaler = StandardScaler()\n",
    "numeric = ['CreditScore', 'Geography', 'Age', 'Tenure', 'Balance', 'NumOfProducts', 'EstimatedSalary']\n",
    "scaler.fit(features_train[numeric]) \n",
    "\n",
    "features_train[numeric] = scaler.transform(features_train[numeric])\n",
    "features_valid[numeric] = scaler.transform(features_valid[numeric])\n",
    "features_test[numeric] = scaler.transform(features_test[numeric])\n",
    "\n",
    "features_train.head(10)"
   ]
  },
  {
   "cell_type": "markdown",
   "metadata": {},
   "source": [
    "### Проверка моделей без учета балансировки"
   ]
  },
  {
   "cell_type": "code",
   "execution_count": 16,
   "metadata": {},
   "outputs": [],
   "source": [
    "table = pd.DataFrame(columns=['Model_name', 'Model', 'F1', 'ROC_AUC'])\n",
    "\n",
    "def add_best_values(model, features, target, table, property_name):\n",
    "    \n",
    "    predicted_valid = model.predict(features)\n",
    "    predicted_valid = model.predict(features)\n",
    "    probabilities_valid = model.predict_proba(features)\n",
    "    probabilities_one_valid = probabilities_valid[:, 1]\n",
    "    table = table.append({'Model_name':property_name, \n",
    "                  'Model':model, \n",
    "                  'F1':f1_score(predicted_valid,target), \n",
    "                  'ROC_AUC':roc_auc_score(target,probabilities_one_valid)},ignore_index=True)\n",
    "    return table"
   ]
  },
  {
   "cell_type": "markdown",
   "metadata": {},
   "source": [
    "#### Дерево решений"
   ]
  },
  {
   "cell_type": "code",
   "execution_count": 17,
   "metadata": {},
   "outputs": [
    {
     "name": "stdout",
     "output_type": "stream",
     "text": [
      "Fitting 3 folds for each of 1 candidates, totalling 3 fits\n",
      "CPU times: user 56.1 ms, sys: 57 µs, total: 56.1 ms\n",
      "Wall time: 66 ms\n"
     ]
    },
    {
     "data": {
      "text/plain": [
       "GridSearchCV(cv=3, estimator=DecisionTreeClassifier(),\n",
       "             param_grid={'criterion': ['entropy'], 'max_depth': [35],\n",
       "                         'max_features': ['auto'], 'max_leaf_nodes': [100],\n",
       "                         'min_samples_leaf': [13], 'min_samples_split': [6],\n",
       "                         'random_state': [12345], 'splitter': ['best']},\n",
       "             scoring='f1', verbose=1)"
      ]
     },
     "execution_count": 17,
     "metadata": {},
     "output_type": "execute_result"
    }
   ],
   "source": [
    "%%time\n",
    "\n",
    "#Wall time: 1min 9s    \n",
    "rf_grid = {'random_state':[12345],\n",
    "           'criterion': ['gini','entropy','log_loss'],\n",
    "           'splitter':['best', 'random'],\n",
    "           'max_features': ['auto', 'sqrt', 'log2'],\n",
    "           'max_depth': [int(x) for x in np.linspace(10, 60, num = 3)],\n",
    "           'min_samples_split': [int(x) for x in np.linspace(6, 10, num = 4)],\n",
    "           'min_samples_leaf': [int(x) for x in np.linspace(10, 20, num = 4)], \n",
    "           'max_leaf_nodes':[int(x) for x in np.linspace(2, 100, num = 3)]}\n",
    "\n",
    "#best params\n",
    "rf_grid ={'criterion': ['entropy'],\n",
    "     'max_depth': [35],\n",
    "     'max_features': ['auto'],\n",
    "     'max_leaf_nodes': [100],\n",
    "     'min_samples_leaf': [13],\n",
    "     'min_samples_split': [6],\n",
    "     'random_state': [12345],\n",
    "     'splitter': ['best']}\n",
    "\n",
    "model = GridSearchCV(DecisionTreeClassifier(), rf_grid, scoring = 'f1', cv=3, verbose=1)\n",
    "model.fit(features_train, target_train)"
   ]
  },
  {
   "cell_type": "code",
   "execution_count": 18,
   "metadata": {},
   "outputs": [],
   "source": [
    "table = add_best_values(model, features_valid, target_valid, table, 'Дерево решений')"
   ]
  },
  {
   "cell_type": "markdown",
   "metadata": {},
   "source": [
    "#### Голосующее дерево"
   ]
  },
  {
   "cell_type": "code",
   "execution_count": 19,
   "metadata": {
    "scrolled": true
   },
   "outputs": [
    {
     "name": "stdout",
     "output_type": "stream",
     "text": [
      "Fitting 3 folds for each of 1 candidates, totalling 3 fits\n",
      "CPU times: user 334 ms, sys: 365 ms, total: 698 ms\n",
      "Wall time: 707 ms\n"
     ]
    },
    {
     "data": {
      "text/plain": [
       "GridSearchCV(cv=3,\n",
       "             estimator=VotingClassifier(estimators=[('lr',\n",
       "                                                     LogisticRegression()),\n",
       "                                                    ('rf',\n",
       "                                                     DecisionTreeClassifier()),\n",
       "                                                    ('gnb', GaussianNB())],\n",
       "                                        voting='soft'),\n",
       "             param_grid={'lr__dual': [True], 'lr__penalty': ['l2'],\n",
       "                         'lr__solver': ['liblinear'],\n",
       "                         'rf__criterion': ['entropy'], 'rf__max_depth': [60],\n",
       "                         'rf__max_features': ['sqrt'],\n",
       "                         'rf__max_leaf_nodes': [100],\n",
       "                         'rf__min_samples_leaf': [13],\n",
       "                         'rf__min_samples_split': [6],\n",
       "                         'rf__random_state': [12345],\n",
       "                         'rf__splitter': ['best']},\n",
       "             scoring='f1', verbose=1)"
      ]
     },
     "execution_count": 19,
     "metadata": {},
     "output_type": "execute_result"
    }
   ],
   "source": [
    "%%time\n",
    "\n",
    "eclf = VotingClassifier([('lr', LogisticRegression()), \n",
    "                        ('rf', DecisionTreeClassifier()), \n",
    "                        ('gnb', GaussianNB())], voting='soft')\n",
    "\n",
    "#Wall time: 25min 38s\n",
    "params = {'lr__solver' : ['liblinear','lbfgs'],\n",
    "          'lr__penalty' : ['l2'],\n",
    "          'lr__dual' : [True],\n",
    "          'rf__criterion': ['gini', 'entropy', 'log_loss'],\n",
    "          'rf__splitter':['best', 'random'],\n",
    "          'rf__max_features': ['auto', 'sqrt', 'log2'],\n",
    "          'rf__max_depth': [int(x) for x in np.linspace(10, 60, num = 3)],\n",
    "          'rf__random_state': [12345],\n",
    "          'rf__max_features': ['auto', 'sqrt', 'log2'],\n",
    "          'rf__min_samples_split': [int(x) for x in np.linspace(6, 10, num = 4)],\n",
    "          'rf__min_samples_leaf': [int(x) for x in np.linspace(10, 20, num = 4)], \n",
    "          'rf__max_leaf_nodes':[int(x) for x in np.linspace(50, 100, num = 4)]}\n",
    "\n",
    "#best params\n",
    "params ={'lr__dual': [True],\n",
    " 'lr__penalty': ['l2'],\n",
    " 'lr__solver': ['liblinear'],\n",
    " 'rf__criterion': ['entropy'],\n",
    " 'rf__max_depth': [60],\n",
    " 'rf__max_features': ['sqrt'],\n",
    " 'rf__max_leaf_nodes': [100],\n",
    " 'rf__min_samples_leaf': [13],\n",
    " 'rf__min_samples_split': [6],\n",
    " 'rf__random_state': [12345],\n",
    " 'rf__splitter': ['best']}\n",
    "\n",
    "\n",
    "model = GridSearchCV(estimator=eclf, param_grid=params, scoring = 'f1', cv=3, verbose=1)\n",
    "model.fit(features_train, target_train)"
   ]
  },
  {
   "cell_type": "code",
   "execution_count": 20,
   "metadata": {},
   "outputs": [],
   "source": [
    "table = add_best_values(model, features_valid, target_valid, table, 'Голосующее дерево')"
   ]
  },
  {
   "cell_type": "markdown",
   "metadata": {},
   "source": [
    "#### Случайный лес"
   ]
  },
  {
   "cell_type": "code",
   "execution_count": 21,
   "metadata": {
    "scrolled": true
   },
   "outputs": [
    {
     "name": "stdout",
     "output_type": "stream",
     "text": [
      "Fitting 2 folds for each of 1 candidates, totalling 2 fits\n",
      "CPU times: user 1.6 s, sys: 21.7 ms, total: 1.62 s\n",
      "Wall time: 1.69 s\n"
     ]
    },
    {
     "data": {
      "text/plain": [
       "GridSearchCV(cv=2, estimator=RandomForestClassifier(),\n",
       "             param_grid={'criterion': ['gini'], 'max_depth': [35],\n",
       "                         'max_features': ['auto'], 'n_estimators': [100],\n",
       "                         'random_state': [12345]},\n",
       "             scoring='f1', verbose=1)"
      ]
     },
     "execution_count": 21,
     "metadata": {},
     "output_type": "execute_result"
    }
   ],
   "source": [
    "%%time\n",
    "\n",
    "#Wall time: 12min 36s    \n",
    "\n",
    "#           'min_samples_split': [int(x) for x in np.linspace(6, 10, num = 3)],\n",
    "#           'min_samples_leaf': [int(x) for x in np.linspace(10, 20, num = 3)], \n",
    "                \n",
    "rf_grid = {'random_state':[12345],\n",
    "           'n_estimators':[int(x) for x in np.linspace(100, 1000, num = 10)], \n",
    "           'criterion': ['gini','entropy','log_loss'],\n",
    "           'max_depth': [int(x) for x in np.linspace(10, 60, num = 3)],\n",
    "           'max_features': ['auto', 'sqrt', 'log2']}\n",
    "\n",
    "rf_grid = {'criterion': ['gini'],\n",
    " 'max_depth': [35],\n",
    " 'max_features': ['auto'],\n",
    " 'n_estimators': [100],\n",
    " 'random_state': [12345]}\n",
    "\n",
    "model = GridSearchCV(RandomForestClassifier(), rf_grid, scoring = 'f1', cv=2, verbose=1)\n",
    "model.fit(features_train, target_train)"
   ]
  },
  {
   "cell_type": "code",
   "execution_count": 22,
   "metadata": {},
   "outputs": [],
   "source": [
    "table = add_best_values(model, features_valid, target_valid, table, 'Случайный лес')"
   ]
  },
  {
   "cell_type": "markdown",
   "metadata": {},
   "source": [
    "### Проверка результата"
   ]
  },
  {
   "cell_type": "code",
   "execution_count": 23,
   "metadata": {},
   "outputs": [],
   "source": [
    "def print_roc_auc(model,features_valid, target_valid):\n",
    "    lr_probs = model.predict_proba(features_valid)\n",
    "    # сохраняем вероятности только для положительного исхода\n",
    "    lr_probs = lr_probs[:, 1]\n",
    "    # рассчитываем ROC AUC\n",
    "    lr_auc = roc_auc_score(target_valid, lr_probs)\n",
    "    print('ROC AUC=%.3f' % (lr_auc))\n",
    "    # рассчитываем roc-кривую\n",
    "    fpr, tpr, treshold = roc_curve(target_valid, lr_probs)\n",
    "    roc_auc = auc(fpr, tpr)\n",
    "    # строим график\n",
    "    plt.plot(fpr, tpr, color='darkorange',\n",
    "         label='ROC кривая (area = %0.2f)' % roc_auc)\n",
    "    plt.plot([0, 1], [0, 1], color='navy', linestyle='--')\n",
    "    plt.xlim([0.0, 1.0])\n",
    "    plt.ylim([0.0, 1.05])\n",
    "    plt.xlabel('False Positive Rate')\n",
    "    plt.ylabel('True Positive Rate')\n",
    "    plt.title('ROC-кривая')\n",
    "    plt.legend(loc=\"lower right\")\n",
    "    plt.show()"
   ]
  },
  {
   "cell_type": "code",
   "execution_count": 24,
   "metadata": {},
   "outputs": [
    {
     "name": "stdout",
     "output_type": "stream",
     "text": [
      "ROC AUC=0.834\n"
     ]
    },
    {
     "data": {
      "image/png": "[encoded data removed]",
      "text/plain": [
       "<Figure size 432x288 with 1 Axes>"
      ]
     },
     "metadata": {
      "needs_background": "light"
     },
     "output_type": "display_data"
    }
   ],
   "source": [
    "best_model = table.sort_values('F1', ascending=1).head(1)['Model'].values[0]\n",
    "\n",
    "predicted_valid = best_model.predict(features_valid)\n",
    "probabilities_valid = best_model.predict_proba(features_valid)\n",
    "probabilities_one_valid = probabilities_valid[:, 1]\n",
    "\n",
    "print_roc_auc(model,features_valid, target_valid)"
   ]
  },
  {
   "cell_type": "code",
   "execution_count": 25,
   "metadata": {},
   "outputs": [
    {
     "data": {
      "text/html": [
       "<div>\n",
       "<style scoped>\n",
       "    .dataframe tbody tr th:only-of-type {\n",
       "        vertical-align: middle;\n",
       "    }\n",
       "\n",
       "    .dataframe tbody tr th {\n",
       "        vertical-align: top;\n",
       "    }\n",
       "\n",
       "    .dataframe thead th {\n",
       "        text-align: right;\n",
       "    }\n",
       "</style>\n",
       "<table border=\"1\" class=\"dataframe\">\n",
       "  <thead>\n",
       "    <tr style=\"text-align: right;\">\n",
       "      <th></th>\n",
       "      <th>Model_name</th>\n",
       "      <th>Model</th>\n",
       "      <th>F1</th>\n",
       "      <th>ROC_AUC</th>\n",
       "    </tr>\n",
       "  </thead>\n",
       "  <tbody>\n",
       "    <tr>\n",
       "      <th>0</th>\n",
       "      <td>Дерево решений</td>\n",
       "      <td>GridSearchCV(cv=3, estimator=DecisionTreeClass...</td>\n",
       "      <td>0.425993</td>\n",
       "      <td>0.746762</td>\n",
       "    </tr>\n",
       "    <tr>\n",
       "      <th>1</th>\n",
       "      <td>Голосующее дерево</td>\n",
       "      <td>GridSearchCV(cv=3,\\n             estimator=Vot...</td>\n",
       "      <td>0.405512</td>\n",
       "      <td>0.802300</td>\n",
       "    </tr>\n",
       "    <tr>\n",
       "      <th>2</th>\n",
       "      <td>Случайный лес</td>\n",
       "      <td>GridSearchCV(cv=2, estimator=RandomForestClass...</td>\n",
       "      <td>0.564626</td>\n",
       "      <td>0.833977</td>\n",
       "    </tr>\n",
       "  </tbody>\n",
       "</table>\n",
       "</div>"
      ],
      "text/plain": [
       "          Model_name                                              Model  \\\n",
       "0     Дерево решений  GridSearchCV(cv=3, estimator=DecisionTreeClass...   \n",
       "1  Голосующее дерево  GridSearchCV(cv=3,\\n             estimator=Vot...   \n",
       "2      Случайный лес  GridSearchCV(cv=2, estimator=RandomForestClass...   \n",
       "\n",
       "         F1   ROC_AUC  \n",
       "0  0.425993  0.746762  \n",
       "1  0.405512  0.802300  \n",
       "2  0.564626  0.833977  "
      ]
     },
     "execution_count": 25,
     "metadata": {},
     "output_type": "execute_result"
    }
   ],
   "source": [
    "table.head()"
   ]
  },
  {
   "cell_type": "markdown",
   "metadata": {},
   "source": [
    "### Выводы"
   ]
  },
  {
   "cell_type": "markdown",
   "metadata": {},
   "source": [
    "Лучшей моделью без балансировки показало себя Случайный лес с покозателями F1: 0.5646 и AUC-ROC:  0.8339"
   ]
  },
  {
   "cell_type": "markdown",
   "metadata": {},
   "source": [
    "## Борьба с дисбалансом"
   ]
  },
  {
   "cell_type": "markdown",
   "metadata": {},
   "source": [
    "### Баласировка классов"
   ]
  },
  {
   "cell_type": "code",
   "execution_count": 26,
   "metadata": {},
   "outputs": [],
   "source": [
    "table = pd.DataFrame(columns=['Model_name', 'Model', 'F1', 'ROC_AUC'])\n",
    "table_all = pd.DataFrame(columns=['Model_name', 'Model', 'F1', 'ROC_AUC'])"
   ]
  },
  {
   "cell_type": "markdown",
   "metadata": {},
   "source": [
    "#### Дерево решений"
   ]
  },
  {
   "cell_type": "code",
   "execution_count": 27,
   "metadata": {},
   "outputs": [
    {
     "name": "stdout",
     "output_type": "stream",
     "text": [
      "Fitting 3 folds for each of 1 candidates, totalling 3 fits\n",
      "CPU times: user 51.9 ms, sys: 102 µs, total: 52 ms\n",
      "Wall time: 62 ms\n"
     ]
    },
    {
     "data": {
      "text/plain": [
       "GridSearchCV(cv=3, estimator=DecisionTreeClassifier(),\n",
       "             param_grid={'class_weight': ['balanced'], 'criterion': ['gini'],\n",
       "                         'max_depth': [20], 'max_features': ['auto'],\n",
       "                         'max_leaf_nodes': [100], 'random_state': [12345],\n",
       "                         'splitter': ['best']},\n",
       "             scoring='f1', verbose=1)"
      ]
     },
     "execution_count": 27,
     "metadata": {},
     "output_type": "execute_result"
    }
   ],
   "source": [
    "%%time\n",
    "\n",
    "#Wall time: 1min 16s\n",
    "rf_grid = {'random_state':[12345],\n",
    "           'criterion': ['gini','entropy','log_loss'],\n",
    "           'splitter':['best', 'random'],\n",
    "           'max_features': ['auto', 'sqrt', 'log2'],\n",
    "           'max_depth': [int(x) for x in np.linspace(20, 50, num = 10)],\n",
    "           'max_leaf_nodes':[int(x) for x in np.linspace(100, 200, num = 10)],\n",
    "           'class_weight':['balanced']}\n",
    "\n",
    "rf_grid = {'class_weight': ['balanced'],\n",
    "     'criterion': ['gini'],\n",
    "     'max_depth': [20],\n",
    "     'max_features': ['auto'],\n",
    "     'max_leaf_nodes': [100],\n",
    "     'random_state': [12345],\n",
    "     'splitter': ['best']}\n",
    "\n",
    "\n",
    "model = GridSearchCV(DecisionTreeClassifier(), rf_grid, scoring = 'f1', cv=3, verbose=1)\n",
    "model.fit(features_train, target_train)"
   ]
  },
  {
   "cell_type": "code",
   "execution_count": 28,
   "metadata": {},
   "outputs": [],
   "source": [
    "table = add_best_values(model, features_valid, target_valid, table, 'Дерево решений')\n",
    "table_all = add_best_values(model, features_valid, target_valid, table_all, 'Дерево решений (балансировка)')"
   ]
  },
  {
   "cell_type": "markdown",
   "metadata": {},
   "source": [
    "#### Голосующее дерево"
   ]
  },
  {
   "cell_type": "code",
   "execution_count": 29,
   "metadata": {
    "scrolled": true
   },
   "outputs": [
    {
     "name": "stdout",
     "output_type": "stream",
     "text": [
      "Fitting 3 folds for each of 1 candidates, totalling 3 fits\n",
      "CPU times: user 361 ms, sys: 329 ms, total: 690 ms\n",
      "Wall time: 701 ms\n"
     ]
    },
    {
     "data": {
      "text/plain": [
       "GridSearchCV(cv=3,\n",
       "             estimator=VotingClassifier(estimators=[('lr',\n",
       "                                                     LogisticRegression()),\n",
       "                                                    ('rf',\n",
       "                                                     DecisionTreeClassifier()),\n",
       "                                                    ('gnb', GaussianNB())],\n",
       "                                        voting='soft'),\n",
       "             param_grid={'lr__dual': [True], 'lr__penalty': ['l2'],\n",
       "                         'lr__solver': ['liblinear'],\n",
       "                         'rf__class_weight': ['balanced'],\n",
       "                         'rf__criterion': ['entropy'], 'rf__max_depth': [60],\n",
       "                         'rf__max_features': ['sqrt'],\n",
       "                         'rf__max_leaf_nodes': [100],\n",
       "                         'rf__min_samples_leaf': [13],\n",
       "                         'rf__min_samples_split': [6],\n",
       "                         'rf__random_state': [12345],\n",
       "                         'rf__splitter': ['best']},\n",
       "             scoring='f1', verbose=1)"
      ]
     },
     "execution_count": 29,
     "metadata": {},
     "output_type": "execute_result"
    }
   ],
   "source": [
    "%%time\n",
    "\n",
    "eclf = VotingClassifier([('lr', LogisticRegression()), \n",
    "                        ('rf', DecisionTreeClassifier()), \n",
    "                        ('gnb', GaussianNB())], voting='soft')\n",
    "\n",
    "#Wall time: 44.3 s\n",
    "params = {'lr__solver' : ['liblinear','lbfgs'],\n",
    "          'lr__penalty' : ['l2'],\n",
    "          'lr__dual' : [True],\n",
    "          'rf__criterion': ['gini', 'entropy', 'log_loss'],\n",
    "          'rf__splitter':['best', 'random'],\n",
    "          'rf__max_features': ['auto', 'sqrt', 'log2'],\n",
    "          'rf__max_depth': [int(x) for x in np.linspace(10, 60, num = 3)],\n",
    "          'rf__random_state': [12345],\n",
    "          'rf__max_features': ['auto', 'sqrt', 'log2'],\n",
    "          'rf__min_samples_split': [int(x) for x in np.linspace(6, 10, num = 4)],\n",
    "          'rf__min_samples_leaf': [int(x) for x in np.linspace(10, 20, num = 4)], \n",
    "          'rf__max_leaf_nodes':[int(x) for x in np.linspace(50, 100, num = 4)],\n",
    "          'rf__class_weight':['balanced']}\n",
    "\n",
    "#best params\n",
    "params ={'lr__dual': [True],\n",
    "         'lr__penalty': ['l2'],\n",
    "         'lr__solver': ['liblinear'],\n",
    "         'rf__criterion': ['entropy'],\n",
    "         'rf__max_depth': [60],\n",
    "         'rf__max_features': ['sqrt'],\n",
    "         'rf__max_leaf_nodes': [100],\n",
    "         'rf__min_samples_leaf': [13],\n",
    "         'rf__min_samples_split': [6],\n",
    "         'rf__random_state': [12345],\n",
    "         'rf__splitter': ['best'],\n",
    "         'rf__class_weight':['balanced']}\n",
    "\n",
    "model = GridSearchCV(estimator=eclf, param_grid=params, scoring = 'f1', cv=3, verbose=1)\n",
    "model.fit(features_train, target_train)"
   ]
  },
  {
   "cell_type": "code",
   "execution_count": 30,
   "metadata": {},
   "outputs": [],
   "source": [
    "table = add_best_values(model, features_valid, target_valid, table, 'Голосующее дерево')\n",
    "table_all = add_best_values(model, features_valid, target_valid, table_all, 'Голосующее дерево (балансировка)')"
   ]
  },
  {
   "cell_type": "markdown",
   "metadata": {},
   "source": [
    "#### Случайный лес"
   ]
  },
  {
   "cell_type": "code",
   "execution_count": 31,
   "metadata": {},
   "outputs": [
    {
     "name": "stdout",
     "output_type": "stream",
     "text": [
      "Fitting 3 folds for each of 1 candidates, totalling 3 fits\n",
      "CPU times: user 14.5 s, sys: 85 ms, total: 14.6 s\n",
      "Wall time: 15.9 s\n"
     ]
    },
    {
     "data": {
      "text/plain": [
       "GridSearchCV(cv=3, estimator=RandomForestClassifier(),\n",
       "             param_grid={'class_weight': ['balanced'], 'criterion': ['entropy'],\n",
       "                         'max_depth': [10], 'max_features': ['auto'],\n",
       "                         'n_estimators': [662], 'random_state': [12345]},\n",
       "             scoring='f1', verbose=1)"
      ]
     },
     "execution_count": 31,
     "metadata": {},
     "output_type": "execute_result"
    }
   ],
   "source": [
    "%%time\n",
    "\n",
    "\n",
    "#           'min_samples_split': [int(x) for x in np.linspace(6, 10, num = 3)],\n",
    "#           'min_samples_leaf': [int(x) for x in np.linspace(10, 20, num = 3)], \n",
    "        \n",
    "#Wall time: 22min 41s    \n",
    "rf_grid = {'random_state':[12345],\n",
    "           'n_estimators':[int(x) for x in np.linspace(100, 1000, num = 9)], \n",
    "           'criterion': ['gini','entropy','log_loss'],\n",
    "           'max_depth': [int(x) for x in np.linspace(10, 60, num = 3)],\n",
    "           'max_features': ['auto', 'sqrt', 'log2'],\n",
    "           'class_weight':['balanced']}\n",
    "\n",
    "rf_grid = {'class_weight': ['balanced'],\n",
    " 'criterion': ['entropy'],\n",
    " 'max_depth': [10],\n",
    " 'max_features': ['auto'],\n",
    " 'n_estimators': [662],\n",
    " 'random_state': [12345]}\n",
    "\n",
    "model = GridSearchCV(RandomForestClassifier(), rf_grid, scoring = 'f1', cv=3, verbose=1)\n",
    "model.fit(features_train, target_train)"
   ]
  },
  {
   "cell_type": "code",
   "execution_count": 32,
   "metadata": {},
   "outputs": [],
   "source": [
    "table = add_best_values(model, features_valid, target_valid, table, 'Случайный лес')\n",
    "table_all = add_best_values(model, features_valid, target_valid, table_all, 'Случайный лес (балансировка)')"
   ]
  },
  {
   "cell_type": "markdown",
   "metadata": {},
   "source": [
    "#### Выводы"
   ]
  },
  {
   "cell_type": "code",
   "execution_count": 33,
   "metadata": {},
   "outputs": [
    {
     "data": {
      "text/html": [
       "<div>\n",
       "<style scoped>\n",
       "    .dataframe tbody tr th:only-of-type {\n",
       "        vertical-align: middle;\n",
       "    }\n",
       "\n",
       "    .dataframe tbody tr th {\n",
       "        vertical-align: top;\n",
       "    }\n",
       "\n",
       "    .dataframe thead th {\n",
       "        text-align: right;\n",
       "    }\n",
       "</style>\n",
       "<table border=\"1\" class=\"dataframe\">\n",
       "  <thead>\n",
       "    <tr style=\"text-align: right;\">\n",
       "      <th></th>\n",
       "      <th>Model_name</th>\n",
       "      <th>Model</th>\n",
       "      <th>F1</th>\n",
       "      <th>ROC_AUC</th>\n",
       "    </tr>\n",
       "  </thead>\n",
       "  <tbody>\n",
       "    <tr>\n",
       "      <th>2</th>\n",
       "      <td>Случайный лес</td>\n",
       "      <td>GridSearchCV(cv=3, estimator=RandomForestClass...</td>\n",
       "      <td>0.591978</td>\n",
       "      <td>0.850028</td>\n",
       "    </tr>\n",
       "    <tr>\n",
       "      <th>0</th>\n",
       "      <td>Дерево решений</td>\n",
       "      <td>GridSearchCV(cv=3, estimator=DecisionTreeClass...</td>\n",
       "      <td>0.542977</td>\n",
       "      <td>0.786939</td>\n",
       "    </tr>\n",
       "    <tr>\n",
       "      <th>1</th>\n",
       "      <td>Голосующее дерево</td>\n",
       "      <td>GridSearchCV(cv=3,\\n             estimator=Vot...</td>\n",
       "      <td>0.515152</td>\n",
       "      <td>0.818867</td>\n",
       "    </tr>\n",
       "  </tbody>\n",
       "</table>\n",
       "</div>"
      ],
      "text/plain": [
       "          Model_name                                              Model  \\\n",
       "2      Случайный лес  GridSearchCV(cv=3, estimator=RandomForestClass...   \n",
       "0     Дерево решений  GridSearchCV(cv=3, estimator=DecisionTreeClass...   \n",
       "1  Голосующее дерево  GridSearchCV(cv=3,\\n             estimator=Vot...   \n",
       "\n",
       "         F1   ROC_AUC  \n",
       "2  0.591978  0.850028  \n",
       "0  0.542977  0.786939  \n",
       "1  0.515152  0.818867  "
      ]
     },
     "execution_count": 33,
     "metadata": {},
     "output_type": "execute_result"
    }
   ],
   "source": [
    "table.sort_values('F1',ascending=False).head()"
   ]
  },
  {
   "cell_type": "markdown",
   "metadata": {},
   "source": [
    "Лучшей моделью c балансировкой классов показал себя Случайный лес с показателями \n",
    "F1: 0.5919 и AUC-ROC:  0.8500\n",
    "\n",
    "Показатели без балансировки\n",
    "F1: 0.5646 и AUC-ROC:  0.8339"
   ]
  },
  {
   "cell_type": "markdown",
   "metadata": {},
   "source": [
    "### Уменьшение выборки"
   ]
  },
  {
   "cell_type": "code",
   "execution_count": 34,
   "metadata": {},
   "outputs": [],
   "source": [
    "table = pd.DataFrame(columns=['Model_name', 'Model', 'F1', 'ROC_AUC'])"
   ]
  },
  {
   "cell_type": "code",
   "execution_count": 35,
   "metadata": {},
   "outputs": [],
   "source": [
    "def downsample(features, target, fraction):\n",
    "    features_zeros = features[target == 0]\n",
    "    features_ones = features[target == 1]\n",
    "    target_zeros = target[target == 0]\n",
    "    target_ones = target[target == 1]\n",
    "\n",
    "    features_downsampled = pd.concat(\n",
    "        [features_zeros.sample(frac=fraction, random_state=12345)] + [features_ones])\n",
    "    target_downsampled = pd.concat(\n",
    "        [target_zeros.sample(frac=fraction, random_state=12345)] + [target_ones])\n",
    "    \n",
    "    features_downsampled, target_downsampled = shuffle(\n",
    "        features_downsampled, target_downsampled, random_state=12345)\n",
    "    \n",
    "    return features_downsampled, target_downsampled\n",
    "\n",
    "features_downsampled, target_downsampled = downsample(features_train, target_train, 0.1)\n",
    "\n"
   ]
  },
  {
   "cell_type": "markdown",
   "metadata": {},
   "source": [
    "#### Дерево решений"
   ]
  },
  {
   "cell_type": "code",
   "execution_count": 36,
   "metadata": {},
   "outputs": [
    {
     "name": "stdout",
     "output_type": "stream",
     "text": [
      "Fitting 3 folds for each of 1 candidates, totalling 3 fits\n",
      "CPU times: user 34 ms, sys: 4.14 ms, total: 38.1 ms\n",
      "Wall time: 36.6 ms\n"
     ]
    },
    {
     "data": {
      "text/plain": [
       "GridSearchCV(cv=3, estimator=DecisionTreeClassifier(),\n",
       "             param_grid={'class_weight': ['balanced'], 'criterion': ['entropy'],\n",
       "                         'max_depth': [23], 'max_features': ['auto'],\n",
       "                         'max_leaf_nodes': [177], 'random_state': [12345],\n",
       "                         'splitter': ['best']},\n",
       "             scoring='f1', verbose=1)"
      ]
     },
     "execution_count": 36,
     "metadata": {},
     "output_type": "execute_result"
    }
   ],
   "source": [
    "%%time\n",
    "\n",
    "#           'min_samples_split': [int(x) for x in np.linspace(6, 10, num = 4)],\n",
    "#           'min_samples_leaf': [int(x) for x in np.linspace(10, 20, num = 4)], \n",
    "\n",
    "#Wall time: 33.5 s \n",
    "rf_grid = {'random_state':[12345],\n",
    "           'criterion': ['gini','entropy','log_loss'],\n",
    "           'splitter':['best', 'random'],\n",
    "           'max_features': ['auto', 'sqrt', 'log2'],\n",
    "           'max_depth': [int(x) for x in np.linspace(20, 50, num = 10)],\n",
    "           'max_leaf_nodes':[int(x) for x in np.linspace(100, 200, num = 10)],\n",
    "           'class_weight':['balanced']}\n",
    "\n",
    "\n",
    "rf_grid ={'class_weight': ['balanced'],\n",
    " 'criterion': ['entropy'],\n",
    " 'max_depth': [23],\n",
    " 'max_features': ['auto'],\n",
    " 'max_leaf_nodes': [177],\n",
    " 'random_state': [12345],\n",
    " 'splitter': ['best']}\n",
    "\n",
    "model = GridSearchCV(DecisionTreeClassifier(), rf_grid, scoring = 'f1', cv=3, verbose=1)\n",
    "model.fit(features_downsampled, target_downsampled)"
   ]
  },
  {
   "cell_type": "code",
   "execution_count": 37,
   "metadata": {},
   "outputs": [],
   "source": [
    "table = add_best_values(model, features_valid, target_valid, table, 'Дерево решений')\n",
    "table_all = add_best_values(model, features_valid, target_valid, table_all, 'Дерево решений (уменьшение)')"
   ]
  },
  {
   "cell_type": "markdown",
   "metadata": {},
   "source": [
    "#### Голосующее дерево"
   ]
  },
  {
   "cell_type": "code",
   "execution_count": 38,
   "metadata": {
    "scrolled": true
   },
   "outputs": [
    {
     "name": "stdout",
     "output_type": "stream",
     "text": [
      "Fitting 3 folds for each of 1 candidates, totalling 3 fits\n",
      "CPU times: user 409 ms, sys: 358 ms, total: 767 ms\n",
      "Wall time: 782 ms\n"
     ]
    },
    {
     "data": {
      "text/plain": [
       "GridSearchCV(cv=3,\n",
       "             estimator=VotingClassifier(estimators=[('lr',\n",
       "                                                     LogisticRegression()),\n",
       "                                                    ('rf',\n",
       "                                                     RandomForestClassifier()),\n",
       "                                                    ('gnb', GaussianNB())],\n",
       "                                        voting='soft'),\n",
       "             param_grid=[{'lr__dual': [True], 'lr__penalty': ['l2'],\n",
       "                          'lr__solver': ['liblinear'],\n",
       "                          'rf__class_weight': ['balanced'],\n",
       "                          'rf__criterion': ['gini'], 'rf__max_depth': [10],\n",
       "                          'rf__max_features': ['sqrt'],\n",
       "                          'rf__max_leaf_nodes': [83], 'rf__max_samples': [8],\n",
       "                          'rf__n_estimators': [10],\n",
       "                          'rf__random_state': [12345]}],\n",
       "             scoring='f1', verbose=1)"
      ]
     },
     "execution_count": 38,
     "metadata": {},
     "output_type": "execute_result"
    }
   ],
   "source": [
    "%%time\n",
    "\n",
    "eclf = VotingClassifier([('lr', LogisticRegression()), \n",
    "                        ('rf', RandomForestClassifier()), \n",
    "                        ('gnb', GaussianNB())], voting='soft')\n",
    "\n",
    "\n",
    "#Wall time: 1min 20s\n",
    "params = {'lr__solver' : ['liblinear'],\n",
    "          'lr__penalty' : ['l2'],\n",
    "          'lr__dual' : [True],\n",
    "          'rf__n_estimators': [10],\n",
    "          'rf__criterion': ['gini', 'entropy', 'log_loss'],\n",
    "          'rf__max_depth': [10],\n",
    "          'rf__random_state': [12345],\n",
    "          'rf__max_features': ['auto', 'sqrt', 'log2'],\n",
    "          'rf__max_leaf_nodes':[int(x) for x in np.linspace(50, 100, num = 4)],\n",
    "          'rf__class_weight':['balanced'],\n",
    "          'rf__max_samples':[int(x) for x in np.linspace(2, 10, num = 5)]}\n",
    "\n",
    "params = [{'lr__dual': [True],\n",
    " 'lr__penalty': ['l2'],\n",
    " 'lr__solver': ['liblinear'],\n",
    " 'rf__class_weight': ['balanced'],\n",
    " 'rf__criterion': ['gini'],\n",
    " 'rf__max_depth': [10],\n",
    " 'rf__max_features': ['sqrt'],\n",
    " 'rf__max_leaf_nodes': [83],\n",
    " 'rf__max_samples': [8],\n",
    " 'rf__n_estimators': [10],\n",
    " 'rf__random_state': [12345]}]\n",
    "model = GridSearchCV(estimator=eclf, param_grid=params, scoring = 'f1', cv=3, verbose=1)\n",
    "model.fit(features_train, target_train)"
   ]
  },
  {
   "cell_type": "code",
   "execution_count": 39,
   "metadata": {},
   "outputs": [],
   "source": [
    "table = add_best_values(model, features_valid, target_valid, table, 'Голосующее дерево')\n",
    "table_all = add_best_values(model, features_valid, target_valid, table_all, 'Голосующее дерево (уменьшение)')"
   ]
  },
  {
   "cell_type": "markdown",
   "metadata": {},
   "source": [
    "#### Случайный лес"
   ]
  },
  {
   "cell_type": "code",
   "execution_count": 40,
   "metadata": {},
   "outputs": [
    {
     "name": "stdout",
     "output_type": "stream",
     "text": [
      "Fitting 3 folds for each of 1 candidates, totalling 3 fits\n",
      "CPU times: user 14.8 s, sys: 106 ms, total: 14.9 s\n",
      "Wall time: 14.9 s\n"
     ]
    },
    {
     "data": {
      "text/plain": [
       "GridSearchCV(cv=3, estimator=RandomForestClassifier(),\n",
       "             param_grid={'class_weight': ['balanced'], 'criterion': ['entropy'],\n",
       "                         'max_depth': [10], 'max_features': ['auto'],\n",
       "                         'n_estimators': [662], 'random_state': [12345]},\n",
       "             scoring='f1', verbose=1)"
      ]
     },
     "execution_count": 40,
     "metadata": {},
     "output_type": "execute_result"
    }
   ],
   "source": [
    "%%time\n",
    "\n",
    "#            'min_samples_split': [int(x) for x in np.linspace(6, 10, num = 3)],\n",
    "#           'min_samples_leaf': [int(x) for x in np.linspace(10, 20, num = 3)], \n",
    "\n",
    "\n",
    "#Wall time: 1min 9s    \n",
    "rf_grid = {'random_state':[12345],\n",
    "           'n_estimators':[int(x) for x in np.linspace(100, 1000, num = 9)], \n",
    "           'criterion': ['gini','entropy','log_loss'],\n",
    "           'max_depth': [int(x) for x in np.linspace(10, 60, num = 3)],\n",
    "           'max_features': ['auto', 'sqrt', 'log2'],\n",
    "           'class_weight':['balanced']}\n",
    "\n",
    "rf_grid = {'class_weight': ['balanced'],\n",
    " 'criterion': ['entropy'],\n",
    " 'max_depth': [10],\n",
    " 'max_features': ['auto'],\n",
    " 'n_estimators': [662],\n",
    " 'random_state': [12345]}\n",
    "\n",
    "model = GridSearchCV(RandomForestClassifier(), rf_grid, scoring = 'f1', cv=3, verbose=1)\n",
    "model.fit(features_train, target_train)"
   ]
  },
  {
   "cell_type": "code",
   "execution_count": 41,
   "metadata": {},
   "outputs": [],
   "source": [
    "table = add_best_values(model, features_valid, target_valid, table, 'Случайный лес')\n",
    "table_all = add_best_values(model, features_valid, target_valid, table_all, 'Случайный лес (уменьшение)')"
   ]
  },
  {
   "cell_type": "markdown",
   "metadata": {},
   "source": [
    "#### Выводы"
   ]
  },
  {
   "cell_type": "code",
   "execution_count": 42,
   "metadata": {},
   "outputs": [
    {
     "data": {
      "text/html": [
       "<div>\n",
       "<style scoped>\n",
       "    .dataframe tbody tr th:only-of-type {\n",
       "        vertical-align: middle;\n",
       "    }\n",
       "\n",
       "    .dataframe tbody tr th {\n",
       "        vertical-align: top;\n",
       "    }\n",
       "\n",
       "    .dataframe thead th {\n",
       "        text-align: right;\n",
       "    }\n",
       "</style>\n",
       "<table border=\"1\" class=\"dataframe\">\n",
       "  <thead>\n",
       "    <tr style=\"text-align: right;\">\n",
       "      <th></th>\n",
       "      <th>Model_name</th>\n",
       "      <th>Model</th>\n",
       "      <th>F1</th>\n",
       "      <th>ROC_AUC</th>\n",
       "    </tr>\n",
       "  </thead>\n",
       "  <tbody>\n",
       "    <tr>\n",
       "      <th>2</th>\n",
       "      <td>Случайный лес</td>\n",
       "      <td>GridSearchCV(cv=3, estimator=RandomForestClass...</td>\n",
       "      <td>0.591978</td>\n",
       "      <td>0.850028</td>\n",
       "    </tr>\n",
       "    <tr>\n",
       "      <th>0</th>\n",
       "      <td>Дерево решений</td>\n",
       "      <td>GridSearchCV(cv=3, estimator=DecisionTreeClass...</td>\n",
       "      <td>0.486865</td>\n",
       "      <td>0.714568</td>\n",
       "    </tr>\n",
       "    <tr>\n",
       "      <th>1</th>\n",
       "      <td>Голосующее дерево</td>\n",
       "      <td>GridSearchCV(cv=3,\\n             estimator=Vot...</td>\n",
       "      <td>0.210773</td>\n",
       "      <td>0.791792</td>\n",
       "    </tr>\n",
       "  </tbody>\n",
       "</table>\n",
       "</div>"
      ],
      "text/plain": [
       "          Model_name                                              Model  \\\n",
       "2      Случайный лес  GridSearchCV(cv=3, estimator=RandomForestClass...   \n",
       "0     Дерево решений  GridSearchCV(cv=3, estimator=DecisionTreeClass...   \n",
       "1  Голосующее дерево  GridSearchCV(cv=3,\\n             estimator=Vot...   \n",
       "\n",
       "         F1   ROC_AUC  \n",
       "2  0.591978  0.850028  \n",
       "0  0.486865  0.714568  \n",
       "1  0.210773  0.791792  "
      ]
     },
     "execution_count": 42,
     "metadata": {},
     "output_type": "execute_result"
    }
   ],
   "source": [
    "table.sort_values('F1',ascending=False).head()"
   ]
  },
  {
   "cell_type": "markdown",
   "metadata": {},
   "source": [
    "Лучшей моделью c уменьшением выборки показал себя Случайный лес с показателями \n",
    "F1: 0.5919 и AUC-ROC:  0.8500\n",
    "\n",
    "Показатели без балансировки\n",
    "F1: 0.5646 и AUC-ROC:  0.8339"
   ]
  },
  {
   "cell_type": "markdown",
   "metadata": {},
   "source": [
    "### Увеличение выборки"
   ]
  },
  {
   "cell_type": "code",
   "execution_count": 43,
   "metadata": {},
   "outputs": [],
   "source": [
    "table = pd.DataFrame(columns=['Model_name', 'Model', 'F1', 'ROC_AUC'])"
   ]
  },
  {
   "cell_type": "code",
   "execution_count": 44,
   "metadata": {},
   "outputs": [],
   "source": [
    "def upsample(features, target, repeat):\n",
    "    features_zeros = features[target == 0]\n",
    "    features_ones = features[target == 1]\n",
    "    target_zeros = target[target == 0]\n",
    "    target_ones = target[target == 1]\n",
    "\n",
    "    features_upsampled = pd.concat([features_zeros] + [features_ones] * repeat)\n",
    "    target_upsampled = pd.concat([target_zeros] + [target_ones] * repeat)\n",
    "    \n",
    "    features_upsampled, target_upsampled = shuffle(\n",
    "        features_upsampled, target_upsampled, random_state=12345)\n",
    "    \n",
    "    return features_upsampled, target_upsampled\n",
    "\n",
    "features_upsampled, target_upsampled = upsample(features_train, target_train, 1)"
   ]
  },
  {
   "cell_type": "markdown",
   "metadata": {},
   "source": [
    "#### Дерево решений"
   ]
  },
  {
   "cell_type": "code",
   "execution_count": 45,
   "metadata": {},
   "outputs": [
    {
     "name": "stdout",
     "output_type": "stream",
     "text": [
      "Fitting 3 folds for each of 1 candidates, totalling 3 fits\n",
      "CPU times: user 54.6 ms, sys: 0 ns, total: 54.6 ms\n",
      "Wall time: 64.3 ms\n"
     ]
    },
    {
     "data": {
      "text/plain": [
       "GridSearchCV(cv=3, estimator=DecisionTreeClassifier(),\n",
       "             param_grid={'class_weight': ['balanced'], 'criterion': ['gini'],\n",
       "                         'max_depth': [20], 'max_features': ['auto'],\n",
       "                         'max_leaf_nodes': [200], 'random_state': [12345],\n",
       "                         'splitter': ['best']},\n",
       "             scoring='f1', verbose=1)"
      ]
     },
     "execution_count": 45,
     "metadata": {},
     "output_type": "execute_result"
    }
   ],
   "source": [
    "%%time\n",
    "\n",
    "#Wall time: 4min 46s   \n",
    "rf_grid = {'random_state':[12345],\n",
    "           'criterion': ['gini','entropy','log_loss'],\n",
    "           'splitter':['best', 'random'],\n",
    "           'max_features': ['auto', 'sqrt', 'log2'],\n",
    "           'max_depth': [int(x) for x in np.linspace(20, 50, num = 10)],\n",
    "           'max_leaf_nodes':[int(x) for x in np.linspace(100, 200, num = 10)],\n",
    "           'class_weight':['balanced']}\n",
    "\n",
    "rf_grid = {'class_weight': ['balanced'],\n",
    " 'criterion': ['gini'],\n",
    " 'max_depth': [20],\n",
    " 'max_features': ['auto'],\n",
    " 'max_leaf_nodes': [200],\n",
    " 'random_state': [12345],\n",
    " 'splitter': ['best']}\n",
    "\n",
    "model = GridSearchCV(DecisionTreeClassifier(), rf_grid, scoring = 'f1', cv=3, verbose=1)\n",
    "model.fit(features_upsampled, target_upsampled)"
   ]
  },
  {
   "cell_type": "code",
   "execution_count": 46,
   "metadata": {},
   "outputs": [],
   "source": [
    "table = add_best_values(model, features_valid, target_valid, table, 'Дерево решений')\n",
    "table_all = add_best_values(model, features_valid, target_valid, table_all, 'Дерево решений (увеличение)')"
   ]
  },
  {
   "cell_type": "markdown",
   "metadata": {},
   "source": [
    "#### Голосующее дерево"
   ]
  },
  {
   "cell_type": "code",
   "execution_count": 47,
   "metadata": {
    "scrolled": true
   },
   "outputs": [
    {
     "name": "stdout",
     "output_type": "stream",
     "text": [
      "Fitting 3 folds for each of 1 candidates, totalling 3 fits\n",
      "CPU times: user 365 ms, sys: 328 ms, total: 693 ms\n",
      "Wall time: 709 ms\n"
     ]
    },
    {
     "data": {
      "text/plain": [
       "GridSearchCV(cv=3,\n",
       "             estimator=VotingClassifier(estimators=[('lr',\n",
       "                                                     LogisticRegression()),\n",
       "                                                    ('rf',\n",
       "                                                     RandomForestClassifier()),\n",
       "                                                    ('gnb', GaussianNB())],\n",
       "                                        voting='soft'),\n",
       "             param_grid={'lr__dual': [True], 'lr__penalty': ['l2'],\n",
       "                         'lr__solver': ['liblinear'],\n",
       "                         'rf__class_weight': ['balanced'],\n",
       "                         'rf__criterion': ['gini'], 'rf__max_depth': [10],\n",
       "                         'rf__max_features': ['sqrt'],\n",
       "                         'rf__max_leaf_nodes': [83], 'rf__max_samples': [2],\n",
       "                         'rf__n_estimators': [10],\n",
       "                         'rf__random_state': [12345]},\n",
       "             scoring='f1', verbose=1)"
      ]
     },
     "execution_count": 47,
     "metadata": {},
     "output_type": "execute_result"
    }
   ],
   "source": [
    "%%time\n",
    "\n",
    "eclf = VotingClassifier([('lr', LogisticRegression()), \n",
    "                        ('rf', RandomForestClassifier()), \n",
    "                        ('gnb', GaussianNB())], voting='soft')\n",
    "\n",
    "\n",
    "#Wall time: 2min 11s\n",
    "params = {'lr__solver' : ['liblinear'],\n",
    "          'lr__penalty' : ['l2'],\n",
    "          'lr__dual' : [True],\n",
    "          'rf__n_estimators': [10],\n",
    "          'rf__criterion': ['gini', 'entropy', 'log_loss'],\n",
    "          'rf__max_depth': [10],\n",
    "          'rf__random_state': [12345],\n",
    "          'rf__max_features': ['auto', 'sqrt', 'log2'],\n",
    "          'rf__max_leaf_nodes':[int(x) for x in np.linspace(50, 100, num = 4)],\n",
    "          'rf__class_weight':['balanced'],\n",
    "          'rf__max_samples':[int(x) for x in np.linspace(2, 10, num = 5)]}\n",
    "\n",
    "params = {'lr__dual': [True],\n",
    " 'lr__penalty': ['l2'],\n",
    " 'lr__solver': ['liblinear'],\n",
    " 'rf__class_weight': ['balanced'],\n",
    " 'rf__criterion': ['gini'],\n",
    " 'rf__max_depth': [10],\n",
    " 'rf__max_features': ['sqrt'],\n",
    " 'rf__max_leaf_nodes': [83],\n",
    " 'rf__max_samples': [2],\n",
    " 'rf__n_estimators': [10],\n",
    " 'rf__random_state': [12345]}\n",
    "\n",
    "model = GridSearchCV(estimator=eclf, param_grid=params, scoring = 'f1', cv=3, verbose=1)\n",
    "model.fit(features_upsampled, target_upsampled)"
   ]
  },
  {
   "cell_type": "code",
   "execution_count": 48,
   "metadata": {},
   "outputs": [],
   "source": [
    "table = add_best_values(model, features_valid, target_valid, table, 'Голосующее дерево')\n",
    "table_all = add_best_values(model, features_valid, target_valid, table_all, 'Голосующее дерево (увеличение)')"
   ]
  },
  {
   "cell_type": "markdown",
   "metadata": {},
   "source": [
    "#### Случайный лес"
   ]
  },
  {
   "cell_type": "code",
   "execution_count": 49,
   "metadata": {},
   "outputs": [
    {
     "name": "stdout",
     "output_type": "stream",
     "text": [
      "Fitting 3 folds for each of 1 candidates, totalling 3 fits\n",
      "CPU times: user 14.6 s, sys: 157 ms, total: 14.8 s\n",
      "Wall time: 14.8 s\n"
     ]
    },
    {
     "data": {
      "text/plain": [
       "GridSearchCV(cv=3, estimator=RandomForestClassifier(),\n",
       "             param_grid={'class_weight': ['balanced'], 'criterion': ['entropy'],\n",
       "                         'max_depth': [10], 'max_features': ['auto'],\n",
       "                         'n_estimators': [662], 'random_state': [12345]},\n",
       "             scoring='f1', verbose=1)"
      ]
     },
     "execution_count": 49,
     "metadata": {},
     "output_type": "execute_result"
    }
   ],
   "source": [
    "%%time\n",
    "\n",
    "#Wall time: 23min 17s    \n",
    "rf_grid = {'random_state':[12345],\n",
    "           'n_estimators':[int(x) for x in np.linspace(100, 1000, num = 9)], \n",
    "           'criterion': ['gini','entropy','log_loss'],\n",
    "           'max_depth': [int(x) for x in np.linspace(10, 60, num = 3)],\n",
    "           'max_features': ['auto', 'sqrt', 'log2'],\n",
    "           'class_weight':['balanced']}\n",
    "\n",
    "rf_grid ={'class_weight': ['balanced'],\n",
    " 'criterion': ['entropy'],\n",
    " 'max_depth': [10],\n",
    " 'max_features': ['auto'],\n",
    " 'n_estimators': [662],\n",
    " 'random_state': [12345]}\n",
    "\n",
    "model = GridSearchCV(RandomForestClassifier(), rf_grid, scoring = 'f1', cv=3, verbose=1)\n",
    "model.fit(features_train, target_train)"
   ]
  },
  {
   "cell_type": "code",
   "execution_count": 50,
   "metadata": {},
   "outputs": [],
   "source": [
    "table = add_best_values(model, features_valid, target_valid, table, 'Случайный лес')\n",
    "table_all = add_best_values(model, features_valid, target_valid, table_all, 'Случайный лес (увеличение)')"
   ]
  },
  {
   "cell_type": "markdown",
   "metadata": {},
   "source": [
    "#### Выводы"
   ]
  },
  {
   "cell_type": "code",
   "execution_count": 51,
   "metadata": {},
   "outputs": [
    {
     "data": {
      "text/html": [
       "<div>\n",
       "<style scoped>\n",
       "    .dataframe tbody tr th:only-of-type {\n",
       "        vertical-align: middle;\n",
       "    }\n",
       "\n",
       "    .dataframe tbody tr th {\n",
       "        vertical-align: top;\n",
       "    }\n",
       "\n",
       "    .dataframe thead th {\n",
       "        text-align: right;\n",
       "    }\n",
       "</style>\n",
       "<table border=\"1\" class=\"dataframe\">\n",
       "  <thead>\n",
       "    <tr style=\"text-align: right;\">\n",
       "      <th></th>\n",
       "      <th>Model_name</th>\n",
       "      <th>Model</th>\n",
       "      <th>F1</th>\n",
       "      <th>ROC_AUC</th>\n",
       "    </tr>\n",
       "  </thead>\n",
       "  <tbody>\n",
       "    <tr>\n",
       "      <th>2</th>\n",
       "      <td>Случайный лес</td>\n",
       "      <td>GridSearchCV(cv=3, estimator=RandomForestClass...</td>\n",
       "      <td>0.591978</td>\n",
       "      <td>0.850028</td>\n",
       "    </tr>\n",
       "    <tr>\n",
       "      <th>0</th>\n",
       "      <td>Дерево решений</td>\n",
       "      <td>GridSearchCV(cv=3, estimator=DecisionTreeClass...</td>\n",
       "      <td>0.548931</td>\n",
       "      <td>0.763274</td>\n",
       "    </tr>\n",
       "    <tr>\n",
       "      <th>1</th>\n",
       "      <td>Голосующее дерево</td>\n",
       "      <td>GridSearchCV(cv=3,\\n             estimator=Vot...</td>\n",
       "      <td>0.108911</td>\n",
       "      <td>0.780726</td>\n",
       "    </tr>\n",
       "  </tbody>\n",
       "</table>\n",
       "</div>"
      ],
      "text/plain": [
       "          Model_name                                              Model  \\\n",
       "2      Случайный лес  GridSearchCV(cv=3, estimator=RandomForestClass...   \n",
       "0     Дерево решений  GridSearchCV(cv=3, estimator=DecisionTreeClass...   \n",
       "1  Голосующее дерево  GridSearchCV(cv=3,\\n             estimator=Vot...   \n",
       "\n",
       "         F1   ROC_AUC  \n",
       "2  0.591978  0.850028  \n",
       "0  0.548931  0.763274  \n",
       "1  0.108911  0.780726  "
      ]
     },
     "execution_count": 51,
     "metadata": {},
     "output_type": "execute_result"
    }
   ],
   "source": [
    "table.sort_values('F1',ascending=False).head()"
   ]
  },
  {
   "cell_type": "markdown",
   "metadata": {},
   "source": [
    "Лучшей моделью c балансировкой классов показал себя Случайный лес с показателями \n",
    "F1: 0.5919 и AUC-ROC:  0.8500\n",
    "\n",
    "Показатели без балансировки\n",
    "F1: 0.5646 и AUC-ROC:  0.8339"
   ]
  },
  {
   "cell_type": "markdown",
   "metadata": {},
   "source": [
    "### Выводы"
   ]
  },
  {
   "cell_type": "code",
   "execution_count": 52,
   "metadata": {},
   "outputs": [
    {
     "data": {
      "text/html": [
       "<div>\n",
       "<style scoped>\n",
       "    .dataframe tbody tr th:only-of-type {\n",
       "        vertical-align: middle;\n",
       "    }\n",
       "\n",
       "    .dataframe tbody tr th {\n",
       "        vertical-align: top;\n",
       "    }\n",
       "\n",
       "    .dataframe thead th {\n",
       "        text-align: right;\n",
       "    }\n",
       "</style>\n",
       "<table border=\"1\" class=\"dataframe\">\n",
       "  <thead>\n",
       "    <tr style=\"text-align: right;\">\n",
       "      <th></th>\n",
       "      <th>Model_name</th>\n",
       "      <th>Model</th>\n",
       "      <th>F1</th>\n",
       "      <th>ROC_AUC</th>\n",
       "    </tr>\n",
       "  </thead>\n",
       "  <tbody>\n",
       "    <tr>\n",
       "      <th>2</th>\n",
       "      <td>Случайный лес (балансировка)</td>\n",
       "      <td>GridSearchCV(cv=3, estimator=RandomForestClass...</td>\n",
       "      <td>0.591978</td>\n",
       "      <td>0.850028</td>\n",
       "    </tr>\n",
       "    <tr>\n",
       "      <th>5</th>\n",
       "      <td>Случайный лес (уменьшение)</td>\n",
       "      <td>GridSearchCV(cv=3, estimator=RandomForestClass...</td>\n",
       "      <td>0.591978</td>\n",
       "      <td>0.850028</td>\n",
       "    </tr>\n",
       "    <tr>\n",
       "      <th>8</th>\n",
       "      <td>Случайный лес (увеличение)</td>\n",
       "      <td>GridSearchCV(cv=3, estimator=RandomForestClass...</td>\n",
       "      <td>0.591978</td>\n",
       "      <td>0.850028</td>\n",
       "    </tr>\n",
       "    <tr>\n",
       "      <th>6</th>\n",
       "      <td>Дерево решений (увеличение)</td>\n",
       "      <td>GridSearchCV(cv=3, estimator=DecisionTreeClass...</td>\n",
       "      <td>0.548931</td>\n",
       "      <td>0.763274</td>\n",
       "    </tr>\n",
       "    <tr>\n",
       "      <th>0</th>\n",
       "      <td>Дерево решений (балансировка)</td>\n",
       "      <td>GridSearchCV(cv=3, estimator=DecisionTreeClass...</td>\n",
       "      <td>0.542977</td>\n",
       "      <td>0.786939</td>\n",
       "    </tr>\n",
       "    <tr>\n",
       "      <th>1</th>\n",
       "      <td>Голосующее дерево (балансировка)</td>\n",
       "      <td>GridSearchCV(cv=3,\\n             estimator=Vot...</td>\n",
       "      <td>0.515152</td>\n",
       "      <td>0.818867</td>\n",
       "    </tr>\n",
       "    <tr>\n",
       "      <th>3</th>\n",
       "      <td>Дерево решений (уменьшение)</td>\n",
       "      <td>GridSearchCV(cv=3, estimator=DecisionTreeClass...</td>\n",
       "      <td>0.486865</td>\n",
       "      <td>0.714568</td>\n",
       "    </tr>\n",
       "    <tr>\n",
       "      <th>4</th>\n",
       "      <td>Голосующее дерево (уменьшение)</td>\n",
       "      <td>GridSearchCV(cv=3,\\n             estimator=Vot...</td>\n",
       "      <td>0.210773</td>\n",
       "      <td>0.791792</td>\n",
       "    </tr>\n",
       "    <tr>\n",
       "      <th>7</th>\n",
       "      <td>Голосующее дерево (увеличение)</td>\n",
       "      <td>GridSearchCV(cv=3,\\n             estimator=Vot...</td>\n",
       "      <td>0.108911</td>\n",
       "      <td>0.780726</td>\n",
       "    </tr>\n",
       "  </tbody>\n",
       "</table>\n",
       "</div>"
      ],
      "text/plain": [
       "                         Model_name  \\\n",
       "2      Случайный лес (балансировка)   \n",
       "5        Случайный лес (уменьшение)   \n",
       "8        Случайный лес (увеличение)   \n",
       "6       Дерево решений (увеличение)   \n",
       "0     Дерево решений (балансировка)   \n",
       "1  Голосующее дерево (балансировка)   \n",
       "3       Дерево решений (уменьшение)   \n",
       "4    Голосующее дерево (уменьшение)   \n",
       "7    Голосующее дерево (увеличение)   \n",
       "\n",
       "                                               Model        F1   ROC_AUC  \n",
       "2  GridSearchCV(cv=3, estimator=RandomForestClass...  0.591978  0.850028  \n",
       "5  GridSearchCV(cv=3, estimator=RandomForestClass...  0.591978  0.850028  \n",
       "8  GridSearchCV(cv=3, estimator=RandomForestClass...  0.591978  0.850028  \n",
       "6  GridSearchCV(cv=3, estimator=DecisionTreeClass...  0.548931  0.763274  \n",
       "0  GridSearchCV(cv=3, estimator=DecisionTreeClass...  0.542977  0.786939  \n",
       "1  GridSearchCV(cv=3,\\n             estimator=Vot...  0.515152  0.818867  \n",
       "3  GridSearchCV(cv=3, estimator=DecisionTreeClass...  0.486865  0.714568  \n",
       "4  GridSearchCV(cv=3,\\n             estimator=Vot...  0.210773  0.791792  \n",
       "7  GridSearchCV(cv=3,\\n             estimator=Vot...  0.108911  0.780726  "
      ]
     },
     "execution_count": 52,
     "metadata": {},
     "output_type": "execute_result"
    }
   ],
   "source": [
    "table_all.sort_values('F1',ascending=False).head(10)"
   ]
  },
  {
   "cell_type": "markdown",
   "metadata": {},
   "source": [
    "Наилучший вариант решения по балансировке классов показала модель Случайный лес с показателями F1: 0.5919 и ROC_AUC: 0.8500, при этом метод балансировки особого значения для данной модели не имеет. Для всех 3 методов получен одинаковый результат, для других моделей метод балансировки имеет значение.  "
   ]
  },
  {
   "cell_type": "markdown",
   "metadata": {},
   "source": [
    "## Тестирование модели"
   ]
  },
  {
   "cell_type": "code",
   "execution_count": 53,
   "metadata": {},
   "outputs": [
    {
     "name": "stdout",
     "output_type": "stream",
     "text": [
      "Fitting 3 folds for each of 1 candidates, totalling 3 fits\n",
      "ROC AUC=0.873\n"
     ]
    },
    {
     "data": {
      "image/png": "[encoded data removed]",
      "text/plain": [
       "<Figure size 432x288 with 1 Axes>"
      ]
     },
     "metadata": {
      "needs_background": "light"
     },
     "output_type": "display_data"
    },
    {
     "data": {
      "text/plain": [
       "0.6336898395721926"
      ]
     },
     "execution_count": 53,
     "metadata": {},
     "output_type": "execute_result"
    }
   ],
   "source": [
    "rf_grid = {'class_weight': ['balanced'],\n",
    " 'criterion': ['entropy'],\n",
    " 'max_depth': [10],\n",
    " 'max_features': ['auto'],\n",
    " 'n_estimators': [662],\n",
    " 'random_state': [12345]}\n",
    "\n",
    "model = GridSearchCV(RandomForestClassifier(), rf_grid, scoring = 'f1', cv=3, verbose=1)\n",
    "model.fit(features_train, target_train)\n",
    "\n",
    "predicted_valid = model.predict(features_test)\n",
    "probabilities_valid = model.predict_proba(features_test)\n",
    "probabilities_one_valid = probabilities_valid[:, 1]\n",
    "\n",
    "print_roc_auc(model,features_test, target_test)\n",
    "f1_score(predicted_valid,target_test)"
   ]
  },
  {
   "cell_type": "markdown",
   "metadata": {},
   "source": [
    "## Вывод"
   ]
  },
  {
   "cell_type": "markdown",
   "metadata": {},
   "source": [
    "В исходном наборе данных были пропуске в данных о том сколько клиент является клиентом, хоть этот сегмент и является достаточно большим - 9%, им пришлось пожертвовать. В остальном проблем в исходном наборе нет.\n",
    "\n",
    "Лучшей моделью без балансировки показало себя Случайный лес с покозателями F1: 0.5646 и AUC-ROC: 0.8339\n",
    "\n",
    "Наилучший вариант решения по балансировке классов показала модель Случайный лес с показателями F1: 0.5919 и ROC_AUC: 0.8500, при этом метод балансировки особого значения для данной модели не имеет. Для всех 3 методов получен одинаковый результат, для других моделей метод балансировки имеет значение.  \n",
    "\n",
    "За счет балаесировки классов удалось поднять точность модели, о чем говорит метрика F1, отличие от случайной модели слегка увеличилось. ROC_AUC выше показателя в 0.5, что говорит, о том что модель предсказывает не случайным образом и она достаточно разобралась в классах.\n",
    "\n",
    "Проверка на тестовой выборка показала результат ROC AUC: 0.873  и F1: 0.633, что выше чем на валидационной выборке."
   ]
  }
 ],
 "metadata": {
  "ExecuteTimeLog": [
   {
    "duration": 490,
    "start_time": "2022-07-19T17:25:55.224Z"
   },
   {
    "duration": 130,
    "start_time": "2022-07-19T17:25:55.774Z"
   },
   {
    "duration": 87,
    "start_time": "2022-07-19T17:26:55.216Z"
   },
   {
    "duration": 16,
    "start_time": "2022-07-19T17:29:56.886Z"
   },
   {
    "duration": 17,
    "start_time": "2022-07-19T17:31:03.588Z"
   },
   {
    "duration": 32,
    "start_time": "2022-07-19T17:31:17.463Z"
   },
   {
    "duration": 11,
    "start_time": "2022-07-19T17:31:44.464Z"
   },
   {
    "duration": 22,
    "start_time": "2022-07-19T17:31:54.620Z"
   },
   {
    "duration": 14,
    "start_time": "2022-07-19T17:32:05.064Z"
   },
   {
    "duration": 13,
    "start_time": "2022-07-19T17:32:17.271Z"
   },
   {
    "duration": 6,
    "start_time": "2022-07-19T17:32:27.118Z"
   },
   {
    "duration": 11,
    "start_time": "2022-07-19T17:36:26.854Z"
   },
   {
    "duration": 20,
    "start_time": "2022-07-19T17:36:34.778Z"
   },
   {
    "duration": 37,
    "start_time": "2022-07-19T17:36:46.399Z"
   },
   {
    "duration": 65,
    "start_time": "2022-07-19T17:36:48.006Z"
   },
   {
    "duration": 14,
    "start_time": "2022-07-19T17:36:49.154Z"
   },
   {
    "duration": 18,
    "start_time": "2022-07-19T17:36:51.668Z"
   },
   {
    "duration": 496,
    "start_time": "2022-07-19T17:40:50.559Z"
   },
   {
    "duration": 17,
    "start_time": "2022-07-19T17:44:14.703Z"
   },
   {
    "duration": 3,
    "start_time": "2022-07-19T17:44:19.929Z"
   },
   {
    "duration": 282,
    "start_time": "2022-07-19T17:44:20.862Z"
   },
   {
    "duration": 3,
    "start_time": "2022-07-19T17:45:33.404Z"
   },
   {
    "duration": 216,
    "start_time": "2022-07-19T17:45:35.173Z"
   },
   {
    "duration": 41,
    "start_time": "2022-07-19T17:46:06.477Z"
   },
   {
    "duration": 126,
    "start_time": "2022-07-19T17:46:07.156Z"
   },
   {
    "duration": 7,
    "start_time": "2022-07-19T17:46:07.561Z"
   },
   {
    "duration": 22,
    "start_time": "2022-07-19T17:46:07.969Z"
   },
   {
    "duration": 3,
    "start_time": "2022-07-19T17:46:10.861Z"
   },
   {
    "duration": 309,
    "start_time": "2022-07-19T17:46:11.495Z"
   },
   {
    "duration": 3,
    "start_time": "2022-07-19T17:46:25.773Z"
   },
   {
    "duration": 1439,
    "start_time": "2022-07-19T17:46:26.073Z"
   },
   {
    "duration": 1375,
    "start_time": "2022-07-19T18:08:28.733Z"
   },
   {
    "duration": 90,
    "start_time": "2022-07-19T18:08:30.110Z"
   },
   {
    "duration": 7,
    "start_time": "2022-07-19T18:08:30.202Z"
   },
   {
    "duration": 32,
    "start_time": "2022-07-19T18:08:30.211Z"
   },
   {
    "duration": 2,
    "start_time": "2022-07-19T18:08:30.245Z"
   },
   {
    "duration": 1612,
    "start_time": "2022-07-19T18:08:30.249Z"
   },
   {
    "duration": 10,
    "start_time": "2022-07-19T18:08:31.862Z"
   },
   {
    "duration": 12,
    "start_time": "2022-07-19T18:08:31.873Z"
   },
   {
    "duration": 122,
    "start_time": "2022-07-19T18:08:31.886Z"
   },
   {
    "duration": 1449,
    "start_time": "2022-07-19T18:09:03.080Z"
   },
   {
    "duration": 84,
    "start_time": "2022-07-19T18:09:04.531Z"
   },
   {
    "duration": 7,
    "start_time": "2022-07-19T18:09:04.617Z"
   },
   {
    "duration": 19,
    "start_time": "2022-07-19T18:09:04.626Z"
   },
   {
    "duration": 3,
    "start_time": "2022-07-19T18:09:04.647Z"
   },
   {
    "duration": 1692,
    "start_time": "2022-07-19T18:09:04.651Z"
   },
   {
    "duration": 11,
    "start_time": "2022-07-19T18:09:06.345Z"
   },
   {
    "duration": 4,
    "start_time": "2022-07-19T18:09:06.358Z"
   },
   {
    "duration": 165,
    "start_time": "2022-07-19T18:09:06.364Z"
   },
   {
    "duration": 5,
    "start_time": "2022-07-19T18:10:22.782Z"
   },
   {
    "duration": 14189,
    "start_time": "2022-07-19T18:11:09.018Z"
   },
   {
    "duration": 1358,
    "start_time": "2022-07-19T18:13:45.025Z"
   },
   {
    "duration": 70,
    "start_time": "2022-07-19T18:13:46.386Z"
   },
   {
    "duration": 7,
    "start_time": "2022-07-19T18:13:46.457Z"
   },
   {
    "duration": 37,
    "start_time": "2022-07-19T18:13:46.466Z"
   },
   {
    "duration": 3,
    "start_time": "2022-07-19T18:13:46.504Z"
   },
   {
    "duration": 1432,
    "start_time": "2022-07-19T18:13:46.508Z"
   },
   {
    "duration": 10,
    "start_time": "2022-07-19T18:13:47.941Z"
   },
   {
    "duration": 3,
    "start_time": "2022-07-19T18:13:47.952Z"
   },
   {
    "duration": 14169,
    "start_time": "2022-07-19T18:13:47.956Z"
   },
   {
    "duration": 1395,
    "start_time": "2022-07-19T18:15:56.991Z"
   },
   {
    "duration": 79,
    "start_time": "2022-07-19T18:15:58.388Z"
   },
   {
    "duration": 8,
    "start_time": "2022-07-19T18:15:58.469Z"
   },
   {
    "duration": 24,
    "start_time": "2022-07-19T18:15:58.479Z"
   },
   {
    "duration": 23,
    "start_time": "2022-07-19T18:15:58.505Z"
   },
   {
    "duration": 3,
    "start_time": "2022-07-19T18:15:58.531Z"
   },
   {
    "duration": 1551,
    "start_time": "2022-07-19T18:15:58.536Z"
   },
   {
    "duration": 19,
    "start_time": "2022-07-19T18:16:00.089Z"
   },
   {
    "duration": 21,
    "start_time": "2022-07-19T18:16:00.109Z"
   },
   {
    "duration": 14551,
    "start_time": "2022-07-19T18:16:00.133Z"
   },
   {
    "duration": 1283,
    "start_time": "2022-07-19T18:16:47.653Z"
   },
   {
    "duration": 69,
    "start_time": "2022-07-19T18:16:48.937Z"
   },
   {
    "duration": 7,
    "start_time": "2022-07-19T18:16:49.007Z"
   },
   {
    "duration": 5,
    "start_time": "2022-07-19T18:16:49.016Z"
   },
   {
    "duration": 19,
    "start_time": "2022-07-19T18:16:49.022Z"
   },
   {
    "duration": 2,
    "start_time": "2022-07-19T18:16:49.044Z"
   },
   {
    "duration": 1440,
    "start_time": "2022-07-19T18:16:49.048Z"
   },
   {
    "duration": 18,
    "start_time": "2022-07-19T18:16:50.490Z"
   },
   {
    "duration": 3,
    "start_time": "2022-07-19T18:16:50.511Z"
   },
   {
    "duration": 12331,
    "start_time": "2022-07-19T18:16:50.517Z"
   },
   {
    "duration": 1327,
    "start_time": "2022-07-19T18:20:15.625Z"
   },
   {
    "duration": 73,
    "start_time": "2022-07-19T18:20:16.954Z"
   },
   {
    "duration": 6,
    "start_time": "2022-07-19T18:20:17.029Z"
   },
   {
    "duration": 12,
    "start_time": "2022-07-19T18:20:17.036Z"
   },
   {
    "duration": 18,
    "start_time": "2022-07-19T18:20:17.050Z"
   },
   {
    "duration": 3,
    "start_time": "2022-07-19T18:20:17.070Z"
   },
   {
    "duration": 2035,
    "start_time": "2022-07-19T18:20:17.075Z"
   },
   {
    "duration": 214,
    "start_time": "2022-07-19T18:20:19.111Z"
   },
   {
    "duration": 0,
    "start_time": "2022-07-19T18:20:19.327Z"
   },
   {
    "duration": 0,
    "start_time": "2022-07-19T18:20:19.328Z"
   },
   {
    "duration": 0,
    "start_time": "2022-07-19T18:20:19.330Z"
   },
   {
    "duration": 31,
    "start_time": "2022-07-19T18:20:40.317Z"
   },
   {
    "duration": 40,
    "start_time": "2022-07-19T18:20:51.826Z"
   },
   {
    "duration": 9,
    "start_time": "2022-07-19T18:22:37.248Z"
   },
   {
    "duration": 19,
    "start_time": "2022-07-19T18:22:45.625Z"
   },
   {
    "duration": 15,
    "start_time": "2022-07-19T18:23:22.566Z"
   },
   {
    "duration": 22,
    "start_time": "2022-07-19T18:23:29.113Z"
   },
   {
    "duration": 20,
    "start_time": "2022-07-19T18:24:33.222Z"
   },
   {
    "duration": 43,
    "start_time": "2022-07-19T18:24:37.474Z"
   },
   {
    "duration": 37,
    "start_time": "2022-07-19T18:24:56.478Z"
   },
   {
    "duration": 60,
    "start_time": "2022-07-19T18:25:20.190Z"
   },
   {
    "duration": 62,
    "start_time": "2022-07-19T18:25:38.131Z"
   },
   {
    "duration": 61,
    "start_time": "2022-07-19T18:25:54.185Z"
   },
   {
    "duration": 3,
    "start_time": "2022-07-19T18:27:20.965Z"
   },
   {
    "duration": 51,
    "start_time": "2022-07-19T18:31:00.553Z"
   },
   {
    "duration": 9,
    "start_time": "2022-07-19T18:31:02.894Z"
   },
   {
    "duration": 1404,
    "start_time": "2022-07-19T18:31:08.657Z"
   },
   {
    "duration": 74,
    "start_time": "2022-07-19T18:31:10.063Z"
   },
   {
    "duration": 7,
    "start_time": "2022-07-19T18:31:10.138Z"
   },
   {
    "duration": 19,
    "start_time": "2022-07-19T18:31:10.147Z"
   },
   {
    "duration": 18,
    "start_time": "2022-07-19T18:31:10.168Z"
   },
   {
    "duration": 2,
    "start_time": "2022-07-19T18:31:10.188Z"
   },
   {
    "duration": 1426,
    "start_time": "2022-07-19T18:31:10.192Z"
   },
   {
    "duration": 61,
    "start_time": "2022-07-19T18:31:11.620Z"
   },
   {
    "duration": 128,
    "start_time": "2022-07-19T18:31:11.683Z"
   },
   {
    "duration": 0,
    "start_time": "2022-07-19T18:31:11.813Z"
   },
   {
    "duration": 0,
    "start_time": "2022-07-19T18:31:11.814Z"
   },
   {
    "duration": 0,
    "start_time": "2022-07-19T18:31:11.815Z"
   },
   {
    "duration": 7,
    "start_time": "2022-07-19T18:31:35.536Z"
   },
   {
    "duration": 11,
    "start_time": "2022-07-19T18:35:09.708Z"
   },
   {
    "duration": 45,
    "start_time": "2022-07-19T18:35:24.759Z"
   },
   {
    "duration": 1343,
    "start_time": "2022-07-19T18:35:31.523Z"
   },
   {
    "duration": 90,
    "start_time": "2022-07-19T18:35:32.868Z"
   },
   {
    "duration": 8,
    "start_time": "2022-07-19T18:35:32.959Z"
   },
   {
    "duration": 4,
    "start_time": "2022-07-19T18:35:32.969Z"
   },
   {
    "duration": 48,
    "start_time": "2022-07-19T18:35:32.975Z"
   },
   {
    "duration": 4,
    "start_time": "2022-07-19T18:35:33.030Z"
   },
   {
    "duration": 1557,
    "start_time": "2022-07-19T18:35:33.036Z"
   },
   {
    "duration": 117,
    "start_time": "2022-07-19T18:35:34.600Z"
   },
   {
    "duration": 389,
    "start_time": "2022-07-19T18:35:34.719Z"
   },
   {
    "duration": 0,
    "start_time": "2022-07-19T18:35:35.110Z"
   },
   {
    "duration": 0,
    "start_time": "2022-07-19T18:35:35.111Z"
   },
   {
    "duration": 0,
    "start_time": "2022-07-19T18:35:35.112Z"
   },
   {
    "duration": 26,
    "start_time": "2022-07-19T18:36:21.794Z"
   },
   {
    "duration": 33,
    "start_time": "2022-07-19T18:37:20.189Z"
   },
   {
    "duration": 1449,
    "start_time": "2022-07-19T18:37:34.860Z"
   },
   {
    "duration": 99,
    "start_time": "2022-07-19T18:37:36.311Z"
   },
   {
    "duration": 7,
    "start_time": "2022-07-19T18:37:36.412Z"
   },
   {
    "duration": 5,
    "start_time": "2022-07-19T18:37:36.422Z"
   },
   {
    "duration": 22,
    "start_time": "2022-07-19T18:37:36.428Z"
   },
   {
    "duration": 3,
    "start_time": "2022-07-19T18:37:36.452Z"
   },
   {
    "duration": 1784,
    "start_time": "2022-07-19T18:37:36.456Z"
   },
   {
    "duration": 174,
    "start_time": "2022-07-19T18:37:38.241Z"
   },
   {
    "duration": 96,
    "start_time": "2022-07-19T18:37:38.417Z"
   },
   {
    "duration": 202,
    "start_time": "2022-07-19T18:37:38.516Z"
   },
   {
    "duration": 0,
    "start_time": "2022-07-19T18:37:38.720Z"
   },
   {
    "duration": 0,
    "start_time": "2022-07-19T18:37:38.722Z"
   },
   {
    "duration": 10,
    "start_time": "2022-07-19T18:38:49.886Z"
   },
   {
    "duration": 2,
    "start_time": "2022-07-19T18:38:55.743Z"
   },
   {
    "duration": 1271,
    "start_time": "2022-07-19T18:43:37.537Z"
   },
   {
    "duration": 95,
    "start_time": "2022-07-19T18:43:38.810Z"
   },
   {
    "duration": 8,
    "start_time": "2022-07-19T18:43:38.907Z"
   },
   {
    "duration": 10,
    "start_time": "2022-07-19T18:43:38.916Z"
   },
   {
    "duration": 22,
    "start_time": "2022-07-19T18:43:38.928Z"
   },
   {
    "duration": 3,
    "start_time": "2022-07-19T18:43:38.951Z"
   },
   {
    "duration": 1427,
    "start_time": "2022-07-19T18:43:38.956Z"
   },
   {
    "duration": 61,
    "start_time": "2022-07-19T18:43:40.384Z"
   },
   {
    "duration": 33,
    "start_time": "2022-07-19T18:43:40.446Z"
   },
   {
    "duration": 21,
    "start_time": "2022-07-19T18:43:40.481Z"
   },
   {
    "duration": 3,
    "start_time": "2022-07-19T18:43:40.503Z"
   },
   {
    "duration": 3582,
    "start_time": "2022-07-19T18:43:40.507Z"
   },
   {
    "duration": 1255,
    "start_time": "2022-07-19T18:44:57.012Z"
   },
   {
    "duration": 70,
    "start_time": "2022-07-19T18:44:58.269Z"
   },
   {
    "duration": 7,
    "start_time": "2022-07-19T18:44:58.340Z"
   },
   {
    "duration": 6,
    "start_time": "2022-07-19T18:44:58.348Z"
   },
   {
    "duration": 18,
    "start_time": "2022-07-19T18:44:58.355Z"
   },
   {
    "duration": 3,
    "start_time": "2022-07-19T18:44:58.374Z"
   },
   {
    "duration": 1411,
    "start_time": "2022-07-19T18:44:58.379Z"
   },
   {
    "duration": 59,
    "start_time": "2022-07-19T18:44:59.792Z"
   },
   {
    "duration": 28,
    "start_time": "2022-07-19T18:44:59.852Z"
   },
   {
    "duration": 24,
    "start_time": "2022-07-19T18:44:59.882Z"
   },
   {
    "duration": 8,
    "start_time": "2022-07-19T18:44:59.907Z"
   },
   {
    "duration": 80514,
    "start_time": "2022-07-19T18:44:59.917Z"
   },
   {
    "duration": 1440,
    "start_time": "2022-07-19T18:48:05.697Z"
   },
   {
    "duration": 77,
    "start_time": "2022-07-19T18:48:07.139Z"
   },
   {
    "duration": 7,
    "start_time": "2022-07-19T18:48:07.218Z"
   },
   {
    "duration": 8,
    "start_time": "2022-07-19T18:48:07.227Z"
   },
   {
    "duration": 22,
    "start_time": "2022-07-19T18:48:07.236Z"
   },
   {
    "duration": 8,
    "start_time": "2022-07-19T18:48:07.260Z"
   },
   {
    "duration": 1521,
    "start_time": "2022-07-19T18:48:07.270Z"
   },
   {
    "duration": 66,
    "start_time": "2022-07-19T18:48:08.792Z"
   },
   {
    "duration": 41,
    "start_time": "2022-07-19T18:48:08.860Z"
   },
   {
    "duration": 9,
    "start_time": "2022-07-19T18:48:08.903Z"
   },
   {
    "duration": 4,
    "start_time": "2022-07-19T18:48:08.913Z"
   },
   {
    "duration": 1256,
    "start_time": "2022-07-19T18:48:56.621Z"
   },
   {
    "duration": 68,
    "start_time": "2022-07-19T18:48:57.879Z"
   },
   {
    "duration": 6,
    "start_time": "2022-07-19T18:48:57.948Z"
   },
   {
    "duration": 7,
    "start_time": "2022-07-19T18:48:57.955Z"
   },
   {
    "duration": 20,
    "start_time": "2022-07-19T18:48:57.964Z"
   },
   {
    "duration": 2,
    "start_time": "2022-07-19T18:48:57.985Z"
   },
   {
    "duration": 1350,
    "start_time": "2022-07-19T18:48:58.001Z"
   },
   {
    "duration": 59,
    "start_time": "2022-07-19T18:48:59.352Z"
   },
   {
    "duration": 29,
    "start_time": "2022-07-19T18:48:59.412Z"
   },
   {
    "duration": 9,
    "start_time": "2022-07-19T18:48:59.442Z"
   },
   {
    "duration": 3,
    "start_time": "2022-07-19T18:48:59.453Z"
   },
   {
    "duration": 1523,
    "start_time": "2022-07-19T18:48:59.458Z"
   },
   {
    "duration": 1264,
    "start_time": "2022-07-19T18:49:20.839Z"
   },
   {
    "duration": 97,
    "start_time": "2022-07-19T18:49:22.105Z"
   },
   {
    "duration": 7,
    "start_time": "2022-07-19T18:49:22.204Z"
   },
   {
    "duration": 7,
    "start_time": "2022-07-19T18:49:22.213Z"
   },
   {
    "duration": 21,
    "start_time": "2022-07-19T18:49:22.222Z"
   },
   {
    "duration": 3,
    "start_time": "2022-07-19T18:49:22.244Z"
   },
   {
    "duration": 1465,
    "start_time": "2022-07-19T18:49:22.249Z"
   },
   {
    "duration": 55,
    "start_time": "2022-07-19T18:49:23.716Z"
   },
   {
    "duration": 46,
    "start_time": "2022-07-19T18:49:23.772Z"
   },
   {
    "duration": 9,
    "start_time": "2022-07-19T18:49:23.821Z"
   },
   {
    "duration": 3,
    "start_time": "2022-07-19T18:49:23.832Z"
   },
   {
    "duration": 1440,
    "start_time": "2022-07-19T18:50:03.808Z"
   },
   {
    "duration": 99,
    "start_time": "2022-07-19T18:50:05.251Z"
   },
   {
    "duration": 9,
    "start_time": "2022-07-19T18:50:05.352Z"
   },
   {
    "duration": 30,
    "start_time": "2022-07-19T18:50:05.363Z"
   },
   {
    "duration": 39,
    "start_time": "2022-07-19T18:50:05.395Z"
   },
   {
    "duration": 6,
    "start_time": "2022-07-19T18:50:05.435Z"
   },
   {
    "duration": 1512,
    "start_time": "2022-07-19T18:50:05.443Z"
   },
   {
    "duration": 60,
    "start_time": "2022-07-19T18:50:06.956Z"
   },
   {
    "duration": 34,
    "start_time": "2022-07-19T18:50:07.018Z"
   },
   {
    "duration": 9,
    "start_time": "2022-07-19T18:50:07.054Z"
   },
   {
    "duration": 3,
    "start_time": "2022-07-19T18:50:07.064Z"
   },
   {
    "duration": 1340,
    "start_time": "2022-07-19T19:03:34.533Z"
   },
   {
    "duration": 103,
    "start_time": "2022-07-19T19:03:35.875Z"
   },
   {
    "duration": 7,
    "start_time": "2022-07-19T19:03:35.979Z"
   },
   {
    "duration": 5,
    "start_time": "2022-07-19T19:03:36.001Z"
   },
   {
    "duration": 41,
    "start_time": "2022-07-19T19:03:36.008Z"
   },
   {
    "duration": 4,
    "start_time": "2022-07-19T19:03:36.051Z"
   },
   {
    "duration": 1504,
    "start_time": "2022-07-19T19:03:36.057Z"
   },
   {
    "duration": 61,
    "start_time": "2022-07-19T19:03:37.563Z"
   },
   {
    "duration": 29,
    "start_time": "2022-07-19T19:03:37.626Z"
   },
   {
    "duration": 8,
    "start_time": "2022-07-19T19:03:37.658Z"
   },
   {
    "duration": 6,
    "start_time": "2022-07-19T19:03:37.667Z"
   },
   {
    "duration": 1453,
    "start_time": "2022-07-19T19:04:23.030Z"
   },
   {
    "duration": 86,
    "start_time": "2022-07-19T19:04:24.485Z"
   },
   {
    "duration": 7,
    "start_time": "2022-07-19T19:04:24.573Z"
   },
   {
    "duration": 4,
    "start_time": "2022-07-19T19:04:24.600Z"
   },
   {
    "duration": 19,
    "start_time": "2022-07-19T19:04:24.607Z"
   },
   {
    "duration": 3,
    "start_time": "2022-07-19T19:04:24.628Z"
   },
   {
    "duration": 1452,
    "start_time": "2022-07-19T19:04:24.632Z"
   },
   {
    "duration": 58,
    "start_time": "2022-07-19T19:04:26.086Z"
   },
   {
    "duration": 27,
    "start_time": "2022-07-19T19:04:26.146Z"
   },
   {
    "duration": 27,
    "start_time": "2022-07-19T19:04:26.174Z"
   },
   {
    "duration": 3,
    "start_time": "2022-07-19T19:04:26.202Z"
   },
   {
    "duration": 1590,
    "start_time": "2022-07-19T19:05:01.528Z"
   },
   {
    "duration": 87,
    "start_time": "2022-07-19T19:05:03.120Z"
   },
   {
    "duration": 13,
    "start_time": "2022-07-19T19:05:03.209Z"
   },
   {
    "duration": 44,
    "start_time": "2022-07-19T19:05:03.225Z"
   },
   {
    "duration": 43,
    "start_time": "2022-07-19T19:05:03.271Z"
   },
   {
    "duration": 3,
    "start_time": "2022-07-19T19:05:03.315Z"
   },
   {
    "duration": 1549,
    "start_time": "2022-07-19T19:05:03.319Z"
   },
   {
    "duration": 67,
    "start_time": "2022-07-19T19:05:04.870Z"
   },
   {
    "duration": 31,
    "start_time": "2022-07-19T19:05:04.939Z"
   },
   {
    "duration": 32,
    "start_time": "2022-07-19T19:05:04.973Z"
   },
   {
    "duration": 3,
    "start_time": "2022-07-19T19:05:05.006Z"
   },
   {
    "duration": 1241,
    "start_time": "2022-07-19T19:09:10.342Z"
   },
   {
    "duration": 70,
    "start_time": "2022-07-19T19:09:11.587Z"
   },
   {
    "duration": 7,
    "start_time": "2022-07-19T19:09:11.659Z"
   },
   {
    "duration": 4,
    "start_time": "2022-07-19T19:09:11.669Z"
   },
   {
    "duration": 43,
    "start_time": "2022-07-19T19:09:11.674Z"
   },
   {
    "duration": 3,
    "start_time": "2022-07-19T19:09:11.718Z"
   },
   {
    "duration": 1398,
    "start_time": "2022-07-19T19:09:11.723Z"
   },
   {
    "duration": 52,
    "start_time": "2022-07-19T19:09:13.122Z"
   },
   {
    "duration": 45,
    "start_time": "2022-07-19T19:09:13.175Z"
   },
   {
    "duration": 8,
    "start_time": "2022-07-19T19:09:13.222Z"
   },
   {
    "duration": 2,
    "start_time": "2022-07-19T19:09:13.232Z"
   },
   {
    "duration": 1348,
    "start_time": "2022-07-19T19:10:30.465Z"
   },
   {
    "duration": 87,
    "start_time": "2022-07-19T19:10:31.816Z"
   },
   {
    "duration": 6,
    "start_time": "2022-07-19T19:10:31.905Z"
   },
   {
    "duration": 4,
    "start_time": "2022-07-19T19:10:31.913Z"
   },
   {
    "duration": 19,
    "start_time": "2022-07-19T19:10:31.919Z"
   },
   {
    "duration": 4,
    "start_time": "2022-07-19T19:10:31.939Z"
   },
   {
    "duration": 1432,
    "start_time": "2022-07-19T19:10:31.944Z"
   },
   {
    "duration": 63,
    "start_time": "2022-07-19T19:10:33.377Z"
   },
   {
    "duration": 30,
    "start_time": "2022-07-19T19:10:33.442Z"
   },
   {
    "duration": 30,
    "start_time": "2022-07-19T19:10:33.474Z"
   },
   {
    "duration": 3,
    "start_time": "2022-07-19T19:10:33.506Z"
   },
   {
    "duration": 1329,
    "start_time": "2022-07-19T19:12:14.842Z"
   },
   {
    "duration": 70,
    "start_time": "2022-07-19T19:12:16.173Z"
   },
   {
    "duration": 6,
    "start_time": "2022-07-19T19:12:16.245Z"
   },
   {
    "duration": 5,
    "start_time": "2022-07-19T19:12:16.253Z"
   },
   {
    "duration": 22,
    "start_time": "2022-07-19T19:12:16.259Z"
   },
   {
    "duration": 19,
    "start_time": "2022-07-19T19:12:16.282Z"
   },
   {
    "duration": 1447,
    "start_time": "2022-07-19T19:12:16.302Z"
   },
   {
    "duration": 58,
    "start_time": "2022-07-19T19:12:17.750Z"
   },
   {
    "duration": 29,
    "start_time": "2022-07-19T19:12:17.809Z"
   },
   {
    "duration": 8,
    "start_time": "2022-07-19T19:12:17.840Z"
   },
   {
    "duration": 6,
    "start_time": "2022-07-19T19:12:17.850Z"
   },
   {
    "duration": 1388,
    "start_time": "2022-07-19T19:12:24.402Z"
   },
   {
    "duration": 72,
    "start_time": "2022-07-19T19:12:25.792Z"
   },
   {
    "duration": 6,
    "start_time": "2022-07-19T19:12:25.866Z"
   },
   {
    "duration": 4,
    "start_time": "2022-07-19T19:12:25.874Z"
   },
   {
    "duration": 16,
    "start_time": "2022-07-19T19:12:25.901Z"
   },
   {
    "duration": 3,
    "start_time": "2022-07-19T19:12:25.919Z"
   },
   {
    "duration": 1424,
    "start_time": "2022-07-19T19:12:25.923Z"
   },
   {
    "duration": 63,
    "start_time": "2022-07-19T19:12:27.348Z"
   },
   {
    "duration": 27,
    "start_time": "2022-07-19T19:12:27.413Z"
   },
   {
    "duration": 9,
    "start_time": "2022-07-19T19:12:27.442Z"
   },
   {
    "duration": 3,
    "start_time": "2022-07-19T19:12:27.452Z"
   },
   {
    "duration": 1298,
    "start_time": "2022-07-19T19:12:34.435Z"
   },
   {
    "duration": 70,
    "start_time": "2022-07-19T19:12:35.735Z"
   },
   {
    "duration": 7,
    "start_time": "2022-07-19T19:12:35.806Z"
   },
   {
    "duration": 12,
    "start_time": "2022-07-19T19:12:35.814Z"
   },
   {
    "duration": 41,
    "start_time": "2022-07-19T19:12:35.828Z"
   },
   {
    "duration": 3,
    "start_time": "2022-07-19T19:12:35.871Z"
   },
   {
    "duration": 1431,
    "start_time": "2022-07-19T19:12:35.876Z"
   },
   {
    "duration": 53,
    "start_time": "2022-07-19T19:12:37.309Z"
   },
   {
    "duration": 47,
    "start_time": "2022-07-19T19:12:37.364Z"
   },
   {
    "duration": 9,
    "start_time": "2022-07-19T19:12:37.413Z"
   },
   {
    "duration": 7,
    "start_time": "2022-07-19T19:12:37.423Z"
   },
   {
    "duration": 1318,
    "start_time": "2022-07-19T19:17:11.472Z"
   },
   {
    "duration": 69,
    "start_time": "2022-07-19T19:17:12.792Z"
   },
   {
    "duration": 6,
    "start_time": "2022-07-19T19:17:12.865Z"
   },
   {
    "duration": 6,
    "start_time": "2022-07-19T19:17:12.872Z"
   },
   {
    "duration": 33,
    "start_time": "2022-07-19T19:17:12.880Z"
   },
   {
    "duration": 3,
    "start_time": "2022-07-19T19:17:12.914Z"
   },
   {
    "duration": 1405,
    "start_time": "2022-07-19T19:17:12.918Z"
   },
   {
    "duration": 54,
    "start_time": "2022-07-19T19:17:14.325Z"
   },
   {
    "duration": 47,
    "start_time": "2022-07-19T19:17:14.382Z"
   },
   {
    "duration": 9,
    "start_time": "2022-07-19T19:17:14.431Z"
   },
   {
    "duration": 3,
    "start_time": "2022-07-19T19:17:14.441Z"
   },
   {
    "duration": 292490,
    "start_time": "2022-07-19T19:17:14.446Z"
   },
   {
    "duration": 4,
    "start_time": "2022-07-19T19:22:06.938Z"
   },
   {
    "duration": 115,
    "start_time": "2022-07-19T19:22:06.943Z"
   },
   {
    "duration": 61,
    "start_time": "2022-07-19T19:23:51.745Z"
   },
   {
    "duration": 1477,
    "start_time": "2022-07-19T19:24:50.102Z"
   },
   {
    "duration": 77,
    "start_time": "2022-07-19T19:24:51.581Z"
   },
   {
    "duration": 7,
    "start_time": "2022-07-19T19:24:51.659Z"
   },
   {
    "duration": 10,
    "start_time": "2022-07-19T19:24:51.667Z"
   },
   {
    "duration": 35,
    "start_time": "2022-07-19T19:24:51.679Z"
   },
   {
    "duration": 4,
    "start_time": "2022-07-19T19:24:51.716Z"
   },
   {
    "duration": 1385,
    "start_time": "2022-07-19T19:24:51.722Z"
   },
   {
    "duration": 52,
    "start_time": "2022-07-19T19:24:53.108Z"
   },
   {
    "duration": 40,
    "start_time": "2022-07-19T19:24:53.162Z"
   },
   {
    "duration": 7,
    "start_time": "2022-07-19T19:24:53.205Z"
   },
   {
    "duration": 7,
    "start_time": "2022-07-19T19:24:53.214Z"
   },
   {
    "duration": 1439,
    "start_time": "2022-07-19T19:25:22.422Z"
   },
   {
    "duration": 138,
    "start_time": "2022-07-19T19:25:23.863Z"
   },
   {
    "duration": 11,
    "start_time": "2022-07-19T19:25:24.003Z"
   },
   {
    "duration": 22,
    "start_time": "2022-07-19T19:25:24.018Z"
   },
   {
    "duration": 40,
    "start_time": "2022-07-19T19:25:24.043Z"
   },
   {
    "duration": 3,
    "start_time": "2022-07-19T19:25:24.085Z"
   },
   {
    "duration": 1530,
    "start_time": "2022-07-19T19:25:24.091Z"
   },
   {
    "duration": 53,
    "start_time": "2022-07-19T19:25:25.622Z"
   },
   {
    "duration": 41,
    "start_time": "2022-07-19T19:25:25.677Z"
   },
   {
    "duration": 8,
    "start_time": "2022-07-19T19:25:25.720Z"
   },
   {
    "duration": 4,
    "start_time": "2022-07-19T19:25:25.730Z"
   },
   {
    "duration": 1362,
    "start_time": "2022-07-19T19:25:54.537Z"
   },
   {
    "duration": 71,
    "start_time": "2022-07-19T19:25:55.901Z"
   },
   {
    "duration": 27,
    "start_time": "2022-07-19T19:25:55.974Z"
   },
   {
    "duration": 4,
    "start_time": "2022-07-19T19:25:56.003Z"
   },
   {
    "duration": 19,
    "start_time": "2022-07-19T19:25:56.009Z"
   },
   {
    "duration": 3,
    "start_time": "2022-07-19T19:25:56.029Z"
   },
   {
    "duration": 1476,
    "start_time": "2022-07-19T19:25:56.034Z"
   },
   {
    "duration": 58,
    "start_time": "2022-07-19T19:25:57.511Z"
   },
   {
    "duration": 46,
    "start_time": "2022-07-19T19:25:57.571Z"
   },
   {
    "duration": 8,
    "start_time": "2022-07-19T19:25:57.620Z"
   },
   {
    "duration": 2,
    "start_time": "2022-07-19T19:25:57.630Z"
   },
   {
    "duration": 133525,
    "start_time": "2022-07-19T19:25:57.634Z"
   },
   {
    "duration": 4,
    "start_time": "2022-07-19T19:28:11.160Z"
   },
   {
    "duration": 116,
    "start_time": "2022-07-19T19:28:11.166Z"
   },
   {
    "duration": 4,
    "start_time": "2022-07-19T19:31:54.759Z"
   },
   {
    "duration": 1248,
    "start_time": "2022-07-19T19:32:23.928Z"
   },
   {
    "duration": 89,
    "start_time": "2022-07-19T19:32:25.178Z"
   },
   {
    "duration": 8,
    "start_time": "2022-07-19T19:32:25.269Z"
   },
   {
    "duration": 22,
    "start_time": "2022-07-19T19:32:25.279Z"
   },
   {
    "duration": 36,
    "start_time": "2022-07-19T19:32:25.303Z"
   },
   {
    "duration": 3,
    "start_time": "2022-07-19T19:32:25.342Z"
   },
   {
    "duration": 1477,
    "start_time": "2022-07-19T19:32:25.347Z"
   },
   {
    "duration": 52,
    "start_time": "2022-07-19T19:32:26.826Z"
   },
   {
    "duration": 41,
    "start_time": "2022-07-19T19:32:26.880Z"
   },
   {
    "duration": 8,
    "start_time": "2022-07-19T19:32:26.922Z"
   },
   {
    "duration": 5,
    "start_time": "2022-07-19T19:32:26.931Z"
   },
   {
    "duration": 1382,
    "start_time": "2022-07-19T19:32:52.328Z"
   },
   {
    "duration": 72,
    "start_time": "2022-07-19T19:32:53.712Z"
   },
   {
    "duration": 20,
    "start_time": "2022-07-19T19:32:53.786Z"
   },
   {
    "duration": 7,
    "start_time": "2022-07-19T19:32:53.808Z"
   },
   {
    "duration": 24,
    "start_time": "2022-07-19T19:32:53.817Z"
   },
   {
    "duration": 3,
    "start_time": "2022-07-19T19:32:53.843Z"
   },
   {
    "duration": 1603,
    "start_time": "2022-07-19T19:32:53.847Z"
   },
   {
    "duration": 78,
    "start_time": "2022-07-19T19:32:55.453Z"
   },
   {
    "duration": 30,
    "start_time": "2022-07-19T19:32:55.533Z"
   },
   {
    "duration": 13,
    "start_time": "2022-07-19T19:32:55.566Z"
   },
   {
    "duration": 20,
    "start_time": "2022-07-19T19:32:55.581Z"
   },
   {
    "duration": 1278,
    "start_time": "2022-07-19T19:36:16.323Z"
   },
   {
    "duration": 69,
    "start_time": "2022-07-19T19:36:17.603Z"
   },
   {
    "duration": 27,
    "start_time": "2022-07-19T19:36:17.674Z"
   },
   {
    "duration": 19,
    "start_time": "2022-07-19T19:36:17.703Z"
   },
   {
    "duration": 54,
    "start_time": "2022-07-19T19:36:17.724Z"
   },
   {
    "duration": 6,
    "start_time": "2022-07-19T19:36:17.780Z"
   },
   {
    "duration": 1405,
    "start_time": "2022-07-19T19:36:17.787Z"
   },
   {
    "duration": 59,
    "start_time": "2022-07-19T19:36:19.193Z"
   },
   {
    "duration": 33,
    "start_time": "2022-07-19T19:36:19.254Z"
   },
   {
    "duration": 10,
    "start_time": "2022-07-19T19:36:19.302Z"
   },
   {
    "duration": 4,
    "start_time": "2022-07-19T19:36:19.313Z"
   },
   {
    "duration": 2136,
    "start_time": "2022-07-20T03:51:09.354Z"
   },
   {
    "duration": 204,
    "start_time": "2022-07-20T03:51:11.493Z"
   },
   {
    "duration": 9,
    "start_time": "2022-07-20T03:51:11.753Z"
   },
   {
    "duration": 11,
    "start_time": "2022-07-20T03:51:11.764Z"
   },
   {
    "duration": 83,
    "start_time": "2022-07-20T03:51:11.778Z"
   },
   {
    "duration": 3,
    "start_time": "2022-07-20T03:51:11.863Z"
   },
   {
    "duration": 2895,
    "start_time": "2022-07-20T03:51:11.868Z"
   },
   {
    "duration": 112,
    "start_time": "2022-07-20T03:51:14.764Z"
   },
   {
    "duration": 87,
    "start_time": "2022-07-20T03:51:14.877Z"
   },
   {
    "duration": 8,
    "start_time": "2022-07-20T03:51:14.966Z"
   },
   {
    "duration": 9,
    "start_time": "2022-07-20T03:51:14.976Z"
   },
   {
    "duration": 213,
    "start_time": "2022-07-20T03:51:14.986Z"
   },
   {
    "duration": 0,
    "start_time": "2022-07-20T03:51:15.252Z"
   },
   {
    "duration": 0,
    "start_time": "2022-07-20T03:51:15.253Z"
   },
   {
    "duration": 0,
    "start_time": "2022-07-20T03:51:15.254Z"
   },
   {
    "duration": 0,
    "start_time": "2022-07-20T03:51:15.256Z"
   },
   {
    "duration": 0,
    "start_time": "2022-07-20T03:51:15.257Z"
   },
   {
    "duration": 0,
    "start_time": "2022-07-20T03:51:15.258Z"
   },
   {
    "duration": 0,
    "start_time": "2022-07-20T03:51:15.259Z"
   },
   {
    "duration": 2265,
    "start_time": "2022-07-20T03:52:11.101Z"
   },
   {
    "duration": 124,
    "start_time": "2022-07-20T03:52:13.368Z"
   },
   {
    "duration": 63,
    "start_time": "2022-07-20T03:52:13.494Z"
   },
   {
    "duration": 4,
    "start_time": "2022-07-20T03:52:13.559Z"
   },
   {
    "duration": 21,
    "start_time": "2022-07-20T03:52:13.564Z"
   },
   {
    "duration": 3,
    "start_time": "2022-07-20T03:52:13.587Z"
   },
   {
    "duration": 3312,
    "start_time": "2022-07-20T03:52:13.653Z"
   },
   {
    "duration": 131,
    "start_time": "2022-07-20T03:52:16.967Z"
   },
   {
    "duration": 27,
    "start_time": "2022-07-20T03:52:17.153Z"
   },
   {
    "duration": 8,
    "start_time": "2022-07-20T03:52:17.183Z"
   },
   {
    "duration": 3,
    "start_time": "2022-07-20T03:52:17.193Z"
   },
   {
    "duration": 606,
    "start_time": "2022-07-20T03:52:17.253Z"
   },
   {
    "duration": 93,
    "start_time": "2022-07-20T03:52:17.861Z"
   },
   {
    "duration": 5,
    "start_time": "2022-07-20T03:52:17.956Z"
   },
   {
    "duration": 4353554,
    "start_time": "2022-07-20T03:52:17.963Z"
   },
   {
    "duration": 5,
    "start_time": "2022-07-20T05:04:51.519Z"
   },
   {
    "duration": 10,
    "start_time": "2022-07-20T05:04:51.526Z"
   },
   {
    "duration": 190,
    "start_time": "2022-07-20T05:04:51.553Z"
   },
   {
    "duration": 14,
    "start_time": "2022-07-20T05:04:51.745Z"
   },
   {
    "duration": 5,
    "start_time": "2022-07-20T06:41:26.351Z"
   },
   {
    "duration": 16,
    "start_time": "2022-07-20T06:44:00.295Z"
   },
   {
    "duration": 45,
    "start_time": "2022-07-20T06:44:11.870Z"
   },
   {
    "duration": 25,
    "start_time": "2022-07-20T06:44:20.407Z"
   },
   {
    "duration": 1422,
    "start_time": "2022-07-20T06:44:30.802Z"
   },
   {
    "duration": 89,
    "start_time": "2022-07-20T06:44:32.227Z"
   },
   {
    "duration": 7,
    "start_time": "2022-07-20T06:44:32.318Z"
   },
   {
    "duration": 31,
    "start_time": "2022-07-20T06:44:32.327Z"
   },
   {
    "duration": 35,
    "start_time": "2022-07-20T06:44:32.361Z"
   },
   {
    "duration": 11,
    "start_time": "2022-07-20T06:44:32.397Z"
   },
   {
    "duration": 1506,
    "start_time": "2022-07-20T06:44:32.410Z"
   },
   {
    "duration": 70,
    "start_time": "2022-07-20T06:44:33.918Z"
   },
   {
    "duration": 44,
    "start_time": "2022-07-20T06:44:33.989Z"
   },
   {
    "duration": 26,
    "start_time": "2022-07-20T06:44:34.035Z"
   },
   {
    "duration": 3,
    "start_time": "2022-07-20T06:44:34.063Z"
   },
   {
    "duration": 1191,
    "start_time": "2022-07-20T06:44:34.068Z"
   },
   {
    "duration": 5,
    "start_time": "2022-07-20T06:44:35.261Z"
   },
   {
    "duration": 89,
    "start_time": "2022-07-20T06:44:35.270Z"
   },
   {
    "duration": 1268,
    "start_time": "2022-07-20T06:48:41.568Z"
   },
   {
    "duration": 73,
    "start_time": "2022-07-20T06:48:42.837Z"
   },
   {
    "duration": 7,
    "start_time": "2022-07-20T06:48:42.911Z"
   },
   {
    "duration": 33,
    "start_time": "2022-07-20T06:48:42.920Z"
   },
   {
    "duration": 22,
    "start_time": "2022-07-20T06:48:42.955Z"
   },
   {
    "duration": 3,
    "start_time": "2022-07-20T06:48:42.978Z"
   },
   {
    "duration": 1880,
    "start_time": "2022-07-20T06:48:42.982Z"
   },
   {
    "duration": 104,
    "start_time": "2022-07-20T06:48:44.863Z"
   },
   {
    "duration": 85,
    "start_time": "2022-07-20T06:48:44.968Z"
   },
   {
    "duration": 9,
    "start_time": "2022-07-20T06:48:45.055Z"
   },
   {
    "duration": 4,
    "start_time": "2022-07-20T06:48:45.066Z"
   },
   {
    "duration": 780,
    "start_time": "2022-07-20T06:48:45.071Z"
   },
   {
    "duration": 4,
    "start_time": "2022-07-20T06:48:45.854Z"
   },
   {
    "duration": 7,
    "start_time": "2022-07-20T06:48:45.859Z"
   },
   {
    "duration": 1280,
    "start_time": "2022-07-20T09:37:04.429Z"
   },
   {
    "duration": 66,
    "start_time": "2022-07-20T09:37:05.711Z"
   },
   {
    "duration": 6,
    "start_time": "2022-07-20T09:37:05.779Z"
   },
   {
    "duration": 23,
    "start_time": "2022-07-20T09:37:05.787Z"
   },
   {
    "duration": 37,
    "start_time": "2022-07-20T09:37:05.812Z"
   },
   {
    "duration": 2,
    "start_time": "2022-07-20T09:37:05.851Z"
   },
   {
    "duration": 1424,
    "start_time": "2022-07-20T09:37:05.854Z"
   },
   {
    "duration": 54,
    "start_time": "2022-07-20T09:37:07.280Z"
   },
   {
    "duration": 39,
    "start_time": "2022-07-20T09:37:07.335Z"
   },
   {
    "duration": 11,
    "start_time": "2022-07-20T09:37:07.376Z"
   },
   {
    "duration": 4,
    "start_time": "2022-07-20T09:37:07.389Z"
   },
   {
    "duration": 565,
    "start_time": "2022-07-20T09:37:07.395Z"
   },
   {
    "duration": 92,
    "start_time": "2022-07-20T09:37:07.962Z"
   },
   {
    "duration": 21,
    "start_time": "2022-07-20T09:37:08.056Z"
   },
   {
    "duration": 45,
    "start_time": "2022-07-20T09:37:08.151Z"
   },
   {
    "duration": 0,
    "start_time": "2022-07-20T09:37:08.198Z"
   },
   {
    "duration": 0,
    "start_time": "2022-07-20T09:37:08.199Z"
   },
   {
    "duration": 0,
    "start_time": "2022-07-20T09:37:08.200Z"
   },
   {
    "duration": 0,
    "start_time": "2022-07-20T09:37:08.201Z"
   },
   {
    "duration": 503,
    "start_time": "2022-07-20T09:37:31.054Z"
   },
   {
    "duration": 159029,
    "start_time": "2022-07-20T09:38:02.189Z"
   },
   {
    "duration": 4,
    "start_time": "2022-07-20T09:40:45.989Z"
   },
   {
    "duration": 4,
    "start_time": "2022-07-20T09:40:48.674Z"
   },
   {
    "duration": 160854,
    "start_time": "2022-07-20T09:43:22.611Z"
   },
   {
    "duration": 5,
    "start_time": "2022-07-20T09:51:52.682Z"
   },
   {
    "duration": 3,
    "start_time": "2022-07-20T09:51:53.298Z"
   },
   {
    "duration": 282408,
    "start_time": "2022-07-20T09:53:32.050Z"
   },
   {
    "duration": 4,
    "start_time": "2022-07-20T09:59:57.528Z"
   },
   {
    "duration": 4,
    "start_time": "2022-07-20T09:59:58.993Z"
   },
   {
    "duration": 1353,
    "start_time": "2022-07-20T10:50:21.247Z"
   },
   {
    "duration": 82,
    "start_time": "2022-07-20T10:50:22.602Z"
   },
   {
    "duration": 6,
    "start_time": "2022-07-20T10:50:22.686Z"
   },
   {
    "duration": 3,
    "start_time": "2022-07-20T10:50:22.694Z"
   },
   {
    "duration": 19,
    "start_time": "2022-07-20T10:50:22.699Z"
   },
   {
    "duration": 3,
    "start_time": "2022-07-20T10:50:22.720Z"
   },
   {
    "duration": 1544,
    "start_time": "2022-07-20T10:50:22.724Z"
   },
   {
    "duration": 50,
    "start_time": "2022-07-20T10:50:24.269Z"
   },
   {
    "duration": 40,
    "start_time": "2022-07-20T10:50:24.321Z"
   },
   {
    "duration": 8,
    "start_time": "2022-07-20T10:50:24.363Z"
   },
   {
    "duration": 2,
    "start_time": "2022-07-20T10:50:24.373Z"
   },
   {
    "duration": 880,
    "start_time": "2022-07-20T10:50:24.376Z"
   },
   {
    "duration": 6,
    "start_time": "2022-07-20T10:50:25.258Z"
   },
   {
    "duration": 104,
    "start_time": "2022-07-20T10:50:25.267Z"
   },
   {
    "duration": 1316,
    "start_time": "2022-07-20T10:52:29.832Z"
   },
   {
    "duration": 81,
    "start_time": "2022-07-20T10:52:31.149Z"
   },
   {
    "duration": 35,
    "start_time": "2022-07-20T10:52:31.231Z"
   },
   {
    "duration": 9,
    "start_time": "2022-07-20T10:52:31.268Z"
   },
   {
    "duration": 23,
    "start_time": "2022-07-20T10:52:31.279Z"
   },
   {
    "duration": 3,
    "start_time": "2022-07-20T10:52:31.303Z"
   },
   {
    "duration": 1650,
    "start_time": "2022-07-20T10:52:31.307Z"
   },
   {
    "duration": 106,
    "start_time": "2022-07-20T10:52:32.960Z"
   },
   {
    "duration": 27,
    "start_time": "2022-07-20T10:52:33.068Z"
   },
   {
    "duration": 64,
    "start_time": "2022-07-20T10:52:33.097Z"
   },
   {
    "duration": 3,
    "start_time": "2022-07-20T10:52:33.166Z"
   },
   {
    "duration": 694,
    "start_time": "2022-07-20T10:52:33.170Z"
   },
   {
    "duration": 7,
    "start_time": "2022-07-20T10:52:33.865Z"
   },
   {
    "duration": 91,
    "start_time": "2022-07-20T10:52:33.874Z"
   },
   {
    "duration": 1366,
    "start_time": "2022-07-20T10:52:52.681Z"
   },
   {
    "duration": 102,
    "start_time": "2022-07-20T10:52:54.048Z"
   },
   {
    "duration": 11,
    "start_time": "2022-07-20T10:52:54.152Z"
   },
   {
    "duration": 13,
    "start_time": "2022-07-20T10:52:54.165Z"
   },
   {
    "duration": 26,
    "start_time": "2022-07-20T10:52:54.180Z"
   },
   {
    "duration": 3,
    "start_time": "2022-07-20T10:52:54.208Z"
   },
   {
    "duration": 1456,
    "start_time": "2022-07-20T10:52:54.213Z"
   },
   {
    "duration": 53,
    "start_time": "2022-07-20T10:52:55.670Z"
   },
   {
    "duration": 40,
    "start_time": "2022-07-20T10:52:55.724Z"
   },
   {
    "duration": 9,
    "start_time": "2022-07-20T10:52:55.767Z"
   },
   {
    "duration": 5,
    "start_time": "2022-07-20T10:52:55.777Z"
   },
   {
    "duration": 586,
    "start_time": "2022-07-20T10:52:55.784Z"
   },
   {
    "duration": 6,
    "start_time": "2022-07-20T10:52:56.453Z"
   },
   {
    "duration": 16,
    "start_time": "2022-07-20T10:52:56.460Z"
   },
   {
    "duration": 165092,
    "start_time": "2022-07-20T10:52:56.478Z"
   },
   {
    "duration": 3,
    "start_time": "2022-07-20T10:55:41.572Z"
   },
   {
    "duration": 7,
    "start_time": "2022-07-20T10:55:41.577Z"
   },
   {
    "duration": 71,
    "start_time": "2022-07-20T10:55:41.586Z"
   },
   {
    "duration": 0,
    "start_time": "2022-07-20T10:55:41.669Z"
   },
   {
    "duration": 0,
    "start_time": "2022-07-20T10:55:41.670Z"
   },
   {
    "duration": 166372,
    "start_time": "2022-07-20T10:57:33.614Z"
   },
   {
    "duration": 5,
    "start_time": "2022-07-20T11:02:25.025Z"
   },
   {
    "duration": 4,
    "start_time": "2022-07-20T11:02:25.777Z"
   },
   {
    "duration": 169659,
    "start_time": "2022-07-20T11:03:15.543Z"
   },
   {
    "duration": 4,
    "start_time": "2022-07-20T11:06:05.204Z"
   },
   {
    "duration": 10,
    "start_time": "2022-07-20T11:06:05.210Z"
   },
   {
    "duration": 39,
    "start_time": "2022-07-20T11:08:12.391Z"
   },
   {
    "duration": 228,
    "start_time": "2022-07-20T11:08:30.215Z"
   },
   {
    "duration": 90,
    "start_time": "2022-07-20T11:08:52.534Z"
   },
   {
    "duration": 1567,
    "start_time": "2022-07-20T11:10:24.825Z"
   },
   {
    "duration": 77,
    "start_time": "2022-07-20T11:10:26.394Z"
   },
   {
    "duration": 6,
    "start_time": "2022-07-20T11:10:26.473Z"
   },
   {
    "duration": 7,
    "start_time": "2022-07-20T11:10:26.481Z"
   },
   {
    "duration": 20,
    "start_time": "2022-07-20T11:10:26.489Z"
   },
   {
    "duration": 3,
    "start_time": "2022-07-20T11:10:26.511Z"
   },
   {
    "duration": 1401,
    "start_time": "2022-07-20T11:10:26.516Z"
   },
   {
    "duration": 61,
    "start_time": "2022-07-20T11:10:27.919Z"
   },
   {
    "duration": 28,
    "start_time": "2022-07-20T11:10:27.981Z"
   },
   {
    "duration": 10,
    "start_time": "2022-07-20T11:10:28.012Z"
   },
   {
    "duration": 3,
    "start_time": "2022-07-20T11:10:28.023Z"
   },
   {
    "duration": 413,
    "start_time": "2022-07-20T11:10:28.052Z"
   },
   {
    "duration": 87,
    "start_time": "2022-07-20T11:10:28.467Z"
   },
   {
    "duration": 99,
    "start_time": "2022-07-20T11:10:28.556Z"
   },
   {
    "duration": 166660,
    "start_time": "2022-07-20T11:10:28.657Z"
   },
   {
    "duration": 5,
    "start_time": "2022-07-20T11:13:15.318Z"
   },
   {
    "duration": 14,
    "start_time": "2022-07-20T11:13:15.325Z"
   },
   {
    "duration": 239,
    "start_time": "2022-07-20T12:02:18.814Z"
   },
   {
    "duration": 1499,
    "start_time": "2022-07-20T12:03:15.543Z"
   },
   {
    "duration": 78,
    "start_time": "2022-07-20T12:03:17.043Z"
   },
   {
    "duration": 35,
    "start_time": "2022-07-20T12:03:17.123Z"
   },
   {
    "duration": 5,
    "start_time": "2022-07-20T12:03:17.160Z"
   },
   {
    "duration": 19,
    "start_time": "2022-07-20T12:03:17.167Z"
   },
   {
    "duration": 3,
    "start_time": "2022-07-20T12:03:17.188Z"
   },
   {
    "duration": 1670,
    "start_time": "2022-07-20T12:03:17.193Z"
   },
   {
    "duration": 59,
    "start_time": "2022-07-20T12:03:18.865Z"
   },
   {
    "duration": 51,
    "start_time": "2022-07-20T12:03:18.926Z"
   },
   {
    "duration": 10,
    "start_time": "2022-07-20T12:03:18.979Z"
   },
   {
    "duration": 2,
    "start_time": "2022-07-20T12:03:18.991Z"
   },
   {
    "duration": 469,
    "start_time": "2022-07-20T12:03:18.995Z"
   },
   {
    "duration": 5,
    "start_time": "2022-07-20T12:03:19.552Z"
   },
   {
    "duration": 9,
    "start_time": "2022-07-20T12:03:19.560Z"
   },
   {
    "duration": 1420,
    "start_time": "2022-07-20T12:04:35.543Z"
   },
   {
    "duration": 107,
    "start_time": "2022-07-20T12:04:36.966Z"
   },
   {
    "duration": 8,
    "start_time": "2022-07-20T12:04:37.075Z"
   },
   {
    "duration": 6,
    "start_time": "2022-07-20T12:04:37.085Z"
   },
   {
    "duration": 65,
    "start_time": "2022-07-20T12:04:37.094Z"
   },
   {
    "duration": 2,
    "start_time": "2022-07-20T12:04:37.162Z"
   },
   {
    "duration": 1546,
    "start_time": "2022-07-20T12:04:37.167Z"
   },
   {
    "duration": 70,
    "start_time": "2022-07-20T12:04:38.714Z"
   },
   {
    "duration": 33,
    "start_time": "2022-07-20T12:04:38.786Z"
   },
   {
    "duration": 33,
    "start_time": "2022-07-20T12:04:38.821Z"
   },
   {
    "duration": 2,
    "start_time": "2022-07-20T12:04:38.856Z"
   },
   {
    "duration": 1405,
    "start_time": "2022-07-20T12:04:38.860Z"
   },
   {
    "duration": 89,
    "start_time": "2022-07-20T12:04:40.267Z"
   },
   {
    "duration": 14,
    "start_time": "2022-07-20T12:04:40.360Z"
   },
   {
    "duration": 1434,
    "start_time": "2022-07-20T12:05:40.630Z"
   },
   {
    "duration": 93,
    "start_time": "2022-07-20T12:05:42.066Z"
   },
   {
    "duration": 7,
    "start_time": "2022-07-20T12:05:42.160Z"
   },
   {
    "duration": 8,
    "start_time": "2022-07-20T12:05:42.169Z"
   },
   {
    "duration": 24,
    "start_time": "2022-07-20T12:05:42.178Z"
   },
   {
    "duration": 3,
    "start_time": "2022-07-20T12:05:42.204Z"
   },
   {
    "duration": 1570,
    "start_time": "2022-07-20T12:05:42.209Z"
   },
   {
    "duration": 109,
    "start_time": "2022-07-20T12:05:43.780Z"
   },
   {
    "duration": 88,
    "start_time": "2022-07-20T12:05:43.891Z"
   },
   {
    "duration": 9,
    "start_time": "2022-07-20T12:05:43.981Z"
   },
   {
    "duration": 3,
    "start_time": "2022-07-20T12:05:43.991Z"
   },
   {
    "duration": 1108,
    "start_time": "2022-07-20T12:05:44.051Z"
   },
   {
    "duration": 4,
    "start_time": "2022-07-20T12:05:45.161Z"
   },
   {
    "duration": 85,
    "start_time": "2022-07-20T12:05:45.167Z"
   },
   {
    "duration": 7,
    "start_time": "2022-07-20T12:05:45.255Z"
   },
   {
    "duration": 294,
    "start_time": "2022-07-20T12:05:45.264Z"
   },
   {
    "duration": 0,
    "start_time": "2022-07-20T12:05:45.560Z"
   },
   {
    "duration": 0,
    "start_time": "2022-07-20T12:05:45.562Z"
   },
   {
    "duration": 0,
    "start_time": "2022-07-20T12:05:45.563Z"
   },
   {
    "duration": 0,
    "start_time": "2022-07-20T12:05:45.564Z"
   },
   {
    "duration": 1391,
    "start_time": "2022-07-20T12:06:35.045Z"
   },
   {
    "duration": 73,
    "start_time": "2022-07-20T12:06:36.438Z"
   },
   {
    "duration": 6,
    "start_time": "2022-07-20T12:06:36.513Z"
   },
   {
    "duration": 32,
    "start_time": "2022-07-20T12:06:36.521Z"
   },
   {
    "duration": 18,
    "start_time": "2022-07-20T12:06:36.555Z"
   },
   {
    "duration": 3,
    "start_time": "2022-07-20T12:06:36.575Z"
   },
   {
    "duration": 2342,
    "start_time": "2022-07-20T12:06:36.579Z"
   },
   {
    "duration": 71,
    "start_time": "2022-07-20T12:06:38.924Z"
   },
   {
    "duration": 32,
    "start_time": "2022-07-20T12:06:38.997Z"
   },
   {
    "duration": 25,
    "start_time": "2022-07-20T12:06:39.031Z"
   },
   {
    "duration": 3,
    "start_time": "2022-07-20T12:06:39.058Z"
   },
   {
    "duration": 498,
    "start_time": "2022-07-20T12:06:39.062Z"
   },
   {
    "duration": 95,
    "start_time": "2022-07-20T12:06:39.562Z"
   },
   {
    "duration": 14,
    "start_time": "2022-07-20T12:06:39.658Z"
   },
   {
    "duration": 81,
    "start_time": "2022-07-20T12:06:39.674Z"
   },
   {
    "duration": 136,
    "start_time": "2022-07-20T12:06:39.756Z"
   },
   {
    "duration": 0,
    "start_time": "2022-07-20T12:06:39.894Z"
   },
   {
    "duration": 0,
    "start_time": "2022-07-20T12:06:39.896Z"
   },
   {
    "duration": 0,
    "start_time": "2022-07-20T12:06:39.897Z"
   },
   {
    "duration": 0,
    "start_time": "2022-07-20T12:06:39.898Z"
   },
   {
    "duration": 1315,
    "start_time": "2022-07-20T12:09:51.714Z"
   },
   {
    "duration": 99,
    "start_time": "2022-07-20T12:09:53.031Z"
   },
   {
    "duration": 8,
    "start_time": "2022-07-20T12:09:53.132Z"
   },
   {
    "duration": 33,
    "start_time": "2022-07-20T12:09:53.142Z"
   },
   {
    "duration": 41,
    "start_time": "2022-07-20T12:09:53.177Z"
   },
   {
    "duration": 3,
    "start_time": "2022-07-20T12:09:53.220Z"
   },
   {
    "duration": 1397,
    "start_time": "2022-07-20T12:09:53.225Z"
   },
   {
    "duration": 63,
    "start_time": "2022-07-20T12:09:54.624Z"
   },
   {
    "duration": 31,
    "start_time": "2022-07-20T12:09:54.689Z"
   },
   {
    "duration": 9,
    "start_time": "2022-07-20T12:09:54.723Z"
   },
   {
    "duration": 2,
    "start_time": "2022-07-20T12:09:54.752Z"
   },
   {
    "duration": 598,
    "start_time": "2022-07-20T12:09:54.756Z"
   },
   {
    "duration": 5,
    "start_time": "2022-07-20T12:09:55.355Z"
   },
   {
    "duration": 108,
    "start_time": "2022-07-20T12:09:55.361Z"
   },
   {
    "duration": 16,
    "start_time": "2022-07-20T12:09:55.470Z"
   },
   {
    "duration": 106,
    "start_time": "2022-07-20T12:09:55.487Z"
   },
   {
    "duration": 0,
    "start_time": "2022-07-20T12:09:55.594Z"
   },
   {
    "duration": 0,
    "start_time": "2022-07-20T12:09:55.595Z"
   },
   {
    "duration": 0,
    "start_time": "2022-07-20T12:09:55.596Z"
   },
   {
    "duration": 0,
    "start_time": "2022-07-20T12:09:55.597Z"
   },
   {
    "duration": 1227,
    "start_time": "2022-07-20T12:10:42.199Z"
   },
   {
    "duration": 64,
    "start_time": "2022-07-20T12:10:43.429Z"
   },
   {
    "duration": 7,
    "start_time": "2022-07-20T12:10:43.495Z"
   },
   {
    "duration": 4,
    "start_time": "2022-07-20T12:10:43.503Z"
   },
   {
    "duration": 44,
    "start_time": "2022-07-20T12:10:43.510Z"
   },
   {
    "duration": 3,
    "start_time": "2022-07-20T12:10:43.556Z"
   },
   {
    "duration": 1826,
    "start_time": "2022-07-20T12:10:43.561Z"
   },
   {
    "duration": 110,
    "start_time": "2022-07-20T12:10:45.390Z"
   },
   {
    "duration": 99,
    "start_time": "2022-07-20T12:10:45.553Z"
   },
   {
    "duration": 11,
    "start_time": "2022-07-20T12:10:45.654Z"
   },
   {
    "duration": 3,
    "start_time": "2022-07-20T12:10:45.667Z"
   },
   {
    "duration": 1087,
    "start_time": "2022-07-20T12:10:45.672Z"
   },
   {
    "duration": 4,
    "start_time": "2022-07-20T12:10:46.761Z"
   },
   {
    "duration": 91,
    "start_time": "2022-07-20T12:10:46.768Z"
   },
   {
    "duration": 9,
    "start_time": "2022-07-20T12:10:46.861Z"
   },
   {
    "duration": 289,
    "start_time": "2022-07-20T12:10:46.872Z"
   },
   {
    "duration": 0,
    "start_time": "2022-07-20T12:10:47.163Z"
   },
   {
    "duration": 0,
    "start_time": "2022-07-20T12:10:47.164Z"
   },
   {
    "duration": 0,
    "start_time": "2022-07-20T12:10:47.165Z"
   },
   {
    "duration": 0,
    "start_time": "2022-07-20T12:10:47.166Z"
   },
   {
    "duration": 1249,
    "start_time": "2022-07-20T12:27:10.016Z"
   },
   {
    "duration": 89,
    "start_time": "2022-07-20T12:27:11.266Z"
   },
   {
    "duration": 7,
    "start_time": "2022-07-20T12:27:11.356Z"
   },
   {
    "duration": 3,
    "start_time": "2022-07-20T12:27:11.365Z"
   },
   {
    "duration": 19,
    "start_time": "2022-07-20T12:27:11.369Z"
   },
   {
    "duration": 2,
    "start_time": "2022-07-20T12:27:11.390Z"
   },
   {
    "duration": 1392,
    "start_time": "2022-07-20T12:27:11.394Z"
   },
   {
    "duration": 67,
    "start_time": "2022-07-20T12:27:12.788Z"
   },
   {
    "duration": 27,
    "start_time": "2022-07-20T12:27:12.857Z"
   },
   {
    "duration": 8,
    "start_time": "2022-07-20T12:27:12.886Z"
   },
   {
    "duration": 2,
    "start_time": "2022-07-20T12:27:12.895Z"
   },
   {
    "duration": 454,
    "start_time": "2022-07-20T12:27:12.899Z"
   },
   {
    "duration": 98,
    "start_time": "2022-07-20T12:27:13.355Z"
   },
   {
    "duration": 5,
    "start_time": "2022-07-20T12:27:13.455Z"
   },
   {
    "duration": 11,
    "start_time": "2022-07-20T12:27:13.461Z"
   },
   {
    "duration": 104,
    "start_time": "2022-07-20T12:27:13.473Z"
   },
   {
    "duration": 0,
    "start_time": "2022-07-20T12:27:13.578Z"
   },
   {
    "duration": 0,
    "start_time": "2022-07-20T12:27:13.579Z"
   },
   {
    "duration": 0,
    "start_time": "2022-07-20T12:27:13.580Z"
   },
   {
    "duration": 0,
    "start_time": "2022-07-20T12:27:13.581Z"
   },
   {
    "duration": 42,
    "start_time": "2022-07-20T12:27:18.192Z"
   },
   {
    "duration": 1406,
    "start_time": "2022-07-20T13:32:57.471Z"
   },
   {
    "duration": 83,
    "start_time": "2022-07-20T13:32:58.879Z"
   },
   {
    "duration": 8,
    "start_time": "2022-07-20T13:32:58.964Z"
   },
   {
    "duration": 9,
    "start_time": "2022-07-20T13:32:58.974Z"
   },
   {
    "duration": 38,
    "start_time": "2022-07-20T13:32:58.984Z"
   },
   {
    "duration": 3,
    "start_time": "2022-07-20T13:32:59.023Z"
   },
   {
    "duration": 1437,
    "start_time": "2022-07-20T13:32:59.028Z"
   },
   {
    "duration": 54,
    "start_time": "2022-07-20T13:33:00.466Z"
   },
   {
    "duration": 53,
    "start_time": "2022-07-20T13:33:00.522Z"
   },
   {
    "duration": 9,
    "start_time": "2022-07-20T13:33:00.579Z"
   },
   {
    "duration": 27,
    "start_time": "2022-07-20T13:33:00.590Z"
   },
   {
    "duration": 442,
    "start_time": "2022-07-20T13:33:00.619Z"
   },
   {
    "duration": 5,
    "start_time": "2022-07-20T13:33:01.152Z"
   },
   {
    "duration": 14,
    "start_time": "2022-07-20T13:33:01.158Z"
   },
   {
    "duration": 13,
    "start_time": "2022-07-20T13:33:01.174Z"
   },
   {
    "duration": 105,
    "start_time": "2022-07-20T13:33:01.253Z"
   },
   {
    "duration": 0,
    "start_time": "2022-07-20T13:33:01.359Z"
   },
   {
    "duration": 0,
    "start_time": "2022-07-20T13:33:01.360Z"
   },
   {
    "duration": 0,
    "start_time": "2022-07-20T13:33:01.361Z"
   },
   {
    "duration": 0,
    "start_time": "2022-07-20T13:33:01.362Z"
   },
   {
    "duration": 1434,
    "start_time": "2022-07-20T13:38:39.453Z"
   },
   {
    "duration": 71,
    "start_time": "2022-07-20T13:38:40.889Z"
   },
   {
    "duration": 7,
    "start_time": "2022-07-20T13:38:40.962Z"
   },
   {
    "duration": 5,
    "start_time": "2022-07-20T13:38:40.970Z"
   },
   {
    "duration": 19,
    "start_time": "2022-07-20T13:38:40.977Z"
   },
   {
    "duration": 3,
    "start_time": "2022-07-20T13:38:40.998Z"
   },
   {
    "duration": 1423,
    "start_time": "2022-07-20T13:38:41.003Z"
   },
   {
    "duration": 60,
    "start_time": "2022-07-20T13:38:42.428Z"
   },
   {
    "duration": 28,
    "start_time": "2022-07-20T13:38:42.490Z"
   },
   {
    "duration": 7,
    "start_time": "2022-07-20T13:38:42.520Z"
   },
   {
    "duration": 2,
    "start_time": "2022-07-20T13:38:42.529Z"
   },
   {
    "duration": 504,
    "start_time": "2022-07-20T13:38:42.552Z"
   },
   {
    "duration": 92,
    "start_time": "2022-07-20T13:38:43.062Z"
   },
   {
    "duration": 8,
    "start_time": "2022-07-20T13:38:43.156Z"
   },
   {
    "duration": 9,
    "start_time": "2022-07-20T13:38:43.165Z"
   },
   {
    "duration": 101,
    "start_time": "2022-07-20T13:38:43.175Z"
   },
   {
    "duration": 0,
    "start_time": "2022-07-20T13:38:43.278Z"
   },
   {
    "duration": 0,
    "start_time": "2022-07-20T13:38:43.280Z"
   },
   {
    "duration": 0,
    "start_time": "2022-07-20T13:38:43.281Z"
   },
   {
    "duration": 0,
    "start_time": "2022-07-20T13:38:43.282Z"
   },
   {
    "duration": 1950920,
    "start_time": "2022-07-20T13:38:45.584Z"
   },
   {
    "duration": 4,
    "start_time": "2022-07-20T14:13:07.196Z"
   },
   {
    "duration": 1345,
    "start_time": "2022-07-20T14:19:09.063Z"
   },
   {
    "duration": 78,
    "start_time": "2022-07-20T14:19:10.410Z"
   },
   {
    "duration": 7,
    "start_time": "2022-07-20T14:19:10.490Z"
   },
   {
    "duration": 9,
    "start_time": "2022-07-20T14:19:10.499Z"
   },
   {
    "duration": 27,
    "start_time": "2022-07-20T14:19:10.509Z"
   },
   {
    "duration": 3,
    "start_time": "2022-07-20T14:19:10.553Z"
   },
   {
    "duration": 2006,
    "start_time": "2022-07-20T14:19:10.558Z"
   },
   {
    "duration": 125,
    "start_time": "2022-07-20T14:19:12.567Z"
   },
   {
    "duration": 84,
    "start_time": "2022-07-20T14:19:12.694Z"
   },
   {
    "duration": 8,
    "start_time": "2022-07-20T14:19:12.780Z"
   },
   {
    "duration": 2,
    "start_time": "2022-07-20T14:19:12.790Z"
   },
   {
    "duration": 1164,
    "start_time": "2022-07-20T14:19:12.794Z"
   },
   {
    "duration": 4,
    "start_time": "2022-07-20T14:19:13.959Z"
   },
   {
    "duration": 11,
    "start_time": "2022-07-20T14:19:14.052Z"
   },
   {
    "duration": 45,
    "start_time": "2022-07-20T14:19:14.152Z"
   },
   {
    "duration": 0,
    "start_time": "2022-07-20T14:19:14.198Z"
   },
   {
    "duration": 0,
    "start_time": "2022-07-20T14:19:14.200Z"
   },
   {
    "duration": 0,
    "start_time": "2022-07-20T14:19:14.201Z"
   },
   {
    "duration": 0,
    "start_time": "2022-07-20T14:19:14.202Z"
   },
   {
    "duration": 0,
    "start_time": "2022-07-20T14:19:14.203Z"
   },
   {
    "duration": 1441,
    "start_time": "2022-07-20T14:19:27.625Z"
   },
   {
    "duration": 87,
    "start_time": "2022-07-20T14:19:29.068Z"
   },
   {
    "duration": 7,
    "start_time": "2022-07-20T14:19:29.156Z"
   },
   {
    "duration": 3,
    "start_time": "2022-07-20T14:19:29.165Z"
   },
   {
    "duration": 23,
    "start_time": "2022-07-20T14:19:29.170Z"
   },
   {
    "duration": 3,
    "start_time": "2022-07-20T14:19:29.195Z"
   },
   {
    "duration": 2340,
    "start_time": "2022-07-20T14:19:29.200Z"
   },
   {
    "duration": 59,
    "start_time": "2022-07-20T14:19:31.551Z"
   },
   {
    "duration": 44,
    "start_time": "2022-07-20T14:19:31.613Z"
   },
   {
    "duration": 10,
    "start_time": "2022-07-20T14:19:31.661Z"
   },
   {
    "duration": 6,
    "start_time": "2022-07-20T14:19:31.672Z"
   },
   {
    "duration": 678,
    "start_time": "2022-07-20T14:19:31.679Z"
   },
   {
    "duration": 93,
    "start_time": "2022-07-20T14:19:32.359Z"
   },
   {
    "duration": 112,
    "start_time": "2022-07-20T14:19:32.454Z"
   },
   {
    "duration": 222,
    "start_time": "2022-07-20T14:19:32.568Z"
   },
   {
    "duration": 5,
    "start_time": "2022-07-20T14:19:32.792Z"
   },
   {
    "duration": 9,
    "start_time": "2022-07-20T14:19:32.798Z"
   },
   {
    "duration": 91,
    "start_time": "2022-07-20T14:19:32.808Z"
   },
   {
    "duration": 3,
    "start_time": "2022-07-20T14:19:32.901Z"
   },
   {
    "duration": 47,
    "start_time": "2022-07-20T14:19:32.905Z"
   },
   {
    "duration": 2548,
    "start_time": "2022-07-20T14:20:09.343Z"
   },
   {
    "duration": 66,
    "start_time": "2022-07-20T14:20:11.893Z"
   },
   {
    "duration": 6,
    "start_time": "2022-07-20T14:20:11.960Z"
   },
   {
    "duration": 4,
    "start_time": "2022-07-20T14:20:11.968Z"
   },
   {
    "duration": 23,
    "start_time": "2022-07-20T14:20:11.973Z"
   },
   {
    "duration": 2,
    "start_time": "2022-07-20T14:20:11.998Z"
   },
   {
    "duration": 2315,
    "start_time": "2022-07-20T14:20:12.001Z"
   },
   {
    "duration": 61,
    "start_time": "2022-07-20T14:20:14.318Z"
   },
   {
    "duration": 28,
    "start_time": "2022-07-20T14:20:14.381Z"
   },
   {
    "duration": 9,
    "start_time": "2022-07-20T14:20:14.411Z"
   },
   {
    "duration": 6,
    "start_time": "2022-07-20T14:20:14.422Z"
   },
   {
    "duration": 632,
    "start_time": "2022-07-20T14:20:14.430Z"
   },
   {
    "duration": 90,
    "start_time": "2022-07-20T14:20:15.063Z"
   },
   {
    "duration": 10,
    "start_time": "2022-07-20T14:20:15.155Z"
   },
   {
    "duration": 1339,
    "start_time": "2022-07-20T14:21:29.797Z"
   },
   {
    "duration": 88,
    "start_time": "2022-07-20T14:21:31.137Z"
   },
   {
    "duration": 6,
    "start_time": "2022-07-20T14:21:31.227Z"
   },
   {
    "duration": 16,
    "start_time": "2022-07-20T14:21:31.234Z"
   },
   {
    "duration": 52,
    "start_time": "2022-07-20T14:21:31.251Z"
   },
   {
    "duration": 4,
    "start_time": "2022-07-20T14:21:31.305Z"
   },
   {
    "duration": 2224,
    "start_time": "2022-07-20T14:21:31.310Z"
   },
   {
    "duration": 57,
    "start_time": "2022-07-20T14:21:33.535Z"
   },
   {
    "duration": 27,
    "start_time": "2022-07-20T14:21:33.594Z"
   },
   {
    "duration": 8,
    "start_time": "2022-07-20T14:21:33.623Z"
   },
   {
    "duration": 13,
    "start_time": "2022-07-20T14:21:33.652Z"
   },
   {
    "duration": 689,
    "start_time": "2022-07-20T14:21:33.667Z"
   },
   {
    "duration": 94,
    "start_time": "2022-07-20T14:21:34.358Z"
   },
   {
    "duration": 9,
    "start_time": "2022-07-20T14:21:34.454Z"
   },
   {
    "duration": 69138,
    "start_time": "2022-07-20T14:21:34.464Z"
   },
   {
    "duration": 4,
    "start_time": "2022-07-20T14:22:43.603Z"
   },
   {
    "duration": 8,
    "start_time": "2022-07-20T14:22:43.609Z"
   },
   {
    "duration": 168,
    "start_time": "2022-07-20T14:22:43.618Z"
   },
   {
    "duration": 3,
    "start_time": "2022-07-20T14:22:43.788Z"
   },
   {
    "duration": 14,
    "start_time": "2022-07-20T14:22:43.793Z"
   },
   {
    "duration": 134,
    "start_time": "2022-07-20T18:09:31.761Z"
   },
   {
    "duration": 129,
    "start_time": "2022-07-20T18:10:01.116Z"
   },
   {
    "duration": 224,
    "start_time": "2022-07-20T18:10:32.508Z"
   },
   {
    "duration": 45233,
    "start_time": "2022-07-20T18:11:03.683Z"
   },
   {
    "duration": 1523,
    "start_time": "2022-07-20T18:23:38.443Z"
   },
   {
    "duration": 91,
    "start_time": "2022-07-20T18:23:39.969Z"
   },
   {
    "duration": 9,
    "start_time": "2022-07-20T18:23:40.062Z"
   },
   {
    "duration": 36,
    "start_time": "2022-07-20T18:23:40.073Z"
   },
   {
    "duration": 52,
    "start_time": "2022-07-20T18:23:40.111Z"
   },
   {
    "duration": 3,
    "start_time": "2022-07-20T18:23:40.165Z"
   },
   {
    "duration": 1574,
    "start_time": "2022-07-20T18:23:40.170Z"
   },
   {
    "duration": 57,
    "start_time": "2022-07-20T18:23:41.752Z"
   },
   {
    "duration": 51,
    "start_time": "2022-07-20T18:23:41.811Z"
   },
   {
    "duration": 11,
    "start_time": "2022-07-20T18:23:41.869Z"
   },
   {
    "duration": 15,
    "start_time": "2022-07-20T18:23:41.882Z"
   },
   {
    "duration": 660,
    "start_time": "2022-07-20T18:23:41.898Z"
   },
   {
    "duration": 4,
    "start_time": "2022-07-20T18:23:42.560Z"
   },
   {
    "duration": 99,
    "start_time": "2022-07-20T18:23:42.565Z"
   },
   {
    "duration": 18,
    "start_time": "2022-07-20T18:23:42.666Z"
   },
   {
    "duration": 0,
    "start_time": "2022-07-20T18:23:42.685Z"
   },
   {
    "duration": 0,
    "start_time": "2022-07-20T18:23:42.686Z"
   },
   {
    "duration": 0,
    "start_time": "2022-07-20T18:23:42.687Z"
   },
   {
    "duration": 0,
    "start_time": "2022-07-20T18:23:42.688Z"
   },
   {
    "duration": 0,
    "start_time": "2022-07-20T18:23:42.690Z"
   },
   {
    "duration": 1667,
    "start_time": "2022-07-20T18:24:05.592Z"
   },
   {
    "duration": 101,
    "start_time": "2022-07-20T18:24:07.261Z"
   },
   {
    "duration": 12,
    "start_time": "2022-07-20T18:24:07.363Z"
   },
   {
    "duration": 6,
    "start_time": "2022-07-20T18:24:07.377Z"
   },
   {
    "duration": 20,
    "start_time": "2022-07-20T18:24:07.385Z"
   },
   {
    "duration": 3,
    "start_time": "2022-07-20T18:24:07.406Z"
   },
   {
    "duration": 2082,
    "start_time": "2022-07-20T18:24:07.410Z"
   },
   {
    "duration": 162,
    "start_time": "2022-07-20T18:24:09.493Z"
   },
   {
    "duration": 26,
    "start_time": "2022-07-20T18:24:09.657Z"
   },
   {
    "duration": 7,
    "start_time": "2022-07-20T18:24:09.685Z"
   },
   {
    "duration": 4,
    "start_time": "2022-07-20T18:24:09.694Z"
   },
   {
    "duration": 913,
    "start_time": "2022-07-20T18:24:09.752Z"
   },
   {
    "duration": 5,
    "start_time": "2022-07-20T18:24:10.753Z"
   },
   {
    "duration": 93,
    "start_time": "2022-07-20T18:24:10.761Z"
   },
   {
    "duration": 73110,
    "start_time": "2022-07-20T18:24:10.856Z"
   },
   {
    "duration": 5,
    "start_time": "2022-07-20T18:25:23.968Z"
   },
   {
    "duration": 8,
    "start_time": "2022-07-20T18:25:23.975Z"
   },
   {
    "duration": 1563,
    "start_time": "2022-07-20T19:00:47.651Z"
   },
   {
    "duration": 86,
    "start_time": "2022-07-20T19:00:49.216Z"
   },
   {
    "duration": 7,
    "start_time": "2022-07-20T19:00:49.304Z"
   },
   {
    "duration": 12,
    "start_time": "2022-07-20T19:00:49.313Z"
   },
   {
    "duration": 25,
    "start_time": "2022-07-20T19:00:49.353Z"
   },
   {
    "duration": 4,
    "start_time": "2022-07-20T19:00:49.380Z"
   },
   {
    "duration": 1683,
    "start_time": "2022-07-20T19:00:49.386Z"
   },
   {
    "duration": 89,
    "start_time": "2022-07-20T19:00:51.072Z"
   },
   {
    "duration": 53,
    "start_time": "2022-07-20T19:00:51.163Z"
   },
   {
    "duration": 36,
    "start_time": "2022-07-20T19:00:51.220Z"
   },
   {
    "duration": 6,
    "start_time": "2022-07-20T19:00:51.258Z"
   },
   {
    "duration": 1196,
    "start_time": "2022-07-20T19:00:51.265Z"
   },
   {
    "duration": 91,
    "start_time": "2022-07-20T19:00:52.464Z"
   },
   {
    "duration": 6,
    "start_time": "2022-07-20T19:00:52.557Z"
   },
   {
    "duration": 68322,
    "start_time": "2022-07-20T19:00:52.564Z"
   },
   {
    "duration": 4,
    "start_time": "2022-07-20T19:02:00.888Z"
   },
   {
    "duration": 11,
    "start_time": "2022-07-20T19:02:00.894Z"
   },
   {
    "duration": 19337984,
    "start_time": "2022-07-20T19:02:00.907Z"
   },
   {
    "duration": 3,
    "start_time": "2022-07-21T00:24:18.892Z"
   },
   {
    "duration": 260,
    "start_time": "2022-07-21T00:24:18.896Z"
   },
   {
    "duration": 3,
    "start_time": "2022-07-21T05:26:56.511Z"
   },
   {
    "duration": 159,
    "start_time": "2022-07-21T05:27:00.394Z"
   },
   {
    "duration": 3,
    "start_time": "2022-07-21T05:27:33.971Z"
   },
   {
    "duration": 4,
    "start_time": "2022-07-21T05:28:00.935Z"
   },
   {
    "duration": 14179,
    "start_time": "2022-07-21T05:49:50.664Z"
   },
   {
    "duration": 35128,
    "start_time": "2022-07-21T05:50:07.230Z"
   },
   {
    "duration": 4,
    "start_time": "2022-07-21T05:50:48.319Z"
   },
   {
    "duration": 3,
    "start_time": "2022-07-21T05:50:50.808Z"
   },
   {
    "duration": 43,
    "start_time": "2022-07-21T05:52:59.646Z"
   },
   {
    "duration": 6,
    "start_time": "2022-07-21T05:53:10.563Z"
   },
   {
    "duration": 105,
    "start_time": "2022-07-21T05:53:22.803Z"
   },
   {
    "duration": 44297,
    "start_time": "2022-07-21T05:53:41.136Z"
   },
   {
    "duration": 4,
    "start_time": "2022-07-21T05:54:41.299Z"
   },
   {
    "duration": 3,
    "start_time": "2022-07-21T05:54:42.072Z"
   },
   {
    "duration": 10,
    "start_time": "2022-07-21T05:55:09.640Z"
   },
   {
    "duration": 1323,
    "start_time": "2022-07-21T05:55:26.313Z"
   },
   {
    "duration": 67,
    "start_time": "2022-07-21T05:55:27.637Z"
   },
   {
    "duration": 6,
    "start_time": "2022-07-21T05:55:27.705Z"
   },
   {
    "duration": 6,
    "start_time": "2022-07-21T05:55:27.713Z"
   },
   {
    "duration": 44,
    "start_time": "2022-07-21T05:55:27.721Z"
   },
   {
    "duration": 3,
    "start_time": "2022-07-21T05:55:27.766Z"
   },
   {
    "duration": 1398,
    "start_time": "2022-07-21T05:55:27.771Z"
   },
   {
    "duration": 51,
    "start_time": "2022-07-21T05:55:29.171Z"
   },
   {
    "duration": 41,
    "start_time": "2022-07-21T05:55:29.223Z"
   },
   {
    "duration": 8,
    "start_time": "2022-07-21T05:55:29.266Z"
   },
   {
    "duration": 3,
    "start_time": "2022-07-21T05:55:29.276Z"
   },
   {
    "duration": 677,
    "start_time": "2022-07-21T05:55:29.280Z"
   },
   {
    "duration": 94,
    "start_time": "2022-07-21T05:55:29.958Z"
   },
   {
    "duration": 22,
    "start_time": "2022-07-21T05:55:30.054Z"
   },
   {
    "duration": 64749,
    "start_time": "2022-07-21T05:55:30.153Z"
   },
   {
    "duration": 5,
    "start_time": "2022-07-21T05:56:34.904Z"
   },
   {
    "duration": 6,
    "start_time": "2022-07-21T05:56:34.911Z"
   },
   {
    "duration": 42449,
    "start_time": "2022-07-21T05:56:34.919Z"
   },
   {
    "duration": 4,
    "start_time": "2022-07-21T05:57:17.369Z"
   },
   {
    "duration": 8,
    "start_time": "2022-07-21T05:57:17.375Z"
   },
   {
    "duration": 13,
    "start_time": "2022-07-21T05:57:17.385Z"
   },
   {
    "duration": 43175,
    "start_time": "2022-07-21T05:57:45.134Z"
   },
   {
    "duration": 5,
    "start_time": "2022-07-21T05:58:45.207Z"
   },
   {
    "duration": 3,
    "start_time": "2022-07-21T05:58:48.374Z"
   },
   {
    "duration": 11,
    "start_time": "2022-07-21T05:59:11.032Z"
   },
   {
    "duration": 1780,
    "start_time": "2022-07-24T11:54:34.937Z"
   },
   {
    "duration": 93,
    "start_time": "2022-07-24T11:54:36.719Z"
   },
   {
    "duration": 8,
    "start_time": "2022-07-24T11:54:36.814Z"
   },
   {
    "duration": 5,
    "start_time": "2022-07-24T11:54:36.824Z"
   },
   {
    "duration": 21,
    "start_time": "2022-07-24T11:54:36.831Z"
   },
   {
    "duration": 3,
    "start_time": "2022-07-24T11:54:36.853Z"
   },
   {
    "duration": 1723,
    "start_time": "2022-07-24T11:54:36.858Z"
   },
   {
    "duration": 74,
    "start_time": "2022-07-24T11:54:38.583Z"
   },
   {
    "duration": 35,
    "start_time": "2022-07-24T11:54:38.659Z"
   },
   {
    "duration": 21,
    "start_time": "2022-07-24T11:54:38.696Z"
   },
   {
    "duration": 3,
    "start_time": "2022-07-24T11:54:38.719Z"
   },
   {
    "duration": 893,
    "start_time": "2022-07-24T11:54:38.724Z"
   },
   {
    "duration": 6,
    "start_time": "2022-07-24T11:54:39.619Z"
   },
   {
    "duration": 96,
    "start_time": "2022-07-24T11:54:39.717Z"
   },
   {
    "duration": 83227,
    "start_time": "2022-07-24T11:54:39.814Z"
   },
   {
    "duration": 5,
    "start_time": "2022-07-24T11:56:03.043Z"
   },
   {
    "duration": 7,
    "start_time": "2022-07-24T11:56:03.050Z"
   },
   {
    "duration": 55227,
    "start_time": "2022-07-24T11:56:03.059Z"
   },
   {
    "duration": 5,
    "start_time": "2022-07-24T11:56:58.288Z"
   },
   {
    "duration": 41,
    "start_time": "2022-07-24T11:56:58.295Z"
   },
   {
    "duration": 39,
    "start_time": "2022-07-24T11:56:58.338Z"
   },
   {
    "duration": 130,
    "start_time": "2022-07-24T11:56:58.387Z"
   },
   {
    "duration": 1567,
    "start_time": "2022-07-24T11:57:35.590Z"
   },
   {
    "duration": 81,
    "start_time": "2022-07-24T11:57:37.159Z"
   },
   {
    "duration": 8,
    "start_time": "2022-07-24T11:57:37.242Z"
   },
   {
    "duration": 32,
    "start_time": "2022-07-24T11:57:37.253Z"
   },
   {
    "duration": 43,
    "start_time": "2022-07-24T11:57:37.288Z"
   },
   {
    "duration": 4,
    "start_time": "2022-07-24T11:57:37.333Z"
   },
   {
    "duration": 1680,
    "start_time": "2022-07-24T11:57:37.339Z"
   },
   {
    "duration": 69,
    "start_time": "2022-07-24T11:57:39.022Z"
   },
   {
    "duration": 48,
    "start_time": "2022-07-24T11:57:39.093Z"
   },
   {
    "duration": 9,
    "start_time": "2022-07-24T11:57:39.143Z"
   },
   {
    "duration": 8,
    "start_time": "2022-07-24T11:57:39.154Z"
   },
   {
    "duration": 1453,
    "start_time": "2022-07-24T11:57:39.164Z"
   },
   {
    "duration": 92,
    "start_time": "2022-07-24T11:57:40.619Z"
   },
   {
    "duration": 6,
    "start_time": "2022-07-24T11:57:40.714Z"
   },
   {
    "duration": 82254,
    "start_time": "2022-07-24T11:57:40.724Z"
   },
   {
    "duration": 4,
    "start_time": "2022-07-24T11:59:02.980Z"
   },
   {
    "duration": 9,
    "start_time": "2022-07-24T11:59:02.985Z"
   },
   {
    "duration": 54168,
    "start_time": "2022-07-24T11:59:02.996Z"
   },
   {
    "duration": 4,
    "start_time": "2022-07-24T11:59:57.166Z"
   },
   {
    "duration": 10,
    "start_time": "2022-07-24T11:59:57.173Z"
   },
   {
    "duration": 29,
    "start_time": "2022-07-24T11:59:57.185Z"
   },
   {
    "duration": 139,
    "start_time": "2022-07-24T11:59:57.216Z"
   },
   {
    "duration": 202,
    "start_time": "2022-07-24T12:00:22.267Z"
   },
   {
    "duration": 124,
    "start_time": "2022-07-24T12:04:34.439Z"
   },
   {
    "duration": 21,
    "start_time": "2022-07-24T12:04:44.133Z"
   },
   {
    "duration": 1508,
    "start_time": "2022-07-24T12:04:55.870Z"
   },
   {
    "duration": 82,
    "start_time": "2022-07-24T12:04:57.380Z"
   },
   {
    "duration": 7,
    "start_time": "2022-07-24T12:04:57.463Z"
   },
   {
    "duration": 4,
    "start_time": "2022-07-24T12:04:57.473Z"
   },
   {
    "duration": 43,
    "start_time": "2022-07-24T12:04:57.478Z"
   },
   {
    "duration": 3,
    "start_time": "2022-07-24T12:04:57.523Z"
   },
   {
    "duration": 1646,
    "start_time": "2022-07-24T12:04:57.527Z"
   },
   {
    "duration": 69,
    "start_time": "2022-07-24T12:04:59.174Z"
   },
   {
    "duration": 34,
    "start_time": "2022-07-24T12:04:59.245Z"
   },
   {
    "duration": 9,
    "start_time": "2022-07-24T12:04:59.282Z"
   },
   {
    "duration": 3,
    "start_time": "2022-07-24T12:04:59.311Z"
   },
   {
    "duration": 997,
    "start_time": "2022-07-24T12:04:59.315Z"
   },
   {
    "duration": 96,
    "start_time": "2022-07-24T12:05:00.317Z"
   },
   {
    "duration": 10,
    "start_time": "2022-07-24T12:05:00.415Z"
   },
   {
    "duration": 81901,
    "start_time": "2022-07-24T12:05:00.426Z"
   },
   {
    "duration": 4,
    "start_time": "2022-07-24T12:06:22.329Z"
   },
   {
    "duration": 13,
    "start_time": "2022-07-24T12:06:22.334Z"
   },
   {
    "duration": 55138,
    "start_time": "2022-07-24T12:06:22.349Z"
   },
   {
    "duration": 4,
    "start_time": "2022-07-24T12:07:17.489Z"
   },
   {
    "duration": 8,
    "start_time": "2022-07-24T12:07:17.495Z"
   },
   {
    "duration": 15,
    "start_time": "2022-07-24T12:07:17.510Z"
   },
   {
    "duration": 137,
    "start_time": "2022-07-24T12:07:17.527Z"
   },
   {
    "duration": 88,
    "start_time": "2022-07-24T12:10:10.709Z"
   },
   {
    "duration": 95021,
    "start_time": "2022-07-24T12:10:17.559Z"
   },
   {
    "duration": 1491,
    "start_time": "2022-07-24T12:13:16.696Z"
   },
   {
    "duration": 84,
    "start_time": "2022-07-24T12:13:18.189Z"
   },
   {
    "duration": 8,
    "start_time": "2022-07-24T12:13:18.274Z"
   },
   {
    "duration": 27,
    "start_time": "2022-07-24T12:13:18.284Z"
   },
   {
    "duration": 29,
    "start_time": "2022-07-24T12:13:18.315Z"
   },
   {
    "duration": 5,
    "start_time": "2022-07-24T12:13:18.346Z"
   },
   {
    "duration": 1718,
    "start_time": "2022-07-24T12:13:18.353Z"
   },
   {
    "duration": 73,
    "start_time": "2022-07-24T12:13:20.073Z"
   },
   {
    "duration": 34,
    "start_time": "2022-07-24T12:13:20.148Z"
   },
   {
    "duration": 26,
    "start_time": "2022-07-24T12:13:20.184Z"
   },
   {
    "duration": 11,
    "start_time": "2022-07-24T12:13:20.213Z"
   },
   {
    "duration": 891,
    "start_time": "2022-07-24T12:13:20.226Z"
   },
   {
    "duration": 93,
    "start_time": "2022-07-24T12:13:21.119Z"
   },
   {
    "duration": 12,
    "start_time": "2022-07-24T12:13:21.216Z"
   },
   {
    "duration": 83248,
    "start_time": "2022-07-24T12:13:21.231Z"
   },
   {
    "duration": 4,
    "start_time": "2022-07-24T12:14:44.480Z"
   },
   {
    "duration": 12,
    "start_time": "2022-07-24T12:14:44.486Z"
   },
   {
    "duration": 54316,
    "start_time": "2022-07-24T12:14:44.499Z"
   },
   {
    "duration": 6,
    "start_time": "2022-07-24T12:15:38.817Z"
   },
   {
    "duration": 25,
    "start_time": "2022-07-24T12:15:38.825Z"
   },
   {
    "duration": 23,
    "start_time": "2022-07-24T12:15:38.855Z"
   },
   {
    "duration": 94422,
    "start_time": "2022-07-24T12:15:38.880Z"
   },
   {
    "duration": 5,
    "start_time": "2022-07-24T12:17:13.309Z"
   },
   {
    "duration": 17,
    "start_time": "2022-07-24T12:17:13.315Z"
   },
   {
    "duration": 135,
    "start_time": "2022-07-24T12:17:13.333Z"
   },
   {
    "duration": 1456,
    "start_time": "2022-07-24T12:39:45.743Z"
   },
   {
    "duration": 83,
    "start_time": "2022-07-24T12:39:47.201Z"
   },
   {
    "duration": 7,
    "start_time": "2022-07-24T12:39:47.286Z"
   },
   {
    "duration": 7,
    "start_time": "2022-07-24T12:39:47.311Z"
   },
   {
    "duration": 21,
    "start_time": "2022-07-24T12:39:47.321Z"
   },
   {
    "duration": 3,
    "start_time": "2022-07-24T12:39:47.344Z"
   },
   {
    "duration": 1654,
    "start_time": "2022-07-24T12:39:47.349Z"
   },
   {
    "duration": 64,
    "start_time": "2022-07-24T12:39:49.010Z"
   },
   {
    "duration": 43,
    "start_time": "2022-07-24T12:39:49.076Z"
   },
   {
    "duration": 10,
    "start_time": "2022-07-24T12:39:49.121Z"
   },
   {
    "duration": 10,
    "start_time": "2022-07-24T12:39:49.133Z"
   },
   {
    "duration": 1168,
    "start_time": "2022-07-24T12:39:49.144Z"
   },
   {
    "duration": 92,
    "start_time": "2022-07-24T12:39:50.320Z"
   },
   {
    "duration": 11,
    "start_time": "2022-07-24T12:39:50.415Z"
   },
   {
    "duration": 84058,
    "start_time": "2022-07-24T12:39:50.428Z"
   },
   {
    "duration": 4,
    "start_time": "2022-07-24T12:41:14.487Z"
   },
   {
    "duration": 17,
    "start_time": "2022-07-24T12:41:14.493Z"
   },
   {
    "duration": 54069,
    "start_time": "2022-07-24T12:41:14.512Z"
   },
   {
    "duration": 3,
    "start_time": "2022-07-24T12:42:08.583Z"
   },
   {
    "duration": 7,
    "start_time": "2022-07-24T12:42:08.588Z"
   },
   {
    "duration": 24,
    "start_time": "2022-07-24T12:42:08.596Z"
   },
   {
    "duration": 270959,
    "start_time": "2022-07-24T12:42:08.622Z"
   },
   {
    "duration": 3,
    "start_time": "2022-07-24T12:46:39.583Z"
   },
   {
    "duration": 8,
    "start_time": "2022-07-24T12:46:39.588Z"
   },
   {
    "duration": 54833,
    "start_time": "2022-07-24T12:46:39.597Z"
   },
   {
    "duration": 5,
    "start_time": "2022-07-24T12:47:34.433Z"
   },
   {
    "duration": 10,
    "start_time": "2022-07-24T12:47:34.440Z"
   },
   {
    "duration": 143,
    "start_time": "2022-07-24T12:47:34.451Z"
   },
   {
    "duration": 286735,
    "start_time": "2022-07-24T12:48:26.767Z"
   },
   {
    "duration": 5,
    "start_time": "2022-07-24T12:53:27.092Z"
   },
   {
    "duration": 4,
    "start_time": "2022-07-24T12:53:28.176Z"
   },
   {
    "duration": 50,
    "start_time": "2022-07-24T12:54:05.846Z"
   },
   {
    "duration": 1592,
    "start_time": "2022-07-24T12:54:42.248Z"
   },
   {
    "duration": 105,
    "start_time": "2022-07-24T12:54:43.842Z"
   },
   {
    "duration": 9,
    "start_time": "2022-07-24T12:54:43.948Z"
   },
   {
    "duration": 7,
    "start_time": "2022-07-24T12:54:43.960Z"
   },
   {
    "duration": 48,
    "start_time": "2022-07-24T12:54:43.969Z"
   },
   {
    "duration": 5,
    "start_time": "2022-07-24T12:54:44.020Z"
   },
   {
    "duration": 1754,
    "start_time": "2022-07-24T12:54:44.028Z"
   },
   {
    "duration": 72,
    "start_time": "2022-07-24T12:54:45.784Z"
   },
   {
    "duration": 34,
    "start_time": "2022-07-24T12:54:45.858Z"
   },
   {
    "duration": 12,
    "start_time": "2022-07-24T12:54:45.909Z"
   },
   {
    "duration": 4,
    "start_time": "2022-07-24T12:54:45.922Z"
   },
   {
    "duration": 891,
    "start_time": "2022-07-24T12:54:45.927Z"
   },
   {
    "duration": 80,
    "start_time": "2022-07-24T12:54:46.832Z"
   },
   {
    "duration": 9,
    "start_time": "2022-07-24T12:54:46.915Z"
   },
   {
    "duration": 89339,
    "start_time": "2022-07-24T12:54:46.926Z"
   },
   {
    "duration": 7,
    "start_time": "2022-07-24T12:56:16.267Z"
   },
   {
    "duration": 10,
    "start_time": "2022-07-24T12:56:16.276Z"
   },
   {
    "duration": 53221,
    "start_time": "2022-07-24T12:56:16.289Z"
   },
   {
    "duration": 4,
    "start_time": "2022-07-24T12:57:09.512Z"
   },
   {
    "duration": 9,
    "start_time": "2022-07-24T12:57:09.518Z"
   },
   {
    "duration": 16,
    "start_time": "2022-07-24T12:57:09.529Z"
   },
   {
    "duration": 550429,
    "start_time": "2022-07-24T12:57:09.547Z"
   },
   {
    "duration": 5,
    "start_time": "2022-07-24T13:06:19.978Z"
   },
   {
    "duration": 14,
    "start_time": "2022-07-24T13:06:19.985Z"
   },
   {
    "duration": 60086,
    "start_time": "2022-07-24T13:06:20.002Z"
   },
   {
    "duration": 5,
    "start_time": "2022-07-24T13:07:20.090Z"
   },
   {
    "duration": 15,
    "start_time": "2022-07-24T13:07:20.096Z"
   },
   {
    "duration": 65,
    "start_time": "2022-07-24T13:07:20.114Z"
   },
   {
    "duration": 1727,
    "start_time": "2022-07-24T13:16:35.202Z"
   },
   {
    "duration": 94,
    "start_time": "2022-07-24T13:16:36.943Z"
   },
   {
    "duration": 7,
    "start_time": "2022-07-24T13:16:37.039Z"
   },
   {
    "duration": 5,
    "start_time": "2022-07-24T13:16:37.048Z"
   },
   {
    "duration": 24,
    "start_time": "2022-07-24T13:16:37.054Z"
   },
   {
    "duration": 36,
    "start_time": "2022-07-24T13:16:37.080Z"
   },
   {
    "duration": 1766,
    "start_time": "2022-07-24T13:16:37.118Z"
   },
   {
    "duration": 105,
    "start_time": "2022-07-24T13:16:38.886Z"
   },
   {
    "duration": 54,
    "start_time": "2022-07-24T13:16:38.993Z"
   },
   {
    "duration": 17,
    "start_time": "2022-07-24T13:16:39.049Z"
   },
   {
    "duration": 3,
    "start_time": "2022-07-24T13:16:39.068Z"
   },
   {
    "duration": 654,
    "start_time": "2022-07-24T13:16:39.073Z"
   },
   {
    "duration": 84,
    "start_time": "2022-07-24T13:16:39.732Z"
   },
   {
    "duration": 137,
    "start_time": "2022-07-24T13:16:39.818Z"
   },
   {
    "duration": 87644,
    "start_time": "2022-07-24T13:16:39.958Z"
   },
   {
    "duration": 16,
    "start_time": "2022-07-24T13:18:07.604Z"
   },
   {
    "duration": 22,
    "start_time": "2022-07-24T13:18:07.623Z"
   },
   {
    "duration": 56186,
    "start_time": "2022-07-24T13:18:07.647Z"
   },
   {
    "duration": 4,
    "start_time": "2022-07-24T13:19:03.835Z"
   },
   {
    "duration": 37,
    "start_time": "2022-07-24T13:19:03.841Z"
   },
   {
    "duration": 64,
    "start_time": "2022-07-24T13:19:03.880Z"
   },
   {
    "duration": 192496,
    "start_time": "2022-07-24T13:19:03.946Z"
   },
   {
    "duration": 5,
    "start_time": "2022-07-24T13:22:16.443Z"
   },
   {
    "duration": 10,
    "start_time": "2022-07-24T13:22:16.450Z"
   },
   {
    "duration": 59657,
    "start_time": "2022-07-24T13:22:16.461Z"
   },
   {
    "duration": 6,
    "start_time": "2022-07-24T13:23:16.122Z"
   },
   {
    "duration": 9,
    "start_time": "2022-07-24T13:23:16.130Z"
   },
   {
    "duration": 157,
    "start_time": "2022-07-24T13:23:16.141Z"
   },
   {
    "duration": 28,
    "start_time": "2022-07-24T13:23:34.037Z"
   },
   {
    "duration": 43,
    "start_time": "2022-07-24T13:24:08.904Z"
   },
   {
    "duration": 172,
    "start_time": "2022-07-24T13:24:26.625Z"
   },
   {
    "duration": 148,
    "start_time": "2022-07-24T13:26:19.570Z"
   },
   {
    "duration": 165,
    "start_time": "2022-07-24T13:27:04.684Z"
   },
   {
    "duration": 133,
    "start_time": "2022-07-24T13:27:38.377Z"
   },
   {
    "duration": 1526,
    "start_time": "2022-07-24T13:33:20.260Z"
   },
   {
    "duration": 127,
    "start_time": "2022-07-24T13:33:21.789Z"
   },
   {
    "duration": 11,
    "start_time": "2022-07-24T13:33:21.918Z"
   },
   {
    "duration": 24,
    "start_time": "2022-07-24T13:33:21.933Z"
   },
   {
    "duration": 46,
    "start_time": "2022-07-24T13:33:21.959Z"
   },
   {
    "duration": 6,
    "start_time": "2022-07-24T13:33:22.008Z"
   },
   {
    "duration": 1654,
    "start_time": "2022-07-24T13:33:22.017Z"
   },
   {
    "duration": 71,
    "start_time": "2022-07-24T13:33:23.673Z"
   },
   {
    "duration": 32,
    "start_time": "2022-07-24T13:33:23.746Z"
   },
   {
    "duration": 10,
    "start_time": "2022-07-24T13:33:23.781Z"
   },
   {
    "duration": 2,
    "start_time": "2022-07-24T13:33:23.810Z"
   },
   {
    "duration": 998,
    "start_time": "2022-07-24T13:33:23.814Z"
   },
   {
    "duration": 94,
    "start_time": "2022-07-24T13:33:24.815Z"
   },
   {
    "duration": 22,
    "start_time": "2022-07-24T13:33:24.911Z"
   },
   {
    "duration": 82087,
    "start_time": "2022-07-24T13:33:24.935Z"
   },
   {
    "duration": 4,
    "start_time": "2022-07-24T13:34:47.023Z"
   },
   {
    "duration": 10,
    "start_time": "2022-07-24T13:34:47.029Z"
   },
   {
    "duration": 52827,
    "start_time": "2022-07-24T13:34:47.041Z"
   },
   {
    "duration": 6,
    "start_time": "2022-07-24T13:35:39.870Z"
   },
   {
    "duration": 5,
    "start_time": "2022-07-24T13:35:39.878Z"
   },
   {
    "duration": 27,
    "start_time": "2022-07-24T13:35:39.885Z"
   },
   {
    "duration": 72428,
    "start_time": "2022-07-24T13:35:39.914Z"
   },
   {
    "duration": 4,
    "start_time": "2022-07-24T13:36:52.344Z"
   },
   {
    "duration": 12,
    "start_time": "2022-07-24T13:36:52.350Z"
   },
   {
    "duration": 53970,
    "start_time": "2022-07-24T13:36:52.364Z"
   },
   {
    "duration": 4,
    "start_time": "2022-07-24T13:37:46.336Z"
   },
   {
    "duration": 8,
    "start_time": "2022-07-24T13:37:46.341Z"
   },
   {
    "duration": 141,
    "start_time": "2022-07-24T13:37:46.352Z"
   },
   {
    "duration": 1554,
    "start_time": "2022-07-24T13:38:41.354Z"
   },
   {
    "duration": 103,
    "start_time": "2022-07-24T13:38:42.910Z"
   },
   {
    "duration": 7,
    "start_time": "2022-07-24T13:38:43.016Z"
   },
   {
    "duration": 4,
    "start_time": "2022-07-24T13:38:43.026Z"
   },
   {
    "duration": 22,
    "start_time": "2022-07-24T13:38:43.032Z"
   },
   {
    "duration": 3,
    "start_time": "2022-07-24T13:38:43.055Z"
   },
   {
    "duration": 1712,
    "start_time": "2022-07-24T13:38:43.060Z"
   },
   {
    "duration": 76,
    "start_time": "2022-07-24T13:38:44.773Z"
   },
   {
    "duration": 35,
    "start_time": "2022-07-24T13:38:44.852Z"
   },
   {
    "duration": 29,
    "start_time": "2022-07-24T13:38:44.891Z"
   },
   {
    "duration": 4,
    "start_time": "2022-07-24T13:38:44.922Z"
   },
   {
    "duration": 889,
    "start_time": "2022-07-24T13:38:44.927Z"
   },
   {
    "duration": 94,
    "start_time": "2022-07-24T13:38:45.819Z"
   },
   {
    "duration": 10,
    "start_time": "2022-07-24T13:38:45.915Z"
   },
   {
    "duration": 85753,
    "start_time": "2022-07-24T13:38:46.011Z"
   },
   {
    "duration": 4,
    "start_time": "2022-07-24T13:40:11.766Z"
   },
   {
    "duration": 7,
    "start_time": "2022-07-24T13:40:11.772Z"
   },
   {
    "duration": 55903,
    "start_time": "2022-07-24T13:40:11.781Z"
   },
   {
    "duration": 4,
    "start_time": "2022-07-24T13:41:07.686Z"
   },
   {
    "duration": 46,
    "start_time": "2022-07-24T13:41:07.691Z"
   },
   {
    "duration": 28,
    "start_time": "2022-07-24T13:41:07.739Z"
   },
   {
    "duration": 79689,
    "start_time": "2022-07-24T13:41:07.769Z"
   },
   {
    "duration": 3,
    "start_time": "2022-07-24T13:42:27.460Z"
   },
   {
    "duration": 8,
    "start_time": "2022-07-24T13:42:27.465Z"
   },
   {
    "duration": 254,
    "start_time": "2022-07-24T13:42:27.475Z"
   },
   {
    "duration": 14,
    "start_time": "2022-07-24T13:42:27.731Z"
   },
   {
    "duration": 0,
    "start_time": "2022-07-24T13:42:27.746Z"
   },
   {
    "duration": 0,
    "start_time": "2022-07-24T13:42:27.747Z"
   },
   {
    "duration": 125,
    "start_time": "2022-07-24T13:49:26.908Z"
   },
   {
    "duration": 151,
    "start_time": "2022-07-24T13:49:44.252Z"
   },
   {
    "duration": 147,
    "start_time": "2022-07-24T13:50:52.550Z"
   },
   {
    "duration": 1498,
    "start_time": "2022-07-24T13:54:04.308Z"
   },
   {
    "duration": 102,
    "start_time": "2022-07-24T13:54:05.808Z"
   },
   {
    "duration": 9,
    "start_time": "2022-07-24T13:54:05.912Z"
   },
   {
    "duration": 5,
    "start_time": "2022-07-24T13:54:05.924Z"
   },
   {
    "duration": 32,
    "start_time": "2022-07-24T13:54:05.931Z"
   },
   {
    "duration": 3,
    "start_time": "2022-07-24T13:54:05.965Z"
   },
   {
    "duration": 1716,
    "start_time": "2022-07-24T13:54:05.970Z"
   },
   {
    "duration": 81,
    "start_time": "2022-07-24T13:54:07.689Z"
   },
   {
    "duration": 45,
    "start_time": "2022-07-24T13:54:07.773Z"
   },
   {
    "duration": 12,
    "start_time": "2022-07-24T13:54:07.822Z"
   },
   {
    "duration": 4,
    "start_time": "2022-07-24T13:54:07.836Z"
   },
   {
    "duration": 772,
    "start_time": "2022-07-24T13:54:07.842Z"
   },
   {
    "duration": 94,
    "start_time": "2022-07-24T13:54:08.616Z"
   },
   {
    "duration": 12,
    "start_time": "2022-07-24T13:54:08.712Z"
   },
   {
    "duration": 85023,
    "start_time": "2022-07-24T13:54:08.726Z"
   },
   {
    "duration": 4,
    "start_time": "2022-07-24T13:55:33.751Z"
   },
   {
    "duration": 10,
    "start_time": "2022-07-24T13:55:33.756Z"
   },
   {
    "duration": 26650,
    "start_time": "2022-07-24T13:55:33.768Z"
   },
   {
    "duration": 6,
    "start_time": "2022-07-24T13:56:00.421Z"
   },
   {
    "duration": 12,
    "start_time": "2022-07-24T13:56:00.429Z"
   },
   {
    "duration": 21,
    "start_time": "2022-07-24T13:56:00.444Z"
   },
   {
    "duration": 75322,
    "start_time": "2022-07-24T13:56:00.467Z"
   },
   {
    "duration": 5,
    "start_time": "2022-07-24T13:57:15.790Z"
   },
   {
    "duration": 18,
    "start_time": "2022-07-24T13:57:15.796Z"
   },
   {
    "duration": 93421,
    "start_time": "2022-07-24T13:57:15.816Z"
   },
   {
    "duration": 6,
    "start_time": "2022-07-24T13:58:49.240Z"
   },
   {
    "duration": 9,
    "start_time": "2022-07-24T13:58:49.248Z"
   },
   {
    "duration": 184,
    "start_time": "2022-07-24T13:58:49.261Z"
   },
   {
    "duration": 1658,
    "start_time": "2022-07-24T14:01:02.801Z"
   },
   {
    "duration": 97,
    "start_time": "2022-07-24T14:01:04.461Z"
   },
   {
    "duration": 9,
    "start_time": "2022-07-24T14:01:04.559Z"
   },
   {
    "duration": 4,
    "start_time": "2022-07-24T14:01:04.570Z"
   },
   {
    "duration": 45,
    "start_time": "2022-07-24T14:01:04.576Z"
   },
   {
    "duration": 5,
    "start_time": "2022-07-24T14:01:04.624Z"
   },
   {
    "duration": 1800,
    "start_time": "2022-07-24T14:01:04.631Z"
   },
   {
    "duration": 65,
    "start_time": "2022-07-24T14:01:06.433Z"
   },
   {
    "duration": 44,
    "start_time": "2022-07-24T14:01:06.510Z"
   },
   {
    "duration": 12,
    "start_time": "2022-07-24T14:01:06.557Z"
   },
   {
    "duration": 4,
    "start_time": "2022-07-24T14:01:06.571Z"
   },
   {
    "duration": 841,
    "start_time": "2022-07-24T14:01:06.577Z"
   },
   {
    "duration": 5,
    "start_time": "2022-07-24T14:01:07.420Z"
   },
   {
    "duration": 22,
    "start_time": "2022-07-24T14:01:07.509Z"
   },
   {
    "duration": 89585,
    "start_time": "2022-07-24T14:01:07.533Z"
   },
   {
    "duration": 6,
    "start_time": "2022-07-24T14:02:37.121Z"
   },
   {
    "duration": 19,
    "start_time": "2022-07-24T14:02:37.129Z"
   },
   {
    "duration": 1514,
    "start_time": "2022-07-24T14:13:23.981Z"
   },
   {
    "duration": 88,
    "start_time": "2022-07-24T14:13:25.497Z"
   },
   {
    "duration": 25,
    "start_time": "2022-07-24T14:13:25.586Z"
   },
   {
    "duration": 5,
    "start_time": "2022-07-24T14:13:25.614Z"
   },
   {
    "duration": 25,
    "start_time": "2022-07-24T14:13:25.620Z"
   },
   {
    "duration": 4,
    "start_time": "2022-07-24T14:13:25.647Z"
   },
   {
    "duration": 1662,
    "start_time": "2022-07-24T14:13:25.652Z"
   },
   {
    "duration": 65,
    "start_time": "2022-07-24T14:13:27.315Z"
   },
   {
    "duration": 57,
    "start_time": "2022-07-24T14:13:27.382Z"
   },
   {
    "duration": 10,
    "start_time": "2022-07-24T14:13:27.442Z"
   },
   {
    "duration": 4,
    "start_time": "2022-07-24T14:13:27.454Z"
   },
   {
    "duration": 956,
    "start_time": "2022-07-24T14:13:27.460Z"
   },
   {
    "duration": 5,
    "start_time": "2022-07-24T14:13:28.419Z"
   },
   {
    "duration": 7,
    "start_time": "2022-07-24T14:13:28.512Z"
   },
   {
    "duration": 1503,
    "start_time": "2022-07-24T14:14:39.241Z"
   },
   {
    "duration": 89,
    "start_time": "2022-07-24T14:14:40.746Z"
   },
   {
    "duration": 9,
    "start_time": "2022-07-24T14:14:40.837Z"
   },
   {
    "duration": 5,
    "start_time": "2022-07-24T14:14:40.848Z"
   },
   {
    "duration": 23,
    "start_time": "2022-07-24T14:14:40.855Z"
   },
   {
    "duration": 30,
    "start_time": "2022-07-24T14:14:40.880Z"
   },
   {
    "duration": 1829,
    "start_time": "2022-07-24T14:14:40.912Z"
   },
   {
    "duration": 74,
    "start_time": "2022-07-24T14:14:42.743Z"
   },
   {
    "duration": 36,
    "start_time": "2022-07-24T14:14:42.818Z"
   },
   {
    "duration": 11,
    "start_time": "2022-07-24T14:14:42.858Z"
   },
   {
    "duration": 18,
    "start_time": "2022-07-24T14:14:42.870Z"
   },
   {
    "duration": 1029,
    "start_time": "2022-07-24T14:14:42.890Z"
   },
   {
    "duration": 100,
    "start_time": "2022-07-24T14:14:43.921Z"
   },
   {
    "duration": 105,
    "start_time": "2022-07-24T14:14:44.023Z"
   },
   {
    "duration": 83973,
    "start_time": "2022-07-24T14:14:44.130Z"
   },
   {
    "duration": 7,
    "start_time": "2022-07-24T14:16:08.105Z"
   },
   {
    "duration": 20,
    "start_time": "2022-07-24T14:16:08.113Z"
   },
   {
    "duration": 888005,
    "start_time": "2022-07-24T14:16:08.135Z"
   },
   {
    "duration": 6,
    "start_time": "2022-07-24T14:30:56.142Z"
   },
   {
    "duration": 5,
    "start_time": "2022-07-24T14:30:56.150Z"
   },
   {
    "duration": 24,
    "start_time": "2022-07-24T14:30:56.157Z"
   },
   {
    "duration": 154,
    "start_time": "2022-07-24T14:30:56.183Z"
   },
   {
    "duration": 76385,
    "start_time": "2022-07-24T14:30:56.339Z"
   },
   {
    "duration": 4,
    "start_time": "2022-07-24T14:32:12.726Z"
   },
   {
    "duration": 8,
    "start_time": "2022-07-24T14:32:12.732Z"
   },
   {
    "duration": 1968,
    "start_time": "2022-07-24T14:43:40.151Z"
   },
   {
    "duration": 97,
    "start_time": "2022-07-24T14:43:42.121Z"
   },
   {
    "duration": 8,
    "start_time": "2022-07-24T14:43:42.219Z"
   },
   {
    "duration": 4,
    "start_time": "2022-07-24T14:43:42.229Z"
   },
   {
    "duration": 21,
    "start_time": "2022-07-24T14:43:42.235Z"
   },
   {
    "duration": 3,
    "start_time": "2022-07-24T14:43:42.258Z"
   },
   {
    "duration": 1763,
    "start_time": "2022-07-24T14:43:42.263Z"
   },
   {
    "duration": 64,
    "start_time": "2022-07-24T14:43:44.028Z"
   },
   {
    "duration": 46,
    "start_time": "2022-07-24T14:43:44.094Z"
   },
   {
    "duration": 9,
    "start_time": "2022-07-24T14:43:44.143Z"
   },
   {
    "duration": 3,
    "start_time": "2022-07-24T14:43:44.154Z"
   },
   {
    "duration": 954,
    "start_time": "2022-07-24T14:43:44.158Z"
   },
   {
    "duration": 5,
    "start_time": "2022-07-24T14:43:45.114Z"
   },
   {
    "duration": 99,
    "start_time": "2022-07-24T14:43:45.121Z"
   },
   {
    "duration": 85681,
    "start_time": "2022-07-24T14:43:45.222Z"
   },
   {
    "duration": 7,
    "start_time": "2022-07-24T14:45:10.904Z"
   },
   {
    "duration": 8,
    "start_time": "2022-07-24T14:45:10.912Z"
   },
   {
    "duration": 1541,
    "start_time": "2022-07-24T14:49:38.114Z"
   },
   {
    "duration": 83,
    "start_time": "2022-07-24T14:49:39.657Z"
   },
   {
    "duration": 8,
    "start_time": "2022-07-24T14:49:39.742Z"
   },
   {
    "duration": 13,
    "start_time": "2022-07-24T14:49:39.752Z"
   },
   {
    "duration": 30,
    "start_time": "2022-07-24T14:49:39.767Z"
   },
   {
    "duration": 12,
    "start_time": "2022-07-24T14:49:39.799Z"
   },
   {
    "duration": 1697,
    "start_time": "2022-07-24T14:49:39.813Z"
   },
   {
    "duration": 64,
    "start_time": "2022-07-24T14:49:41.512Z"
   },
   {
    "duration": 57,
    "start_time": "2022-07-24T14:49:41.578Z"
   },
   {
    "duration": 14,
    "start_time": "2022-07-24T14:49:41.639Z"
   },
   {
    "duration": 23,
    "start_time": "2022-07-24T14:49:41.655Z"
   },
   {
    "duration": 1336,
    "start_time": "2022-07-24T14:49:41.680Z"
   },
   {
    "duration": 94,
    "start_time": "2022-07-24T14:49:43.018Z"
   },
   {
    "duration": 7,
    "start_time": "2022-07-24T14:49:43.114Z"
   },
   {
    "duration": 48446,
    "start_time": "2022-07-24T14:49:43.123Z"
   },
   {
    "duration": 5,
    "start_time": "2022-07-24T14:50:31.571Z"
   },
   {
    "duration": 13,
    "start_time": "2022-07-24T14:50:31.577Z"
   },
   {
    "duration": 1538448,
    "start_time": "2022-07-24T14:50:31.592Z"
   },
   {
    "duration": 5,
    "start_time": "2022-07-24T15:16:10.043Z"
   },
   {
    "duration": 9,
    "start_time": "2022-07-24T15:16:10.050Z"
   },
   {
    "duration": 1670,
    "start_time": "2022-07-24T16:18:07.559Z"
   },
   {
    "duration": 118,
    "start_time": "2022-07-24T16:18:09.232Z"
   },
   {
    "duration": 11,
    "start_time": "2022-07-24T16:18:09.353Z"
   },
   {
    "duration": 11,
    "start_time": "2022-07-24T16:18:09.369Z"
   },
   {
    "duration": 44,
    "start_time": "2022-07-24T16:18:09.382Z"
   },
   {
    "duration": 20,
    "start_time": "2022-07-24T16:18:09.429Z"
   },
   {
    "duration": 3432,
    "start_time": "2022-07-24T16:18:09.451Z"
   },
   {
    "duration": 82,
    "start_time": "2022-07-24T16:18:12.885Z"
   },
   {
    "duration": 46,
    "start_time": "2022-07-24T16:18:12.969Z"
   },
   {
    "duration": 15,
    "start_time": "2022-07-24T16:18:13.018Z"
   },
   {
    "duration": 4,
    "start_time": "2022-07-24T16:18:13.035Z"
   },
   {
    "duration": 1470,
    "start_time": "2022-07-24T16:18:13.041Z"
   },
   {
    "duration": 96,
    "start_time": "2022-07-24T16:18:14.513Z"
   },
   {
    "duration": 11,
    "start_time": "2022-07-24T16:18:14.612Z"
   },
   {
    "duration": 204,
    "start_time": "2022-07-24T16:18:14.625Z"
   },
   {
    "duration": 6,
    "start_time": "2022-07-24T16:18:14.831Z"
   },
   {
    "duration": 8,
    "start_time": "2022-07-24T16:18:14.840Z"
   },
   {
    "duration": 109,
    "start_time": "2022-07-24T16:18:14.850Z"
   },
   {
    "duration": 5,
    "start_time": "2022-07-24T16:18:14.961Z"
   },
   {
    "duration": 9,
    "start_time": "2022-07-24T16:18:14.968Z"
   },
   {
    "duration": 1583,
    "start_time": "2022-07-24T16:18:22.914Z"
   },
   {
    "duration": 117,
    "start_time": "2022-07-24T16:18:24.500Z"
   },
   {
    "duration": 9,
    "start_time": "2022-07-24T16:18:24.619Z"
   },
   {
    "duration": 10,
    "start_time": "2022-07-24T16:18:24.632Z"
   },
   {
    "duration": 36,
    "start_time": "2022-07-24T16:18:24.645Z"
   },
   {
    "duration": 28,
    "start_time": "2022-07-24T16:18:24.683Z"
   },
   {
    "duration": 3848,
    "start_time": "2022-07-24T16:18:24.713Z"
   },
   {
    "duration": 109,
    "start_time": "2022-07-24T16:18:28.564Z"
   },
   {
    "duration": 67,
    "start_time": "2022-07-24T16:18:28.676Z"
   },
   {
    "duration": 13,
    "start_time": "2022-07-24T16:18:28.747Z"
   },
   {
    "duration": 3,
    "start_time": "2022-07-24T16:18:28.762Z"
   },
   {
    "duration": 1850,
    "start_time": "2022-07-24T16:18:28.767Z"
   },
   {
    "duration": 9,
    "start_time": "2022-07-24T16:18:30.623Z"
   },
   {
    "duration": 99,
    "start_time": "2022-07-24T16:18:30.635Z"
   },
   {
    "duration": 288,
    "start_time": "2022-07-24T16:18:30.737Z"
   },
   {
    "duration": 6,
    "start_time": "2022-07-24T16:18:31.028Z"
   },
   {
    "duration": 39,
    "start_time": "2022-07-24T16:18:31.037Z"
   },
   {
    "duration": 124,
    "start_time": "2022-07-24T16:18:31.078Z"
   },
   {
    "duration": 5,
    "start_time": "2022-07-24T16:18:31.205Z"
   },
   {
    "duration": 9,
    "start_time": "2022-07-24T16:18:31.211Z"
   },
   {
    "duration": 1706,
    "start_time": "2022-07-24T16:20:08.162Z"
   },
   {
    "duration": 111,
    "start_time": "2022-07-24T16:20:09.872Z"
   },
   {
    "duration": 27,
    "start_time": "2022-07-24T16:20:09.985Z"
   },
   {
    "duration": 6,
    "start_time": "2022-07-24T16:20:10.015Z"
   },
   {
    "duration": 32,
    "start_time": "2022-07-24T16:20:10.023Z"
   },
   {
    "duration": 3,
    "start_time": "2022-07-24T16:20:10.058Z"
   },
   {
    "duration": 1889,
    "start_time": "2022-07-24T16:20:10.064Z"
   },
   {
    "duration": 102,
    "start_time": "2022-07-24T16:20:11.956Z"
   },
   {
    "duration": 65,
    "start_time": "2022-07-24T16:20:12.060Z"
   },
   {
    "duration": 17,
    "start_time": "2022-07-24T16:20:12.130Z"
   },
   {
    "duration": 26,
    "start_time": "2022-07-24T16:20:12.150Z"
   },
   {
    "duration": 2038,
    "start_time": "2022-07-24T16:20:12.178Z"
   },
   {
    "duration": 6,
    "start_time": "2022-07-24T16:20:14.219Z"
   },
   {
    "duration": 5,
    "start_time": "2022-07-24T16:20:14.234Z"
   },
   {
    "duration": 199,
    "start_time": "2022-07-24T16:20:14.242Z"
   },
   {
    "duration": 7,
    "start_time": "2022-07-24T16:20:14.443Z"
   },
   {
    "duration": 58,
    "start_time": "2022-07-24T16:20:14.452Z"
   },
   {
    "duration": 1111,
    "start_time": "2022-07-24T16:20:14.514Z"
   },
   {
    "duration": 6,
    "start_time": "2022-07-24T16:20:15.628Z"
   },
   {
    "duration": 11,
    "start_time": "2022-07-24T16:20:15.636Z"
   },
   {
    "duration": 1578,
    "start_time": "2022-07-24T16:27:24.131Z"
   },
   {
    "duration": 109,
    "start_time": "2022-07-24T16:27:25.711Z"
   },
   {
    "duration": 8,
    "start_time": "2022-07-24T16:27:25.822Z"
   },
   {
    "duration": 13,
    "start_time": "2022-07-24T16:27:25.832Z"
   },
   {
    "duration": 33,
    "start_time": "2022-07-24T16:27:25.847Z"
   },
   {
    "duration": 29,
    "start_time": "2022-07-24T16:27:25.882Z"
   },
   {
    "duration": 1789,
    "start_time": "2022-07-24T16:27:25.914Z"
   },
   {
    "duration": 83,
    "start_time": "2022-07-24T16:27:27.709Z"
   },
   {
    "duration": 51,
    "start_time": "2022-07-24T16:27:27.795Z"
   },
   {
    "duration": 12,
    "start_time": "2022-07-24T16:27:27.849Z"
   },
   {
    "duration": 3,
    "start_time": "2022-07-24T16:27:27.864Z"
   },
   {
    "duration": 1253,
    "start_time": "2022-07-24T16:27:27.869Z"
   },
   {
    "duration": 11,
    "start_time": "2022-07-24T16:27:29.209Z"
   },
   {
    "duration": 22,
    "start_time": "2022-07-24T16:27:29.309Z"
   },
   {
    "duration": 93,
    "start_time": "2022-07-24T16:27:29.333Z"
   },
   {
    "duration": 4,
    "start_time": "2022-07-24T16:27:29.428Z"
   },
   {
    "duration": 9,
    "start_time": "2022-07-24T16:27:29.434Z"
   },
   {
    "duration": 745,
    "start_time": "2022-07-24T16:27:29.445Z"
   },
   {
    "duration": 5,
    "start_time": "2022-07-24T16:27:30.193Z"
   },
   {
    "duration": 15,
    "start_time": "2022-07-24T16:27:30.200Z"
   },
   {
    "duration": 756843,
    "start_time": "2022-07-24T16:27:30.218Z"
   },
   {
    "duration": 6,
    "start_time": "2022-07-24T16:40:07.063Z"
   },
   {
    "duration": 13,
    "start_time": "2022-07-24T16:40:07.071Z"
   },
   {
    "duration": 23,
    "start_time": "2022-07-24T16:40:07.086Z"
   },
   {
    "duration": 335,
    "start_time": "2022-07-24T16:40:07.111Z"
   },
   {
    "duration": 0,
    "start_time": "2022-07-24T16:40:07.449Z"
   },
   {
    "duration": 0,
    "start_time": "2022-07-24T16:40:07.451Z"
   },
   {
    "duration": 0,
    "start_time": "2022-07-24T16:40:07.452Z"
   },
   {
    "duration": 0,
    "start_time": "2022-07-24T16:40:07.453Z"
   },
   {
    "duration": 0,
    "start_time": "2022-07-24T16:40:07.455Z"
   },
   {
    "duration": 0,
    "start_time": "2022-07-24T16:40:07.457Z"
   },
   {
    "duration": 0,
    "start_time": "2022-07-24T16:40:07.458Z"
   },
   {
    "duration": 0,
    "start_time": "2022-07-24T16:40:07.460Z"
   },
   {
    "duration": 0,
    "start_time": "2022-07-24T16:40:07.461Z"
   },
   {
    "duration": 0,
    "start_time": "2022-07-24T16:40:07.463Z"
   },
   {
    "duration": 0,
    "start_time": "2022-07-24T16:40:07.464Z"
   },
   {
    "duration": 0,
    "start_time": "2022-07-24T16:40:07.465Z"
   },
   {
    "duration": 0,
    "start_time": "2022-07-24T16:40:07.466Z"
   },
   {
    "duration": 1,
    "start_time": "2022-07-24T16:40:07.467Z"
   },
   {
    "duration": 0,
    "start_time": "2022-07-24T16:40:07.469Z"
   },
   {
    "duration": 0,
    "start_time": "2022-07-24T16:40:07.471Z"
   },
   {
    "duration": 0,
    "start_time": "2022-07-24T16:40:07.472Z"
   },
   {
    "duration": 0,
    "start_time": "2022-07-24T16:40:07.510Z"
   },
   {
    "duration": 0,
    "start_time": "2022-07-24T16:40:07.512Z"
   },
   {
    "duration": 0,
    "start_time": "2022-07-24T16:40:07.514Z"
   },
   {
    "duration": 0,
    "start_time": "2022-07-24T16:40:07.515Z"
   },
   {
    "duration": 0,
    "start_time": "2022-07-24T16:40:07.517Z"
   },
   {
    "duration": 0,
    "start_time": "2022-07-24T16:40:07.519Z"
   },
   {
    "duration": 0,
    "start_time": "2022-07-24T16:40:07.520Z"
   },
   {
    "duration": 0,
    "start_time": "2022-07-24T16:40:07.521Z"
   },
   {
    "duration": 0,
    "start_time": "2022-07-24T16:40:07.523Z"
   },
   {
    "duration": 0,
    "start_time": "2022-07-24T16:40:07.524Z"
   },
   {
    "duration": 0,
    "start_time": "2022-07-24T16:40:07.526Z"
   },
   {
    "duration": 0,
    "start_time": "2022-07-24T16:40:07.528Z"
   },
   {
    "duration": 0,
    "start_time": "2022-07-24T16:40:07.529Z"
   },
   {
    "duration": 0,
    "start_time": "2022-07-24T16:40:07.530Z"
   },
   {
    "duration": 0,
    "start_time": "2022-07-24T16:40:07.532Z"
   },
   {
    "duration": 0,
    "start_time": "2022-07-24T16:40:07.533Z"
   },
   {
    "duration": 1867,
    "start_time": "2022-07-24T16:45:59.222Z"
   },
   {
    "duration": 143,
    "start_time": "2022-07-24T16:46:01.093Z"
   },
   {
    "duration": 12,
    "start_time": "2022-07-24T16:46:01.239Z"
   },
   {
    "duration": 13,
    "start_time": "2022-07-24T16:46:01.254Z"
   },
   {
    "duration": 48,
    "start_time": "2022-07-24T16:46:01.270Z"
   },
   {
    "duration": 6,
    "start_time": "2022-07-24T16:46:01.321Z"
   },
   {
    "duration": 2399,
    "start_time": "2022-07-24T16:46:01.330Z"
   },
   {
    "duration": 95,
    "start_time": "2022-07-24T16:46:03.736Z"
   },
   {
    "duration": 53,
    "start_time": "2022-07-24T16:46:03.834Z"
   },
   {
    "duration": 30,
    "start_time": "2022-07-24T16:46:03.890Z"
   },
   {
    "duration": 4,
    "start_time": "2022-07-24T16:46:03.923Z"
   },
   {
    "duration": 1804,
    "start_time": "2022-07-24T16:46:03.930Z"
   },
   {
    "duration": 72,
    "start_time": "2022-07-24T16:46:05.739Z"
   },
   {
    "duration": 103,
    "start_time": "2022-07-24T16:46:05.813Z"
   },
   {
    "duration": 103,
    "start_time": "2022-07-24T16:46:05.918Z"
   },
   {
    "duration": 4,
    "start_time": "2022-07-24T16:46:06.023Z"
   },
   {
    "duration": 8,
    "start_time": "2022-07-24T16:46:06.030Z"
   },
   {
    "duration": 871,
    "start_time": "2022-07-24T16:46:06.040Z"
   },
   {
    "duration": 5,
    "start_time": "2022-07-24T16:46:06.914Z"
   },
   {
    "duration": 10,
    "start_time": "2022-07-24T16:46:06.921Z"
   },
   {
    "duration": 1887,
    "start_time": "2022-07-24T16:46:06.934Z"
   },
   {
    "duration": 5,
    "start_time": "2022-07-24T16:46:08.823Z"
   },
   {
    "duration": 21,
    "start_time": "2022-07-24T16:46:08.830Z"
   },
   {
    "duration": 9,
    "start_time": "2022-07-24T16:46:08.854Z"
   },
   {
    "duration": 491,
    "start_time": "2022-07-24T16:46:08.866Z"
   },
   {
    "duration": 0,
    "start_time": "2022-07-24T16:46:09.361Z"
   },
   {
    "duration": 0,
    "start_time": "2022-07-24T16:46:09.363Z"
   },
   {
    "duration": 0,
    "start_time": "2022-07-24T16:46:09.365Z"
   },
   {
    "duration": 0,
    "start_time": "2022-07-24T16:46:09.366Z"
   },
   {
    "duration": 0,
    "start_time": "2022-07-24T16:46:09.368Z"
   },
   {
    "duration": 0,
    "start_time": "2022-07-24T16:46:09.369Z"
   },
   {
    "duration": 0,
    "start_time": "2022-07-24T16:46:09.370Z"
   },
   {
    "duration": 0,
    "start_time": "2022-07-24T16:46:09.373Z"
   },
   {
    "duration": 0,
    "start_time": "2022-07-24T16:46:09.374Z"
   },
   {
    "duration": 0,
    "start_time": "2022-07-24T16:46:09.375Z"
   },
   {
    "duration": 0,
    "start_time": "2022-07-24T16:46:09.376Z"
   },
   {
    "duration": 0,
    "start_time": "2022-07-24T16:46:09.377Z"
   },
   {
    "duration": 0,
    "start_time": "2022-07-24T16:46:09.379Z"
   },
   {
    "duration": 0,
    "start_time": "2022-07-24T16:46:09.380Z"
   },
   {
    "duration": 0,
    "start_time": "2022-07-24T16:46:09.411Z"
   },
   {
    "duration": 0,
    "start_time": "2022-07-24T16:46:09.412Z"
   },
   {
    "duration": 0,
    "start_time": "2022-07-24T16:46:09.413Z"
   },
   {
    "duration": 0,
    "start_time": "2022-07-24T16:46:09.415Z"
   },
   {
    "duration": 0,
    "start_time": "2022-07-24T16:46:09.416Z"
   },
   {
    "duration": 0,
    "start_time": "2022-07-24T16:46:09.418Z"
   },
   {
    "duration": 0,
    "start_time": "2022-07-24T16:46:09.419Z"
   },
   {
    "duration": 0,
    "start_time": "2022-07-24T16:46:09.420Z"
   },
   {
    "duration": 0,
    "start_time": "2022-07-24T16:46:09.421Z"
   },
   {
    "duration": 0,
    "start_time": "2022-07-24T16:46:09.423Z"
   },
   {
    "duration": 0,
    "start_time": "2022-07-24T16:46:09.424Z"
   },
   {
    "duration": 0,
    "start_time": "2022-07-24T16:46:09.425Z"
   },
   {
    "duration": 0,
    "start_time": "2022-07-24T16:46:09.427Z"
   },
   {
    "duration": 0,
    "start_time": "2022-07-24T16:46:09.428Z"
   },
   {
    "duration": 0,
    "start_time": "2022-07-24T16:46:09.430Z"
   },
   {
    "duration": 0,
    "start_time": "2022-07-24T16:46:09.431Z"
   },
   {
    "duration": 0,
    "start_time": "2022-07-24T16:46:09.432Z"
   },
   {
    "duration": 0,
    "start_time": "2022-07-24T16:46:09.434Z"
   },
   {
    "duration": 0,
    "start_time": "2022-07-24T16:46:09.435Z"
   },
   {
    "duration": 1931,
    "start_time": "2022-07-24T16:46:36.572Z"
   },
   {
    "duration": 125,
    "start_time": "2022-07-24T16:46:38.508Z"
   },
   {
    "duration": 10,
    "start_time": "2022-07-24T16:46:38.635Z"
   },
   {
    "duration": 11,
    "start_time": "2022-07-24T16:46:38.649Z"
   },
   {
    "duration": 48,
    "start_time": "2022-07-24T16:46:38.663Z"
   },
   {
    "duration": 4,
    "start_time": "2022-07-24T16:46:38.714Z"
   },
   {
    "duration": 2505,
    "start_time": "2022-07-24T16:46:38.720Z"
   },
   {
    "duration": 119,
    "start_time": "2022-07-24T16:46:41.228Z"
   },
   {
    "duration": 163,
    "start_time": "2022-07-24T16:46:41.349Z"
   },
   {
    "duration": 18,
    "start_time": "2022-07-24T16:46:41.517Z"
   },
   {
    "duration": 6,
    "start_time": "2022-07-24T16:46:41.537Z"
   },
   {
    "duration": 1871,
    "start_time": "2022-07-24T16:46:41.546Z"
   },
   {
    "duration": 8,
    "start_time": "2022-07-24T16:46:43.419Z"
   },
   {
    "duration": 98,
    "start_time": "2022-07-24T16:46:43.429Z"
   },
   {
    "duration": 129,
    "start_time": "2022-07-24T16:46:43.530Z"
   },
   {
    "duration": 7,
    "start_time": "2022-07-24T16:46:43.711Z"
   },
   {
    "duration": 42,
    "start_time": "2022-07-24T16:46:43.720Z"
   },
   {
    "duration": 1266,
    "start_time": "2022-07-24T16:46:43.764Z"
   },
   {
    "duration": 6,
    "start_time": "2022-07-24T16:46:45.032Z"
   },
   {
    "duration": 12,
    "start_time": "2022-07-24T16:46:45.041Z"
   },
   {
    "duration": 1967,
    "start_time": "2022-07-24T16:46:45.056Z"
   },
   {
    "duration": 5,
    "start_time": "2022-07-24T16:46:47.025Z"
   },
   {
    "duration": 19,
    "start_time": "2022-07-24T16:46:47.032Z"
   },
   {
    "duration": 18,
    "start_time": "2022-07-24T16:46:47.053Z"
   },
   {
    "duration": 496,
    "start_time": "2022-07-24T16:46:47.074Z"
   },
   {
    "duration": 310,
    "start_time": "2022-07-24T16:46:47.573Z"
   },
   {
    "duration": 56777,
    "start_time": "2022-07-24T16:46:47.889Z"
   },
   {
    "duration": 9,
    "start_time": "2022-07-24T16:47:44.672Z"
   },
   {
    "duration": 19,
    "start_time": "2022-07-24T16:47:44.683Z"
   },
   {
    "duration": 262,
    "start_time": "2022-07-24T16:47:44.705Z"
   },
   {
    "duration": 6,
    "start_time": "2022-07-24T16:47:44.969Z"
   },
   {
    "duration": 7,
    "start_time": "2022-07-24T16:47:44.977Z"
   },
   {
    "duration": 1646,
    "start_time": "2022-07-24T16:53:47.375Z"
   },
   {
    "duration": 121,
    "start_time": "2022-07-24T16:53:49.023Z"
   },
   {
    "duration": 10,
    "start_time": "2022-07-24T16:53:49.146Z"
   },
   {
    "duration": 14,
    "start_time": "2022-07-24T16:53:49.159Z"
   },
   {
    "duration": 48,
    "start_time": "2022-07-24T16:53:49.175Z"
   },
   {
    "duration": 4,
    "start_time": "2022-07-24T16:53:49.225Z"
   },
   {
    "duration": 1957,
    "start_time": "2022-07-24T16:53:49.231Z"
   },
   {
    "duration": 83,
    "start_time": "2022-07-24T16:53:51.190Z"
   },
   {
    "duration": 60,
    "start_time": "2022-07-24T16:53:51.276Z"
   },
   {
    "duration": 12,
    "start_time": "2022-07-24T16:53:51.340Z"
   },
   {
    "duration": 3,
    "start_time": "2022-07-24T16:53:51.355Z"
   },
   {
    "duration": 1660,
    "start_time": "2022-07-24T16:53:51.360Z"
   },
   {
    "duration": 87,
    "start_time": "2022-07-24T16:53:53.024Z"
   },
   {
    "duration": 108,
    "start_time": "2022-07-24T16:53:53.114Z"
   },
   {
    "duration": 58,
    "start_time": "2022-07-24T16:53:53.224Z"
   },
   {
    "duration": 4,
    "start_time": "2022-07-24T16:53:53.284Z"
   },
   {
    "duration": 20,
    "start_time": "2022-07-24T16:53:53.290Z"
   },
   {
    "duration": 651,
    "start_time": "2022-07-24T16:53:53.313Z"
   },
   {
    "duration": 5,
    "start_time": "2022-07-24T16:53:53.966Z"
   },
   {
    "duration": 10,
    "start_time": "2022-07-24T16:53:53.973Z"
   },
   {
    "duration": 1478,
    "start_time": "2022-07-24T16:53:53.985Z"
   },
   {
    "duration": 6,
    "start_time": "2022-07-24T16:53:55.466Z"
   },
   {
    "duration": 32,
    "start_time": "2022-07-24T16:53:55.474Z"
   },
   {
    "duration": 13,
    "start_time": "2022-07-24T16:53:55.508Z"
   },
   {
    "duration": 358,
    "start_time": "2022-07-24T16:53:55.523Z"
   },
   {
    "duration": 212,
    "start_time": "2022-07-24T16:53:55.883Z"
   },
   {
    "duration": 52903,
    "start_time": "2022-07-24T16:53:56.097Z"
   },
   {
    "duration": 5,
    "start_time": "2022-07-24T16:54:49.010Z"
   },
   {
    "duration": 10,
    "start_time": "2022-07-24T16:54:49.017Z"
   },
   {
    "duration": 786,
    "start_time": "2022-07-24T16:54:49.029Z"
   },
   {
    "duration": 6,
    "start_time": "2022-07-24T16:54:49.817Z"
   },
   {
    "duration": 11,
    "start_time": "2022-07-24T16:54:49.825Z"
   },
   {
    "duration": 1936,
    "start_time": "2022-07-24T17:00:53.600Z"
   },
   {
    "duration": 147,
    "start_time": "2022-07-24T17:00:55.539Z"
   },
   {
    "duration": 29,
    "start_time": "2022-07-24T17:00:55.689Z"
   },
   {
    "duration": 7,
    "start_time": "2022-07-24T17:00:55.722Z"
   },
   {
    "duration": 61,
    "start_time": "2022-07-24T17:00:55.732Z"
   },
   {
    "duration": 8,
    "start_time": "2022-07-24T17:00:55.796Z"
   },
   {
    "duration": 2451,
    "start_time": "2022-07-24T17:00:55.807Z"
   },
   {
    "duration": 105,
    "start_time": "2022-07-24T17:00:58.261Z"
   },
   {
    "duration": 67,
    "start_time": "2022-07-24T17:00:58.368Z"
   },
   {
    "duration": 16,
    "start_time": "2022-07-24T17:00:58.442Z"
   },
   {
    "duration": 45,
    "start_time": "2022-07-24T17:00:58.461Z"
   },
   {
    "duration": 1407,
    "start_time": "2022-07-24T17:00:58.509Z"
   },
   {
    "duration": 6,
    "start_time": "2022-07-24T17:00:59.919Z"
   },
   {
    "duration": 97,
    "start_time": "2022-07-24T17:00:59.929Z"
   },
   {
    "duration": 105,
    "start_time": "2022-07-24T17:01:00.029Z"
   },
   {
    "duration": 8,
    "start_time": "2022-07-24T17:01:00.140Z"
   },
   {
    "duration": 20,
    "start_time": "2022-07-24T17:01:00.154Z"
   },
   {
    "duration": 912,
    "start_time": "2022-07-24T17:01:00.177Z"
   },
   {
    "duration": 6,
    "start_time": "2022-07-24T17:01:01.091Z"
   },
   {
    "duration": 19,
    "start_time": "2022-07-24T17:01:01.110Z"
   },
   {
    "duration": 1919,
    "start_time": "2022-07-24T17:01:01.132Z"
   },
   {
    "duration": 5,
    "start_time": "2022-07-24T17:01:03.053Z"
   },
   {
    "duration": 21,
    "start_time": "2022-07-24T17:01:03.060Z"
   },
   {
    "duration": 12,
    "start_time": "2022-07-24T17:01:03.084Z"
   },
   {
    "duration": 459,
    "start_time": "2022-07-24T17:01:03.110Z"
   },
   {
    "duration": 272,
    "start_time": "2022-07-24T17:01:03.572Z"
   },
   {
    "duration": 92,
    "start_time": "2022-07-24T17:01:03.846Z"
   },
   {
    "duration": 15,
    "start_time": "2022-07-24T17:01:03.945Z"
   },
   {
    "duration": 25,
    "start_time": "2022-07-24T17:01:03.963Z"
   },
   {
    "duration": 835,
    "start_time": "2022-07-24T17:01:03.991Z"
   },
   {
    "duration": 8,
    "start_time": "2022-07-24T17:01:04.830Z"
   },
   {
    "duration": 14,
    "start_time": "2022-07-24T17:01:04.840Z"
   },
   {
    "duration": 1361791,
    "start_time": "2022-07-24T17:01:04.857Z"
   },
   {
    "duration": 5,
    "start_time": "2022-07-24T17:23:46.650Z"
   },
   {
    "duration": 7,
    "start_time": "2022-07-24T17:23:46.657Z"
   },
   {
    "duration": 172,
    "start_time": "2022-07-24T17:23:46.666Z"
   },
   {
    "duration": 0,
    "start_time": "2022-07-24T17:23:46.840Z"
   },
   {
    "duration": 0,
    "start_time": "2022-07-24T17:23:46.842Z"
   },
   {
    "duration": 0,
    "start_time": "2022-07-24T17:23:46.844Z"
   },
   {
    "duration": 0,
    "start_time": "2022-07-24T17:23:46.845Z"
   },
   {
    "duration": 0,
    "start_time": "2022-07-24T17:23:46.847Z"
   },
   {
    "duration": 0,
    "start_time": "2022-07-24T17:23:46.848Z"
   },
   {
    "duration": 0,
    "start_time": "2022-07-24T17:23:46.850Z"
   },
   {
    "duration": 0,
    "start_time": "2022-07-24T17:23:46.851Z"
   },
   {
    "duration": 0,
    "start_time": "2022-07-24T17:23:46.853Z"
   },
   {
    "duration": 0,
    "start_time": "2022-07-24T17:23:46.854Z"
   },
   {
    "duration": 0,
    "start_time": "2022-07-24T17:23:46.856Z"
   },
   {
    "duration": 0,
    "start_time": "2022-07-24T17:23:46.857Z"
   },
   {
    "duration": 0,
    "start_time": "2022-07-24T17:23:46.859Z"
   },
   {
    "duration": 0,
    "start_time": "2022-07-24T17:23:46.860Z"
   },
   {
    "duration": 0,
    "start_time": "2022-07-24T17:23:46.868Z"
   },
   {
    "duration": 0,
    "start_time": "2022-07-24T17:23:46.869Z"
   },
   {
    "duration": 0,
    "start_time": "2022-07-24T17:23:46.870Z"
   },
   {
    "duration": 0,
    "start_time": "2022-07-24T17:23:46.871Z"
   },
   {
    "duration": 0,
    "start_time": "2022-07-24T17:23:46.872Z"
   },
   {
    "duration": 0,
    "start_time": "2022-07-24T17:23:46.873Z"
   },
   {
    "duration": 0,
    "start_time": "2022-07-24T17:23:46.874Z"
   },
   {
    "duration": 0,
    "start_time": "2022-07-24T17:23:46.875Z"
   },
   {
    "duration": 13,
    "start_time": "2022-07-24T19:42:08.175Z"
   },
   {
    "duration": 1607,
    "start_time": "2022-07-24T19:43:01.913Z"
   },
   {
    "duration": 101,
    "start_time": "2022-07-24T19:43:03.523Z"
   },
   {
    "duration": 8,
    "start_time": "2022-07-24T19:43:03.631Z"
   },
   {
    "duration": 6,
    "start_time": "2022-07-24T19:43:03.642Z"
   },
   {
    "duration": 24,
    "start_time": "2022-07-24T19:43:03.649Z"
   },
   {
    "duration": 7,
    "start_time": "2022-07-24T19:43:03.675Z"
   },
   {
    "duration": 1802,
    "start_time": "2022-07-24T19:43:03.684Z"
   },
   {
    "duration": 78,
    "start_time": "2022-07-24T19:43:05.488Z"
   },
   {
    "duration": 53,
    "start_time": "2022-07-24T19:43:05.568Z"
   },
   {
    "duration": 11,
    "start_time": "2022-07-24T19:43:05.625Z"
   },
   {
    "duration": 3,
    "start_time": "2022-07-24T19:43:05.638Z"
   },
   {
    "duration": 690,
    "start_time": "2022-07-24T19:43:05.642Z"
   },
   {
    "duration": 79,
    "start_time": "2022-07-24T19:43:06.335Z"
   },
   {
    "duration": 115,
    "start_time": "2022-07-24T19:43:06.416Z"
   },
   {
    "duration": 55,
    "start_time": "2022-07-24T19:43:06.533Z"
   },
   {
    "duration": 5,
    "start_time": "2022-07-24T19:43:06.590Z"
   },
   {
    "duration": 6,
    "start_time": "2022-07-24T19:43:06.597Z"
   },
   {
    "duration": 664,
    "start_time": "2022-07-24T19:43:06.610Z"
   },
   {
    "duration": 13,
    "start_time": "2022-07-24T19:43:07.310Z"
   },
   {
    "duration": 12,
    "start_time": "2022-07-24T19:43:07.326Z"
   },
   {
    "duration": 1421,
    "start_time": "2022-07-24T19:43:07.340Z"
   },
   {
    "duration": 4,
    "start_time": "2022-07-24T19:43:08.764Z"
   },
   {
    "duration": 13,
    "start_time": "2022-07-24T19:43:08.770Z"
   },
   {
    "duration": 12,
    "start_time": "2022-07-24T19:43:08.785Z"
   },
   {
    "duration": 442,
    "start_time": "2022-07-24T19:43:08.799Z"
   },
   {
    "duration": 213,
    "start_time": "2022-07-24T19:43:09.243Z"
   },
   {
    "duration": 73,
    "start_time": "2022-07-24T19:43:09.458Z"
   },
   {
    "duration": 4,
    "start_time": "2022-07-24T19:43:09.535Z"
   },
   {
    "duration": 19,
    "start_time": "2022-07-24T19:43:09.541Z"
   },
   {
    "duration": 704,
    "start_time": "2022-07-24T19:43:09.562Z"
   },
   {
    "duration": 5,
    "start_time": "2022-07-24T19:43:10.267Z"
   },
   {
    "duration": 9,
    "start_time": "2022-07-24T19:43:10.273Z"
   },
   {
    "duration": 15212,
    "start_time": "2022-07-24T19:43:10.283Z"
   },
   {
    "duration": 4,
    "start_time": "2022-07-24T19:43:25.497Z"
   },
   {
    "duration": 27,
    "start_time": "2022-07-24T19:43:25.510Z"
   },
   {
    "duration": 15,
    "start_time": "2022-07-24T19:43:25.539Z"
   },
   {
    "duration": 33536,
    "start_time": "2022-07-24T19:43:25.556Z"
   },
   {
    "duration": 4,
    "start_time": "2022-07-24T19:43:59.094Z"
   },
   {
    "duration": 36,
    "start_time": "2022-07-24T19:43:59.100Z"
   },
   {
    "duration": 80194,
    "start_time": "2022-07-24T19:43:59.137Z"
   },
   {
    "duration": 4,
    "start_time": "2022-07-24T19:45:19.332Z"
   },
   {
    "duration": 8,
    "start_time": "2022-07-24T19:45:19.338Z"
   },
   {
    "duration": 1361700,
    "start_time": "2022-07-24T19:45:19.348Z"
   },
   {
    "duration": 5,
    "start_time": "2022-07-24T20:08:01.049Z"
   },
   {
    "duration": 37,
    "start_time": "2022-07-24T20:08:01.056Z"
   },
   {
    "duration": 66,
    "start_time": "2022-07-24T20:08:01.096Z"
   },
   {
    "duration": 67010,
    "start_time": "2022-07-24T20:08:01.164Z"
   },
   {
    "duration": 5,
    "start_time": "2022-07-24T20:09:08.177Z"
   },
   {
    "duration": 9,
    "start_time": "2022-07-24T20:09:08.184Z"
   },
   {
    "duration": 71318,
    "start_time": "2022-07-24T20:09:08.213Z"
   },
   {
    "duration": 4,
    "start_time": "2022-07-24T20:10:19.533Z"
   },
   {
    "duration": 11,
    "start_time": "2022-07-24T20:10:19.539Z"
   },
   {
    "duration": 131601,
    "start_time": "2022-07-24T20:10:19.552Z"
   },
   {
    "duration": 4,
    "start_time": "2022-07-24T20:12:31.155Z"
   },
   {
    "duration": 88,
    "start_time": "2022-07-24T20:12:31.161Z"
   },
   {
    "duration": 1397884,
    "start_time": "2022-07-24T20:12:31.251Z"
   },
   {
    "duration": 5,
    "start_time": "2022-07-24T20:35:49.137Z"
   },
   {
    "duration": 4,
    "start_time": "2022-07-24T20:35:49.144Z"
   },
   {
    "duration": 516,
    "start_time": "2022-07-24T20:37:25.638Z"
   },
   {
    "duration": 86,
    "start_time": "2022-07-24T20:38:09.348Z"
   },
   {
    "duration": 79,
    "start_time": "2022-07-24T20:38:40.942Z"
   },
   {
    "duration": 528,
    "start_time": "2022-07-24T20:38:45.121Z"
   },
   {
    "duration": 4,
    "start_time": "2022-07-24T20:41:07.461Z"
   },
   {
    "duration": 5,
    "start_time": "2022-07-24T20:41:12.775Z"
   },
   {
    "duration": 1578,
    "start_time": "2022-07-24T20:41:39.746Z"
   },
   {
    "duration": 105,
    "start_time": "2022-07-24T20:41:41.331Z"
   },
   {
    "duration": 8,
    "start_time": "2022-07-24T20:41:41.438Z"
   },
   {
    "duration": 9,
    "start_time": "2022-07-24T20:41:41.448Z"
   },
   {
    "duration": 25,
    "start_time": "2022-07-24T20:41:41.459Z"
   },
   {
    "duration": 3,
    "start_time": "2022-07-24T20:41:41.486Z"
   },
   {
    "duration": 1960,
    "start_time": "2022-07-24T20:41:41.510Z"
   },
   {
    "duration": 83,
    "start_time": "2022-07-24T20:41:43.472Z"
   },
   {
    "duration": 60,
    "start_time": "2022-07-24T20:41:43.557Z"
   },
   {
    "duration": 12,
    "start_time": "2022-07-24T20:41:43.619Z"
   },
   {
    "duration": 41,
    "start_time": "2022-07-24T20:41:43.632Z"
   },
   {
    "duration": 1449,
    "start_time": "2022-07-24T20:41:43.675Z"
   },
   {
    "duration": 77,
    "start_time": "2022-07-24T20:41:45.135Z"
   },
   {
    "duration": 25,
    "start_time": "2022-07-24T20:41:45.218Z"
   },
   {
    "duration": 68,
    "start_time": "2022-07-24T20:41:45.245Z"
   },
   {
    "duration": 5,
    "start_time": "2022-07-24T20:41:45.316Z"
   },
   {
    "duration": 29,
    "start_time": "2022-07-24T20:41:45.326Z"
   },
   {
    "duration": 718,
    "start_time": "2022-07-24T20:41:45.357Z"
   },
   {
    "duration": 6,
    "start_time": "2022-07-24T20:41:46.077Z"
   },
   {
    "duration": 10,
    "start_time": "2022-07-24T20:41:46.085Z"
   },
   {
    "duration": 1434,
    "start_time": "2022-07-24T20:41:46.097Z"
   },
   {
    "duration": 5,
    "start_time": "2022-07-24T20:41:47.533Z"
   },
   {
    "duration": 52,
    "start_time": "2022-07-24T20:41:47.540Z"
   },
   {
    "duration": 17,
    "start_time": "2022-07-24T20:41:47.594Z"
   },
   {
    "duration": 370,
    "start_time": "2022-07-24T20:41:47.613Z"
   },
   {
    "duration": 213,
    "start_time": "2022-07-24T20:41:47.985Z"
   },
   {
    "duration": 69,
    "start_time": "2022-07-24T20:41:48.200Z"
   },
   {
    "duration": 6,
    "start_time": "2022-07-24T20:41:48.271Z"
   },
   {
    "duration": 10,
    "start_time": "2022-07-24T20:41:48.279Z"
   },
   {
    "duration": 671,
    "start_time": "2022-07-24T20:41:48.292Z"
   },
   {
    "duration": 4,
    "start_time": "2022-07-24T20:41:48.965Z"
   },
   {
    "duration": 13,
    "start_time": "2022-07-24T20:41:48.971Z"
   },
   {
    "duration": 13905,
    "start_time": "2022-07-24T20:41:48.986Z"
   },
   {
    "duration": 5,
    "start_time": "2022-07-24T20:42:02.892Z"
   },
   {
    "duration": 25,
    "start_time": "2022-07-24T20:42:02.898Z"
   },
   {
    "duration": 21,
    "start_time": "2022-07-24T20:42:02.928Z"
   },
   {
    "duration": 70,
    "start_time": "2022-07-24T20:42:02.951Z"
   },
   {
    "duration": 6,
    "start_time": "2022-07-24T20:42:03.026Z"
   },
   {
    "duration": 8,
    "start_time": "2022-07-24T20:42:03.034Z"
   },
   {
    "duration": 1104,
    "start_time": "2022-07-24T20:42:03.044Z"
   },
   {
    "duration": 63,
    "start_time": "2022-07-24T20:42:04.153Z"
   },
   {
    "duration": 5,
    "start_time": "2022-07-24T20:42:04.218Z"
   },
   {
    "duration": 14874,
    "start_time": "2022-07-24T20:42:04.229Z"
   },
   {
    "duration": 13,
    "start_time": "2022-07-24T20:42:19.105Z"
   },
   {
    "duration": 11,
    "start_time": "2022-07-24T20:42:19.119Z"
   },
   {
    "duration": 22,
    "start_time": "2022-07-24T20:42:19.133Z"
   },
   {
    "duration": 123,
    "start_time": "2022-07-24T20:42:19.157Z"
   },
   {
    "duration": 4,
    "start_time": "2022-07-24T20:42:19.282Z"
   },
   {
    "duration": 6,
    "start_time": "2022-07-24T20:42:19.288Z"
   },
   {
    "duration": 66979,
    "start_time": "2022-07-24T20:42:19.296Z"
   },
   {
    "duration": 4,
    "start_time": "2022-07-24T20:43:26.277Z"
   },
   {
    "duration": 5,
    "start_time": "2022-07-24T20:43:26.284Z"
   },
   {
    "duration": 1111,
    "start_time": "2022-07-24T20:43:26.291Z"
   },
   {
    "duration": 13,
    "start_time": "2022-07-24T20:43:27.403Z"
   },
   {
    "duration": 18,
    "start_time": "2022-07-24T20:43:27.418Z"
   },
   {
    "duration": 14095,
    "start_time": "2022-07-24T20:43:27.438Z"
   },
   {
    "duration": 4,
    "start_time": "2022-07-24T20:43:41.535Z"
   },
   {
    "duration": 39,
    "start_time": "2022-07-24T20:43:41.541Z"
   },
   {
    "duration": 567,
    "start_time": "2022-07-24T20:43:41.582Z"
   },
   {
    "duration": 83,
    "start_time": "2022-07-24T20:43:42.152Z"
   },
   {
    "duration": 896,
    "start_time": "2022-07-24T20:47:04.471Z"
   },
   {
    "duration": 572,
    "start_time": "2022-07-24T20:47:31.695Z"
   },
   {
    "duration": 892,
    "start_time": "2022-07-24T20:47:38.975Z"
   },
   {
    "duration": 1562,
    "start_time": "2022-07-24T20:53:23.564Z"
   },
   {
    "duration": 109,
    "start_time": "2022-07-24T20:53:25.129Z"
   },
   {
    "duration": 8,
    "start_time": "2022-07-24T20:53:25.240Z"
   },
   {
    "duration": 23,
    "start_time": "2022-07-24T20:53:25.250Z"
   },
   {
    "duration": 38,
    "start_time": "2022-07-24T20:53:25.275Z"
   },
   {
    "duration": 9,
    "start_time": "2022-07-24T20:53:25.317Z"
   },
   {
    "duration": 1756,
    "start_time": "2022-07-24T20:53:25.330Z"
   },
   {
    "duration": 74,
    "start_time": "2022-07-24T20:53:27.088Z"
   },
   {
    "duration": 32,
    "start_time": "2022-07-24T20:53:27.164Z"
   },
   {
    "duration": 27,
    "start_time": "2022-07-24T20:53:27.199Z"
   },
   {
    "duration": 10,
    "start_time": "2022-07-24T20:53:27.228Z"
   },
   {
    "duration": 1173,
    "start_time": "2022-07-24T20:53:27.239Z"
   },
   {
    "duration": 9,
    "start_time": "2022-07-24T20:53:28.416Z"
   },
   {
    "duration": 14,
    "start_time": "2022-07-24T20:53:28.428Z"
   },
   {
    "duration": 120,
    "start_time": "2022-07-24T20:53:28.444Z"
   },
   {
    "duration": 4,
    "start_time": "2022-07-24T20:53:28.566Z"
   },
   {
    "duration": 6,
    "start_time": "2022-07-24T20:53:28.572Z"
   },
   {
    "duration": 692,
    "start_time": "2022-07-24T20:53:28.580Z"
   },
   {
    "duration": 7,
    "start_time": "2022-07-24T20:53:29.274Z"
   },
   {
    "duration": 35,
    "start_time": "2022-07-24T20:53:29.282Z"
   },
   {
    "duration": 1653,
    "start_time": "2022-07-24T20:53:29.320Z"
   },
   {
    "duration": 4,
    "start_time": "2022-07-24T20:53:30.975Z"
   },
   {
    "duration": 75,
    "start_time": "2022-07-24T20:53:30.980Z"
   },
   {
    "duration": 38,
    "start_time": "2022-07-24T20:53:31.057Z"
   },
   {
    "duration": 375,
    "start_time": "2022-07-24T20:53:31.097Z"
   },
   {
    "duration": 203,
    "start_time": "2022-07-24T20:53:31.474Z"
   },
   {
    "duration": 68,
    "start_time": "2022-07-24T20:53:31.679Z"
   },
   {
    "duration": 4,
    "start_time": "2022-07-24T20:53:31.753Z"
   },
   {
    "duration": 14,
    "start_time": "2022-07-24T20:53:31.759Z"
   },
   {
    "duration": 717,
    "start_time": "2022-07-24T20:53:31.775Z"
   },
   {
    "duration": 27,
    "start_time": "2022-07-24T20:53:32.494Z"
   },
   {
    "duration": 3,
    "start_time": "2022-07-24T20:53:32.528Z"
   },
   {
    "duration": 13916,
    "start_time": "2022-07-24T20:53:32.532Z"
   },
   {
    "duration": 4,
    "start_time": "2022-07-24T20:53:46.450Z"
   },
   {
    "duration": 9,
    "start_time": "2022-07-24T20:53:46.456Z"
   },
   {
    "duration": 14,
    "start_time": "2022-07-24T20:53:46.467Z"
   },
   {
    "duration": 73,
    "start_time": "2022-07-24T20:53:46.483Z"
   },
   {
    "duration": 3,
    "start_time": "2022-07-24T20:53:46.558Z"
   },
   {
    "duration": 7,
    "start_time": "2022-07-24T20:53:46.563Z"
   },
   {
    "duration": 716,
    "start_time": "2022-07-24T20:53:46.572Z"
   },
   {
    "duration": 19,
    "start_time": "2022-07-24T20:53:47.290Z"
   },
   {
    "duration": 5,
    "start_time": "2022-07-24T20:53:47.311Z"
   },
   {
    "duration": 13606,
    "start_time": "2022-07-24T20:53:47.319Z"
   },
   {
    "duration": 5,
    "start_time": "2022-07-24T20:54:00.927Z"
   },
   {
    "duration": 18,
    "start_time": "2022-07-24T20:54:00.935Z"
   },
   {
    "duration": 31,
    "start_time": "2022-07-24T20:54:00.956Z"
   },
   {
    "duration": 88,
    "start_time": "2022-07-24T20:54:00.989Z"
   },
   {
    "duration": 5,
    "start_time": "2022-07-24T20:54:01.079Z"
   },
   {
    "duration": 32,
    "start_time": "2022-07-24T20:54:01.086Z"
   },
   {
    "duration": 66534,
    "start_time": "2022-07-24T20:54:01.119Z"
   },
   {
    "duration": 5,
    "start_time": "2022-07-24T20:55:07.654Z"
   },
   {
    "duration": 8,
    "start_time": "2022-07-24T20:55:07.662Z"
   },
   {
    "duration": 1133,
    "start_time": "2022-07-24T20:55:07.672Z"
   },
   {
    "duration": 13,
    "start_time": "2022-07-24T20:55:08.817Z"
   },
   {
    "duration": 6,
    "start_time": "2022-07-24T20:55:08.832Z"
   },
   {
    "duration": 13882,
    "start_time": "2022-07-24T20:55:08.841Z"
   },
   {
    "duration": 5,
    "start_time": "2022-07-24T20:55:22.728Z"
   },
   {
    "duration": 9,
    "start_time": "2022-07-24T20:55:22.734Z"
   },
   {
    "duration": 886,
    "start_time": "2022-07-24T20:55:22.745Z"
   },
   {
    "duration": 509,
    "start_time": "2022-07-24T20:55:23.632Z"
   },
   {
    "duration": 4,
    "start_time": "2022-07-25T18:01:54.098Z"
   },
   {
    "duration": 55,
    "start_time": "2022-07-25T18:02:16.737Z"
   },
   {
    "duration": 1813,
    "start_time": "2022-07-25T18:02:21.165Z"
   },
   {
    "duration": 88,
    "start_time": "2022-07-25T18:02:22.980Z"
   },
   {
    "duration": 78,
    "start_time": "2022-07-25T18:02:23.069Z"
   },
   {
    "duration": 0,
    "start_time": "2022-07-25T18:02:23.150Z"
   },
   {
    "duration": 0,
    "start_time": "2022-07-25T18:02:23.151Z"
   },
   {
    "duration": 0,
    "start_time": "2022-07-25T18:02:23.153Z"
   },
   {
    "duration": 0,
    "start_time": "2022-07-25T18:02:23.154Z"
   },
   {
    "duration": 0,
    "start_time": "2022-07-25T18:02:23.155Z"
   },
   {
    "duration": 0,
    "start_time": "2022-07-25T18:02:23.156Z"
   },
   {
    "duration": 0,
    "start_time": "2022-07-25T18:02:23.157Z"
   },
   {
    "duration": 0,
    "start_time": "2022-07-25T18:02:23.158Z"
   },
   {
    "duration": 0,
    "start_time": "2022-07-25T18:02:23.159Z"
   },
   {
    "duration": 0,
    "start_time": "2022-07-25T18:02:23.160Z"
   },
   {
    "duration": 0,
    "start_time": "2022-07-25T18:02:23.161Z"
   },
   {
    "duration": 0,
    "start_time": "2022-07-25T18:02:23.162Z"
   },
   {
    "duration": 0,
    "start_time": "2022-07-25T18:02:23.163Z"
   },
   {
    "duration": 0,
    "start_time": "2022-07-25T18:02:23.164Z"
   },
   {
    "duration": 0,
    "start_time": "2022-07-25T18:02:23.165Z"
   },
   {
    "duration": 0,
    "start_time": "2022-07-25T18:02:23.166Z"
   },
   {
    "duration": 0,
    "start_time": "2022-07-25T18:02:23.167Z"
   },
   {
    "duration": 0,
    "start_time": "2022-07-25T18:02:23.169Z"
   },
   {
    "duration": 0,
    "start_time": "2022-07-25T18:02:23.170Z"
   },
   {
    "duration": 0,
    "start_time": "2022-07-25T18:02:23.171Z"
   },
   {
    "duration": 0,
    "start_time": "2022-07-25T18:02:23.172Z"
   },
   {
    "duration": 0,
    "start_time": "2022-07-25T18:02:23.173Z"
   },
   {
    "duration": 0,
    "start_time": "2022-07-25T18:02:23.174Z"
   },
   {
    "duration": 0,
    "start_time": "2022-07-25T18:02:23.176Z"
   },
   {
    "duration": 0,
    "start_time": "2022-07-25T18:02:23.177Z"
   },
   {
    "duration": 0,
    "start_time": "2022-07-25T18:02:23.178Z"
   },
   {
    "duration": 0,
    "start_time": "2022-07-25T18:02:23.179Z"
   },
   {
    "duration": 0,
    "start_time": "2022-07-25T18:02:23.180Z"
   },
   {
    "duration": 0,
    "start_time": "2022-07-25T18:02:23.181Z"
   },
   {
    "duration": 0,
    "start_time": "2022-07-25T18:02:23.182Z"
   },
   {
    "duration": 0,
    "start_time": "2022-07-25T18:02:23.183Z"
   },
   {
    "duration": 0,
    "start_time": "2022-07-25T18:02:23.184Z"
   },
   {
    "duration": 0,
    "start_time": "2022-07-25T18:02:23.185Z"
   },
   {
    "duration": 0,
    "start_time": "2022-07-25T18:02:23.186Z"
   },
   {
    "duration": 0,
    "start_time": "2022-07-25T18:02:23.188Z"
   },
   {
    "duration": 0,
    "start_time": "2022-07-25T18:02:23.205Z"
   },
   {
    "duration": 0,
    "start_time": "2022-07-25T18:02:23.206Z"
   },
   {
    "duration": 0,
    "start_time": "2022-07-25T18:02:23.207Z"
   },
   {
    "duration": 0,
    "start_time": "2022-07-25T18:02:23.208Z"
   },
   {
    "duration": 0,
    "start_time": "2022-07-25T18:02:23.209Z"
   },
   {
    "duration": 0,
    "start_time": "2022-07-25T18:02:23.211Z"
   },
   {
    "duration": 0,
    "start_time": "2022-07-25T18:02:23.212Z"
   },
   {
    "duration": 0,
    "start_time": "2022-07-25T18:02:23.213Z"
   },
   {
    "duration": 0,
    "start_time": "2022-07-25T18:02:23.214Z"
   },
   {
    "duration": 0,
    "start_time": "2022-07-25T18:02:23.215Z"
   },
   {
    "duration": 0,
    "start_time": "2022-07-25T18:02:23.216Z"
   },
   {
    "duration": 0,
    "start_time": "2022-07-25T18:02:23.217Z"
   },
   {
    "duration": 0,
    "start_time": "2022-07-25T18:02:23.218Z"
   },
   {
    "duration": 0,
    "start_time": "2022-07-25T18:02:23.219Z"
   },
   {
    "duration": 0,
    "start_time": "2022-07-25T18:02:23.221Z"
   },
   {
    "duration": 0,
    "start_time": "2022-07-25T18:02:23.221Z"
   },
   {
    "duration": 0,
    "start_time": "2022-07-25T18:02:23.223Z"
   },
   {
    "duration": 0,
    "start_time": "2022-07-25T18:02:23.224Z"
   },
   {
    "duration": 0,
    "start_time": "2022-07-25T18:02:23.225Z"
   },
   {
    "duration": 0,
    "start_time": "2022-07-25T18:02:23.226Z"
   },
   {
    "duration": 0,
    "start_time": "2022-07-25T18:02:23.227Z"
   },
   {
    "duration": 0,
    "start_time": "2022-07-25T18:02:23.228Z"
   },
   {
    "duration": 0,
    "start_time": "2022-07-25T18:02:23.229Z"
   },
   {
    "duration": 0,
    "start_time": "2022-07-25T18:02:23.230Z"
   },
   {
    "duration": 0,
    "start_time": "2022-07-25T18:02:23.232Z"
   },
   {
    "duration": 96,
    "start_time": "2022-07-25T18:02:34.389Z"
   },
   {
    "duration": 4,
    "start_time": "2022-07-25T18:03:17.390Z"
   },
   {
    "duration": 1463,
    "start_time": "2022-07-25T18:03:21.205Z"
   },
   {
    "duration": 80,
    "start_time": "2022-07-25T18:03:22.670Z"
   },
   {
    "duration": 4,
    "start_time": "2022-07-25T18:03:22.752Z"
   },
   {
    "duration": 175,
    "start_time": "2022-07-25T18:03:22.759Z"
   },
   {
    "duration": 0,
    "start_time": "2022-07-25T18:03:22.938Z"
   },
   {
    "duration": 0,
    "start_time": "2022-07-25T18:03:22.939Z"
   },
   {
    "duration": 0,
    "start_time": "2022-07-25T18:03:22.940Z"
   },
   {
    "duration": 0,
    "start_time": "2022-07-25T18:03:22.942Z"
   },
   {
    "duration": 0,
    "start_time": "2022-07-25T18:03:22.943Z"
   },
   {
    "duration": 0,
    "start_time": "2022-07-25T18:03:22.945Z"
   },
   {
    "duration": 0,
    "start_time": "2022-07-25T18:03:22.946Z"
   },
   {
    "duration": 0,
    "start_time": "2022-07-25T18:03:22.947Z"
   },
   {
    "duration": 0,
    "start_time": "2022-07-25T18:03:22.948Z"
   },
   {
    "duration": 0,
    "start_time": "2022-07-25T18:03:22.949Z"
   },
   {
    "duration": 0,
    "start_time": "2022-07-25T18:03:22.950Z"
   },
   {
    "duration": 1,
    "start_time": "2022-07-25T18:03:22.951Z"
   },
   {
    "duration": 0,
    "start_time": "2022-07-25T18:03:22.952Z"
   },
   {
    "duration": 0,
    "start_time": "2022-07-25T18:03:22.954Z"
   },
   {
    "duration": 0,
    "start_time": "2022-07-25T18:03:22.955Z"
   },
   {
    "duration": 0,
    "start_time": "2022-07-25T18:03:22.957Z"
   },
   {
    "duration": 0,
    "start_time": "2022-07-25T18:03:22.957Z"
   },
   {
    "duration": 0,
    "start_time": "2022-07-25T18:03:22.958Z"
   },
   {
    "duration": 0,
    "start_time": "2022-07-25T18:03:22.960Z"
   },
   {
    "duration": 0,
    "start_time": "2022-07-25T18:03:22.961Z"
   },
   {
    "duration": 0,
    "start_time": "2022-07-25T18:03:22.962Z"
   },
   {
    "duration": 0,
    "start_time": "2022-07-25T18:03:22.963Z"
   },
   {
    "duration": 0,
    "start_time": "2022-07-25T18:03:23.004Z"
   },
   {
    "duration": 0,
    "start_time": "2022-07-25T18:03:23.006Z"
   },
   {
    "duration": 0,
    "start_time": "2022-07-25T18:03:23.006Z"
   },
   {
    "duration": 0,
    "start_time": "2022-07-25T18:03:23.007Z"
   },
   {
    "duration": 0,
    "start_time": "2022-07-25T18:03:23.009Z"
   },
   {
    "duration": 0,
    "start_time": "2022-07-25T18:03:23.010Z"
   },
   {
    "duration": 0,
    "start_time": "2022-07-25T18:03:23.011Z"
   },
   {
    "duration": 0,
    "start_time": "2022-07-25T18:03:23.011Z"
   },
   {
    "duration": 0,
    "start_time": "2022-07-25T18:03:23.013Z"
   },
   {
    "duration": 0,
    "start_time": "2022-07-25T18:03:23.014Z"
   },
   {
    "duration": 0,
    "start_time": "2022-07-25T18:03:23.015Z"
   },
   {
    "duration": 0,
    "start_time": "2022-07-25T18:03:23.016Z"
   },
   {
    "duration": 0,
    "start_time": "2022-07-25T18:03:23.017Z"
   },
   {
    "duration": 0,
    "start_time": "2022-07-25T18:03:23.018Z"
   },
   {
    "duration": 0,
    "start_time": "2022-07-25T18:03:23.019Z"
   },
   {
    "duration": 0,
    "start_time": "2022-07-25T18:03:23.020Z"
   },
   {
    "duration": 0,
    "start_time": "2022-07-25T18:03:23.021Z"
   },
   {
    "duration": 0,
    "start_time": "2022-07-25T18:03:23.022Z"
   },
   {
    "duration": 0,
    "start_time": "2022-07-25T18:03:23.023Z"
   },
   {
    "duration": 0,
    "start_time": "2022-07-25T18:03:23.024Z"
   },
   {
    "duration": 0,
    "start_time": "2022-07-25T18:03:23.025Z"
   },
   {
    "duration": 1,
    "start_time": "2022-07-25T18:03:23.026Z"
   },
   {
    "duration": 0,
    "start_time": "2022-07-25T18:03:23.028Z"
   },
   {
    "duration": 0,
    "start_time": "2022-07-25T18:03:23.029Z"
   },
   {
    "duration": 0,
    "start_time": "2022-07-25T18:03:23.030Z"
   },
   {
    "duration": 0,
    "start_time": "2022-07-25T18:03:23.031Z"
   },
   {
    "duration": 0,
    "start_time": "2022-07-25T18:03:23.032Z"
   },
   {
    "duration": 0,
    "start_time": "2022-07-25T18:03:23.033Z"
   },
   {
    "duration": 0,
    "start_time": "2022-07-25T18:03:23.033Z"
   },
   {
    "duration": 0,
    "start_time": "2022-07-25T18:03:23.034Z"
   },
   {
    "duration": 0,
    "start_time": "2022-07-25T18:03:23.035Z"
   },
   {
    "duration": 0,
    "start_time": "2022-07-25T18:03:23.036Z"
   },
   {
    "duration": 0,
    "start_time": "2022-07-25T18:03:23.037Z"
   },
   {
    "duration": 0,
    "start_time": "2022-07-25T18:03:23.038Z"
   },
   {
    "duration": 0,
    "start_time": "2022-07-25T18:03:23.039Z"
   },
   {
    "duration": 0,
    "start_time": "2022-07-25T18:03:23.104Z"
   },
   {
    "duration": 0,
    "start_time": "2022-07-25T18:03:23.105Z"
   },
   {
    "duration": 23,
    "start_time": "2022-07-25T18:05:56.057Z"
   },
   {
    "duration": 62,
    "start_time": "2022-07-25T18:06:17.344Z"
   },
   {
    "duration": 69,
    "start_time": "2022-07-25T18:06:36.153Z"
   },
   {
    "duration": 64,
    "start_time": "2022-07-25T18:07:28.764Z"
   },
   {
    "duration": 69,
    "start_time": "2022-07-25T18:08:02.262Z"
   },
   {
    "duration": 66,
    "start_time": "2022-07-25T18:08:10.453Z"
   },
   {
    "duration": 67,
    "start_time": "2022-07-25T18:08:42.511Z"
   },
   {
    "duration": 76,
    "start_time": "2022-07-25T18:09:56.255Z"
   },
   {
    "duration": 1590,
    "start_time": "2022-07-25T18:10:35.672Z"
   },
   {
    "duration": 78,
    "start_time": "2022-07-25T18:10:37.264Z"
   },
   {
    "duration": 4,
    "start_time": "2022-07-25T18:10:37.343Z"
   },
   {
    "duration": 20,
    "start_time": "2022-07-25T18:10:37.349Z"
   },
   {
    "duration": 3,
    "start_time": "2022-07-25T18:10:37.371Z"
   },
   {
    "duration": 1652,
    "start_time": "2022-07-25T18:10:37.376Z"
   },
   {
    "duration": 122,
    "start_time": "2022-07-25T18:10:39.029Z"
   },
   {
    "duration": 0,
    "start_time": "2022-07-25T18:10:39.154Z"
   },
   {
    "duration": 0,
    "start_time": "2022-07-25T18:10:39.155Z"
   },
   {
    "duration": 0,
    "start_time": "2022-07-25T18:10:39.156Z"
   },
   {
    "duration": 0,
    "start_time": "2022-07-25T18:10:39.157Z"
   },
   {
    "duration": 0,
    "start_time": "2022-07-25T18:10:39.158Z"
   },
   {
    "duration": 0,
    "start_time": "2022-07-25T18:10:39.159Z"
   },
   {
    "duration": 0,
    "start_time": "2022-07-25T18:10:39.160Z"
   },
   {
    "duration": 0,
    "start_time": "2022-07-25T18:10:39.161Z"
   },
   {
    "duration": 0,
    "start_time": "2022-07-25T18:10:39.162Z"
   },
   {
    "duration": 0,
    "start_time": "2022-07-25T18:10:39.163Z"
   },
   {
    "duration": 0,
    "start_time": "2022-07-25T18:10:39.164Z"
   },
   {
    "duration": 0,
    "start_time": "2022-07-25T18:10:39.165Z"
   },
   {
    "duration": 0,
    "start_time": "2022-07-25T18:10:39.166Z"
   },
   {
    "duration": 0,
    "start_time": "2022-07-25T18:10:39.167Z"
   },
   {
    "duration": 0,
    "start_time": "2022-07-25T18:10:39.168Z"
   },
   {
    "duration": 0,
    "start_time": "2022-07-25T18:10:39.169Z"
   },
   {
    "duration": 0,
    "start_time": "2022-07-25T18:10:39.170Z"
   },
   {
    "duration": 0,
    "start_time": "2022-07-25T18:10:39.172Z"
   },
   {
    "duration": 0,
    "start_time": "2022-07-25T18:10:39.205Z"
   },
   {
    "duration": 0,
    "start_time": "2022-07-25T18:10:39.206Z"
   },
   {
    "duration": 0,
    "start_time": "2022-07-25T18:10:39.207Z"
   },
   {
    "duration": 0,
    "start_time": "2022-07-25T18:10:39.208Z"
   },
   {
    "duration": 0,
    "start_time": "2022-07-25T18:10:39.209Z"
   },
   {
    "duration": 0,
    "start_time": "2022-07-25T18:10:39.210Z"
   },
   {
    "duration": 0,
    "start_time": "2022-07-25T18:10:39.211Z"
   },
   {
    "duration": 0,
    "start_time": "2022-07-25T18:10:39.213Z"
   },
   {
    "duration": 0,
    "start_time": "2022-07-25T18:10:39.215Z"
   },
   {
    "duration": 0,
    "start_time": "2022-07-25T18:10:39.216Z"
   },
   {
    "duration": 0,
    "start_time": "2022-07-25T18:10:39.217Z"
   },
   {
    "duration": 0,
    "start_time": "2022-07-25T18:10:39.218Z"
   },
   {
    "duration": 0,
    "start_time": "2022-07-25T18:10:39.219Z"
   },
   {
    "duration": 0,
    "start_time": "2022-07-25T18:10:39.220Z"
   },
   {
    "duration": 0,
    "start_time": "2022-07-25T18:10:39.221Z"
   },
   {
    "duration": 0,
    "start_time": "2022-07-25T18:10:39.222Z"
   },
   {
    "duration": 0,
    "start_time": "2022-07-25T18:10:39.223Z"
   },
   {
    "duration": 0,
    "start_time": "2022-07-25T18:10:39.224Z"
   },
   {
    "duration": 0,
    "start_time": "2022-07-25T18:10:39.225Z"
   },
   {
    "duration": 0,
    "start_time": "2022-07-25T18:10:39.226Z"
   },
   {
    "duration": 0,
    "start_time": "2022-07-25T18:10:39.227Z"
   },
   {
    "duration": 0,
    "start_time": "2022-07-25T18:10:39.228Z"
   },
   {
    "duration": 0,
    "start_time": "2022-07-25T18:10:39.229Z"
   },
   {
    "duration": 0,
    "start_time": "2022-07-25T18:10:39.230Z"
   },
   {
    "duration": 0,
    "start_time": "2022-07-25T18:10:39.231Z"
   },
   {
    "duration": 0,
    "start_time": "2022-07-25T18:10:39.232Z"
   },
   {
    "duration": 0,
    "start_time": "2022-07-25T18:10:39.233Z"
   },
   {
    "duration": 0,
    "start_time": "2022-07-25T18:10:39.233Z"
   },
   {
    "duration": 0,
    "start_time": "2022-07-25T18:10:39.234Z"
   },
   {
    "duration": 0,
    "start_time": "2022-07-25T18:10:39.235Z"
   },
   {
    "duration": 0,
    "start_time": "2022-07-25T18:10:39.236Z"
   },
   {
    "duration": 0,
    "start_time": "2022-07-25T18:10:39.237Z"
   },
   {
    "duration": 0,
    "start_time": "2022-07-25T18:10:39.238Z"
   },
   {
    "duration": 1482,
    "start_time": "2022-07-25T18:11:45.512Z"
   },
   {
    "duration": 85,
    "start_time": "2022-07-25T18:11:46.996Z"
   },
   {
    "duration": 8,
    "start_time": "2022-07-25T18:11:47.105Z"
   },
   {
    "duration": 4,
    "start_time": "2022-07-25T18:11:47.115Z"
   },
   {
    "duration": 22,
    "start_time": "2022-07-25T18:11:47.120Z"
   },
   {
    "duration": 4,
    "start_time": "2022-07-25T18:11:47.144Z"
   },
   {
    "duration": 2192,
    "start_time": "2022-07-25T18:11:47.150Z"
   },
   {
    "duration": 107,
    "start_time": "2022-07-25T18:11:49.344Z"
   },
   {
    "duration": 37,
    "start_time": "2022-07-25T18:11:49.505Z"
   },
   {
    "duration": 59,
    "start_time": "2022-07-25T18:11:49.545Z"
   },
   {
    "duration": 3,
    "start_time": "2022-07-25T18:11:49.606Z"
   },
   {
    "duration": 1300,
    "start_time": "2022-07-25T18:11:49.611Z"
   },
   {
    "duration": 93,
    "start_time": "2022-07-25T18:11:50.913Z"
   },
   {
    "duration": 99,
    "start_time": "2022-07-25T18:11:51.007Z"
   },
   {
    "duration": 132,
    "start_time": "2022-07-25T18:11:51.108Z"
   },
   {
    "duration": 4,
    "start_time": "2022-07-25T18:11:51.241Z"
   },
   {
    "duration": 59,
    "start_time": "2022-07-25T18:11:51.247Z"
   },
   {
    "duration": 798,
    "start_time": "2022-07-25T18:11:51.307Z"
   },
   {
    "duration": 5,
    "start_time": "2022-07-25T18:11:52.107Z"
   },
   {
    "duration": 7,
    "start_time": "2022-07-25T18:11:52.114Z"
   },
   {
    "duration": 2307,
    "start_time": "2022-07-25T18:11:52.123Z"
   },
   {
    "duration": 4,
    "start_time": "2022-07-25T18:11:54.432Z"
   },
   {
    "duration": 8,
    "start_time": "2022-07-25T18:11:54.438Z"
   },
   {
    "duration": 8,
    "start_time": "2022-07-25T18:11:54.448Z"
   },
   {
    "duration": 389,
    "start_time": "2022-07-25T18:11:54.458Z"
   },
   {
    "duration": 195,
    "start_time": "2022-07-25T18:11:54.849Z"
   },
   {
    "duration": 61,
    "start_time": "2022-07-25T18:11:55.046Z"
   },
   {
    "duration": 6,
    "start_time": "2022-07-25T18:11:55.111Z"
   },
   {
    "duration": 37,
    "start_time": "2022-07-25T18:11:55.118Z"
   },
   {
    "duration": 687,
    "start_time": "2022-07-25T18:11:55.157Z"
   },
   {
    "duration": 5,
    "start_time": "2022-07-25T18:11:55.846Z"
   },
   {
    "duration": 22,
    "start_time": "2022-07-25T18:11:55.852Z"
   },
   {
    "duration": 11685,
    "start_time": "2022-07-25T18:11:55.876Z"
   },
   {
    "duration": 4,
    "start_time": "2022-07-25T18:12:07.562Z"
   },
   {
    "duration": 9,
    "start_time": "2022-07-25T18:12:07.568Z"
   },
   {
    "duration": 30,
    "start_time": "2022-07-25T18:12:07.578Z"
   },
   {
    "duration": 39,
    "start_time": "2022-07-25T18:12:07.610Z"
   },
   {
    "duration": 4,
    "start_time": "2022-07-25T18:12:07.650Z"
   },
   {
    "duration": 9,
    "start_time": "2022-07-25T18:12:07.656Z"
   },
   {
    "duration": 690,
    "start_time": "2022-07-25T18:12:07.667Z"
   },
   {
    "duration": 5,
    "start_time": "2022-07-25T18:12:08.359Z"
   },
   {
    "duration": 9,
    "start_time": "2022-07-25T18:12:08.366Z"
   },
   {
    "duration": 11220,
    "start_time": "2022-07-25T18:12:08.377Z"
   },
   {
    "duration": 11,
    "start_time": "2022-07-25T18:12:19.598Z"
   },
   {
    "duration": 7,
    "start_time": "2022-07-25T18:12:19.612Z"
   },
   {
    "duration": 22,
    "start_time": "2022-07-25T18:12:19.621Z"
   },
   {
    "duration": 112,
    "start_time": "2022-07-25T18:12:19.645Z"
   },
   {
    "duration": 5,
    "start_time": "2022-07-25T18:12:19.759Z"
   },
   {
    "duration": 12,
    "start_time": "2022-07-25T18:12:19.766Z"
   },
   {
    "duration": 1642,
    "start_time": "2022-07-25T18:13:20.312Z"
   },
   {
    "duration": 97,
    "start_time": "2022-07-25T18:13:21.956Z"
   },
   {
    "duration": 247,
    "start_time": "2022-07-25T18:13:22.054Z"
   },
   {
    "duration": 0,
    "start_time": "2022-07-25T18:13:22.305Z"
   },
   {
    "duration": 0,
    "start_time": "2022-07-25T18:13:22.307Z"
   },
   {
    "duration": 0,
    "start_time": "2022-07-25T18:13:22.309Z"
   },
   {
    "duration": 0,
    "start_time": "2022-07-25T18:13:22.311Z"
   },
   {
    "duration": 0,
    "start_time": "2022-07-25T18:13:22.313Z"
   },
   {
    "duration": 0,
    "start_time": "2022-07-25T18:13:22.314Z"
   },
   {
    "duration": 0,
    "start_time": "2022-07-25T18:13:22.316Z"
   },
   {
    "duration": 0,
    "start_time": "2022-07-25T18:13:22.317Z"
   },
   {
    "duration": 0,
    "start_time": "2022-07-25T18:13:22.318Z"
   },
   {
    "duration": 0,
    "start_time": "2022-07-25T18:13:22.319Z"
   },
   {
    "duration": 0,
    "start_time": "2022-07-25T18:13:22.320Z"
   },
   {
    "duration": 0,
    "start_time": "2022-07-25T18:13:22.321Z"
   },
   {
    "duration": 0,
    "start_time": "2022-07-25T18:13:22.321Z"
   },
   {
    "duration": 0,
    "start_time": "2022-07-25T18:13:22.323Z"
   },
   {
    "duration": 0,
    "start_time": "2022-07-25T18:13:22.324Z"
   },
   {
    "duration": 0,
    "start_time": "2022-07-25T18:13:22.325Z"
   },
   {
    "duration": 0,
    "start_time": "2022-07-25T18:13:22.326Z"
   },
   {
    "duration": 0,
    "start_time": "2022-07-25T18:13:22.327Z"
   },
   {
    "duration": 0,
    "start_time": "2022-07-25T18:13:22.329Z"
   },
   {
    "duration": 0,
    "start_time": "2022-07-25T18:13:22.330Z"
   },
   {
    "duration": 0,
    "start_time": "2022-07-25T18:13:22.331Z"
   },
   {
    "duration": 0,
    "start_time": "2022-07-25T18:13:22.332Z"
   },
   {
    "duration": 0,
    "start_time": "2022-07-25T18:13:22.333Z"
   },
   {
    "duration": 0,
    "start_time": "2022-07-25T18:13:22.334Z"
   },
   {
    "duration": 0,
    "start_time": "2022-07-25T18:13:22.335Z"
   },
   {
    "duration": 0,
    "start_time": "2022-07-25T18:13:22.336Z"
   },
   {
    "duration": 0,
    "start_time": "2022-07-25T18:13:22.337Z"
   },
   {
    "duration": 0,
    "start_time": "2022-07-25T18:13:22.338Z"
   },
   {
    "duration": 0,
    "start_time": "2022-07-25T18:13:22.339Z"
   },
   {
    "duration": 0,
    "start_time": "2022-07-25T18:13:22.340Z"
   },
   {
    "duration": 0,
    "start_time": "2022-07-25T18:13:22.341Z"
   },
   {
    "duration": 0,
    "start_time": "2022-07-25T18:13:22.342Z"
   },
   {
    "duration": 0,
    "start_time": "2022-07-25T18:13:22.343Z"
   },
   {
    "duration": 0,
    "start_time": "2022-07-25T18:13:22.344Z"
   },
   {
    "duration": 0,
    "start_time": "2022-07-25T18:13:22.345Z"
   },
   {
    "duration": 0,
    "start_time": "2022-07-25T18:13:22.410Z"
   },
   {
    "duration": 0,
    "start_time": "2022-07-25T18:13:22.412Z"
   },
   {
    "duration": 0,
    "start_time": "2022-07-25T18:13:22.417Z"
   },
   {
    "duration": 0,
    "start_time": "2022-07-25T18:13:22.419Z"
   },
   {
    "duration": 0,
    "start_time": "2022-07-25T18:13:22.421Z"
   },
   {
    "duration": 0,
    "start_time": "2022-07-25T18:13:22.422Z"
   },
   {
    "duration": 0,
    "start_time": "2022-07-25T18:13:22.424Z"
   },
   {
    "duration": 0,
    "start_time": "2022-07-25T18:13:22.425Z"
   },
   {
    "duration": 0,
    "start_time": "2022-07-25T18:13:22.427Z"
   },
   {
    "duration": 0,
    "start_time": "2022-07-25T18:13:22.428Z"
   },
   {
    "duration": 0,
    "start_time": "2022-07-25T18:13:22.428Z"
   },
   {
    "duration": 0,
    "start_time": "2022-07-25T18:13:22.429Z"
   },
   {
    "duration": 0,
    "start_time": "2022-07-25T18:13:22.430Z"
   },
   {
    "duration": 0,
    "start_time": "2022-07-25T18:13:22.431Z"
   },
   {
    "duration": 0,
    "start_time": "2022-07-25T18:13:22.432Z"
   },
   {
    "duration": 0,
    "start_time": "2022-07-25T18:13:22.433Z"
   },
   {
    "duration": 0,
    "start_time": "2022-07-25T18:13:22.434Z"
   },
   {
    "duration": 0,
    "start_time": "2022-07-25T18:13:22.435Z"
   },
   {
    "duration": 0,
    "start_time": "2022-07-25T18:13:22.436Z"
   },
   {
    "duration": 0,
    "start_time": "2022-07-25T18:13:22.437Z"
   },
   {
    "duration": 0,
    "start_time": "2022-07-25T18:13:22.438Z"
   },
   {
    "duration": 1499,
    "start_time": "2022-07-25T18:14:05.236Z"
   },
   {
    "duration": 84,
    "start_time": "2022-07-25T18:14:06.739Z"
   },
   {
    "duration": 8,
    "start_time": "2022-07-25T18:14:06.825Z"
   },
   {
    "duration": 4,
    "start_time": "2022-07-25T18:14:06.834Z"
   },
   {
    "duration": 18,
    "start_time": "2022-07-25T18:14:06.840Z"
   },
   {
    "duration": 3,
    "start_time": "2022-07-25T18:14:06.859Z"
   },
   {
    "duration": 1584,
    "start_time": "2022-07-25T18:14:06.864Z"
   },
   {
    "duration": 84,
    "start_time": "2022-07-25T18:14:08.450Z"
   },
   {
    "duration": 81,
    "start_time": "2022-07-25T18:14:08.535Z"
   },
   {
    "duration": 8,
    "start_time": "2022-07-25T18:14:08.618Z"
   },
   {
    "duration": 26,
    "start_time": "2022-07-25T18:14:08.628Z"
   },
   {
    "duration": 1252,
    "start_time": "2022-07-25T18:14:08.656Z"
   },
   {
    "duration": 95,
    "start_time": "2022-07-25T18:14:09.910Z"
   },
   {
    "duration": 100,
    "start_time": "2022-07-25T18:14:10.010Z"
   },
   {
    "duration": 105,
    "start_time": "2022-07-25T18:14:10.111Z"
   },
   {
    "duration": 5,
    "start_time": "2022-07-25T18:14:10.218Z"
   },
   {
    "duration": 9,
    "start_time": "2022-07-25T18:14:10.224Z"
   },
   {
    "duration": 711,
    "start_time": "2022-07-25T18:14:10.235Z"
   },
   {
    "duration": 5,
    "start_time": "2022-07-25T18:14:11.004Z"
   },
   {
    "duration": 6,
    "start_time": "2022-07-25T18:14:11.010Z"
   },
   {
    "duration": 1495,
    "start_time": "2022-07-25T18:14:11.018Z"
   },
   {
    "duration": 4,
    "start_time": "2022-07-25T18:14:12.515Z"
   },
   {
    "duration": 6,
    "start_time": "2022-07-25T18:14:12.520Z"
   },
   {
    "duration": 5,
    "start_time": "2022-07-25T18:14:12.528Z"
   },
   {
    "duration": 341,
    "start_time": "2022-07-25T18:14:12.534Z"
   },
   {
    "duration": 197,
    "start_time": "2022-07-25T18:14:12.876Z"
   },
   {
    "duration": 63,
    "start_time": "2022-07-25T18:14:13.075Z"
   },
   {
    "duration": 5,
    "start_time": "2022-07-25T18:14:13.140Z"
   },
   {
    "duration": 6,
    "start_time": "2022-07-25T18:14:13.146Z"
   },
   {
    "duration": 701,
    "start_time": "2022-07-25T18:14:13.155Z"
   },
   {
    "duration": 4,
    "start_time": "2022-07-25T18:14:13.858Z"
   },
   {
    "duration": 8,
    "start_time": "2022-07-25T18:14:13.863Z"
   },
   {
    "duration": 10228,
    "start_time": "2022-07-25T18:14:13.877Z"
   },
   {
    "duration": 5,
    "start_time": "2022-07-25T18:14:24.107Z"
   },
   {
    "duration": 24,
    "start_time": "2022-07-25T18:14:24.114Z"
   },
   {
    "duration": 57,
    "start_time": "2022-07-25T18:14:24.139Z"
   },
   {
    "duration": 60,
    "start_time": "2022-07-25T18:14:24.199Z"
   },
   {
    "duration": 5,
    "start_time": "2022-07-25T18:14:24.261Z"
   },
   {
    "duration": 8,
    "start_time": "2022-07-25T18:14:24.268Z"
   },
   {
    "duration": 676,
    "start_time": "2022-07-25T18:14:24.278Z"
   },
   {
    "duration": 4,
    "start_time": "2022-07-25T18:14:24.958Z"
   },
   {
    "duration": 10,
    "start_time": "2022-07-25T18:14:24.964Z"
   },
   {
    "duration": 11557,
    "start_time": "2022-07-25T18:14:24.975Z"
   },
   {
    "duration": 5,
    "start_time": "2022-07-25T18:14:36.534Z"
   },
   {
    "duration": 34,
    "start_time": "2022-07-25T18:14:36.541Z"
   },
   {
    "duration": 38,
    "start_time": "2022-07-25T18:14:36.578Z"
   },
   {
    "duration": 97,
    "start_time": "2022-07-25T18:14:36.619Z"
   },
   {
    "duration": 5,
    "start_time": "2022-07-25T18:14:36.718Z"
   },
   {
    "duration": 34,
    "start_time": "2022-07-25T18:14:36.726Z"
   },
   {
    "duration": 1461,
    "start_time": "2022-07-25T18:14:54.067Z"
   },
   {
    "duration": 79,
    "start_time": "2022-07-25T18:14:55.530Z"
   },
   {
    "duration": 8,
    "start_time": "2022-07-25T18:14:55.610Z"
   },
   {
    "duration": 208,
    "start_time": "2022-07-25T18:14:55.620Z"
   },
   {
    "duration": 0,
    "start_time": "2022-07-25T18:14:55.831Z"
   },
   {
    "duration": 0,
    "start_time": "2022-07-25T18:14:55.832Z"
   },
   {
    "duration": 0,
    "start_time": "2022-07-25T18:14:55.834Z"
   },
   {
    "duration": 0,
    "start_time": "2022-07-25T18:14:55.835Z"
   },
   {
    "duration": 0,
    "start_time": "2022-07-25T18:14:55.836Z"
   },
   {
    "duration": 0,
    "start_time": "2022-07-25T18:14:55.837Z"
   },
   {
    "duration": 1,
    "start_time": "2022-07-25T18:14:55.837Z"
   },
   {
    "duration": 0,
    "start_time": "2022-07-25T18:14:55.838Z"
   },
   {
    "duration": 0,
    "start_time": "2022-07-25T18:14:55.839Z"
   },
   {
    "duration": 0,
    "start_time": "2022-07-25T18:14:55.840Z"
   },
   {
    "duration": 0,
    "start_time": "2022-07-25T18:14:55.841Z"
   },
   {
    "duration": 0,
    "start_time": "2022-07-25T18:14:55.842Z"
   },
   {
    "duration": 0,
    "start_time": "2022-07-25T18:14:55.843Z"
   },
   {
    "duration": 0,
    "start_time": "2022-07-25T18:14:55.844Z"
   },
   {
    "duration": 0,
    "start_time": "2022-07-25T18:14:55.845Z"
   },
   {
    "duration": 0,
    "start_time": "2022-07-25T18:14:55.846Z"
   },
   {
    "duration": 0,
    "start_time": "2022-07-25T18:14:55.847Z"
   },
   {
    "duration": 0,
    "start_time": "2022-07-25T18:14:55.848Z"
   },
   {
    "duration": 0,
    "start_time": "2022-07-25T18:14:55.849Z"
   },
   {
    "duration": 0,
    "start_time": "2022-07-25T18:14:55.850Z"
   },
   {
    "duration": 0,
    "start_time": "2022-07-25T18:14:55.850Z"
   },
   {
    "duration": 0,
    "start_time": "2022-07-25T18:14:55.851Z"
   },
   {
    "duration": 0,
    "start_time": "2022-07-25T18:14:55.853Z"
   },
   {
    "duration": 0,
    "start_time": "2022-07-25T18:14:55.854Z"
   },
   {
    "duration": 0,
    "start_time": "2022-07-25T18:14:55.855Z"
   },
   {
    "duration": 0,
    "start_time": "2022-07-25T18:14:55.855Z"
   },
   {
    "duration": 0,
    "start_time": "2022-07-25T18:14:55.856Z"
   },
   {
    "duration": 0,
    "start_time": "2022-07-25T18:14:55.857Z"
   },
   {
    "duration": 0,
    "start_time": "2022-07-25T18:14:55.858Z"
   },
   {
    "duration": 0,
    "start_time": "2022-07-25T18:14:55.905Z"
   },
   {
    "duration": 0,
    "start_time": "2022-07-25T18:14:55.906Z"
   },
   {
    "duration": 0,
    "start_time": "2022-07-25T18:14:55.907Z"
   },
   {
    "duration": 0,
    "start_time": "2022-07-25T18:14:55.908Z"
   },
   {
    "duration": 0,
    "start_time": "2022-07-25T18:14:55.909Z"
   },
   {
    "duration": 0,
    "start_time": "2022-07-25T18:14:55.910Z"
   },
   {
    "duration": 0,
    "start_time": "2022-07-25T18:14:55.911Z"
   },
   {
    "duration": 0,
    "start_time": "2022-07-25T18:14:55.912Z"
   },
   {
    "duration": 0,
    "start_time": "2022-07-25T18:14:55.914Z"
   },
   {
    "duration": 0,
    "start_time": "2022-07-25T18:14:55.915Z"
   },
   {
    "duration": 0,
    "start_time": "2022-07-25T18:14:55.915Z"
   },
   {
    "duration": 0,
    "start_time": "2022-07-25T18:14:55.916Z"
   },
   {
    "duration": 0,
    "start_time": "2022-07-25T18:14:55.918Z"
   },
   {
    "duration": 0,
    "start_time": "2022-07-25T18:14:55.919Z"
   },
   {
    "duration": 0,
    "start_time": "2022-07-25T18:14:55.920Z"
   },
   {
    "duration": 0,
    "start_time": "2022-07-25T18:14:55.922Z"
   },
   {
    "duration": 0,
    "start_time": "2022-07-25T18:14:55.923Z"
   },
   {
    "duration": 0,
    "start_time": "2022-07-25T18:14:55.924Z"
   },
   {
    "duration": 0,
    "start_time": "2022-07-25T18:14:55.924Z"
   },
   {
    "duration": 0,
    "start_time": "2022-07-25T18:14:55.925Z"
   },
   {
    "duration": 0,
    "start_time": "2022-07-25T18:14:55.926Z"
   },
   {
    "duration": 0,
    "start_time": "2022-07-25T18:14:55.928Z"
   },
   {
    "duration": 0,
    "start_time": "2022-07-25T18:14:55.928Z"
   },
   {
    "duration": 0,
    "start_time": "2022-07-25T18:14:55.930Z"
   },
   {
    "duration": 0,
    "start_time": "2022-07-25T18:14:55.930Z"
   },
   {
    "duration": 0,
    "start_time": "2022-07-25T18:14:55.931Z"
   },
   {
    "duration": 0,
    "start_time": "2022-07-25T18:14:55.932Z"
   },
   {
    "duration": 105,
    "start_time": "2022-07-25T18:15:04.745Z"
   },
   {
    "duration": 125,
    "start_time": "2022-07-25T18:15:13.487Z"
   },
   {
    "duration": 1912,
    "start_time": "2022-07-25T18:16:08.640Z"
   },
   {
    "duration": 174,
    "start_time": "2022-07-25T18:16:10.554Z"
   },
   {
    "duration": 5,
    "start_time": "2022-07-25T18:16:10.729Z"
   },
   {
    "duration": 74,
    "start_time": "2022-07-25T18:16:10.736Z"
   },
   {
    "duration": 411,
    "start_time": "2022-07-25T18:16:10.812Z"
   },
   {
    "duration": 0,
    "start_time": "2022-07-25T18:16:11.226Z"
   },
   {
    "duration": 0,
    "start_time": "2022-07-25T18:16:11.228Z"
   },
   {
    "duration": 0,
    "start_time": "2022-07-25T18:16:11.229Z"
   },
   {
    "duration": 0,
    "start_time": "2022-07-25T18:16:11.230Z"
   },
   {
    "duration": 0,
    "start_time": "2022-07-25T18:16:11.231Z"
   },
   {
    "duration": 0,
    "start_time": "2022-07-25T18:16:11.233Z"
   },
   {
    "duration": 0,
    "start_time": "2022-07-25T18:16:11.234Z"
   },
   {
    "duration": 0,
    "start_time": "2022-07-25T18:16:11.235Z"
   },
   {
    "duration": 0,
    "start_time": "2022-07-25T18:16:11.236Z"
   },
   {
    "duration": 0,
    "start_time": "2022-07-25T18:16:11.237Z"
   },
   {
    "duration": 0,
    "start_time": "2022-07-25T18:16:11.238Z"
   },
   {
    "duration": 0,
    "start_time": "2022-07-25T18:16:11.239Z"
   },
   {
    "duration": 0,
    "start_time": "2022-07-25T18:16:11.240Z"
   },
   {
    "duration": 0,
    "start_time": "2022-07-25T18:16:11.241Z"
   },
   {
    "duration": 0,
    "start_time": "2022-07-25T18:16:11.243Z"
   },
   {
    "duration": 0,
    "start_time": "2022-07-25T18:16:11.244Z"
   },
   {
    "duration": 0,
    "start_time": "2022-07-25T18:16:11.245Z"
   },
   {
    "duration": 0,
    "start_time": "2022-07-25T18:16:11.304Z"
   },
   {
    "duration": 0,
    "start_time": "2022-07-25T18:16:11.306Z"
   },
   {
    "duration": 0,
    "start_time": "2022-07-25T18:16:11.307Z"
   },
   {
    "duration": 0,
    "start_time": "2022-07-25T18:16:11.308Z"
   },
   {
    "duration": 0,
    "start_time": "2022-07-25T18:16:11.310Z"
   },
   {
    "duration": 0,
    "start_time": "2022-07-25T18:16:11.311Z"
   },
   {
    "duration": 0,
    "start_time": "2022-07-25T18:16:11.312Z"
   },
   {
    "duration": 0,
    "start_time": "2022-07-25T18:16:11.313Z"
   },
   {
    "duration": 0,
    "start_time": "2022-07-25T18:16:11.314Z"
   },
   {
    "duration": 0,
    "start_time": "2022-07-25T18:16:11.315Z"
   },
   {
    "duration": 0,
    "start_time": "2022-07-25T18:16:11.316Z"
   },
   {
    "duration": 0,
    "start_time": "2022-07-25T18:16:11.317Z"
   },
   {
    "duration": 0,
    "start_time": "2022-07-25T18:16:11.318Z"
   },
   {
    "duration": 0,
    "start_time": "2022-07-25T18:16:11.319Z"
   },
   {
    "duration": 0,
    "start_time": "2022-07-25T18:16:11.320Z"
   },
   {
    "duration": 0,
    "start_time": "2022-07-25T18:16:11.321Z"
   },
   {
    "duration": 0,
    "start_time": "2022-07-25T18:16:11.322Z"
   },
   {
    "duration": 0,
    "start_time": "2022-07-25T18:16:11.324Z"
   },
   {
    "duration": 0,
    "start_time": "2022-07-25T18:16:11.325Z"
   },
   {
    "duration": 0,
    "start_time": "2022-07-25T18:16:11.325Z"
   },
   {
    "duration": 0,
    "start_time": "2022-07-25T18:16:11.327Z"
   },
   {
    "duration": 0,
    "start_time": "2022-07-25T18:16:11.328Z"
   },
   {
    "duration": 0,
    "start_time": "2022-07-25T18:16:11.329Z"
   },
   {
    "duration": 0,
    "start_time": "2022-07-25T18:16:11.331Z"
   },
   {
    "duration": 0,
    "start_time": "2022-07-25T18:16:11.331Z"
   },
   {
    "duration": 0,
    "start_time": "2022-07-25T18:16:11.332Z"
   },
   {
    "duration": 0,
    "start_time": "2022-07-25T18:16:11.333Z"
   },
   {
    "duration": 0,
    "start_time": "2022-07-25T18:16:11.335Z"
   },
   {
    "duration": 0,
    "start_time": "2022-07-25T18:16:11.336Z"
   },
   {
    "duration": 0,
    "start_time": "2022-07-25T18:16:11.337Z"
   },
   {
    "duration": 0,
    "start_time": "2022-07-25T18:16:11.338Z"
   },
   {
    "duration": 0,
    "start_time": "2022-07-25T18:16:11.338Z"
   },
   {
    "duration": 0,
    "start_time": "2022-07-25T18:16:11.339Z"
   },
   {
    "duration": 0,
    "start_time": "2022-07-25T18:16:11.404Z"
   },
   {
    "duration": 0,
    "start_time": "2022-07-25T18:16:11.406Z"
   },
   {
    "duration": 0,
    "start_time": "2022-07-25T18:16:11.407Z"
   },
   {
    "duration": 0,
    "start_time": "2022-07-25T18:16:11.408Z"
   },
   {
    "duration": 0,
    "start_time": "2022-07-25T18:16:11.409Z"
   },
   {
    "duration": 0,
    "start_time": "2022-07-25T18:16:11.410Z"
   },
   {
    "duration": 0,
    "start_time": "2022-07-25T18:16:11.411Z"
   },
   {
    "duration": 0,
    "start_time": "2022-07-25T18:16:11.412Z"
   },
   {
    "duration": 0,
    "start_time": "2022-07-25T18:16:11.413Z"
   },
   {
    "duration": 134,
    "start_time": "2022-07-25T18:16:23.014Z"
   },
   {
    "duration": 1437,
    "start_time": "2022-07-25T18:16:58.957Z"
   },
   {
    "duration": 110,
    "start_time": "2022-07-25T18:17:00.396Z"
   },
   {
    "duration": 5,
    "start_time": "2022-07-25T18:17:00.508Z"
   },
   {
    "duration": 37,
    "start_time": "2022-07-25T18:17:00.514Z"
   },
   {
    "duration": 214,
    "start_time": "2022-07-25T18:17:00.554Z"
   },
   {
    "duration": 0,
    "start_time": "2022-07-25T18:17:00.771Z"
   },
   {
    "duration": 0,
    "start_time": "2022-07-25T18:17:00.772Z"
   },
   {
    "duration": 0,
    "start_time": "2022-07-25T18:17:00.774Z"
   },
   {
    "duration": 0,
    "start_time": "2022-07-25T18:17:00.775Z"
   },
   {
    "duration": 0,
    "start_time": "2022-07-25T18:17:00.776Z"
   },
   {
    "duration": 0,
    "start_time": "2022-07-25T18:17:00.777Z"
   },
   {
    "duration": 0,
    "start_time": "2022-07-25T18:17:00.778Z"
   },
   {
    "duration": 0,
    "start_time": "2022-07-25T18:17:00.779Z"
   },
   {
    "duration": 0,
    "start_time": "2022-07-25T18:17:00.780Z"
   },
   {
    "duration": 0,
    "start_time": "2022-07-25T18:17:00.781Z"
   },
   {
    "duration": 0,
    "start_time": "2022-07-25T18:17:00.782Z"
   },
   {
    "duration": 0,
    "start_time": "2022-07-25T18:17:00.783Z"
   },
   {
    "duration": 0,
    "start_time": "2022-07-25T18:17:00.784Z"
   },
   {
    "duration": 0,
    "start_time": "2022-07-25T18:17:00.804Z"
   },
   {
    "duration": 0,
    "start_time": "2022-07-25T18:17:00.805Z"
   },
   {
    "duration": 0,
    "start_time": "2022-07-25T18:17:00.806Z"
   },
   {
    "duration": 0,
    "start_time": "2022-07-25T18:17:00.807Z"
   },
   {
    "duration": 0,
    "start_time": "2022-07-25T18:17:00.808Z"
   },
   {
    "duration": 0,
    "start_time": "2022-07-25T18:17:00.809Z"
   },
   {
    "duration": 0,
    "start_time": "2022-07-25T18:17:00.810Z"
   },
   {
    "duration": 0,
    "start_time": "2022-07-25T18:17:00.812Z"
   },
   {
    "duration": 0,
    "start_time": "2022-07-25T18:17:00.813Z"
   },
   {
    "duration": 0,
    "start_time": "2022-07-25T18:17:00.814Z"
   },
   {
    "duration": 0,
    "start_time": "2022-07-25T18:17:00.815Z"
   },
   {
    "duration": 0,
    "start_time": "2022-07-25T18:17:00.816Z"
   },
   {
    "duration": 0,
    "start_time": "2022-07-25T18:17:00.817Z"
   },
   {
    "duration": 0,
    "start_time": "2022-07-25T18:17:00.818Z"
   },
   {
    "duration": 0,
    "start_time": "2022-07-25T18:17:00.819Z"
   },
   {
    "duration": 0,
    "start_time": "2022-07-25T18:17:00.820Z"
   },
   {
    "duration": 0,
    "start_time": "2022-07-25T18:17:00.822Z"
   },
   {
    "duration": 0,
    "start_time": "2022-07-25T18:17:00.823Z"
   },
   {
    "duration": 0,
    "start_time": "2022-07-25T18:17:00.824Z"
   },
   {
    "duration": 0,
    "start_time": "2022-07-25T18:17:00.824Z"
   },
   {
    "duration": 0,
    "start_time": "2022-07-25T18:17:00.825Z"
   },
   {
    "duration": 0,
    "start_time": "2022-07-25T18:17:00.826Z"
   },
   {
    "duration": 0,
    "start_time": "2022-07-25T18:17:00.827Z"
   },
   {
    "duration": 0,
    "start_time": "2022-07-25T18:17:00.828Z"
   },
   {
    "duration": 0,
    "start_time": "2022-07-25T18:17:00.830Z"
   },
   {
    "duration": 0,
    "start_time": "2022-07-25T18:17:00.832Z"
   },
   {
    "duration": 0,
    "start_time": "2022-07-25T18:17:00.833Z"
   },
   {
    "duration": 0,
    "start_time": "2022-07-25T18:17:00.834Z"
   },
   {
    "duration": 0,
    "start_time": "2022-07-25T18:17:00.835Z"
   },
   {
    "duration": 1,
    "start_time": "2022-07-25T18:17:00.836Z"
   },
   {
    "duration": 0,
    "start_time": "2022-07-25T18:17:00.837Z"
   },
   {
    "duration": 0,
    "start_time": "2022-07-25T18:17:00.839Z"
   },
   {
    "duration": 0,
    "start_time": "2022-07-25T18:17:00.840Z"
   },
   {
    "duration": 0,
    "start_time": "2022-07-25T18:17:00.841Z"
   },
   {
    "duration": 0,
    "start_time": "2022-07-25T18:17:00.842Z"
   },
   {
    "duration": 0,
    "start_time": "2022-07-25T18:17:00.843Z"
   },
   {
    "duration": 0,
    "start_time": "2022-07-25T18:17:00.905Z"
   },
   {
    "duration": 0,
    "start_time": "2022-07-25T18:17:00.905Z"
   },
   {
    "duration": 0,
    "start_time": "2022-07-25T18:17:00.907Z"
   },
   {
    "duration": 0,
    "start_time": "2022-07-25T18:17:00.908Z"
   },
   {
    "duration": 0,
    "start_time": "2022-07-25T18:17:00.909Z"
   },
   {
    "duration": 0,
    "start_time": "2022-07-25T18:17:00.910Z"
   },
   {
    "duration": 0,
    "start_time": "2022-07-25T18:17:00.911Z"
   },
   {
    "duration": 0,
    "start_time": "2022-07-25T18:17:00.912Z"
   },
   {
    "duration": 0,
    "start_time": "2022-07-25T18:17:00.913Z"
   },
   {
    "duration": 0,
    "start_time": "2022-07-25T18:17:00.914Z"
   },
   {
    "duration": 135,
    "start_time": "2022-07-25T18:17:22.117Z"
   },
   {
    "duration": 1600,
    "start_time": "2022-07-25T18:20:18.209Z"
   },
   {
    "duration": 106,
    "start_time": "2022-07-25T18:20:19.811Z"
   },
   {
    "duration": 4,
    "start_time": "2022-07-25T18:20:19.919Z"
   },
   {
    "duration": 8,
    "start_time": "2022-07-25T18:20:19.925Z"
   },
   {
    "duration": 20,
    "start_time": "2022-07-25T18:20:19.934Z"
   },
   {
    "duration": 367,
    "start_time": "2022-07-25T18:20:19.956Z"
   },
   {
    "duration": 0,
    "start_time": "2022-07-25T18:20:20.327Z"
   },
   {
    "duration": 0,
    "start_time": "2022-07-25T18:20:20.328Z"
   },
   {
    "duration": 0,
    "start_time": "2022-07-25T18:20:20.329Z"
   },
   {
    "duration": 0,
    "start_time": "2022-07-25T18:20:20.330Z"
   },
   {
    "duration": 0,
    "start_time": "2022-07-25T18:20:20.332Z"
   },
   {
    "duration": 0,
    "start_time": "2022-07-25T18:20:20.333Z"
   },
   {
    "duration": 0,
    "start_time": "2022-07-25T18:20:20.334Z"
   },
   {
    "duration": 0,
    "start_time": "2022-07-25T18:20:20.335Z"
   },
   {
    "duration": 0,
    "start_time": "2022-07-25T18:20:20.336Z"
   },
   {
    "duration": 0,
    "start_time": "2022-07-25T18:20:20.337Z"
   },
   {
    "duration": 0,
    "start_time": "2022-07-25T18:20:20.338Z"
   },
   {
    "duration": 0,
    "start_time": "2022-07-25T18:20:20.339Z"
   },
   {
    "duration": 0,
    "start_time": "2022-07-25T18:20:20.340Z"
   },
   {
    "duration": 0,
    "start_time": "2022-07-25T18:20:20.341Z"
   },
   {
    "duration": 0,
    "start_time": "2022-07-25T18:20:20.342Z"
   },
   {
    "duration": 0,
    "start_time": "2022-07-25T18:20:20.343Z"
   },
   {
    "duration": 0,
    "start_time": "2022-07-25T18:20:20.344Z"
   },
   {
    "duration": 0,
    "start_time": "2022-07-25T18:20:20.405Z"
   },
   {
    "duration": 0,
    "start_time": "2022-07-25T18:20:20.406Z"
   },
   {
    "duration": 0,
    "start_time": "2022-07-25T18:20:20.408Z"
   },
   {
    "duration": 0,
    "start_time": "2022-07-25T18:20:20.409Z"
   },
   {
    "duration": 0,
    "start_time": "2022-07-25T18:20:20.410Z"
   },
   {
    "duration": 0,
    "start_time": "2022-07-25T18:20:20.411Z"
   },
   {
    "duration": 0,
    "start_time": "2022-07-25T18:20:20.413Z"
   },
   {
    "duration": 0,
    "start_time": "2022-07-25T18:20:20.414Z"
   },
   {
    "duration": 0,
    "start_time": "2022-07-25T18:20:20.415Z"
   },
   {
    "duration": 0,
    "start_time": "2022-07-25T18:20:20.416Z"
   },
   {
    "duration": 0,
    "start_time": "2022-07-25T18:20:20.417Z"
   },
   {
    "duration": 0,
    "start_time": "2022-07-25T18:20:20.418Z"
   },
   {
    "duration": 0,
    "start_time": "2022-07-25T18:20:20.419Z"
   },
   {
    "duration": 0,
    "start_time": "2022-07-25T18:20:20.420Z"
   },
   {
    "duration": 0,
    "start_time": "2022-07-25T18:20:20.421Z"
   },
   {
    "duration": 0,
    "start_time": "2022-07-25T18:20:20.422Z"
   },
   {
    "duration": 0,
    "start_time": "2022-07-25T18:20:20.423Z"
   },
   {
    "duration": 0,
    "start_time": "2022-07-25T18:20:20.425Z"
   },
   {
    "duration": 1,
    "start_time": "2022-07-25T18:20:20.427Z"
   },
   {
    "duration": 0,
    "start_time": "2022-07-25T18:20:20.430Z"
   },
   {
    "duration": 0,
    "start_time": "2022-07-25T18:20:20.431Z"
   },
   {
    "duration": 0,
    "start_time": "2022-07-25T18:20:20.433Z"
   },
   {
    "duration": 0,
    "start_time": "2022-07-25T18:20:20.434Z"
   },
   {
    "duration": 0,
    "start_time": "2022-07-25T18:20:20.436Z"
   },
   {
    "duration": 0,
    "start_time": "2022-07-25T18:20:20.437Z"
   },
   {
    "duration": 0,
    "start_time": "2022-07-25T18:20:20.438Z"
   },
   {
    "duration": 0,
    "start_time": "2022-07-25T18:20:20.439Z"
   },
   {
    "duration": 1,
    "start_time": "2022-07-25T18:20:20.440Z"
   },
   {
    "duration": 0,
    "start_time": "2022-07-25T18:20:20.442Z"
   },
   {
    "duration": 0,
    "start_time": "2022-07-25T18:20:20.443Z"
   },
   {
    "duration": 0,
    "start_time": "2022-07-25T18:20:20.444Z"
   },
   {
    "duration": 0,
    "start_time": "2022-07-25T18:20:20.508Z"
   },
   {
    "duration": 0,
    "start_time": "2022-07-25T18:20:20.509Z"
   },
   {
    "duration": 0,
    "start_time": "2022-07-25T18:20:20.510Z"
   },
   {
    "duration": 0,
    "start_time": "2022-07-25T18:20:20.511Z"
   },
   {
    "duration": 0,
    "start_time": "2022-07-25T18:20:20.512Z"
   },
   {
    "duration": 0,
    "start_time": "2022-07-25T18:20:20.514Z"
   },
   {
    "duration": 0,
    "start_time": "2022-07-25T18:20:20.515Z"
   },
   {
    "duration": 0,
    "start_time": "2022-07-25T18:20:20.516Z"
   },
   {
    "duration": 0,
    "start_time": "2022-07-25T18:20:20.518Z"
   },
   {
    "duration": 0,
    "start_time": "2022-07-25T18:20:20.519Z"
   },
   {
    "duration": 1556,
    "start_time": "2022-07-25T18:20:47.700Z"
   },
   {
    "duration": 88,
    "start_time": "2022-07-25T18:20:49.258Z"
   },
   {
    "duration": 4,
    "start_time": "2022-07-25T18:20:49.348Z"
   },
   {
    "duration": 13,
    "start_time": "2022-07-25T18:20:49.355Z"
   },
   {
    "duration": 337,
    "start_time": "2022-07-25T18:20:49.370Z"
   },
   {
    "duration": 0,
    "start_time": "2022-07-25T18:20:49.710Z"
   },
   {
    "duration": 0,
    "start_time": "2022-07-25T18:20:49.712Z"
   },
   {
    "duration": 0,
    "start_time": "2022-07-25T18:20:49.713Z"
   },
   {
    "duration": 0,
    "start_time": "2022-07-25T18:20:49.714Z"
   },
   {
    "duration": 0,
    "start_time": "2022-07-25T18:20:49.715Z"
   },
   {
    "duration": 0,
    "start_time": "2022-07-25T18:20:49.716Z"
   },
   {
    "duration": 0,
    "start_time": "2022-07-25T18:20:49.717Z"
   },
   {
    "duration": 0,
    "start_time": "2022-07-25T18:20:49.717Z"
   },
   {
    "duration": 0,
    "start_time": "2022-07-25T18:20:49.718Z"
   },
   {
    "duration": 0,
    "start_time": "2022-07-25T18:20:49.719Z"
   },
   {
    "duration": 0,
    "start_time": "2022-07-25T18:20:49.720Z"
   },
   {
    "duration": 0,
    "start_time": "2022-07-25T18:20:49.721Z"
   },
   {
    "duration": 0,
    "start_time": "2022-07-25T18:20:49.722Z"
   },
   {
    "duration": 0,
    "start_time": "2022-07-25T18:20:49.723Z"
   },
   {
    "duration": 0,
    "start_time": "2022-07-25T18:20:49.723Z"
   },
   {
    "duration": 0,
    "start_time": "2022-07-25T18:20:49.725Z"
   },
   {
    "duration": 0,
    "start_time": "2022-07-25T18:20:49.725Z"
   },
   {
    "duration": 0,
    "start_time": "2022-07-25T18:20:49.727Z"
   },
   {
    "duration": 0,
    "start_time": "2022-07-25T18:20:49.728Z"
   },
   {
    "duration": 0,
    "start_time": "2022-07-25T18:20:49.729Z"
   },
   {
    "duration": 0,
    "start_time": "2022-07-25T18:20:49.730Z"
   },
   {
    "duration": 1,
    "start_time": "2022-07-25T18:20:49.730Z"
   },
   {
    "duration": 0,
    "start_time": "2022-07-25T18:20:49.732Z"
   },
   {
    "duration": 0,
    "start_time": "2022-07-25T18:20:49.732Z"
   },
   {
    "duration": 0,
    "start_time": "2022-07-25T18:20:49.733Z"
   },
   {
    "duration": 0,
    "start_time": "2022-07-25T18:20:49.734Z"
   },
   {
    "duration": 0,
    "start_time": "2022-07-25T18:20:49.735Z"
   },
   {
    "duration": 0,
    "start_time": "2022-07-25T18:20:49.737Z"
   },
   {
    "duration": 0,
    "start_time": "2022-07-25T18:20:49.738Z"
   },
   {
    "duration": 0,
    "start_time": "2022-07-25T18:20:49.739Z"
   },
   {
    "duration": 0,
    "start_time": "2022-07-25T18:20:49.739Z"
   },
   {
    "duration": 0,
    "start_time": "2022-07-25T18:20:49.740Z"
   },
   {
    "duration": 0,
    "start_time": "2022-07-25T18:20:49.741Z"
   },
   {
    "duration": 0,
    "start_time": "2022-07-25T18:20:49.742Z"
   },
   {
    "duration": 0,
    "start_time": "2022-07-25T18:20:49.743Z"
   },
   {
    "duration": 0,
    "start_time": "2022-07-25T18:20:49.804Z"
   },
   {
    "duration": 0,
    "start_time": "2022-07-25T18:20:49.805Z"
   },
   {
    "duration": 0,
    "start_time": "2022-07-25T18:20:49.807Z"
   },
   {
    "duration": 0,
    "start_time": "2022-07-25T18:20:49.808Z"
   },
   {
    "duration": 0,
    "start_time": "2022-07-25T18:20:49.809Z"
   },
   {
    "duration": 0,
    "start_time": "2022-07-25T18:20:49.810Z"
   },
   {
    "duration": 0,
    "start_time": "2022-07-25T18:20:49.811Z"
   },
   {
    "duration": 0,
    "start_time": "2022-07-25T18:20:49.812Z"
   },
   {
    "duration": 0,
    "start_time": "2022-07-25T18:20:49.813Z"
   },
   {
    "duration": 0,
    "start_time": "2022-07-25T18:20:49.814Z"
   },
   {
    "duration": 0,
    "start_time": "2022-07-25T18:20:49.815Z"
   },
   {
    "duration": 0,
    "start_time": "2022-07-25T18:20:49.816Z"
   },
   {
    "duration": 0,
    "start_time": "2022-07-25T18:20:49.817Z"
   },
   {
    "duration": 0,
    "start_time": "2022-07-25T18:20:49.818Z"
   },
   {
    "duration": 0,
    "start_time": "2022-07-25T18:20:49.819Z"
   },
   {
    "duration": 0,
    "start_time": "2022-07-25T18:20:49.820Z"
   },
   {
    "duration": 0,
    "start_time": "2022-07-25T18:20:49.821Z"
   },
   {
    "duration": 0,
    "start_time": "2022-07-25T18:20:49.822Z"
   },
   {
    "duration": 0,
    "start_time": "2022-07-25T18:20:49.823Z"
   },
   {
    "duration": 0,
    "start_time": "2022-07-25T18:20:49.824Z"
   },
   {
    "duration": 0,
    "start_time": "2022-07-25T18:20:49.825Z"
   },
   {
    "duration": 0,
    "start_time": "2022-07-25T18:20:49.826Z"
   },
   {
    "duration": 0,
    "start_time": "2022-07-25T18:20:49.827Z"
   },
   {
    "duration": 61,
    "start_time": "2022-07-25T18:21:07.215Z"
   },
   {
    "duration": 70,
    "start_time": "2022-07-25T18:21:18.986Z"
   },
   {
    "duration": 71,
    "start_time": "2022-07-25T18:21:36.981Z"
   },
   {
    "duration": 1280,
    "start_time": "2022-07-25T18:22:24.902Z"
   },
   {
    "duration": 1211,
    "start_time": "2022-07-25T18:22:33.850Z"
   },
   {
    "duration": 4,
    "start_time": "2022-07-25T18:22:52.470Z"
   },
   {
    "duration": 1378,
    "start_time": "2022-07-25T18:22:54.136Z"
   },
   {
    "duration": 1398,
    "start_time": "2022-07-25T18:23:01.153Z"
   },
   {
    "duration": 23,
    "start_time": "2022-07-25T18:23:15.934Z"
   },
   {
    "duration": 6,
    "start_time": "2022-07-25T18:23:36.647Z"
   },
   {
    "duration": 14,
    "start_time": "2022-07-25T18:24:04.160Z"
   },
   {
    "duration": 24,
    "start_time": "2022-07-25T18:24:19.774Z"
   },
   {
    "duration": 49,
    "start_time": "2022-07-25T18:24:47.917Z"
   },
   {
    "duration": 1556,
    "start_time": "2022-07-25T18:25:05.561Z"
   },
   {
    "duration": 1513,
    "start_time": "2022-07-25T18:25:26.031Z"
   },
   {
    "duration": 75,
    "start_time": "2022-07-25T18:25:27.547Z"
   },
   {
    "duration": 4,
    "start_time": "2022-07-25T18:25:27.624Z"
   },
   {
    "duration": 6,
    "start_time": "2022-07-25T18:25:27.630Z"
   },
   {
    "duration": 1426,
    "start_time": "2022-07-25T18:25:27.638Z"
   },
   {
    "duration": 2064,
    "start_time": "2022-07-25T18:25:29.066Z"
   },
   {
    "duration": 2071,
    "start_time": "2022-07-25T18:25:31.132Z"
   },
   {
    "duration": 7,
    "start_time": "2022-07-25T18:25:33.205Z"
   },
   {
    "duration": 21,
    "start_time": "2022-07-25T18:25:33.214Z"
   },
   {
    "duration": 3,
    "start_time": "2022-07-25T18:25:33.237Z"
   },
   {
    "duration": 1653,
    "start_time": "2022-07-25T18:25:33.242Z"
   },
   {
    "duration": 124,
    "start_time": "2022-07-25T18:25:34.897Z"
   },
   {
    "duration": 0,
    "start_time": "2022-07-25T18:25:35.024Z"
   },
   {
    "duration": 0,
    "start_time": "2022-07-25T18:25:35.026Z"
   },
   {
    "duration": 0,
    "start_time": "2022-07-25T18:25:35.027Z"
   },
   {
    "duration": 0,
    "start_time": "2022-07-25T18:25:35.028Z"
   },
   {
    "duration": 0,
    "start_time": "2022-07-25T18:25:35.029Z"
   },
   {
    "duration": 0,
    "start_time": "2022-07-25T18:25:35.030Z"
   },
   {
    "duration": 0,
    "start_time": "2022-07-25T18:25:35.031Z"
   },
   {
    "duration": 0,
    "start_time": "2022-07-25T18:25:35.032Z"
   },
   {
    "duration": 0,
    "start_time": "2022-07-25T18:25:35.033Z"
   },
   {
    "duration": 0,
    "start_time": "2022-07-25T18:25:35.035Z"
   },
   {
    "duration": 0,
    "start_time": "2022-07-25T18:25:35.036Z"
   },
   {
    "duration": 0,
    "start_time": "2022-07-25T18:25:35.037Z"
   },
   {
    "duration": 0,
    "start_time": "2022-07-25T18:25:35.039Z"
   },
   {
    "duration": 0,
    "start_time": "2022-07-25T18:25:35.040Z"
   },
   {
    "duration": 0,
    "start_time": "2022-07-25T18:25:35.042Z"
   },
   {
    "duration": 0,
    "start_time": "2022-07-25T18:25:35.043Z"
   },
   {
    "duration": 0,
    "start_time": "2022-07-25T18:25:35.045Z"
   },
   {
    "duration": 0,
    "start_time": "2022-07-25T18:25:35.046Z"
   },
   {
    "duration": 0,
    "start_time": "2022-07-25T18:25:35.047Z"
   },
   {
    "duration": 0,
    "start_time": "2022-07-25T18:25:35.048Z"
   },
   {
    "duration": 0,
    "start_time": "2022-07-25T18:25:35.049Z"
   },
   {
    "duration": 0,
    "start_time": "2022-07-25T18:25:35.050Z"
   },
   {
    "duration": 0,
    "start_time": "2022-07-25T18:25:35.051Z"
   },
   {
    "duration": 0,
    "start_time": "2022-07-25T18:25:35.052Z"
   },
   {
    "duration": 0,
    "start_time": "2022-07-25T18:25:35.053Z"
   },
   {
    "duration": 0,
    "start_time": "2022-07-25T18:25:35.106Z"
   },
   {
    "duration": 0,
    "start_time": "2022-07-25T18:25:35.107Z"
   },
   {
    "duration": 0,
    "start_time": "2022-07-25T18:25:35.111Z"
   },
   {
    "duration": 0,
    "start_time": "2022-07-25T18:25:35.113Z"
   },
   {
    "duration": 0,
    "start_time": "2022-07-25T18:25:35.114Z"
   },
   {
    "duration": 0,
    "start_time": "2022-07-25T18:25:35.115Z"
   },
   {
    "duration": 0,
    "start_time": "2022-07-25T18:25:35.116Z"
   },
   {
    "duration": 0,
    "start_time": "2022-07-25T18:25:35.117Z"
   },
   {
    "duration": 0,
    "start_time": "2022-07-25T18:25:35.118Z"
   },
   {
    "duration": 0,
    "start_time": "2022-07-25T18:25:35.119Z"
   },
   {
    "duration": 0,
    "start_time": "2022-07-25T18:25:35.120Z"
   },
   {
    "duration": 0,
    "start_time": "2022-07-25T18:25:35.122Z"
   },
   {
    "duration": 0,
    "start_time": "2022-07-25T18:25:35.123Z"
   },
   {
    "duration": 0,
    "start_time": "2022-07-25T18:25:35.124Z"
   },
   {
    "duration": 0,
    "start_time": "2022-07-25T18:25:35.125Z"
   },
   {
    "duration": 0,
    "start_time": "2022-07-25T18:25:35.127Z"
   },
   {
    "duration": 0,
    "start_time": "2022-07-25T18:25:35.128Z"
   },
   {
    "duration": 0,
    "start_time": "2022-07-25T18:25:35.129Z"
   },
   {
    "duration": 0,
    "start_time": "2022-07-25T18:25:35.130Z"
   },
   {
    "duration": 0,
    "start_time": "2022-07-25T18:25:35.132Z"
   },
   {
    "duration": 0,
    "start_time": "2022-07-25T18:25:35.133Z"
   },
   {
    "duration": 0,
    "start_time": "2022-07-25T18:25:35.134Z"
   },
   {
    "duration": 0,
    "start_time": "2022-07-25T18:25:35.136Z"
   },
   {
    "duration": 0,
    "start_time": "2022-07-25T18:25:35.137Z"
   },
   {
    "duration": 0,
    "start_time": "2022-07-25T18:25:35.138Z"
   },
   {
    "duration": 0,
    "start_time": "2022-07-25T18:25:35.139Z"
   },
   {
    "duration": 11,
    "start_time": "2022-07-25T18:36:14.421Z"
   },
   {
    "duration": 1550,
    "start_time": "2022-07-25T18:36:20.777Z"
   },
   {
    "duration": 0,
    "start_time": "2022-07-25T18:36:22.330Z"
   },
   {
    "duration": 0,
    "start_time": "2022-07-25T18:36:22.332Z"
   },
   {
    "duration": 0,
    "start_time": "2022-07-25T18:36:22.333Z"
   },
   {
    "duration": 0,
    "start_time": "2022-07-25T18:36:22.334Z"
   },
   {
    "duration": 0,
    "start_time": "2022-07-25T18:36:22.335Z"
   },
   {
    "duration": 0,
    "start_time": "2022-07-25T18:36:22.336Z"
   },
   {
    "duration": 0,
    "start_time": "2022-07-25T18:36:22.337Z"
   },
   {
    "duration": 0,
    "start_time": "2022-07-25T18:36:22.338Z"
   },
   {
    "duration": 0,
    "start_time": "2022-07-25T18:36:22.339Z"
   },
   {
    "duration": 0,
    "start_time": "2022-07-25T18:36:22.340Z"
   },
   {
    "duration": 1,
    "start_time": "2022-07-25T18:36:22.341Z"
   },
   {
    "duration": 0,
    "start_time": "2022-07-25T18:36:22.343Z"
   },
   {
    "duration": 0,
    "start_time": "2022-07-25T18:36:22.344Z"
   },
   {
    "duration": 0,
    "start_time": "2022-07-25T18:36:22.345Z"
   },
   {
    "duration": 0,
    "start_time": "2022-07-25T18:36:22.346Z"
   },
   {
    "duration": 0,
    "start_time": "2022-07-25T18:36:22.347Z"
   },
   {
    "duration": 0,
    "start_time": "2022-07-25T18:36:22.348Z"
   },
   {
    "duration": 0,
    "start_time": "2022-07-25T18:36:22.349Z"
   },
   {
    "duration": 0,
    "start_time": "2022-07-25T18:36:22.350Z"
   },
   {
    "duration": 0,
    "start_time": "2022-07-25T18:36:22.351Z"
   },
   {
    "duration": 0,
    "start_time": "2022-07-25T18:36:22.352Z"
   },
   {
    "duration": 0,
    "start_time": "2022-07-25T18:36:22.353Z"
   },
   {
    "duration": 0,
    "start_time": "2022-07-25T18:36:22.354Z"
   },
   {
    "duration": 0,
    "start_time": "2022-07-25T18:36:22.355Z"
   },
   {
    "duration": 0,
    "start_time": "2022-07-25T18:36:22.356Z"
   },
   {
    "duration": 0,
    "start_time": "2022-07-25T18:36:22.357Z"
   },
   {
    "duration": 0,
    "start_time": "2022-07-25T18:36:22.358Z"
   },
   {
    "duration": 0,
    "start_time": "2022-07-25T18:36:22.403Z"
   },
   {
    "duration": 0,
    "start_time": "2022-07-25T18:36:22.405Z"
   },
   {
    "duration": 0,
    "start_time": "2022-07-25T18:36:22.406Z"
   },
   {
    "duration": 0,
    "start_time": "2022-07-25T18:36:22.407Z"
   },
   {
    "duration": 0,
    "start_time": "2022-07-25T18:36:22.409Z"
   },
   {
    "duration": 0,
    "start_time": "2022-07-25T18:36:22.410Z"
   },
   {
    "duration": 0,
    "start_time": "2022-07-25T18:36:22.411Z"
   },
   {
    "duration": 0,
    "start_time": "2022-07-25T18:36:22.412Z"
   },
   {
    "duration": 0,
    "start_time": "2022-07-25T18:36:22.413Z"
   },
   {
    "duration": 0,
    "start_time": "2022-07-25T18:36:22.414Z"
   },
   {
    "duration": 0,
    "start_time": "2022-07-25T18:36:22.415Z"
   },
   {
    "duration": 0,
    "start_time": "2022-07-25T18:36:22.416Z"
   },
   {
    "duration": 0,
    "start_time": "2022-07-25T18:36:22.417Z"
   },
   {
    "duration": 0,
    "start_time": "2022-07-25T18:36:22.418Z"
   },
   {
    "duration": 0,
    "start_time": "2022-07-25T18:36:22.419Z"
   },
   {
    "duration": 0,
    "start_time": "2022-07-25T18:36:22.420Z"
   },
   {
    "duration": 0,
    "start_time": "2022-07-25T18:36:22.421Z"
   },
   {
    "duration": 0,
    "start_time": "2022-07-25T18:36:22.422Z"
   },
   {
    "duration": 0,
    "start_time": "2022-07-25T18:36:22.423Z"
   },
   {
    "duration": 0,
    "start_time": "2022-07-25T18:36:22.424Z"
   },
   {
    "duration": 0,
    "start_time": "2022-07-25T18:36:22.425Z"
   },
   {
    "duration": 0,
    "start_time": "2022-07-25T18:36:22.426Z"
   },
   {
    "duration": 0,
    "start_time": "2022-07-25T18:36:22.427Z"
   },
   {
    "duration": 0,
    "start_time": "2022-07-25T18:36:22.428Z"
   },
   {
    "duration": 0,
    "start_time": "2022-07-25T18:36:22.429Z"
   },
   {
    "duration": 0,
    "start_time": "2022-07-25T18:36:22.430Z"
   },
   {
    "duration": 0,
    "start_time": "2022-07-25T18:36:22.431Z"
   },
   {
    "duration": 0,
    "start_time": "2022-07-25T18:36:22.432Z"
   },
   {
    "duration": 0,
    "start_time": "2022-07-25T18:36:22.433Z"
   },
   {
    "duration": 0,
    "start_time": "2022-07-25T18:36:22.434Z"
   },
   {
    "duration": 0,
    "start_time": "2022-07-25T18:36:22.435Z"
   },
   {
    "duration": 0,
    "start_time": "2022-07-25T18:36:22.436Z"
   },
   {
    "duration": 0,
    "start_time": "2022-07-25T18:36:22.437Z"
   },
   {
    "duration": 0,
    "start_time": "2022-07-25T18:36:22.438Z"
   },
   {
    "duration": 0,
    "start_time": "2022-07-25T18:36:22.439Z"
   },
   {
    "duration": 5,
    "start_time": "2022-07-25T18:38:01.212Z"
   },
   {
    "duration": 1497,
    "start_time": "2022-07-25T18:38:05.382Z"
   },
   {
    "duration": 78,
    "start_time": "2022-07-25T18:38:06.881Z"
   },
   {
    "duration": 4,
    "start_time": "2022-07-25T18:38:06.960Z"
   },
   {
    "duration": 8,
    "start_time": "2022-07-25T18:38:06.966Z"
   },
   {
    "duration": 183,
    "start_time": "2022-07-25T18:38:06.975Z"
   },
   {
    "duration": 0,
    "start_time": "2022-07-25T18:38:07.161Z"
   },
   {
    "duration": 0,
    "start_time": "2022-07-25T18:38:07.162Z"
   },
   {
    "duration": 0,
    "start_time": "2022-07-25T18:38:07.163Z"
   },
   {
    "duration": 0,
    "start_time": "2022-07-25T18:38:07.164Z"
   },
   {
    "duration": 0,
    "start_time": "2022-07-25T18:38:07.165Z"
   },
   {
    "duration": 0,
    "start_time": "2022-07-25T18:38:07.166Z"
   },
   {
    "duration": 0,
    "start_time": "2022-07-25T18:38:07.168Z"
   },
   {
    "duration": 0,
    "start_time": "2022-07-25T18:38:07.169Z"
   },
   {
    "duration": 0,
    "start_time": "2022-07-25T18:38:07.170Z"
   },
   {
    "duration": 0,
    "start_time": "2022-07-25T18:38:07.171Z"
   },
   {
    "duration": 0,
    "start_time": "2022-07-25T18:38:07.172Z"
   },
   {
    "duration": 0,
    "start_time": "2022-07-25T18:38:07.173Z"
   },
   {
    "duration": 0,
    "start_time": "2022-07-25T18:38:07.174Z"
   },
   {
    "duration": 0,
    "start_time": "2022-07-25T18:38:07.175Z"
   },
   {
    "duration": 0,
    "start_time": "2022-07-25T18:38:07.176Z"
   },
   {
    "duration": 0,
    "start_time": "2022-07-25T18:38:07.176Z"
   },
   {
    "duration": 0,
    "start_time": "2022-07-25T18:38:07.204Z"
   },
   {
    "duration": 0,
    "start_time": "2022-07-25T18:38:07.205Z"
   },
   {
    "duration": 0,
    "start_time": "2022-07-25T18:38:07.206Z"
   },
   {
    "duration": 0,
    "start_time": "2022-07-25T18:38:07.207Z"
   },
   {
    "duration": 0,
    "start_time": "2022-07-25T18:38:07.208Z"
   },
   {
    "duration": 0,
    "start_time": "2022-07-25T18:38:07.209Z"
   },
   {
    "duration": 0,
    "start_time": "2022-07-25T18:38:07.210Z"
   },
   {
    "duration": 0,
    "start_time": "2022-07-25T18:38:07.211Z"
   },
   {
    "duration": 0,
    "start_time": "2022-07-25T18:38:07.212Z"
   },
   {
    "duration": 0,
    "start_time": "2022-07-25T18:38:07.213Z"
   },
   {
    "duration": 0,
    "start_time": "2022-07-25T18:38:07.213Z"
   },
   {
    "duration": 0,
    "start_time": "2022-07-25T18:38:07.214Z"
   },
   {
    "duration": 0,
    "start_time": "2022-07-25T18:38:07.215Z"
   },
   {
    "duration": 0,
    "start_time": "2022-07-25T18:38:07.217Z"
   },
   {
    "duration": 0,
    "start_time": "2022-07-25T18:38:07.218Z"
   },
   {
    "duration": 0,
    "start_time": "2022-07-25T18:38:07.219Z"
   },
   {
    "duration": 0,
    "start_time": "2022-07-25T18:38:07.220Z"
   },
   {
    "duration": 0,
    "start_time": "2022-07-25T18:38:07.221Z"
   },
   {
    "duration": 0,
    "start_time": "2022-07-25T18:38:07.222Z"
   },
   {
    "duration": 0,
    "start_time": "2022-07-25T18:38:07.223Z"
   },
   {
    "duration": 0,
    "start_time": "2022-07-25T18:38:07.224Z"
   },
   {
    "duration": 0,
    "start_time": "2022-07-25T18:38:07.225Z"
   },
   {
    "duration": 0,
    "start_time": "2022-07-25T18:38:07.226Z"
   },
   {
    "duration": 0,
    "start_time": "2022-07-25T18:38:07.227Z"
   },
   {
    "duration": 0,
    "start_time": "2022-07-25T18:38:07.228Z"
   },
   {
    "duration": 0,
    "start_time": "2022-07-25T18:38:07.229Z"
   },
   {
    "duration": 0,
    "start_time": "2022-07-25T18:38:07.230Z"
   },
   {
    "duration": 0,
    "start_time": "2022-07-25T18:38:07.231Z"
   },
   {
    "duration": 0,
    "start_time": "2022-07-25T18:38:07.231Z"
   },
   {
    "duration": 0,
    "start_time": "2022-07-25T18:38:07.232Z"
   },
   {
    "duration": 0,
    "start_time": "2022-07-25T18:38:07.233Z"
   },
   {
    "duration": 0,
    "start_time": "2022-07-25T18:38:07.234Z"
   },
   {
    "duration": 0,
    "start_time": "2022-07-25T18:38:07.235Z"
   },
   {
    "duration": 0,
    "start_time": "2022-07-25T18:38:07.236Z"
   },
   {
    "duration": 0,
    "start_time": "2022-07-25T18:38:07.237Z"
   },
   {
    "duration": 0,
    "start_time": "2022-07-25T18:38:07.239Z"
   },
   {
    "duration": 0,
    "start_time": "2022-07-25T18:38:07.240Z"
   },
   {
    "duration": 0,
    "start_time": "2022-07-25T18:38:07.241Z"
   },
   {
    "duration": 0,
    "start_time": "2022-07-25T18:38:07.241Z"
   },
   {
    "duration": 0,
    "start_time": "2022-07-25T18:38:07.304Z"
   },
   {
    "duration": 0,
    "start_time": "2022-07-25T18:38:07.306Z"
   },
   {
    "duration": 0,
    "start_time": "2022-07-25T18:38:07.306Z"
   },
   {
    "duration": 1533,
    "start_time": "2022-07-25T18:38:28.610Z"
   },
   {
    "duration": 104,
    "start_time": "2022-07-25T18:38:30.146Z"
   },
   {
    "duration": 6,
    "start_time": "2022-07-25T18:38:30.253Z"
   },
   {
    "duration": 15,
    "start_time": "2022-07-25T18:38:30.262Z"
   },
   {
    "duration": 207,
    "start_time": "2022-07-25T18:38:30.279Z"
   },
   {
    "duration": 0,
    "start_time": "2022-07-25T18:38:30.490Z"
   },
   {
    "duration": 0,
    "start_time": "2022-07-25T18:38:30.491Z"
   },
   {
    "duration": 0,
    "start_time": "2022-07-25T18:38:30.513Z"
   },
   {
    "duration": 0,
    "start_time": "2022-07-25T18:38:30.520Z"
   },
   {
    "duration": 0,
    "start_time": "2022-07-25T18:38:30.521Z"
   },
   {
    "duration": 0,
    "start_time": "2022-07-25T18:38:30.522Z"
   },
   {
    "duration": 0,
    "start_time": "2022-07-25T18:38:30.523Z"
   },
   {
    "duration": 0,
    "start_time": "2022-07-25T18:38:30.524Z"
   },
   {
    "duration": 0,
    "start_time": "2022-07-25T18:38:30.526Z"
   },
   {
    "duration": 0,
    "start_time": "2022-07-25T18:38:30.527Z"
   },
   {
    "duration": 0,
    "start_time": "2022-07-25T18:38:30.528Z"
   },
   {
    "duration": 0,
    "start_time": "2022-07-25T18:38:30.529Z"
   },
   {
    "duration": 0,
    "start_time": "2022-07-25T18:38:30.530Z"
   },
   {
    "duration": 1,
    "start_time": "2022-07-25T18:38:30.531Z"
   },
   {
    "duration": 0,
    "start_time": "2022-07-25T18:38:30.533Z"
   },
   {
    "duration": 0,
    "start_time": "2022-07-25T18:38:30.535Z"
   },
   {
    "duration": 0,
    "start_time": "2022-07-25T18:38:30.536Z"
   },
   {
    "duration": 0,
    "start_time": "2022-07-25T18:38:30.537Z"
   },
   {
    "duration": 0,
    "start_time": "2022-07-25T18:38:30.538Z"
   },
   {
    "duration": 0,
    "start_time": "2022-07-25T18:38:30.540Z"
   },
   {
    "duration": 0,
    "start_time": "2022-07-25T18:38:30.541Z"
   },
   {
    "duration": 0,
    "start_time": "2022-07-25T18:38:30.549Z"
   },
   {
    "duration": 0,
    "start_time": "2022-07-25T18:38:30.550Z"
   },
   {
    "duration": 0,
    "start_time": "2022-07-25T18:38:30.551Z"
   },
   {
    "duration": 0,
    "start_time": "2022-07-25T18:38:30.552Z"
   },
   {
    "duration": 0,
    "start_time": "2022-07-25T18:38:30.553Z"
   },
   {
    "duration": 0,
    "start_time": "2022-07-25T18:38:30.555Z"
   },
   {
    "duration": 0,
    "start_time": "2022-07-25T18:38:30.556Z"
   },
   {
    "duration": 0,
    "start_time": "2022-07-25T18:38:30.557Z"
   },
   {
    "duration": 0,
    "start_time": "2022-07-25T18:38:30.558Z"
   },
   {
    "duration": 0,
    "start_time": "2022-07-25T18:38:30.559Z"
   },
   {
    "duration": 0,
    "start_time": "2022-07-25T18:38:30.604Z"
   },
   {
    "duration": 0,
    "start_time": "2022-07-25T18:38:30.606Z"
   },
   {
    "duration": 0,
    "start_time": "2022-07-25T18:38:30.608Z"
   },
   {
    "duration": 0,
    "start_time": "2022-07-25T18:38:30.610Z"
   },
   {
    "duration": 0,
    "start_time": "2022-07-25T18:38:30.611Z"
   },
   {
    "duration": 0,
    "start_time": "2022-07-25T18:38:30.612Z"
   },
   {
    "duration": 0,
    "start_time": "2022-07-25T18:38:30.613Z"
   },
   {
    "duration": 0,
    "start_time": "2022-07-25T18:38:30.615Z"
   },
   {
    "duration": 0,
    "start_time": "2022-07-25T18:38:30.616Z"
   },
   {
    "duration": 0,
    "start_time": "2022-07-25T18:38:30.617Z"
   },
   {
    "duration": 0,
    "start_time": "2022-07-25T18:38:30.618Z"
   },
   {
    "duration": 0,
    "start_time": "2022-07-25T18:38:30.619Z"
   },
   {
    "duration": 0,
    "start_time": "2022-07-25T18:38:30.621Z"
   },
   {
    "duration": 0,
    "start_time": "2022-07-25T18:38:30.622Z"
   },
   {
    "duration": 0,
    "start_time": "2022-07-25T18:38:30.622Z"
   },
   {
    "duration": 0,
    "start_time": "2022-07-25T18:38:30.624Z"
   },
   {
    "duration": 0,
    "start_time": "2022-07-25T18:38:30.625Z"
   },
   {
    "duration": 0,
    "start_time": "2022-07-25T18:38:30.626Z"
   },
   {
    "duration": 0,
    "start_time": "2022-07-25T18:38:30.627Z"
   },
   {
    "duration": 0,
    "start_time": "2022-07-25T18:38:30.628Z"
   },
   {
    "duration": 0,
    "start_time": "2022-07-25T18:38:30.629Z"
   },
   {
    "duration": 0,
    "start_time": "2022-07-25T18:38:30.630Z"
   },
   {
    "duration": 0,
    "start_time": "2022-07-25T18:38:30.632Z"
   },
   {
    "duration": 0,
    "start_time": "2022-07-25T18:38:30.633Z"
   },
   {
    "duration": 0,
    "start_time": "2022-07-25T18:38:30.634Z"
   },
   {
    "duration": 0,
    "start_time": "2022-07-25T18:38:30.636Z"
   },
   {
    "duration": 0,
    "start_time": "2022-07-25T18:38:30.638Z"
   },
   {
    "duration": 1437,
    "start_time": "2022-07-25T18:39:16.367Z"
   },
   {
    "duration": 75,
    "start_time": "2022-07-25T18:39:17.806Z"
   },
   {
    "duration": 24,
    "start_time": "2022-07-25T18:39:17.882Z"
   },
   {
    "duration": 11,
    "start_time": "2022-07-25T18:39:17.908Z"
   },
   {
    "duration": 1613,
    "start_time": "2022-07-25T18:39:17.921Z"
   },
   {
    "duration": 2241,
    "start_time": "2022-07-25T18:39:19.536Z"
   },
   {
    "duration": 1515,
    "start_time": "2022-07-25T18:39:21.778Z"
   },
   {
    "duration": 110,
    "start_time": "2022-07-25T18:39:23.295Z"
   },
   {
    "duration": 0,
    "start_time": "2022-07-25T18:39:23.408Z"
   },
   {
    "duration": 0,
    "start_time": "2022-07-25T18:39:23.409Z"
   },
   {
    "duration": 0,
    "start_time": "2022-07-25T18:39:23.410Z"
   },
   {
    "duration": 0,
    "start_time": "2022-07-25T18:39:23.411Z"
   },
   {
    "duration": 0,
    "start_time": "2022-07-25T18:39:23.412Z"
   },
   {
    "duration": 0,
    "start_time": "2022-07-25T18:39:23.413Z"
   },
   {
    "duration": 0,
    "start_time": "2022-07-25T18:39:23.414Z"
   },
   {
    "duration": 0,
    "start_time": "2022-07-25T18:39:23.415Z"
   },
   {
    "duration": 0,
    "start_time": "2022-07-25T18:39:23.416Z"
   },
   {
    "duration": 0,
    "start_time": "2022-07-25T18:39:23.417Z"
   },
   {
    "duration": 0,
    "start_time": "2022-07-25T18:39:23.418Z"
   },
   {
    "duration": 0,
    "start_time": "2022-07-25T18:39:23.419Z"
   },
   {
    "duration": 0,
    "start_time": "2022-07-25T18:39:23.420Z"
   },
   {
    "duration": 0,
    "start_time": "2022-07-25T18:39:23.421Z"
   },
   {
    "duration": 0,
    "start_time": "2022-07-25T18:39:23.423Z"
   },
   {
    "duration": 0,
    "start_time": "2022-07-25T18:39:23.424Z"
   },
   {
    "duration": 0,
    "start_time": "2022-07-25T18:39:23.425Z"
   },
   {
    "duration": 0,
    "start_time": "2022-07-25T18:39:23.426Z"
   },
   {
    "duration": 0,
    "start_time": "2022-07-25T18:39:23.427Z"
   },
   {
    "duration": 0,
    "start_time": "2022-07-25T18:39:23.428Z"
   },
   {
    "duration": 0,
    "start_time": "2022-07-25T18:39:23.429Z"
   },
   {
    "duration": 0,
    "start_time": "2022-07-25T18:39:23.430Z"
   },
   {
    "duration": 0,
    "start_time": "2022-07-25T18:39:23.431Z"
   },
   {
    "duration": 0,
    "start_time": "2022-07-25T18:39:23.432Z"
   },
   {
    "duration": 0,
    "start_time": "2022-07-25T18:39:23.433Z"
   },
   {
    "duration": 0,
    "start_time": "2022-07-25T18:39:23.433Z"
   },
   {
    "duration": 0,
    "start_time": "2022-07-25T18:39:23.434Z"
   },
   {
    "duration": 0,
    "start_time": "2022-07-25T18:39:23.436Z"
   },
   {
    "duration": 0,
    "start_time": "2022-07-25T18:39:23.436Z"
   },
   {
    "duration": 0,
    "start_time": "2022-07-25T18:39:23.437Z"
   },
   {
    "duration": 0,
    "start_time": "2022-07-25T18:39:23.439Z"
   },
   {
    "duration": 0,
    "start_time": "2022-07-25T18:39:23.440Z"
   },
   {
    "duration": 0,
    "start_time": "2022-07-25T18:39:23.441Z"
   },
   {
    "duration": 0,
    "start_time": "2022-07-25T18:39:23.442Z"
   },
   {
    "duration": 0,
    "start_time": "2022-07-25T18:39:23.443Z"
   },
   {
    "duration": 0,
    "start_time": "2022-07-25T18:39:23.444Z"
   },
   {
    "duration": 0,
    "start_time": "2022-07-25T18:39:23.506Z"
   },
   {
    "duration": 1,
    "start_time": "2022-07-25T18:39:23.507Z"
   },
   {
    "duration": 0,
    "start_time": "2022-07-25T18:39:23.508Z"
   },
   {
    "duration": 0,
    "start_time": "2022-07-25T18:39:23.509Z"
   },
   {
    "duration": 0,
    "start_time": "2022-07-25T18:39:23.510Z"
   },
   {
    "duration": 0,
    "start_time": "2022-07-25T18:39:23.511Z"
   },
   {
    "duration": 0,
    "start_time": "2022-07-25T18:39:23.511Z"
   },
   {
    "duration": 0,
    "start_time": "2022-07-25T18:39:23.512Z"
   },
   {
    "duration": 0,
    "start_time": "2022-07-25T18:39:23.513Z"
   },
   {
    "duration": 0,
    "start_time": "2022-07-25T18:39:23.514Z"
   },
   {
    "duration": 0,
    "start_time": "2022-07-25T18:39:23.515Z"
   },
   {
    "duration": 0,
    "start_time": "2022-07-25T18:39:23.515Z"
   },
   {
    "duration": 0,
    "start_time": "2022-07-25T18:39:23.516Z"
   },
   {
    "duration": 0,
    "start_time": "2022-07-25T18:39:23.517Z"
   },
   {
    "duration": 0,
    "start_time": "2022-07-25T18:39:23.518Z"
   },
   {
    "duration": 0,
    "start_time": "2022-07-25T18:39:23.518Z"
   },
   {
    "duration": 0,
    "start_time": "2022-07-25T18:39:23.519Z"
   },
   {
    "duration": 0,
    "start_time": "2022-07-25T18:39:23.521Z"
   },
   {
    "duration": 0,
    "start_time": "2022-07-25T18:39:23.523Z"
   },
   {
    "duration": 4,
    "start_time": "2022-07-25T18:39:28.868Z"
   },
   {
    "duration": 1416,
    "start_time": "2022-07-25T18:47:32.651Z"
   },
   {
    "duration": 84,
    "start_time": "2022-07-25T18:47:34.071Z"
   },
   {
    "duration": 9,
    "start_time": "2022-07-25T18:47:34.157Z"
   },
   {
    "duration": 8,
    "start_time": "2022-07-25T18:47:34.168Z"
   },
   {
    "duration": 1440,
    "start_time": "2022-07-25T18:47:34.177Z"
   },
   {
    "duration": 1588,
    "start_time": "2022-07-25T18:47:35.619Z"
   },
   {
    "duration": 2534,
    "start_time": "2022-07-25T18:47:37.209Z"
   },
   {
    "duration": 4,
    "start_time": "2022-07-25T18:47:39.745Z"
   },
   {
    "duration": 7,
    "start_time": "2022-07-25T18:47:39.750Z"
   },
   {
    "duration": 19,
    "start_time": "2022-07-25T18:47:39.759Z"
   },
   {
    "duration": 24,
    "start_time": "2022-07-25T18:47:39.780Z"
   },
   {
    "duration": 276,
    "start_time": "2022-07-25T18:47:39.806Z"
   },
   {
    "duration": 0,
    "start_time": "2022-07-25T18:47:40.085Z"
   },
   {
    "duration": 0,
    "start_time": "2022-07-25T18:47:40.086Z"
   },
   {
    "duration": 0,
    "start_time": "2022-07-25T18:47:40.087Z"
   },
   {
    "duration": 0,
    "start_time": "2022-07-25T18:47:40.088Z"
   },
   {
    "duration": 0,
    "start_time": "2022-07-25T18:47:40.089Z"
   },
   {
    "duration": 0,
    "start_time": "2022-07-25T18:47:40.104Z"
   },
   {
    "duration": 0,
    "start_time": "2022-07-25T18:47:40.105Z"
   },
   {
    "duration": 0,
    "start_time": "2022-07-25T18:47:40.106Z"
   },
   {
    "duration": 0,
    "start_time": "2022-07-25T18:47:40.107Z"
   },
   {
    "duration": 0,
    "start_time": "2022-07-25T18:47:40.108Z"
   },
   {
    "duration": 0,
    "start_time": "2022-07-25T18:47:40.110Z"
   },
   {
    "duration": 0,
    "start_time": "2022-07-25T18:47:40.111Z"
   },
   {
    "duration": 0,
    "start_time": "2022-07-25T18:47:40.113Z"
   },
   {
    "duration": 0,
    "start_time": "2022-07-25T18:47:40.114Z"
   },
   {
    "duration": 0,
    "start_time": "2022-07-25T18:47:40.116Z"
   },
   {
    "duration": 0,
    "start_time": "2022-07-25T18:47:40.118Z"
   },
   {
    "duration": 0,
    "start_time": "2022-07-25T18:47:40.119Z"
   },
   {
    "duration": 0,
    "start_time": "2022-07-25T18:47:40.121Z"
   },
   {
    "duration": 0,
    "start_time": "2022-07-25T18:47:40.123Z"
   },
   {
    "duration": 0,
    "start_time": "2022-07-25T18:47:40.125Z"
   },
   {
    "duration": 0,
    "start_time": "2022-07-25T18:47:40.127Z"
   },
   {
    "duration": 0,
    "start_time": "2022-07-25T18:47:40.128Z"
   },
   {
    "duration": 0,
    "start_time": "2022-07-25T18:47:40.130Z"
   },
   {
    "duration": 0,
    "start_time": "2022-07-25T18:47:40.132Z"
   },
   {
    "duration": 0,
    "start_time": "2022-07-25T18:47:40.134Z"
   },
   {
    "duration": 0,
    "start_time": "2022-07-25T18:47:40.135Z"
   },
   {
    "duration": 0,
    "start_time": "2022-07-25T18:47:40.136Z"
   },
   {
    "duration": 0,
    "start_time": "2022-07-25T18:47:40.137Z"
   },
   {
    "duration": 0,
    "start_time": "2022-07-25T18:47:40.139Z"
   },
   {
    "duration": 0,
    "start_time": "2022-07-25T18:47:40.140Z"
   },
   {
    "duration": 0,
    "start_time": "2022-07-25T18:47:40.142Z"
   },
   {
    "duration": 0,
    "start_time": "2022-07-25T18:47:40.143Z"
   },
   {
    "duration": 0,
    "start_time": "2022-07-25T18:47:40.205Z"
   },
   {
    "duration": 0,
    "start_time": "2022-07-25T18:47:40.206Z"
   },
   {
    "duration": 0,
    "start_time": "2022-07-25T18:47:40.207Z"
   },
   {
    "duration": 0,
    "start_time": "2022-07-25T18:47:40.208Z"
   },
   {
    "duration": 0,
    "start_time": "2022-07-25T18:47:40.210Z"
   },
   {
    "duration": 0,
    "start_time": "2022-07-25T18:47:40.212Z"
   },
   {
    "duration": 0,
    "start_time": "2022-07-25T18:47:40.213Z"
   },
   {
    "duration": 1,
    "start_time": "2022-07-25T18:47:40.214Z"
   },
   {
    "duration": 0,
    "start_time": "2022-07-25T18:47:40.217Z"
   },
   {
    "duration": 0,
    "start_time": "2022-07-25T18:47:40.218Z"
   },
   {
    "duration": 0,
    "start_time": "2022-07-25T18:47:40.219Z"
   },
   {
    "duration": 0,
    "start_time": "2022-07-25T18:47:40.220Z"
   },
   {
    "duration": 0,
    "start_time": "2022-07-25T18:47:40.221Z"
   },
   {
    "duration": 0,
    "start_time": "2022-07-25T18:47:40.222Z"
   },
   {
    "duration": 0,
    "start_time": "2022-07-25T18:47:40.224Z"
   },
   {
    "duration": 0,
    "start_time": "2022-07-25T18:47:40.225Z"
   },
   {
    "duration": 0,
    "start_time": "2022-07-25T18:47:40.226Z"
   },
   {
    "duration": 0,
    "start_time": "2022-07-25T18:47:40.228Z"
   },
   {
    "duration": 0,
    "start_time": "2022-07-25T18:47:40.229Z"
   },
   {
    "duration": 0,
    "start_time": "2022-07-25T18:47:40.230Z"
   },
   {
    "duration": 4,
    "start_time": "2022-07-25T18:50:55.780Z"
   },
   {
    "duration": 148,
    "start_time": "2022-07-25T18:50:57.320Z"
   },
   {
    "duration": 4,
    "start_time": "2022-07-25T18:51:39.857Z"
   },
   {
    "duration": 145,
    "start_time": "2022-07-25T18:51:40.373Z"
   },
   {
    "duration": 3,
    "start_time": "2022-07-25T18:52:00.892Z"
   },
   {
    "duration": 155,
    "start_time": "2022-07-25T18:52:01.954Z"
   },
   {
    "duration": 4,
    "start_time": "2022-07-25T18:52:44.650Z"
   },
   {
    "duration": 625,
    "start_time": "2022-07-25T18:52:44.954Z"
   },
   {
    "duration": 558,
    "start_time": "2022-07-25T18:53:54.650Z"
   },
   {
    "duration": 531,
    "start_time": "2022-07-25T18:54:14.004Z"
   },
   {
    "duration": 3,
    "start_time": "2022-07-25T18:54:24.231Z"
   },
   {
    "duration": 1726,
    "start_time": "2022-07-25T18:54:24.455Z"
   },
   {
    "duration": 1626,
    "start_time": "2022-07-25T18:54:41.860Z"
   },
   {
    "duration": 1645,
    "start_time": "2022-07-25T18:55:13.764Z"
   },
   {
    "duration": 1669,
    "start_time": "2022-07-25T18:55:41.349Z"
   },
   {
    "duration": 1818,
    "start_time": "2022-07-25T18:56:29.444Z"
   },
   {
    "duration": 1763,
    "start_time": "2022-07-25T18:56:36.590Z"
   },
   {
    "duration": 15,
    "start_time": "2022-07-25T19:02:52.930Z"
   },
   {
    "duration": 1511,
    "start_time": "2022-07-25T19:03:05.184Z"
   },
   {
    "duration": 116,
    "start_time": "2022-07-25T19:03:06.698Z"
   },
   {
    "duration": 4,
    "start_time": "2022-07-25T19:03:06.816Z"
   },
   {
    "duration": 12,
    "start_time": "2022-07-25T19:03:06.823Z"
   },
   {
    "duration": 1467,
    "start_time": "2022-07-25T19:03:06.837Z"
   },
   {
    "duration": 2503,
    "start_time": "2022-07-25T19:03:08.306Z"
   },
   {
    "duration": 1759,
    "start_time": "2022-07-25T19:03:10.811Z"
   },
   {
    "duration": 5,
    "start_time": "2022-07-25T19:03:12.572Z"
   },
   {
    "duration": 14,
    "start_time": "2022-07-25T19:03:12.579Z"
   },
   {
    "duration": 20,
    "start_time": "2022-07-25T19:03:12.604Z"
   },
   {
    "duration": 4,
    "start_time": "2022-07-25T19:03:12.626Z"
   },
   {
    "duration": 1665,
    "start_time": "2022-07-25T19:03:12.632Z"
   },
   {
    "duration": 54,
    "start_time": "2022-07-25T19:03:14.299Z"
   },
   {
    "duration": 122,
    "start_time": "2022-07-25T19:03:14.355Z"
   },
   {
    "duration": 0,
    "start_time": "2022-07-25T19:03:14.480Z"
   },
   {
    "duration": 0,
    "start_time": "2022-07-25T19:03:14.481Z"
   },
   {
    "duration": 0,
    "start_time": "2022-07-25T19:03:14.482Z"
   },
   {
    "duration": 0,
    "start_time": "2022-07-25T19:03:14.483Z"
   },
   {
    "duration": 0,
    "start_time": "2022-07-25T19:03:14.484Z"
   },
   {
    "duration": 0,
    "start_time": "2022-07-25T19:03:14.485Z"
   },
   {
    "duration": 0,
    "start_time": "2022-07-25T19:03:14.486Z"
   },
   {
    "duration": 0,
    "start_time": "2022-07-25T19:03:14.487Z"
   },
   {
    "duration": 0,
    "start_time": "2022-07-25T19:03:14.488Z"
   },
   {
    "duration": 0,
    "start_time": "2022-07-25T19:03:14.504Z"
   },
   {
    "duration": 0,
    "start_time": "2022-07-25T19:03:14.506Z"
   },
   {
    "duration": 0,
    "start_time": "2022-07-25T19:03:14.507Z"
   },
   {
    "duration": 0,
    "start_time": "2022-07-25T19:03:14.508Z"
   },
   {
    "duration": 0,
    "start_time": "2022-07-25T19:03:14.509Z"
   },
   {
    "duration": 0,
    "start_time": "2022-07-25T19:03:14.510Z"
   },
   {
    "duration": 0,
    "start_time": "2022-07-25T19:03:14.511Z"
   },
   {
    "duration": 0,
    "start_time": "2022-07-25T19:03:14.512Z"
   },
   {
    "duration": 0,
    "start_time": "2022-07-25T19:03:14.513Z"
   },
   {
    "duration": 0,
    "start_time": "2022-07-25T19:03:14.515Z"
   },
   {
    "duration": 0,
    "start_time": "2022-07-25T19:03:14.515Z"
   },
   {
    "duration": 0,
    "start_time": "2022-07-25T19:03:14.517Z"
   },
   {
    "duration": 0,
    "start_time": "2022-07-25T19:03:14.517Z"
   },
   {
    "duration": 0,
    "start_time": "2022-07-25T19:03:14.518Z"
   },
   {
    "duration": 0,
    "start_time": "2022-07-25T19:03:14.519Z"
   },
   {
    "duration": 0,
    "start_time": "2022-07-25T19:03:14.521Z"
   },
   {
    "duration": 0,
    "start_time": "2022-07-25T19:03:14.522Z"
   },
   {
    "duration": 0,
    "start_time": "2022-07-25T19:03:14.523Z"
   },
   {
    "duration": 0,
    "start_time": "2022-07-25T19:03:14.524Z"
   },
   {
    "duration": 0,
    "start_time": "2022-07-25T19:03:14.525Z"
   },
   {
    "duration": 0,
    "start_time": "2022-07-25T19:03:14.525Z"
   },
   {
    "duration": 0,
    "start_time": "2022-07-25T19:03:14.526Z"
   },
   {
    "duration": 0,
    "start_time": "2022-07-25T19:03:14.527Z"
   },
   {
    "duration": 0,
    "start_time": "2022-07-25T19:03:14.528Z"
   },
   {
    "duration": 0,
    "start_time": "2022-07-25T19:03:14.529Z"
   },
   {
    "duration": 0,
    "start_time": "2022-07-25T19:03:14.530Z"
   },
   {
    "duration": 0,
    "start_time": "2022-07-25T19:03:14.531Z"
   },
   {
    "duration": 0,
    "start_time": "2022-07-25T19:03:14.532Z"
   },
   {
    "duration": 0,
    "start_time": "2022-07-25T19:03:14.533Z"
   },
   {
    "duration": 0,
    "start_time": "2022-07-25T19:03:14.534Z"
   },
   {
    "duration": 0,
    "start_time": "2022-07-25T19:03:14.535Z"
   },
   {
    "duration": 0,
    "start_time": "2022-07-25T19:03:14.536Z"
   },
   {
    "duration": 0,
    "start_time": "2022-07-25T19:03:14.537Z"
   },
   {
    "duration": 0,
    "start_time": "2022-07-25T19:03:14.538Z"
   },
   {
    "duration": 0,
    "start_time": "2022-07-25T19:03:14.539Z"
   },
   {
    "duration": 0,
    "start_time": "2022-07-25T19:03:14.540Z"
   },
   {
    "duration": 0,
    "start_time": "2022-07-25T19:03:14.541Z"
   },
   {
    "duration": 0,
    "start_time": "2022-07-25T19:03:14.542Z"
   },
   {
    "duration": 0,
    "start_time": "2022-07-25T19:03:14.542Z"
   },
   {
    "duration": 0,
    "start_time": "2022-07-25T19:03:14.543Z"
   },
   {
    "duration": 0,
    "start_time": "2022-07-25T19:03:14.604Z"
   },
   {
    "duration": 21,
    "start_time": "2022-07-25T19:03:34.063Z"
   },
   {
    "duration": 14,
    "start_time": "2022-07-25T19:04:27.722Z"
   },
   {
    "duration": 13,
    "start_time": "2022-07-25T19:04:49.698Z"
   },
   {
    "duration": 18,
    "start_time": "2022-07-25T19:05:21.363Z"
   },
   {
    "duration": 14,
    "start_time": "2022-07-25T19:05:38.657Z"
   },
   {
    "duration": 42,
    "start_time": "2022-07-25T19:09:48.274Z"
   },
   {
    "duration": 1546,
    "start_time": "2022-07-25T19:15:47.002Z"
   },
   {
    "duration": 100,
    "start_time": "2022-07-25T19:15:48.551Z"
   },
   {
    "duration": 5,
    "start_time": "2022-07-25T19:15:48.657Z"
   },
   {
    "duration": 5,
    "start_time": "2022-07-25T19:15:48.703Z"
   },
   {
    "duration": 1592,
    "start_time": "2022-07-25T19:15:48.710Z"
   },
   {
    "duration": 2544,
    "start_time": "2022-07-25T19:15:50.304Z"
   },
   {
    "duration": 3141,
    "start_time": "2022-07-25T19:15:52.850Z"
   },
   {
    "duration": 14,
    "start_time": "2022-07-25T19:15:55.994Z"
   },
   {
    "duration": 10,
    "start_time": "2022-07-25T19:15:56.011Z"
   },
   {
    "duration": 25,
    "start_time": "2022-07-25T19:15:56.024Z"
   },
   {
    "duration": 4,
    "start_time": "2022-07-25T19:15:56.051Z"
   },
   {
    "duration": 2139,
    "start_time": "2022-07-25T19:15:56.058Z"
   },
   {
    "duration": 61,
    "start_time": "2022-07-25T19:15:58.205Z"
   },
   {
    "duration": 40,
    "start_time": "2022-07-25T19:15:58.269Z"
   },
   {
    "duration": 49,
    "start_time": "2022-07-25T19:15:58.313Z"
   },
   {
    "duration": 4,
    "start_time": "2022-07-25T19:15:58.365Z"
   },
   {
    "duration": 1337,
    "start_time": "2022-07-25T19:15:58.372Z"
   },
   {
    "duration": 1735,
    "start_time": "2022-07-25T19:15:59.712Z"
   },
   {
    "duration": 0,
    "start_time": "2022-07-25T19:16:01.452Z"
   },
   {
    "duration": 0,
    "start_time": "2022-07-25T19:16:01.454Z"
   },
   {
    "duration": 0,
    "start_time": "2022-07-25T19:16:01.457Z"
   },
   {
    "duration": 0,
    "start_time": "2022-07-25T19:16:01.459Z"
   },
   {
    "duration": 0,
    "start_time": "2022-07-25T19:16:01.461Z"
   },
   {
    "duration": 0,
    "start_time": "2022-07-25T19:16:01.464Z"
   },
   {
    "duration": 0,
    "start_time": "2022-07-25T19:16:01.466Z"
   },
   {
    "duration": 0,
    "start_time": "2022-07-25T19:16:01.467Z"
   },
   {
    "duration": 0,
    "start_time": "2022-07-25T19:16:01.469Z"
   },
   {
    "duration": 0,
    "start_time": "2022-07-25T19:16:01.471Z"
   },
   {
    "duration": 0,
    "start_time": "2022-07-25T19:16:01.473Z"
   },
   {
    "duration": 0,
    "start_time": "2022-07-25T19:16:01.474Z"
   },
   {
    "duration": 0,
    "start_time": "2022-07-25T19:16:01.476Z"
   },
   {
    "duration": 0,
    "start_time": "2022-07-25T19:16:01.505Z"
   },
   {
    "duration": 0,
    "start_time": "2022-07-25T19:16:01.507Z"
   },
   {
    "duration": 0,
    "start_time": "2022-07-25T19:16:01.508Z"
   },
   {
    "duration": 0,
    "start_time": "2022-07-25T19:16:01.510Z"
   },
   {
    "duration": 0,
    "start_time": "2022-07-25T19:16:01.512Z"
   },
   {
    "duration": 0,
    "start_time": "2022-07-25T19:16:01.513Z"
   },
   {
    "duration": 0,
    "start_time": "2022-07-25T19:16:01.515Z"
   },
   {
    "duration": 0,
    "start_time": "2022-07-25T19:16:01.516Z"
   },
   {
    "duration": 0,
    "start_time": "2022-07-25T19:16:01.518Z"
   },
   {
    "duration": 0,
    "start_time": "2022-07-25T19:16:01.520Z"
   },
   {
    "duration": 0,
    "start_time": "2022-07-25T19:16:01.521Z"
   },
   {
    "duration": 0,
    "start_time": "2022-07-25T19:16:01.523Z"
   },
   {
    "duration": 0,
    "start_time": "2022-07-25T19:16:01.525Z"
   },
   {
    "duration": 0,
    "start_time": "2022-07-25T19:16:01.526Z"
   },
   {
    "duration": 0,
    "start_time": "2022-07-25T19:16:01.528Z"
   },
   {
    "duration": 0,
    "start_time": "2022-07-25T19:16:01.530Z"
   },
   {
    "duration": 0,
    "start_time": "2022-07-25T19:16:01.531Z"
   },
   {
    "duration": 0,
    "start_time": "2022-07-25T19:16:01.534Z"
   },
   {
    "duration": 0,
    "start_time": "2022-07-25T19:16:01.535Z"
   },
   {
    "duration": 0,
    "start_time": "2022-07-25T19:16:01.536Z"
   },
   {
    "duration": 0,
    "start_time": "2022-07-25T19:16:01.538Z"
   },
   {
    "duration": 0,
    "start_time": "2022-07-25T19:16:01.539Z"
   },
   {
    "duration": 0,
    "start_time": "2022-07-25T19:16:01.541Z"
   },
   {
    "duration": 0,
    "start_time": "2022-07-25T19:16:01.542Z"
   },
   {
    "duration": 0,
    "start_time": "2022-07-25T19:16:01.543Z"
   },
   {
    "duration": 0,
    "start_time": "2022-07-25T19:16:01.605Z"
   },
   {
    "duration": 0,
    "start_time": "2022-07-25T19:16:01.606Z"
   },
   {
    "duration": 0,
    "start_time": "2022-07-25T19:16:01.608Z"
   },
   {
    "duration": 0,
    "start_time": "2022-07-25T19:16:01.609Z"
   },
   {
    "duration": 6,
    "start_time": "2022-07-25T19:16:10.183Z"
   },
   {
    "duration": 52,
    "start_time": "2022-07-25T19:16:54.496Z"
   },
   {
    "duration": 50,
    "start_time": "2022-07-25T19:16:58.538Z"
   },
   {
    "duration": 1508,
    "start_time": "2022-07-25T19:17:45.621Z"
   },
   {
    "duration": 96,
    "start_time": "2022-07-25T19:17:47.131Z"
   },
   {
    "duration": 5,
    "start_time": "2022-07-25T19:17:47.229Z"
   },
   {
    "duration": 16,
    "start_time": "2022-07-25T19:17:47.237Z"
   },
   {
    "duration": 1399,
    "start_time": "2022-07-25T19:17:47.255Z"
   },
   {
    "duration": 1503,
    "start_time": "2022-07-25T19:17:48.656Z"
   },
   {
    "duration": 1561,
    "start_time": "2022-07-25T19:17:50.161Z"
   },
   {
    "duration": 9,
    "start_time": "2022-07-25T19:17:51.723Z"
   },
   {
    "duration": 60,
    "start_time": "2022-07-25T19:17:51.733Z"
   },
   {
    "duration": 43,
    "start_time": "2022-07-25T19:17:51.796Z"
   },
   {
    "duration": 9,
    "start_time": "2022-07-25T19:17:51.842Z"
   },
   {
    "duration": 1828,
    "start_time": "2022-07-25T19:17:51.853Z"
   },
   {
    "duration": 65,
    "start_time": "2022-07-25T19:17:53.683Z"
   },
   {
    "duration": 16,
    "start_time": "2022-07-25T19:17:53.750Z"
   },
   {
    "duration": 58,
    "start_time": "2022-07-25T19:17:53.768Z"
   },
   {
    "duration": 3,
    "start_time": "2022-07-25T19:17:53.827Z"
   },
   {
    "duration": 75,
    "start_time": "2022-07-25T19:17:53.831Z"
   },
   {
    "duration": 45,
    "start_time": "2022-07-25T19:17:53.908Z"
   },
   {
    "duration": 710,
    "start_time": "2022-07-25T19:17:53.955Z"
   },
   {
    "duration": 759,
    "start_time": "2022-07-25T19:17:54.667Z"
   },
   {
    "duration": 0,
    "start_time": "2022-07-25T19:17:55.430Z"
   },
   {
    "duration": 0,
    "start_time": "2022-07-25T19:17:55.432Z"
   },
   {
    "duration": 0,
    "start_time": "2022-07-25T19:17:55.433Z"
   },
   {
    "duration": 0,
    "start_time": "2022-07-25T19:17:55.434Z"
   },
   {
    "duration": 0,
    "start_time": "2022-07-25T19:17:55.435Z"
   },
   {
    "duration": 0,
    "start_time": "2022-07-25T19:17:55.436Z"
   },
   {
    "duration": 0,
    "start_time": "2022-07-25T19:17:55.438Z"
   },
   {
    "duration": 0,
    "start_time": "2022-07-25T19:17:55.439Z"
   },
   {
    "duration": 0,
    "start_time": "2022-07-25T19:17:55.440Z"
   },
   {
    "duration": 0,
    "start_time": "2022-07-25T19:17:55.442Z"
   },
   {
    "duration": 0,
    "start_time": "2022-07-25T19:17:55.442Z"
   },
   {
    "duration": 0,
    "start_time": "2022-07-25T19:17:55.444Z"
   },
   {
    "duration": 0,
    "start_time": "2022-07-25T19:17:55.445Z"
   },
   {
    "duration": 0,
    "start_time": "2022-07-25T19:17:55.446Z"
   },
   {
    "duration": 0,
    "start_time": "2022-07-25T19:17:55.504Z"
   },
   {
    "duration": 0,
    "start_time": "2022-07-25T19:17:55.505Z"
   },
   {
    "duration": 0,
    "start_time": "2022-07-25T19:17:55.507Z"
   },
   {
    "duration": 0,
    "start_time": "2022-07-25T19:17:55.508Z"
   },
   {
    "duration": 0,
    "start_time": "2022-07-25T19:17:55.509Z"
   },
   {
    "duration": 0,
    "start_time": "2022-07-25T19:17:55.510Z"
   },
   {
    "duration": 0,
    "start_time": "2022-07-25T19:17:55.511Z"
   },
   {
    "duration": 0,
    "start_time": "2022-07-25T19:17:55.512Z"
   },
   {
    "duration": 0,
    "start_time": "2022-07-25T19:17:55.513Z"
   },
   {
    "duration": 0,
    "start_time": "2022-07-25T19:17:55.514Z"
   },
   {
    "duration": 0,
    "start_time": "2022-07-25T19:17:55.515Z"
   },
   {
    "duration": 0,
    "start_time": "2022-07-25T19:17:55.516Z"
   },
   {
    "duration": 0,
    "start_time": "2022-07-25T19:17:55.517Z"
   },
   {
    "duration": 1,
    "start_time": "2022-07-25T19:17:55.518Z"
   },
   {
    "duration": 0,
    "start_time": "2022-07-25T19:17:55.520Z"
   },
   {
    "duration": 0,
    "start_time": "2022-07-25T19:17:55.521Z"
   },
   {
    "duration": 0,
    "start_time": "2022-07-25T19:17:55.522Z"
   },
   {
    "duration": 0,
    "start_time": "2022-07-25T19:17:55.523Z"
   },
   {
    "duration": 0,
    "start_time": "2022-07-25T19:17:55.524Z"
   },
   {
    "duration": 0,
    "start_time": "2022-07-25T19:17:55.525Z"
   },
   {
    "duration": 0,
    "start_time": "2022-07-25T19:17:55.526Z"
   },
   {
    "duration": 0,
    "start_time": "2022-07-25T19:17:55.528Z"
   },
   {
    "duration": 0,
    "start_time": "2022-07-25T19:17:55.528Z"
   },
   {
    "duration": 0,
    "start_time": "2022-07-25T19:17:55.529Z"
   },
   {
    "duration": 0,
    "start_time": "2022-07-25T19:17:55.530Z"
   },
   {
    "duration": 4,
    "start_time": "2022-07-25T19:19:13.347Z"
   },
   {
    "duration": 56,
    "start_time": "2022-07-25T19:19:16.062Z"
   },
   {
    "duration": 17,
    "start_time": "2022-07-25T19:19:19.153Z"
   },
   {
    "duration": 729,
    "start_time": "2022-07-25T19:19:23.844Z"
   },
   {
    "duration": 419,
    "start_time": "2022-07-25T19:19:27.202Z"
   },
   {
    "duration": 1477,
    "start_time": "2022-07-25T19:25:10.374Z"
   },
   {
    "duration": 78,
    "start_time": "2022-07-25T19:25:11.853Z"
   },
   {
    "duration": 4,
    "start_time": "2022-07-25T19:25:11.933Z"
   },
   {
    "duration": 5,
    "start_time": "2022-07-25T19:25:11.939Z"
   },
   {
    "duration": 2512,
    "start_time": "2022-07-25T19:25:11.945Z"
   },
   {
    "duration": 2474,
    "start_time": "2022-07-25T19:25:14.459Z"
   },
   {
    "duration": 1677,
    "start_time": "2022-07-25T19:25:16.935Z"
   },
   {
    "duration": 8,
    "start_time": "2022-07-25T19:25:18.614Z"
   },
   {
    "duration": 6,
    "start_time": "2022-07-25T19:25:18.623Z"
   },
   {
    "duration": 17,
    "start_time": "2022-07-25T19:25:18.632Z"
   },
   {
    "duration": 4,
    "start_time": "2022-07-25T19:25:18.650Z"
   },
   {
    "duration": 2631,
    "start_time": "2022-07-25T19:25:18.655Z"
   },
   {
    "duration": 64,
    "start_time": "2022-07-25T19:25:21.288Z"
   },
   {
    "duration": 18,
    "start_time": "2022-07-25T19:25:21.353Z"
   },
   {
    "duration": 59,
    "start_time": "2022-07-25T19:25:21.374Z"
   },
   {
    "duration": 5,
    "start_time": "2022-07-25T19:25:21.435Z"
   },
   {
    "duration": 78,
    "start_time": "2022-07-25T19:25:21.442Z"
   },
   {
    "duration": 14,
    "start_time": "2022-07-25T19:25:21.521Z"
   },
   {
    "duration": 727,
    "start_time": "2022-07-25T19:25:21.536Z"
   },
   {
    "duration": 440,
    "start_time": "2022-07-25T19:25:22.265Z"
   },
   {
    "duration": 0,
    "start_time": "2022-07-25T19:25:22.707Z"
   },
   {
    "duration": 0,
    "start_time": "2022-07-25T19:25:22.708Z"
   },
   {
    "duration": 0,
    "start_time": "2022-07-25T19:25:22.709Z"
   },
   {
    "duration": 0,
    "start_time": "2022-07-25T19:25:22.710Z"
   },
   {
    "duration": 0,
    "start_time": "2022-07-25T19:25:22.711Z"
   },
   {
    "duration": 0,
    "start_time": "2022-07-25T19:25:22.712Z"
   },
   {
    "duration": 0,
    "start_time": "2022-07-25T19:25:22.713Z"
   },
   {
    "duration": 0,
    "start_time": "2022-07-25T19:25:22.715Z"
   },
   {
    "duration": 0,
    "start_time": "2022-07-25T19:25:22.715Z"
   },
   {
    "duration": 0,
    "start_time": "2022-07-25T19:25:22.716Z"
   },
   {
    "duration": 0,
    "start_time": "2022-07-25T19:25:22.717Z"
   },
   {
    "duration": 0,
    "start_time": "2022-07-25T19:25:22.718Z"
   },
   {
    "duration": 0,
    "start_time": "2022-07-25T19:25:22.719Z"
   },
   {
    "duration": 0,
    "start_time": "2022-07-25T19:25:22.720Z"
   },
   {
    "duration": 0,
    "start_time": "2022-07-25T19:25:22.721Z"
   },
   {
    "duration": 0,
    "start_time": "2022-07-25T19:25:22.722Z"
   },
   {
    "duration": 0,
    "start_time": "2022-07-25T19:25:22.723Z"
   },
   {
    "duration": 0,
    "start_time": "2022-07-25T19:25:22.725Z"
   },
   {
    "duration": 0,
    "start_time": "2022-07-25T19:25:22.725Z"
   },
   {
    "duration": 0,
    "start_time": "2022-07-25T19:25:22.727Z"
   },
   {
    "duration": 0,
    "start_time": "2022-07-25T19:25:22.728Z"
   },
   {
    "duration": 0,
    "start_time": "2022-07-25T19:25:22.729Z"
   },
   {
    "duration": 0,
    "start_time": "2022-07-25T19:25:22.730Z"
   },
   {
    "duration": 0,
    "start_time": "2022-07-25T19:25:22.731Z"
   },
   {
    "duration": 0,
    "start_time": "2022-07-25T19:25:22.732Z"
   },
   {
    "duration": 0,
    "start_time": "2022-07-25T19:25:22.733Z"
   },
   {
    "duration": 0,
    "start_time": "2022-07-25T19:25:22.734Z"
   },
   {
    "duration": 0,
    "start_time": "2022-07-25T19:25:22.735Z"
   },
   {
    "duration": 0,
    "start_time": "2022-07-25T19:25:22.736Z"
   },
   {
    "duration": 0,
    "start_time": "2022-07-25T19:25:22.737Z"
   },
   {
    "duration": 0,
    "start_time": "2022-07-25T19:25:22.738Z"
   },
   {
    "duration": 0,
    "start_time": "2022-07-25T19:25:22.739Z"
   },
   {
    "duration": 0,
    "start_time": "2022-07-25T19:25:22.739Z"
   },
   {
    "duration": 0,
    "start_time": "2022-07-25T19:25:22.741Z"
   },
   {
    "duration": 0,
    "start_time": "2022-07-25T19:25:22.741Z"
   },
   {
    "duration": 0,
    "start_time": "2022-07-25T19:25:22.743Z"
   },
   {
    "duration": 0,
    "start_time": "2022-07-25T19:25:22.744Z"
   },
   {
    "duration": 0,
    "start_time": "2022-07-25T19:25:22.745Z"
   },
   {
    "duration": 0,
    "start_time": "2022-07-25T19:25:22.804Z"
   },
   {
    "duration": 713,
    "start_time": "2022-07-25T19:26:22.942Z"
   },
   {
    "duration": 96,
    "start_time": "2022-07-25T19:26:25.817Z"
   },
   {
    "duration": 114,
    "start_time": "2022-07-25T19:26:39.295Z"
   },
   {
    "duration": 1518,
    "start_time": "2022-07-25T19:26:40.189Z"
   },
   {
    "duration": 1494,
    "start_time": "2022-07-25T19:26:50.276Z"
   },
   {
    "duration": 161,
    "start_time": "2022-07-25T19:26:51.772Z"
   },
   {
    "duration": 17,
    "start_time": "2022-07-25T19:26:53.122Z"
   },
   {
    "duration": 5,
    "start_time": "2022-07-25T19:27:15.380Z"
   },
   {
    "duration": 22,
    "start_time": "2022-07-25T19:27:20.543Z"
   },
   {
    "duration": 3,
    "start_time": "2022-07-25T19:31:31.369Z"
   },
   {
    "duration": 55,
    "start_time": "2022-07-25T19:31:32.380Z"
   },
   {
    "duration": 13,
    "start_time": "2022-07-25T19:31:33.679Z"
   },
   {
    "duration": 687,
    "start_time": "2022-07-25T19:31:34.773Z"
   },
   {
    "duration": 191,
    "start_time": "2022-07-25T19:31:35.513Z"
   },
   {
    "duration": 1519,
    "start_time": "2022-07-25T19:31:36.051Z"
   },
   {
    "duration": 155,
    "start_time": "2022-07-25T19:31:37.572Z"
   },
   {
    "duration": 11,
    "start_time": "2022-07-25T19:31:38.299Z"
   },
   {
    "duration": 12,
    "start_time": "2022-07-25T19:32:02.803Z"
   },
   {
    "duration": 12,
    "start_time": "2022-07-25T19:32:08.478Z"
   },
   {
    "duration": 10,
    "start_time": "2022-07-25T19:32:19.344Z"
   },
   {
    "duration": 7,
    "start_time": "2022-07-25T19:35:46.045Z"
   },
   {
    "duration": 66,
    "start_time": "2022-07-25T19:35:47.148Z"
   },
   {
    "duration": 23,
    "start_time": "2022-07-25T19:35:48.516Z"
   },
   {
    "duration": 7,
    "start_time": "2022-07-25T19:36:03.272Z"
   },
   {
    "duration": 56,
    "start_time": "2022-07-25T19:36:03.841Z"
   },
   {
    "duration": 14,
    "start_time": "2022-07-25T19:36:04.606Z"
   },
   {
    "duration": 703,
    "start_time": "2022-07-25T19:36:06.852Z"
   },
   {
    "duration": 79,
    "start_time": "2022-07-25T19:36:08.337Z"
   },
   {
    "duration": 1543,
    "start_time": "2022-07-25T19:36:09.027Z"
   },
   {
    "duration": 160,
    "start_time": "2022-07-25T19:36:10.572Z"
   },
   {
    "duration": 6,
    "start_time": "2022-07-25T19:36:12.431Z"
   },
   {
    "duration": 6,
    "start_time": "2022-07-25T19:36:17.683Z"
   },
   {
    "duration": 6,
    "start_time": "2022-07-25T19:37:19.435Z"
   },
   {
    "duration": 54,
    "start_time": "2022-07-25T19:37:20.058Z"
   },
   {
    "duration": 24,
    "start_time": "2022-07-25T19:37:20.842Z"
   },
   {
    "duration": 6,
    "start_time": "2022-07-25T19:37:38.636Z"
   },
   {
    "duration": 65,
    "start_time": "2022-07-25T19:37:39.237Z"
   },
   {
    "duration": 23,
    "start_time": "2022-07-25T19:37:40.206Z"
   },
   {
    "duration": 692,
    "start_time": "2022-07-25T19:37:41.275Z"
   },
   {
    "duration": 138,
    "start_time": "2022-07-25T19:37:41.969Z"
   },
   {
    "duration": 1591,
    "start_time": "2022-07-25T19:37:42.735Z"
   },
   {
    "duration": 170,
    "start_time": "2022-07-25T19:37:44.328Z"
   },
   {
    "duration": 7,
    "start_time": "2022-07-25T19:37:44.503Z"
   },
   {
    "duration": 7,
    "start_time": "2022-07-25T19:38:25.634Z"
   },
   {
    "duration": 60,
    "start_time": "2022-07-25T19:38:26.005Z"
   },
   {
    "duration": 18,
    "start_time": "2022-07-25T19:38:27.063Z"
   },
   {
    "duration": 687,
    "start_time": "2022-07-25T19:38:28.078Z"
   },
   {
    "duration": 67,
    "start_time": "2022-07-25T19:38:28.945Z"
   },
   {
    "duration": 1645,
    "start_time": "2022-07-25T19:38:29.542Z"
   },
   {
    "duration": 173,
    "start_time": "2022-07-25T19:38:31.189Z"
   },
   {
    "duration": 7,
    "start_time": "2022-07-25T19:38:31.364Z"
   },
   {
    "duration": 6,
    "start_time": "2022-07-25T19:38:47.354Z"
   },
   {
    "duration": 56,
    "start_time": "2022-07-25T19:38:47.717Z"
   },
   {
    "duration": 15,
    "start_time": "2022-07-25T19:38:48.556Z"
   },
   {
    "duration": 6,
    "start_time": "2022-07-25T19:38:59.284Z"
   },
   {
    "duration": 54,
    "start_time": "2022-07-25T19:38:59.649Z"
   },
   {
    "duration": 18,
    "start_time": "2022-07-25T19:39:00.258Z"
   },
   {
    "duration": 7,
    "start_time": "2022-07-25T19:39:24.113Z"
   },
   {
    "duration": 55,
    "start_time": "2022-07-25T19:39:24.510Z"
   },
   {
    "duration": 32,
    "start_time": "2022-07-25T19:39:25.765Z"
   },
   {
    "duration": 7,
    "start_time": "2022-07-25T19:40:42.545Z"
   },
   {
    "duration": 56,
    "start_time": "2022-07-25T19:40:42.932Z"
   },
   {
    "duration": 24,
    "start_time": "2022-07-25T19:40:44.980Z"
   },
   {
    "duration": 6,
    "start_time": "2022-07-25T19:41:02.690Z"
   },
   {
    "duration": 54,
    "start_time": "2022-07-25T19:41:03.353Z"
   },
   {
    "duration": 14,
    "start_time": "2022-07-25T19:41:04.542Z"
   },
   {
    "duration": 715,
    "start_time": "2022-07-25T19:41:06.237Z"
   },
   {
    "duration": 252,
    "start_time": "2022-07-25T19:41:06.953Z"
   },
   {
    "duration": 1396,
    "start_time": "2022-07-25T19:41:07.230Z"
   },
   {
    "duration": 165,
    "start_time": "2022-07-25T19:41:08.628Z"
   },
   {
    "duration": 10,
    "start_time": "2022-07-25T19:41:09.780Z"
   },
   {
    "duration": 6,
    "start_time": "2022-07-25T19:41:41.452Z"
   },
   {
    "duration": 53,
    "start_time": "2022-07-25T19:41:41.794Z"
   },
   {
    "duration": 17,
    "start_time": "2022-07-25T19:41:42.904Z"
   },
   {
    "duration": 6,
    "start_time": "2022-07-25T19:41:54.471Z"
   },
   {
    "duration": 54,
    "start_time": "2022-07-25T19:41:54.815Z"
   },
   {
    "duration": 17,
    "start_time": "2022-07-25T19:41:55.715Z"
   },
   {
    "duration": 7,
    "start_time": "2022-07-25T19:42:04.631Z"
   },
   {
    "duration": 56,
    "start_time": "2022-07-25T19:42:04.967Z"
   },
   {
    "duration": 25,
    "start_time": "2022-07-25T19:42:05.932Z"
   },
   {
    "duration": 15,
    "start_time": "2022-07-25T19:42:30.666Z"
   },
   {
    "duration": 651,
    "start_time": "2022-07-25T19:42:31.507Z"
   },
   {
    "duration": 248,
    "start_time": "2022-07-25T19:42:32.160Z"
   },
   {
    "duration": 1522,
    "start_time": "2022-07-25T19:42:32.506Z"
   },
   {
    "duration": 169,
    "start_time": "2022-07-25T19:42:34.030Z"
   },
   {
    "duration": 26,
    "start_time": "2022-07-25T19:42:35.001Z"
   },
   {
    "duration": 7,
    "start_time": "2022-07-25T19:42:46.279Z"
   },
   {
    "duration": 64,
    "start_time": "2022-07-25T19:42:46.635Z"
   },
   {
    "duration": 16,
    "start_time": "2022-07-25T19:42:47.165Z"
   },
   {
    "duration": 696,
    "start_time": "2022-07-25T19:42:47.868Z"
   },
   {
    "duration": 146,
    "start_time": "2022-07-25T19:42:48.566Z"
   },
   {
    "duration": 1591,
    "start_time": "2022-07-25T19:42:48.806Z"
   },
   {
    "duration": 166,
    "start_time": "2022-07-25T19:42:50.399Z"
   },
   {
    "duration": 25,
    "start_time": "2022-07-25T19:42:50.649Z"
   },
   {
    "duration": 5,
    "start_time": "2022-07-25T19:44:57.336Z"
   },
   {
    "duration": 14,
    "start_time": "2022-07-25T19:44:57.835Z"
   },
   {
    "duration": 22,
    "start_time": "2022-07-25T19:45:05.545Z"
   },
   {
    "duration": 18,
    "start_time": "2022-07-25T19:45:28.731Z"
   },
   {
    "duration": 28,
    "start_time": "2022-07-25T19:45:30.155Z"
   },
   {
    "duration": 406,
    "start_time": "2022-07-25T19:45:39.677Z"
   },
   {
    "duration": 22,
    "start_time": "2022-07-25T19:45:52.329Z"
   },
   {
    "duration": 363,
    "start_time": "2022-07-25T19:46:15.635Z"
   },
   {
    "duration": 5,
    "start_time": "2022-07-25T19:47:24.673Z"
   },
   {
    "duration": 337,
    "start_time": "2022-07-25T19:47:25.150Z"
   },
   {
    "duration": 24,
    "start_time": "2022-07-25T19:47:31.640Z"
   },
   {
    "duration": 5,
    "start_time": "2022-07-25T19:52:10.678Z"
   },
   {
    "duration": 57,
    "start_time": "2022-07-25T19:52:11.299Z"
   },
   {
    "duration": 15,
    "start_time": "2022-07-25T19:52:12.343Z"
   },
   {
    "duration": 751,
    "start_time": "2022-07-25T19:52:12.723Z"
   },
   {
    "duration": 238,
    "start_time": "2022-07-25T19:52:13.476Z"
   },
   {
    "duration": 0,
    "start_time": "2022-07-25T19:52:13.717Z"
   },
   {
    "duration": 265,
    "start_time": "2022-07-25T19:52:15.645Z"
   },
   {
    "duration": 11,
    "start_time": "2022-07-25T19:52:16.841Z"
   },
   {
    "duration": 5,
    "start_time": "2022-07-25T19:52:44.750Z"
   },
   {
    "duration": 51,
    "start_time": "2022-07-25T19:52:45.139Z"
   },
   {
    "duration": 14,
    "start_time": "2022-07-25T19:52:45.713Z"
   },
   {
    "duration": 681,
    "start_time": "2022-07-25T19:52:46.284Z"
   },
   {
    "duration": 237,
    "start_time": "2022-07-25T19:52:46.967Z"
   },
   {
    "duration": 13624,
    "start_time": "2022-07-25T19:52:48.499Z"
   },
   {
    "duration": 767,
    "start_time": "2022-07-25T19:53:02.125Z"
   },
   {
    "duration": 24,
    "start_time": "2022-07-25T19:53:02.893Z"
   },
   {
    "duration": 5,
    "start_time": "2022-07-25T19:56:53.444Z"
   },
   {
    "duration": 12,
    "start_time": "2022-07-25T19:56:53.700Z"
   },
   {
    "duration": 41,
    "start_time": "2022-07-25T19:56:54.613Z"
   },
   {
    "duration": 15,
    "start_time": "2022-07-25T19:56:55.143Z"
   },
   {
    "duration": 723,
    "start_time": "2022-07-25T19:56:56.443Z"
   },
   {
    "duration": 237,
    "start_time": "2022-07-25T19:56:57.168Z"
   },
   {
    "duration": 13595,
    "start_time": "2022-07-25T19:57:00.732Z"
   },
   {
    "duration": 756,
    "start_time": "2022-07-25T19:57:14.329Z"
   },
   {
    "duration": 32,
    "start_time": "2022-07-25T19:57:15.087Z"
   },
   {
    "duration": 1418,
    "start_time": "2022-07-25T19:59:34.438Z"
   },
   {
    "duration": 79,
    "start_time": "2022-07-25T19:59:35.858Z"
   },
   {
    "duration": 4,
    "start_time": "2022-07-25T19:59:35.939Z"
   },
   {
    "duration": 5,
    "start_time": "2022-07-25T19:59:35.945Z"
   },
   {
    "duration": 1460,
    "start_time": "2022-07-25T19:59:35.953Z"
   },
   {
    "duration": 1409,
    "start_time": "2022-07-25T19:59:37.415Z"
   },
   {
    "duration": 1450,
    "start_time": "2022-07-25T19:59:38.826Z"
   },
   {
    "duration": 8,
    "start_time": "2022-07-25T19:59:40.278Z"
   },
   {
    "duration": 43,
    "start_time": "2022-07-25T19:59:40.287Z"
   },
   {
    "duration": 45,
    "start_time": "2022-07-25T19:59:40.332Z"
   },
   {
    "duration": 30,
    "start_time": "2022-07-25T19:59:40.379Z"
   },
   {
    "duration": 1636,
    "start_time": "2022-07-25T19:59:40.411Z"
   },
   {
    "duration": 64,
    "start_time": "2022-07-25T19:59:42.049Z"
   },
   {
    "duration": 16,
    "start_time": "2022-07-25T19:59:42.116Z"
   },
   {
    "duration": 48,
    "start_time": "2022-07-25T19:59:42.135Z"
   },
   {
    "duration": 22,
    "start_time": "2022-07-25T19:59:42.184Z"
   },
   {
    "duration": 57,
    "start_time": "2022-07-25T19:59:42.208Z"
   },
   {
    "duration": 39,
    "start_time": "2022-07-25T19:59:42.266Z"
   },
   {
    "duration": 651,
    "start_time": "2022-07-25T19:59:42.306Z"
   },
   {
    "duration": 246,
    "start_time": "2022-07-25T19:59:42.958Z"
   },
   {
    "duration": 1550,
    "start_time": "2022-07-25T19:59:43.206Z"
   },
   {
    "duration": 158,
    "start_time": "2022-07-25T19:59:44.758Z"
   },
   {
    "duration": 6,
    "start_time": "2022-07-25T19:59:44.918Z"
   },
   {
    "duration": 434,
    "start_time": "2022-07-25T19:59:44.926Z"
   },
   {
    "duration": 23,
    "start_time": "2022-07-25T19:59:45.362Z"
   },
   {
    "duration": 18,
    "start_time": "2022-07-25T19:59:45.386Z"
   },
   {
    "duration": 59,
    "start_time": "2022-07-25T19:59:45.406Z"
   },
   {
    "duration": 15,
    "start_time": "2022-07-25T19:59:45.466Z"
   },
   {
    "duration": 658,
    "start_time": "2022-07-25T19:59:45.503Z"
   },
   {
    "duration": 243,
    "start_time": "2022-07-25T19:59:46.163Z"
   },
   {
    "duration": 14788,
    "start_time": "2022-07-25T19:59:46.408Z"
   },
   {
    "duration": 769,
    "start_time": "2022-07-25T20:00:01.198Z"
   },
   {
    "duration": 24,
    "start_time": "2022-07-25T20:00:01.969Z"
   },
   {
    "duration": 30,
    "start_time": "2022-07-25T20:00:01.994Z"
   },
   {
    "duration": 34,
    "start_time": "2022-07-25T20:00:02.026Z"
   },
   {
    "duration": 51,
    "start_time": "2022-07-25T20:00:02.062Z"
   },
   {
    "duration": 15,
    "start_time": "2022-07-25T20:00:02.114Z"
   },
   {
    "duration": 742,
    "start_time": "2022-07-25T20:00:02.132Z"
   },
   {
    "duration": 228,
    "start_time": "2022-07-25T20:00:02.876Z"
   },
   {
    "duration": 14865,
    "start_time": "2022-07-25T20:00:03.107Z"
   },
   {
    "duration": 847,
    "start_time": "2022-07-25T20:00:17.976Z"
   },
   {
    "duration": 26,
    "start_time": "2022-07-25T20:00:18.825Z"
   },
   {
    "duration": 9,
    "start_time": "2022-07-25T20:00:18.853Z"
   },
   {
    "duration": 20,
    "start_time": "2022-07-25T20:00:18.864Z"
   },
   {
    "duration": 69,
    "start_time": "2022-07-25T20:00:18.885Z"
   },
   {
    "duration": 13,
    "start_time": "2022-07-25T20:00:18.956Z"
   },
   {
    "duration": 701,
    "start_time": "2022-07-25T20:00:18.971Z"
   },
   {
    "duration": 235,
    "start_time": "2022-07-25T20:00:19.674Z"
   },
   {
    "duration": 14177,
    "start_time": "2022-07-25T20:00:19.913Z"
   },
   {
    "duration": 761,
    "start_time": "2022-07-25T20:00:34.092Z"
   },
   {
    "duration": 25,
    "start_time": "2022-07-25T20:00:34.855Z"
   },
   {
    "duration": 868,
    "start_time": "2022-07-25T20:00:34.883Z"
   },
   {
    "duration": 1478,
    "start_time": "2022-07-25T20:03:36.775Z"
   },
   {
    "duration": 76,
    "start_time": "2022-07-25T20:03:38.255Z"
   },
   {
    "duration": 4,
    "start_time": "2022-07-25T20:03:38.333Z"
   },
   {
    "duration": 6,
    "start_time": "2022-07-25T20:03:38.339Z"
   },
   {
    "duration": 1347,
    "start_time": "2022-07-25T20:03:38.346Z"
   },
   {
    "duration": 1446,
    "start_time": "2022-07-25T20:03:39.694Z"
   },
   {
    "duration": 1436,
    "start_time": "2022-07-25T20:03:41.141Z"
   },
   {
    "duration": 7,
    "start_time": "2022-07-25T20:03:42.579Z"
   },
   {
    "duration": 27,
    "start_time": "2022-07-25T20:03:42.588Z"
   },
   {
    "duration": 32,
    "start_time": "2022-07-25T20:03:42.617Z"
   },
   {
    "duration": 3,
    "start_time": "2022-07-25T20:03:42.650Z"
   },
   {
    "duration": 1666,
    "start_time": "2022-07-25T20:03:42.655Z"
   },
   {
    "duration": 51,
    "start_time": "2022-07-25T20:03:44.323Z"
   },
   {
    "duration": 30,
    "start_time": "2022-07-25T20:03:44.376Z"
   },
   {
    "duration": 53,
    "start_time": "2022-07-25T20:03:44.408Z"
   },
   {
    "duration": 8,
    "start_time": "2022-07-25T20:03:44.462Z"
   },
   {
    "duration": 76,
    "start_time": "2022-07-25T20:03:44.472Z"
   },
   {
    "duration": 15,
    "start_time": "2022-07-25T20:03:44.550Z"
   },
   {
    "duration": 700,
    "start_time": "2022-07-25T20:03:44.567Z"
   },
   {
    "duration": 143,
    "start_time": "2022-07-25T20:03:45.269Z"
   },
   {
    "duration": 1610,
    "start_time": "2022-07-25T20:03:45.414Z"
   },
   {
    "duration": 161,
    "start_time": "2022-07-25T20:03:47.026Z"
   },
   {
    "duration": 7,
    "start_time": "2022-07-25T20:03:47.189Z"
   },
   {
    "duration": 377,
    "start_time": "2022-07-25T20:03:47.204Z"
   },
   {
    "duration": 31,
    "start_time": "2022-07-25T20:03:47.583Z"
   },
   {
    "duration": 17,
    "start_time": "2022-07-25T20:03:47.616Z"
   },
   {
    "duration": 69,
    "start_time": "2022-07-25T20:03:47.635Z"
   },
   {
    "duration": 24,
    "start_time": "2022-07-25T20:03:47.708Z"
   },
   {
    "duration": 721,
    "start_time": "2022-07-25T20:03:47.734Z"
   },
   {
    "duration": 447,
    "start_time": "2022-07-25T20:03:48.457Z"
   },
   {
    "duration": 14872,
    "start_time": "2022-07-25T20:03:48.906Z"
   },
   {
    "duration": 1493,
    "start_time": "2022-07-25T20:04:03.780Z"
   },
   {
    "duration": 30,
    "start_time": "2022-07-25T20:04:05.275Z"
   },
   {
    "duration": 5,
    "start_time": "2022-07-25T20:04:05.307Z"
   },
   {
    "duration": 15,
    "start_time": "2022-07-25T20:04:05.313Z"
   },
   {
    "duration": 47,
    "start_time": "2022-07-25T20:04:05.330Z"
   },
   {
    "duration": 50,
    "start_time": "2022-07-25T20:04:05.379Z"
   },
   {
    "duration": 745,
    "start_time": "2022-07-25T20:04:05.431Z"
   },
   {
    "duration": 631,
    "start_time": "2022-07-25T20:04:06.178Z"
   },
   {
    "duration": 13831,
    "start_time": "2022-07-25T20:04:06.811Z"
   },
   {
    "duration": 1491,
    "start_time": "2022-07-25T20:04:20.644Z"
   },
   {
    "duration": 44,
    "start_time": "2022-07-25T20:04:22.137Z"
   },
   {
    "duration": 10,
    "start_time": "2022-07-25T20:04:22.183Z"
   },
   {
    "duration": 14,
    "start_time": "2022-07-25T20:04:22.195Z"
   },
   {
    "duration": 58,
    "start_time": "2022-07-25T20:04:22.211Z"
   },
   {
    "duration": 45,
    "start_time": "2022-07-25T20:04:22.271Z"
   },
   {
    "duration": 646,
    "start_time": "2022-07-25T20:04:22.317Z"
   },
   {
    "duration": 439,
    "start_time": "2022-07-25T20:04:22.965Z"
   },
   {
    "duration": 14203,
    "start_time": "2022-07-25T20:04:23.406Z"
   },
   {
    "duration": 1546,
    "start_time": "2022-07-25T20:04:37.611Z"
   },
   {
    "duration": 25,
    "start_time": "2022-07-25T20:04:39.159Z"
   },
   {
    "duration": 36,
    "start_time": "2022-07-25T20:04:39.187Z"
   },
   {
    "duration": 898,
    "start_time": "2022-07-25T20:04:39.226Z"
   },
   {
    "duration": 30,
    "start_time": "2022-07-25T20:05:13.854Z"
   },
   {
    "duration": 26,
    "start_time": "2022-07-25T20:05:29.066Z"
   },
   {
    "duration": 1415,
    "start_time": "2022-07-25T20:06:30.750Z"
   },
   {
    "duration": 82,
    "start_time": "2022-07-25T20:06:32.167Z"
   },
   {
    "duration": 4,
    "start_time": "2022-07-25T20:06:32.250Z"
   },
   {
    "duration": 11,
    "start_time": "2022-07-25T20:06:32.256Z"
   },
   {
    "duration": 1493,
    "start_time": "2022-07-25T20:06:32.269Z"
   },
   {
    "duration": 1520,
    "start_time": "2022-07-25T20:06:33.764Z"
   },
   {
    "duration": 1591,
    "start_time": "2022-07-25T20:06:35.286Z"
   },
   {
    "duration": 8,
    "start_time": "2022-07-25T20:06:36.879Z"
   },
   {
    "duration": 19,
    "start_time": "2022-07-25T20:06:36.889Z"
   },
   {
    "duration": 24,
    "start_time": "2022-07-25T20:06:36.910Z"
   },
   {
    "duration": 3,
    "start_time": "2022-07-25T20:06:36.936Z"
   },
   {
    "duration": 1754,
    "start_time": "2022-07-25T20:06:36.941Z"
   },
   {
    "duration": 51,
    "start_time": "2022-07-25T20:06:38.704Z"
   },
   {
    "duration": 17,
    "start_time": "2022-07-25T20:06:38.759Z"
   },
   {
    "duration": 62,
    "start_time": "2022-07-25T20:06:38.778Z"
   },
   {
    "duration": 8,
    "start_time": "2022-07-25T20:06:38.841Z"
   },
   {
    "duration": 83,
    "start_time": "2022-07-25T20:06:38.850Z"
   },
   {
    "duration": 17,
    "start_time": "2022-07-25T20:06:38.935Z"
   },
   {
    "duration": 703,
    "start_time": "2022-07-25T20:06:38.953Z"
   },
   {
    "duration": 155,
    "start_time": "2022-07-25T20:06:39.658Z"
   },
   {
    "duration": 1640,
    "start_time": "2022-07-25T20:06:39.815Z"
   },
   {
    "duration": 164,
    "start_time": "2022-07-25T20:06:41.457Z"
   },
   {
    "duration": 5,
    "start_time": "2022-07-25T20:06:41.623Z"
   },
   {
    "duration": 352,
    "start_time": "2022-07-25T20:06:41.630Z"
   },
   {
    "duration": 27,
    "start_time": "2022-07-25T20:06:41.984Z"
   },
   {
    "duration": 8,
    "start_time": "2022-07-25T20:06:42.013Z"
   },
   {
    "duration": 58,
    "start_time": "2022-07-25T20:06:42.023Z"
   },
   {
    "duration": 43,
    "start_time": "2022-07-25T20:06:42.083Z"
   },
   {
    "duration": 741,
    "start_time": "2022-07-25T20:06:42.128Z"
   },
   {
    "duration": 342,
    "start_time": "2022-07-25T20:06:42.870Z"
   },
   {
    "duration": 17477,
    "start_time": "2022-07-25T20:06:43.214Z"
   },
   {
    "duration": 1562,
    "start_time": "2022-07-25T20:07:00.693Z"
   },
   {
    "duration": 23,
    "start_time": "2022-07-25T20:07:02.257Z"
   },
   {
    "duration": 12,
    "start_time": "2022-07-25T20:07:02.282Z"
   },
   {
    "duration": 14,
    "start_time": "2022-07-25T20:07:02.304Z"
   },
   {
    "duration": 40,
    "start_time": "2022-07-25T20:07:02.320Z"
   },
   {
    "duration": 49,
    "start_time": "2022-07-25T20:07:02.362Z"
   },
   {
    "duration": 654,
    "start_time": "2022-07-25T20:07:02.413Z"
   },
   {
    "duration": 535,
    "start_time": "2022-07-25T20:07:03.069Z"
   },
   {
    "duration": 14469,
    "start_time": "2022-07-25T20:07:03.606Z"
   },
   {
    "duration": 1528,
    "start_time": "2022-07-25T20:07:18.079Z"
   },
   {
    "duration": 40,
    "start_time": "2022-07-25T20:07:19.609Z"
   },
   {
    "duration": 12,
    "start_time": "2022-07-25T20:07:19.651Z"
   },
   {
    "duration": 19,
    "start_time": "2022-07-25T20:07:19.665Z"
   },
   {
    "duration": 59,
    "start_time": "2022-07-25T20:07:19.686Z"
   },
   {
    "duration": 26,
    "start_time": "2022-07-25T20:07:19.746Z"
   },
   {
    "duration": 693,
    "start_time": "2022-07-25T20:07:19.774Z"
   },
   {
    "duration": 536,
    "start_time": "2022-07-25T20:07:20.469Z"
   },
   {
    "duration": 14223,
    "start_time": "2022-07-25T20:07:21.007Z"
   },
   {
    "duration": 1605,
    "start_time": "2022-07-25T20:07:35.232Z"
   },
   {
    "duration": 25,
    "start_time": "2022-07-25T20:07:36.839Z"
   },
   {
    "duration": 68,
    "start_time": "2022-07-25T20:07:36.865Z"
   },
   {
    "duration": 982,
    "start_time": "2022-07-25T20:07:36.935Z"
   },
   {
    "duration": 856,
    "start_time": "2022-07-25T20:09:00.780Z"
   },
   {
    "duration": 1035,
    "start_time": "2022-07-25T20:11:48.412Z"
   },
   {
    "duration": 907,
    "start_time": "2022-07-25T20:12:06.669Z"
   },
   {
    "duration": 869,
    "start_time": "2022-07-25T20:12:31.977Z"
   },
   {
    "duration": 15599,
    "start_time": "2022-07-25T20:13:33.279Z"
   },
   {
    "duration": 16161,
    "start_time": "2022-07-25T20:19:30.722Z"
   },
   {
    "duration": 1593,
    "start_time": "2022-07-25T20:20:55.715Z"
   },
   {
    "duration": 110,
    "start_time": "2022-07-25T20:20:57.310Z"
   },
   {
    "duration": 5,
    "start_time": "2022-07-25T20:20:57.422Z"
   },
   {
    "duration": 6,
    "start_time": "2022-07-25T20:20:57.430Z"
   },
   {
    "duration": 1495,
    "start_time": "2022-07-25T20:20:57.438Z"
   },
   {
    "duration": 1599,
    "start_time": "2022-07-25T20:20:58.935Z"
   },
   {
    "duration": 1595,
    "start_time": "2022-07-25T20:21:00.536Z"
   },
   {
    "duration": 13,
    "start_time": "2022-07-25T20:21:02.134Z"
   },
   {
    "duration": 21,
    "start_time": "2022-07-25T20:21:02.149Z"
   },
   {
    "duration": 19,
    "start_time": "2022-07-25T20:21:02.172Z"
   },
   {
    "duration": 3,
    "start_time": "2022-07-25T20:21:02.193Z"
   },
   {
    "duration": 1773,
    "start_time": "2022-07-25T20:21:02.204Z"
   },
   {
    "duration": 67,
    "start_time": "2022-07-25T20:21:03.979Z"
   },
   {
    "duration": 15,
    "start_time": "2022-07-25T20:21:04.047Z"
   },
   {
    "duration": 57,
    "start_time": "2022-07-25T20:21:04.064Z"
   },
   {
    "duration": 8,
    "start_time": "2022-07-25T20:21:04.123Z"
   },
   {
    "duration": 86,
    "start_time": "2022-07-25T20:21:04.133Z"
   },
   {
    "duration": 17,
    "start_time": "2022-07-25T20:21:04.221Z"
   },
   {
    "duration": 719,
    "start_time": "2022-07-25T20:21:04.240Z"
   },
   {
    "duration": 247,
    "start_time": "2022-07-25T20:21:04.961Z"
   },
   {
    "duration": 1703,
    "start_time": "2022-07-25T20:21:05.210Z"
   },
   {
    "duration": 157,
    "start_time": "2022-07-25T20:21:06.914Z"
   },
   {
    "duration": 5,
    "start_time": "2022-07-25T20:21:07.073Z"
   },
   {
    "duration": 411,
    "start_time": "2022-07-25T20:21:07.080Z"
   },
   {
    "duration": 33,
    "start_time": "2022-07-25T20:21:07.492Z"
   },
   {
    "duration": 9,
    "start_time": "2022-07-25T20:21:07.527Z"
   },
   {
    "duration": 73,
    "start_time": "2022-07-25T20:21:07.538Z"
   },
   {
    "duration": 26,
    "start_time": "2022-07-25T20:21:07.615Z"
   },
   {
    "duration": 714,
    "start_time": "2022-07-25T20:21:07.643Z"
   },
   {
    "duration": 349,
    "start_time": "2022-07-25T20:21:08.359Z"
   },
   {
    "duration": 16021,
    "start_time": "2022-07-25T20:21:08.710Z"
   },
   {
    "duration": 1589,
    "start_time": "2022-07-25T20:21:24.733Z"
   },
   {
    "duration": 26,
    "start_time": "2022-07-25T20:21:26.324Z"
   },
   {
    "duration": 9,
    "start_time": "2022-07-25T20:21:26.353Z"
   },
   {
    "duration": 33,
    "start_time": "2022-07-25T20:21:26.364Z"
   },
   {
    "duration": 48,
    "start_time": "2022-07-25T20:21:26.399Z"
   },
   {
    "duration": 27,
    "start_time": "2022-07-25T20:21:26.449Z"
   },
   {
    "duration": 797,
    "start_time": "2022-07-25T20:21:26.478Z"
   },
   {
    "duration": 428,
    "start_time": "2022-07-25T20:21:27.277Z"
   },
   {
    "duration": 14950,
    "start_time": "2022-07-25T20:21:27.708Z"
   },
   {
    "duration": 1537,
    "start_time": "2022-07-25T20:21:42.660Z"
   },
   {
    "duration": 27,
    "start_time": "2022-07-25T20:21:44.199Z"
   },
   {
    "duration": 13,
    "start_time": "2022-07-25T20:21:44.228Z"
   },
   {
    "duration": 19,
    "start_time": "2022-07-25T20:21:44.243Z"
   },
   {
    "duration": 73,
    "start_time": "2022-07-25T20:21:44.264Z"
   },
   {
    "duration": 28,
    "start_time": "2022-07-25T20:21:44.340Z"
   },
   {
    "duration": 722,
    "start_time": "2022-07-25T20:21:44.370Z"
   },
   {
    "duration": 503,
    "start_time": "2022-07-25T20:21:45.103Z"
   },
   {
    "duration": 14841,
    "start_time": "2022-07-25T20:21:45.609Z"
   },
   {
    "duration": 1518,
    "start_time": "2022-07-25T20:22:00.452Z"
   },
   {
    "duration": 32,
    "start_time": "2022-07-25T20:22:01.972Z"
   },
   {
    "duration": 61,
    "start_time": "2022-07-25T20:22:02.006Z"
   },
   {
    "duration": 15337,
    "start_time": "2022-07-25T20:22:02.069Z"
   }
  ],
  "kernelspec": {
   "display_name": "Python 3 (ipykernel)",
   "language": "python",
   "name": "python3"
  },
  "language_info": {
   "codemirror_mode": {
    "name": "ipython",
    "version": 3
   },
   "file_extension": ".py",
   "mimetype": "text/x-python",
   "name": "python",
   "nbconvert_exporter": "python",
   "pygments_lexer": "ipython3",
   "version": "3.12.4"
  },
  "toc": {
   "base_numbering": 1,
   "nav_menu": {},
   "number_sections": true,
   "sideBar": true,
   "skip_h1_title": true,
   "title_cell": "Содержание",
   "title_sidebar": "Contents",
   "toc_cell": true,
   "toc_position": {
    "height": "calc(100% - 180px)",
    "left": "10px",
    "top": "150px",
    "width": "324.162px"
   },
   "toc_section_display": true,
   "toc_window_display": true
  }
 },
 "nbformat": 4,
 "nbformat_minor": 4
}
