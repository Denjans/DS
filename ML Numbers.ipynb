{
 "cells": [
  {
   "cell_type": "markdown",
   "metadata": {
    "toc": true
   },
   "source": [
    "<h1>Содержание<span class=\"tocSkip\"></span></h1>\n",
    "<div class=\"toc\"><ul class=\"toc-item\"><li><span><a href=\"#Подготовка-данных\" data-toc-modified-id=\"Подготовка-данных-1\"><span class=\"toc-item-num\">1&nbsp;&nbsp;</span>Подготовка данных</a></span></li><li><span><a href=\"#Анализ-данных\" data-toc-modified-id=\"Анализ-данных-2\"><span class=\"toc-item-num\">2&nbsp;&nbsp;</span>Анализ данных</a></span><ul class=\"toc-item\"><li><span><a href=\"#Анализ-наборов-данных\" data-toc-modified-id=\"Анализ-наборов-данных-2.1\"><span class=\"toc-item-num\">2.1&nbsp;&nbsp;</span>Анализ наборов данных</a></span></li><li><span><a href=\"#Проверка-рассчета-эффективности\" data-toc-modified-id=\"Проверка-рассчета-эффективности-2.2\"><span class=\"toc-item-num\">2.2&nbsp;&nbsp;</span>Проверка рассчета эффективности</a></span></li><li><span><a href=\"#Вычисление-эффективности-обогащения-на-обучающей-выборке\" data-toc-modified-id=\"Вычисление-эффективности-обогащения-на-обучающей-выборке-2.3\"><span class=\"toc-item-num\">2.3&nbsp;&nbsp;</span>Вычисление эффективности обогащения на обучающей выборке</a></span></li><li><span><a href=\"#Анализ-MAE\" data-toc-modified-id=\"Анализ-MAE-2.4\"><span class=\"toc-item-num\">2.4&nbsp;&nbsp;</span>Анализ MAE</a></span></li><li><span><a href=\"#Анализ-тестовых-данных\" data-toc-modified-id=\"Анализ-тестовых-данных-2.5\"><span class=\"toc-item-num\">2.5&nbsp;&nbsp;</span>Анализ тестовых данных</a></span></li><li><span><a href=\"#Предобработка-данных\" data-toc-modified-id=\"Предобработка-данных-2.6\"><span class=\"toc-item-num\">2.6&nbsp;&nbsp;</span>Предобработка данных</a></span><ul class=\"toc-item\"><li><span><a href=\"#Обработаем-строки-с-пропущенными-данными\" data-toc-modified-id=\"Обработаем-строки-с-пропущенными-данными-2.6.1\"><span class=\"toc-item-num\">2.6.1&nbsp;&nbsp;</span>Обработаем строки с пропущенными данными</a></span><ul class=\"toc-item\"><li><span><a href=\"#Проверка-модели-с-удалением-строк\" data-toc-modified-id=\"Проверка-модели-с-удалением-строк-2.6.1.1\"><span class=\"toc-item-num\">2.6.1.1&nbsp;&nbsp;</span>Проверка модели с удалением строк</a></span></li><li><span><a href=\"#Проверка-модели-с-заполнением-средним\" data-toc-modified-id=\"Проверка-модели-с-заполнением-средним-2.6.1.2\"><span class=\"toc-item-num\">2.6.1.2&nbsp;&nbsp;</span>Проверка модели с заполнением средним</a></span></li><li><span><a href=\"#Проверка-модели-с-заполнением-медианой\" data-toc-modified-id=\"Проверка-модели-с-заполнением-медианой-2.6.1.3\"><span class=\"toc-item-num\">2.6.1.3&nbsp;&nbsp;</span>Проверка модели с заполнением медианой</a></span></li><li><span><a href=\"#Проверка-модели-с-заполнением-соседними-данными\" data-toc-modified-id=\"Проверка-модели-с-заполнением-соседними-данными-2.6.1.4\"><span class=\"toc-item-num\">2.6.1.4&nbsp;&nbsp;</span>Проверка модели с заполнением соседними данными</a></span></li></ul></li></ul></li></ul></li><li><span><a href=\"#Анализ-данных\" data-toc-modified-id=\"Анализ-данных-3\"><span class=\"toc-item-num\">3&nbsp;&nbsp;</span>Анализ данных</a></span><ul class=\"toc-item\"><li><span><a href=\"#Изменение-концентрации-металлов-(Au,-Ag,-Pb)-на-различных-этапах-очистки.\" data-toc-modified-id=\"Изменение-концентрации-металлов-(Au,-Ag,-Pb)-на-различных-этапах-очистки.-3.1\"><span class=\"toc-item-num\">3.1&nbsp;&nbsp;</span>Изменение концентрации металлов (Au, Ag, Pb) на различных этапах очистки.</a></span></li><li><span><a href=\"#Распределения-размеров-гранул-сырья-на-обучающей-и-тестовой-выборках.\" data-toc-modified-id=\"Распределения-размеров-гранул-сырья-на-обучающей-и-тестовой-выборках.-3.2\"><span class=\"toc-item-num\">3.2&nbsp;&nbsp;</span>Распределения размеров гранул сырья на обучающей и тестовой выборках.</a></span></li><li><span><a href=\"#Анализ-концентрации-всех-веществ-на-разных-стадиях:-в-сырье,-в-черновом-и-финальном-концентратах\" data-toc-modified-id=\"Анализ-концентрации-всех-веществ-на-разных-стадиях:-в-сырье,-в-черновом-и-финальном-концентратах-3.3\"><span class=\"toc-item-num\">3.3&nbsp;&nbsp;</span>Анализ концентрации всех веществ на разных стадиях: в сырье, в черновом и финальном концентратах</a></span></li></ul></li><li><span><a href=\"#Модель\" data-toc-modified-id=\"Модель-4\"><span class=\"toc-item-num\">4&nbsp;&nbsp;</span>Модель</a></span><ul class=\"toc-item\"><li><span><a href=\"#sMAPE\" data-toc-modified-id=\"sMAPE-4.1\"><span class=\"toc-item-num\">4.1&nbsp;&nbsp;</span>sMAPE</a></span></li><li><span><a href=\"#Разделение-и-масштабирование-данных\" data-toc-modified-id=\"Разделение-и-масштабирование-данных-4.2\"><span class=\"toc-item-num\">4.2&nbsp;&nbsp;</span>Разделение и масштабирование данных</a></span></li><li><span><a href=\"#Обучение-модели\" data-toc-modified-id=\"Обучение-модели-4.3\"><span class=\"toc-item-num\">4.3&nbsp;&nbsp;</span>Обучение модели</a></span><ul class=\"toc-item\"><li><span><a href=\"#Случайное-дерево\" data-toc-modified-id=\"Случайное-дерево-4.3.1\"><span class=\"toc-item-num\">4.3.1&nbsp;&nbsp;</span>Случайное дерево</a></span></li><li><span><a href=\"#Линейная-регрессия\" data-toc-modified-id=\"Линейная-регрессия-4.3.2\"><span class=\"toc-item-num\">4.3.2&nbsp;&nbsp;</span>Линейная регрессия</a></span></li><li><span><a href=\"#Дерево-решений\" data-toc-modified-id=\"Дерево-решений-4.3.3\"><span class=\"toc-item-num\">4.3.3&nbsp;&nbsp;</span>Дерево решений</a></span></li><li><span><a href=\"#Простейшая-модель\" data-toc-modified-id=\"Простейшая-модель-4.3.4\"><span class=\"toc-item-num\">4.3.4&nbsp;&nbsp;</span>Простейшая модель</a></span></li><li><span><a href=\"#Выводы\" data-toc-modified-id=\"Выводы-4.3.5\"><span class=\"toc-item-num\">4.3.5&nbsp;&nbsp;</span>Выводы</a></span></li></ul></li><li><span><a href=\"#Проверка-на-тестовой-выборке\" data-toc-modified-id=\"Проверка-на-тестовой-выборке-4.4\"><span class=\"toc-item-num\">4.4&nbsp;&nbsp;</span>Проверка на тестовой выборке</a></span><ul class=\"toc-item\"><li><span><a href=\"#Проверка-на-лучшей\" data-toc-modified-id=\"Проверка-на-лучшей-4.4.1\"><span class=\"toc-item-num\">4.4.1&nbsp;&nbsp;</span>Проверка на лучшей</a></span></li><li><span><a href=\"#Проверка-на-константной\" data-toc-modified-id=\"Проверка-на-константной-4.4.2\"><span class=\"toc-item-num\">4.4.2&nbsp;&nbsp;</span>Проверка на константной</a></span></li></ul></li></ul></li><li><span><a href=\"#Выводы\" data-toc-modified-id=\"Выводы-5\"><span class=\"toc-item-num\">5&nbsp;&nbsp;</span>Выводы</a></span></li></ul></div>"
   ]
  },
  {
   "cell_type": "markdown",
   "metadata": {},
   "source": [
    "# Восстановление золота из руды"
   ]
  },
  {
   "cell_type": "markdown",
   "metadata": {},
   "source": [
    "Подготовьте прототип модели машинного обучения для «Цифры». Компания разрабатывает решения для эффективной работы промышленных предприятий.\n",
    "\n",
    "Модель должна предсказать коэффициент восстановления золота из золотосодержащей руды. Используйте данные с параметрами добычи и очистки. \n",
    "\n",
    "Модель поможет оптимизировать производство, чтобы не запускать предприятие с убыточными характеристиками.\n",
    "\n",
    "Вам нужно:\n",
    "\n",
    "1. Подготовить данные;\n",
    "2. Провести исследовательский анализ данных;\n",
    "3. Построить и обучить модель.\n",
    "\n",
    "Чтобы выполнить проект, обращайтесь к библиотекам *pandas*, *matplotlib* и *sklearn.* Вам поможет их документация."
   ]
  },
  {
   "cell_type": "markdown",
   "metadata": {},
   "source": [
    "## Подготовка данных"
   ]
  },
  {
   "cell_type": "code",
   "execution_count": 1,
   "metadata": {},
   "outputs": [],
   "source": [
    "import pandas as pd\n",
    "import numpy as np\n",
    "import matplotlib.pyplot as plt\n",
    "import warnings\n",
    "import seaborn as sns\n",
    "from sklearn.linear_model import LinearRegression\n",
    "from sklearn.tree import DecisionTreeRegressor\n",
    "from sklearn.ensemble import RandomForestRegressor\n",
    "from sklearn.dummy import DummyRegressor\n",
    "from sklearn.model_selection import train_test_split, GridSearchCV\n",
    "from sklearn.metrics import mean_squared_error, mean_absolute_error, fbeta_score, make_scorer\n",
    "from sklearn.preprocessing import StandardScaler\n",
    "from scipy import stats as st\n",
    "\n",
    "warnings.filterwarnings(\"ignore\")\n",
    "pd.options.mode.chained_assignment = None"
   ]
  },
  {
   "cell_type": "markdown",
   "metadata": {},
   "source": [
    "<font color='blue'><b>Комментарий ревьюера: </b></font> ✔️\\\n",
    "<font color='green'> Хорошее оформление импортов! \\\n",
    "Импорты собраны в одной ячейке, разделены на функциональные группы пустой строкой.</font>"
   ]
  },
  {
   "cell_type": "code",
   "execution_count": 2,
   "metadata": {},
   "outputs": [],
   "source": [
    "try:\n",
    "    df1 = pd.read_csv('/datasets/gold_recovery_train_new.csv')\n",
    "    df2 = pd.read_csv('/datasets/gold_recovery_test_new.csv')\n",
    "    df3 = pd.read_csv('/datasets/gold_recovery_full_new.csv')\n",
    "except:\n",
    "    print('Что-то сломалось')\n",
    "    \n",
    "df_dict = {'train':{'df':df1},'test':{'df':df2},'full':{'df':df3}}"
   ]
  },
  {
   "cell_type": "markdown",
   "metadata": {},
   "source": [
    "## Анализ данных"
   ]
  },
  {
   "cell_type": "markdown",
   "metadata": {},
   "source": [
    "### Анализ наборов данных"
   ]
  },
  {
   "cell_type": "code",
   "execution_count": 3,
   "metadata": {
    "scrolled": true
   },
   "outputs": [
    {
     "data": {
      "text/plain": [
       "'train'"
      ]
     },
     "metadata": {},
     "output_type": "display_data"
    },
    {
     "data": {
      "text/html": [
       "<div>\n",
       "<style scoped>\n",
       "    .dataframe tbody tr th:only-of-type {\n",
       "        vertical-align: middle;\n",
       "    }\n",
       "\n",
       "    .dataframe tbody tr th {\n",
       "        vertical-align: top;\n",
       "    }\n",
       "\n",
       "    .dataframe thead th {\n",
       "        text-align: right;\n",
       "    }\n",
       "</style>\n",
       "<table border=\"1\" class=\"dataframe\">\n",
       "  <thead>\n",
       "    <tr style=\"text-align: right;\">\n",
       "      <th></th>\n",
       "      <th>date</th>\n",
       "      <th>final.output.concentrate_ag</th>\n",
       "      <th>final.output.concentrate_pb</th>\n",
       "      <th>final.output.concentrate_sol</th>\n",
       "      <th>final.output.concentrate_au</th>\n",
       "      <th>final.output.recovery</th>\n",
       "      <th>final.output.tail_ag</th>\n",
       "      <th>final.output.tail_pb</th>\n",
       "      <th>final.output.tail_sol</th>\n",
       "      <th>final.output.tail_au</th>\n",
       "      <th>...</th>\n",
       "      <th>secondary_cleaner.state.floatbank4_a_air</th>\n",
       "      <th>secondary_cleaner.state.floatbank4_a_level</th>\n",
       "      <th>secondary_cleaner.state.floatbank4_b_air</th>\n",
       "      <th>secondary_cleaner.state.floatbank4_b_level</th>\n",
       "      <th>secondary_cleaner.state.floatbank5_a_air</th>\n",
       "      <th>secondary_cleaner.state.floatbank5_a_level</th>\n",
       "      <th>secondary_cleaner.state.floatbank5_b_air</th>\n",
       "      <th>secondary_cleaner.state.floatbank5_b_level</th>\n",
       "      <th>secondary_cleaner.state.floatbank6_a_air</th>\n",
       "      <th>secondary_cleaner.state.floatbank6_a_level</th>\n",
       "    </tr>\n",
       "  </thead>\n",
       "  <tbody>\n",
       "    <tr>\n",
       "      <th>0</th>\n",
       "      <td>2016-01-15 00:00:00</td>\n",
       "      <td>6.055403</td>\n",
       "      <td>9.889648</td>\n",
       "      <td>5.507324</td>\n",
       "      <td>42.192020</td>\n",
       "      <td>70.541216</td>\n",
       "      <td>10.411962</td>\n",
       "      <td>0.895447</td>\n",
       "      <td>16.904297</td>\n",
       "      <td>2.143149</td>\n",
       "      <td>...</td>\n",
       "      <td>14.016835</td>\n",
       "      <td>-502.488007</td>\n",
       "      <td>12.099931</td>\n",
       "      <td>-504.715942</td>\n",
       "      <td>9.925633</td>\n",
       "      <td>-498.310211</td>\n",
       "      <td>8.079666</td>\n",
       "      <td>-500.470978</td>\n",
       "      <td>14.151341</td>\n",
       "      <td>-605.841980</td>\n",
       "    </tr>\n",
       "    <tr>\n",
       "      <th>1</th>\n",
       "      <td>2016-01-15 01:00:00</td>\n",
       "      <td>6.029369</td>\n",
       "      <td>9.968944</td>\n",
       "      <td>5.257781</td>\n",
       "      <td>42.701629</td>\n",
       "      <td>69.266198</td>\n",
       "      <td>10.462676</td>\n",
       "      <td>0.927452</td>\n",
       "      <td>16.634514</td>\n",
       "      <td>2.224930</td>\n",
       "      <td>...</td>\n",
       "      <td>13.992281</td>\n",
       "      <td>-505.503262</td>\n",
       "      <td>11.950531</td>\n",
       "      <td>-501.331529</td>\n",
       "      <td>10.039245</td>\n",
       "      <td>-500.169983</td>\n",
       "      <td>7.984757</td>\n",
       "      <td>-500.582168</td>\n",
       "      <td>13.998353</td>\n",
       "      <td>-599.787184</td>\n",
       "    </tr>\n",
       "    <tr>\n",
       "      <th>2</th>\n",
       "      <td>2016-01-15 02:00:00</td>\n",
       "      <td>6.055926</td>\n",
       "      <td>10.213995</td>\n",
       "      <td>5.383759</td>\n",
       "      <td>42.657501</td>\n",
       "      <td>68.116445</td>\n",
       "      <td>10.507046</td>\n",
       "      <td>0.953716</td>\n",
       "      <td>16.208849</td>\n",
       "      <td>2.257889</td>\n",
       "      <td>...</td>\n",
       "      <td>14.015015</td>\n",
       "      <td>-502.520901</td>\n",
       "      <td>11.912783</td>\n",
       "      <td>-501.133383</td>\n",
       "      <td>10.070913</td>\n",
       "      <td>-500.129135</td>\n",
       "      <td>8.013877</td>\n",
       "      <td>-500.517572</td>\n",
       "      <td>14.028663</td>\n",
       "      <td>-601.427363</td>\n",
       "    </tr>\n",
       "    <tr>\n",
       "      <th>3</th>\n",
       "      <td>2016-01-15 03:00:00</td>\n",
       "      <td>6.047977</td>\n",
       "      <td>9.977019</td>\n",
       "      <td>4.858634</td>\n",
       "      <td>42.689819</td>\n",
       "      <td>68.347543</td>\n",
       "      <td>10.422762</td>\n",
       "      <td>0.883763</td>\n",
       "      <td>16.532835</td>\n",
       "      <td>2.146849</td>\n",
       "      <td>...</td>\n",
       "      <td>14.036510</td>\n",
       "      <td>-500.857308</td>\n",
       "      <td>11.999550</td>\n",
       "      <td>-501.193686</td>\n",
       "      <td>9.970366</td>\n",
       "      <td>-499.201640</td>\n",
       "      <td>7.977324</td>\n",
       "      <td>-500.255908</td>\n",
       "      <td>14.005551</td>\n",
       "      <td>-599.996129</td>\n",
       "    </tr>\n",
       "    <tr>\n",
       "      <th>4</th>\n",
       "      <td>2016-01-15 04:00:00</td>\n",
       "      <td>6.148599</td>\n",
       "      <td>10.142511</td>\n",
       "      <td>4.939416</td>\n",
       "      <td>42.774141</td>\n",
       "      <td>66.927016</td>\n",
       "      <td>10.360302</td>\n",
       "      <td>0.792826</td>\n",
       "      <td>16.525686</td>\n",
       "      <td>2.055292</td>\n",
       "      <td>...</td>\n",
       "      <td>14.027298</td>\n",
       "      <td>-499.838632</td>\n",
       "      <td>11.953070</td>\n",
       "      <td>-501.053894</td>\n",
       "      <td>9.925709</td>\n",
       "      <td>-501.686727</td>\n",
       "      <td>7.894242</td>\n",
       "      <td>-500.356035</td>\n",
       "      <td>13.996647</td>\n",
       "      <td>-601.496691</td>\n",
       "    </tr>\n",
       "  </tbody>\n",
       "</table>\n",
       "<p>5 rows × 87 columns</p>\n",
       "</div>"
      ],
      "text/plain": [
       "                  date  final.output.concentrate_ag  \\\n",
       "0  2016-01-15 00:00:00                     6.055403   \n",
       "1  2016-01-15 01:00:00                     6.029369   \n",
       "2  2016-01-15 02:00:00                     6.055926   \n",
       "3  2016-01-15 03:00:00                     6.047977   \n",
       "4  2016-01-15 04:00:00                     6.148599   \n",
       "\n",
       "   final.output.concentrate_pb  final.output.concentrate_sol  \\\n",
       "0                     9.889648                      5.507324   \n",
       "1                     9.968944                      5.257781   \n",
       "2                    10.213995                      5.383759   \n",
       "3                     9.977019                      4.858634   \n",
       "4                    10.142511                      4.939416   \n",
       "\n",
       "   final.output.concentrate_au  final.output.recovery  final.output.tail_ag  \\\n",
       "0                    42.192020              70.541216             10.411962   \n",
       "1                    42.701629              69.266198             10.462676   \n",
       "2                    42.657501              68.116445             10.507046   \n",
       "3                    42.689819              68.347543             10.422762   \n",
       "4                    42.774141              66.927016             10.360302   \n",
       "\n",
       "   final.output.tail_pb  final.output.tail_sol  final.output.tail_au  ...  \\\n",
       "0              0.895447              16.904297              2.143149  ...   \n",
       "1              0.927452              16.634514              2.224930  ...   \n",
       "2              0.953716              16.208849              2.257889  ...   \n",
       "3              0.883763              16.532835              2.146849  ...   \n",
       "4              0.792826              16.525686              2.055292  ...   \n",
       "\n",
       "   secondary_cleaner.state.floatbank4_a_air  \\\n",
       "0                                 14.016835   \n",
       "1                                 13.992281   \n",
       "2                                 14.015015   \n",
       "3                                 14.036510   \n",
       "4                                 14.027298   \n",
       "\n",
       "   secondary_cleaner.state.floatbank4_a_level  \\\n",
       "0                                 -502.488007   \n",
       "1                                 -505.503262   \n",
       "2                                 -502.520901   \n",
       "3                                 -500.857308   \n",
       "4                                 -499.838632   \n",
       "\n",
       "   secondary_cleaner.state.floatbank4_b_air  \\\n",
       "0                                 12.099931   \n",
       "1                                 11.950531   \n",
       "2                                 11.912783   \n",
       "3                                 11.999550   \n",
       "4                                 11.953070   \n",
       "\n",
       "   secondary_cleaner.state.floatbank4_b_level  \\\n",
       "0                                 -504.715942   \n",
       "1                                 -501.331529   \n",
       "2                                 -501.133383   \n",
       "3                                 -501.193686   \n",
       "4                                 -501.053894   \n",
       "\n",
       "   secondary_cleaner.state.floatbank5_a_air  \\\n",
       "0                                  9.925633   \n",
       "1                                 10.039245   \n",
       "2                                 10.070913   \n",
       "3                                  9.970366   \n",
       "4                                  9.925709   \n",
       "\n",
       "   secondary_cleaner.state.floatbank5_a_level  \\\n",
       "0                                 -498.310211   \n",
       "1                                 -500.169983   \n",
       "2                                 -500.129135   \n",
       "3                                 -499.201640   \n",
       "4                                 -501.686727   \n",
       "\n",
       "   secondary_cleaner.state.floatbank5_b_air  \\\n",
       "0                                  8.079666   \n",
       "1                                  7.984757   \n",
       "2                                  8.013877   \n",
       "3                                  7.977324   \n",
       "4                                  7.894242   \n",
       "\n",
       "   secondary_cleaner.state.floatbank5_b_level  \\\n",
       "0                                 -500.470978   \n",
       "1                                 -500.582168   \n",
       "2                                 -500.517572   \n",
       "3                                 -500.255908   \n",
       "4                                 -500.356035   \n",
       "\n",
       "   secondary_cleaner.state.floatbank6_a_air  \\\n",
       "0                                 14.151341   \n",
       "1                                 13.998353   \n",
       "2                                 14.028663   \n",
       "3                                 14.005551   \n",
       "4                                 13.996647   \n",
       "\n",
       "   secondary_cleaner.state.floatbank6_a_level  \n",
       "0                                 -605.841980  \n",
       "1                                 -599.787184  \n",
       "2                                 -601.427363  \n",
       "3                                 -599.996129  \n",
       "4                                 -601.496691  \n",
       "\n",
       "[5 rows x 87 columns]"
      ]
     },
     "metadata": {},
     "output_type": "display_data"
    },
    {
     "data": {
      "text/plain": [
       "'===================================================================================================='"
      ]
     },
     "metadata": {},
     "output_type": "display_data"
    },
    {
     "name": "stdout",
     "output_type": "stream",
     "text": [
      "<class 'pandas.core.frame.DataFrame'>\n",
      "RangeIndex: 14149 entries, 0 to 14148\n",
      "Data columns (total 87 columns):\n",
      " #   Column                                              Non-Null Count  Dtype  \n",
      "---  ------                                              --------------  -----  \n",
      " 0   date                                                14149 non-null  object \n",
      " 1   final.output.concentrate_ag                         14148 non-null  float64\n",
      " 2   final.output.concentrate_pb                         14148 non-null  float64\n",
      " 3   final.output.concentrate_sol                        13938 non-null  float64\n",
      " 4   final.output.concentrate_au                         14149 non-null  float64\n",
      " 5   final.output.recovery                               14149 non-null  float64\n",
      " 6   final.output.tail_ag                                14149 non-null  float64\n",
      " 7   final.output.tail_pb                                14049 non-null  float64\n",
      " 8   final.output.tail_sol                               14144 non-null  float64\n",
      " 9   final.output.tail_au                                14149 non-null  float64\n",
      " 10  primary_cleaner.input.sulfate                       14129 non-null  float64\n",
      " 11  primary_cleaner.input.depressant                    14117 non-null  float64\n",
      " 12  primary_cleaner.input.feed_size                     14149 non-null  float64\n",
      " 13  primary_cleaner.input.xanthate                      14049 non-null  float64\n",
      " 14  primary_cleaner.output.concentrate_ag               14149 non-null  float64\n",
      " 15  primary_cleaner.output.concentrate_pb               14063 non-null  float64\n",
      " 16  primary_cleaner.output.concentrate_sol              13863 non-null  float64\n",
      " 17  primary_cleaner.output.concentrate_au               14149 non-null  float64\n",
      " 18  primary_cleaner.output.tail_ag                      14148 non-null  float64\n",
      " 19  primary_cleaner.output.tail_pb                      14134 non-null  float64\n",
      " 20  primary_cleaner.output.tail_sol                     14103 non-null  float64\n",
      " 21  primary_cleaner.output.tail_au                      14149 non-null  float64\n",
      " 22  primary_cleaner.state.floatbank8_a_air              14145 non-null  float64\n",
      " 23  primary_cleaner.state.floatbank8_a_level            14148 non-null  float64\n",
      " 24  primary_cleaner.state.floatbank8_b_air              14145 non-null  float64\n",
      " 25  primary_cleaner.state.floatbank8_b_level            14148 non-null  float64\n",
      " 26  primary_cleaner.state.floatbank8_c_air              14147 non-null  float64\n",
      " 27  primary_cleaner.state.floatbank8_c_level            14148 non-null  float64\n",
      " 28  primary_cleaner.state.floatbank8_d_air              14146 non-null  float64\n",
      " 29  primary_cleaner.state.floatbank8_d_level            14148 non-null  float64\n",
      " 30  rougher.calculation.sulfate_to_au_concentrate       14148 non-null  float64\n",
      " 31  rougher.calculation.floatbank10_sulfate_to_au_feed  14148 non-null  float64\n",
      " 32  rougher.calculation.floatbank11_sulfate_to_au_feed  14148 non-null  float64\n",
      " 33  rougher.calculation.au_pb_ratio                     14149 non-null  float64\n",
      " 34  rougher.input.feed_ag                               14149 non-null  float64\n",
      " 35  rougher.input.feed_pb                               14049 non-null  float64\n",
      " 36  rougher.input.feed_rate                             14141 non-null  float64\n",
      " 37  rougher.input.feed_size                             14005 non-null  float64\n",
      " 38  rougher.input.feed_sol                              14071 non-null  float64\n",
      " 39  rougher.input.feed_au                               14149 non-null  float64\n",
      " 40  rougher.input.floatbank10_sulfate                   14120 non-null  float64\n",
      " 41  rougher.input.floatbank10_xanthate                  14141 non-null  float64\n",
      " 42  rougher.input.floatbank11_sulfate                   14113 non-null  float64\n",
      " 43  rougher.input.floatbank11_xanthate                  13721 non-null  float64\n",
      " 44  rougher.output.concentrate_ag                       14149 non-null  float64\n",
      " 45  rougher.output.concentrate_pb                       14149 non-null  float64\n",
      " 46  rougher.output.concentrate_sol                      14127 non-null  float64\n",
      " 47  rougher.output.concentrate_au                       14149 non-null  float64\n",
      " 48  rougher.output.recovery                             14149 non-null  float64\n",
      " 49  rougher.output.tail_ag                              14148 non-null  float64\n",
      " 50  rougher.output.tail_pb                              14149 non-null  float64\n",
      " 51  rougher.output.tail_sol                             14149 non-null  float64\n",
      " 52  rougher.output.tail_au                              14149 non-null  float64\n",
      " 53  rougher.state.floatbank10_a_air                     14148 non-null  float64\n",
      " 54  rougher.state.floatbank10_a_level                   14148 non-null  float64\n",
      " 55  rougher.state.floatbank10_b_air                     14148 non-null  float64\n",
      " 56  rougher.state.floatbank10_b_level                   14148 non-null  float64\n",
      " 57  rougher.state.floatbank10_c_air                     14148 non-null  float64\n",
      " 58  rougher.state.floatbank10_c_level                   14148 non-null  float64\n",
      " 59  rougher.state.floatbank10_d_air                     14149 non-null  float64\n",
      " 60  rougher.state.floatbank10_d_level                   14149 non-null  float64\n",
      " 61  rougher.state.floatbank10_e_air                     13713 non-null  float64\n",
      " 62  rougher.state.floatbank10_e_level                   14149 non-null  float64\n",
      " 63  rougher.state.floatbank10_f_air                     14149 non-null  float64\n",
      " 64  rougher.state.floatbank10_f_level                   14149 non-null  float64\n",
      " 65  secondary_cleaner.output.tail_ag                    14147 non-null  float64\n",
      " 66  secondary_cleaner.output.tail_pb                    14139 non-null  float64\n",
      " 67  secondary_cleaner.output.tail_sol                   12544 non-null  float64\n",
      " 68  secondary_cleaner.output.tail_au                    14149 non-null  float64\n",
      " 69  secondary_cleaner.state.floatbank2_a_air            13932 non-null  float64\n",
      " 70  secondary_cleaner.state.floatbank2_a_level          14148 non-null  float64\n",
      " 71  secondary_cleaner.state.floatbank2_b_air            14128 non-null  float64\n",
      " 72  secondary_cleaner.state.floatbank2_b_level          14148 non-null  float64\n",
      " 73  secondary_cleaner.state.floatbank3_a_air            14145 non-null  float64\n",
      " 74  secondary_cleaner.state.floatbank3_a_level          14148 non-null  float64\n",
      " 75  secondary_cleaner.state.floatbank3_b_air            14148 non-null  float64\n",
      " 76  secondary_cleaner.state.floatbank3_b_level          14148 non-null  float64\n",
      " 77  secondary_cleaner.state.floatbank4_a_air            14143 non-null  float64\n",
      " 78  secondary_cleaner.state.floatbank4_a_level          14148 non-null  float64\n",
      " 79  secondary_cleaner.state.floatbank4_b_air            14148 non-null  float64\n",
      " 80  secondary_cleaner.state.floatbank4_b_level          14148 non-null  float64\n",
      " 81  secondary_cleaner.state.floatbank5_a_air            14148 non-null  float64\n",
      " 82  secondary_cleaner.state.floatbank5_a_level          14148 non-null  float64\n",
      " 83  secondary_cleaner.state.floatbank5_b_air            14148 non-null  float64\n",
      " 84  secondary_cleaner.state.floatbank5_b_level          14148 non-null  float64\n",
      " 85  secondary_cleaner.state.floatbank6_a_air            14147 non-null  float64\n",
      " 86  secondary_cleaner.state.floatbank6_a_level          14148 non-null  float64\n",
      "dtypes: float64(86), object(1)\n",
      "memory usage: 9.4+ MB\n"
     ]
    },
    {
     "data": {
      "text/plain": [
       "None"
      ]
     },
     "metadata": {},
     "output_type": "display_data"
    },
    {
     "data": {
      "text/plain": [
       "'===================================================================================================='"
      ]
     },
     "metadata": {},
     "output_type": "display_data"
    },
    {
     "data": {
      "text/plain": [
       "Index(['date', 'final.output.concentrate_ag', 'final.output.concentrate_pb',\n",
       "       'final.output.concentrate_sol', 'final.output.concentrate_au',\n",
       "       'final.output.recovery', 'final.output.tail_ag', 'final.output.tail_pb',\n",
       "       'final.output.tail_sol', 'final.output.tail_au',\n",
       "       'primary_cleaner.input.sulfate', 'primary_cleaner.input.depressant',\n",
       "       'primary_cleaner.input.feed_size', 'primary_cleaner.input.xanthate',\n",
       "       'primary_cleaner.output.concentrate_ag',\n",
       "       'primary_cleaner.output.concentrate_pb',\n",
       "       'primary_cleaner.output.concentrate_sol',\n",
       "       'primary_cleaner.output.concentrate_au',\n",
       "       'primary_cleaner.output.tail_ag', 'primary_cleaner.output.tail_pb',\n",
       "       'primary_cleaner.output.tail_sol', 'primary_cleaner.output.tail_au',\n",
       "       'primary_cleaner.state.floatbank8_a_air',\n",
       "       'primary_cleaner.state.floatbank8_a_level',\n",
       "       'primary_cleaner.state.floatbank8_b_air',\n",
       "       'primary_cleaner.state.floatbank8_b_level',\n",
       "       'primary_cleaner.state.floatbank8_c_air',\n",
       "       'primary_cleaner.state.floatbank8_c_level',\n",
       "       'primary_cleaner.state.floatbank8_d_air',\n",
       "       'primary_cleaner.state.floatbank8_d_level',\n",
       "       'rougher.calculation.sulfate_to_au_concentrate',\n",
       "       'rougher.calculation.floatbank10_sulfate_to_au_feed',\n",
       "       'rougher.calculation.floatbank11_sulfate_to_au_feed',\n",
       "       'rougher.calculation.au_pb_ratio', 'rougher.input.feed_ag',\n",
       "       'rougher.input.feed_pb', 'rougher.input.feed_rate',\n",
       "       'rougher.input.feed_size', 'rougher.input.feed_sol',\n",
       "       'rougher.input.feed_au', 'rougher.input.floatbank10_sulfate',\n",
       "       'rougher.input.floatbank10_xanthate',\n",
       "       'rougher.input.floatbank11_sulfate',\n",
       "       'rougher.input.floatbank11_xanthate', 'rougher.output.concentrate_ag',\n",
       "       'rougher.output.concentrate_pb', 'rougher.output.concentrate_sol',\n",
       "       'rougher.output.concentrate_au', 'rougher.output.recovery',\n",
       "       'rougher.output.tail_ag', 'rougher.output.tail_pb',\n",
       "       'rougher.output.tail_sol', 'rougher.output.tail_au',\n",
       "       'rougher.state.floatbank10_a_air', 'rougher.state.floatbank10_a_level',\n",
       "       'rougher.state.floatbank10_b_air', 'rougher.state.floatbank10_b_level',\n",
       "       'rougher.state.floatbank10_c_air', 'rougher.state.floatbank10_c_level',\n",
       "       'rougher.state.floatbank10_d_air', 'rougher.state.floatbank10_d_level',\n",
       "       'rougher.state.floatbank10_e_air', 'rougher.state.floatbank10_e_level',\n",
       "       'rougher.state.floatbank10_f_air', 'rougher.state.floatbank10_f_level',\n",
       "       'secondary_cleaner.output.tail_ag', 'secondary_cleaner.output.tail_pb',\n",
       "       'secondary_cleaner.output.tail_sol', 'secondary_cleaner.output.tail_au',\n",
       "       'secondary_cleaner.state.floatbank2_a_air',\n",
       "       'secondary_cleaner.state.floatbank2_a_level',\n",
       "       'secondary_cleaner.state.floatbank2_b_air',\n",
       "       'secondary_cleaner.state.floatbank2_b_level',\n",
       "       'secondary_cleaner.state.floatbank3_a_air',\n",
       "       'secondary_cleaner.state.floatbank3_a_level',\n",
       "       'secondary_cleaner.state.floatbank3_b_air',\n",
       "       'secondary_cleaner.state.floatbank3_b_level',\n",
       "       'secondary_cleaner.state.floatbank4_a_air',\n",
       "       'secondary_cleaner.state.floatbank4_a_level',\n",
       "       'secondary_cleaner.state.floatbank4_b_air',\n",
       "       'secondary_cleaner.state.floatbank4_b_level',\n",
       "       'secondary_cleaner.state.floatbank5_a_air',\n",
       "       'secondary_cleaner.state.floatbank5_a_level',\n",
       "       'secondary_cleaner.state.floatbank5_b_air',\n",
       "       'secondary_cleaner.state.floatbank5_b_level',\n",
       "       'secondary_cleaner.state.floatbank6_a_air',\n",
       "       'secondary_cleaner.state.floatbank6_a_level'],\n",
       "      dtype='object')"
      ]
     },
     "metadata": {},
     "output_type": "display_data"
    },
    {
     "data": {
      "text/plain": [
       "'===================================================================================================='"
      ]
     },
     "metadata": {},
     "output_type": "display_data"
    },
    {
     "data": {
      "text/html": [
       "<div>\n",
       "<style scoped>\n",
       "    .dataframe tbody tr th:only-of-type {\n",
       "        vertical-align: middle;\n",
       "    }\n",
       "\n",
       "    .dataframe tbody tr th {\n",
       "        vertical-align: top;\n",
       "    }\n",
       "\n",
       "    .dataframe thead th {\n",
       "        text-align: right;\n",
       "    }\n",
       "</style>\n",
       "<table border=\"1\" class=\"dataframe\">\n",
       "  <thead>\n",
       "    <tr style=\"text-align: right;\">\n",
       "      <th></th>\n",
       "      <th>final.output.concentrate_ag</th>\n",
       "      <th>final.output.concentrate_pb</th>\n",
       "      <th>final.output.concentrate_sol</th>\n",
       "      <th>final.output.concentrate_au</th>\n",
       "      <th>final.output.recovery</th>\n",
       "      <th>final.output.tail_ag</th>\n",
       "      <th>final.output.tail_pb</th>\n",
       "      <th>final.output.tail_sol</th>\n",
       "      <th>final.output.tail_au</th>\n",
       "      <th>primary_cleaner.input.sulfate</th>\n",
       "      <th>...</th>\n",
       "      <th>secondary_cleaner.state.floatbank4_a_air</th>\n",
       "      <th>secondary_cleaner.state.floatbank4_a_level</th>\n",
       "      <th>secondary_cleaner.state.floatbank4_b_air</th>\n",
       "      <th>secondary_cleaner.state.floatbank4_b_level</th>\n",
       "      <th>secondary_cleaner.state.floatbank5_a_air</th>\n",
       "      <th>secondary_cleaner.state.floatbank5_a_level</th>\n",
       "      <th>secondary_cleaner.state.floatbank5_b_air</th>\n",
       "      <th>secondary_cleaner.state.floatbank5_b_level</th>\n",
       "      <th>secondary_cleaner.state.floatbank6_a_air</th>\n",
       "      <th>secondary_cleaner.state.floatbank6_a_level</th>\n",
       "    </tr>\n",
       "  </thead>\n",
       "  <tbody>\n",
       "    <tr>\n",
       "      <th>count</th>\n",
       "      <td>14148.000000</td>\n",
       "      <td>14148.000000</td>\n",
       "      <td>13938.000000</td>\n",
       "      <td>14149.000000</td>\n",
       "      <td>14149.000000</td>\n",
       "      <td>14149.000000</td>\n",
       "      <td>14049.000000</td>\n",
       "      <td>14144.000000</td>\n",
       "      <td>14149.000000</td>\n",
       "      <td>14129.000000</td>\n",
       "      <td>...</td>\n",
       "      <td>14143.000000</td>\n",
       "      <td>14148.000000</td>\n",
       "      <td>14148.000000</td>\n",
       "      <td>14148.000000</td>\n",
       "      <td>14148.000000</td>\n",
       "      <td>14148.000000</td>\n",
       "      <td>14148.000000</td>\n",
       "      <td>14148.000000</td>\n",
       "      <td>14147.000000</td>\n",
       "      <td>14148.000000</td>\n",
       "    </tr>\n",
       "    <tr>\n",
       "      <th>mean</th>\n",
       "      <td>5.142034</td>\n",
       "      <td>10.132960</td>\n",
       "      <td>9.202849</td>\n",
       "      <td>44.003792</td>\n",
       "      <td>66.518832</td>\n",
       "      <td>9.607035</td>\n",
       "      <td>2.597298</td>\n",
       "      <td>10.512122</td>\n",
       "      <td>2.918421</td>\n",
       "      <td>133.320659</td>\n",
       "      <td>...</td>\n",
       "      <td>19.985454</td>\n",
       "      <td>-478.696836</td>\n",
       "      <td>15.487065</td>\n",
       "      <td>-460.229416</td>\n",
       "      <td>16.775136</td>\n",
       "      <td>-483.956022</td>\n",
       "      <td>13.064590</td>\n",
       "      <td>-483.966564</td>\n",
       "      <td>19.577539</td>\n",
       "      <td>-506.798480</td>\n",
       "    </tr>\n",
       "    <tr>\n",
       "      <th>std</th>\n",
       "      <td>1.369586</td>\n",
       "      <td>1.654930</td>\n",
       "      <td>2.790516</td>\n",
       "      <td>4.905261</td>\n",
       "      <td>10.295402</td>\n",
       "      <td>2.319069</td>\n",
       "      <td>0.971843</td>\n",
       "      <td>3.003617</td>\n",
       "      <td>0.903712</td>\n",
       "      <td>39.431659</td>\n",
       "      <td>...</td>\n",
       "      <td>5.657723</td>\n",
       "      <td>50.736021</td>\n",
       "      <td>5.255655</td>\n",
       "      <td>58.843586</td>\n",
       "      <td>5.831906</td>\n",
       "      <td>37.892788</td>\n",
       "      <td>5.765617</td>\n",
       "      <td>39.207913</td>\n",
       "      <td>5.764417</td>\n",
       "      <td>37.079249</td>\n",
       "    </tr>\n",
       "    <tr>\n",
       "      <th>min</th>\n",
       "      <td>0.000000</td>\n",
       "      <td>0.000000</td>\n",
       "      <td>0.000000</td>\n",
       "      <td>0.000000</td>\n",
       "      <td>0.000000</td>\n",
       "      <td>0.000000</td>\n",
       "      <td>0.000000</td>\n",
       "      <td>0.000000</td>\n",
       "      <td>0.000000</td>\n",
       "      <td>0.003112</td>\n",
       "      <td>...</td>\n",
       "      <td>0.000000</td>\n",
       "      <td>-799.709069</td>\n",
       "      <td>0.000000</td>\n",
       "      <td>-799.889113</td>\n",
       "      <td>-0.372054</td>\n",
       "      <td>-797.142475</td>\n",
       "      <td>0.646208</td>\n",
       "      <td>-800.006180</td>\n",
       "      <td>0.195324</td>\n",
       "      <td>-809.398668</td>\n",
       "    </tr>\n",
       "    <tr>\n",
       "      <th>25%</th>\n",
       "      <td>4.211620</td>\n",
       "      <td>9.297355</td>\n",
       "      <td>7.484645</td>\n",
       "      <td>43.276111</td>\n",
       "      <td>62.545817</td>\n",
       "      <td>7.997429</td>\n",
       "      <td>1.905973</td>\n",
       "      <td>8.811324</td>\n",
       "      <td>2.368607</td>\n",
       "      <td>107.006651</td>\n",
       "      <td>...</td>\n",
       "      <td>14.990775</td>\n",
       "      <td>-500.628656</td>\n",
       "      <td>11.894558</td>\n",
       "      <td>-500.149000</td>\n",
       "      <td>11.083980</td>\n",
       "      <td>-500.363177</td>\n",
       "      <td>8.994405</td>\n",
       "      <td>-500.105994</td>\n",
       "      <td>14.989304</td>\n",
       "      <td>-500.745104</td>\n",
       "    </tr>\n",
       "    <tr>\n",
       "      <th>50%</th>\n",
       "      <td>4.994652</td>\n",
       "      <td>10.297144</td>\n",
       "      <td>8.845462</td>\n",
       "      <td>44.872436</td>\n",
       "      <td>67.432775</td>\n",
       "      <td>9.480270</td>\n",
       "      <td>2.592022</td>\n",
       "      <td>10.514621</td>\n",
       "      <td>2.851025</td>\n",
       "      <td>133.018328</td>\n",
       "      <td>...</td>\n",
       "      <td>20.001789</td>\n",
       "      <td>-499.681450</td>\n",
       "      <td>14.975536</td>\n",
       "      <td>-499.388738</td>\n",
       "      <td>17.932223</td>\n",
       "      <td>-499.702452</td>\n",
       "      <td>11.997547</td>\n",
       "      <td>-499.914556</td>\n",
       "      <td>19.984175</td>\n",
       "      <td>-500.061431</td>\n",
       "    </tr>\n",
       "    <tr>\n",
       "      <th>75%</th>\n",
       "      <td>5.859540</td>\n",
       "      <td>11.170603</td>\n",
       "      <td>10.487508</td>\n",
       "      <td>46.166425</td>\n",
       "      <td>72.346428</td>\n",
       "      <td>11.003707</td>\n",
       "      <td>3.241723</td>\n",
       "      <td>11.933009</td>\n",
       "      <td>3.434764</td>\n",
       "      <td>159.825396</td>\n",
       "      <td>...</td>\n",
       "      <td>24.990826</td>\n",
       "      <td>-477.472413</td>\n",
       "      <td>20.059375</td>\n",
       "      <td>-400.039008</td>\n",
       "      <td>21.346550</td>\n",
       "      <td>-487.712108</td>\n",
       "      <td>17.982903</td>\n",
       "      <td>-453.186936</td>\n",
       "      <td>24.991623</td>\n",
       "      <td>-499.536466</td>\n",
       "    </tr>\n",
       "    <tr>\n",
       "      <th>max</th>\n",
       "      <td>16.001945</td>\n",
       "      <td>17.031899</td>\n",
       "      <td>18.124851</td>\n",
       "      <td>52.756638</td>\n",
       "      <td>100.000000</td>\n",
       "      <td>19.552149</td>\n",
       "      <td>5.639565</td>\n",
       "      <td>22.317730</td>\n",
       "      <td>8.197408</td>\n",
       "      <td>250.127834</td>\n",
       "      <td>...</td>\n",
       "      <td>30.115735</td>\n",
       "      <td>-245.239184</td>\n",
       "      <td>24.007913</td>\n",
       "      <td>-145.071088</td>\n",
       "      <td>43.709931</td>\n",
       "      <td>-275.073125</td>\n",
       "      <td>27.926001</td>\n",
       "      <td>-157.396071</td>\n",
       "      <td>32.188906</td>\n",
       "      <td>-104.427459</td>\n",
       "    </tr>\n",
       "  </tbody>\n",
       "</table>\n",
       "<p>8 rows × 86 columns</p>\n",
       "</div>"
      ],
      "text/plain": [
       "       final.output.concentrate_ag  final.output.concentrate_pb  \\\n",
       "count                 14148.000000                 14148.000000   \n",
       "mean                      5.142034                    10.132960   \n",
       "std                       1.369586                     1.654930   \n",
       "min                       0.000000                     0.000000   \n",
       "25%                       4.211620                     9.297355   \n",
       "50%                       4.994652                    10.297144   \n",
       "75%                       5.859540                    11.170603   \n",
       "max                      16.001945                    17.031899   \n",
       "\n",
       "       final.output.concentrate_sol  final.output.concentrate_au  \\\n",
       "count                  13938.000000                 14149.000000   \n",
       "mean                       9.202849                    44.003792   \n",
       "std                        2.790516                     4.905261   \n",
       "min                        0.000000                     0.000000   \n",
       "25%                        7.484645                    43.276111   \n",
       "50%                        8.845462                    44.872436   \n",
       "75%                       10.487508                    46.166425   \n",
       "max                       18.124851                    52.756638   \n",
       "\n",
       "       final.output.recovery  final.output.tail_ag  final.output.tail_pb  \\\n",
       "count           14149.000000          14149.000000          14049.000000   \n",
       "mean               66.518832              9.607035              2.597298   \n",
       "std                10.295402              2.319069              0.971843   \n",
       "min                 0.000000              0.000000              0.000000   \n",
       "25%                62.545817              7.997429              1.905973   \n",
       "50%                67.432775              9.480270              2.592022   \n",
       "75%                72.346428             11.003707              3.241723   \n",
       "max               100.000000             19.552149              5.639565   \n",
       "\n",
       "       final.output.tail_sol  final.output.tail_au  \\\n",
       "count           14144.000000          14149.000000   \n",
       "mean               10.512122              2.918421   \n",
       "std                 3.003617              0.903712   \n",
       "min                 0.000000              0.000000   \n",
       "25%                 8.811324              2.368607   \n",
       "50%                10.514621              2.851025   \n",
       "75%                11.933009              3.434764   \n",
       "max                22.317730              8.197408   \n",
       "\n",
       "       primary_cleaner.input.sulfate  ...  \\\n",
       "count                   14129.000000  ...   \n",
       "mean                      133.320659  ...   \n",
       "std                        39.431659  ...   \n",
       "min                         0.003112  ...   \n",
       "25%                       107.006651  ...   \n",
       "50%                       133.018328  ...   \n",
       "75%                       159.825396  ...   \n",
       "max                       250.127834  ...   \n",
       "\n",
       "       secondary_cleaner.state.floatbank4_a_air  \\\n",
       "count                              14143.000000   \n",
       "mean                                  19.985454   \n",
       "std                                    5.657723   \n",
       "min                                    0.000000   \n",
       "25%                                   14.990775   \n",
       "50%                                   20.001789   \n",
       "75%                                   24.990826   \n",
       "max                                   30.115735   \n",
       "\n",
       "       secondary_cleaner.state.floatbank4_a_level  \\\n",
       "count                                14148.000000   \n",
       "mean                                  -478.696836   \n",
       "std                                     50.736021   \n",
       "min                                   -799.709069   \n",
       "25%                                   -500.628656   \n",
       "50%                                   -499.681450   \n",
       "75%                                   -477.472413   \n",
       "max                                   -245.239184   \n",
       "\n",
       "       secondary_cleaner.state.floatbank4_b_air  \\\n",
       "count                              14148.000000   \n",
       "mean                                  15.487065   \n",
       "std                                    5.255655   \n",
       "min                                    0.000000   \n",
       "25%                                   11.894558   \n",
       "50%                                   14.975536   \n",
       "75%                                   20.059375   \n",
       "max                                   24.007913   \n",
       "\n",
       "       secondary_cleaner.state.floatbank4_b_level  \\\n",
       "count                                14148.000000   \n",
       "mean                                  -460.229416   \n",
       "std                                     58.843586   \n",
       "min                                   -799.889113   \n",
       "25%                                   -500.149000   \n",
       "50%                                   -499.388738   \n",
       "75%                                   -400.039008   \n",
       "max                                   -145.071088   \n",
       "\n",
       "       secondary_cleaner.state.floatbank5_a_air  \\\n",
       "count                              14148.000000   \n",
       "mean                                  16.775136   \n",
       "std                                    5.831906   \n",
       "min                                   -0.372054   \n",
       "25%                                   11.083980   \n",
       "50%                                   17.932223   \n",
       "75%                                   21.346550   \n",
       "max                                   43.709931   \n",
       "\n",
       "       secondary_cleaner.state.floatbank5_a_level  \\\n",
       "count                                14148.000000   \n",
       "mean                                  -483.956022   \n",
       "std                                     37.892788   \n",
       "min                                   -797.142475   \n",
       "25%                                   -500.363177   \n",
       "50%                                   -499.702452   \n",
       "75%                                   -487.712108   \n",
       "max                                   -275.073125   \n",
       "\n",
       "       secondary_cleaner.state.floatbank5_b_air  \\\n",
       "count                              14148.000000   \n",
       "mean                                  13.064590   \n",
       "std                                    5.765617   \n",
       "min                                    0.646208   \n",
       "25%                                    8.994405   \n",
       "50%                                   11.997547   \n",
       "75%                                   17.982903   \n",
       "max                                   27.926001   \n",
       "\n",
       "       secondary_cleaner.state.floatbank5_b_level  \\\n",
       "count                                14148.000000   \n",
       "mean                                  -483.966564   \n",
       "std                                     39.207913   \n",
       "min                                   -800.006180   \n",
       "25%                                   -500.105994   \n",
       "50%                                   -499.914556   \n",
       "75%                                   -453.186936   \n",
       "max                                   -157.396071   \n",
       "\n",
       "       secondary_cleaner.state.floatbank6_a_air  \\\n",
       "count                              14147.000000   \n",
       "mean                                  19.577539   \n",
       "std                                    5.764417   \n",
       "min                                    0.195324   \n",
       "25%                                   14.989304   \n",
       "50%                                   19.984175   \n",
       "75%                                   24.991623   \n",
       "max                                   32.188906   \n",
       "\n",
       "       secondary_cleaner.state.floatbank6_a_level  \n",
       "count                                14148.000000  \n",
       "mean                                  -506.798480  \n",
       "std                                     37.079249  \n",
       "min                                   -809.398668  \n",
       "25%                                   -500.745104  \n",
       "50%                                   -500.061431  \n",
       "75%                                   -499.536466  \n",
       "max                                   -104.427459  \n",
       "\n",
       "[8 rows x 86 columns]"
      ]
     },
     "metadata": {},
     "output_type": "display_data"
    },
    {
     "data": {
      "text/plain": [
       "'===================================================================================================='"
      ]
     },
     "metadata": {},
     "output_type": "display_data"
    },
    {
     "data": {
      "text/plain": [
       "date                                            0\n",
       "final.output.concentrate_ag                     1\n",
       "final.output.concentrate_pb                     1\n",
       "final.output.concentrate_sol                  211\n",
       "final.output.concentrate_au                     0\n",
       "                                             ... \n",
       "secondary_cleaner.state.floatbank5_a_level      1\n",
       "secondary_cleaner.state.floatbank5_b_air        1\n",
       "secondary_cleaner.state.floatbank5_b_level      1\n",
       "secondary_cleaner.state.floatbank6_a_air        2\n",
       "secondary_cleaner.state.floatbank6_a_level      1\n",
       "Length: 87, dtype: int64"
      ]
     },
     "metadata": {},
     "output_type": "display_data"
    },
    {
     "data": {
      "text/plain": [
       "'===================================================================================================='"
      ]
     },
     "metadata": {},
     "output_type": "display_data"
    },
    {
     "data": {
      "text/html": [
       "<div>\n",
       "<style scoped>\n",
       "    .dataframe tbody tr th:only-of-type {\n",
       "        vertical-align: middle;\n",
       "    }\n",
       "\n",
       "    .dataframe tbody tr th {\n",
       "        vertical-align: top;\n",
       "    }\n",
       "\n",
       "    .dataframe thead th {\n",
       "        text-align: right;\n",
       "    }\n",
       "</style>\n",
       "<table border=\"1\" class=\"dataframe\">\n",
       "  <thead>\n",
       "    <tr style=\"text-align: right;\">\n",
       "      <th></th>\n",
       "      <th>final.output.concentrate_ag</th>\n",
       "      <th>final.output.concentrate_pb</th>\n",
       "      <th>final.output.concentrate_sol</th>\n",
       "      <th>final.output.concentrate_au</th>\n",
       "      <th>final.output.recovery</th>\n",
       "      <th>final.output.tail_ag</th>\n",
       "      <th>final.output.tail_pb</th>\n",
       "      <th>final.output.tail_sol</th>\n",
       "      <th>final.output.tail_au</th>\n",
       "      <th>primary_cleaner.input.sulfate</th>\n",
       "      <th>...</th>\n",
       "      <th>secondary_cleaner.state.floatbank4_a_air</th>\n",
       "      <th>secondary_cleaner.state.floatbank4_a_level</th>\n",
       "      <th>secondary_cleaner.state.floatbank4_b_air</th>\n",
       "      <th>secondary_cleaner.state.floatbank4_b_level</th>\n",
       "      <th>secondary_cleaner.state.floatbank5_a_air</th>\n",
       "      <th>secondary_cleaner.state.floatbank5_a_level</th>\n",
       "      <th>secondary_cleaner.state.floatbank5_b_air</th>\n",
       "      <th>secondary_cleaner.state.floatbank5_b_level</th>\n",
       "      <th>secondary_cleaner.state.floatbank6_a_air</th>\n",
       "      <th>secondary_cleaner.state.floatbank6_a_level</th>\n",
       "    </tr>\n",
       "  </thead>\n",
       "  <tbody>\n",
       "    <tr>\n",
       "      <th>final.output.concentrate_ag</th>\n",
       "      <td>1.000000</td>\n",
       "      <td>0.021110</td>\n",
       "      <td>0.351985</td>\n",
       "      <td>-0.104934</td>\n",
       "      <td>0.133238</td>\n",
       "      <td>0.289552</td>\n",
       "      <td>-0.099818</td>\n",
       "      <td>0.045896</td>\n",
       "      <td>0.193935</td>\n",
       "      <td>0.015923</td>\n",
       "      <td>...</td>\n",
       "      <td>0.041765</td>\n",
       "      <td>0.169538</td>\n",
       "      <td>0.020832</td>\n",
       "      <td>0.005319</td>\n",
       "      <td>0.013019</td>\n",
       "      <td>0.228753</td>\n",
       "      <td>0.021660</td>\n",
       "      <td>0.199048</td>\n",
       "      <td>0.170298</td>\n",
       "      <td>0.061009</td>\n",
       "    </tr>\n",
       "    <tr>\n",
       "      <th>final.output.concentrate_pb</th>\n",
       "      <td>0.021110</td>\n",
       "      <td>1.000000</td>\n",
       "      <td>-0.008451</td>\n",
       "      <td>0.320916</td>\n",
       "      <td>0.095000</td>\n",
       "      <td>-0.100616</td>\n",
       "      <td>0.240650</td>\n",
       "      <td>0.068287</td>\n",
       "      <td>0.029186</td>\n",
       "      <td>0.124170</td>\n",
       "      <td>...</td>\n",
       "      <td>-0.001365</td>\n",
       "      <td>-0.035219</td>\n",
       "      <td>0.092632</td>\n",
       "      <td>0.069315</td>\n",
       "      <td>0.095147</td>\n",
       "      <td>-0.096191</td>\n",
       "      <td>0.123765</td>\n",
       "      <td>-0.115190</td>\n",
       "      <td>-0.018740</td>\n",
       "      <td>0.075302</td>\n",
       "    </tr>\n",
       "    <tr>\n",
       "      <th>final.output.concentrate_sol</th>\n",
       "      <td>0.351985</td>\n",
       "      <td>-0.008451</td>\n",
       "      <td>1.000000</td>\n",
       "      <td>0.217363</td>\n",
       "      <td>0.249632</td>\n",
       "      <td>0.225460</td>\n",
       "      <td>0.259185</td>\n",
       "      <td>-0.023407</td>\n",
       "      <td>0.244294</td>\n",
       "      <td>0.343058</td>\n",
       "      <td>...</td>\n",
       "      <td>-0.007337</td>\n",
       "      <td>0.268279</td>\n",
       "      <td>0.032091</td>\n",
       "      <td>0.134591</td>\n",
       "      <td>0.031137</td>\n",
       "      <td>0.246817</td>\n",
       "      <td>0.015942</td>\n",
       "      <td>0.234651</td>\n",
       "      <td>0.228520</td>\n",
       "      <td>-0.276807</td>\n",
       "    </tr>\n",
       "    <tr>\n",
       "      <th>final.output.concentrate_au</th>\n",
       "      <td>-0.104934</td>\n",
       "      <td>0.320916</td>\n",
       "      <td>0.217363</td>\n",
       "      <td>1.000000</td>\n",
       "      <td>0.253067</td>\n",
       "      <td>0.079619</td>\n",
       "      <td>0.067949</td>\n",
       "      <td>0.098396</td>\n",
       "      <td>-0.070600</td>\n",
       "      <td>0.108014</td>\n",
       "      <td>...</td>\n",
       "      <td>0.035814</td>\n",
       "      <td>-0.042100</td>\n",
       "      <td>0.002307</td>\n",
       "      <td>-0.011165</td>\n",
       "      <td>0.005808</td>\n",
       "      <td>-0.098015</td>\n",
       "      <td>-0.014616</td>\n",
       "      <td>-0.086371</td>\n",
       "      <td>-0.123644</td>\n",
       "      <td>-0.030628</td>\n",
       "    </tr>\n",
       "    <tr>\n",
       "      <th>final.output.recovery</th>\n",
       "      <td>0.133238</td>\n",
       "      <td>0.095000</td>\n",
       "      <td>0.249632</td>\n",
       "      <td>0.253067</td>\n",
       "      <td>1.000000</td>\n",
       "      <td>0.151610</td>\n",
       "      <td>-0.151287</td>\n",
       "      <td>-0.088242</td>\n",
       "      <td>-0.435553</td>\n",
       "      <td>0.398307</td>\n",
       "      <td>...</td>\n",
       "      <td>0.207745</td>\n",
       "      <td>0.057454</td>\n",
       "      <td>0.170838</td>\n",
       "      <td>-0.088934</td>\n",
       "      <td>0.098267</td>\n",
       "      <td>0.024196</td>\n",
       "      <td>0.068331</td>\n",
       "      <td>0.043838</td>\n",
       "      <td>-0.027593</td>\n",
       "      <td>-0.035658</td>\n",
       "    </tr>\n",
       "    <tr>\n",
       "      <th>...</th>\n",
       "      <td>...</td>\n",
       "      <td>...</td>\n",
       "      <td>...</td>\n",
       "      <td>...</td>\n",
       "      <td>...</td>\n",
       "      <td>...</td>\n",
       "      <td>...</td>\n",
       "      <td>...</td>\n",
       "      <td>...</td>\n",
       "      <td>...</td>\n",
       "      <td>...</td>\n",
       "      <td>...</td>\n",
       "      <td>...</td>\n",
       "      <td>...</td>\n",
       "      <td>...</td>\n",
       "      <td>...</td>\n",
       "      <td>...</td>\n",
       "      <td>...</td>\n",
       "      <td>...</td>\n",
       "      <td>...</td>\n",
       "      <td>...</td>\n",
       "    </tr>\n",
       "    <tr>\n",
       "      <th>secondary_cleaner.state.floatbank5_a_level</th>\n",
       "      <td>0.228753</td>\n",
       "      <td>-0.096191</td>\n",
       "      <td>0.246817</td>\n",
       "      <td>-0.098015</td>\n",
       "      <td>0.024196</td>\n",
       "      <td>-0.008345</td>\n",
       "      <td>0.066600</td>\n",
       "      <td>-0.085835</td>\n",
       "      <td>0.116366</td>\n",
       "      <td>-0.031146</td>\n",
       "      <td>...</td>\n",
       "      <td>0.105263</td>\n",
       "      <td>0.790037</td>\n",
       "      <td>0.013033</td>\n",
       "      <td>0.554604</td>\n",
       "      <td>0.083423</td>\n",
       "      <td>1.000000</td>\n",
       "      <td>0.036557</td>\n",
       "      <td>0.884422</td>\n",
       "      <td>0.512286</td>\n",
       "      <td>0.379832</td>\n",
       "    </tr>\n",
       "    <tr>\n",
       "      <th>secondary_cleaner.state.floatbank5_b_air</th>\n",
       "      <td>0.021660</td>\n",
       "      <td>0.123765</td>\n",
       "      <td>0.015942</td>\n",
       "      <td>-0.014616</td>\n",
       "      <td>0.068331</td>\n",
       "      <td>0.008731</td>\n",
       "      <td>0.216899</td>\n",
       "      <td>-0.133159</td>\n",
       "      <td>-0.104743</td>\n",
       "      <td>-0.000789</td>\n",
       "      <td>...</td>\n",
       "      <td>0.723039</td>\n",
       "      <td>0.244762</td>\n",
       "      <td>0.878027</td>\n",
       "      <td>0.153923</td>\n",
       "      <td>0.892482</td>\n",
       "      <td>0.036557</td>\n",
       "      <td>1.000000</td>\n",
       "      <td>0.046352</td>\n",
       "      <td>0.474619</td>\n",
       "      <td>-0.025908</td>\n",
       "    </tr>\n",
       "    <tr>\n",
       "      <th>secondary_cleaner.state.floatbank5_b_level</th>\n",
       "      <td>0.199048</td>\n",
       "      <td>-0.115190</td>\n",
       "      <td>0.234651</td>\n",
       "      <td>-0.086371</td>\n",
       "      <td>0.043838</td>\n",
       "      <td>-0.000398</td>\n",
       "      <td>0.075721</td>\n",
       "      <td>-0.104591</td>\n",
       "      <td>0.101261</td>\n",
       "      <td>-0.022692</td>\n",
       "      <td>...</td>\n",
       "      <td>0.110727</td>\n",
       "      <td>0.747276</td>\n",
       "      <td>0.035808</td>\n",
       "      <td>0.515643</td>\n",
       "      <td>0.100697</td>\n",
       "      <td>0.884422</td>\n",
       "      <td>0.046352</td>\n",
       "      <td>1.000000</td>\n",
       "      <td>0.493110</td>\n",
       "      <td>0.342094</td>\n",
       "    </tr>\n",
       "    <tr>\n",
       "      <th>secondary_cleaner.state.floatbank6_a_air</th>\n",
       "      <td>0.170298</td>\n",
       "      <td>-0.018740</td>\n",
       "      <td>0.228520</td>\n",
       "      <td>-0.123644</td>\n",
       "      <td>-0.027593</td>\n",
       "      <td>-0.103898</td>\n",
       "      <td>0.072273</td>\n",
       "      <td>0.001968</td>\n",
       "      <td>0.068385</td>\n",
       "      <td>-0.106076</td>\n",
       "      <td>...</td>\n",
       "      <td>0.205628</td>\n",
       "      <td>0.566670</td>\n",
       "      <td>0.311765</td>\n",
       "      <td>0.271796</td>\n",
       "      <td>0.440929</td>\n",
       "      <td>0.512286</td>\n",
       "      <td>0.474619</td>\n",
       "      <td>0.493110</td>\n",
       "      <td>1.000000</td>\n",
       "      <td>0.098643</td>\n",
       "    </tr>\n",
       "    <tr>\n",
       "      <th>secondary_cleaner.state.floatbank6_a_level</th>\n",
       "      <td>0.061009</td>\n",
       "      <td>0.075302</td>\n",
       "      <td>-0.276807</td>\n",
       "      <td>-0.030628</td>\n",
       "      <td>-0.035658</td>\n",
       "      <td>-0.123110</td>\n",
       "      <td>-0.183759</td>\n",
       "      <td>0.016933</td>\n",
       "      <td>-0.107111</td>\n",
       "      <td>-0.141741</td>\n",
       "      <td>...</td>\n",
       "      <td>-0.001757</td>\n",
       "      <td>0.256956</td>\n",
       "      <td>-0.108201</td>\n",
       "      <td>0.281287</td>\n",
       "      <td>-0.003063</td>\n",
       "      <td>0.379832</td>\n",
       "      <td>-0.025908</td>\n",
       "      <td>0.342094</td>\n",
       "      <td>0.098643</td>\n",
       "      <td>1.000000</td>\n",
       "    </tr>\n",
       "  </tbody>\n",
       "</table>\n",
       "<p>86 rows × 86 columns</p>\n",
       "</div>"
      ],
      "text/plain": [
       "                                            final.output.concentrate_ag  \\\n",
       "final.output.concentrate_ag                                    1.000000   \n",
       "final.output.concentrate_pb                                    0.021110   \n",
       "final.output.concentrate_sol                                   0.351985   \n",
       "final.output.concentrate_au                                   -0.104934   \n",
       "final.output.recovery                                          0.133238   \n",
       "...                                                                 ...   \n",
       "secondary_cleaner.state.floatbank5_a_level                     0.228753   \n",
       "secondary_cleaner.state.floatbank5_b_air                       0.021660   \n",
       "secondary_cleaner.state.floatbank5_b_level                     0.199048   \n",
       "secondary_cleaner.state.floatbank6_a_air                       0.170298   \n",
       "secondary_cleaner.state.floatbank6_a_level                     0.061009   \n",
       "\n",
       "                                            final.output.concentrate_pb  \\\n",
       "final.output.concentrate_ag                                    0.021110   \n",
       "final.output.concentrate_pb                                    1.000000   \n",
       "final.output.concentrate_sol                                  -0.008451   \n",
       "final.output.concentrate_au                                    0.320916   \n",
       "final.output.recovery                                          0.095000   \n",
       "...                                                                 ...   \n",
       "secondary_cleaner.state.floatbank5_a_level                    -0.096191   \n",
       "secondary_cleaner.state.floatbank5_b_air                       0.123765   \n",
       "secondary_cleaner.state.floatbank5_b_level                    -0.115190   \n",
       "secondary_cleaner.state.floatbank6_a_air                      -0.018740   \n",
       "secondary_cleaner.state.floatbank6_a_level                     0.075302   \n",
       "\n",
       "                                            final.output.concentrate_sol  \\\n",
       "final.output.concentrate_ag                                     0.351985   \n",
       "final.output.concentrate_pb                                    -0.008451   \n",
       "final.output.concentrate_sol                                    1.000000   \n",
       "final.output.concentrate_au                                     0.217363   \n",
       "final.output.recovery                                           0.249632   \n",
       "...                                                                  ...   \n",
       "secondary_cleaner.state.floatbank5_a_level                      0.246817   \n",
       "secondary_cleaner.state.floatbank5_b_air                        0.015942   \n",
       "secondary_cleaner.state.floatbank5_b_level                      0.234651   \n",
       "secondary_cleaner.state.floatbank6_a_air                        0.228520   \n",
       "secondary_cleaner.state.floatbank6_a_level                     -0.276807   \n",
       "\n",
       "                                            final.output.concentrate_au  \\\n",
       "final.output.concentrate_ag                                   -0.104934   \n",
       "final.output.concentrate_pb                                    0.320916   \n",
       "final.output.concentrate_sol                                   0.217363   \n",
       "final.output.concentrate_au                                    1.000000   \n",
       "final.output.recovery                                          0.253067   \n",
       "...                                                                 ...   \n",
       "secondary_cleaner.state.floatbank5_a_level                    -0.098015   \n",
       "secondary_cleaner.state.floatbank5_b_air                      -0.014616   \n",
       "secondary_cleaner.state.floatbank5_b_level                    -0.086371   \n",
       "secondary_cleaner.state.floatbank6_a_air                      -0.123644   \n",
       "secondary_cleaner.state.floatbank6_a_level                    -0.030628   \n",
       "\n",
       "                                            final.output.recovery  \\\n",
       "final.output.concentrate_ag                              0.133238   \n",
       "final.output.concentrate_pb                              0.095000   \n",
       "final.output.concentrate_sol                             0.249632   \n",
       "final.output.concentrate_au                              0.253067   \n",
       "final.output.recovery                                    1.000000   \n",
       "...                                                           ...   \n",
       "secondary_cleaner.state.floatbank5_a_level               0.024196   \n",
       "secondary_cleaner.state.floatbank5_b_air                 0.068331   \n",
       "secondary_cleaner.state.floatbank5_b_level               0.043838   \n",
       "secondary_cleaner.state.floatbank6_a_air                -0.027593   \n",
       "secondary_cleaner.state.floatbank6_a_level              -0.035658   \n",
       "\n",
       "                                            final.output.tail_ag  \\\n",
       "final.output.concentrate_ag                             0.289552   \n",
       "final.output.concentrate_pb                            -0.100616   \n",
       "final.output.concentrate_sol                            0.225460   \n",
       "final.output.concentrate_au                             0.079619   \n",
       "final.output.recovery                                   0.151610   \n",
       "...                                                          ...   \n",
       "secondary_cleaner.state.floatbank5_a_level             -0.008345   \n",
       "secondary_cleaner.state.floatbank5_b_air                0.008731   \n",
       "secondary_cleaner.state.floatbank5_b_level             -0.000398   \n",
       "secondary_cleaner.state.floatbank6_a_air               -0.103898   \n",
       "secondary_cleaner.state.floatbank6_a_level             -0.123110   \n",
       "\n",
       "                                            final.output.tail_pb  \\\n",
       "final.output.concentrate_ag                            -0.099818   \n",
       "final.output.concentrate_pb                             0.240650   \n",
       "final.output.concentrate_sol                            0.259185   \n",
       "final.output.concentrate_au                             0.067949   \n",
       "final.output.recovery                                  -0.151287   \n",
       "...                                                          ...   \n",
       "secondary_cleaner.state.floatbank5_a_level              0.066600   \n",
       "secondary_cleaner.state.floatbank5_b_air                0.216899   \n",
       "secondary_cleaner.state.floatbank5_b_level              0.075721   \n",
       "secondary_cleaner.state.floatbank6_a_air                0.072273   \n",
       "secondary_cleaner.state.floatbank6_a_level             -0.183759   \n",
       "\n",
       "                                            final.output.tail_sol  \\\n",
       "final.output.concentrate_ag                              0.045896   \n",
       "final.output.concentrate_pb                              0.068287   \n",
       "final.output.concentrate_sol                            -0.023407   \n",
       "final.output.concentrate_au                              0.098396   \n",
       "final.output.recovery                                   -0.088242   \n",
       "...                                                           ...   \n",
       "secondary_cleaner.state.floatbank5_a_level              -0.085835   \n",
       "secondary_cleaner.state.floatbank5_b_air                -0.133159   \n",
       "secondary_cleaner.state.floatbank5_b_level              -0.104591   \n",
       "secondary_cleaner.state.floatbank6_a_air                 0.001968   \n",
       "secondary_cleaner.state.floatbank6_a_level               0.016933   \n",
       "\n",
       "                                            final.output.tail_au  \\\n",
       "final.output.concentrate_ag                             0.193935   \n",
       "final.output.concentrate_pb                             0.029186   \n",
       "final.output.concentrate_sol                            0.244294   \n",
       "final.output.concentrate_au                            -0.070600   \n",
       "final.output.recovery                                  -0.435553   \n",
       "...                                                          ...   \n",
       "secondary_cleaner.state.floatbank5_a_level              0.116366   \n",
       "secondary_cleaner.state.floatbank5_b_air               -0.104743   \n",
       "secondary_cleaner.state.floatbank5_b_level              0.101261   \n",
       "secondary_cleaner.state.floatbank6_a_air                0.068385   \n",
       "secondary_cleaner.state.floatbank6_a_level             -0.107111   \n",
       "\n",
       "                                            primary_cleaner.input.sulfate  \\\n",
       "final.output.concentrate_ag                                      0.015923   \n",
       "final.output.concentrate_pb                                      0.124170   \n",
       "final.output.concentrate_sol                                     0.343058   \n",
       "final.output.concentrate_au                                      0.108014   \n",
       "final.output.recovery                                            0.398307   \n",
       "...                                                                   ...   \n",
       "secondary_cleaner.state.floatbank5_a_level                      -0.031146   \n",
       "secondary_cleaner.state.floatbank5_b_air                        -0.000789   \n",
       "secondary_cleaner.state.floatbank5_b_level                      -0.022692   \n",
       "secondary_cleaner.state.floatbank6_a_air                        -0.106076   \n",
       "secondary_cleaner.state.floatbank6_a_level                      -0.141741   \n",
       "\n",
       "                                            ...  \\\n",
       "final.output.concentrate_ag                 ...   \n",
       "final.output.concentrate_pb                 ...   \n",
       "final.output.concentrate_sol                ...   \n",
       "final.output.concentrate_au                 ...   \n",
       "final.output.recovery                       ...   \n",
       "...                                         ...   \n",
       "secondary_cleaner.state.floatbank5_a_level  ...   \n",
       "secondary_cleaner.state.floatbank5_b_air    ...   \n",
       "secondary_cleaner.state.floatbank5_b_level  ...   \n",
       "secondary_cleaner.state.floatbank6_a_air    ...   \n",
       "secondary_cleaner.state.floatbank6_a_level  ...   \n",
       "\n",
       "                                            secondary_cleaner.state.floatbank4_a_air  \\\n",
       "final.output.concentrate_ag                                                 0.041765   \n",
       "final.output.concentrate_pb                                                -0.001365   \n",
       "final.output.concentrate_sol                                               -0.007337   \n",
       "final.output.concentrate_au                                                 0.035814   \n",
       "final.output.recovery                                                       0.207745   \n",
       "...                                                                              ...   \n",
       "secondary_cleaner.state.floatbank5_a_level                                  0.105263   \n",
       "secondary_cleaner.state.floatbank5_b_air                                    0.723039   \n",
       "secondary_cleaner.state.floatbank5_b_level                                  0.110727   \n",
       "secondary_cleaner.state.floatbank6_a_air                                    0.205628   \n",
       "secondary_cleaner.state.floatbank6_a_level                                 -0.001757   \n",
       "\n",
       "                                            secondary_cleaner.state.floatbank4_a_level  \\\n",
       "final.output.concentrate_ag                                                   0.169538   \n",
       "final.output.concentrate_pb                                                  -0.035219   \n",
       "final.output.concentrate_sol                                                  0.268279   \n",
       "final.output.concentrate_au                                                  -0.042100   \n",
       "final.output.recovery                                                         0.057454   \n",
       "...                                                                                ...   \n",
       "secondary_cleaner.state.floatbank5_a_level                                    0.790037   \n",
       "secondary_cleaner.state.floatbank5_b_air                                      0.244762   \n",
       "secondary_cleaner.state.floatbank5_b_level                                    0.747276   \n",
       "secondary_cleaner.state.floatbank6_a_air                                      0.566670   \n",
       "secondary_cleaner.state.floatbank6_a_level                                    0.256956   \n",
       "\n",
       "                                            secondary_cleaner.state.floatbank4_b_air  \\\n",
       "final.output.concentrate_ag                                                 0.020832   \n",
       "final.output.concentrate_pb                                                 0.092632   \n",
       "final.output.concentrate_sol                                                0.032091   \n",
       "final.output.concentrate_au                                                 0.002307   \n",
       "final.output.recovery                                                       0.170838   \n",
       "...                                                                              ...   \n",
       "secondary_cleaner.state.floatbank5_a_level                                  0.013033   \n",
       "secondary_cleaner.state.floatbank5_b_air                                    0.878027   \n",
       "secondary_cleaner.state.floatbank5_b_level                                  0.035808   \n",
       "secondary_cleaner.state.floatbank6_a_air                                    0.311765   \n",
       "secondary_cleaner.state.floatbank6_a_level                                 -0.108201   \n",
       "\n",
       "                                            secondary_cleaner.state.floatbank4_b_level  \\\n",
       "final.output.concentrate_ag                                                   0.005319   \n",
       "final.output.concentrate_pb                                                   0.069315   \n",
       "final.output.concentrate_sol                                                  0.134591   \n",
       "final.output.concentrate_au                                                  -0.011165   \n",
       "final.output.recovery                                                        -0.088934   \n",
       "...                                                                                ...   \n",
       "secondary_cleaner.state.floatbank5_a_level                                    0.554604   \n",
       "secondary_cleaner.state.floatbank5_b_air                                      0.153923   \n",
       "secondary_cleaner.state.floatbank5_b_level                                    0.515643   \n",
       "secondary_cleaner.state.floatbank6_a_air                                      0.271796   \n",
       "secondary_cleaner.state.floatbank6_a_level                                    0.281287   \n",
       "\n",
       "                                            secondary_cleaner.state.floatbank5_a_air  \\\n",
       "final.output.concentrate_ag                                                 0.013019   \n",
       "final.output.concentrate_pb                                                 0.095147   \n",
       "final.output.concentrate_sol                                                0.031137   \n",
       "final.output.concentrate_au                                                 0.005808   \n",
       "final.output.recovery                                                       0.098267   \n",
       "...                                                                              ...   \n",
       "secondary_cleaner.state.floatbank5_a_level                                  0.083423   \n",
       "secondary_cleaner.state.floatbank5_b_air                                    0.892482   \n",
       "secondary_cleaner.state.floatbank5_b_level                                  0.100697   \n",
       "secondary_cleaner.state.floatbank6_a_air                                    0.440929   \n",
       "secondary_cleaner.state.floatbank6_a_level                                 -0.003063   \n",
       "\n",
       "                                            secondary_cleaner.state.floatbank5_a_level  \\\n",
       "final.output.concentrate_ag                                                   0.228753   \n",
       "final.output.concentrate_pb                                                  -0.096191   \n",
       "final.output.concentrate_sol                                                  0.246817   \n",
       "final.output.concentrate_au                                                  -0.098015   \n",
       "final.output.recovery                                                         0.024196   \n",
       "...                                                                                ...   \n",
       "secondary_cleaner.state.floatbank5_a_level                                    1.000000   \n",
       "secondary_cleaner.state.floatbank5_b_air                                      0.036557   \n",
       "secondary_cleaner.state.floatbank5_b_level                                    0.884422   \n",
       "secondary_cleaner.state.floatbank6_a_air                                      0.512286   \n",
       "secondary_cleaner.state.floatbank6_a_level                                    0.379832   \n",
       "\n",
       "                                            secondary_cleaner.state.floatbank5_b_air  \\\n",
       "final.output.concentrate_ag                                                 0.021660   \n",
       "final.output.concentrate_pb                                                 0.123765   \n",
       "final.output.concentrate_sol                                                0.015942   \n",
       "final.output.concentrate_au                                                -0.014616   \n",
       "final.output.recovery                                                       0.068331   \n",
       "...                                                                              ...   \n",
       "secondary_cleaner.state.floatbank5_a_level                                  0.036557   \n",
       "secondary_cleaner.state.floatbank5_b_air                                    1.000000   \n",
       "secondary_cleaner.state.floatbank5_b_level                                  0.046352   \n",
       "secondary_cleaner.state.floatbank6_a_air                                    0.474619   \n",
       "secondary_cleaner.state.floatbank6_a_level                                 -0.025908   \n",
       "\n",
       "                                            secondary_cleaner.state.floatbank5_b_level  \\\n",
       "final.output.concentrate_ag                                                   0.199048   \n",
       "final.output.concentrate_pb                                                  -0.115190   \n",
       "final.output.concentrate_sol                                                  0.234651   \n",
       "final.output.concentrate_au                                                  -0.086371   \n",
       "final.output.recovery                                                         0.043838   \n",
       "...                                                                                ...   \n",
       "secondary_cleaner.state.floatbank5_a_level                                    0.884422   \n",
       "secondary_cleaner.state.floatbank5_b_air                                      0.046352   \n",
       "secondary_cleaner.state.floatbank5_b_level                                    1.000000   \n",
       "secondary_cleaner.state.floatbank6_a_air                                      0.493110   \n",
       "secondary_cleaner.state.floatbank6_a_level                                    0.342094   \n",
       "\n",
       "                                            secondary_cleaner.state.floatbank6_a_air  \\\n",
       "final.output.concentrate_ag                                                 0.170298   \n",
       "final.output.concentrate_pb                                                -0.018740   \n",
       "final.output.concentrate_sol                                                0.228520   \n",
       "final.output.concentrate_au                                                -0.123644   \n",
       "final.output.recovery                                                      -0.027593   \n",
       "...                                                                              ...   \n",
       "secondary_cleaner.state.floatbank5_a_level                                  0.512286   \n",
       "secondary_cleaner.state.floatbank5_b_air                                    0.474619   \n",
       "secondary_cleaner.state.floatbank5_b_level                                  0.493110   \n",
       "secondary_cleaner.state.floatbank6_a_air                                    1.000000   \n",
       "secondary_cleaner.state.floatbank6_a_level                                  0.098643   \n",
       "\n",
       "                                            secondary_cleaner.state.floatbank6_a_level  \n",
       "final.output.concentrate_ag                                                   0.061009  \n",
       "final.output.concentrate_pb                                                   0.075302  \n",
       "final.output.concentrate_sol                                                 -0.276807  \n",
       "final.output.concentrate_au                                                  -0.030628  \n",
       "final.output.recovery                                                        -0.035658  \n",
       "...                                                                                ...  \n",
       "secondary_cleaner.state.floatbank5_a_level                                    0.379832  \n",
       "secondary_cleaner.state.floatbank5_b_air                                     -0.025908  \n",
       "secondary_cleaner.state.floatbank5_b_level                                    0.342094  \n",
       "secondary_cleaner.state.floatbank6_a_air                                      0.098643  \n",
       "secondary_cleaner.state.floatbank6_a_level                                    1.000000  \n",
       "\n",
       "[86 rows x 86 columns]"
      ]
     },
     "metadata": {},
     "output_type": "display_data"
    },
    {
     "data": {
      "text/plain": [
       "'===================================================================================================='"
      ]
     },
     "metadata": {},
     "output_type": "display_data"
    },
    {
     "data": {
      "text/plain": [
       "'Дублей: '"
      ]
     },
     "metadata": {},
     "output_type": "display_data"
    },
    {
     "data": {
      "text/plain": [
       "0"
      ]
     },
     "metadata": {},
     "output_type": "display_data"
    },
    {
     "data": {
      "text/plain": [
       "'XXXXXXXXXXXXXXXXXXXXXXXXXXXXXXXXXXXXXXXXXXXXXXXXXXXXXXXXXXXXXXXXXXXXXXXXXXXXXXXXXXXXXXXXXXXXXXXXXXXX'"
      ]
     },
     "metadata": {},
     "output_type": "display_data"
    },
    {
     "data": {
      "text/plain": [
       "'test'"
      ]
     },
     "metadata": {},
     "output_type": "display_data"
    },
    {
     "data": {
      "text/html": [
       "<div>\n",
       "<style scoped>\n",
       "    .dataframe tbody tr th:only-of-type {\n",
       "        vertical-align: middle;\n",
       "    }\n",
       "\n",
       "    .dataframe tbody tr th {\n",
       "        vertical-align: top;\n",
       "    }\n",
       "\n",
       "    .dataframe thead th {\n",
       "        text-align: right;\n",
       "    }\n",
       "</style>\n",
       "<table border=\"1\" class=\"dataframe\">\n",
       "  <thead>\n",
       "    <tr style=\"text-align: right;\">\n",
       "      <th></th>\n",
       "      <th>date</th>\n",
       "      <th>primary_cleaner.input.sulfate</th>\n",
       "      <th>primary_cleaner.input.depressant</th>\n",
       "      <th>primary_cleaner.input.feed_size</th>\n",
       "      <th>primary_cleaner.input.xanthate</th>\n",
       "      <th>primary_cleaner.state.floatbank8_a_air</th>\n",
       "      <th>primary_cleaner.state.floatbank8_a_level</th>\n",
       "      <th>primary_cleaner.state.floatbank8_b_air</th>\n",
       "      <th>primary_cleaner.state.floatbank8_b_level</th>\n",
       "      <th>primary_cleaner.state.floatbank8_c_air</th>\n",
       "      <th>...</th>\n",
       "      <th>secondary_cleaner.state.floatbank4_a_air</th>\n",
       "      <th>secondary_cleaner.state.floatbank4_a_level</th>\n",
       "      <th>secondary_cleaner.state.floatbank4_b_air</th>\n",
       "      <th>secondary_cleaner.state.floatbank4_b_level</th>\n",
       "      <th>secondary_cleaner.state.floatbank5_a_air</th>\n",
       "      <th>secondary_cleaner.state.floatbank5_a_level</th>\n",
       "      <th>secondary_cleaner.state.floatbank5_b_air</th>\n",
       "      <th>secondary_cleaner.state.floatbank5_b_level</th>\n",
       "      <th>secondary_cleaner.state.floatbank6_a_air</th>\n",
       "      <th>secondary_cleaner.state.floatbank6_a_level</th>\n",
       "    </tr>\n",
       "  </thead>\n",
       "  <tbody>\n",
       "    <tr>\n",
       "      <th>0</th>\n",
       "      <td>2016-09-01 00:59:59</td>\n",
       "      <td>210.800909</td>\n",
       "      <td>14.993118</td>\n",
       "      <td>8.080000</td>\n",
       "      <td>1.005021</td>\n",
       "      <td>1398.981301</td>\n",
       "      <td>-500.225577</td>\n",
       "      <td>1399.144926</td>\n",
       "      <td>-499.919735</td>\n",
       "      <td>1400.102998</td>\n",
       "      <td>...</td>\n",
       "      <td>12.023554</td>\n",
       "      <td>-497.795834</td>\n",
       "      <td>8.016656</td>\n",
       "      <td>-501.289139</td>\n",
       "      <td>7.946562</td>\n",
       "      <td>-432.317850</td>\n",
       "      <td>4.872511</td>\n",
       "      <td>-500.037437</td>\n",
       "      <td>26.705889</td>\n",
       "      <td>-499.709414</td>\n",
       "    </tr>\n",
       "    <tr>\n",
       "      <th>1</th>\n",
       "      <td>2016-09-01 01:59:59</td>\n",
       "      <td>215.392455</td>\n",
       "      <td>14.987471</td>\n",
       "      <td>8.080000</td>\n",
       "      <td>0.990469</td>\n",
       "      <td>1398.777912</td>\n",
       "      <td>-500.057435</td>\n",
       "      <td>1398.055362</td>\n",
       "      <td>-499.778182</td>\n",
       "      <td>1396.151033</td>\n",
       "      <td>...</td>\n",
       "      <td>12.058140</td>\n",
       "      <td>-498.695773</td>\n",
       "      <td>8.130979</td>\n",
       "      <td>-499.634209</td>\n",
       "      <td>7.958270</td>\n",
       "      <td>-525.839648</td>\n",
       "      <td>4.878850</td>\n",
       "      <td>-500.162375</td>\n",
       "      <td>25.019940</td>\n",
       "      <td>-499.819438</td>\n",
       "    </tr>\n",
       "    <tr>\n",
       "      <th>2</th>\n",
       "      <td>2016-09-01 02:59:59</td>\n",
       "      <td>215.259946</td>\n",
       "      <td>12.884934</td>\n",
       "      <td>7.786667</td>\n",
       "      <td>0.996043</td>\n",
       "      <td>1398.493666</td>\n",
       "      <td>-500.868360</td>\n",
       "      <td>1398.860436</td>\n",
       "      <td>-499.764529</td>\n",
       "      <td>1398.075709</td>\n",
       "      <td>...</td>\n",
       "      <td>11.962366</td>\n",
       "      <td>-498.767484</td>\n",
       "      <td>8.096893</td>\n",
       "      <td>-500.827423</td>\n",
       "      <td>8.071056</td>\n",
       "      <td>-500.801673</td>\n",
       "      <td>4.905125</td>\n",
       "      <td>-499.828510</td>\n",
       "      <td>24.994862</td>\n",
       "      <td>-500.622559</td>\n",
       "    </tr>\n",
       "    <tr>\n",
       "      <th>3</th>\n",
       "      <td>2016-09-01 03:59:59</td>\n",
       "      <td>215.336236</td>\n",
       "      <td>12.006805</td>\n",
       "      <td>7.640000</td>\n",
       "      <td>0.863514</td>\n",
       "      <td>1399.618111</td>\n",
       "      <td>-498.863574</td>\n",
       "      <td>1397.440120</td>\n",
       "      <td>-499.211024</td>\n",
       "      <td>1400.129303</td>\n",
       "      <td>...</td>\n",
       "      <td>12.033091</td>\n",
       "      <td>-498.350935</td>\n",
       "      <td>8.074946</td>\n",
       "      <td>-499.474407</td>\n",
       "      <td>7.897085</td>\n",
       "      <td>-500.868509</td>\n",
       "      <td>4.931400</td>\n",
       "      <td>-499.963623</td>\n",
       "      <td>24.948919</td>\n",
       "      <td>-498.709987</td>\n",
       "    </tr>\n",
       "    <tr>\n",
       "      <th>4</th>\n",
       "      <td>2016-09-01 04:59:59</td>\n",
       "      <td>199.099327</td>\n",
       "      <td>10.682530</td>\n",
       "      <td>7.530000</td>\n",
       "      <td>0.805575</td>\n",
       "      <td>1401.268123</td>\n",
       "      <td>-500.808305</td>\n",
       "      <td>1398.128818</td>\n",
       "      <td>-499.504543</td>\n",
       "      <td>1402.172226</td>\n",
       "      <td>...</td>\n",
       "      <td>12.025367</td>\n",
       "      <td>-500.786497</td>\n",
       "      <td>8.054678</td>\n",
       "      <td>-500.397500</td>\n",
       "      <td>8.107890</td>\n",
       "      <td>-509.526725</td>\n",
       "      <td>4.957674</td>\n",
       "      <td>-500.360026</td>\n",
       "      <td>25.003331</td>\n",
       "      <td>-500.856333</td>\n",
       "    </tr>\n",
       "  </tbody>\n",
       "</table>\n",
       "<p>5 rows × 53 columns</p>\n",
       "</div>"
      ],
      "text/plain": [
       "                  date  primary_cleaner.input.sulfate  \\\n",
       "0  2016-09-01 00:59:59                     210.800909   \n",
       "1  2016-09-01 01:59:59                     215.392455   \n",
       "2  2016-09-01 02:59:59                     215.259946   \n",
       "3  2016-09-01 03:59:59                     215.336236   \n",
       "4  2016-09-01 04:59:59                     199.099327   \n",
       "\n",
       "   primary_cleaner.input.depressant  primary_cleaner.input.feed_size  \\\n",
       "0                         14.993118                         8.080000   \n",
       "1                         14.987471                         8.080000   \n",
       "2                         12.884934                         7.786667   \n",
       "3                         12.006805                         7.640000   \n",
       "4                         10.682530                         7.530000   \n",
       "\n",
       "   primary_cleaner.input.xanthate  primary_cleaner.state.floatbank8_a_air  \\\n",
       "0                        1.005021                             1398.981301   \n",
       "1                        0.990469                             1398.777912   \n",
       "2                        0.996043                             1398.493666   \n",
       "3                        0.863514                             1399.618111   \n",
       "4                        0.805575                             1401.268123   \n",
       "\n",
       "   primary_cleaner.state.floatbank8_a_level  \\\n",
       "0                               -500.225577   \n",
       "1                               -500.057435   \n",
       "2                               -500.868360   \n",
       "3                               -498.863574   \n",
       "4                               -500.808305   \n",
       "\n",
       "   primary_cleaner.state.floatbank8_b_air  \\\n",
       "0                             1399.144926   \n",
       "1                             1398.055362   \n",
       "2                             1398.860436   \n",
       "3                             1397.440120   \n",
       "4                             1398.128818   \n",
       "\n",
       "   primary_cleaner.state.floatbank8_b_level  \\\n",
       "0                               -499.919735   \n",
       "1                               -499.778182   \n",
       "2                               -499.764529   \n",
       "3                               -499.211024   \n",
       "4                               -499.504543   \n",
       "\n",
       "   primary_cleaner.state.floatbank8_c_air  ...  \\\n",
       "0                             1400.102998  ...   \n",
       "1                             1396.151033  ...   \n",
       "2                             1398.075709  ...   \n",
       "3                             1400.129303  ...   \n",
       "4                             1402.172226  ...   \n",
       "\n",
       "   secondary_cleaner.state.floatbank4_a_air  \\\n",
       "0                                 12.023554   \n",
       "1                                 12.058140   \n",
       "2                                 11.962366   \n",
       "3                                 12.033091   \n",
       "4                                 12.025367   \n",
       "\n",
       "   secondary_cleaner.state.floatbank4_a_level  \\\n",
       "0                                 -497.795834   \n",
       "1                                 -498.695773   \n",
       "2                                 -498.767484   \n",
       "3                                 -498.350935   \n",
       "4                                 -500.786497   \n",
       "\n",
       "   secondary_cleaner.state.floatbank4_b_air  \\\n",
       "0                                  8.016656   \n",
       "1                                  8.130979   \n",
       "2                                  8.096893   \n",
       "3                                  8.074946   \n",
       "4                                  8.054678   \n",
       "\n",
       "   secondary_cleaner.state.floatbank4_b_level  \\\n",
       "0                                 -501.289139   \n",
       "1                                 -499.634209   \n",
       "2                                 -500.827423   \n",
       "3                                 -499.474407   \n",
       "4                                 -500.397500   \n",
       "\n",
       "   secondary_cleaner.state.floatbank5_a_air  \\\n",
       "0                                  7.946562   \n",
       "1                                  7.958270   \n",
       "2                                  8.071056   \n",
       "3                                  7.897085   \n",
       "4                                  8.107890   \n",
       "\n",
       "   secondary_cleaner.state.floatbank5_a_level  \\\n",
       "0                                 -432.317850   \n",
       "1                                 -525.839648   \n",
       "2                                 -500.801673   \n",
       "3                                 -500.868509   \n",
       "4                                 -509.526725   \n",
       "\n",
       "   secondary_cleaner.state.floatbank5_b_air  \\\n",
       "0                                  4.872511   \n",
       "1                                  4.878850   \n",
       "2                                  4.905125   \n",
       "3                                  4.931400   \n",
       "4                                  4.957674   \n",
       "\n",
       "   secondary_cleaner.state.floatbank5_b_level  \\\n",
       "0                                 -500.037437   \n",
       "1                                 -500.162375   \n",
       "2                                 -499.828510   \n",
       "3                                 -499.963623   \n",
       "4                                 -500.360026   \n",
       "\n",
       "   secondary_cleaner.state.floatbank6_a_air  \\\n",
       "0                                 26.705889   \n",
       "1                                 25.019940   \n",
       "2                                 24.994862   \n",
       "3                                 24.948919   \n",
       "4                                 25.003331   \n",
       "\n",
       "   secondary_cleaner.state.floatbank6_a_level  \n",
       "0                                 -499.709414  \n",
       "1                                 -499.819438  \n",
       "2                                 -500.622559  \n",
       "3                                 -498.709987  \n",
       "4                                 -500.856333  \n",
       "\n",
       "[5 rows x 53 columns]"
      ]
     },
     "metadata": {},
     "output_type": "display_data"
    },
    {
     "data": {
      "text/plain": [
       "'===================================================================================================='"
      ]
     },
     "metadata": {},
     "output_type": "display_data"
    },
    {
     "name": "stdout",
     "output_type": "stream",
     "text": [
      "<class 'pandas.core.frame.DataFrame'>\n",
      "RangeIndex: 5290 entries, 0 to 5289\n",
      "Data columns (total 53 columns):\n",
      " #   Column                                      Non-Null Count  Dtype  \n",
      "---  ------                                      --------------  -----  \n",
      " 0   date                                        5290 non-null   object \n",
      " 1   primary_cleaner.input.sulfate               5286 non-null   float64\n",
      " 2   primary_cleaner.input.depressant            5285 non-null   float64\n",
      " 3   primary_cleaner.input.feed_size             5290 non-null   float64\n",
      " 4   primary_cleaner.input.xanthate              5286 non-null   float64\n",
      " 5   primary_cleaner.state.floatbank8_a_air      5290 non-null   float64\n",
      " 6   primary_cleaner.state.floatbank8_a_level    5290 non-null   float64\n",
      " 7   primary_cleaner.state.floatbank8_b_air      5290 non-null   float64\n",
      " 8   primary_cleaner.state.floatbank8_b_level    5290 non-null   float64\n",
      " 9   primary_cleaner.state.floatbank8_c_air      5290 non-null   float64\n",
      " 10  primary_cleaner.state.floatbank8_c_level    5290 non-null   float64\n",
      " 11  primary_cleaner.state.floatbank8_d_air      5290 non-null   float64\n",
      " 12  primary_cleaner.state.floatbank8_d_level    5290 non-null   float64\n",
      " 13  rougher.input.feed_ag                       5290 non-null   float64\n",
      " 14  rougher.input.feed_pb                       5290 non-null   float64\n",
      " 15  rougher.input.feed_rate                     5287 non-null   float64\n",
      " 16  rougher.input.feed_size                     5289 non-null   float64\n",
      " 17  rougher.input.feed_sol                      5269 non-null   float64\n",
      " 18  rougher.input.feed_au                       5290 non-null   float64\n",
      " 19  rougher.input.floatbank10_sulfate           5285 non-null   float64\n",
      " 20  rougher.input.floatbank10_xanthate          5290 non-null   float64\n",
      " 21  rougher.input.floatbank11_sulfate           5282 non-null   float64\n",
      " 22  rougher.input.floatbank11_xanthate          5265 non-null   float64\n",
      " 23  rougher.state.floatbank10_a_air             5290 non-null   float64\n",
      " 24  rougher.state.floatbank10_a_level           5290 non-null   float64\n",
      " 25  rougher.state.floatbank10_b_air             5290 non-null   float64\n",
      " 26  rougher.state.floatbank10_b_level           5290 non-null   float64\n",
      " 27  rougher.state.floatbank10_c_air             5290 non-null   float64\n",
      " 28  rougher.state.floatbank10_c_level           5290 non-null   float64\n",
      " 29  rougher.state.floatbank10_d_air             5290 non-null   float64\n",
      " 30  rougher.state.floatbank10_d_level           5290 non-null   float64\n",
      " 31  rougher.state.floatbank10_e_air             5290 non-null   float64\n",
      " 32  rougher.state.floatbank10_e_level           5290 non-null   float64\n",
      " 33  rougher.state.floatbank10_f_air             5290 non-null   float64\n",
      " 34  rougher.state.floatbank10_f_level           5290 non-null   float64\n",
      " 35  secondary_cleaner.state.floatbank2_a_air    5287 non-null   float64\n",
      " 36  secondary_cleaner.state.floatbank2_a_level  5290 non-null   float64\n",
      " 37  secondary_cleaner.state.floatbank2_b_air    5288 non-null   float64\n",
      " 38  secondary_cleaner.state.floatbank2_b_level  5290 non-null   float64\n",
      " 39  secondary_cleaner.state.floatbank3_a_air    5281 non-null   float64\n",
      " 40  secondary_cleaner.state.floatbank3_a_level  5290 non-null   float64\n",
      " 41  secondary_cleaner.state.floatbank3_b_air    5290 non-null   float64\n",
      " 42  secondary_cleaner.state.floatbank3_b_level  5290 non-null   float64\n",
      " 43  secondary_cleaner.state.floatbank4_a_air    5290 non-null   float64\n",
      " 44  secondary_cleaner.state.floatbank4_a_level  5290 non-null   float64\n",
      " 45  secondary_cleaner.state.floatbank4_b_air    5290 non-null   float64\n",
      " 46  secondary_cleaner.state.floatbank4_b_level  5290 non-null   float64\n",
      " 47  secondary_cleaner.state.floatbank5_a_air    5290 non-null   float64\n",
      " 48  secondary_cleaner.state.floatbank5_a_level  5290 non-null   float64\n",
      " 49  secondary_cleaner.state.floatbank5_b_air    5290 non-null   float64\n",
      " 50  secondary_cleaner.state.floatbank5_b_level  5290 non-null   float64\n",
      " 51  secondary_cleaner.state.floatbank6_a_air    5290 non-null   float64\n",
      " 52  secondary_cleaner.state.floatbank6_a_level  5290 non-null   float64\n",
      "dtypes: float64(52), object(1)\n",
      "memory usage: 2.1+ MB\n"
     ]
    },
    {
     "data": {
      "text/plain": [
       "None"
      ]
     },
     "metadata": {},
     "output_type": "display_data"
    },
    {
     "data": {
      "text/plain": [
       "'===================================================================================================='"
      ]
     },
     "metadata": {},
     "output_type": "display_data"
    },
    {
     "data": {
      "text/plain": [
       "Index(['date', 'primary_cleaner.input.sulfate',\n",
       "       'primary_cleaner.input.depressant', 'primary_cleaner.input.feed_size',\n",
       "       'primary_cleaner.input.xanthate',\n",
       "       'primary_cleaner.state.floatbank8_a_air',\n",
       "       'primary_cleaner.state.floatbank8_a_level',\n",
       "       'primary_cleaner.state.floatbank8_b_air',\n",
       "       'primary_cleaner.state.floatbank8_b_level',\n",
       "       'primary_cleaner.state.floatbank8_c_air',\n",
       "       'primary_cleaner.state.floatbank8_c_level',\n",
       "       'primary_cleaner.state.floatbank8_d_air',\n",
       "       'primary_cleaner.state.floatbank8_d_level', 'rougher.input.feed_ag',\n",
       "       'rougher.input.feed_pb', 'rougher.input.feed_rate',\n",
       "       'rougher.input.feed_size', 'rougher.input.feed_sol',\n",
       "       'rougher.input.feed_au', 'rougher.input.floatbank10_sulfate',\n",
       "       'rougher.input.floatbank10_xanthate',\n",
       "       'rougher.input.floatbank11_sulfate',\n",
       "       'rougher.input.floatbank11_xanthate', 'rougher.state.floatbank10_a_air',\n",
       "       'rougher.state.floatbank10_a_level', 'rougher.state.floatbank10_b_air',\n",
       "       'rougher.state.floatbank10_b_level', 'rougher.state.floatbank10_c_air',\n",
       "       'rougher.state.floatbank10_c_level', 'rougher.state.floatbank10_d_air',\n",
       "       'rougher.state.floatbank10_d_level', 'rougher.state.floatbank10_e_air',\n",
       "       'rougher.state.floatbank10_e_level', 'rougher.state.floatbank10_f_air',\n",
       "       'rougher.state.floatbank10_f_level',\n",
       "       'secondary_cleaner.state.floatbank2_a_air',\n",
       "       'secondary_cleaner.state.floatbank2_a_level',\n",
       "       'secondary_cleaner.state.floatbank2_b_air',\n",
       "       'secondary_cleaner.state.floatbank2_b_level',\n",
       "       'secondary_cleaner.state.floatbank3_a_air',\n",
       "       'secondary_cleaner.state.floatbank3_a_level',\n",
       "       'secondary_cleaner.state.floatbank3_b_air',\n",
       "       'secondary_cleaner.state.floatbank3_b_level',\n",
       "       'secondary_cleaner.state.floatbank4_a_air',\n",
       "       'secondary_cleaner.state.floatbank4_a_level',\n",
       "       'secondary_cleaner.state.floatbank4_b_air',\n",
       "       'secondary_cleaner.state.floatbank4_b_level',\n",
       "       'secondary_cleaner.state.floatbank5_a_air',\n",
       "       'secondary_cleaner.state.floatbank5_a_level',\n",
       "       'secondary_cleaner.state.floatbank5_b_air',\n",
       "       'secondary_cleaner.state.floatbank5_b_level',\n",
       "       'secondary_cleaner.state.floatbank6_a_air',\n",
       "       'secondary_cleaner.state.floatbank6_a_level'],\n",
       "      dtype='object')"
      ]
     },
     "metadata": {},
     "output_type": "display_data"
    },
    {
     "data": {
      "text/plain": [
       "'===================================================================================================='"
      ]
     },
     "metadata": {},
     "output_type": "display_data"
    },
    {
     "data": {
      "text/html": [
       "<div>\n",
       "<style scoped>\n",
       "    .dataframe tbody tr th:only-of-type {\n",
       "        vertical-align: middle;\n",
       "    }\n",
       "\n",
       "    .dataframe tbody tr th {\n",
       "        vertical-align: top;\n",
       "    }\n",
       "\n",
       "    .dataframe thead th {\n",
       "        text-align: right;\n",
       "    }\n",
       "</style>\n",
       "<table border=\"1\" class=\"dataframe\">\n",
       "  <thead>\n",
       "    <tr style=\"text-align: right;\">\n",
       "      <th></th>\n",
       "      <th>primary_cleaner.input.sulfate</th>\n",
       "      <th>primary_cleaner.input.depressant</th>\n",
       "      <th>primary_cleaner.input.feed_size</th>\n",
       "      <th>primary_cleaner.input.xanthate</th>\n",
       "      <th>primary_cleaner.state.floatbank8_a_air</th>\n",
       "      <th>primary_cleaner.state.floatbank8_a_level</th>\n",
       "      <th>primary_cleaner.state.floatbank8_b_air</th>\n",
       "      <th>primary_cleaner.state.floatbank8_b_level</th>\n",
       "      <th>primary_cleaner.state.floatbank8_c_air</th>\n",
       "      <th>primary_cleaner.state.floatbank8_c_level</th>\n",
       "      <th>...</th>\n",
       "      <th>secondary_cleaner.state.floatbank4_a_air</th>\n",
       "      <th>secondary_cleaner.state.floatbank4_a_level</th>\n",
       "      <th>secondary_cleaner.state.floatbank4_b_air</th>\n",
       "      <th>secondary_cleaner.state.floatbank4_b_level</th>\n",
       "      <th>secondary_cleaner.state.floatbank5_a_air</th>\n",
       "      <th>secondary_cleaner.state.floatbank5_a_level</th>\n",
       "      <th>secondary_cleaner.state.floatbank5_b_air</th>\n",
       "      <th>secondary_cleaner.state.floatbank5_b_level</th>\n",
       "      <th>secondary_cleaner.state.floatbank6_a_air</th>\n",
       "      <th>secondary_cleaner.state.floatbank6_a_level</th>\n",
       "    </tr>\n",
       "  </thead>\n",
       "  <tbody>\n",
       "    <tr>\n",
       "      <th>count</th>\n",
       "      <td>5286.000000</td>\n",
       "      <td>5285.000000</td>\n",
       "      <td>5290.000000</td>\n",
       "      <td>5286.000000</td>\n",
       "      <td>5.290000e+03</td>\n",
       "      <td>5290.000000</td>\n",
       "      <td>5.290000e+03</td>\n",
       "      <td>5290.000000</td>\n",
       "      <td>5.290000e+03</td>\n",
       "      <td>5290.000000</td>\n",
       "      <td>...</td>\n",
       "      <td>5.290000e+03</td>\n",
       "      <td>5290.000000</td>\n",
       "      <td>5.290000e+03</td>\n",
       "      <td>5290.000000</td>\n",
       "      <td>5290.000000</td>\n",
       "      <td>5290.000000</td>\n",
       "      <td>5290.000000</td>\n",
       "      <td>5290.000000</td>\n",
       "      <td>5290.000000</td>\n",
       "      <td>5290.000000</td>\n",
       "    </tr>\n",
       "    <tr>\n",
       "      <th>mean</th>\n",
       "      <td>174.839652</td>\n",
       "      <td>8.683596</td>\n",
       "      <td>7.266339</td>\n",
       "      <td>1.383803</td>\n",
       "      <td>1.539494e+03</td>\n",
       "      <td>-497.665883</td>\n",
       "      <td>1.545174e+03</td>\n",
       "      <td>-500.273098</td>\n",
       "      <td>1.527272e+03</td>\n",
       "      <td>-498.330680</td>\n",
       "      <td>...</td>\n",
       "      <td>1.632007e+01</td>\n",
       "      <td>-505.144570</td>\n",
       "      <td>1.373544e+01</td>\n",
       "      <td>-463.349858</td>\n",
       "      <td>12.804186</td>\n",
       "      <td>-501.329122</td>\n",
       "      <td>9.881145</td>\n",
       "      <td>-495.663398</td>\n",
       "      <td>17.304935</td>\n",
       "      <td>-501.793193</td>\n",
       "    </tr>\n",
       "    <tr>\n",
       "      <th>std</th>\n",
       "      <td>43.027080</td>\n",
       "      <td>3.072050</td>\n",
       "      <td>0.610219</td>\n",
       "      <td>0.643474</td>\n",
       "      <td>1.167979e+02</td>\n",
       "      <td>19.952431</td>\n",
       "      <td>1.222246e+02</td>\n",
       "      <td>32.968307</td>\n",
       "      <td>1.225380e+02</td>\n",
       "      <td>21.964876</td>\n",
       "      <td>...</td>\n",
       "      <td>3.493583e+00</td>\n",
       "      <td>31.427337</td>\n",
       "      <td>3.430484e+00</td>\n",
       "      <td>86.189107</td>\n",
       "      <td>3.026591</td>\n",
       "      <td>17.951495</td>\n",
       "      <td>2.868205</td>\n",
       "      <td>34.535007</td>\n",
       "      <td>4.536544</td>\n",
       "      <td>39.044215</td>\n",
       "    </tr>\n",
       "    <tr>\n",
       "      <th>min</th>\n",
       "      <td>2.566156</td>\n",
       "      <td>0.003839</td>\n",
       "      <td>5.650000</td>\n",
       "      <td>0.004984</td>\n",
       "      <td>5.445860e-32</td>\n",
       "      <td>-795.316337</td>\n",
       "      <td>6.647490e-32</td>\n",
       "      <td>-799.997015</td>\n",
       "      <td>4.033736e-32</td>\n",
       "      <td>-799.960571</td>\n",
       "      <td>...</td>\n",
       "      <td>1.079872e-16</td>\n",
       "      <td>-799.798523</td>\n",
       "      <td>2.489718e-17</td>\n",
       "      <td>-800.836914</td>\n",
       "      <td>0.069227</td>\n",
       "      <td>-797.323986</td>\n",
       "      <td>0.528083</td>\n",
       "      <td>-800.220337</td>\n",
       "      <td>-0.079426</td>\n",
       "      <td>-809.741464</td>\n",
       "    </tr>\n",
       "    <tr>\n",
       "      <th>25%</th>\n",
       "      <td>147.121401</td>\n",
       "      <td>6.489555</td>\n",
       "      <td>6.890000</td>\n",
       "      <td>0.907623</td>\n",
       "      <td>1.498936e+03</td>\n",
       "      <td>-500.357298</td>\n",
       "      <td>1.498971e+03</td>\n",
       "      <td>-500.703002</td>\n",
       "      <td>1.473230e+03</td>\n",
       "      <td>-501.018117</td>\n",
       "      <td>...</td>\n",
       "      <td>1.403618e+01</td>\n",
       "      <td>-500.868258</td>\n",
       "      <td>1.202862e+01</td>\n",
       "      <td>-500.323028</td>\n",
       "      <td>10.914838</td>\n",
       "      <td>-500.726841</td>\n",
       "      <td>8.036719</td>\n",
       "      <td>-500.194668</td>\n",
       "      <td>13.997317</td>\n",
       "      <td>-500.690984</td>\n",
       "    </tr>\n",
       "    <tr>\n",
       "      <th>50%</th>\n",
       "      <td>177.828489</td>\n",
       "      <td>8.052207</td>\n",
       "      <td>7.250000</td>\n",
       "      <td>1.197610</td>\n",
       "      <td>1.585129e+03</td>\n",
       "      <td>-499.969164</td>\n",
       "      <td>1.595622e+03</td>\n",
       "      <td>-500.028514</td>\n",
       "      <td>1.549595e+03</td>\n",
       "      <td>-500.017711</td>\n",
       "      <td>...</td>\n",
       "      <td>1.700847e+01</td>\n",
       "      <td>-500.115727</td>\n",
       "      <td>1.496486e+01</td>\n",
       "      <td>-499.576513</td>\n",
       "      <td>12.954182</td>\n",
       "      <td>-499.990332</td>\n",
       "      <td>10.004301</td>\n",
       "      <td>-499.990535</td>\n",
       "      <td>16.014935</td>\n",
       "      <td>-500.007126</td>\n",
       "    </tr>\n",
       "    <tr>\n",
       "      <th>75%</th>\n",
       "      <td>208.125438</td>\n",
       "      <td>10.027764</td>\n",
       "      <td>7.600000</td>\n",
       "      <td>1.797819</td>\n",
       "      <td>1.602077e+03</td>\n",
       "      <td>-499.568951</td>\n",
       "      <td>1.602324e+03</td>\n",
       "      <td>-499.293257</td>\n",
       "      <td>1.601144e+03</td>\n",
       "      <td>-498.994130</td>\n",
       "      <td>...</td>\n",
       "      <td>1.803862e+01</td>\n",
       "      <td>-499.404224</td>\n",
       "      <td>1.596213e+01</td>\n",
       "      <td>-400.933805</td>\n",
       "      <td>15.097528</td>\n",
       "      <td>-499.283191</td>\n",
       "      <td>11.997467</td>\n",
       "      <td>-499.719913</td>\n",
       "      <td>21.020013</td>\n",
       "      <td>-499.373018</td>\n",
       "    </tr>\n",
       "    <tr>\n",
       "      <th>max</th>\n",
       "      <td>265.983123</td>\n",
       "      <td>40.000000</td>\n",
       "      <td>15.500000</td>\n",
       "      <td>4.102454</td>\n",
       "      <td>2.103104e+03</td>\n",
       "      <td>-57.195404</td>\n",
       "      <td>1.813084e+03</td>\n",
       "      <td>-142.527229</td>\n",
       "      <td>1.715054e+03</td>\n",
       "      <td>-150.937035</td>\n",
       "      <td>...</td>\n",
       "      <td>3.005180e+01</td>\n",
       "      <td>-401.565212</td>\n",
       "      <td>3.126971e+01</td>\n",
       "      <td>-6.506986</td>\n",
       "      <td>25.258848</td>\n",
       "      <td>-244.483566</td>\n",
       "      <td>14.086866</td>\n",
       "      <td>-137.740004</td>\n",
       "      <td>26.705889</td>\n",
       "      <td>-123.307487</td>\n",
       "    </tr>\n",
       "  </tbody>\n",
       "</table>\n",
       "<p>8 rows × 52 columns</p>\n",
       "</div>"
      ],
      "text/plain": [
       "       primary_cleaner.input.sulfate  primary_cleaner.input.depressant  \\\n",
       "count                    5286.000000                       5285.000000   \n",
       "mean                      174.839652                          8.683596   \n",
       "std                        43.027080                          3.072050   \n",
       "min                         2.566156                          0.003839   \n",
       "25%                       147.121401                          6.489555   \n",
       "50%                       177.828489                          8.052207   \n",
       "75%                       208.125438                         10.027764   \n",
       "max                       265.983123                         40.000000   \n",
       "\n",
       "       primary_cleaner.input.feed_size  primary_cleaner.input.xanthate  \\\n",
       "count                      5290.000000                     5286.000000   \n",
       "mean                          7.266339                        1.383803   \n",
       "std                           0.610219                        0.643474   \n",
       "min                           5.650000                        0.004984   \n",
       "25%                           6.890000                        0.907623   \n",
       "50%                           7.250000                        1.197610   \n",
       "75%                           7.600000                        1.797819   \n",
       "max                          15.500000                        4.102454   \n",
       "\n",
       "       primary_cleaner.state.floatbank8_a_air  \\\n",
       "count                            5.290000e+03   \n",
       "mean                             1.539494e+03   \n",
       "std                              1.167979e+02   \n",
       "min                              5.445860e-32   \n",
       "25%                              1.498936e+03   \n",
       "50%                              1.585129e+03   \n",
       "75%                              1.602077e+03   \n",
       "max                              2.103104e+03   \n",
       "\n",
       "       primary_cleaner.state.floatbank8_a_level  \\\n",
       "count                               5290.000000   \n",
       "mean                                -497.665883   \n",
       "std                                   19.952431   \n",
       "min                                 -795.316337   \n",
       "25%                                 -500.357298   \n",
       "50%                                 -499.969164   \n",
       "75%                                 -499.568951   \n",
       "max                                  -57.195404   \n",
       "\n",
       "       primary_cleaner.state.floatbank8_b_air  \\\n",
       "count                            5.290000e+03   \n",
       "mean                             1.545174e+03   \n",
       "std                              1.222246e+02   \n",
       "min                              6.647490e-32   \n",
       "25%                              1.498971e+03   \n",
       "50%                              1.595622e+03   \n",
       "75%                              1.602324e+03   \n",
       "max                              1.813084e+03   \n",
       "\n",
       "       primary_cleaner.state.floatbank8_b_level  \\\n",
       "count                               5290.000000   \n",
       "mean                                -500.273098   \n",
       "std                                   32.968307   \n",
       "min                                 -799.997015   \n",
       "25%                                 -500.703002   \n",
       "50%                                 -500.028514   \n",
       "75%                                 -499.293257   \n",
       "max                                 -142.527229   \n",
       "\n",
       "       primary_cleaner.state.floatbank8_c_air  \\\n",
       "count                            5.290000e+03   \n",
       "mean                             1.527272e+03   \n",
       "std                              1.225380e+02   \n",
       "min                              4.033736e-32   \n",
       "25%                              1.473230e+03   \n",
       "50%                              1.549595e+03   \n",
       "75%                              1.601144e+03   \n",
       "max                              1.715054e+03   \n",
       "\n",
       "       primary_cleaner.state.floatbank8_c_level  ...  \\\n",
       "count                               5290.000000  ...   \n",
       "mean                                -498.330680  ...   \n",
       "std                                   21.964876  ...   \n",
       "min                                 -799.960571  ...   \n",
       "25%                                 -501.018117  ...   \n",
       "50%                                 -500.017711  ...   \n",
       "75%                                 -498.994130  ...   \n",
       "max                                 -150.937035  ...   \n",
       "\n",
       "       secondary_cleaner.state.floatbank4_a_air  \\\n",
       "count                              5.290000e+03   \n",
       "mean                               1.632007e+01   \n",
       "std                                3.493583e+00   \n",
       "min                                1.079872e-16   \n",
       "25%                                1.403618e+01   \n",
       "50%                                1.700847e+01   \n",
       "75%                                1.803862e+01   \n",
       "max                                3.005180e+01   \n",
       "\n",
       "       secondary_cleaner.state.floatbank4_a_level  \\\n",
       "count                                 5290.000000   \n",
       "mean                                  -505.144570   \n",
       "std                                     31.427337   \n",
       "min                                   -799.798523   \n",
       "25%                                   -500.868258   \n",
       "50%                                   -500.115727   \n",
       "75%                                   -499.404224   \n",
       "max                                   -401.565212   \n",
       "\n",
       "       secondary_cleaner.state.floatbank4_b_air  \\\n",
       "count                              5.290000e+03   \n",
       "mean                               1.373544e+01   \n",
       "std                                3.430484e+00   \n",
       "min                                2.489718e-17   \n",
       "25%                                1.202862e+01   \n",
       "50%                                1.496486e+01   \n",
       "75%                                1.596213e+01   \n",
       "max                                3.126971e+01   \n",
       "\n",
       "       secondary_cleaner.state.floatbank4_b_level  \\\n",
       "count                                 5290.000000   \n",
       "mean                                  -463.349858   \n",
       "std                                     86.189107   \n",
       "min                                   -800.836914   \n",
       "25%                                   -500.323028   \n",
       "50%                                   -499.576513   \n",
       "75%                                   -400.933805   \n",
       "max                                     -6.506986   \n",
       "\n",
       "       secondary_cleaner.state.floatbank5_a_air  \\\n",
       "count                               5290.000000   \n",
       "mean                                  12.804186   \n",
       "std                                    3.026591   \n",
       "min                                    0.069227   \n",
       "25%                                   10.914838   \n",
       "50%                                   12.954182   \n",
       "75%                                   15.097528   \n",
       "max                                   25.258848   \n",
       "\n",
       "       secondary_cleaner.state.floatbank5_a_level  \\\n",
       "count                                 5290.000000   \n",
       "mean                                  -501.329122   \n",
       "std                                     17.951495   \n",
       "min                                   -797.323986   \n",
       "25%                                   -500.726841   \n",
       "50%                                   -499.990332   \n",
       "75%                                   -499.283191   \n",
       "max                                   -244.483566   \n",
       "\n",
       "       secondary_cleaner.state.floatbank5_b_air  \\\n",
       "count                               5290.000000   \n",
       "mean                                   9.881145   \n",
       "std                                    2.868205   \n",
       "min                                    0.528083   \n",
       "25%                                    8.036719   \n",
       "50%                                   10.004301   \n",
       "75%                                   11.997467   \n",
       "max                                   14.086866   \n",
       "\n",
       "       secondary_cleaner.state.floatbank5_b_level  \\\n",
       "count                                 5290.000000   \n",
       "mean                                  -495.663398   \n",
       "std                                     34.535007   \n",
       "min                                   -800.220337   \n",
       "25%                                   -500.194668   \n",
       "50%                                   -499.990535   \n",
       "75%                                   -499.719913   \n",
       "max                                   -137.740004   \n",
       "\n",
       "       secondary_cleaner.state.floatbank6_a_air  \\\n",
       "count                               5290.000000   \n",
       "mean                                  17.304935   \n",
       "std                                    4.536544   \n",
       "min                                   -0.079426   \n",
       "25%                                   13.997317   \n",
       "50%                                   16.014935   \n",
       "75%                                   21.020013   \n",
       "max                                   26.705889   \n",
       "\n",
       "       secondary_cleaner.state.floatbank6_a_level  \n",
       "count                                 5290.000000  \n",
       "mean                                  -501.793193  \n",
       "std                                     39.044215  \n",
       "min                                   -809.741464  \n",
       "25%                                   -500.690984  \n",
       "50%                                   -500.007126  \n",
       "75%                                   -499.373018  \n",
       "max                                   -123.307487  \n",
       "\n",
       "[8 rows x 52 columns]"
      ]
     },
     "metadata": {},
     "output_type": "display_data"
    },
    {
     "data": {
      "text/plain": [
       "'===================================================================================================='"
      ]
     },
     "metadata": {},
     "output_type": "display_data"
    },
    {
     "data": {
      "text/plain": [
       "date                                           0\n",
       "primary_cleaner.input.sulfate                  4\n",
       "primary_cleaner.input.depressant               5\n",
       "primary_cleaner.input.feed_size                0\n",
       "primary_cleaner.input.xanthate                 4\n",
       "primary_cleaner.state.floatbank8_a_air         0\n",
       "primary_cleaner.state.floatbank8_a_level       0\n",
       "primary_cleaner.state.floatbank8_b_air         0\n",
       "primary_cleaner.state.floatbank8_b_level       0\n",
       "primary_cleaner.state.floatbank8_c_air         0\n",
       "primary_cleaner.state.floatbank8_c_level       0\n",
       "primary_cleaner.state.floatbank8_d_air         0\n",
       "primary_cleaner.state.floatbank8_d_level       0\n",
       "rougher.input.feed_ag                          0\n",
       "rougher.input.feed_pb                          0\n",
       "rougher.input.feed_rate                        3\n",
       "rougher.input.feed_size                        1\n",
       "rougher.input.feed_sol                        21\n",
       "rougher.input.feed_au                          0\n",
       "rougher.input.floatbank10_sulfate              5\n",
       "rougher.input.floatbank10_xanthate             0\n",
       "rougher.input.floatbank11_sulfate              8\n",
       "rougher.input.floatbank11_xanthate            25\n",
       "rougher.state.floatbank10_a_air                0\n",
       "rougher.state.floatbank10_a_level              0\n",
       "rougher.state.floatbank10_b_air                0\n",
       "rougher.state.floatbank10_b_level              0\n",
       "rougher.state.floatbank10_c_air                0\n",
       "rougher.state.floatbank10_c_level              0\n",
       "rougher.state.floatbank10_d_air                0\n",
       "rougher.state.floatbank10_d_level              0\n",
       "rougher.state.floatbank10_e_air                0\n",
       "rougher.state.floatbank10_e_level              0\n",
       "rougher.state.floatbank10_f_air                0\n",
       "rougher.state.floatbank10_f_level              0\n",
       "secondary_cleaner.state.floatbank2_a_air       3\n",
       "secondary_cleaner.state.floatbank2_a_level     0\n",
       "secondary_cleaner.state.floatbank2_b_air       2\n",
       "secondary_cleaner.state.floatbank2_b_level     0\n",
       "secondary_cleaner.state.floatbank3_a_air       9\n",
       "secondary_cleaner.state.floatbank3_a_level     0\n",
       "secondary_cleaner.state.floatbank3_b_air       0\n",
       "secondary_cleaner.state.floatbank3_b_level     0\n",
       "secondary_cleaner.state.floatbank4_a_air       0\n",
       "secondary_cleaner.state.floatbank4_a_level     0\n",
       "secondary_cleaner.state.floatbank4_b_air       0\n",
       "secondary_cleaner.state.floatbank4_b_level     0\n",
       "secondary_cleaner.state.floatbank5_a_air       0\n",
       "secondary_cleaner.state.floatbank5_a_level     0\n",
       "secondary_cleaner.state.floatbank5_b_air       0\n",
       "secondary_cleaner.state.floatbank5_b_level     0\n",
       "secondary_cleaner.state.floatbank6_a_air       0\n",
       "secondary_cleaner.state.floatbank6_a_level     0\n",
       "dtype: int64"
      ]
     },
     "metadata": {},
     "output_type": "display_data"
    },
    {
     "data": {
      "text/plain": [
       "'===================================================================================================='"
      ]
     },
     "metadata": {},
     "output_type": "display_data"
    },
    {
     "data": {
      "text/html": [
       "<div>\n",
       "<style scoped>\n",
       "    .dataframe tbody tr th:only-of-type {\n",
       "        vertical-align: middle;\n",
       "    }\n",
       "\n",
       "    .dataframe tbody tr th {\n",
       "        vertical-align: top;\n",
       "    }\n",
       "\n",
       "    .dataframe thead th {\n",
       "        text-align: right;\n",
       "    }\n",
       "</style>\n",
       "<table border=\"1\" class=\"dataframe\">\n",
       "  <thead>\n",
       "    <tr style=\"text-align: right;\">\n",
       "      <th></th>\n",
       "      <th>primary_cleaner.input.sulfate</th>\n",
       "      <th>primary_cleaner.input.depressant</th>\n",
       "      <th>primary_cleaner.input.feed_size</th>\n",
       "      <th>primary_cleaner.input.xanthate</th>\n",
       "      <th>primary_cleaner.state.floatbank8_a_air</th>\n",
       "      <th>primary_cleaner.state.floatbank8_a_level</th>\n",
       "      <th>primary_cleaner.state.floatbank8_b_air</th>\n",
       "      <th>primary_cleaner.state.floatbank8_b_level</th>\n",
       "      <th>primary_cleaner.state.floatbank8_c_air</th>\n",
       "      <th>primary_cleaner.state.floatbank8_c_level</th>\n",
       "      <th>...</th>\n",
       "      <th>secondary_cleaner.state.floatbank4_a_air</th>\n",
       "      <th>secondary_cleaner.state.floatbank4_a_level</th>\n",
       "      <th>secondary_cleaner.state.floatbank4_b_air</th>\n",
       "      <th>secondary_cleaner.state.floatbank4_b_level</th>\n",
       "      <th>secondary_cleaner.state.floatbank5_a_air</th>\n",
       "      <th>secondary_cleaner.state.floatbank5_a_level</th>\n",
       "      <th>secondary_cleaner.state.floatbank5_b_air</th>\n",
       "      <th>secondary_cleaner.state.floatbank5_b_level</th>\n",
       "      <th>secondary_cleaner.state.floatbank6_a_air</th>\n",
       "      <th>secondary_cleaner.state.floatbank6_a_level</th>\n",
       "    </tr>\n",
       "  </thead>\n",
       "  <tbody>\n",
       "    <tr>\n",
       "      <th>primary_cleaner.input.sulfate</th>\n",
       "      <td>1.000000</td>\n",
       "      <td>0.455718</td>\n",
       "      <td>0.114456</td>\n",
       "      <td>0.497568</td>\n",
       "      <td>0.102653</td>\n",
       "      <td>0.048032</td>\n",
       "      <td>0.075737</td>\n",
       "      <td>0.138949</td>\n",
       "      <td>0.024710</td>\n",
       "      <td>0.027697</td>\n",
       "      <td>...</td>\n",
       "      <td>0.305793</td>\n",
       "      <td>0.117976</td>\n",
       "      <td>0.348395</td>\n",
       "      <td>0.068693</td>\n",
       "      <td>0.093608</td>\n",
       "      <td>0.132193</td>\n",
       "      <td>0.156583</td>\n",
       "      <td>0.072618</td>\n",
       "      <td>-0.134499</td>\n",
       "      <td>0.033945</td>\n",
       "    </tr>\n",
       "    <tr>\n",
       "      <th>primary_cleaner.input.depressant</th>\n",
       "      <td>0.455718</td>\n",
       "      <td>1.000000</td>\n",
       "      <td>0.215703</td>\n",
       "      <td>0.150760</td>\n",
       "      <td>0.144443</td>\n",
       "      <td>0.242592</td>\n",
       "      <td>0.148658</td>\n",
       "      <td>0.201499</td>\n",
       "      <td>0.036655</td>\n",
       "      <td>0.207632</td>\n",
       "      <td>...</td>\n",
       "      <td>0.326090</td>\n",
       "      <td>0.117510</td>\n",
       "      <td>0.238618</td>\n",
       "      <td>-0.085583</td>\n",
       "      <td>-0.090184</td>\n",
       "      <td>0.009138</td>\n",
       "      <td>0.064209</td>\n",
       "      <td>0.002988</td>\n",
       "      <td>-0.198422</td>\n",
       "      <td>0.034654</td>\n",
       "    </tr>\n",
       "    <tr>\n",
       "      <th>primary_cleaner.input.feed_size</th>\n",
       "      <td>0.114456</td>\n",
       "      <td>0.215703</td>\n",
       "      <td>1.000000</td>\n",
       "      <td>-0.291792</td>\n",
       "      <td>-0.064628</td>\n",
       "      <td>0.082869</td>\n",
       "      <td>-0.063490</td>\n",
       "      <td>0.071470</td>\n",
       "      <td>-0.091542</td>\n",
       "      <td>0.066384</td>\n",
       "      <td>...</td>\n",
       "      <td>-0.148328</td>\n",
       "      <td>-0.121148</td>\n",
       "      <td>-0.173658</td>\n",
       "      <td>-0.137180</td>\n",
       "      <td>-0.192880</td>\n",
       "      <td>-0.059167</td>\n",
       "      <td>-0.214970</td>\n",
       "      <td>-0.054173</td>\n",
       "      <td>0.026930</td>\n",
       "      <td>-0.083021</td>\n",
       "    </tr>\n",
       "    <tr>\n",
       "      <th>primary_cleaner.input.xanthate</th>\n",
       "      <td>0.497568</td>\n",
       "      <td>0.150760</td>\n",
       "      <td>-0.291792</td>\n",
       "      <td>1.000000</td>\n",
       "      <td>0.209017</td>\n",
       "      <td>-0.059553</td>\n",
       "      <td>0.153527</td>\n",
       "      <td>0.016144</td>\n",
       "      <td>0.044194</td>\n",
       "      <td>-0.078742</td>\n",
       "      <td>...</td>\n",
       "      <td>0.313377</td>\n",
       "      <td>0.131178</td>\n",
       "      <td>0.360961</td>\n",
       "      <td>0.121575</td>\n",
       "      <td>0.059162</td>\n",
       "      <td>0.128636</td>\n",
       "      <td>0.077380</td>\n",
       "      <td>0.095508</td>\n",
       "      <td>-0.218155</td>\n",
       "      <td>0.080662</td>\n",
       "    </tr>\n",
       "    <tr>\n",
       "      <th>primary_cleaner.state.floatbank8_a_air</th>\n",
       "      <td>0.102653</td>\n",
       "      <td>0.144443</td>\n",
       "      <td>-0.064628</td>\n",
       "      <td>0.209017</td>\n",
       "      <td>1.000000</td>\n",
       "      <td>0.121274</td>\n",
       "      <td>0.968679</td>\n",
       "      <td>-0.018713</td>\n",
       "      <td>0.814992</td>\n",
       "      <td>0.114058</td>\n",
       "      <td>...</td>\n",
       "      <td>0.469180</td>\n",
       "      <td>0.005962</td>\n",
       "      <td>0.476742</td>\n",
       "      <td>-0.058593</td>\n",
       "      <td>0.408050</td>\n",
       "      <td>0.271547</td>\n",
       "      <td>0.465492</td>\n",
       "      <td>0.161509</td>\n",
       "      <td>0.345231</td>\n",
       "      <td>0.172154</td>\n",
       "    </tr>\n",
       "    <tr>\n",
       "      <th>primary_cleaner.state.floatbank8_a_level</th>\n",
       "      <td>0.048032</td>\n",
       "      <td>0.242592</td>\n",
       "      <td>0.082869</td>\n",
       "      <td>-0.059553</td>\n",
       "      <td>0.121274</td>\n",
       "      <td>1.000000</td>\n",
       "      <td>0.101975</td>\n",
       "      <td>0.417515</td>\n",
       "      <td>-0.018378</td>\n",
       "      <td>0.784061</td>\n",
       "      <td>...</td>\n",
       "      <td>0.171716</td>\n",
       "      <td>0.096500</td>\n",
       "      <td>0.084418</td>\n",
       "      <td>-0.005819</td>\n",
       "      <td>-0.036132</td>\n",
       "      <td>0.164220</td>\n",
       "      <td>-0.012665</td>\n",
       "      <td>0.091263</td>\n",
       "      <td>-0.107710</td>\n",
       "      <td>0.076271</td>\n",
       "    </tr>\n",
       "    <tr>\n",
       "      <th>primary_cleaner.state.floatbank8_b_air</th>\n",
       "      <td>0.075737</td>\n",
       "      <td>0.148658</td>\n",
       "      <td>-0.063490</td>\n",
       "      <td>0.153527</td>\n",
       "      <td>0.968679</td>\n",
       "      <td>0.101975</td>\n",
       "      <td>1.000000</td>\n",
       "      <td>0.010220</td>\n",
       "      <td>0.862946</td>\n",
       "      <td>0.101127</td>\n",
       "      <td>...</td>\n",
       "      <td>0.483741</td>\n",
       "      <td>0.023801</td>\n",
       "      <td>0.487327</td>\n",
       "      <td>-0.080058</td>\n",
       "      <td>0.415343</td>\n",
       "      <td>0.260220</td>\n",
       "      <td>0.499829</td>\n",
       "      <td>0.155978</td>\n",
       "      <td>0.389594</td>\n",
       "      <td>0.187429</td>\n",
       "    </tr>\n",
       "    <tr>\n",
       "      <th>primary_cleaner.state.floatbank8_b_level</th>\n",
       "      <td>0.138949</td>\n",
       "      <td>0.201499</td>\n",
       "      <td>0.071470</td>\n",
       "      <td>0.016144</td>\n",
       "      <td>-0.018713</td>\n",
       "      <td>0.417515</td>\n",
       "      <td>0.010220</td>\n",
       "      <td>1.000000</td>\n",
       "      <td>-0.029228</td>\n",
       "      <td>0.406721</td>\n",
       "      <td>...</td>\n",
       "      <td>0.078411</td>\n",
       "      <td>0.216342</td>\n",
       "      <td>0.054902</td>\n",
       "      <td>-0.038440</td>\n",
       "      <td>-0.009671</td>\n",
       "      <td>0.029409</td>\n",
       "      <td>0.012115</td>\n",
       "      <td>0.004864</td>\n",
       "      <td>-0.006694</td>\n",
       "      <td>0.012904</td>\n",
       "    </tr>\n",
       "    <tr>\n",
       "      <th>primary_cleaner.state.floatbank8_c_air</th>\n",
       "      <td>0.024710</td>\n",
       "      <td>0.036655</td>\n",
       "      <td>-0.091542</td>\n",
       "      <td>0.044194</td>\n",
       "      <td>0.814992</td>\n",
       "      <td>-0.018378</td>\n",
       "      <td>0.862946</td>\n",
       "      <td>-0.029228</td>\n",
       "      <td>1.000000</td>\n",
       "      <td>0.003322</td>\n",
       "      <td>...</td>\n",
       "      <td>0.366373</td>\n",
       "      <td>0.047373</td>\n",
       "      <td>0.396029</td>\n",
       "      <td>-0.031081</td>\n",
       "      <td>0.400765</td>\n",
       "      <td>0.239333</td>\n",
       "      <td>0.500353</td>\n",
       "      <td>0.117465</td>\n",
       "      <td>0.490672</td>\n",
       "      <td>0.169634</td>\n",
       "    </tr>\n",
       "    <tr>\n",
       "      <th>primary_cleaner.state.floatbank8_c_level</th>\n",
       "      <td>0.027697</td>\n",
       "      <td>0.207632</td>\n",
       "      <td>0.066384</td>\n",
       "      <td>-0.078742</td>\n",
       "      <td>0.114058</td>\n",
       "      <td>0.784061</td>\n",
       "      <td>0.101127</td>\n",
       "      <td>0.406721</td>\n",
       "      <td>0.003322</td>\n",
       "      <td>1.000000</td>\n",
       "      <td>...</td>\n",
       "      <td>0.151945</td>\n",
       "      <td>0.093293</td>\n",
       "      <td>0.071559</td>\n",
       "      <td>-0.013814</td>\n",
       "      <td>-0.018878</td>\n",
       "      <td>0.143313</td>\n",
       "      <td>-0.004169</td>\n",
       "      <td>0.061153</td>\n",
       "      <td>-0.087866</td>\n",
       "      <td>0.067955</td>\n",
       "    </tr>\n",
       "    <tr>\n",
       "      <th>primary_cleaner.state.floatbank8_d_air</th>\n",
       "      <td>0.095001</td>\n",
       "      <td>0.141651</td>\n",
       "      <td>-0.074156</td>\n",
       "      <td>0.174791</td>\n",
       "      <td>0.959166</td>\n",
       "      <td>0.110760</td>\n",
       "      <td>0.974342</td>\n",
       "      <td>0.015972</td>\n",
       "      <td>0.848010</td>\n",
       "      <td>0.113492</td>\n",
       "      <td>...</td>\n",
       "      <td>0.485859</td>\n",
       "      <td>0.022615</td>\n",
       "      <td>0.491643</td>\n",
       "      <td>-0.072571</td>\n",
       "      <td>0.412552</td>\n",
       "      <td>0.259882</td>\n",
       "      <td>0.492616</td>\n",
       "      <td>0.158148</td>\n",
       "      <td>0.378070</td>\n",
       "      <td>0.184031</td>\n",
       "    </tr>\n",
       "    <tr>\n",
       "      <th>primary_cleaner.state.floatbank8_d_level</th>\n",
       "      <td>-0.020533</td>\n",
       "      <td>0.082802</td>\n",
       "      <td>0.065808</td>\n",
       "      <td>-0.144240</td>\n",
       "      <td>0.061389</td>\n",
       "      <td>0.406960</td>\n",
       "      <td>0.059940</td>\n",
       "      <td>0.233257</td>\n",
       "      <td>0.013847</td>\n",
       "      <td>0.486463</td>\n",
       "      <td>...</td>\n",
       "      <td>0.053297</td>\n",
       "      <td>0.043851</td>\n",
       "      <td>0.001856</td>\n",
       "      <td>-0.017416</td>\n",
       "      <td>0.008748</td>\n",
       "      <td>0.078442</td>\n",
       "      <td>0.006287</td>\n",
       "      <td>0.006570</td>\n",
       "      <td>-0.036983</td>\n",
       "      <td>0.029999</td>\n",
       "    </tr>\n",
       "    <tr>\n",
       "      <th>rougher.input.feed_ag</th>\n",
       "      <td>0.359619</td>\n",
       "      <td>0.497866</td>\n",
       "      <td>0.338795</td>\n",
       "      <td>0.048319</td>\n",
       "      <td>0.252818</td>\n",
       "      <td>0.197111</td>\n",
       "      <td>0.250553</td>\n",
       "      <td>0.128053</td>\n",
       "      <td>0.149500</td>\n",
       "      <td>0.162198</td>\n",
       "      <td>...</td>\n",
       "      <td>0.167571</td>\n",
       "      <td>-0.069478</td>\n",
       "      <td>0.150561</td>\n",
       "      <td>-0.291577</td>\n",
       "      <td>-0.033441</td>\n",
       "      <td>-0.011144</td>\n",
       "      <td>-0.042389</td>\n",
       "      <td>0.039210</td>\n",
       "      <td>0.212922</td>\n",
       "      <td>-0.001060</td>\n",
       "    </tr>\n",
       "    <tr>\n",
       "      <th>rougher.input.feed_pb</th>\n",
       "      <td>0.428382</td>\n",
       "      <td>0.465961</td>\n",
       "      <td>0.000398</td>\n",
       "      <td>0.241138</td>\n",
       "      <td>0.064620</td>\n",
       "      <td>0.231743</td>\n",
       "      <td>0.054633</td>\n",
       "      <td>0.223188</td>\n",
       "      <td>-0.054736</td>\n",
       "      <td>0.176345</td>\n",
       "      <td>...</td>\n",
       "      <td>0.114111</td>\n",
       "      <td>-0.004391</td>\n",
       "      <td>0.138647</td>\n",
       "      <td>-0.206534</td>\n",
       "      <td>-0.068303</td>\n",
       "      <td>0.052358</td>\n",
       "      <td>-0.029590</td>\n",
       "      <td>0.077829</td>\n",
       "      <td>-0.125363</td>\n",
       "      <td>0.067297</td>\n",
       "    </tr>\n",
       "    <tr>\n",
       "      <th>rougher.input.feed_rate</th>\n",
       "      <td>0.464251</td>\n",
       "      <td>0.132437</td>\n",
       "      <td>0.020000</td>\n",
       "      <td>0.464682</td>\n",
       "      <td>-0.008505</td>\n",
       "      <td>-0.005975</td>\n",
       "      <td>-0.043674</td>\n",
       "      <td>0.032851</td>\n",
       "      <td>-0.103408</td>\n",
       "      <td>-0.002124</td>\n",
       "      <td>...</td>\n",
       "      <td>0.171692</td>\n",
       "      <td>0.127274</td>\n",
       "      <td>0.129663</td>\n",
       "      <td>0.358922</td>\n",
       "      <td>-0.137310</td>\n",
       "      <td>0.097025</td>\n",
       "      <td>-0.073347</td>\n",
       "      <td>0.013943</td>\n",
       "      <td>-0.414527</td>\n",
       "      <td>0.024289</td>\n",
       "    </tr>\n",
       "    <tr>\n",
       "      <th>rougher.input.feed_size</th>\n",
       "      <td>-0.009796</td>\n",
       "      <td>0.004431</td>\n",
       "      <td>-0.087331</td>\n",
       "      <td>0.195665</td>\n",
       "      <td>-0.073211</td>\n",
       "      <td>0.006147</td>\n",
       "      <td>-0.098451</td>\n",
       "      <td>-0.043032</td>\n",
       "      <td>-0.163889</td>\n",
       "      <td>0.003384</td>\n",
       "      <td>...</td>\n",
       "      <td>0.128550</td>\n",
       "      <td>0.063681</td>\n",
       "      <td>0.037702</td>\n",
       "      <td>0.325574</td>\n",
       "      <td>-0.116859</td>\n",
       "      <td>0.045213</td>\n",
       "      <td>-0.104374</td>\n",
       "      <td>-0.003561</td>\n",
       "      <td>-0.356120</td>\n",
       "      <td>0.007405</td>\n",
       "    </tr>\n",
       "    <tr>\n",
       "      <th>rougher.input.feed_sol</th>\n",
       "      <td>0.423859</td>\n",
       "      <td>0.169735</td>\n",
       "      <td>0.054595</td>\n",
       "      <td>0.370448</td>\n",
       "      <td>-0.060988</td>\n",
       "      <td>0.058229</td>\n",
       "      <td>-0.089733</td>\n",
       "      <td>0.043890</td>\n",
       "      <td>-0.160445</td>\n",
       "      <td>0.042156</td>\n",
       "      <td>...</td>\n",
       "      <td>0.150514</td>\n",
       "      <td>0.065642</td>\n",
       "      <td>0.085967</td>\n",
       "      <td>0.416526</td>\n",
       "      <td>-0.229209</td>\n",
       "      <td>0.089788</td>\n",
       "      <td>-0.174981</td>\n",
       "      <td>0.008899</td>\n",
       "      <td>-0.488305</td>\n",
       "      <td>0.038093</td>\n",
       "    </tr>\n",
       "    <tr>\n",
       "      <th>rougher.input.feed_au</th>\n",
       "      <td>0.437016</td>\n",
       "      <td>0.460965</td>\n",
       "      <td>0.238692</td>\n",
       "      <td>0.093609</td>\n",
       "      <td>0.218384</td>\n",
       "      <td>0.184980</td>\n",
       "      <td>0.243540</td>\n",
       "      <td>0.178838</td>\n",
       "      <td>0.168597</td>\n",
       "      <td>0.143132</td>\n",
       "      <td>...</td>\n",
       "      <td>0.165834</td>\n",
       "      <td>-0.039397</td>\n",
       "      <td>0.160088</td>\n",
       "      <td>-0.266889</td>\n",
       "      <td>-0.037379</td>\n",
       "      <td>0.016553</td>\n",
       "      <td>-0.015953</td>\n",
       "      <td>0.074743</td>\n",
       "      <td>0.191477</td>\n",
       "      <td>0.036998</td>\n",
       "    </tr>\n",
       "    <tr>\n",
       "      <th>rougher.input.floatbank10_sulfate</th>\n",
       "      <td>0.617768</td>\n",
       "      <td>0.240528</td>\n",
       "      <td>-0.187934</td>\n",
       "      <td>0.581118</td>\n",
       "      <td>0.039898</td>\n",
       "      <td>-0.068462</td>\n",
       "      <td>0.033192</td>\n",
       "      <td>0.022164</td>\n",
       "      <td>-0.021043</td>\n",
       "      <td>-0.079709</td>\n",
       "      <td>...</td>\n",
       "      <td>0.306461</td>\n",
       "      <td>0.163816</td>\n",
       "      <td>0.329987</td>\n",
       "      <td>0.298333</td>\n",
       "      <td>0.039912</td>\n",
       "      <td>0.085431</td>\n",
       "      <td>0.143205</td>\n",
       "      <td>0.058667</td>\n",
       "      <td>-0.314369</td>\n",
       "      <td>0.066272</td>\n",
       "    </tr>\n",
       "    <tr>\n",
       "      <th>rougher.input.floatbank10_xanthate</th>\n",
       "      <td>0.557307</td>\n",
       "      <td>0.347558</td>\n",
       "      <td>0.224360</td>\n",
       "      <td>0.350009</td>\n",
       "      <td>0.187693</td>\n",
       "      <td>0.110566</td>\n",
       "      <td>0.172360</td>\n",
       "      <td>0.067695</td>\n",
       "      <td>0.135009</td>\n",
       "      <td>0.082145</td>\n",
       "      <td>...</td>\n",
       "      <td>0.240843</td>\n",
       "      <td>0.070772</td>\n",
       "      <td>0.187300</td>\n",
       "      <td>0.163137</td>\n",
       "      <td>-0.141634</td>\n",
       "      <td>0.130590</td>\n",
       "      <td>-0.043725</td>\n",
       "      <td>0.081810</td>\n",
       "      <td>-0.112190</td>\n",
       "      <td>0.112981</td>\n",
       "    </tr>\n",
       "    <tr>\n",
       "      <th>rougher.input.floatbank11_sulfate</th>\n",
       "      <td>0.583022</td>\n",
       "      <td>0.208050</td>\n",
       "      <td>-0.236345</td>\n",
       "      <td>0.593851</td>\n",
       "      <td>0.057004</td>\n",
       "      <td>-0.077556</td>\n",
       "      <td>0.047620</td>\n",
       "      <td>0.000932</td>\n",
       "      <td>0.006816</td>\n",
       "      <td>-0.087809</td>\n",
       "      <td>...</td>\n",
       "      <td>0.283144</td>\n",
       "      <td>0.184944</td>\n",
       "      <td>0.306831</td>\n",
       "      <td>0.340335</td>\n",
       "      <td>0.066931</td>\n",
       "      <td>0.113906</td>\n",
       "      <td>0.164150</td>\n",
       "      <td>0.074344</td>\n",
       "      <td>-0.325954</td>\n",
       "      <td>0.082275</td>\n",
       "    </tr>\n",
       "    <tr>\n",
       "      <th>rougher.input.floatbank11_xanthate</th>\n",
       "      <td>0.527014</td>\n",
       "      <td>0.361123</td>\n",
       "      <td>0.185176</td>\n",
       "      <td>0.368205</td>\n",
       "      <td>0.209414</td>\n",
       "      <td>0.117493</td>\n",
       "      <td>0.190951</td>\n",
       "      <td>0.086555</td>\n",
       "      <td>0.151603</td>\n",
       "      <td>0.085452</td>\n",
       "      <td>...</td>\n",
       "      <td>0.226249</td>\n",
       "      <td>0.079953</td>\n",
       "      <td>0.160424</td>\n",
       "      <td>0.215856</td>\n",
       "      <td>-0.155575</td>\n",
       "      <td>0.141563</td>\n",
       "      <td>-0.046432</td>\n",
       "      <td>0.082836</td>\n",
       "      <td>-0.150245</td>\n",
       "      <td>0.129667</td>\n",
       "    </tr>\n",
       "    <tr>\n",
       "      <th>rougher.state.floatbank10_a_air</th>\n",
       "      <td>0.236898</td>\n",
       "      <td>0.422574</td>\n",
       "      <td>0.023678</td>\n",
       "      <td>0.402757</td>\n",
       "      <td>0.215473</td>\n",
       "      <td>0.387206</td>\n",
       "      <td>0.169211</td>\n",
       "      <td>0.207161</td>\n",
       "      <td>-0.087974</td>\n",
       "      <td>0.333690</td>\n",
       "      <td>...</td>\n",
       "      <td>0.296594</td>\n",
       "      <td>0.087591</td>\n",
       "      <td>0.239912</td>\n",
       "      <td>-0.123604</td>\n",
       "      <td>-0.043592</td>\n",
       "      <td>0.105358</td>\n",
       "      <td>-0.078618</td>\n",
       "      <td>0.072453</td>\n",
       "      <td>-0.334347</td>\n",
       "      <td>0.046717</td>\n",
       "    </tr>\n",
       "    <tr>\n",
       "      <th>rougher.state.floatbank10_a_level</th>\n",
       "      <td>0.222913</td>\n",
       "      <td>0.133122</td>\n",
       "      <td>-0.236632</td>\n",
       "      <td>0.424760</td>\n",
       "      <td>-0.033903</td>\n",
       "      <td>0.159607</td>\n",
       "      <td>-0.073373</td>\n",
       "      <td>0.076225</td>\n",
       "      <td>-0.222135</td>\n",
       "      <td>0.131849</td>\n",
       "      <td>...</td>\n",
       "      <td>0.207514</td>\n",
       "      <td>0.131345</td>\n",
       "      <td>0.116369</td>\n",
       "      <td>0.261028</td>\n",
       "      <td>-0.130661</td>\n",
       "      <td>0.119156</td>\n",
       "      <td>0.023681</td>\n",
       "      <td>0.012086</td>\n",
       "      <td>-0.561842</td>\n",
       "      <td>0.087695</td>\n",
       "    </tr>\n",
       "    <tr>\n",
       "      <th>rougher.state.floatbank10_b_air</th>\n",
       "      <td>-0.230670</td>\n",
       "      <td>-0.355519</td>\n",
       "      <td>0.044605</td>\n",
       "      <td>-0.387143</td>\n",
       "      <td>0.199338</td>\n",
       "      <td>-0.076365</td>\n",
       "      <td>0.230489</td>\n",
       "      <td>-0.014215</td>\n",
       "      <td>0.300457</td>\n",
       "      <td>-0.039398</td>\n",
       "      <td>...</td>\n",
       "      <td>-0.171947</td>\n",
       "      <td>0.009334</td>\n",
       "      <td>-0.099376</td>\n",
       "      <td>-0.213919</td>\n",
       "      <td>0.351196</td>\n",
       "      <td>0.116437</td>\n",
       "      <td>0.291708</td>\n",
       "      <td>0.078298</td>\n",
       "      <td>0.533462</td>\n",
       "      <td>0.022975</td>\n",
       "    </tr>\n",
       "    <tr>\n",
       "      <th>rougher.state.floatbank10_b_level</th>\n",
       "      <td>-0.047665</td>\n",
       "      <td>-0.112394</td>\n",
       "      <td>0.051614</td>\n",
       "      <td>-0.342816</td>\n",
       "      <td>0.291111</td>\n",
       "      <td>-0.037724</td>\n",
       "      <td>0.371841</td>\n",
       "      <td>0.020230</td>\n",
       "      <td>0.451746</td>\n",
       "      <td>-0.015591</td>\n",
       "      <td>...</td>\n",
       "      <td>0.067727</td>\n",
       "      <td>0.010268</td>\n",
       "      <td>0.105702</td>\n",
       "      <td>-0.213382</td>\n",
       "      <td>0.177808</td>\n",
       "      <td>0.089507</td>\n",
       "      <td>0.345947</td>\n",
       "      <td>0.058823</td>\n",
       "      <td>0.455330</td>\n",
       "      <td>0.034661</td>\n",
       "    </tr>\n",
       "    <tr>\n",
       "      <th>rougher.state.floatbank10_c_air</th>\n",
       "      <td>-0.247043</td>\n",
       "      <td>-0.366098</td>\n",
       "      <td>0.064617</td>\n",
       "      <td>-0.405743</td>\n",
       "      <td>0.216971</td>\n",
       "      <td>-0.129885</td>\n",
       "      <td>0.259523</td>\n",
       "      <td>-0.052763</td>\n",
       "      <td>0.360889</td>\n",
       "      <td>-0.089468</td>\n",
       "      <td>...</td>\n",
       "      <td>-0.168834</td>\n",
       "      <td>-0.010049</td>\n",
       "      <td>-0.100264</td>\n",
       "      <td>-0.229330</td>\n",
       "      <td>0.334076</td>\n",
       "      <td>0.092861</td>\n",
       "      <td>0.309043</td>\n",
       "      <td>0.070987</td>\n",
       "      <td>0.621525</td>\n",
       "      <td>0.018168</td>\n",
       "    </tr>\n",
       "    <tr>\n",
       "      <th>rougher.state.floatbank10_c_level</th>\n",
       "      <td>-0.051896</td>\n",
       "      <td>-0.102649</td>\n",
       "      <td>0.049608</td>\n",
       "      <td>-0.346091</td>\n",
       "      <td>0.285786</td>\n",
       "      <td>-0.043906</td>\n",
       "      <td>0.368792</td>\n",
       "      <td>0.007639</td>\n",
       "      <td>0.453606</td>\n",
       "      <td>-0.020945</td>\n",
       "      <td>...</td>\n",
       "      <td>0.068885</td>\n",
       "      <td>0.011038</td>\n",
       "      <td>0.104035</td>\n",
       "      <td>-0.217125</td>\n",
       "      <td>0.172000</td>\n",
       "      <td>0.078225</td>\n",
       "      <td>0.353681</td>\n",
       "      <td>0.054056</td>\n",
       "      <td>0.455477</td>\n",
       "      <td>0.031861</td>\n",
       "    </tr>\n",
       "    <tr>\n",
       "      <th>rougher.state.floatbank10_d_air</th>\n",
       "      <td>-0.247163</td>\n",
       "      <td>-0.346803</td>\n",
       "      <td>-0.009526</td>\n",
       "      <td>-0.392980</td>\n",
       "      <td>0.160151</td>\n",
       "      <td>-0.134939</td>\n",
       "      <td>0.203227</td>\n",
       "      <td>-0.015855</td>\n",
       "      <td>0.310832</td>\n",
       "      <td>-0.089773</td>\n",
       "      <td>...</td>\n",
       "      <td>-0.173221</td>\n",
       "      <td>0.025358</td>\n",
       "      <td>-0.084851</td>\n",
       "      <td>-0.262495</td>\n",
       "      <td>0.368140</td>\n",
       "      <td>0.060210</td>\n",
       "      <td>0.340406</td>\n",
       "      <td>0.045190</td>\n",
       "      <td>0.598880</td>\n",
       "      <td>0.008341</td>\n",
       "    </tr>\n",
       "    <tr>\n",
       "      <th>rougher.state.floatbank10_d_level</th>\n",
       "      <td>-0.016032</td>\n",
       "      <td>-0.079246</td>\n",
       "      <td>0.073623</td>\n",
       "      <td>-0.326506</td>\n",
       "      <td>0.245276</td>\n",
       "      <td>-0.071941</td>\n",
       "      <td>0.327134</td>\n",
       "      <td>0.005728</td>\n",
       "      <td>0.406637</td>\n",
       "      <td>-0.049447</td>\n",
       "      <td>...</td>\n",
       "      <td>0.072947</td>\n",
       "      <td>-0.013329</td>\n",
       "      <td>0.109479</td>\n",
       "      <td>-0.220828</td>\n",
       "      <td>0.148741</td>\n",
       "      <td>0.048372</td>\n",
       "      <td>0.332464</td>\n",
       "      <td>0.039969</td>\n",
       "      <td>0.430585</td>\n",
       "      <td>0.021169</td>\n",
       "    </tr>\n",
       "    <tr>\n",
       "      <th>rougher.state.floatbank10_e_air</th>\n",
       "      <td>-0.234958</td>\n",
       "      <td>-0.361011</td>\n",
       "      <td>-0.012558</td>\n",
       "      <td>-0.321572</td>\n",
       "      <td>0.347687</td>\n",
       "      <td>-0.098849</td>\n",
       "      <td>0.402047</td>\n",
       "      <td>-0.052321</td>\n",
       "      <td>0.452348</td>\n",
       "      <td>-0.067798</td>\n",
       "      <td>...</td>\n",
       "      <td>0.018780</td>\n",
       "      <td>-0.034684</td>\n",
       "      <td>0.067346</td>\n",
       "      <td>-0.169546</td>\n",
       "      <td>0.395027</td>\n",
       "      <td>0.087056</td>\n",
       "      <td>0.414665</td>\n",
       "      <td>0.084650</td>\n",
       "      <td>0.578157</td>\n",
       "      <td>0.040936</td>\n",
       "    </tr>\n",
       "    <tr>\n",
       "      <th>rougher.state.floatbank10_e_level</th>\n",
       "      <td>-0.120379</td>\n",
       "      <td>-0.129417</td>\n",
       "      <td>0.006890</td>\n",
       "      <td>-0.363457</td>\n",
       "      <td>0.280493</td>\n",
       "      <td>-0.072159</td>\n",
       "      <td>0.391511</td>\n",
       "      <td>0.002047</td>\n",
       "      <td>0.463951</td>\n",
       "      <td>-0.048384</td>\n",
       "      <td>...</td>\n",
       "      <td>0.150501</td>\n",
       "      <td>0.006505</td>\n",
       "      <td>0.168247</td>\n",
       "      <td>-0.214266</td>\n",
       "      <td>0.264139</td>\n",
       "      <td>0.050704</td>\n",
       "      <td>0.407902</td>\n",
       "      <td>0.048908</td>\n",
       "      <td>0.484825</td>\n",
       "      <td>0.056080</td>\n",
       "    </tr>\n",
       "    <tr>\n",
       "      <th>rougher.state.floatbank10_f_air</th>\n",
       "      <td>-0.250187</td>\n",
       "      <td>-0.376446</td>\n",
       "      <td>-0.129796</td>\n",
       "      <td>-0.290621</td>\n",
       "      <td>0.280753</td>\n",
       "      <td>-0.050940</td>\n",
       "      <td>0.344900</td>\n",
       "      <td>-0.007648</td>\n",
       "      <td>0.354735</td>\n",
       "      <td>-0.022972</td>\n",
       "      <td>...</td>\n",
       "      <td>0.043791</td>\n",
       "      <td>0.025162</td>\n",
       "      <td>0.084106</td>\n",
       "      <td>-0.112751</td>\n",
       "      <td>0.409527</td>\n",
       "      <td>0.085782</td>\n",
       "      <td>0.415871</td>\n",
       "      <td>0.074507</td>\n",
       "      <td>0.434982</td>\n",
       "      <td>0.053557</td>\n",
       "    </tr>\n",
       "    <tr>\n",
       "      <th>rougher.state.floatbank10_f_level</th>\n",
       "      <td>-0.063497</td>\n",
       "      <td>-0.110906</td>\n",
       "      <td>0.036627</td>\n",
       "      <td>-0.333947</td>\n",
       "      <td>0.289477</td>\n",
       "      <td>-0.042153</td>\n",
       "      <td>0.394670</td>\n",
       "      <td>0.013656</td>\n",
       "      <td>0.471963</td>\n",
       "      <td>-0.019199</td>\n",
       "      <td>...</td>\n",
       "      <td>0.168028</td>\n",
       "      <td>0.024309</td>\n",
       "      <td>0.188557</td>\n",
       "      <td>-0.210791</td>\n",
       "      <td>0.261930</td>\n",
       "      <td>0.066304</td>\n",
       "      <td>0.392998</td>\n",
       "      <td>0.056624</td>\n",
       "      <td>0.483501</td>\n",
       "      <td>0.064456</td>\n",
       "    </tr>\n",
       "    <tr>\n",
       "      <th>secondary_cleaner.state.floatbank2_a_air</th>\n",
       "      <td>0.051989</td>\n",
       "      <td>0.084117</td>\n",
       "      <td>-0.128933</td>\n",
       "      <td>-0.038919</td>\n",
       "      <td>0.258841</td>\n",
       "      <td>0.108262</td>\n",
       "      <td>0.326245</td>\n",
       "      <td>0.064037</td>\n",
       "      <td>0.277937</td>\n",
       "      <td>0.107395</td>\n",
       "      <td>...</td>\n",
       "      <td>0.394865</td>\n",
       "      <td>0.181556</td>\n",
       "      <td>0.375200</td>\n",
       "      <td>-0.006746</td>\n",
       "      <td>0.364384</td>\n",
       "      <td>0.161586</td>\n",
       "      <td>0.482872</td>\n",
       "      <td>0.088529</td>\n",
       "      <td>0.146489</td>\n",
       "      <td>0.127233</td>\n",
       "    </tr>\n",
       "    <tr>\n",
       "      <th>secondary_cleaner.state.floatbank2_a_level</th>\n",
       "      <td>-0.039145</td>\n",
       "      <td>-0.084408</td>\n",
       "      <td>0.044605</td>\n",
       "      <td>-0.162965</td>\n",
       "      <td>-0.059849</td>\n",
       "      <td>0.083484</td>\n",
       "      <td>-0.052484</td>\n",
       "      <td>0.006019</td>\n",
       "      <td>0.022228</td>\n",
       "      <td>0.075413</td>\n",
       "      <td>...</td>\n",
       "      <td>-0.076507</td>\n",
       "      <td>0.029511</td>\n",
       "      <td>-0.097089</td>\n",
       "      <td>-0.016680</td>\n",
       "      <td>-0.013389</td>\n",
       "      <td>0.077666</td>\n",
       "      <td>0.001987</td>\n",
       "      <td>0.010127</td>\n",
       "      <td>0.048933</td>\n",
       "      <td>0.025503</td>\n",
       "    </tr>\n",
       "    <tr>\n",
       "      <th>secondary_cleaner.state.floatbank2_b_air</th>\n",
       "      <td>0.254702</td>\n",
       "      <td>0.234562</td>\n",
       "      <td>-0.184586</td>\n",
       "      <td>0.220744</td>\n",
       "      <td>0.422376</td>\n",
       "      <td>0.164370</td>\n",
       "      <td>0.458338</td>\n",
       "      <td>0.104963</td>\n",
       "      <td>0.362753</td>\n",
       "      <td>0.150856</td>\n",
       "      <td>...</td>\n",
       "      <td>0.640874</td>\n",
       "      <td>0.184139</td>\n",
       "      <td>0.664160</td>\n",
       "      <td>0.001715</td>\n",
       "      <td>0.513680</td>\n",
       "      <td>0.228662</td>\n",
       "      <td>0.670703</td>\n",
       "      <td>0.130072</td>\n",
       "      <td>0.103417</td>\n",
       "      <td>0.158380</td>\n",
       "    </tr>\n",
       "    <tr>\n",
       "      <th>secondary_cleaner.state.floatbank2_b_level</th>\n",
       "      <td>-0.011921</td>\n",
       "      <td>-0.098847</td>\n",
       "      <td>0.005911</td>\n",
       "      <td>-0.113589</td>\n",
       "      <td>-0.084396</td>\n",
       "      <td>0.080897</td>\n",
       "      <td>-0.079535</td>\n",
       "      <td>0.009400</td>\n",
       "      <td>-0.014146</td>\n",
       "      <td>0.066475</td>\n",
       "      <td>...</td>\n",
       "      <td>-0.062850</td>\n",
       "      <td>0.030289</td>\n",
       "      <td>-0.077545</td>\n",
       "      <td>0.013354</td>\n",
       "      <td>-0.020293</td>\n",
       "      <td>0.078675</td>\n",
       "      <td>-0.006990</td>\n",
       "      <td>0.014914</td>\n",
       "      <td>0.010788</td>\n",
       "      <td>0.023177</td>\n",
       "    </tr>\n",
       "    <tr>\n",
       "      <th>secondary_cleaner.state.floatbank3_a_air</th>\n",
       "      <td>0.136986</td>\n",
       "      <td>0.282703</td>\n",
       "      <td>0.024193</td>\n",
       "      <td>-0.049184</td>\n",
       "      <td>0.367139</td>\n",
       "      <td>0.084240</td>\n",
       "      <td>0.418511</td>\n",
       "      <td>0.087090</td>\n",
       "      <td>0.414449</td>\n",
       "      <td>0.074868</td>\n",
       "      <td>...</td>\n",
       "      <td>0.412838</td>\n",
       "      <td>0.053102</td>\n",
       "      <td>0.432797</td>\n",
       "      <td>-0.060988</td>\n",
       "      <td>0.310308</td>\n",
       "      <td>0.187541</td>\n",
       "      <td>0.525449</td>\n",
       "      <td>0.100079</td>\n",
       "      <td>0.268413</td>\n",
       "      <td>0.124885</td>\n",
       "    </tr>\n",
       "    <tr>\n",
       "      <th>secondary_cleaner.state.floatbank3_a_level</th>\n",
       "      <td>0.003869</td>\n",
       "      <td>0.125933</td>\n",
       "      <td>0.032868</td>\n",
       "      <td>-0.034554</td>\n",
       "      <td>-0.040073</td>\n",
       "      <td>0.069909</td>\n",
       "      <td>-0.023823</td>\n",
       "      <td>0.094441</td>\n",
       "      <td>-0.030285</td>\n",
       "      <td>0.065685</td>\n",
       "      <td>...</td>\n",
       "      <td>-0.067846</td>\n",
       "      <td>0.007752</td>\n",
       "      <td>-0.088951</td>\n",
       "      <td>0.018798</td>\n",
       "      <td>-0.197216</td>\n",
       "      <td>0.045148</td>\n",
       "      <td>-0.088070</td>\n",
       "      <td>-0.024978</td>\n",
       "      <td>-0.127807</td>\n",
       "      <td>0.010255</td>\n",
       "    </tr>\n",
       "    <tr>\n",
       "      <th>secondary_cleaner.state.floatbank3_b_air</th>\n",
       "      <td>0.148037</td>\n",
       "      <td>0.256512</td>\n",
       "      <td>-0.017527</td>\n",
       "      <td>-0.050835</td>\n",
       "      <td>0.457278</td>\n",
       "      <td>0.057372</td>\n",
       "      <td>0.518832</td>\n",
       "      <td>0.081030</td>\n",
       "      <td>0.493835</td>\n",
       "      <td>0.058887</td>\n",
       "      <td>...</td>\n",
       "      <td>0.480531</td>\n",
       "      <td>0.073603</td>\n",
       "      <td>0.534658</td>\n",
       "      <td>-0.188031</td>\n",
       "      <td>0.462017</td>\n",
       "      <td>0.174008</td>\n",
       "      <td>0.641391</td>\n",
       "      <td>0.089819</td>\n",
       "      <td>0.395344</td>\n",
       "      <td>0.114933</td>\n",
       "    </tr>\n",
       "    <tr>\n",
       "      <th>secondary_cleaner.state.floatbank3_b_level</th>\n",
       "      <td>0.020303</td>\n",
       "      <td>0.115952</td>\n",
       "      <td>0.025709</td>\n",
       "      <td>-0.009169</td>\n",
       "      <td>-0.007847</td>\n",
       "      <td>0.053060</td>\n",
       "      <td>0.008616</td>\n",
       "      <td>0.100982</td>\n",
       "      <td>-0.000623</td>\n",
       "      <td>0.050184</td>\n",
       "      <td>...</td>\n",
       "      <td>-0.048674</td>\n",
       "      <td>0.003195</td>\n",
       "      <td>-0.061874</td>\n",
       "      <td>0.035838</td>\n",
       "      <td>-0.174450</td>\n",
       "      <td>0.189707</td>\n",
       "      <td>-0.061240</td>\n",
       "      <td>0.049728</td>\n",
       "      <td>-0.144723</td>\n",
       "      <td>0.076089</td>\n",
       "    </tr>\n",
       "    <tr>\n",
       "      <th>secondary_cleaner.state.floatbank4_a_air</th>\n",
       "      <td>0.305793</td>\n",
       "      <td>0.326090</td>\n",
       "      <td>-0.148328</td>\n",
       "      <td>0.313377</td>\n",
       "      <td>0.469180</td>\n",
       "      <td>0.171716</td>\n",
       "      <td>0.483741</td>\n",
       "      <td>0.078411</td>\n",
       "      <td>0.366373</td>\n",
       "      <td>0.151945</td>\n",
       "      <td>...</td>\n",
       "      <td>1.000000</td>\n",
       "      <td>0.346120</td>\n",
       "      <td>0.925344</td>\n",
       "      <td>0.256080</td>\n",
       "      <td>0.523977</td>\n",
       "      <td>0.221838</td>\n",
       "      <td>0.630029</td>\n",
       "      <td>0.132053</td>\n",
       "      <td>0.082357</td>\n",
       "      <td>0.145112</td>\n",
       "    </tr>\n",
       "    <tr>\n",
       "      <th>secondary_cleaner.state.floatbank4_a_level</th>\n",
       "      <td>0.117976</td>\n",
       "      <td>0.117510</td>\n",
       "      <td>-0.121148</td>\n",
       "      <td>0.131178</td>\n",
       "      <td>0.005962</td>\n",
       "      <td>0.096500</td>\n",
       "      <td>0.023801</td>\n",
       "      <td>0.216342</td>\n",
       "      <td>0.047373</td>\n",
       "      <td>0.093293</td>\n",
       "      <td>...</td>\n",
       "      <td>0.346120</td>\n",
       "      <td>1.000000</td>\n",
       "      <td>0.291668</td>\n",
       "      <td>0.322602</td>\n",
       "      <td>0.139509</td>\n",
       "      <td>0.129475</td>\n",
       "      <td>0.196989</td>\n",
       "      <td>0.038650</td>\n",
       "      <td>0.027717</td>\n",
       "      <td>0.028501</td>\n",
       "    </tr>\n",
       "    <tr>\n",
       "      <th>secondary_cleaner.state.floatbank4_b_air</th>\n",
       "      <td>0.348395</td>\n",
       "      <td>0.238618</td>\n",
       "      <td>-0.173658</td>\n",
       "      <td>0.360961</td>\n",
       "      <td>0.476742</td>\n",
       "      <td>0.084418</td>\n",
       "      <td>0.487327</td>\n",
       "      <td>0.054902</td>\n",
       "      <td>0.396029</td>\n",
       "      <td>0.071559</td>\n",
       "      <td>...</td>\n",
       "      <td>0.925344</td>\n",
       "      <td>0.291668</td>\n",
       "      <td>1.000000</td>\n",
       "      <td>0.162442</td>\n",
       "      <td>0.621448</td>\n",
       "      <td>0.231617</td>\n",
       "      <td>0.690637</td>\n",
       "      <td>0.151066</td>\n",
       "      <td>0.188092</td>\n",
       "      <td>0.142336</td>\n",
       "    </tr>\n",
       "    <tr>\n",
       "      <th>secondary_cleaner.state.floatbank4_b_level</th>\n",
       "      <td>0.068693</td>\n",
       "      <td>-0.085583</td>\n",
       "      <td>-0.137180</td>\n",
       "      <td>0.121575</td>\n",
       "      <td>-0.058593</td>\n",
       "      <td>-0.005819</td>\n",
       "      <td>-0.080058</td>\n",
       "      <td>-0.038440</td>\n",
       "      <td>-0.031081</td>\n",
       "      <td>-0.013814</td>\n",
       "      <td>...</td>\n",
       "      <td>0.256080</td>\n",
       "      <td>0.322602</td>\n",
       "      <td>0.162442</td>\n",
       "      <td>1.000000</td>\n",
       "      <td>-0.107707</td>\n",
       "      <td>0.147114</td>\n",
       "      <td>-0.061246</td>\n",
       "      <td>0.085526</td>\n",
       "      <td>-0.336132</td>\n",
       "      <td>0.046965</td>\n",
       "    </tr>\n",
       "    <tr>\n",
       "      <th>secondary_cleaner.state.floatbank5_a_air</th>\n",
       "      <td>0.093608</td>\n",
       "      <td>-0.090184</td>\n",
       "      <td>-0.192880</td>\n",
       "      <td>0.059162</td>\n",
       "      <td>0.408050</td>\n",
       "      <td>-0.036132</td>\n",
       "      <td>0.415343</td>\n",
       "      <td>-0.009671</td>\n",
       "      <td>0.400765</td>\n",
       "      <td>-0.018878</td>\n",
       "      <td>...</td>\n",
       "      <td>0.523977</td>\n",
       "      <td>0.139509</td>\n",
       "      <td>0.621448</td>\n",
       "      <td>-0.107707</td>\n",
       "      <td>1.000000</td>\n",
       "      <td>0.159737</td>\n",
       "      <td>0.839300</td>\n",
       "      <td>0.097730</td>\n",
       "      <td>0.508881</td>\n",
       "      <td>0.080659</td>\n",
       "    </tr>\n",
       "    <tr>\n",
       "      <th>secondary_cleaner.state.floatbank5_a_level</th>\n",
       "      <td>0.132193</td>\n",
       "      <td>0.009138</td>\n",
       "      <td>-0.059167</td>\n",
       "      <td>0.128636</td>\n",
       "      <td>0.271547</td>\n",
       "      <td>0.164220</td>\n",
       "      <td>0.260220</td>\n",
       "      <td>0.029409</td>\n",
       "      <td>0.239333</td>\n",
       "      <td>0.143313</td>\n",
       "      <td>...</td>\n",
       "      <td>0.221838</td>\n",
       "      <td>0.129475</td>\n",
       "      <td>0.231617</td>\n",
       "      <td>0.147114</td>\n",
       "      <td>0.159737</td>\n",
       "      <td>1.000000</td>\n",
       "      <td>0.224178</td>\n",
       "      <td>0.516684</td>\n",
       "      <td>-0.013499</td>\n",
       "      <td>0.404586</td>\n",
       "    </tr>\n",
       "    <tr>\n",
       "      <th>secondary_cleaner.state.floatbank5_b_air</th>\n",
       "      <td>0.156583</td>\n",
       "      <td>0.064209</td>\n",
       "      <td>-0.214970</td>\n",
       "      <td>0.077380</td>\n",
       "      <td>0.465492</td>\n",
       "      <td>-0.012665</td>\n",
       "      <td>0.499829</td>\n",
       "      <td>0.012115</td>\n",
       "      <td>0.500353</td>\n",
       "      <td>-0.004169</td>\n",
       "      <td>...</td>\n",
       "      <td>0.630029</td>\n",
       "      <td>0.196989</td>\n",
       "      <td>0.690637</td>\n",
       "      <td>-0.061246</td>\n",
       "      <td>0.839300</td>\n",
       "      <td>0.224178</td>\n",
       "      <td>1.000000</td>\n",
       "      <td>0.131951</td>\n",
       "      <td>0.463425</td>\n",
       "      <td>0.156877</td>\n",
       "    </tr>\n",
       "    <tr>\n",
       "      <th>secondary_cleaner.state.floatbank5_b_level</th>\n",
       "      <td>0.072618</td>\n",
       "      <td>0.002988</td>\n",
       "      <td>-0.054173</td>\n",
       "      <td>0.095508</td>\n",
       "      <td>0.161509</td>\n",
       "      <td>0.091263</td>\n",
       "      <td>0.155978</td>\n",
       "      <td>0.004864</td>\n",
       "      <td>0.117465</td>\n",
       "      <td>0.061153</td>\n",
       "      <td>...</td>\n",
       "      <td>0.132053</td>\n",
       "      <td>0.038650</td>\n",
       "      <td>0.151066</td>\n",
       "      <td>0.085526</td>\n",
       "      <td>0.097730</td>\n",
       "      <td>0.516684</td>\n",
       "      <td>0.131951</td>\n",
       "      <td>1.000000</td>\n",
       "      <td>0.028312</td>\n",
       "      <td>0.336502</td>\n",
       "    </tr>\n",
       "    <tr>\n",
       "      <th>secondary_cleaner.state.floatbank6_a_air</th>\n",
       "      <td>-0.134499</td>\n",
       "      <td>-0.198422</td>\n",
       "      <td>0.026930</td>\n",
       "      <td>-0.218155</td>\n",
       "      <td>0.345231</td>\n",
       "      <td>-0.107710</td>\n",
       "      <td>0.389594</td>\n",
       "      <td>-0.006694</td>\n",
       "      <td>0.490672</td>\n",
       "      <td>-0.087866</td>\n",
       "      <td>...</td>\n",
       "      <td>0.082357</td>\n",
       "      <td>0.027717</td>\n",
       "      <td>0.188092</td>\n",
       "      <td>-0.336132</td>\n",
       "      <td>0.508881</td>\n",
       "      <td>-0.013499</td>\n",
       "      <td>0.463425</td>\n",
       "      <td>0.028312</td>\n",
       "      <td>1.000000</td>\n",
       "      <td>0.189606</td>\n",
       "    </tr>\n",
       "    <tr>\n",
       "      <th>secondary_cleaner.state.floatbank6_a_level</th>\n",
       "      <td>0.033945</td>\n",
       "      <td>0.034654</td>\n",
       "      <td>-0.083021</td>\n",
       "      <td>0.080662</td>\n",
       "      <td>0.172154</td>\n",
       "      <td>0.076271</td>\n",
       "      <td>0.187429</td>\n",
       "      <td>0.012904</td>\n",
       "      <td>0.169634</td>\n",
       "      <td>0.067955</td>\n",
       "      <td>...</td>\n",
       "      <td>0.145112</td>\n",
       "      <td>0.028501</td>\n",
       "      <td>0.142336</td>\n",
       "      <td>0.046965</td>\n",
       "      <td>0.080659</td>\n",
       "      <td>0.404586</td>\n",
       "      <td>0.156877</td>\n",
       "      <td>0.336502</td>\n",
       "      <td>0.189606</td>\n",
       "      <td>1.000000</td>\n",
       "    </tr>\n",
       "  </tbody>\n",
       "</table>\n",
       "<p>52 rows × 52 columns</p>\n",
       "</div>"
      ],
      "text/plain": [
       "                                            primary_cleaner.input.sulfate  \\\n",
       "primary_cleaner.input.sulfate                                    1.000000   \n",
       "primary_cleaner.input.depressant                                 0.455718   \n",
       "primary_cleaner.input.feed_size                                  0.114456   \n",
       "primary_cleaner.input.xanthate                                   0.497568   \n",
       "primary_cleaner.state.floatbank8_a_air                           0.102653   \n",
       "primary_cleaner.state.floatbank8_a_level                         0.048032   \n",
       "primary_cleaner.state.floatbank8_b_air                           0.075737   \n",
       "primary_cleaner.state.floatbank8_b_level                         0.138949   \n",
       "primary_cleaner.state.floatbank8_c_air                           0.024710   \n",
       "primary_cleaner.state.floatbank8_c_level                         0.027697   \n",
       "primary_cleaner.state.floatbank8_d_air                           0.095001   \n",
       "primary_cleaner.state.floatbank8_d_level                        -0.020533   \n",
       "rougher.input.feed_ag                                            0.359619   \n",
       "rougher.input.feed_pb                                            0.428382   \n",
       "rougher.input.feed_rate                                          0.464251   \n",
       "rougher.input.feed_size                                         -0.009796   \n",
       "rougher.input.feed_sol                                           0.423859   \n",
       "rougher.input.feed_au                                            0.437016   \n",
       "rougher.input.floatbank10_sulfate                                0.617768   \n",
       "rougher.input.floatbank10_xanthate                               0.557307   \n",
       "rougher.input.floatbank11_sulfate                                0.583022   \n",
       "rougher.input.floatbank11_xanthate                               0.527014   \n",
       "rougher.state.floatbank10_a_air                                  0.236898   \n",
       "rougher.state.floatbank10_a_level                                0.222913   \n",
       "rougher.state.floatbank10_b_air                                 -0.230670   \n",
       "rougher.state.floatbank10_b_level                               -0.047665   \n",
       "rougher.state.floatbank10_c_air                                 -0.247043   \n",
       "rougher.state.floatbank10_c_level                               -0.051896   \n",
       "rougher.state.floatbank10_d_air                                 -0.247163   \n",
       "rougher.state.floatbank10_d_level                               -0.016032   \n",
       "rougher.state.floatbank10_e_air                                 -0.234958   \n",
       "rougher.state.floatbank10_e_level                               -0.120379   \n",
       "rougher.state.floatbank10_f_air                                 -0.250187   \n",
       "rougher.state.floatbank10_f_level                               -0.063497   \n",
       "secondary_cleaner.state.floatbank2_a_air                         0.051989   \n",
       "secondary_cleaner.state.floatbank2_a_level                      -0.039145   \n",
       "secondary_cleaner.state.floatbank2_b_air                         0.254702   \n",
       "secondary_cleaner.state.floatbank2_b_level                      -0.011921   \n",
       "secondary_cleaner.state.floatbank3_a_air                         0.136986   \n",
       "secondary_cleaner.state.floatbank3_a_level                       0.003869   \n",
       "secondary_cleaner.state.floatbank3_b_air                         0.148037   \n",
       "secondary_cleaner.state.floatbank3_b_level                       0.020303   \n",
       "secondary_cleaner.state.floatbank4_a_air                         0.305793   \n",
       "secondary_cleaner.state.floatbank4_a_level                       0.117976   \n",
       "secondary_cleaner.state.floatbank4_b_air                         0.348395   \n",
       "secondary_cleaner.state.floatbank4_b_level                       0.068693   \n",
       "secondary_cleaner.state.floatbank5_a_air                         0.093608   \n",
       "secondary_cleaner.state.floatbank5_a_level                       0.132193   \n",
       "secondary_cleaner.state.floatbank5_b_air                         0.156583   \n",
       "secondary_cleaner.state.floatbank5_b_level                       0.072618   \n",
       "secondary_cleaner.state.floatbank6_a_air                        -0.134499   \n",
       "secondary_cleaner.state.floatbank6_a_level                       0.033945   \n",
       "\n",
       "                                            primary_cleaner.input.depressant  \\\n",
       "primary_cleaner.input.sulfate                                       0.455718   \n",
       "primary_cleaner.input.depressant                                    1.000000   \n",
       "primary_cleaner.input.feed_size                                     0.215703   \n",
       "primary_cleaner.input.xanthate                                      0.150760   \n",
       "primary_cleaner.state.floatbank8_a_air                              0.144443   \n",
       "primary_cleaner.state.floatbank8_a_level                            0.242592   \n",
       "primary_cleaner.state.floatbank8_b_air                              0.148658   \n",
       "primary_cleaner.state.floatbank8_b_level                            0.201499   \n",
       "primary_cleaner.state.floatbank8_c_air                              0.036655   \n",
       "primary_cleaner.state.floatbank8_c_level                            0.207632   \n",
       "primary_cleaner.state.floatbank8_d_air                              0.141651   \n",
       "primary_cleaner.state.floatbank8_d_level                            0.082802   \n",
       "rougher.input.feed_ag                                               0.497866   \n",
       "rougher.input.feed_pb                                               0.465961   \n",
       "rougher.input.feed_rate                                             0.132437   \n",
       "rougher.input.feed_size                                             0.004431   \n",
       "rougher.input.feed_sol                                              0.169735   \n",
       "rougher.input.feed_au                                               0.460965   \n",
       "rougher.input.floatbank10_sulfate                                   0.240528   \n",
       "rougher.input.floatbank10_xanthate                                  0.347558   \n",
       "rougher.input.floatbank11_sulfate                                   0.208050   \n",
       "rougher.input.floatbank11_xanthate                                  0.361123   \n",
       "rougher.state.floatbank10_a_air                                     0.422574   \n",
       "rougher.state.floatbank10_a_level                                   0.133122   \n",
       "rougher.state.floatbank10_b_air                                    -0.355519   \n",
       "rougher.state.floatbank10_b_level                                  -0.112394   \n",
       "rougher.state.floatbank10_c_air                                    -0.366098   \n",
       "rougher.state.floatbank10_c_level                                  -0.102649   \n",
       "rougher.state.floatbank10_d_air                                    -0.346803   \n",
       "rougher.state.floatbank10_d_level                                  -0.079246   \n",
       "rougher.state.floatbank10_e_air                                    -0.361011   \n",
       "rougher.state.floatbank10_e_level                                  -0.129417   \n",
       "rougher.state.floatbank10_f_air                                    -0.376446   \n",
       "rougher.state.floatbank10_f_level                                  -0.110906   \n",
       "secondary_cleaner.state.floatbank2_a_air                            0.084117   \n",
       "secondary_cleaner.state.floatbank2_a_level                         -0.084408   \n",
       "secondary_cleaner.state.floatbank2_b_air                            0.234562   \n",
       "secondary_cleaner.state.floatbank2_b_level                         -0.098847   \n",
       "secondary_cleaner.state.floatbank3_a_air                            0.282703   \n",
       "secondary_cleaner.state.floatbank3_a_level                          0.125933   \n",
       "secondary_cleaner.state.floatbank3_b_air                            0.256512   \n",
       "secondary_cleaner.state.floatbank3_b_level                          0.115952   \n",
       "secondary_cleaner.state.floatbank4_a_air                            0.326090   \n",
       "secondary_cleaner.state.floatbank4_a_level                          0.117510   \n",
       "secondary_cleaner.state.floatbank4_b_air                            0.238618   \n",
       "secondary_cleaner.state.floatbank4_b_level                         -0.085583   \n",
       "secondary_cleaner.state.floatbank5_a_air                           -0.090184   \n",
       "secondary_cleaner.state.floatbank5_a_level                          0.009138   \n",
       "secondary_cleaner.state.floatbank5_b_air                            0.064209   \n",
       "secondary_cleaner.state.floatbank5_b_level                          0.002988   \n",
       "secondary_cleaner.state.floatbank6_a_air                           -0.198422   \n",
       "secondary_cleaner.state.floatbank6_a_level                          0.034654   \n",
       "\n",
       "                                            primary_cleaner.input.feed_size  \\\n",
       "primary_cleaner.input.sulfate                                      0.114456   \n",
       "primary_cleaner.input.depressant                                   0.215703   \n",
       "primary_cleaner.input.feed_size                                    1.000000   \n",
       "primary_cleaner.input.xanthate                                    -0.291792   \n",
       "primary_cleaner.state.floatbank8_a_air                            -0.064628   \n",
       "primary_cleaner.state.floatbank8_a_level                           0.082869   \n",
       "primary_cleaner.state.floatbank8_b_air                            -0.063490   \n",
       "primary_cleaner.state.floatbank8_b_level                           0.071470   \n",
       "primary_cleaner.state.floatbank8_c_air                            -0.091542   \n",
       "primary_cleaner.state.floatbank8_c_level                           0.066384   \n",
       "primary_cleaner.state.floatbank8_d_air                            -0.074156   \n",
       "primary_cleaner.state.floatbank8_d_level                           0.065808   \n",
       "rougher.input.feed_ag                                              0.338795   \n",
       "rougher.input.feed_pb                                              0.000398   \n",
       "rougher.input.feed_rate                                            0.020000   \n",
       "rougher.input.feed_size                                           -0.087331   \n",
       "rougher.input.feed_sol                                             0.054595   \n",
       "rougher.input.feed_au                                              0.238692   \n",
       "rougher.input.floatbank10_sulfate                                 -0.187934   \n",
       "rougher.input.floatbank10_xanthate                                 0.224360   \n",
       "rougher.input.floatbank11_sulfate                                 -0.236345   \n",
       "rougher.input.floatbank11_xanthate                                 0.185176   \n",
       "rougher.state.floatbank10_a_air                                    0.023678   \n",
       "rougher.state.floatbank10_a_level                                 -0.236632   \n",
       "rougher.state.floatbank10_b_air                                    0.044605   \n",
       "rougher.state.floatbank10_b_level                                  0.051614   \n",
       "rougher.state.floatbank10_c_air                                    0.064617   \n",
       "rougher.state.floatbank10_c_level                                  0.049608   \n",
       "rougher.state.floatbank10_d_air                                   -0.009526   \n",
       "rougher.state.floatbank10_d_level                                  0.073623   \n",
       "rougher.state.floatbank10_e_air                                   -0.012558   \n",
       "rougher.state.floatbank10_e_level                                  0.006890   \n",
       "rougher.state.floatbank10_f_air                                   -0.129796   \n",
       "rougher.state.floatbank10_f_level                                  0.036627   \n",
       "secondary_cleaner.state.floatbank2_a_air                          -0.128933   \n",
       "secondary_cleaner.state.floatbank2_a_level                         0.044605   \n",
       "secondary_cleaner.state.floatbank2_b_air                          -0.184586   \n",
       "secondary_cleaner.state.floatbank2_b_level                         0.005911   \n",
       "secondary_cleaner.state.floatbank3_a_air                           0.024193   \n",
       "secondary_cleaner.state.floatbank3_a_level                         0.032868   \n",
       "secondary_cleaner.state.floatbank3_b_air                          -0.017527   \n",
       "secondary_cleaner.state.floatbank3_b_level                         0.025709   \n",
       "secondary_cleaner.state.floatbank4_a_air                          -0.148328   \n",
       "secondary_cleaner.state.floatbank4_a_level                        -0.121148   \n",
       "secondary_cleaner.state.floatbank4_b_air                          -0.173658   \n",
       "secondary_cleaner.state.floatbank4_b_level                        -0.137180   \n",
       "secondary_cleaner.state.floatbank5_a_air                          -0.192880   \n",
       "secondary_cleaner.state.floatbank5_a_level                        -0.059167   \n",
       "secondary_cleaner.state.floatbank5_b_air                          -0.214970   \n",
       "secondary_cleaner.state.floatbank5_b_level                        -0.054173   \n",
       "secondary_cleaner.state.floatbank6_a_air                           0.026930   \n",
       "secondary_cleaner.state.floatbank6_a_level                        -0.083021   \n",
       "\n",
       "                                            primary_cleaner.input.xanthate  \\\n",
       "primary_cleaner.input.sulfate                                     0.497568   \n",
       "primary_cleaner.input.depressant                                  0.150760   \n",
       "primary_cleaner.input.feed_size                                  -0.291792   \n",
       "primary_cleaner.input.xanthate                                    1.000000   \n",
       "primary_cleaner.state.floatbank8_a_air                            0.209017   \n",
       "primary_cleaner.state.floatbank8_a_level                         -0.059553   \n",
       "primary_cleaner.state.floatbank8_b_air                            0.153527   \n",
       "primary_cleaner.state.floatbank8_b_level                          0.016144   \n",
       "primary_cleaner.state.floatbank8_c_air                            0.044194   \n",
       "primary_cleaner.state.floatbank8_c_level                         -0.078742   \n",
       "primary_cleaner.state.floatbank8_d_air                            0.174791   \n",
       "primary_cleaner.state.floatbank8_d_level                         -0.144240   \n",
       "rougher.input.feed_ag                                             0.048319   \n",
       "rougher.input.feed_pb                                             0.241138   \n",
       "rougher.input.feed_rate                                           0.464682   \n",
       "rougher.input.feed_size                                           0.195665   \n",
       "rougher.input.feed_sol                                            0.370448   \n",
       "rougher.input.feed_au                                             0.093609   \n",
       "rougher.input.floatbank10_sulfate                                 0.581118   \n",
       "rougher.input.floatbank10_xanthate                                0.350009   \n",
       "rougher.input.floatbank11_sulfate                                 0.593851   \n",
       "rougher.input.floatbank11_xanthate                                0.368205   \n",
       "rougher.state.floatbank10_a_air                                   0.402757   \n",
       "rougher.state.floatbank10_a_level                                 0.424760   \n",
       "rougher.state.floatbank10_b_air                                  -0.387143   \n",
       "rougher.state.floatbank10_b_level                                -0.342816   \n",
       "rougher.state.floatbank10_c_air                                  -0.405743   \n",
       "rougher.state.floatbank10_c_level                                -0.346091   \n",
       "rougher.state.floatbank10_d_air                                  -0.392980   \n",
       "rougher.state.floatbank10_d_level                                -0.326506   \n",
       "rougher.state.floatbank10_e_air                                  -0.321572   \n",
       "rougher.state.floatbank10_e_level                                -0.363457   \n",
       "rougher.state.floatbank10_f_air                                  -0.290621   \n",
       "rougher.state.floatbank10_f_level                                -0.333947   \n",
       "secondary_cleaner.state.floatbank2_a_air                         -0.038919   \n",
       "secondary_cleaner.state.floatbank2_a_level                       -0.162965   \n",
       "secondary_cleaner.state.floatbank2_b_air                          0.220744   \n",
       "secondary_cleaner.state.floatbank2_b_level                       -0.113589   \n",
       "secondary_cleaner.state.floatbank3_a_air                         -0.049184   \n",
       "secondary_cleaner.state.floatbank3_a_level                       -0.034554   \n",
       "secondary_cleaner.state.floatbank3_b_air                         -0.050835   \n",
       "secondary_cleaner.state.floatbank3_b_level                       -0.009169   \n",
       "secondary_cleaner.state.floatbank4_a_air                          0.313377   \n",
       "secondary_cleaner.state.floatbank4_a_level                        0.131178   \n",
       "secondary_cleaner.state.floatbank4_b_air                          0.360961   \n",
       "secondary_cleaner.state.floatbank4_b_level                        0.121575   \n",
       "secondary_cleaner.state.floatbank5_a_air                          0.059162   \n",
       "secondary_cleaner.state.floatbank5_a_level                        0.128636   \n",
       "secondary_cleaner.state.floatbank5_b_air                          0.077380   \n",
       "secondary_cleaner.state.floatbank5_b_level                        0.095508   \n",
       "secondary_cleaner.state.floatbank6_a_air                         -0.218155   \n",
       "secondary_cleaner.state.floatbank6_a_level                        0.080662   \n",
       "\n",
       "                                            primary_cleaner.state.floatbank8_a_air  \\\n",
       "primary_cleaner.input.sulfate                                             0.102653   \n",
       "primary_cleaner.input.depressant                                          0.144443   \n",
       "primary_cleaner.input.feed_size                                          -0.064628   \n",
       "primary_cleaner.input.xanthate                                            0.209017   \n",
       "primary_cleaner.state.floatbank8_a_air                                    1.000000   \n",
       "primary_cleaner.state.floatbank8_a_level                                  0.121274   \n",
       "primary_cleaner.state.floatbank8_b_air                                    0.968679   \n",
       "primary_cleaner.state.floatbank8_b_level                                 -0.018713   \n",
       "primary_cleaner.state.floatbank8_c_air                                    0.814992   \n",
       "primary_cleaner.state.floatbank8_c_level                                  0.114058   \n",
       "primary_cleaner.state.floatbank8_d_air                                    0.959166   \n",
       "primary_cleaner.state.floatbank8_d_level                                  0.061389   \n",
       "rougher.input.feed_ag                                                     0.252818   \n",
       "rougher.input.feed_pb                                                     0.064620   \n",
       "rougher.input.feed_rate                                                  -0.008505   \n",
       "rougher.input.feed_size                                                  -0.073211   \n",
       "rougher.input.feed_sol                                                   -0.060988   \n",
       "rougher.input.feed_au                                                     0.218384   \n",
       "rougher.input.floatbank10_sulfate                                         0.039898   \n",
       "rougher.input.floatbank10_xanthate                                        0.187693   \n",
       "rougher.input.floatbank11_sulfate                                         0.057004   \n",
       "rougher.input.floatbank11_xanthate                                        0.209414   \n",
       "rougher.state.floatbank10_a_air                                           0.215473   \n",
       "rougher.state.floatbank10_a_level                                        -0.033903   \n",
       "rougher.state.floatbank10_b_air                                           0.199338   \n",
       "rougher.state.floatbank10_b_level                                         0.291111   \n",
       "rougher.state.floatbank10_c_air                                           0.216971   \n",
       "rougher.state.floatbank10_c_level                                         0.285786   \n",
       "rougher.state.floatbank10_d_air                                           0.160151   \n",
       "rougher.state.floatbank10_d_level                                         0.245276   \n",
       "rougher.state.floatbank10_e_air                                           0.347687   \n",
       "rougher.state.floatbank10_e_level                                         0.280493   \n",
       "rougher.state.floatbank10_f_air                                           0.280753   \n",
       "rougher.state.floatbank10_f_level                                         0.289477   \n",
       "secondary_cleaner.state.floatbank2_a_air                                  0.258841   \n",
       "secondary_cleaner.state.floatbank2_a_level                               -0.059849   \n",
       "secondary_cleaner.state.floatbank2_b_air                                  0.422376   \n",
       "secondary_cleaner.state.floatbank2_b_level                               -0.084396   \n",
       "secondary_cleaner.state.floatbank3_a_air                                  0.367139   \n",
       "secondary_cleaner.state.floatbank3_a_level                               -0.040073   \n",
       "secondary_cleaner.state.floatbank3_b_air                                  0.457278   \n",
       "secondary_cleaner.state.floatbank3_b_level                               -0.007847   \n",
       "secondary_cleaner.state.floatbank4_a_air                                  0.469180   \n",
       "secondary_cleaner.state.floatbank4_a_level                                0.005962   \n",
       "secondary_cleaner.state.floatbank4_b_air                                  0.476742   \n",
       "secondary_cleaner.state.floatbank4_b_level                               -0.058593   \n",
       "secondary_cleaner.state.floatbank5_a_air                                  0.408050   \n",
       "secondary_cleaner.state.floatbank5_a_level                                0.271547   \n",
       "secondary_cleaner.state.floatbank5_b_air                                  0.465492   \n",
       "secondary_cleaner.state.floatbank5_b_level                                0.161509   \n",
       "secondary_cleaner.state.floatbank6_a_air                                  0.345231   \n",
       "secondary_cleaner.state.floatbank6_a_level                                0.172154   \n",
       "\n",
       "                                            primary_cleaner.state.floatbank8_a_level  \\\n",
       "primary_cleaner.input.sulfate                                               0.048032   \n",
       "primary_cleaner.input.depressant                                            0.242592   \n",
       "primary_cleaner.input.feed_size                                             0.082869   \n",
       "primary_cleaner.input.xanthate                                             -0.059553   \n",
       "primary_cleaner.state.floatbank8_a_air                                      0.121274   \n",
       "primary_cleaner.state.floatbank8_a_level                                    1.000000   \n",
       "primary_cleaner.state.floatbank8_b_air                                      0.101975   \n",
       "primary_cleaner.state.floatbank8_b_level                                    0.417515   \n",
       "primary_cleaner.state.floatbank8_c_air                                     -0.018378   \n",
       "primary_cleaner.state.floatbank8_c_level                                    0.784061   \n",
       "primary_cleaner.state.floatbank8_d_air                                      0.110760   \n",
       "primary_cleaner.state.floatbank8_d_level                                    0.406960   \n",
       "rougher.input.feed_ag                                                       0.197111   \n",
       "rougher.input.feed_pb                                                       0.231743   \n",
       "rougher.input.feed_rate                                                    -0.005975   \n",
       "rougher.input.feed_size                                                     0.006147   \n",
       "rougher.input.feed_sol                                                      0.058229   \n",
       "rougher.input.feed_au                                                       0.184980   \n",
       "rougher.input.floatbank10_sulfate                                          -0.068462   \n",
       "rougher.input.floatbank10_xanthate                                          0.110566   \n",
       "rougher.input.floatbank11_sulfate                                          -0.077556   \n",
       "rougher.input.floatbank11_xanthate                                          0.117493   \n",
       "rougher.state.floatbank10_a_air                                             0.387206   \n",
       "rougher.state.floatbank10_a_level                                           0.159607   \n",
       "rougher.state.floatbank10_b_air                                            -0.076365   \n",
       "rougher.state.floatbank10_b_level                                          -0.037724   \n",
       "rougher.state.floatbank10_c_air                                            -0.129885   \n",
       "rougher.state.floatbank10_c_level                                          -0.043906   \n",
       "rougher.state.floatbank10_d_air                                            -0.134939   \n",
       "rougher.state.floatbank10_d_level                                          -0.071941   \n",
       "rougher.state.floatbank10_e_air                                            -0.098849   \n",
       "rougher.state.floatbank10_e_level                                          -0.072159   \n",
       "rougher.state.floatbank10_f_air                                            -0.050940   \n",
       "rougher.state.floatbank10_f_level                                          -0.042153   \n",
       "secondary_cleaner.state.floatbank2_a_air                                    0.108262   \n",
       "secondary_cleaner.state.floatbank2_a_level                                  0.083484   \n",
       "secondary_cleaner.state.floatbank2_b_air                                    0.164370   \n",
       "secondary_cleaner.state.floatbank2_b_level                                  0.080897   \n",
       "secondary_cleaner.state.floatbank3_a_air                                    0.084240   \n",
       "secondary_cleaner.state.floatbank3_a_level                                  0.069909   \n",
       "secondary_cleaner.state.floatbank3_b_air                                    0.057372   \n",
       "secondary_cleaner.state.floatbank3_b_level                                  0.053060   \n",
       "secondary_cleaner.state.floatbank4_a_air                                    0.171716   \n",
       "secondary_cleaner.state.floatbank4_a_level                                  0.096500   \n",
       "secondary_cleaner.state.floatbank4_b_air                                    0.084418   \n",
       "secondary_cleaner.state.floatbank4_b_level                                 -0.005819   \n",
       "secondary_cleaner.state.floatbank5_a_air                                   -0.036132   \n",
       "secondary_cleaner.state.floatbank5_a_level                                  0.164220   \n",
       "secondary_cleaner.state.floatbank5_b_air                                   -0.012665   \n",
       "secondary_cleaner.state.floatbank5_b_level                                  0.091263   \n",
       "secondary_cleaner.state.floatbank6_a_air                                   -0.107710   \n",
       "secondary_cleaner.state.floatbank6_a_level                                  0.076271   \n",
       "\n",
       "                                            primary_cleaner.state.floatbank8_b_air  \\\n",
       "primary_cleaner.input.sulfate                                             0.075737   \n",
       "primary_cleaner.input.depressant                                          0.148658   \n",
       "primary_cleaner.input.feed_size                                          -0.063490   \n",
       "primary_cleaner.input.xanthate                                            0.153527   \n",
       "primary_cleaner.state.floatbank8_a_air                                    0.968679   \n",
       "primary_cleaner.state.floatbank8_a_level                                  0.101975   \n",
       "primary_cleaner.state.floatbank8_b_air                                    1.000000   \n",
       "primary_cleaner.state.floatbank8_b_level                                  0.010220   \n",
       "primary_cleaner.state.floatbank8_c_air                                    0.862946   \n",
       "primary_cleaner.state.floatbank8_c_level                                  0.101127   \n",
       "primary_cleaner.state.floatbank8_d_air                                    0.974342   \n",
       "primary_cleaner.state.floatbank8_d_level                                  0.059940   \n",
       "rougher.input.feed_ag                                                     0.250553   \n",
       "rougher.input.feed_pb                                                     0.054633   \n",
       "rougher.input.feed_rate                                                  -0.043674   \n",
       "rougher.input.feed_size                                                  -0.098451   \n",
       "rougher.input.feed_sol                                                   -0.089733   \n",
       "rougher.input.feed_au                                                     0.243540   \n",
       "rougher.input.floatbank10_sulfate                                         0.033192   \n",
       "rougher.input.floatbank10_xanthate                                        0.172360   \n",
       "rougher.input.floatbank11_sulfate                                         0.047620   \n",
       "rougher.input.floatbank11_xanthate                                        0.190951   \n",
       "rougher.state.floatbank10_a_air                                           0.169211   \n",
       "rougher.state.floatbank10_a_level                                        -0.073373   \n",
       "rougher.state.floatbank10_b_air                                           0.230489   \n",
       "rougher.state.floatbank10_b_level                                         0.371841   \n",
       "rougher.state.floatbank10_c_air                                           0.259523   \n",
       "rougher.state.floatbank10_c_level                                         0.368792   \n",
       "rougher.state.floatbank10_d_air                                           0.203227   \n",
       "rougher.state.floatbank10_d_level                                         0.327134   \n",
       "rougher.state.floatbank10_e_air                                           0.402047   \n",
       "rougher.state.floatbank10_e_level                                         0.391511   \n",
       "rougher.state.floatbank10_f_air                                           0.344900   \n",
       "rougher.state.floatbank10_f_level                                         0.394670   \n",
       "secondary_cleaner.state.floatbank2_a_air                                  0.326245   \n",
       "secondary_cleaner.state.floatbank2_a_level                               -0.052484   \n",
       "secondary_cleaner.state.floatbank2_b_air                                  0.458338   \n",
       "secondary_cleaner.state.floatbank2_b_level                               -0.079535   \n",
       "secondary_cleaner.state.floatbank3_a_air                                  0.418511   \n",
       "secondary_cleaner.state.floatbank3_a_level                               -0.023823   \n",
       "secondary_cleaner.state.floatbank3_b_air                                  0.518832   \n",
       "secondary_cleaner.state.floatbank3_b_level                                0.008616   \n",
       "secondary_cleaner.state.floatbank4_a_air                                  0.483741   \n",
       "secondary_cleaner.state.floatbank4_a_level                                0.023801   \n",
       "secondary_cleaner.state.floatbank4_b_air                                  0.487327   \n",
       "secondary_cleaner.state.floatbank4_b_level                               -0.080058   \n",
       "secondary_cleaner.state.floatbank5_a_air                                  0.415343   \n",
       "secondary_cleaner.state.floatbank5_a_level                                0.260220   \n",
       "secondary_cleaner.state.floatbank5_b_air                                  0.499829   \n",
       "secondary_cleaner.state.floatbank5_b_level                                0.155978   \n",
       "secondary_cleaner.state.floatbank6_a_air                                  0.389594   \n",
       "secondary_cleaner.state.floatbank6_a_level                                0.187429   \n",
       "\n",
       "                                            primary_cleaner.state.floatbank8_b_level  \\\n",
       "primary_cleaner.input.sulfate                                               0.138949   \n",
       "primary_cleaner.input.depressant                                            0.201499   \n",
       "primary_cleaner.input.feed_size                                             0.071470   \n",
       "primary_cleaner.input.xanthate                                              0.016144   \n",
       "primary_cleaner.state.floatbank8_a_air                                     -0.018713   \n",
       "primary_cleaner.state.floatbank8_a_level                                    0.417515   \n",
       "primary_cleaner.state.floatbank8_b_air                                      0.010220   \n",
       "primary_cleaner.state.floatbank8_b_level                                    1.000000   \n",
       "primary_cleaner.state.floatbank8_c_air                                     -0.029228   \n",
       "primary_cleaner.state.floatbank8_c_level                                    0.406721   \n",
       "primary_cleaner.state.floatbank8_d_air                                      0.015972   \n",
       "primary_cleaner.state.floatbank8_d_level                                    0.233257   \n",
       "rougher.input.feed_ag                                                       0.128053   \n",
       "rougher.input.feed_pb                                                       0.223188   \n",
       "rougher.input.feed_rate                                                     0.032851   \n",
       "rougher.input.feed_size                                                    -0.043032   \n",
       "rougher.input.feed_sol                                                      0.043890   \n",
       "rougher.input.feed_au                                                       0.178838   \n",
       "rougher.input.floatbank10_sulfate                                           0.022164   \n",
       "rougher.input.floatbank10_xanthate                                          0.067695   \n",
       "rougher.input.floatbank11_sulfate                                           0.000932   \n",
       "rougher.input.floatbank11_xanthate                                          0.086555   \n",
       "rougher.state.floatbank10_a_air                                             0.207161   \n",
       "rougher.state.floatbank10_a_level                                           0.076225   \n",
       "rougher.state.floatbank10_b_air                                            -0.014215   \n",
       "rougher.state.floatbank10_b_level                                           0.020230   \n",
       "rougher.state.floatbank10_c_air                                            -0.052763   \n",
       "rougher.state.floatbank10_c_level                                           0.007639   \n",
       "rougher.state.floatbank10_d_air                                            -0.015855   \n",
       "rougher.state.floatbank10_d_level                                           0.005728   \n",
       "rougher.state.floatbank10_e_air                                            -0.052321   \n",
       "rougher.state.floatbank10_e_level                                           0.002047   \n",
       "rougher.state.floatbank10_f_air                                            -0.007648   \n",
       "rougher.state.floatbank10_f_level                                           0.013656   \n",
       "secondary_cleaner.state.floatbank2_a_air                                    0.064037   \n",
       "secondary_cleaner.state.floatbank2_a_level                                  0.006019   \n",
       "secondary_cleaner.state.floatbank2_b_air                                    0.104963   \n",
       "secondary_cleaner.state.floatbank2_b_level                                  0.009400   \n",
       "secondary_cleaner.state.floatbank3_a_air                                    0.087090   \n",
       "secondary_cleaner.state.floatbank3_a_level                                  0.094441   \n",
       "secondary_cleaner.state.floatbank3_b_air                                    0.081030   \n",
       "secondary_cleaner.state.floatbank3_b_level                                  0.100982   \n",
       "secondary_cleaner.state.floatbank4_a_air                                    0.078411   \n",
       "secondary_cleaner.state.floatbank4_a_level                                  0.216342   \n",
       "secondary_cleaner.state.floatbank4_b_air                                    0.054902   \n",
       "secondary_cleaner.state.floatbank4_b_level                                 -0.038440   \n",
       "secondary_cleaner.state.floatbank5_a_air                                   -0.009671   \n",
       "secondary_cleaner.state.floatbank5_a_level                                  0.029409   \n",
       "secondary_cleaner.state.floatbank5_b_air                                    0.012115   \n",
       "secondary_cleaner.state.floatbank5_b_level                                  0.004864   \n",
       "secondary_cleaner.state.floatbank6_a_air                                   -0.006694   \n",
       "secondary_cleaner.state.floatbank6_a_level                                  0.012904   \n",
       "\n",
       "                                            primary_cleaner.state.floatbank8_c_air  \\\n",
       "primary_cleaner.input.sulfate                                             0.024710   \n",
       "primary_cleaner.input.depressant                                          0.036655   \n",
       "primary_cleaner.input.feed_size                                          -0.091542   \n",
       "primary_cleaner.input.xanthate                                            0.044194   \n",
       "primary_cleaner.state.floatbank8_a_air                                    0.814992   \n",
       "primary_cleaner.state.floatbank8_a_level                                 -0.018378   \n",
       "primary_cleaner.state.floatbank8_b_air                                    0.862946   \n",
       "primary_cleaner.state.floatbank8_b_level                                 -0.029228   \n",
       "primary_cleaner.state.floatbank8_c_air                                    1.000000   \n",
       "primary_cleaner.state.floatbank8_c_level                                  0.003322   \n",
       "primary_cleaner.state.floatbank8_d_air                                    0.848010   \n",
       "primary_cleaner.state.floatbank8_d_level                                  0.013847   \n",
       "rougher.input.feed_ag                                                     0.149500   \n",
       "rougher.input.feed_pb                                                    -0.054736   \n",
       "rougher.input.feed_rate                                                  -0.103408   \n",
       "rougher.input.feed_size                                                  -0.163889   \n",
       "rougher.input.feed_sol                                                   -0.160445   \n",
       "rougher.input.feed_au                                                     0.168597   \n",
       "rougher.input.floatbank10_sulfate                                        -0.021043   \n",
       "rougher.input.floatbank10_xanthate                                        0.135009   \n",
       "rougher.input.floatbank11_sulfate                                         0.006816   \n",
       "rougher.input.floatbank11_xanthate                                        0.151603   \n",
       "rougher.state.floatbank10_a_air                                          -0.087974   \n",
       "rougher.state.floatbank10_a_level                                        -0.222135   \n",
       "rougher.state.floatbank10_b_air                                           0.300457   \n",
       "rougher.state.floatbank10_b_level                                         0.451746   \n",
       "rougher.state.floatbank10_c_air                                           0.360889   \n",
       "rougher.state.floatbank10_c_level                                         0.453606   \n",
       "rougher.state.floatbank10_d_air                                           0.310832   \n",
       "rougher.state.floatbank10_d_level                                         0.406637   \n",
       "rougher.state.floatbank10_e_air                                           0.452348   \n",
       "rougher.state.floatbank10_e_level                                         0.463951   \n",
       "rougher.state.floatbank10_f_air                                           0.354735   \n",
       "rougher.state.floatbank10_f_level                                         0.471963   \n",
       "secondary_cleaner.state.floatbank2_a_air                                  0.277937   \n",
       "secondary_cleaner.state.floatbank2_a_level                                0.022228   \n",
       "secondary_cleaner.state.floatbank2_b_air                                  0.362753   \n",
       "secondary_cleaner.state.floatbank2_b_level                               -0.014146   \n",
       "secondary_cleaner.state.floatbank3_a_air                                  0.414449   \n",
       "secondary_cleaner.state.floatbank3_a_level                               -0.030285   \n",
       "secondary_cleaner.state.floatbank3_b_air                                  0.493835   \n",
       "secondary_cleaner.state.floatbank3_b_level                               -0.000623   \n",
       "secondary_cleaner.state.floatbank4_a_air                                  0.366373   \n",
       "secondary_cleaner.state.floatbank4_a_level                                0.047373   \n",
       "secondary_cleaner.state.floatbank4_b_air                                  0.396029   \n",
       "secondary_cleaner.state.floatbank4_b_level                               -0.031081   \n",
       "secondary_cleaner.state.floatbank5_a_air                                  0.400765   \n",
       "secondary_cleaner.state.floatbank5_a_level                                0.239333   \n",
       "secondary_cleaner.state.floatbank5_b_air                                  0.500353   \n",
       "secondary_cleaner.state.floatbank5_b_level                                0.117465   \n",
       "secondary_cleaner.state.floatbank6_a_air                                  0.490672   \n",
       "secondary_cleaner.state.floatbank6_a_level                                0.169634   \n",
       "\n",
       "                                            primary_cleaner.state.floatbank8_c_level  \\\n",
       "primary_cleaner.input.sulfate                                               0.027697   \n",
       "primary_cleaner.input.depressant                                            0.207632   \n",
       "primary_cleaner.input.feed_size                                             0.066384   \n",
       "primary_cleaner.input.xanthate                                             -0.078742   \n",
       "primary_cleaner.state.floatbank8_a_air                                      0.114058   \n",
       "primary_cleaner.state.floatbank8_a_level                                    0.784061   \n",
       "primary_cleaner.state.floatbank8_b_air                                      0.101127   \n",
       "primary_cleaner.state.floatbank8_b_level                                    0.406721   \n",
       "primary_cleaner.state.floatbank8_c_air                                      0.003322   \n",
       "primary_cleaner.state.floatbank8_c_level                                    1.000000   \n",
       "primary_cleaner.state.floatbank8_d_air                                      0.113492   \n",
       "primary_cleaner.state.floatbank8_d_level                                    0.486463   \n",
       "rougher.input.feed_ag                                                       0.162198   \n",
       "rougher.input.feed_pb                                                       0.176345   \n",
       "rougher.input.feed_rate                                                    -0.002124   \n",
       "rougher.input.feed_size                                                     0.003384   \n",
       "rougher.input.feed_sol                                                      0.042156   \n",
       "rougher.input.feed_au                                                       0.143132   \n",
       "rougher.input.floatbank10_sulfate                                          -0.079709   \n",
       "rougher.input.floatbank10_xanthate                                          0.082145   \n",
       "rougher.input.floatbank11_sulfate                                          -0.087809   \n",
       "rougher.input.floatbank11_xanthate                                          0.085452   \n",
       "rougher.state.floatbank10_a_air                                             0.333690   \n",
       "rougher.state.floatbank10_a_level                                           0.131849   \n",
       "rougher.state.floatbank10_b_air                                            -0.039398   \n",
       "rougher.state.floatbank10_b_level                                          -0.015591   \n",
       "rougher.state.floatbank10_c_air                                            -0.089468   \n",
       "rougher.state.floatbank10_c_level                                          -0.020945   \n",
       "rougher.state.floatbank10_d_air                                            -0.089773   \n",
       "rougher.state.floatbank10_d_level                                          -0.049447   \n",
       "rougher.state.floatbank10_e_air                                            -0.067798   \n",
       "rougher.state.floatbank10_e_level                                          -0.048384   \n",
       "rougher.state.floatbank10_f_air                                            -0.022972   \n",
       "rougher.state.floatbank10_f_level                                          -0.019199   \n",
       "secondary_cleaner.state.floatbank2_a_air                                    0.107395   \n",
       "secondary_cleaner.state.floatbank2_a_level                                  0.075413   \n",
       "secondary_cleaner.state.floatbank2_b_air                                    0.150856   \n",
       "secondary_cleaner.state.floatbank2_b_level                                  0.066475   \n",
       "secondary_cleaner.state.floatbank3_a_air                                    0.074868   \n",
       "secondary_cleaner.state.floatbank3_a_level                                  0.065685   \n",
       "secondary_cleaner.state.floatbank3_b_air                                    0.058887   \n",
       "secondary_cleaner.state.floatbank3_b_level                                  0.050184   \n",
       "secondary_cleaner.state.floatbank4_a_air                                    0.151945   \n",
       "secondary_cleaner.state.floatbank4_a_level                                  0.093293   \n",
       "secondary_cleaner.state.floatbank4_b_air                                    0.071559   \n",
       "secondary_cleaner.state.floatbank4_b_level                                 -0.013814   \n",
       "secondary_cleaner.state.floatbank5_a_air                                   -0.018878   \n",
       "secondary_cleaner.state.floatbank5_a_level                                  0.143313   \n",
       "secondary_cleaner.state.floatbank5_b_air                                   -0.004169   \n",
       "secondary_cleaner.state.floatbank5_b_level                                  0.061153   \n",
       "secondary_cleaner.state.floatbank6_a_air                                   -0.087866   \n",
       "secondary_cleaner.state.floatbank6_a_level                                  0.067955   \n",
       "\n",
       "                                            ...  \\\n",
       "primary_cleaner.input.sulfate               ...   \n",
       "primary_cleaner.input.depressant            ...   \n",
       "primary_cleaner.input.feed_size             ...   \n",
       "primary_cleaner.input.xanthate              ...   \n",
       "primary_cleaner.state.floatbank8_a_air      ...   \n",
       "primary_cleaner.state.floatbank8_a_level    ...   \n",
       "primary_cleaner.state.floatbank8_b_air      ...   \n",
       "primary_cleaner.state.floatbank8_b_level    ...   \n",
       "primary_cleaner.state.floatbank8_c_air      ...   \n",
       "primary_cleaner.state.floatbank8_c_level    ...   \n",
       "primary_cleaner.state.floatbank8_d_air      ...   \n",
       "primary_cleaner.state.floatbank8_d_level    ...   \n",
       "rougher.input.feed_ag                       ...   \n",
       "rougher.input.feed_pb                       ...   \n",
       "rougher.input.feed_rate                     ...   \n",
       "rougher.input.feed_size                     ...   \n",
       "rougher.input.feed_sol                      ...   \n",
       "rougher.input.feed_au                       ...   \n",
       "rougher.input.floatbank10_sulfate           ...   \n",
       "rougher.input.floatbank10_xanthate          ...   \n",
       "rougher.input.floatbank11_sulfate           ...   \n",
       "rougher.input.floatbank11_xanthate          ...   \n",
       "rougher.state.floatbank10_a_air             ...   \n",
       "rougher.state.floatbank10_a_level           ...   \n",
       "rougher.state.floatbank10_b_air             ...   \n",
       "rougher.state.floatbank10_b_level           ...   \n",
       "rougher.state.floatbank10_c_air             ...   \n",
       "rougher.state.floatbank10_c_level           ...   \n",
       "rougher.state.floatbank10_d_air             ...   \n",
       "rougher.state.floatbank10_d_level           ...   \n",
       "rougher.state.floatbank10_e_air             ...   \n",
       "rougher.state.floatbank10_e_level           ...   \n",
       "rougher.state.floatbank10_f_air             ...   \n",
       "rougher.state.floatbank10_f_level           ...   \n",
       "secondary_cleaner.state.floatbank2_a_air    ...   \n",
       "secondary_cleaner.state.floatbank2_a_level  ...   \n",
       "secondary_cleaner.state.floatbank2_b_air    ...   \n",
       "secondary_cleaner.state.floatbank2_b_level  ...   \n",
       "secondary_cleaner.state.floatbank3_a_air    ...   \n",
       "secondary_cleaner.state.floatbank3_a_level  ...   \n",
       "secondary_cleaner.state.floatbank3_b_air    ...   \n",
       "secondary_cleaner.state.floatbank3_b_level  ...   \n",
       "secondary_cleaner.state.floatbank4_a_air    ...   \n",
       "secondary_cleaner.state.floatbank4_a_level  ...   \n",
       "secondary_cleaner.state.floatbank4_b_air    ...   \n",
       "secondary_cleaner.state.floatbank4_b_level  ...   \n",
       "secondary_cleaner.state.floatbank5_a_air    ...   \n",
       "secondary_cleaner.state.floatbank5_a_level  ...   \n",
       "secondary_cleaner.state.floatbank5_b_air    ...   \n",
       "secondary_cleaner.state.floatbank5_b_level  ...   \n",
       "secondary_cleaner.state.floatbank6_a_air    ...   \n",
       "secondary_cleaner.state.floatbank6_a_level  ...   \n",
       "\n",
       "                                            secondary_cleaner.state.floatbank4_a_air  \\\n",
       "primary_cleaner.input.sulfate                                               0.305793   \n",
       "primary_cleaner.input.depressant                                            0.326090   \n",
       "primary_cleaner.input.feed_size                                            -0.148328   \n",
       "primary_cleaner.input.xanthate                                              0.313377   \n",
       "primary_cleaner.state.floatbank8_a_air                                      0.469180   \n",
       "primary_cleaner.state.floatbank8_a_level                                    0.171716   \n",
       "primary_cleaner.state.floatbank8_b_air                                      0.483741   \n",
       "primary_cleaner.state.floatbank8_b_level                                    0.078411   \n",
       "primary_cleaner.state.floatbank8_c_air                                      0.366373   \n",
       "primary_cleaner.state.floatbank8_c_level                                    0.151945   \n",
       "primary_cleaner.state.floatbank8_d_air                                      0.485859   \n",
       "primary_cleaner.state.floatbank8_d_level                                    0.053297   \n",
       "rougher.input.feed_ag                                                       0.167571   \n",
       "rougher.input.feed_pb                                                       0.114111   \n",
       "rougher.input.feed_rate                                                     0.171692   \n",
       "rougher.input.feed_size                                                     0.128550   \n",
       "rougher.input.feed_sol                                                      0.150514   \n",
       "rougher.input.feed_au                                                       0.165834   \n",
       "rougher.input.floatbank10_sulfate                                           0.306461   \n",
       "rougher.input.floatbank10_xanthate                                          0.240843   \n",
       "rougher.input.floatbank11_sulfate                                           0.283144   \n",
       "rougher.input.floatbank11_xanthate                                          0.226249   \n",
       "rougher.state.floatbank10_a_air                                             0.296594   \n",
       "rougher.state.floatbank10_a_level                                           0.207514   \n",
       "rougher.state.floatbank10_b_air                                            -0.171947   \n",
       "rougher.state.floatbank10_b_level                                           0.067727   \n",
       "rougher.state.floatbank10_c_air                                            -0.168834   \n",
       "rougher.state.floatbank10_c_level                                           0.068885   \n",
       "rougher.state.floatbank10_d_air                                            -0.173221   \n",
       "rougher.state.floatbank10_d_level                                           0.072947   \n",
       "rougher.state.floatbank10_e_air                                             0.018780   \n",
       "rougher.state.floatbank10_e_level                                           0.150501   \n",
       "rougher.state.floatbank10_f_air                                             0.043791   \n",
       "rougher.state.floatbank10_f_level                                           0.168028   \n",
       "secondary_cleaner.state.floatbank2_a_air                                    0.394865   \n",
       "secondary_cleaner.state.floatbank2_a_level                                 -0.076507   \n",
       "secondary_cleaner.state.floatbank2_b_air                                    0.640874   \n",
       "secondary_cleaner.state.floatbank2_b_level                                 -0.062850   \n",
       "secondary_cleaner.state.floatbank3_a_air                                    0.412838   \n",
       "secondary_cleaner.state.floatbank3_a_level                                 -0.067846   \n",
       "secondary_cleaner.state.floatbank3_b_air                                    0.480531   \n",
       "secondary_cleaner.state.floatbank3_b_level                                 -0.048674   \n",
       "secondary_cleaner.state.floatbank4_a_air                                    1.000000   \n",
       "secondary_cleaner.state.floatbank4_a_level                                  0.346120   \n",
       "secondary_cleaner.state.floatbank4_b_air                                    0.925344   \n",
       "secondary_cleaner.state.floatbank4_b_level                                  0.256080   \n",
       "secondary_cleaner.state.floatbank5_a_air                                    0.523977   \n",
       "secondary_cleaner.state.floatbank5_a_level                                  0.221838   \n",
       "secondary_cleaner.state.floatbank5_b_air                                    0.630029   \n",
       "secondary_cleaner.state.floatbank5_b_level                                  0.132053   \n",
       "secondary_cleaner.state.floatbank6_a_air                                    0.082357   \n",
       "secondary_cleaner.state.floatbank6_a_level                                  0.145112   \n",
       "\n",
       "                                            secondary_cleaner.state.floatbank4_a_level  \\\n",
       "primary_cleaner.input.sulfate                                                 0.117976   \n",
       "primary_cleaner.input.depressant                                              0.117510   \n",
       "primary_cleaner.input.feed_size                                              -0.121148   \n",
       "primary_cleaner.input.xanthate                                                0.131178   \n",
       "primary_cleaner.state.floatbank8_a_air                                        0.005962   \n",
       "primary_cleaner.state.floatbank8_a_level                                      0.096500   \n",
       "primary_cleaner.state.floatbank8_b_air                                        0.023801   \n",
       "primary_cleaner.state.floatbank8_b_level                                      0.216342   \n",
       "primary_cleaner.state.floatbank8_c_air                                        0.047373   \n",
       "primary_cleaner.state.floatbank8_c_level                                      0.093293   \n",
       "primary_cleaner.state.floatbank8_d_air                                        0.022615   \n",
       "primary_cleaner.state.floatbank8_d_level                                      0.043851   \n",
       "rougher.input.feed_ag                                                        -0.069478   \n",
       "rougher.input.feed_pb                                                        -0.004391   \n",
       "rougher.input.feed_rate                                                       0.127274   \n",
       "rougher.input.feed_size                                                       0.063681   \n",
       "rougher.input.feed_sol                                                        0.065642   \n",
       "rougher.input.feed_au                                                        -0.039397   \n",
       "rougher.input.floatbank10_sulfate                                             0.163816   \n",
       "rougher.input.floatbank10_xanthate                                            0.070772   \n",
       "rougher.input.floatbank11_sulfate                                             0.184944   \n",
       "rougher.input.floatbank11_xanthate                                            0.079953   \n",
       "rougher.state.floatbank10_a_air                                               0.087591   \n",
       "rougher.state.floatbank10_a_level                                             0.131345   \n",
       "rougher.state.floatbank10_b_air                                               0.009334   \n",
       "rougher.state.floatbank10_b_level                                             0.010268   \n",
       "rougher.state.floatbank10_c_air                                              -0.010049   \n",
       "rougher.state.floatbank10_c_level                                             0.011038   \n",
       "rougher.state.floatbank10_d_air                                               0.025358   \n",
       "rougher.state.floatbank10_d_level                                            -0.013329   \n",
       "rougher.state.floatbank10_e_air                                              -0.034684   \n",
       "rougher.state.floatbank10_e_level                                             0.006505   \n",
       "rougher.state.floatbank10_f_air                                               0.025162   \n",
       "rougher.state.floatbank10_f_level                                             0.024309   \n",
       "secondary_cleaner.state.floatbank2_a_air                                      0.181556   \n",
       "secondary_cleaner.state.floatbank2_a_level                                    0.029511   \n",
       "secondary_cleaner.state.floatbank2_b_air                                      0.184139   \n",
       "secondary_cleaner.state.floatbank2_b_level                                    0.030289   \n",
       "secondary_cleaner.state.floatbank3_a_air                                      0.053102   \n",
       "secondary_cleaner.state.floatbank3_a_level                                    0.007752   \n",
       "secondary_cleaner.state.floatbank3_b_air                                      0.073603   \n",
       "secondary_cleaner.state.floatbank3_b_level                                    0.003195   \n",
       "secondary_cleaner.state.floatbank4_a_air                                      0.346120   \n",
       "secondary_cleaner.state.floatbank4_a_level                                    1.000000   \n",
       "secondary_cleaner.state.floatbank4_b_air                                      0.291668   \n",
       "secondary_cleaner.state.floatbank4_b_level                                    0.322602   \n",
       "secondary_cleaner.state.floatbank5_a_air                                      0.139509   \n",
       "secondary_cleaner.state.floatbank5_a_level                                    0.129475   \n",
       "secondary_cleaner.state.floatbank5_b_air                                      0.196989   \n",
       "secondary_cleaner.state.floatbank5_b_level                                    0.038650   \n",
       "secondary_cleaner.state.floatbank6_a_air                                      0.027717   \n",
       "secondary_cleaner.state.floatbank6_a_level                                    0.028501   \n",
       "\n",
       "                                            secondary_cleaner.state.floatbank4_b_air  \\\n",
       "primary_cleaner.input.sulfate                                               0.348395   \n",
       "primary_cleaner.input.depressant                                            0.238618   \n",
       "primary_cleaner.input.feed_size                                            -0.173658   \n",
       "primary_cleaner.input.xanthate                                              0.360961   \n",
       "primary_cleaner.state.floatbank8_a_air                                      0.476742   \n",
       "primary_cleaner.state.floatbank8_a_level                                    0.084418   \n",
       "primary_cleaner.state.floatbank8_b_air                                      0.487327   \n",
       "primary_cleaner.state.floatbank8_b_level                                    0.054902   \n",
       "primary_cleaner.state.floatbank8_c_air                                      0.396029   \n",
       "primary_cleaner.state.floatbank8_c_level                                    0.071559   \n",
       "primary_cleaner.state.floatbank8_d_air                                      0.491643   \n",
       "primary_cleaner.state.floatbank8_d_level                                    0.001856   \n",
       "rougher.input.feed_ag                                                       0.150561   \n",
       "rougher.input.feed_pb                                                       0.138647   \n",
       "rougher.input.feed_rate                                                     0.129663   \n",
       "rougher.input.feed_size                                                     0.037702   \n",
       "rougher.input.feed_sol                                                      0.085967   \n",
       "rougher.input.feed_au                                                       0.160088   \n",
       "rougher.input.floatbank10_sulfate                                           0.329987   \n",
       "rougher.input.floatbank10_xanthate                                          0.187300   \n",
       "rougher.input.floatbank11_sulfate                                           0.306831   \n",
       "rougher.input.floatbank11_xanthate                                          0.160424   \n",
       "rougher.state.floatbank10_a_air                                             0.239912   \n",
       "rougher.state.floatbank10_a_level                                           0.116369   \n",
       "rougher.state.floatbank10_b_air                                            -0.099376   \n",
       "rougher.state.floatbank10_b_level                                           0.105702   \n",
       "rougher.state.floatbank10_c_air                                            -0.100264   \n",
       "rougher.state.floatbank10_c_level                                           0.104035   \n",
       "rougher.state.floatbank10_d_air                                            -0.084851   \n",
       "rougher.state.floatbank10_d_level                                           0.109479   \n",
       "rougher.state.floatbank10_e_air                                             0.067346   \n",
       "rougher.state.floatbank10_e_level                                           0.168247   \n",
       "rougher.state.floatbank10_f_air                                             0.084106   \n",
       "rougher.state.floatbank10_f_level                                           0.188557   \n",
       "secondary_cleaner.state.floatbank2_a_air                                    0.375200   \n",
       "secondary_cleaner.state.floatbank2_a_level                                 -0.097089   \n",
       "secondary_cleaner.state.floatbank2_b_air                                    0.664160   \n",
       "secondary_cleaner.state.floatbank2_b_level                                 -0.077545   \n",
       "secondary_cleaner.state.floatbank3_a_air                                    0.432797   \n",
       "secondary_cleaner.state.floatbank3_a_level                                 -0.088951   \n",
       "secondary_cleaner.state.floatbank3_b_air                                    0.534658   \n",
       "secondary_cleaner.state.floatbank3_b_level                                 -0.061874   \n",
       "secondary_cleaner.state.floatbank4_a_air                                    0.925344   \n",
       "secondary_cleaner.state.floatbank4_a_level                                  0.291668   \n",
       "secondary_cleaner.state.floatbank4_b_air                                    1.000000   \n",
       "secondary_cleaner.state.floatbank4_b_level                                  0.162442   \n",
       "secondary_cleaner.state.floatbank5_a_air                                    0.621448   \n",
       "secondary_cleaner.state.floatbank5_a_level                                  0.231617   \n",
       "secondary_cleaner.state.floatbank5_b_air                                    0.690637   \n",
       "secondary_cleaner.state.floatbank5_b_level                                  0.151066   \n",
       "secondary_cleaner.state.floatbank6_a_air                                    0.188092   \n",
       "secondary_cleaner.state.floatbank6_a_level                                  0.142336   \n",
       "\n",
       "                                            secondary_cleaner.state.floatbank4_b_level  \\\n",
       "primary_cleaner.input.sulfate                                                 0.068693   \n",
       "primary_cleaner.input.depressant                                             -0.085583   \n",
       "primary_cleaner.input.feed_size                                              -0.137180   \n",
       "primary_cleaner.input.xanthate                                                0.121575   \n",
       "primary_cleaner.state.floatbank8_a_air                                       -0.058593   \n",
       "primary_cleaner.state.floatbank8_a_level                                     -0.005819   \n",
       "primary_cleaner.state.floatbank8_b_air                                       -0.080058   \n",
       "primary_cleaner.state.floatbank8_b_level                                     -0.038440   \n",
       "primary_cleaner.state.floatbank8_c_air                                       -0.031081   \n",
       "primary_cleaner.state.floatbank8_c_level                                     -0.013814   \n",
       "primary_cleaner.state.floatbank8_d_air                                       -0.072571   \n",
       "primary_cleaner.state.floatbank8_d_level                                     -0.017416   \n",
       "rougher.input.feed_ag                                                        -0.291577   \n",
       "rougher.input.feed_pb                                                        -0.206534   \n",
       "rougher.input.feed_rate                                                       0.358922   \n",
       "rougher.input.feed_size                                                       0.325574   \n",
       "rougher.input.feed_sol                                                        0.416526   \n",
       "rougher.input.feed_au                                                        -0.266889   \n",
       "rougher.input.floatbank10_sulfate                                             0.298333   \n",
       "rougher.input.floatbank10_xanthate                                            0.163137   \n",
       "rougher.input.floatbank11_sulfate                                             0.340335   \n",
       "rougher.input.floatbank11_xanthate                                            0.215856   \n",
       "rougher.state.floatbank10_a_air                                              -0.123604   \n",
       "rougher.state.floatbank10_a_level                                             0.261028   \n",
       "rougher.state.floatbank10_b_air                                              -0.213919   \n",
       "rougher.state.floatbank10_b_level                                            -0.213382   \n",
       "rougher.state.floatbank10_c_air                                              -0.229330   \n",
       "rougher.state.floatbank10_c_level                                            -0.217125   \n",
       "rougher.state.floatbank10_d_air                                              -0.262495   \n",
       "rougher.state.floatbank10_d_level                                            -0.220828   \n",
       "rougher.state.floatbank10_e_air                                              -0.169546   \n",
       "rougher.state.floatbank10_e_level                                            -0.214266   \n",
       "rougher.state.floatbank10_f_air                                              -0.112751   \n",
       "rougher.state.floatbank10_f_level                                            -0.210791   \n",
       "secondary_cleaner.state.floatbank2_a_air                                     -0.006746   \n",
       "secondary_cleaner.state.floatbank2_a_level                                   -0.016680   \n",
       "secondary_cleaner.state.floatbank2_b_air                                      0.001715   \n",
       "secondary_cleaner.state.floatbank2_b_level                                    0.013354   \n",
       "secondary_cleaner.state.floatbank3_a_air                                     -0.060988   \n",
       "secondary_cleaner.state.floatbank3_a_level                                    0.018798   \n",
       "secondary_cleaner.state.floatbank3_b_air                                     -0.188031   \n",
       "secondary_cleaner.state.floatbank3_b_level                                    0.035838   \n",
       "secondary_cleaner.state.floatbank4_a_air                                      0.256080   \n",
       "secondary_cleaner.state.floatbank4_a_level                                    0.322602   \n",
       "secondary_cleaner.state.floatbank4_b_air                                      0.162442   \n",
       "secondary_cleaner.state.floatbank4_b_level                                    1.000000   \n",
       "secondary_cleaner.state.floatbank5_a_air                                     -0.107707   \n",
       "secondary_cleaner.state.floatbank5_a_level                                    0.147114   \n",
       "secondary_cleaner.state.floatbank5_b_air                                     -0.061246   \n",
       "secondary_cleaner.state.floatbank5_b_level                                    0.085526   \n",
       "secondary_cleaner.state.floatbank6_a_air                                     -0.336132   \n",
       "secondary_cleaner.state.floatbank6_a_level                                    0.046965   \n",
       "\n",
       "                                            secondary_cleaner.state.floatbank5_a_air  \\\n",
       "primary_cleaner.input.sulfate                                               0.093608   \n",
       "primary_cleaner.input.depressant                                           -0.090184   \n",
       "primary_cleaner.input.feed_size                                            -0.192880   \n",
       "primary_cleaner.input.xanthate                                              0.059162   \n",
       "primary_cleaner.state.floatbank8_a_air                                      0.408050   \n",
       "primary_cleaner.state.floatbank8_a_level                                   -0.036132   \n",
       "primary_cleaner.state.floatbank8_b_air                                      0.415343   \n",
       "primary_cleaner.state.floatbank8_b_level                                   -0.009671   \n",
       "primary_cleaner.state.floatbank8_c_air                                      0.400765   \n",
       "primary_cleaner.state.floatbank8_c_level                                   -0.018878   \n",
       "primary_cleaner.state.floatbank8_d_air                                      0.412552   \n",
       "primary_cleaner.state.floatbank8_d_level                                    0.008748   \n",
       "rougher.input.feed_ag                                                      -0.033441   \n",
       "rougher.input.feed_pb                                                      -0.068303   \n",
       "rougher.input.feed_rate                                                    -0.137310   \n",
       "rougher.input.feed_size                                                    -0.116859   \n",
       "rougher.input.feed_sol                                                     -0.229209   \n",
       "rougher.input.feed_au                                                      -0.037379   \n",
       "rougher.input.floatbank10_sulfate                                           0.039912   \n",
       "rougher.input.floatbank10_xanthate                                         -0.141634   \n",
       "rougher.input.floatbank11_sulfate                                           0.066931   \n",
       "rougher.input.floatbank11_xanthate                                         -0.155575   \n",
       "rougher.state.floatbank10_a_air                                            -0.043592   \n",
       "rougher.state.floatbank10_a_level                                          -0.130661   \n",
       "rougher.state.floatbank10_b_air                                             0.351196   \n",
       "rougher.state.floatbank10_b_level                                           0.177808   \n",
       "rougher.state.floatbank10_c_air                                             0.334076   \n",
       "rougher.state.floatbank10_c_level                                           0.172000   \n",
       "rougher.state.floatbank10_d_air                                             0.368140   \n",
       "rougher.state.floatbank10_d_level                                           0.148741   \n",
       "rougher.state.floatbank10_e_air                                             0.395027   \n",
       "rougher.state.floatbank10_e_level                                           0.264139   \n",
       "rougher.state.floatbank10_f_air                                             0.409527   \n",
       "rougher.state.floatbank10_f_level                                           0.261930   \n",
       "secondary_cleaner.state.floatbank2_a_air                                    0.364384   \n",
       "secondary_cleaner.state.floatbank2_a_level                                 -0.013389   \n",
       "secondary_cleaner.state.floatbank2_b_air                                    0.513680   \n",
       "secondary_cleaner.state.floatbank2_b_level                                 -0.020293   \n",
       "secondary_cleaner.state.floatbank3_a_air                                    0.310308   \n",
       "secondary_cleaner.state.floatbank3_a_level                                 -0.197216   \n",
       "secondary_cleaner.state.floatbank3_b_air                                    0.462017   \n",
       "secondary_cleaner.state.floatbank3_b_level                                 -0.174450   \n",
       "secondary_cleaner.state.floatbank4_a_air                                    0.523977   \n",
       "secondary_cleaner.state.floatbank4_a_level                                  0.139509   \n",
       "secondary_cleaner.state.floatbank4_b_air                                    0.621448   \n",
       "secondary_cleaner.state.floatbank4_b_level                                 -0.107707   \n",
       "secondary_cleaner.state.floatbank5_a_air                                    1.000000   \n",
       "secondary_cleaner.state.floatbank5_a_level                                  0.159737   \n",
       "secondary_cleaner.state.floatbank5_b_air                                    0.839300   \n",
       "secondary_cleaner.state.floatbank5_b_level                                  0.097730   \n",
       "secondary_cleaner.state.floatbank6_a_air                                    0.508881   \n",
       "secondary_cleaner.state.floatbank6_a_level                                  0.080659   \n",
       "\n",
       "                                            secondary_cleaner.state.floatbank5_a_level  \\\n",
       "primary_cleaner.input.sulfate                                                 0.132193   \n",
       "primary_cleaner.input.depressant                                              0.009138   \n",
       "primary_cleaner.input.feed_size                                              -0.059167   \n",
       "primary_cleaner.input.xanthate                                                0.128636   \n",
       "primary_cleaner.state.floatbank8_a_air                                        0.271547   \n",
       "primary_cleaner.state.floatbank8_a_level                                      0.164220   \n",
       "primary_cleaner.state.floatbank8_b_air                                        0.260220   \n",
       "primary_cleaner.state.floatbank8_b_level                                      0.029409   \n",
       "primary_cleaner.state.floatbank8_c_air                                        0.239333   \n",
       "primary_cleaner.state.floatbank8_c_level                                      0.143313   \n",
       "primary_cleaner.state.floatbank8_d_air                                        0.259882   \n",
       "primary_cleaner.state.floatbank8_d_level                                      0.078442   \n",
       "rougher.input.feed_ag                                                        -0.011144   \n",
       "rougher.input.feed_pb                                                         0.052358   \n",
       "rougher.input.feed_rate                                                       0.097025   \n",
       "rougher.input.feed_size                                                       0.045213   \n",
       "rougher.input.feed_sol                                                        0.089788   \n",
       "rougher.input.feed_au                                                         0.016553   \n",
       "rougher.input.floatbank10_sulfate                                             0.085431   \n",
       "rougher.input.floatbank10_xanthate                                            0.130590   \n",
       "rougher.input.floatbank11_sulfate                                             0.113906   \n",
       "rougher.input.floatbank11_xanthate                                            0.141563   \n",
       "rougher.state.floatbank10_a_air                                               0.105358   \n",
       "rougher.state.floatbank10_a_level                                             0.119156   \n",
       "rougher.state.floatbank10_b_air                                               0.116437   \n",
       "rougher.state.floatbank10_b_level                                             0.089507   \n",
       "rougher.state.floatbank10_c_air                                               0.092861   \n",
       "rougher.state.floatbank10_c_level                                             0.078225   \n",
       "rougher.state.floatbank10_d_air                                               0.060210   \n",
       "rougher.state.floatbank10_d_level                                             0.048372   \n",
       "rougher.state.floatbank10_e_air                                               0.087056   \n",
       "rougher.state.floatbank10_e_level                                             0.050704   \n",
       "rougher.state.floatbank10_f_air                                               0.085782   \n",
       "rougher.state.floatbank10_f_level                                             0.066304   \n",
       "secondary_cleaner.state.floatbank2_a_air                                      0.161586   \n",
       "secondary_cleaner.state.floatbank2_a_level                                    0.077666   \n",
       "secondary_cleaner.state.floatbank2_b_air                                      0.228662   \n",
       "secondary_cleaner.state.floatbank2_b_level                                    0.078675   \n",
       "secondary_cleaner.state.floatbank3_a_air                                      0.187541   \n",
       "secondary_cleaner.state.floatbank3_a_level                                    0.045148   \n",
       "secondary_cleaner.state.floatbank3_b_air                                      0.174008   \n",
       "secondary_cleaner.state.floatbank3_b_level                                    0.189707   \n",
       "secondary_cleaner.state.floatbank4_a_air                                      0.221838   \n",
       "secondary_cleaner.state.floatbank4_a_level                                    0.129475   \n",
       "secondary_cleaner.state.floatbank4_b_air                                      0.231617   \n",
       "secondary_cleaner.state.floatbank4_b_level                                    0.147114   \n",
       "secondary_cleaner.state.floatbank5_a_air                                      0.159737   \n",
       "secondary_cleaner.state.floatbank5_a_level                                    1.000000   \n",
       "secondary_cleaner.state.floatbank5_b_air                                      0.224178   \n",
       "secondary_cleaner.state.floatbank5_b_level                                    0.516684   \n",
       "secondary_cleaner.state.floatbank6_a_air                                     -0.013499   \n",
       "secondary_cleaner.state.floatbank6_a_level                                    0.404586   \n",
       "\n",
       "                                            secondary_cleaner.state.floatbank5_b_air  \\\n",
       "primary_cleaner.input.sulfate                                               0.156583   \n",
       "primary_cleaner.input.depressant                                            0.064209   \n",
       "primary_cleaner.input.feed_size                                            -0.214970   \n",
       "primary_cleaner.input.xanthate                                              0.077380   \n",
       "primary_cleaner.state.floatbank8_a_air                                      0.465492   \n",
       "primary_cleaner.state.floatbank8_a_level                                   -0.012665   \n",
       "primary_cleaner.state.floatbank8_b_air                                      0.499829   \n",
       "primary_cleaner.state.floatbank8_b_level                                    0.012115   \n",
       "primary_cleaner.state.floatbank8_c_air                                      0.500353   \n",
       "primary_cleaner.state.floatbank8_c_level                                   -0.004169   \n",
       "primary_cleaner.state.floatbank8_d_air                                      0.492616   \n",
       "primary_cleaner.state.floatbank8_d_level                                    0.006287   \n",
       "rougher.input.feed_ag                                                      -0.042389   \n",
       "rougher.input.feed_pb                                                      -0.029590   \n",
       "rougher.input.feed_rate                                                    -0.073347   \n",
       "rougher.input.feed_size                                                    -0.104374   \n",
       "rougher.input.feed_sol                                                     -0.174981   \n",
       "rougher.input.feed_au                                                      -0.015953   \n",
       "rougher.input.floatbank10_sulfate                                           0.143205   \n",
       "rougher.input.floatbank10_xanthate                                         -0.043725   \n",
       "rougher.input.floatbank11_sulfate                                           0.164150   \n",
       "rougher.input.floatbank11_xanthate                                         -0.046432   \n",
       "rougher.state.floatbank10_a_air                                            -0.078618   \n",
       "rougher.state.floatbank10_a_level                                           0.023681   \n",
       "rougher.state.floatbank10_b_air                                             0.291708   \n",
       "rougher.state.floatbank10_b_level                                           0.345947   \n",
       "rougher.state.floatbank10_c_air                                             0.309043   \n",
       "rougher.state.floatbank10_c_level                                           0.353681   \n",
       "rougher.state.floatbank10_d_air                                             0.340406   \n",
       "rougher.state.floatbank10_d_level                                           0.332464   \n",
       "rougher.state.floatbank10_e_air                                             0.414665   \n",
       "rougher.state.floatbank10_e_level                                           0.407902   \n",
       "rougher.state.floatbank10_f_air                                             0.415871   \n",
       "rougher.state.floatbank10_f_level                                           0.392998   \n",
       "secondary_cleaner.state.floatbank2_a_air                                    0.482872   \n",
       "secondary_cleaner.state.floatbank2_a_level                                  0.001987   \n",
       "secondary_cleaner.state.floatbank2_b_air                                    0.670703   \n",
       "secondary_cleaner.state.floatbank2_b_level                                 -0.006990   \n",
       "secondary_cleaner.state.floatbank3_a_air                                    0.525449   \n",
       "secondary_cleaner.state.floatbank3_a_level                                 -0.088070   \n",
       "secondary_cleaner.state.floatbank3_b_air                                    0.641391   \n",
       "secondary_cleaner.state.floatbank3_b_level                                 -0.061240   \n",
       "secondary_cleaner.state.floatbank4_a_air                                    0.630029   \n",
       "secondary_cleaner.state.floatbank4_a_level                                  0.196989   \n",
       "secondary_cleaner.state.floatbank4_b_air                                    0.690637   \n",
       "secondary_cleaner.state.floatbank4_b_level                                 -0.061246   \n",
       "secondary_cleaner.state.floatbank5_a_air                                    0.839300   \n",
       "secondary_cleaner.state.floatbank5_a_level                                  0.224178   \n",
       "secondary_cleaner.state.floatbank5_b_air                                    1.000000   \n",
       "secondary_cleaner.state.floatbank5_b_level                                  0.131951   \n",
       "secondary_cleaner.state.floatbank6_a_air                                    0.463425   \n",
       "secondary_cleaner.state.floatbank6_a_level                                  0.156877   \n",
       "\n",
       "                                            secondary_cleaner.state.floatbank5_b_level  \\\n",
       "primary_cleaner.input.sulfate                                                 0.072618   \n",
       "primary_cleaner.input.depressant                                              0.002988   \n",
       "primary_cleaner.input.feed_size                                              -0.054173   \n",
       "primary_cleaner.input.xanthate                                                0.095508   \n",
       "primary_cleaner.state.floatbank8_a_air                                        0.161509   \n",
       "primary_cleaner.state.floatbank8_a_level                                      0.091263   \n",
       "primary_cleaner.state.floatbank8_b_air                                        0.155978   \n",
       "primary_cleaner.state.floatbank8_b_level                                      0.004864   \n",
       "primary_cleaner.state.floatbank8_c_air                                        0.117465   \n",
       "primary_cleaner.state.floatbank8_c_level                                      0.061153   \n",
       "primary_cleaner.state.floatbank8_d_air                                        0.158148   \n",
       "primary_cleaner.state.floatbank8_d_level                                      0.006570   \n",
       "rougher.input.feed_ag                                                         0.039210   \n",
       "rougher.input.feed_pb                                                         0.077829   \n",
       "rougher.input.feed_rate                                                       0.013943   \n",
       "rougher.input.feed_size                                                      -0.003561   \n",
       "rougher.input.feed_sol                                                        0.008899   \n",
       "rougher.input.feed_au                                                         0.074743   \n",
       "rougher.input.floatbank10_sulfate                                             0.058667   \n",
       "rougher.input.floatbank10_xanthate                                            0.081810   \n",
       "rougher.input.floatbank11_sulfate                                             0.074344   \n",
       "rougher.input.floatbank11_xanthate                                            0.082836   \n",
       "rougher.state.floatbank10_a_air                                               0.072453   \n",
       "rougher.state.floatbank10_a_level                                             0.012086   \n",
       "rougher.state.floatbank10_b_air                                               0.078298   \n",
       "rougher.state.floatbank10_b_level                                             0.058823   \n",
       "rougher.state.floatbank10_c_air                                               0.070987   \n",
       "rougher.state.floatbank10_c_level                                             0.054056   \n",
       "rougher.state.floatbank10_d_air                                               0.045190   \n",
       "rougher.state.floatbank10_d_level                                             0.039969   \n",
       "rougher.state.floatbank10_e_air                                               0.084650   \n",
       "rougher.state.floatbank10_e_level                                             0.048908   \n",
       "rougher.state.floatbank10_f_air                                               0.074507   \n",
       "rougher.state.floatbank10_f_level                                             0.056624   \n",
       "secondary_cleaner.state.floatbank2_a_air                                      0.088529   \n",
       "secondary_cleaner.state.floatbank2_a_level                                    0.010127   \n",
       "secondary_cleaner.state.floatbank2_b_air                                      0.130072   \n",
       "secondary_cleaner.state.floatbank2_b_level                                    0.014914   \n",
       "secondary_cleaner.state.floatbank3_a_air                                      0.100079   \n",
       "secondary_cleaner.state.floatbank3_a_level                                   -0.024978   \n",
       "secondary_cleaner.state.floatbank3_b_air                                      0.089819   \n",
       "secondary_cleaner.state.floatbank3_b_level                                    0.049728   \n",
       "secondary_cleaner.state.floatbank4_a_air                                      0.132053   \n",
       "secondary_cleaner.state.floatbank4_a_level                                    0.038650   \n",
       "secondary_cleaner.state.floatbank4_b_air                                      0.151066   \n",
       "secondary_cleaner.state.floatbank4_b_level                                    0.085526   \n",
       "secondary_cleaner.state.floatbank5_a_air                                      0.097730   \n",
       "secondary_cleaner.state.floatbank5_a_level                                    0.516684   \n",
       "secondary_cleaner.state.floatbank5_b_air                                      0.131951   \n",
       "secondary_cleaner.state.floatbank5_b_level                                    1.000000   \n",
       "secondary_cleaner.state.floatbank6_a_air                                      0.028312   \n",
       "secondary_cleaner.state.floatbank6_a_level                                    0.336502   \n",
       "\n",
       "                                            secondary_cleaner.state.floatbank6_a_air  \\\n",
       "primary_cleaner.input.sulfate                                              -0.134499   \n",
       "primary_cleaner.input.depressant                                           -0.198422   \n",
       "primary_cleaner.input.feed_size                                             0.026930   \n",
       "primary_cleaner.input.xanthate                                             -0.218155   \n",
       "primary_cleaner.state.floatbank8_a_air                                      0.345231   \n",
       "primary_cleaner.state.floatbank8_a_level                                   -0.107710   \n",
       "primary_cleaner.state.floatbank8_b_air                                      0.389594   \n",
       "primary_cleaner.state.floatbank8_b_level                                   -0.006694   \n",
       "primary_cleaner.state.floatbank8_c_air                                      0.490672   \n",
       "primary_cleaner.state.floatbank8_c_level                                   -0.087866   \n",
       "primary_cleaner.state.floatbank8_d_air                                      0.378070   \n",
       "primary_cleaner.state.floatbank8_d_level                                   -0.036983   \n",
       "rougher.input.feed_ag                                                       0.212922   \n",
       "rougher.input.feed_pb                                                      -0.125363   \n",
       "rougher.input.feed_rate                                                    -0.414527   \n",
       "rougher.input.feed_size                                                    -0.356120   \n",
       "rougher.input.feed_sol                                                     -0.488305   \n",
       "rougher.input.feed_au                                                       0.191477   \n",
       "rougher.input.floatbank10_sulfate                                          -0.314369   \n",
       "rougher.input.floatbank10_xanthate                                         -0.112190   \n",
       "rougher.input.floatbank11_sulfate                                          -0.325954   \n",
       "rougher.input.floatbank11_xanthate                                         -0.150245   \n",
       "rougher.state.floatbank10_a_air                                            -0.334347   \n",
       "rougher.state.floatbank10_a_level                                          -0.561842   \n",
       "rougher.state.floatbank10_b_air                                             0.533462   \n",
       "rougher.state.floatbank10_b_level                                           0.455330   \n",
       "rougher.state.floatbank10_c_air                                             0.621525   \n",
       "rougher.state.floatbank10_c_level                                           0.455477   \n",
       "rougher.state.floatbank10_d_air                                             0.598880   \n",
       "rougher.state.floatbank10_d_level                                           0.430585   \n",
       "rougher.state.floatbank10_e_air                                             0.578157   \n",
       "rougher.state.floatbank10_e_level                                           0.484825   \n",
       "rougher.state.floatbank10_f_air                                             0.434982   \n",
       "rougher.state.floatbank10_f_level                                           0.483501   \n",
       "secondary_cleaner.state.floatbank2_a_air                                    0.146489   \n",
       "secondary_cleaner.state.floatbank2_a_level                                  0.048933   \n",
       "secondary_cleaner.state.floatbank2_b_air                                    0.103417   \n",
       "secondary_cleaner.state.floatbank2_b_level                                  0.010788   \n",
       "secondary_cleaner.state.floatbank3_a_air                                    0.268413   \n",
       "secondary_cleaner.state.floatbank3_a_level                                 -0.127807   \n",
       "secondary_cleaner.state.floatbank3_b_air                                    0.395344   \n",
       "secondary_cleaner.state.floatbank3_b_level                                 -0.144723   \n",
       "secondary_cleaner.state.floatbank4_a_air                                    0.082357   \n",
       "secondary_cleaner.state.floatbank4_a_level                                  0.027717   \n",
       "secondary_cleaner.state.floatbank4_b_air                                    0.188092   \n",
       "secondary_cleaner.state.floatbank4_b_level                                 -0.336132   \n",
       "secondary_cleaner.state.floatbank5_a_air                                    0.508881   \n",
       "secondary_cleaner.state.floatbank5_a_level                                 -0.013499   \n",
       "secondary_cleaner.state.floatbank5_b_air                                    0.463425   \n",
       "secondary_cleaner.state.floatbank5_b_level                                  0.028312   \n",
       "secondary_cleaner.state.floatbank6_a_air                                    1.000000   \n",
       "secondary_cleaner.state.floatbank6_a_level                                  0.189606   \n",
       "\n",
       "                                            secondary_cleaner.state.floatbank6_a_level  \n",
       "primary_cleaner.input.sulfate                                                 0.033945  \n",
       "primary_cleaner.input.depressant                                              0.034654  \n",
       "primary_cleaner.input.feed_size                                              -0.083021  \n",
       "primary_cleaner.input.xanthate                                                0.080662  \n",
       "primary_cleaner.state.floatbank8_a_air                                        0.172154  \n",
       "primary_cleaner.state.floatbank8_a_level                                      0.076271  \n",
       "primary_cleaner.state.floatbank8_b_air                                        0.187429  \n",
       "primary_cleaner.state.floatbank8_b_level                                      0.012904  \n",
       "primary_cleaner.state.floatbank8_c_air                                        0.169634  \n",
       "primary_cleaner.state.floatbank8_c_level                                      0.067955  \n",
       "primary_cleaner.state.floatbank8_d_air                                        0.184031  \n",
       "primary_cleaner.state.floatbank8_d_level                                      0.029999  \n",
       "rougher.input.feed_ag                                                        -0.001060  \n",
       "rougher.input.feed_pb                                                         0.067297  \n",
       "rougher.input.feed_rate                                                       0.024289  \n",
       "rougher.input.feed_size                                                       0.007405  \n",
       "rougher.input.feed_sol                                                        0.038093  \n",
       "rougher.input.feed_au                                                         0.036998  \n",
       "rougher.input.floatbank10_sulfate                                             0.066272  \n",
       "rougher.input.floatbank10_xanthate                                            0.112981  \n",
       "rougher.input.floatbank11_sulfate                                             0.082275  \n",
       "rougher.input.floatbank11_xanthate                                            0.129667  \n",
       "rougher.state.floatbank10_a_air                                               0.046717  \n",
       "rougher.state.floatbank10_a_level                                             0.087695  \n",
       "rougher.state.floatbank10_b_air                                               0.022975  \n",
       "rougher.state.floatbank10_b_level                                             0.034661  \n",
       "rougher.state.floatbank10_c_air                                               0.018168  \n",
       "rougher.state.floatbank10_c_level                                             0.031861  \n",
       "rougher.state.floatbank10_d_air                                               0.008341  \n",
       "rougher.state.floatbank10_d_level                                             0.021169  \n",
       "rougher.state.floatbank10_e_air                                               0.040936  \n",
       "rougher.state.floatbank10_e_level                                             0.056080  \n",
       "rougher.state.floatbank10_f_air                                               0.053557  \n",
       "rougher.state.floatbank10_f_level                                             0.064456  \n",
       "secondary_cleaner.state.floatbank2_a_air                                      0.127233  \n",
       "secondary_cleaner.state.floatbank2_a_level                                    0.025503  \n",
       "secondary_cleaner.state.floatbank2_b_air                                      0.158380  \n",
       "secondary_cleaner.state.floatbank2_b_level                                    0.023177  \n",
       "secondary_cleaner.state.floatbank3_a_air                                      0.124885  \n",
       "secondary_cleaner.state.floatbank3_a_level                                    0.010255  \n",
       "secondary_cleaner.state.floatbank3_b_air                                      0.114933  \n",
       "secondary_cleaner.state.floatbank3_b_level                                    0.076089  \n",
       "secondary_cleaner.state.floatbank4_a_air                                      0.145112  \n",
       "secondary_cleaner.state.floatbank4_a_level                                    0.028501  \n",
       "secondary_cleaner.state.floatbank4_b_air                                      0.142336  \n",
       "secondary_cleaner.state.floatbank4_b_level                                    0.046965  \n",
       "secondary_cleaner.state.floatbank5_a_air                                      0.080659  \n",
       "secondary_cleaner.state.floatbank5_a_level                                    0.404586  \n",
       "secondary_cleaner.state.floatbank5_b_air                                      0.156877  \n",
       "secondary_cleaner.state.floatbank5_b_level                                    0.336502  \n",
       "secondary_cleaner.state.floatbank6_a_air                                      0.189606  \n",
       "secondary_cleaner.state.floatbank6_a_level                                    1.000000  \n",
       "\n",
       "[52 rows x 52 columns]"
      ]
     },
     "metadata": {},
     "output_type": "display_data"
    },
    {
     "data": {
      "text/plain": [
       "'===================================================================================================='"
      ]
     },
     "metadata": {},
     "output_type": "display_data"
    },
    {
     "data": {
      "text/plain": [
       "'Дублей: '"
      ]
     },
     "metadata": {},
     "output_type": "display_data"
    },
    {
     "data": {
      "text/plain": [
       "0"
      ]
     },
     "metadata": {},
     "output_type": "display_data"
    },
    {
     "data": {
      "text/plain": [
       "'XXXXXXXXXXXXXXXXXXXXXXXXXXXXXXXXXXXXXXXXXXXXXXXXXXXXXXXXXXXXXXXXXXXXXXXXXXXXXXXXXXXXXXXXXXXXXXXXXXXX'"
      ]
     },
     "metadata": {},
     "output_type": "display_data"
    },
    {
     "data": {
      "text/plain": [
       "'full'"
      ]
     },
     "metadata": {},
     "output_type": "display_data"
    },
    {
     "data": {
      "text/html": [
       "<div>\n",
       "<style scoped>\n",
       "    .dataframe tbody tr th:only-of-type {\n",
       "        vertical-align: middle;\n",
       "    }\n",
       "\n",
       "    .dataframe tbody tr th {\n",
       "        vertical-align: top;\n",
       "    }\n",
       "\n",
       "    .dataframe thead th {\n",
       "        text-align: right;\n",
       "    }\n",
       "</style>\n",
       "<table border=\"1\" class=\"dataframe\">\n",
       "  <thead>\n",
       "    <tr style=\"text-align: right;\">\n",
       "      <th></th>\n",
       "      <th>date</th>\n",
       "      <th>final.output.concentrate_ag</th>\n",
       "      <th>final.output.concentrate_pb</th>\n",
       "      <th>final.output.concentrate_sol</th>\n",
       "      <th>final.output.concentrate_au</th>\n",
       "      <th>final.output.recovery</th>\n",
       "      <th>final.output.tail_ag</th>\n",
       "      <th>final.output.tail_pb</th>\n",
       "      <th>final.output.tail_sol</th>\n",
       "      <th>final.output.tail_au</th>\n",
       "      <th>...</th>\n",
       "      <th>secondary_cleaner.state.floatbank4_a_air</th>\n",
       "      <th>secondary_cleaner.state.floatbank4_a_level</th>\n",
       "      <th>secondary_cleaner.state.floatbank4_b_air</th>\n",
       "      <th>secondary_cleaner.state.floatbank4_b_level</th>\n",
       "      <th>secondary_cleaner.state.floatbank5_a_air</th>\n",
       "      <th>secondary_cleaner.state.floatbank5_a_level</th>\n",
       "      <th>secondary_cleaner.state.floatbank5_b_air</th>\n",
       "      <th>secondary_cleaner.state.floatbank5_b_level</th>\n",
       "      <th>secondary_cleaner.state.floatbank6_a_air</th>\n",
       "      <th>secondary_cleaner.state.floatbank6_a_level</th>\n",
       "    </tr>\n",
       "  </thead>\n",
       "  <tbody>\n",
       "    <tr>\n",
       "      <th>0</th>\n",
       "      <td>2016-01-15 00:00:00</td>\n",
       "      <td>6.055403</td>\n",
       "      <td>9.889648</td>\n",
       "      <td>5.507324</td>\n",
       "      <td>42.192020</td>\n",
       "      <td>70.541216</td>\n",
       "      <td>10.411962</td>\n",
       "      <td>0.895447</td>\n",
       "      <td>16.904297</td>\n",
       "      <td>2.143149</td>\n",
       "      <td>...</td>\n",
       "      <td>14.016835</td>\n",
       "      <td>-502.488007</td>\n",
       "      <td>12.099931</td>\n",
       "      <td>-504.715942</td>\n",
       "      <td>9.925633</td>\n",
       "      <td>-498.310211</td>\n",
       "      <td>8.079666</td>\n",
       "      <td>-500.470978</td>\n",
       "      <td>14.151341</td>\n",
       "      <td>-605.841980</td>\n",
       "    </tr>\n",
       "    <tr>\n",
       "      <th>1</th>\n",
       "      <td>2016-01-15 01:00:00</td>\n",
       "      <td>6.029369</td>\n",
       "      <td>9.968944</td>\n",
       "      <td>5.257781</td>\n",
       "      <td>42.701629</td>\n",
       "      <td>69.266198</td>\n",
       "      <td>10.462676</td>\n",
       "      <td>0.927452</td>\n",
       "      <td>16.634514</td>\n",
       "      <td>2.224930</td>\n",
       "      <td>...</td>\n",
       "      <td>13.992281</td>\n",
       "      <td>-505.503262</td>\n",
       "      <td>11.950531</td>\n",
       "      <td>-501.331529</td>\n",
       "      <td>10.039245</td>\n",
       "      <td>-500.169983</td>\n",
       "      <td>7.984757</td>\n",
       "      <td>-500.582168</td>\n",
       "      <td>13.998353</td>\n",
       "      <td>-599.787184</td>\n",
       "    </tr>\n",
       "    <tr>\n",
       "      <th>2</th>\n",
       "      <td>2016-01-15 02:00:00</td>\n",
       "      <td>6.055926</td>\n",
       "      <td>10.213995</td>\n",
       "      <td>5.383759</td>\n",
       "      <td>42.657501</td>\n",
       "      <td>68.116445</td>\n",
       "      <td>10.507046</td>\n",
       "      <td>0.953716</td>\n",
       "      <td>16.208849</td>\n",
       "      <td>2.257889</td>\n",
       "      <td>...</td>\n",
       "      <td>14.015015</td>\n",
       "      <td>-502.520901</td>\n",
       "      <td>11.912783</td>\n",
       "      <td>-501.133383</td>\n",
       "      <td>10.070913</td>\n",
       "      <td>-500.129135</td>\n",
       "      <td>8.013877</td>\n",
       "      <td>-500.517572</td>\n",
       "      <td>14.028663</td>\n",
       "      <td>-601.427363</td>\n",
       "    </tr>\n",
       "    <tr>\n",
       "      <th>3</th>\n",
       "      <td>2016-01-15 03:00:00</td>\n",
       "      <td>6.047977</td>\n",
       "      <td>9.977019</td>\n",
       "      <td>4.858634</td>\n",
       "      <td>42.689819</td>\n",
       "      <td>68.347543</td>\n",
       "      <td>10.422762</td>\n",
       "      <td>0.883763</td>\n",
       "      <td>16.532835</td>\n",
       "      <td>2.146849</td>\n",
       "      <td>...</td>\n",
       "      <td>14.036510</td>\n",
       "      <td>-500.857308</td>\n",
       "      <td>11.999550</td>\n",
       "      <td>-501.193686</td>\n",
       "      <td>9.970366</td>\n",
       "      <td>-499.201640</td>\n",
       "      <td>7.977324</td>\n",
       "      <td>-500.255908</td>\n",
       "      <td>14.005551</td>\n",
       "      <td>-599.996129</td>\n",
       "    </tr>\n",
       "    <tr>\n",
       "      <th>4</th>\n",
       "      <td>2016-01-15 04:00:00</td>\n",
       "      <td>6.148599</td>\n",
       "      <td>10.142511</td>\n",
       "      <td>4.939416</td>\n",
       "      <td>42.774141</td>\n",
       "      <td>66.927016</td>\n",
       "      <td>10.360302</td>\n",
       "      <td>0.792826</td>\n",
       "      <td>16.525686</td>\n",
       "      <td>2.055292</td>\n",
       "      <td>...</td>\n",
       "      <td>14.027298</td>\n",
       "      <td>-499.838632</td>\n",
       "      <td>11.953070</td>\n",
       "      <td>-501.053894</td>\n",
       "      <td>9.925709</td>\n",
       "      <td>-501.686727</td>\n",
       "      <td>7.894242</td>\n",
       "      <td>-500.356035</td>\n",
       "      <td>13.996647</td>\n",
       "      <td>-601.496691</td>\n",
       "    </tr>\n",
       "  </tbody>\n",
       "</table>\n",
       "<p>5 rows × 87 columns</p>\n",
       "</div>"
      ],
      "text/plain": [
       "                  date  final.output.concentrate_ag  \\\n",
       "0  2016-01-15 00:00:00                     6.055403   \n",
       "1  2016-01-15 01:00:00                     6.029369   \n",
       "2  2016-01-15 02:00:00                     6.055926   \n",
       "3  2016-01-15 03:00:00                     6.047977   \n",
       "4  2016-01-15 04:00:00                     6.148599   \n",
       "\n",
       "   final.output.concentrate_pb  final.output.concentrate_sol  \\\n",
       "0                     9.889648                      5.507324   \n",
       "1                     9.968944                      5.257781   \n",
       "2                    10.213995                      5.383759   \n",
       "3                     9.977019                      4.858634   \n",
       "4                    10.142511                      4.939416   \n",
       "\n",
       "   final.output.concentrate_au  final.output.recovery  final.output.tail_ag  \\\n",
       "0                    42.192020              70.541216             10.411962   \n",
       "1                    42.701629              69.266198             10.462676   \n",
       "2                    42.657501              68.116445             10.507046   \n",
       "3                    42.689819              68.347543             10.422762   \n",
       "4                    42.774141              66.927016             10.360302   \n",
       "\n",
       "   final.output.tail_pb  final.output.tail_sol  final.output.tail_au  ...  \\\n",
       "0              0.895447              16.904297              2.143149  ...   \n",
       "1              0.927452              16.634514              2.224930  ...   \n",
       "2              0.953716              16.208849              2.257889  ...   \n",
       "3              0.883763              16.532835              2.146849  ...   \n",
       "4              0.792826              16.525686              2.055292  ...   \n",
       "\n",
       "   secondary_cleaner.state.floatbank4_a_air  \\\n",
       "0                                 14.016835   \n",
       "1                                 13.992281   \n",
       "2                                 14.015015   \n",
       "3                                 14.036510   \n",
       "4                                 14.027298   \n",
       "\n",
       "   secondary_cleaner.state.floatbank4_a_level  \\\n",
       "0                                 -502.488007   \n",
       "1                                 -505.503262   \n",
       "2                                 -502.520901   \n",
       "3                                 -500.857308   \n",
       "4                                 -499.838632   \n",
       "\n",
       "   secondary_cleaner.state.floatbank4_b_air  \\\n",
       "0                                 12.099931   \n",
       "1                                 11.950531   \n",
       "2                                 11.912783   \n",
       "3                                 11.999550   \n",
       "4                                 11.953070   \n",
       "\n",
       "   secondary_cleaner.state.floatbank4_b_level  \\\n",
       "0                                 -504.715942   \n",
       "1                                 -501.331529   \n",
       "2                                 -501.133383   \n",
       "3                                 -501.193686   \n",
       "4                                 -501.053894   \n",
       "\n",
       "   secondary_cleaner.state.floatbank5_a_air  \\\n",
       "0                                  9.925633   \n",
       "1                                 10.039245   \n",
       "2                                 10.070913   \n",
       "3                                  9.970366   \n",
       "4                                  9.925709   \n",
       "\n",
       "   secondary_cleaner.state.floatbank5_a_level  \\\n",
       "0                                 -498.310211   \n",
       "1                                 -500.169983   \n",
       "2                                 -500.129135   \n",
       "3                                 -499.201640   \n",
       "4                                 -501.686727   \n",
       "\n",
       "   secondary_cleaner.state.floatbank5_b_air  \\\n",
       "0                                  8.079666   \n",
       "1                                  7.984757   \n",
       "2                                  8.013877   \n",
       "3                                  7.977324   \n",
       "4                                  7.894242   \n",
       "\n",
       "   secondary_cleaner.state.floatbank5_b_level  \\\n",
       "0                                 -500.470978   \n",
       "1                                 -500.582168   \n",
       "2                                 -500.517572   \n",
       "3                                 -500.255908   \n",
       "4                                 -500.356035   \n",
       "\n",
       "   secondary_cleaner.state.floatbank6_a_air  \\\n",
       "0                                 14.151341   \n",
       "1                                 13.998353   \n",
       "2                                 14.028663   \n",
       "3                                 14.005551   \n",
       "4                                 13.996647   \n",
       "\n",
       "   secondary_cleaner.state.floatbank6_a_level  \n",
       "0                                 -605.841980  \n",
       "1                                 -599.787184  \n",
       "2                                 -601.427363  \n",
       "3                                 -599.996129  \n",
       "4                                 -601.496691  \n",
       "\n",
       "[5 rows x 87 columns]"
      ]
     },
     "metadata": {},
     "output_type": "display_data"
    },
    {
     "data": {
      "text/plain": [
       "'===================================================================================================='"
      ]
     },
     "metadata": {},
     "output_type": "display_data"
    },
    {
     "name": "stdout",
     "output_type": "stream",
     "text": [
      "<class 'pandas.core.frame.DataFrame'>\n",
      "RangeIndex: 19439 entries, 0 to 19438\n",
      "Data columns (total 87 columns):\n",
      " #   Column                                              Non-Null Count  Dtype  \n",
      "---  ------                                              --------------  -----  \n",
      " 0   date                                                19439 non-null  object \n",
      " 1   final.output.concentrate_ag                         19438 non-null  float64\n",
      " 2   final.output.concentrate_pb                         19438 non-null  float64\n",
      " 3   final.output.concentrate_sol                        19228 non-null  float64\n",
      " 4   final.output.concentrate_au                         19439 non-null  float64\n",
      " 5   final.output.recovery                               19439 non-null  float64\n",
      " 6   final.output.tail_ag                                19438 non-null  float64\n",
      " 7   final.output.tail_pb                                19338 non-null  float64\n",
      " 8   final.output.tail_sol                               19433 non-null  float64\n",
      " 9   final.output.tail_au                                19439 non-null  float64\n",
      " 10  primary_cleaner.input.sulfate                       19415 non-null  float64\n",
      " 11  primary_cleaner.input.depressant                    19402 non-null  float64\n",
      " 12  primary_cleaner.input.feed_size                     19439 non-null  float64\n",
      " 13  primary_cleaner.input.xanthate                      19335 non-null  float64\n",
      " 14  primary_cleaner.output.concentrate_ag               19439 non-null  float64\n",
      " 15  primary_cleaner.output.concentrate_pb               19323 non-null  float64\n",
      " 16  primary_cleaner.output.concentrate_sol              19069 non-null  float64\n",
      " 17  primary_cleaner.output.concentrate_au               19439 non-null  float64\n",
      " 18  primary_cleaner.output.tail_ag                      19435 non-null  float64\n",
      " 19  primary_cleaner.output.tail_pb                      19418 non-null  float64\n",
      " 20  primary_cleaner.output.tail_sol                     19377 non-null  float64\n",
      " 21  primary_cleaner.output.tail_au                      19439 non-null  float64\n",
      " 22  primary_cleaner.state.floatbank8_a_air              19435 non-null  float64\n",
      " 23  primary_cleaner.state.floatbank8_a_level            19438 non-null  float64\n",
      " 24  primary_cleaner.state.floatbank8_b_air              19435 non-null  float64\n",
      " 25  primary_cleaner.state.floatbank8_b_level            19438 non-null  float64\n",
      " 26  primary_cleaner.state.floatbank8_c_air              19437 non-null  float64\n",
      " 27  primary_cleaner.state.floatbank8_c_level            19438 non-null  float64\n",
      " 28  primary_cleaner.state.floatbank8_d_air              19436 non-null  float64\n",
      " 29  primary_cleaner.state.floatbank8_d_level            19438 non-null  float64\n",
      " 30  rougher.calculation.sulfate_to_au_concentrate       19437 non-null  float64\n",
      " 31  rougher.calculation.floatbank10_sulfate_to_au_feed  19437 non-null  float64\n",
      " 32  rougher.calculation.floatbank11_sulfate_to_au_feed  19437 non-null  float64\n",
      " 33  rougher.calculation.au_pb_ratio                     19439 non-null  float64\n",
      " 34  rougher.input.feed_ag                               19439 non-null  float64\n",
      " 35  rougher.input.feed_pb                               19339 non-null  float64\n",
      " 36  rougher.input.feed_rate                             19428 non-null  float64\n",
      " 37  rougher.input.feed_size                             19294 non-null  float64\n",
      " 38  rougher.input.feed_sol                              19340 non-null  float64\n",
      " 39  rougher.input.feed_au                               19439 non-null  float64\n",
      " 40  rougher.input.floatbank10_sulfate                   19405 non-null  float64\n",
      " 41  rougher.input.floatbank10_xanthate                  19431 non-null  float64\n",
      " 42  rougher.input.floatbank11_sulfate                   19395 non-null  float64\n",
      " 43  rougher.input.floatbank11_xanthate                  18986 non-null  float64\n",
      " 44  rougher.output.concentrate_ag                       19439 non-null  float64\n",
      " 45  rougher.output.concentrate_pb                       19439 non-null  float64\n",
      " 46  rougher.output.concentrate_sol                      19416 non-null  float64\n",
      " 47  rougher.output.concentrate_au                       19439 non-null  float64\n",
      " 48  rougher.output.recovery                             19439 non-null  float64\n",
      " 49  rougher.output.tail_ag                              19438 non-null  float64\n",
      " 50  rougher.output.tail_pb                              19439 non-null  float64\n",
      " 51  rougher.output.tail_sol                             19439 non-null  float64\n",
      " 52  rougher.output.tail_au                              19439 non-null  float64\n",
      " 53  rougher.state.floatbank10_a_air                     19438 non-null  float64\n",
      " 54  rougher.state.floatbank10_a_level                   19438 non-null  float64\n",
      " 55  rougher.state.floatbank10_b_air                     19438 non-null  float64\n",
      " 56  rougher.state.floatbank10_b_level                   19438 non-null  float64\n",
      " 57  rougher.state.floatbank10_c_air                     19438 non-null  float64\n",
      " 58  rougher.state.floatbank10_c_level                   19438 non-null  float64\n",
      " 59  rougher.state.floatbank10_d_air                     19439 non-null  float64\n",
      " 60  rougher.state.floatbank10_d_level                   19439 non-null  float64\n",
      " 61  rougher.state.floatbank10_e_air                     19003 non-null  float64\n",
      " 62  rougher.state.floatbank10_e_level                   19439 non-null  float64\n",
      " 63  rougher.state.floatbank10_f_air                     19439 non-null  float64\n",
      " 64  rougher.state.floatbank10_f_level                   19439 non-null  float64\n",
      " 65  secondary_cleaner.output.tail_ag                    19437 non-null  float64\n",
      " 66  secondary_cleaner.output.tail_pb                    19427 non-null  float64\n",
      " 67  secondary_cleaner.output.tail_sol                   17691 non-null  float64\n",
      " 68  secondary_cleaner.output.tail_au                    19439 non-null  float64\n",
      " 69  secondary_cleaner.state.floatbank2_a_air            19219 non-null  float64\n",
      " 70  secondary_cleaner.state.floatbank2_a_level          19438 non-null  float64\n",
      " 71  secondary_cleaner.state.floatbank2_b_air            19416 non-null  float64\n",
      " 72  secondary_cleaner.state.floatbank2_b_level          19438 non-null  float64\n",
      " 73  secondary_cleaner.state.floatbank3_a_air            19426 non-null  float64\n",
      " 74  secondary_cleaner.state.floatbank3_a_level          19438 non-null  float64\n",
      " 75  secondary_cleaner.state.floatbank3_b_air            19438 non-null  float64\n",
      " 76  secondary_cleaner.state.floatbank3_b_level          19438 non-null  float64\n",
      " 77  secondary_cleaner.state.floatbank4_a_air            19433 non-null  float64\n",
      " 78  secondary_cleaner.state.floatbank4_a_level          19438 non-null  float64\n",
      " 79  secondary_cleaner.state.floatbank4_b_air            19438 non-null  float64\n",
      " 80  secondary_cleaner.state.floatbank4_b_level          19438 non-null  float64\n",
      " 81  secondary_cleaner.state.floatbank5_a_air            19438 non-null  float64\n",
      " 82  secondary_cleaner.state.floatbank5_a_level          19438 non-null  float64\n",
      " 83  secondary_cleaner.state.floatbank5_b_air            19438 non-null  float64\n",
      " 84  secondary_cleaner.state.floatbank5_b_level          19438 non-null  float64\n",
      " 85  secondary_cleaner.state.floatbank6_a_air            19437 non-null  float64\n",
      " 86  secondary_cleaner.state.floatbank6_a_level          19438 non-null  float64\n",
      "dtypes: float64(86), object(1)\n",
      "memory usage: 12.9+ MB\n"
     ]
    },
    {
     "data": {
      "text/plain": [
       "None"
      ]
     },
     "metadata": {},
     "output_type": "display_data"
    },
    {
     "data": {
      "text/plain": [
       "'===================================================================================================='"
      ]
     },
     "metadata": {},
     "output_type": "display_data"
    },
    {
     "data": {
      "text/plain": [
       "Index(['date', 'final.output.concentrate_ag', 'final.output.concentrate_pb',\n",
       "       'final.output.concentrate_sol', 'final.output.concentrate_au',\n",
       "       'final.output.recovery', 'final.output.tail_ag', 'final.output.tail_pb',\n",
       "       'final.output.tail_sol', 'final.output.tail_au',\n",
       "       'primary_cleaner.input.sulfate', 'primary_cleaner.input.depressant',\n",
       "       'primary_cleaner.input.feed_size', 'primary_cleaner.input.xanthate',\n",
       "       'primary_cleaner.output.concentrate_ag',\n",
       "       'primary_cleaner.output.concentrate_pb',\n",
       "       'primary_cleaner.output.concentrate_sol',\n",
       "       'primary_cleaner.output.concentrate_au',\n",
       "       'primary_cleaner.output.tail_ag', 'primary_cleaner.output.tail_pb',\n",
       "       'primary_cleaner.output.tail_sol', 'primary_cleaner.output.tail_au',\n",
       "       'primary_cleaner.state.floatbank8_a_air',\n",
       "       'primary_cleaner.state.floatbank8_a_level',\n",
       "       'primary_cleaner.state.floatbank8_b_air',\n",
       "       'primary_cleaner.state.floatbank8_b_level',\n",
       "       'primary_cleaner.state.floatbank8_c_air',\n",
       "       'primary_cleaner.state.floatbank8_c_level',\n",
       "       'primary_cleaner.state.floatbank8_d_air',\n",
       "       'primary_cleaner.state.floatbank8_d_level',\n",
       "       'rougher.calculation.sulfate_to_au_concentrate',\n",
       "       'rougher.calculation.floatbank10_sulfate_to_au_feed',\n",
       "       'rougher.calculation.floatbank11_sulfate_to_au_feed',\n",
       "       'rougher.calculation.au_pb_ratio', 'rougher.input.feed_ag',\n",
       "       'rougher.input.feed_pb', 'rougher.input.feed_rate',\n",
       "       'rougher.input.feed_size', 'rougher.input.feed_sol',\n",
       "       'rougher.input.feed_au', 'rougher.input.floatbank10_sulfate',\n",
       "       'rougher.input.floatbank10_xanthate',\n",
       "       'rougher.input.floatbank11_sulfate',\n",
       "       'rougher.input.floatbank11_xanthate', 'rougher.output.concentrate_ag',\n",
       "       'rougher.output.concentrate_pb', 'rougher.output.concentrate_sol',\n",
       "       'rougher.output.concentrate_au', 'rougher.output.recovery',\n",
       "       'rougher.output.tail_ag', 'rougher.output.tail_pb',\n",
       "       'rougher.output.tail_sol', 'rougher.output.tail_au',\n",
       "       'rougher.state.floatbank10_a_air', 'rougher.state.floatbank10_a_level',\n",
       "       'rougher.state.floatbank10_b_air', 'rougher.state.floatbank10_b_level',\n",
       "       'rougher.state.floatbank10_c_air', 'rougher.state.floatbank10_c_level',\n",
       "       'rougher.state.floatbank10_d_air', 'rougher.state.floatbank10_d_level',\n",
       "       'rougher.state.floatbank10_e_air', 'rougher.state.floatbank10_e_level',\n",
       "       'rougher.state.floatbank10_f_air', 'rougher.state.floatbank10_f_level',\n",
       "       'secondary_cleaner.output.tail_ag', 'secondary_cleaner.output.tail_pb',\n",
       "       'secondary_cleaner.output.tail_sol', 'secondary_cleaner.output.tail_au',\n",
       "       'secondary_cleaner.state.floatbank2_a_air',\n",
       "       'secondary_cleaner.state.floatbank2_a_level',\n",
       "       'secondary_cleaner.state.floatbank2_b_air',\n",
       "       'secondary_cleaner.state.floatbank2_b_level',\n",
       "       'secondary_cleaner.state.floatbank3_a_air',\n",
       "       'secondary_cleaner.state.floatbank3_a_level',\n",
       "       'secondary_cleaner.state.floatbank3_b_air',\n",
       "       'secondary_cleaner.state.floatbank3_b_level',\n",
       "       'secondary_cleaner.state.floatbank4_a_air',\n",
       "       'secondary_cleaner.state.floatbank4_a_level',\n",
       "       'secondary_cleaner.state.floatbank4_b_air',\n",
       "       'secondary_cleaner.state.floatbank4_b_level',\n",
       "       'secondary_cleaner.state.floatbank5_a_air',\n",
       "       'secondary_cleaner.state.floatbank5_a_level',\n",
       "       'secondary_cleaner.state.floatbank5_b_air',\n",
       "       'secondary_cleaner.state.floatbank5_b_level',\n",
       "       'secondary_cleaner.state.floatbank6_a_air',\n",
       "       'secondary_cleaner.state.floatbank6_a_level'],\n",
       "      dtype='object')"
      ]
     },
     "metadata": {},
     "output_type": "display_data"
    },
    {
     "data": {
      "text/plain": [
       "'===================================================================================================='"
      ]
     },
     "metadata": {},
     "output_type": "display_data"
    },
    {
     "data": {
      "text/html": [
       "<div>\n",
       "<style scoped>\n",
       "    .dataframe tbody tr th:only-of-type {\n",
       "        vertical-align: middle;\n",
       "    }\n",
       "\n",
       "    .dataframe tbody tr th {\n",
       "        vertical-align: top;\n",
       "    }\n",
       "\n",
       "    .dataframe thead th {\n",
       "        text-align: right;\n",
       "    }\n",
       "</style>\n",
       "<table border=\"1\" class=\"dataframe\">\n",
       "  <thead>\n",
       "    <tr style=\"text-align: right;\">\n",
       "      <th></th>\n",
       "      <th>final.output.concentrate_ag</th>\n",
       "      <th>final.output.concentrate_pb</th>\n",
       "      <th>final.output.concentrate_sol</th>\n",
       "      <th>final.output.concentrate_au</th>\n",
       "      <th>final.output.recovery</th>\n",
       "      <th>final.output.tail_ag</th>\n",
       "      <th>final.output.tail_pb</th>\n",
       "      <th>final.output.tail_sol</th>\n",
       "      <th>final.output.tail_au</th>\n",
       "      <th>primary_cleaner.input.sulfate</th>\n",
       "      <th>...</th>\n",
       "      <th>secondary_cleaner.state.floatbank4_a_air</th>\n",
       "      <th>secondary_cleaner.state.floatbank4_a_level</th>\n",
       "      <th>secondary_cleaner.state.floatbank4_b_air</th>\n",
       "      <th>secondary_cleaner.state.floatbank4_b_level</th>\n",
       "      <th>secondary_cleaner.state.floatbank5_a_air</th>\n",
       "      <th>secondary_cleaner.state.floatbank5_a_level</th>\n",
       "      <th>secondary_cleaner.state.floatbank5_b_air</th>\n",
       "      <th>secondary_cleaner.state.floatbank5_b_level</th>\n",
       "      <th>secondary_cleaner.state.floatbank6_a_air</th>\n",
       "      <th>secondary_cleaner.state.floatbank6_a_level</th>\n",
       "    </tr>\n",
       "  </thead>\n",
       "  <tbody>\n",
       "    <tr>\n",
       "      <th>count</th>\n",
       "      <td>19438.000000</td>\n",
       "      <td>19438.000000</td>\n",
       "      <td>19228.000000</td>\n",
       "      <td>19439.000000</td>\n",
       "      <td>19439.000000</td>\n",
       "      <td>19438.000000</td>\n",
       "      <td>19338.000000</td>\n",
       "      <td>19433.000000</td>\n",
       "      <td>19439.000000</td>\n",
       "      <td>19415.000000</td>\n",
       "      <td>...</td>\n",
       "      <td>19433.000000</td>\n",
       "      <td>19438.000000</td>\n",
       "      <td>19438.000000</td>\n",
       "      <td>19438.000000</td>\n",
       "      <td>19438.000000</td>\n",
       "      <td>19438.000000</td>\n",
       "      <td>19438.000000</td>\n",
       "      <td>19438.000000</td>\n",
       "      <td>19437.000000</td>\n",
       "      <td>19438.000000</td>\n",
       "    </tr>\n",
       "    <tr>\n",
       "      <th>mean</th>\n",
       "      <td>5.168470</td>\n",
       "      <td>9.978895</td>\n",
       "      <td>9.501224</td>\n",
       "      <td>44.076513</td>\n",
       "      <td>67.050208</td>\n",
       "      <td>9.688589</td>\n",
       "      <td>2.705795</td>\n",
       "      <td>10.583728</td>\n",
       "      <td>3.042467</td>\n",
       "      <td>144.624774</td>\n",
       "      <td>...</td>\n",
       "      <td>18.987674</td>\n",
       "      <td>-485.894516</td>\n",
       "      <td>15.010366</td>\n",
       "      <td>-461.078636</td>\n",
       "      <td>15.694452</td>\n",
       "      <td>-488.684065</td>\n",
       "      <td>12.198224</td>\n",
       "      <td>-487.149827</td>\n",
       "      <td>18.959024</td>\n",
       "      <td>-505.436305</td>\n",
       "    </tr>\n",
       "    <tr>\n",
       "      <th>std</th>\n",
       "      <td>1.372348</td>\n",
       "      <td>1.669240</td>\n",
       "      <td>2.787537</td>\n",
       "      <td>5.129784</td>\n",
       "      <td>10.125840</td>\n",
       "      <td>2.328642</td>\n",
       "      <td>0.949077</td>\n",
       "      <td>2.868782</td>\n",
       "      <td>0.922808</td>\n",
       "      <td>44.464071</td>\n",
       "      <td>...</td>\n",
       "      <td>5.411058</td>\n",
       "      <td>47.758570</td>\n",
       "      <td>4.890228</td>\n",
       "      <td>67.405524</td>\n",
       "      <td>5.510974</td>\n",
       "      <td>34.533396</td>\n",
       "      <td>5.333024</td>\n",
       "      <td>38.347312</td>\n",
       "      <td>5.550498</td>\n",
       "      <td>37.689057</td>\n",
       "    </tr>\n",
       "    <tr>\n",
       "      <th>min</th>\n",
       "      <td>0.000000</td>\n",
       "      <td>0.000000</td>\n",
       "      <td>0.000000</td>\n",
       "      <td>0.000000</td>\n",
       "      <td>0.000000</td>\n",
       "      <td>0.000000</td>\n",
       "      <td>0.000000</td>\n",
       "      <td>0.000000</td>\n",
       "      <td>0.000000</td>\n",
       "      <td>0.003112</td>\n",
       "      <td>...</td>\n",
       "      <td>0.000000</td>\n",
       "      <td>-799.798523</td>\n",
       "      <td>0.000000</td>\n",
       "      <td>-800.836914</td>\n",
       "      <td>-0.372054</td>\n",
       "      <td>-797.323986</td>\n",
       "      <td>0.528083</td>\n",
       "      <td>-800.220337</td>\n",
       "      <td>-0.079426</td>\n",
       "      <td>-809.741464</td>\n",
       "    </tr>\n",
       "    <tr>\n",
       "      <th>25%</th>\n",
       "      <td>4.251240</td>\n",
       "      <td>9.137262</td>\n",
       "      <td>7.722820</td>\n",
       "      <td>43.402215</td>\n",
       "      <td>63.299712</td>\n",
       "      <td>8.062878</td>\n",
       "      <td>2.040119</td>\n",
       "      <td>8.938947</td>\n",
       "      <td>2.461138</td>\n",
       "      <td>114.107029</td>\n",
       "      <td>...</td>\n",
       "      <td>14.975734</td>\n",
       "      <td>-500.704892</td>\n",
       "      <td>11.940294</td>\n",
       "      <td>-500.187742</td>\n",
       "      <td>10.988606</td>\n",
       "      <td>-500.458467</td>\n",
       "      <td>8.971105</td>\n",
       "      <td>-500.129462</td>\n",
       "      <td>14.983037</td>\n",
       "      <td>-500.728067</td>\n",
       "    </tr>\n",
       "    <tr>\n",
       "      <th>50%</th>\n",
       "      <td>5.066094</td>\n",
       "      <td>10.102433</td>\n",
       "      <td>9.218961</td>\n",
       "      <td>45.011244</td>\n",
       "      <td>68.172738</td>\n",
       "      <td>9.743623</td>\n",
       "      <td>2.748730</td>\n",
       "      <td>10.622456</td>\n",
       "      <td>2.984909</td>\n",
       "      <td>143.232103</td>\n",
       "      <td>...</td>\n",
       "      <td>18.017481</td>\n",
       "      <td>-499.837793</td>\n",
       "      <td>14.971014</td>\n",
       "      <td>-499.459786</td>\n",
       "      <td>15.000036</td>\n",
       "      <td>-499.802605</td>\n",
       "      <td>11.019433</td>\n",
       "      <td>-499.935317</td>\n",
       "      <td>19.960541</td>\n",
       "      <td>-500.048400</td>\n",
       "    </tr>\n",
       "    <tr>\n",
       "      <th>75%</th>\n",
       "      <td>5.895527</td>\n",
       "      <td>11.035769</td>\n",
       "      <td>10.947813</td>\n",
       "      <td>46.275313</td>\n",
       "      <td>72.686642</td>\n",
       "      <td>11.134294</td>\n",
       "      <td>3.333216</td>\n",
       "      <td>12.104271</td>\n",
       "      <td>3.571351</td>\n",
       "      <td>175.075656</td>\n",
       "      <td>...</td>\n",
       "      <td>23.012470</td>\n",
       "      <td>-498.249730</td>\n",
       "      <td>19.034162</td>\n",
       "      <td>-400.118106</td>\n",
       "      <td>18.026190</td>\n",
       "      <td>-498.384187</td>\n",
       "      <td>14.019088</td>\n",
       "      <td>-499.436708</td>\n",
       "      <td>24.003170</td>\n",
       "      <td>-499.495378</td>\n",
       "    </tr>\n",
       "    <tr>\n",
       "      <th>max</th>\n",
       "      <td>16.001945</td>\n",
       "      <td>17.031899</td>\n",
       "      <td>19.615720</td>\n",
       "      <td>52.756638</td>\n",
       "      <td>100.000000</td>\n",
       "      <td>19.552149</td>\n",
       "      <td>5.804178</td>\n",
       "      <td>22.317730</td>\n",
       "      <td>8.245022</td>\n",
       "      <td>265.983123</td>\n",
       "      <td>...</td>\n",
       "      <td>30.115735</td>\n",
       "      <td>-245.239184</td>\n",
       "      <td>31.269706</td>\n",
       "      <td>-6.506986</td>\n",
       "      <td>43.709931</td>\n",
       "      <td>-244.483566</td>\n",
       "      <td>27.926001</td>\n",
       "      <td>-137.740004</td>\n",
       "      <td>32.188906</td>\n",
       "      <td>-104.427459</td>\n",
       "    </tr>\n",
       "  </tbody>\n",
       "</table>\n",
       "<p>8 rows × 86 columns</p>\n",
       "</div>"
      ],
      "text/plain": [
       "       final.output.concentrate_ag  final.output.concentrate_pb  \\\n",
       "count                 19438.000000                 19438.000000   \n",
       "mean                      5.168470                     9.978895   \n",
       "std                       1.372348                     1.669240   \n",
       "min                       0.000000                     0.000000   \n",
       "25%                       4.251240                     9.137262   \n",
       "50%                       5.066094                    10.102433   \n",
       "75%                       5.895527                    11.035769   \n",
       "max                      16.001945                    17.031899   \n",
       "\n",
       "       final.output.concentrate_sol  final.output.concentrate_au  \\\n",
       "count                  19228.000000                 19439.000000   \n",
       "mean                       9.501224                    44.076513   \n",
       "std                        2.787537                     5.129784   \n",
       "min                        0.000000                     0.000000   \n",
       "25%                        7.722820                    43.402215   \n",
       "50%                        9.218961                    45.011244   \n",
       "75%                       10.947813                    46.275313   \n",
       "max                       19.615720                    52.756638   \n",
       "\n",
       "       final.output.recovery  final.output.tail_ag  final.output.tail_pb  \\\n",
       "count           19439.000000          19438.000000          19338.000000   \n",
       "mean               67.050208              9.688589              2.705795   \n",
       "std                10.125840              2.328642              0.949077   \n",
       "min                 0.000000              0.000000              0.000000   \n",
       "25%                63.299712              8.062878              2.040119   \n",
       "50%                68.172738              9.743623              2.748730   \n",
       "75%                72.686642             11.134294              3.333216   \n",
       "max               100.000000             19.552149              5.804178   \n",
       "\n",
       "       final.output.tail_sol  final.output.tail_au  \\\n",
       "count           19433.000000          19439.000000   \n",
       "mean               10.583728              3.042467   \n",
       "std                 2.868782              0.922808   \n",
       "min                 0.000000              0.000000   \n",
       "25%                 8.938947              2.461138   \n",
       "50%                10.622456              2.984909   \n",
       "75%                12.104271              3.571351   \n",
       "max                22.317730              8.245022   \n",
       "\n",
       "       primary_cleaner.input.sulfate  ...  \\\n",
       "count                   19415.000000  ...   \n",
       "mean                      144.624774  ...   \n",
       "std                        44.464071  ...   \n",
       "min                         0.003112  ...   \n",
       "25%                       114.107029  ...   \n",
       "50%                       143.232103  ...   \n",
       "75%                       175.075656  ...   \n",
       "max                       265.983123  ...   \n",
       "\n",
       "       secondary_cleaner.state.floatbank4_a_air  \\\n",
       "count                              19433.000000   \n",
       "mean                                  18.987674   \n",
       "std                                    5.411058   \n",
       "min                                    0.000000   \n",
       "25%                                   14.975734   \n",
       "50%                                   18.017481   \n",
       "75%                                   23.012470   \n",
       "max                                   30.115735   \n",
       "\n",
       "       secondary_cleaner.state.floatbank4_a_level  \\\n",
       "count                                19438.000000   \n",
       "mean                                  -485.894516   \n",
       "std                                     47.758570   \n",
       "min                                   -799.798523   \n",
       "25%                                   -500.704892   \n",
       "50%                                   -499.837793   \n",
       "75%                                   -498.249730   \n",
       "max                                   -245.239184   \n",
       "\n",
       "       secondary_cleaner.state.floatbank4_b_air  \\\n",
       "count                              19438.000000   \n",
       "mean                                  15.010366   \n",
       "std                                    4.890228   \n",
       "min                                    0.000000   \n",
       "25%                                   11.940294   \n",
       "50%                                   14.971014   \n",
       "75%                                   19.034162   \n",
       "max                                   31.269706   \n",
       "\n",
       "       secondary_cleaner.state.floatbank4_b_level  \\\n",
       "count                                19438.000000   \n",
       "mean                                  -461.078636   \n",
       "std                                     67.405524   \n",
       "min                                   -800.836914   \n",
       "25%                                   -500.187742   \n",
       "50%                                   -499.459786   \n",
       "75%                                   -400.118106   \n",
       "max                                     -6.506986   \n",
       "\n",
       "       secondary_cleaner.state.floatbank5_a_air  \\\n",
       "count                              19438.000000   \n",
       "mean                                  15.694452   \n",
       "std                                    5.510974   \n",
       "min                                   -0.372054   \n",
       "25%                                   10.988606   \n",
       "50%                                   15.000036   \n",
       "75%                                   18.026190   \n",
       "max                                   43.709931   \n",
       "\n",
       "       secondary_cleaner.state.floatbank5_a_level  \\\n",
       "count                                19438.000000   \n",
       "mean                                  -488.684065   \n",
       "std                                     34.533396   \n",
       "min                                   -797.323986   \n",
       "25%                                   -500.458467   \n",
       "50%                                   -499.802605   \n",
       "75%                                   -498.384187   \n",
       "max                                   -244.483566   \n",
       "\n",
       "       secondary_cleaner.state.floatbank5_b_air  \\\n",
       "count                              19438.000000   \n",
       "mean                                  12.198224   \n",
       "std                                    5.333024   \n",
       "min                                    0.528083   \n",
       "25%                                    8.971105   \n",
       "50%                                   11.019433   \n",
       "75%                                   14.019088   \n",
       "max                                   27.926001   \n",
       "\n",
       "       secondary_cleaner.state.floatbank5_b_level  \\\n",
       "count                                19438.000000   \n",
       "mean                                  -487.149827   \n",
       "std                                     38.347312   \n",
       "min                                   -800.220337   \n",
       "25%                                   -500.129462   \n",
       "50%                                   -499.935317   \n",
       "75%                                   -499.436708   \n",
       "max                                   -137.740004   \n",
       "\n",
       "       secondary_cleaner.state.floatbank6_a_air  \\\n",
       "count                              19437.000000   \n",
       "mean                                  18.959024   \n",
       "std                                    5.550498   \n",
       "min                                   -0.079426   \n",
       "25%                                   14.983037   \n",
       "50%                                   19.960541   \n",
       "75%                                   24.003170   \n",
       "max                                   32.188906   \n",
       "\n",
       "       secondary_cleaner.state.floatbank6_a_level  \n",
       "count                                19438.000000  \n",
       "mean                                  -505.436305  \n",
       "std                                     37.689057  \n",
       "min                                   -809.741464  \n",
       "25%                                   -500.728067  \n",
       "50%                                   -500.048400  \n",
       "75%                                   -499.495378  \n",
       "max                                   -104.427459  \n",
       "\n",
       "[8 rows x 86 columns]"
      ]
     },
     "metadata": {},
     "output_type": "display_data"
    },
    {
     "data": {
      "text/plain": [
       "'===================================================================================================='"
      ]
     },
     "metadata": {},
     "output_type": "display_data"
    },
    {
     "data": {
      "text/plain": [
       "date                                            0\n",
       "final.output.concentrate_ag                     1\n",
       "final.output.concentrate_pb                     1\n",
       "final.output.concentrate_sol                  211\n",
       "final.output.concentrate_au                     0\n",
       "                                             ... \n",
       "secondary_cleaner.state.floatbank5_a_level      1\n",
       "secondary_cleaner.state.floatbank5_b_air        1\n",
       "secondary_cleaner.state.floatbank5_b_level      1\n",
       "secondary_cleaner.state.floatbank6_a_air        2\n",
       "secondary_cleaner.state.floatbank6_a_level      1\n",
       "Length: 87, dtype: int64"
      ]
     },
     "metadata": {},
     "output_type": "display_data"
    },
    {
     "data": {
      "text/plain": [
       "'===================================================================================================='"
      ]
     },
     "metadata": {},
     "output_type": "display_data"
    },
    {
     "data": {
      "text/html": [
       "<div>\n",
       "<style scoped>\n",
       "    .dataframe tbody tr th:only-of-type {\n",
       "        vertical-align: middle;\n",
       "    }\n",
       "\n",
       "    .dataframe tbody tr th {\n",
       "        vertical-align: top;\n",
       "    }\n",
       "\n",
       "    .dataframe thead th {\n",
       "        text-align: right;\n",
       "    }\n",
       "</style>\n",
       "<table border=\"1\" class=\"dataframe\">\n",
       "  <thead>\n",
       "    <tr style=\"text-align: right;\">\n",
       "      <th></th>\n",
       "      <th>final.output.concentrate_ag</th>\n",
       "      <th>final.output.concentrate_pb</th>\n",
       "      <th>final.output.concentrate_sol</th>\n",
       "      <th>final.output.concentrate_au</th>\n",
       "      <th>final.output.recovery</th>\n",
       "      <th>final.output.tail_ag</th>\n",
       "      <th>final.output.tail_pb</th>\n",
       "      <th>final.output.tail_sol</th>\n",
       "      <th>final.output.tail_au</th>\n",
       "      <th>primary_cleaner.input.sulfate</th>\n",
       "      <th>...</th>\n",
       "      <th>secondary_cleaner.state.floatbank4_a_air</th>\n",
       "      <th>secondary_cleaner.state.floatbank4_a_level</th>\n",
       "      <th>secondary_cleaner.state.floatbank4_b_air</th>\n",
       "      <th>secondary_cleaner.state.floatbank4_b_level</th>\n",
       "      <th>secondary_cleaner.state.floatbank5_a_air</th>\n",
       "      <th>secondary_cleaner.state.floatbank5_a_level</th>\n",
       "      <th>secondary_cleaner.state.floatbank5_b_air</th>\n",
       "      <th>secondary_cleaner.state.floatbank5_b_level</th>\n",
       "      <th>secondary_cleaner.state.floatbank6_a_air</th>\n",
       "      <th>secondary_cleaner.state.floatbank6_a_level</th>\n",
       "    </tr>\n",
       "  </thead>\n",
       "  <tbody>\n",
       "    <tr>\n",
       "      <th>final.output.concentrate_ag</th>\n",
       "      <td>1.000000</td>\n",
       "      <td>0.063570</td>\n",
       "      <td>0.380142</td>\n",
       "      <td>-0.038373</td>\n",
       "      <td>0.185952</td>\n",
       "      <td>0.334596</td>\n",
       "      <td>-0.051855</td>\n",
       "      <td>0.028890</td>\n",
       "      <td>0.206569</td>\n",
       "      <td>0.071158</td>\n",
       "      <td>...</td>\n",
       "      <td>0.027343</td>\n",
       "      <td>0.104118</td>\n",
       "      <td>0.029887</td>\n",
       "      <td>-0.063246</td>\n",
       "      <td>-0.004246</td>\n",
       "      <td>0.184332</td>\n",
       "      <td>0.003693</td>\n",
       "      <td>0.156471</td>\n",
       "      <td>0.162591</td>\n",
       "      <td>0.059581</td>\n",
       "    </tr>\n",
       "    <tr>\n",
       "      <th>final.output.concentrate_pb</th>\n",
       "      <td>0.063570</td>\n",
       "      <td>1.000000</td>\n",
       "      <td>-0.048586</td>\n",
       "      <td>0.374400</td>\n",
       "      <td>0.151987</td>\n",
       "      <td>-0.126886</td>\n",
       "      <td>0.221372</td>\n",
       "      <td>0.094385</td>\n",
       "      <td>-0.047446</td>\n",
       "      <td>0.079160</td>\n",
       "      <td>...</td>\n",
       "      <td>0.058380</td>\n",
       "      <td>0.028962</td>\n",
       "      <td>0.115404</td>\n",
       "      <td>0.093859</td>\n",
       "      <td>0.125920</td>\n",
       "      <td>-0.024668</td>\n",
       "      <td>0.149266</td>\n",
       "      <td>-0.060038</td>\n",
       "      <td>-0.042372</td>\n",
       "      <td>0.067458</td>\n",
       "    </tr>\n",
       "    <tr>\n",
       "      <th>final.output.concentrate_sol</th>\n",
       "      <td>0.380142</td>\n",
       "      <td>-0.048586</td>\n",
       "      <td>1.000000</td>\n",
       "      <td>0.261225</td>\n",
       "      <td>0.265993</td>\n",
       "      <td>0.286305</td>\n",
       "      <td>0.221714</td>\n",
       "      <td>-0.023865</td>\n",
       "      <td>0.267781</td>\n",
       "      <td>0.316233</td>\n",
       "      <td>...</td>\n",
       "      <td>-0.049341</td>\n",
       "      <td>0.147304</td>\n",
       "      <td>0.020544</td>\n",
       "      <td>0.002077</td>\n",
       "      <td>-0.002361</td>\n",
       "      <td>0.163992</td>\n",
       "      <td>-0.009510</td>\n",
       "      <td>0.152343</td>\n",
       "      <td>0.245158</td>\n",
       "      <td>-0.216734</td>\n",
       "    </tr>\n",
       "    <tr>\n",
       "      <th>final.output.concentrate_au</th>\n",
       "      <td>-0.038373</td>\n",
       "      <td>0.374400</td>\n",
       "      <td>0.261225</td>\n",
       "      <td>1.000000</td>\n",
       "      <td>0.288568</td>\n",
       "      <td>0.080381</td>\n",
       "      <td>0.081291</td>\n",
       "      <td>0.134978</td>\n",
       "      <td>-0.031696</td>\n",
       "      <td>0.102781</td>\n",
       "      <td>...</td>\n",
       "      <td>0.008308</td>\n",
       "      <td>-0.019481</td>\n",
       "      <td>-0.015284</td>\n",
       "      <td>-0.018636</td>\n",
       "      <td>-0.000971</td>\n",
       "      <td>-0.080786</td>\n",
       "      <td>-0.016961</td>\n",
       "      <td>-0.084962</td>\n",
       "      <td>-0.082184</td>\n",
       "      <td>-0.019523</td>\n",
       "    </tr>\n",
       "    <tr>\n",
       "      <th>final.output.recovery</th>\n",
       "      <td>0.185952</td>\n",
       "      <td>0.151987</td>\n",
       "      <td>0.265993</td>\n",
       "      <td>0.288568</td>\n",
       "      <td>1.000000</td>\n",
       "      <td>0.125986</td>\n",
       "      <td>-0.143094</td>\n",
       "      <td>-0.050280</td>\n",
       "      <td>-0.409200</td>\n",
       "      <td>0.366954</td>\n",
       "      <td>...</td>\n",
       "      <td>0.167059</td>\n",
       "      <td>0.031317</td>\n",
       "      <td>0.158557</td>\n",
       "      <td>-0.049973</td>\n",
       "      <td>0.067014</td>\n",
       "      <td>0.011871</td>\n",
       "      <td>0.052017</td>\n",
       "      <td>0.016480</td>\n",
       "      <td>-0.025192</td>\n",
       "      <td>-0.005305</td>\n",
       "    </tr>\n",
       "    <tr>\n",
       "      <th>...</th>\n",
       "      <td>...</td>\n",
       "      <td>...</td>\n",
       "      <td>...</td>\n",
       "      <td>...</td>\n",
       "      <td>...</td>\n",
       "      <td>...</td>\n",
       "      <td>...</td>\n",
       "      <td>...</td>\n",
       "      <td>...</td>\n",
       "      <td>...</td>\n",
       "      <td>...</td>\n",
       "      <td>...</td>\n",
       "      <td>...</td>\n",
       "      <td>...</td>\n",
       "      <td>...</td>\n",
       "      <td>...</td>\n",
       "      <td>...</td>\n",
       "      <td>...</td>\n",
       "      <td>...</td>\n",
       "      <td>...</td>\n",
       "      <td>...</td>\n",
       "    </tr>\n",
       "    <tr>\n",
       "      <th>secondary_cleaner.state.floatbank5_a_level</th>\n",
       "      <td>0.184332</td>\n",
       "      <td>-0.024668</td>\n",
       "      <td>0.163992</td>\n",
       "      <td>-0.080786</td>\n",
       "      <td>0.011871</td>\n",
       "      <td>-0.021662</td>\n",
       "      <td>0.015060</td>\n",
       "      <td>-0.073670</td>\n",
       "      <td>0.035272</td>\n",
       "      <td>-0.098079</td>\n",
       "      <td>...</td>\n",
       "      <td>0.175689</td>\n",
       "      <td>0.737533</td>\n",
       "      <td>0.069865</td>\n",
       "      <td>0.417890</td>\n",
       "      <td>0.154722</td>\n",
       "      <td>1.000000</td>\n",
       "      <td>0.108107</td>\n",
       "      <td>0.818406</td>\n",
       "      <td>0.464142</td>\n",
       "      <td>0.344494</td>\n",
       "    </tr>\n",
       "    <tr>\n",
       "      <th>secondary_cleaner.state.floatbank5_b_air</th>\n",
       "      <td>0.003693</td>\n",
       "      <td>0.149266</td>\n",
       "      <td>-0.009510</td>\n",
       "      <td>-0.016961</td>\n",
       "      <td>0.052017</td>\n",
       "      <td>-0.013677</td>\n",
       "      <td>0.132744</td>\n",
       "      <td>-0.135330</td>\n",
       "      <td>-0.160522</td>\n",
       "      <td>-0.088879</td>\n",
       "      <td>...</td>\n",
       "      <td>0.734503</td>\n",
       "      <td>0.289059</td>\n",
       "      <td>0.855785</td>\n",
       "      <td>0.099747</td>\n",
       "      <td>0.895832</td>\n",
       "      <td>0.108107</td>\n",
       "      <td>1.000000</td>\n",
       "      <td>0.090751</td>\n",
       "      <td>0.491707</td>\n",
       "      <td>-0.011976</td>\n",
       "    </tr>\n",
       "    <tr>\n",
       "      <th>secondary_cleaner.state.floatbank5_b_level</th>\n",
       "      <td>0.156471</td>\n",
       "      <td>-0.060038</td>\n",
       "      <td>0.152343</td>\n",
       "      <td>-0.084962</td>\n",
       "      <td>0.016480</td>\n",
       "      <td>-0.003762</td>\n",
       "      <td>0.041558</td>\n",
       "      <td>-0.087635</td>\n",
       "      <td>0.063404</td>\n",
       "      <td>-0.054203</td>\n",
       "      <td>...</td>\n",
       "      <td>0.147999</td>\n",
       "      <td>0.630466</td>\n",
       "      <td>0.076251</td>\n",
       "      <td>0.364582</td>\n",
       "      <td>0.135991</td>\n",
       "      <td>0.818406</td>\n",
       "      <td>0.090751</td>\n",
       "      <td>1.000000</td>\n",
       "      <td>0.411510</td>\n",
       "      <td>0.327861</td>\n",
       "    </tr>\n",
       "    <tr>\n",
       "      <th>secondary_cleaner.state.floatbank6_a_air</th>\n",
       "      <td>0.162591</td>\n",
       "      <td>-0.042372</td>\n",
       "      <td>0.245158</td>\n",
       "      <td>-0.082184</td>\n",
       "      <td>-0.025192</td>\n",
       "      <td>-0.055311</td>\n",
       "      <td>0.007496</td>\n",
       "      <td>-0.070706</td>\n",
       "      <td>0.038797</td>\n",
       "      <td>-0.175804</td>\n",
       "      <td>...</td>\n",
       "      <td>0.229330</td>\n",
       "      <td>0.503967</td>\n",
       "      <td>0.311676</td>\n",
       "      <td>0.087389</td>\n",
       "      <td>0.473300</td>\n",
       "      <td>0.464142</td>\n",
       "      <td>0.491707</td>\n",
       "      <td>0.411510</td>\n",
       "      <td>1.000000</td>\n",
       "      <td>0.106270</td>\n",
       "    </tr>\n",
       "    <tr>\n",
       "      <th>secondary_cleaner.state.floatbank6_a_level</th>\n",
       "      <td>0.059581</td>\n",
       "      <td>0.067458</td>\n",
       "      <td>-0.216734</td>\n",
       "      <td>-0.019523</td>\n",
       "      <td>-0.005305</td>\n",
       "      <td>-0.088461</td>\n",
       "      <td>-0.117950</td>\n",
       "      <td>0.021293</td>\n",
       "      <td>-0.065571</td>\n",
       "      <td>-0.055692</td>\n",
       "      <td>...</td>\n",
       "      <td>0.007269</td>\n",
       "      <td>0.186186</td>\n",
       "      <td>-0.064545</td>\n",
       "      <td>0.191545</td>\n",
       "      <td>-0.008790</td>\n",
       "      <td>0.344494</td>\n",
       "      <td>-0.011976</td>\n",
       "      <td>0.327861</td>\n",
       "      <td>0.106270</td>\n",
       "      <td>1.000000</td>\n",
       "    </tr>\n",
       "  </tbody>\n",
       "</table>\n",
       "<p>86 rows × 86 columns</p>\n",
       "</div>"
      ],
      "text/plain": [
       "                                            final.output.concentrate_ag  \\\n",
       "final.output.concentrate_ag                                    1.000000   \n",
       "final.output.concentrate_pb                                    0.063570   \n",
       "final.output.concentrate_sol                                   0.380142   \n",
       "final.output.concentrate_au                                   -0.038373   \n",
       "final.output.recovery                                          0.185952   \n",
       "...                                                                 ...   \n",
       "secondary_cleaner.state.floatbank5_a_level                     0.184332   \n",
       "secondary_cleaner.state.floatbank5_b_air                       0.003693   \n",
       "secondary_cleaner.state.floatbank5_b_level                     0.156471   \n",
       "secondary_cleaner.state.floatbank6_a_air                       0.162591   \n",
       "secondary_cleaner.state.floatbank6_a_level                     0.059581   \n",
       "\n",
       "                                            final.output.concentrate_pb  \\\n",
       "final.output.concentrate_ag                                    0.063570   \n",
       "final.output.concentrate_pb                                    1.000000   \n",
       "final.output.concentrate_sol                                  -0.048586   \n",
       "final.output.concentrate_au                                    0.374400   \n",
       "final.output.recovery                                          0.151987   \n",
       "...                                                                 ...   \n",
       "secondary_cleaner.state.floatbank5_a_level                    -0.024668   \n",
       "secondary_cleaner.state.floatbank5_b_air                       0.149266   \n",
       "secondary_cleaner.state.floatbank5_b_level                    -0.060038   \n",
       "secondary_cleaner.state.floatbank6_a_air                      -0.042372   \n",
       "secondary_cleaner.state.floatbank6_a_level                     0.067458   \n",
       "\n",
       "                                            final.output.concentrate_sol  \\\n",
       "final.output.concentrate_ag                                     0.380142   \n",
       "final.output.concentrate_pb                                    -0.048586   \n",
       "final.output.concentrate_sol                                    1.000000   \n",
       "final.output.concentrate_au                                     0.261225   \n",
       "final.output.recovery                                           0.265993   \n",
       "...                                                                  ...   \n",
       "secondary_cleaner.state.floatbank5_a_level                      0.163992   \n",
       "secondary_cleaner.state.floatbank5_b_air                       -0.009510   \n",
       "secondary_cleaner.state.floatbank5_b_level                      0.152343   \n",
       "secondary_cleaner.state.floatbank6_a_air                        0.245158   \n",
       "secondary_cleaner.state.floatbank6_a_level                     -0.216734   \n",
       "\n",
       "                                            final.output.concentrate_au  \\\n",
       "final.output.concentrate_ag                                   -0.038373   \n",
       "final.output.concentrate_pb                                    0.374400   \n",
       "final.output.concentrate_sol                                   0.261225   \n",
       "final.output.concentrate_au                                    1.000000   \n",
       "final.output.recovery                                          0.288568   \n",
       "...                                                                 ...   \n",
       "secondary_cleaner.state.floatbank5_a_level                    -0.080786   \n",
       "secondary_cleaner.state.floatbank5_b_air                      -0.016961   \n",
       "secondary_cleaner.state.floatbank5_b_level                    -0.084962   \n",
       "secondary_cleaner.state.floatbank6_a_air                      -0.082184   \n",
       "secondary_cleaner.state.floatbank6_a_level                    -0.019523   \n",
       "\n",
       "                                            final.output.recovery  \\\n",
       "final.output.concentrate_ag                              0.185952   \n",
       "final.output.concentrate_pb                              0.151987   \n",
       "final.output.concentrate_sol                             0.265993   \n",
       "final.output.concentrate_au                              0.288568   \n",
       "final.output.recovery                                    1.000000   \n",
       "...                                                           ...   \n",
       "secondary_cleaner.state.floatbank5_a_level               0.011871   \n",
       "secondary_cleaner.state.floatbank5_b_air                 0.052017   \n",
       "secondary_cleaner.state.floatbank5_b_level               0.016480   \n",
       "secondary_cleaner.state.floatbank6_a_air                -0.025192   \n",
       "secondary_cleaner.state.floatbank6_a_level              -0.005305   \n",
       "\n",
       "                                            final.output.tail_ag  \\\n",
       "final.output.concentrate_ag                             0.334596   \n",
       "final.output.concentrate_pb                            -0.126886   \n",
       "final.output.concentrate_sol                            0.286305   \n",
       "final.output.concentrate_au                             0.080381   \n",
       "final.output.recovery                                   0.125986   \n",
       "...                                                          ...   \n",
       "secondary_cleaner.state.floatbank5_a_level             -0.021662   \n",
       "secondary_cleaner.state.floatbank5_b_air               -0.013677   \n",
       "secondary_cleaner.state.floatbank5_b_level             -0.003762   \n",
       "secondary_cleaner.state.floatbank6_a_air               -0.055311   \n",
       "secondary_cleaner.state.floatbank6_a_level             -0.088461   \n",
       "\n",
       "                                            final.output.tail_pb  \\\n",
       "final.output.concentrate_ag                            -0.051855   \n",
       "final.output.concentrate_pb                             0.221372   \n",
       "final.output.concentrate_sol                            0.221714   \n",
       "final.output.concentrate_au                             0.081291   \n",
       "final.output.recovery                                  -0.143094   \n",
       "...                                                          ...   \n",
       "secondary_cleaner.state.floatbank5_a_level              0.015060   \n",
       "secondary_cleaner.state.floatbank5_b_air                0.132744   \n",
       "secondary_cleaner.state.floatbank5_b_level              0.041558   \n",
       "secondary_cleaner.state.floatbank6_a_air                0.007496   \n",
       "secondary_cleaner.state.floatbank6_a_level             -0.117950   \n",
       "\n",
       "                                            final.output.tail_sol  \\\n",
       "final.output.concentrate_ag                              0.028890   \n",
       "final.output.concentrate_pb                              0.094385   \n",
       "final.output.concentrate_sol                            -0.023865   \n",
       "final.output.concentrate_au                              0.134978   \n",
       "final.output.recovery                                   -0.050280   \n",
       "...                                                           ...   \n",
       "secondary_cleaner.state.floatbank5_a_level              -0.073670   \n",
       "secondary_cleaner.state.floatbank5_b_air                -0.135330   \n",
       "secondary_cleaner.state.floatbank5_b_level              -0.087635   \n",
       "secondary_cleaner.state.floatbank6_a_air                -0.070706   \n",
       "secondary_cleaner.state.floatbank6_a_level               0.021293   \n",
       "\n",
       "                                            final.output.tail_au  \\\n",
       "final.output.concentrate_ag                             0.206569   \n",
       "final.output.concentrate_pb                            -0.047446   \n",
       "final.output.concentrate_sol                            0.267781   \n",
       "final.output.concentrate_au                            -0.031696   \n",
       "final.output.recovery                                  -0.409200   \n",
       "...                                                          ...   \n",
       "secondary_cleaner.state.floatbank5_a_level              0.035272   \n",
       "secondary_cleaner.state.floatbank5_b_air               -0.160522   \n",
       "secondary_cleaner.state.floatbank5_b_level              0.063404   \n",
       "secondary_cleaner.state.floatbank6_a_air                0.038797   \n",
       "secondary_cleaner.state.floatbank6_a_level             -0.065571   \n",
       "\n",
       "                                            primary_cleaner.input.sulfate  \\\n",
       "final.output.concentrate_ag                                      0.071158   \n",
       "final.output.concentrate_pb                                      0.079160   \n",
       "final.output.concentrate_sol                                     0.316233   \n",
       "final.output.concentrate_au                                      0.102781   \n",
       "final.output.recovery                                            0.366954   \n",
       "...                                                                   ...   \n",
       "secondary_cleaner.state.floatbank5_a_level                      -0.098079   \n",
       "secondary_cleaner.state.floatbank5_b_air                        -0.088879   \n",
       "secondary_cleaner.state.floatbank5_b_level                      -0.054203   \n",
       "secondary_cleaner.state.floatbank6_a_air                        -0.175804   \n",
       "secondary_cleaner.state.floatbank6_a_level                      -0.055692   \n",
       "\n",
       "                                            ...  \\\n",
       "final.output.concentrate_ag                 ...   \n",
       "final.output.concentrate_pb                 ...   \n",
       "final.output.concentrate_sol                ...   \n",
       "final.output.concentrate_au                 ...   \n",
       "final.output.recovery                       ...   \n",
       "...                                         ...   \n",
       "secondary_cleaner.state.floatbank5_a_level  ...   \n",
       "secondary_cleaner.state.floatbank5_b_air    ...   \n",
       "secondary_cleaner.state.floatbank5_b_level  ...   \n",
       "secondary_cleaner.state.floatbank6_a_air    ...   \n",
       "secondary_cleaner.state.floatbank6_a_level  ...   \n",
       "\n",
       "                                            secondary_cleaner.state.floatbank4_a_air  \\\n",
       "final.output.concentrate_ag                                                 0.027343   \n",
       "final.output.concentrate_pb                                                 0.058380   \n",
       "final.output.concentrate_sol                                               -0.049341   \n",
       "final.output.concentrate_au                                                 0.008308   \n",
       "final.output.recovery                                                       0.167059   \n",
       "...                                                                              ...   \n",
       "secondary_cleaner.state.floatbank5_a_level                                  0.175689   \n",
       "secondary_cleaner.state.floatbank5_b_air                                    0.734503   \n",
       "secondary_cleaner.state.floatbank5_b_level                                  0.147999   \n",
       "secondary_cleaner.state.floatbank6_a_air                                    0.229330   \n",
       "secondary_cleaner.state.floatbank6_a_level                                  0.007269   \n",
       "\n",
       "                                            secondary_cleaner.state.floatbank4_a_level  \\\n",
       "final.output.concentrate_ag                                                   0.104118   \n",
       "final.output.concentrate_pb                                                   0.028962   \n",
       "final.output.concentrate_sol                                                  0.147304   \n",
       "final.output.concentrate_au                                                  -0.019481   \n",
       "final.output.recovery                                                         0.031317   \n",
       "...                                                                                ...   \n",
       "secondary_cleaner.state.floatbank5_a_level                                    0.737533   \n",
       "secondary_cleaner.state.floatbank5_b_air                                      0.289059   \n",
       "secondary_cleaner.state.floatbank5_b_level                                    0.630466   \n",
       "secondary_cleaner.state.floatbank6_a_air                                      0.503967   \n",
       "secondary_cleaner.state.floatbank6_a_level                                    0.186186   \n",
       "\n",
       "                                            secondary_cleaner.state.floatbank4_b_air  \\\n",
       "final.output.concentrate_ag                                                 0.029887   \n",
       "final.output.concentrate_pb                                                 0.115404   \n",
       "final.output.concentrate_sol                                                0.020544   \n",
       "final.output.concentrate_au                                                -0.015284   \n",
       "final.output.recovery                                                       0.158557   \n",
       "...                                                                              ...   \n",
       "secondary_cleaner.state.floatbank5_a_level                                  0.069865   \n",
       "secondary_cleaner.state.floatbank5_b_air                                    0.855785   \n",
       "secondary_cleaner.state.floatbank5_b_level                                  0.076251   \n",
       "secondary_cleaner.state.floatbank6_a_air                                    0.311676   \n",
       "secondary_cleaner.state.floatbank6_a_level                                 -0.064545   \n",
       "\n",
       "                                            secondary_cleaner.state.floatbank4_b_level  \\\n",
       "final.output.concentrate_ag                                                  -0.063246   \n",
       "final.output.concentrate_pb                                                   0.093859   \n",
       "final.output.concentrate_sol                                                  0.002077   \n",
       "final.output.concentrate_au                                                  -0.018636   \n",
       "final.output.recovery                                                        -0.049973   \n",
       "...                                                                                ...   \n",
       "secondary_cleaner.state.floatbank5_a_level                                    0.417890   \n",
       "secondary_cleaner.state.floatbank5_b_air                                      0.099747   \n",
       "secondary_cleaner.state.floatbank5_b_level                                    0.364582   \n",
       "secondary_cleaner.state.floatbank6_a_air                                      0.087389   \n",
       "secondary_cleaner.state.floatbank6_a_level                                    0.191545   \n",
       "\n",
       "                                            secondary_cleaner.state.floatbank5_a_air  \\\n",
       "final.output.concentrate_ag                                                -0.004246   \n",
       "final.output.concentrate_pb                                                 0.125920   \n",
       "final.output.concentrate_sol                                               -0.002361   \n",
       "final.output.concentrate_au                                                -0.000971   \n",
       "final.output.recovery                                                       0.067014   \n",
       "...                                                                              ...   \n",
       "secondary_cleaner.state.floatbank5_a_level                                  0.154722   \n",
       "secondary_cleaner.state.floatbank5_b_air                                    0.895832   \n",
       "secondary_cleaner.state.floatbank5_b_level                                  0.135991   \n",
       "secondary_cleaner.state.floatbank6_a_air                                    0.473300   \n",
       "secondary_cleaner.state.floatbank6_a_level                                 -0.008790   \n",
       "\n",
       "                                            secondary_cleaner.state.floatbank5_a_level  \\\n",
       "final.output.concentrate_ag                                                   0.184332   \n",
       "final.output.concentrate_pb                                                  -0.024668   \n",
       "final.output.concentrate_sol                                                  0.163992   \n",
       "final.output.concentrate_au                                                  -0.080786   \n",
       "final.output.recovery                                                         0.011871   \n",
       "...                                                                                ...   \n",
       "secondary_cleaner.state.floatbank5_a_level                                    1.000000   \n",
       "secondary_cleaner.state.floatbank5_b_air                                      0.108107   \n",
       "secondary_cleaner.state.floatbank5_b_level                                    0.818406   \n",
       "secondary_cleaner.state.floatbank6_a_air                                      0.464142   \n",
       "secondary_cleaner.state.floatbank6_a_level                                    0.344494   \n",
       "\n",
       "                                            secondary_cleaner.state.floatbank5_b_air  \\\n",
       "final.output.concentrate_ag                                                 0.003693   \n",
       "final.output.concentrate_pb                                                 0.149266   \n",
       "final.output.concentrate_sol                                               -0.009510   \n",
       "final.output.concentrate_au                                                -0.016961   \n",
       "final.output.recovery                                                       0.052017   \n",
       "...                                                                              ...   \n",
       "secondary_cleaner.state.floatbank5_a_level                                  0.108107   \n",
       "secondary_cleaner.state.floatbank5_b_air                                    1.000000   \n",
       "secondary_cleaner.state.floatbank5_b_level                                  0.090751   \n",
       "secondary_cleaner.state.floatbank6_a_air                                    0.491707   \n",
       "secondary_cleaner.state.floatbank6_a_level                                 -0.011976   \n",
       "\n",
       "                                            secondary_cleaner.state.floatbank5_b_level  \\\n",
       "final.output.concentrate_ag                                                   0.156471   \n",
       "final.output.concentrate_pb                                                  -0.060038   \n",
       "final.output.concentrate_sol                                                  0.152343   \n",
       "final.output.concentrate_au                                                  -0.084962   \n",
       "final.output.recovery                                                         0.016480   \n",
       "...                                                                                ...   \n",
       "secondary_cleaner.state.floatbank5_a_level                                    0.818406   \n",
       "secondary_cleaner.state.floatbank5_b_air                                      0.090751   \n",
       "secondary_cleaner.state.floatbank5_b_level                                    1.000000   \n",
       "secondary_cleaner.state.floatbank6_a_air                                      0.411510   \n",
       "secondary_cleaner.state.floatbank6_a_level                                    0.327861   \n",
       "\n",
       "                                            secondary_cleaner.state.floatbank6_a_air  \\\n",
       "final.output.concentrate_ag                                                 0.162591   \n",
       "final.output.concentrate_pb                                                -0.042372   \n",
       "final.output.concentrate_sol                                                0.245158   \n",
       "final.output.concentrate_au                                                -0.082184   \n",
       "final.output.recovery                                                      -0.025192   \n",
       "...                                                                              ...   \n",
       "secondary_cleaner.state.floatbank5_a_level                                  0.464142   \n",
       "secondary_cleaner.state.floatbank5_b_air                                    0.491707   \n",
       "secondary_cleaner.state.floatbank5_b_level                                  0.411510   \n",
       "secondary_cleaner.state.floatbank6_a_air                                    1.000000   \n",
       "secondary_cleaner.state.floatbank6_a_level                                  0.106270   \n",
       "\n",
       "                                            secondary_cleaner.state.floatbank6_a_level  \n",
       "final.output.concentrate_ag                                                   0.059581  \n",
       "final.output.concentrate_pb                                                   0.067458  \n",
       "final.output.concentrate_sol                                                 -0.216734  \n",
       "final.output.concentrate_au                                                  -0.019523  \n",
       "final.output.recovery                                                        -0.005305  \n",
       "...                                                                                ...  \n",
       "secondary_cleaner.state.floatbank5_a_level                                    0.344494  \n",
       "secondary_cleaner.state.floatbank5_b_air                                     -0.011976  \n",
       "secondary_cleaner.state.floatbank5_b_level                                    0.327861  \n",
       "secondary_cleaner.state.floatbank6_a_air                                      0.106270  \n",
       "secondary_cleaner.state.floatbank6_a_level                                    1.000000  \n",
       "\n",
       "[86 rows x 86 columns]"
      ]
     },
     "metadata": {},
     "output_type": "display_data"
    },
    {
     "data": {
      "text/plain": [
       "'===================================================================================================='"
      ]
     },
     "metadata": {},
     "output_type": "display_data"
    },
    {
     "data": {
      "text/plain": [
       "'Дублей: '"
      ]
     },
     "metadata": {},
     "output_type": "display_data"
    },
    {
     "data": {
      "text/plain": [
       "0"
      ]
     },
     "metadata": {},
     "output_type": "display_data"
    },
    {
     "data": {
      "text/plain": [
       "'XXXXXXXXXXXXXXXXXXXXXXXXXXXXXXXXXXXXXXXXXXXXXXXXXXXXXXXXXXXXXXXXXXXXXXXXXXXXXXXXXXXXXXXXXXXXXXXXXXXX'"
      ]
     },
     "metadata": {},
     "output_type": "display_data"
    }
   ],
   "source": [
    "for df in df_dict.items():\n",
    "    display(df[0])\n",
    "    display(df[1].get('df').head(5))\n",
    "    display(100*'=')\n",
    "    display(df[1].get('df').info())\n",
    "    display(100*'=')\n",
    "    display(df[1].get('df').columns)\n",
    "    display(100*'=')\n",
    "    display(df[1].get('df').describe())\n",
    "    display(100*'=')\n",
    "    display(df[1].get('df').isna().sum())\n",
    "    display(100*'=')\n",
    "    display(df[1].get('df').corr())\n",
    "    display(100*'=')\n",
    "    display('Дублей: ',len(df[1].get('df')[df[1].get('df').duplicated()]))\n",
    "    display(100*'X')"
   ]
  },
  {
   "cell_type": "markdown",
   "metadata": {},
   "source": [
    "### Проверка рассчета эффективности"
   ]
  },
  {
   "cell_type": "code",
   "execution_count": 4,
   "metadata": {
    "scrolled": true
   },
   "outputs": [
    {
     "name": "stdout",
     "output_type": "stream",
     "text": [
      "Wrong rougher recovery:  10334\n"
     ]
    },
    {
     "data": {
      "text/html": [
       "<div>\n",
       "<style scoped>\n",
       "    .dataframe tbody tr th:only-of-type {\n",
       "        vertical-align: middle;\n",
       "    }\n",
       "\n",
       "    .dataframe tbody tr th {\n",
       "        vertical-align: top;\n",
       "    }\n",
       "\n",
       "    .dataframe thead th {\n",
       "        text-align: right;\n",
       "    }\n",
       "</style>\n",
       "<table border=\"1\" class=\"dataframe\">\n",
       "  <thead>\n",
       "    <tr style=\"text-align: right;\">\n",
       "      <th></th>\n",
       "      <th>rougher.output.recovery</th>\n",
       "      <th>rougher.output.check_recovery</th>\n",
       "    </tr>\n",
       "  </thead>\n",
       "  <tbody>\n",
       "    <tr>\n",
       "      <th>0</th>\n",
       "      <td>87.107763</td>\n",
       "      <td>87.107763</td>\n",
       "    </tr>\n",
       "    <tr>\n",
       "      <th>1</th>\n",
       "      <td>86.843261</td>\n",
       "      <td>86.843261</td>\n",
       "    </tr>\n",
       "    <tr>\n",
       "      <th>2</th>\n",
       "      <td>86.842308</td>\n",
       "      <td>86.842308</td>\n",
       "    </tr>\n",
       "    <tr>\n",
       "      <th>3</th>\n",
       "      <td>87.226430</td>\n",
       "      <td>87.226430</td>\n",
       "    </tr>\n",
       "    <tr>\n",
       "      <th>4</th>\n",
       "      <td>86.688794</td>\n",
       "      <td>86.688794</td>\n",
       "    </tr>\n",
       "  </tbody>\n",
       "</table>\n",
       "</div>"
      ],
      "text/plain": [
       "   rougher.output.recovery  rougher.output.check_recovery\n",
       "0                87.107763                      87.107763\n",
       "1                86.843261                      86.843261\n",
       "2                86.842308                      86.842308\n",
       "3                87.226430                      87.226430\n",
       "4                86.688794                      86.688794"
      ]
     },
     "metadata": {},
     "output_type": "display_data"
    }
   ],
   "source": [
    "c = df3['rougher.output.concentrate_au']\n",
    "f = df3['rougher.input.feed_au']\n",
    "t = df3['rougher.output.tail_au']\n",
    "df3['rougher.output.check_recovery'] = ((c*(f-t))/(f*(c-t)))*100    \n",
    "    \n",
    "print('Wrong rougher recovery: ', len(df3[df3['rougher.output.recovery'] != df3['rougher.output.check_recovery']]))\n",
    "display(df3[['rougher.output.recovery','rougher.output.check_recovery']].head(5))"
   ]
  },
  {
   "cell_type": "markdown",
   "metadata": {},
   "source": [
    "### Вычисление эффективности обогащения на обучающей выборке"
   ]
  },
  {
   "cell_type": "code",
   "execution_count": 5,
   "metadata": {},
   "outputs": [
    {
     "name": "stdout",
     "output_type": "stream",
     "text": [
      "Wrong rougher recovery:  7437\n"
     ]
    }
   ],
   "source": [
    "c = df1['rougher.output.concentrate_au']\n",
    "f = df1['rougher.input.feed_au']\n",
    "t = df1['rougher.output.tail_au']\n",
    "df1['rougher.output.check_recovery'] = ((c*(f-t))/(f*(c-t)))*100\n",
    "\n",
    "print('Wrong rougher recovery: ', len(df1[df1['rougher.output.recovery'] != df1['rougher.output.check_recovery']]))"
   ]
  },
  {
   "cell_type": "markdown",
   "metadata": {},
   "source": [
    "### Анализ MAE"
   ]
  },
  {
   "cell_type": "code",
   "execution_count": 6,
   "metadata": {},
   "outputs": [
    {
     "data": {
      "text/plain": [
       "9.73512347450521e-15"
      ]
     },
     "execution_count": 6,
     "metadata": {},
     "output_type": "execute_result"
    }
   ],
   "source": [
    "mean_absolute_error(df1['rougher.output.recovery'], \n",
    "                    df1['rougher.output.check_recovery'])"
   ]
  },
  {
   "cell_type": "markdown",
   "metadata": {},
   "source": [
    "Анализ показывает, что для 7437 из 14149 на тестовой выборке коэффициент расчитан не верно, но MAE = 9,7 * 10(-15). Что говорит, что отклонение мало и можно считать что результаты проверки соответствуют данным в файле."
   ]
  },
  {
   "cell_type": "markdown",
   "metadata": {},
   "source": [
    "### Анализ тестовых данных"
   ]
  },
  {
   "cell_type": "code",
   "execution_count": 7,
   "metadata": {},
   "outputs": [
    {
     "data": {
      "text/plain": [
       "['rougher.output.tail_sol',\n",
       " 'rougher.output.concentrate_au',\n",
       " 'rougher.calculation.sulfate_to_au_concentrate',\n",
       " 'rougher.output.tail_ag',\n",
       " 'rougher.output.concentrate_sol',\n",
       " 'final.output.concentrate_sol',\n",
       " 'primary_cleaner.output.concentrate_ag',\n",
       " 'rougher.output.recovery',\n",
       " 'final.output.concentrate_pb',\n",
       " 'rougher.output.concentrate_pb',\n",
       " 'final.output.tail_ag',\n",
       " 'final.output.concentrate_ag',\n",
       " 'primary_cleaner.output.concentrate_sol',\n",
       " 'primary_cleaner.output.concentrate_pb',\n",
       " 'primary_cleaner.output.tail_sol',\n",
       " 'rougher.output.tail_pb',\n",
       " 'secondary_cleaner.output.tail_pb',\n",
       " 'final.output.tail_pb',\n",
       " 'primary_cleaner.output.tail_au',\n",
       " 'final.output.concentrate_au',\n",
       " 'rougher.output.check_recovery',\n",
       " 'primary_cleaner.output.tail_pb',\n",
       " 'primary_cleaner.output.concentrate_au',\n",
       " 'rougher.output.tail_au',\n",
       " 'final.output.tail_au',\n",
       " 'rougher.output.concentrate_ag',\n",
       " 'primary_cleaner.output.tail_ag',\n",
       " 'rougher.calculation.floatbank11_sulfate_to_au_feed',\n",
       " 'final.output.recovery',\n",
       " 'secondary_cleaner.output.tail_au',\n",
       " 'rougher.calculation.floatbank10_sulfate_to_au_feed',\n",
       " 'final.output.tail_sol',\n",
       " 'rougher.calculation.au_pb_ratio',\n",
       " 'secondary_cleaner.output.tail_sol',\n",
       " 'secondary_cleaner.output.tail_ag']"
      ]
     },
     "execution_count": 7,
     "metadata": {},
     "output_type": "execute_result"
    }
   ],
   "source": [
    "drop_columns_list = list(set(df3.columns.values).difference(set(df2.columns.values)))\n",
    "drop_columns_list"
   ]
  },
  {
   "cell_type": "markdown",
   "metadata": {},
   "source": [
    "В тестовых данных отсутствует информация об отходах и концентрации металлов на разных этапах, скорее всего эти данные появляются сильно позже."
   ]
  },
  {
   "cell_type": "markdown",
   "metadata": {},
   "source": [
    "### Предобработка данных"
   ]
  },
  {
   "cell_type": "markdown",
   "metadata": {},
   "source": [
    "#### Обработаем строки с пропущенными данными"
   ]
  },
  {
   "cell_type": "code",
   "execution_count": 8,
   "metadata": {},
   "outputs": [],
   "source": [
    "df_list = {'train':{'df':df1},'test':{'df':df2},'full':{'df':df3}}\n",
    "data = []\n",
    "\n",
    "def display_model_score(test_df):\n",
    "    features = test_df.drop(['final.output.recovery','date'], axis=1)\n",
    "    target   = test_df['final.output.recovery']\n",
    "\n",
    "    scaler = StandardScaler()\n",
    "\n",
    "    scaler.fit(features) \n",
    "\n",
    "    features = scaler.transform(features)\n",
    "\n",
    "    model = LinearRegression()\n",
    "    model.fit(features, target)\n",
    "    predict = model.predict(features)\n",
    "    \n",
    "    return mean_absolute_error(target, \n",
    "                                predict)"
   ]
  },
  {
   "cell_type": "markdown",
   "metadata": {},
   "source": [
    "##### Проверка модели с удалением строк"
   ]
  },
  {
   "cell_type": "code",
   "execution_count": 9,
   "metadata": {},
   "outputs": [],
   "source": [
    "test_df = df3.copy()\n",
    "test_df.dropna(inplace=True)\n",
    "\n",
    "data.append(['Drop',display_model_score(test_df)])"
   ]
  },
  {
   "cell_type": "markdown",
   "metadata": {},
   "source": [
    "##### Проверка модели с заполнением средним"
   ]
  },
  {
   "cell_type": "code",
   "execution_count": 10,
   "metadata": {},
   "outputs": [],
   "source": [
    "test_df = df3.copy()\n",
    "\n",
    "for column in list(test_df.columns)[1:]:\n",
    "    test_df[column].fillna(test_df[column].mean(),inplace=True)\n",
    "    \n",
    "data.append(['Mean',display_model_score(test_df)])"
   ]
  },
  {
   "cell_type": "markdown",
   "metadata": {},
   "source": [
    "##### Проверка модели с заполнением медианой"
   ]
  },
  {
   "cell_type": "code",
   "execution_count": 11,
   "metadata": {},
   "outputs": [],
   "source": [
    "test_df = df3.copy()\n",
    "\n",
    "for column in list(test_df.columns)[1:]:\n",
    "    test_df[column].fillna(test_df[column].median(),inplace=True)\n",
    "    \n",
    "data.append(['Median',display_model_score(test_df)])"
   ]
  },
  {
   "cell_type": "markdown",
   "metadata": {},
   "source": [
    "##### Проверка модели с заполнением соседними данными"
   ]
  },
  {
   "cell_type": "code",
   "execution_count": 12,
   "metadata": {},
   "outputs": [
    {
     "name": "stdout",
     "output_type": "stream",
     "text": [
      "CPU times: user 237 ms, sys: 260 ms, total: 497 ms\n",
      "Wall time: 497 ms\n"
     ]
    }
   ],
   "source": [
    "%%time\n",
    "#Wall time: 23.6 s\n",
    "test_df = df3.copy()\n",
    "#заполним пропуски по данным из след или предыдущей строки, до тех пор пока все пропуски не обработаются.\n",
    "#в теории может быть бесконечный цикл, но в конкретном случае не возникает.\n",
    "#если прогнать только 1 раз, то восстанавливаем не так много записей\n",
    "#while sum(test_df.isna().sum()) > 0:\n",
    "#    for column in list(test_df.columns)[1:]:\n",
    "#        test_df.loc[test_df[column].isna(),column] = test_df.iloc[test_df[test_df[column].isna()==True].index+1][column].values\n",
    "#        if test_df[column].isna().sum() > 0:\n",
    "#            test_df.loc[test_df[column].isna(),column] = test_df.iloc[test_df[test_df[column].isna()==True].index-1][column].values\n",
    "test_df.ffill(inplace=True)    \n",
    "data.append(['Nearby',display_model_score(test_df)])"
   ]
  },
  {
   "cell_type": "code",
   "execution_count": 13,
   "metadata": {},
   "outputs": [
    {
     "data": {
      "text/plain": [
       "[['Drop', 1.403724005681492],\n",
       " ['Mean', 1.958065279726153],\n",
       " ['Median', 1.9604676184589638],\n",
       " ['Nearby', 1.9734830364089508]]"
      ]
     },
     "metadata": {},
     "output_type": "display_data"
    }
   ],
   "source": [
    "display(data)"
   ]
  },
  {
   "cell_type": "code",
   "execution_count": 14,
   "metadata": {},
   "outputs": [],
   "source": [
    "for df in df_list.items():\n",
    "    df[1].get('df').dropna(inplace=True)"
   ]
  },
  {
   "cell_type": "markdown",
   "metadata": {},
   "source": [
    "## Анализ данных"
   ]
  },
  {
   "cell_type": "markdown",
   "metadata": {},
   "source": [
    "### Изменение концентрации металлов (Au, Ag, Pb) на различных этапах очистки. "
   ]
  },
  {
   "cell_type": "code",
   "execution_count": 15,
   "metadata": {},
   "outputs": [
    {
     "data": {
      "text/plain": [
       "<AxesSubplot:xlabel='Metal'>"
      ]
     },
     "metadata": {},
     "output_type": "display_data"
    },
    {
     "data": {
      "image/png": "[encoded data removed]",
      "text/plain": [
       "<Figure size 432x288 with 1 Axes>"
      ]
     },
     "metadata": {
      "needs_background": "light"
     },
     "output_type": "display_data"
    }
   ],
   "source": [
    "data = []\n",
    "\n",
    "data.append(['Au',\n",
    "            df_list['full'].get('df')['rougher.input.feed_au'].mean(),\n",
    "            df_list['full'].get('df')['rougher.output.concentrate_au'].mean(),\n",
    "            df_list['full'].get('df')['primary_cleaner.output.concentrate_au'].mean(),\n",
    "            df_list['full'].get('df')['final.output.concentrate_au'].mean()])\n",
    "\n",
    "data.append(['Ag',\n",
    "            df_list['full'].get('df')['rougher.input.feed_ag'].mean(),\n",
    "            df_list['full'].get('df')['rougher.output.concentrate_ag'].mean(),\n",
    "            df_list['full'].get('df')['primary_cleaner.output.concentrate_ag'].mean(),\n",
    "            df_list['full'].get('df')['final.output.concentrate_ag'].mean()])\n",
    "\n",
    "data.append(['Pb',\n",
    "            df_list['full'].get('df')['rougher.input.feed_pb'].mean(),\n",
    "            df_list['full'].get('df')['rougher.output.concentrate_pb'].mean(),\n",
    "            df_list['full'].get('df')['primary_cleaner.output.concentrate_pb'].mean(),\n",
    "            df_list['full'].get('df')['final.output.concentrate_pb'].mean()])\n",
    "\n",
    "display(pd.DataFrame(data, columns=['Metal',\n",
    "                                    'input',\n",
    "                                    'rougher_output',\n",
    "                                    'primary_cleaner_output',\n",
    "                                    'final_output']).set_index('Metal').plot(kind='bar'))"
   ]
  },
  {
   "cell_type": "markdown",
   "metadata": {},
   "source": [
    "Конценрация золота растет по мере прохождения отчистки, концентрация свинца практически не меняется, в то время как концентрация серебра падает."
   ]
  },
  {
   "cell_type": "markdown",
   "metadata": {},
   "source": [
    "### Распределения размеров гранул сырья на обучающей и тестовой выборках."
   ]
  },
  {
   "cell_type": "code",
   "execution_count": 16,
   "metadata": {},
   "outputs": [],
   "source": [
    "def display_hist_dif(test, train, bins, column):\n",
    "    plt.hist(test[column], bins, alpha=0.5, label='test', density=True)\n",
    "    plt.hist(train[column], bins, alpha=0.5, label='train', density=True)\n",
    "    plt.legend(loc='upper right')\n",
    "    plt.show()"
   ]
  },
  {
   "cell_type": "markdown",
   "metadata": {},
   "source": [
    "- H0: Гранулы в тестовой выборке = гранулам в обучающей выборке.\n",
    "- H1: Гранулы в тестовой выборке <> гранулам в обучающей выборке."
   ]
  },
  {
   "cell_type": "code",
   "execution_count": 17,
   "metadata": {},
   "outputs": [
    {
     "data": {
      "image/png": "[encoded data removed]",
      "text/plain": [
       "<Figure size 432x288 with 1 Axes>"
      ]
     },
     "metadata": {
      "needs_background": "light"
     },
     "output_type": "display_data"
    }
   ],
   "source": [
    "display_hist_dif(df_list['test'].get('df'), \n",
    "                 df_list['train'].get('df'), \n",
    "                 30, \n",
    "                 'primary_cleaner.input.feed_size')"
   ]
  },
  {
   "cell_type": "markdown",
   "metadata": {},
   "source": [
    "- H0: Гранулы в тестовой выборке = гранулам в обучающей выборке.\n",
    "- H1: Гранулы в тестовой выборке <> гранулам в обучающей выборке."
   ]
  },
  {
   "cell_type": "code",
   "execution_count": 18,
   "metadata": {},
   "outputs": [
    {
     "data": {
      "image/png": "[encoded data removed]",
      "text/plain": [
       "<Figure size 432x288 with 1 Axes>"
      ]
     },
     "metadata": {
      "needs_background": "light"
     },
     "output_type": "display_data"
    }
   ],
   "source": [
    "display_hist_dif(df_list['test'].get('df'), \n",
    "                 df_list['train'].get('df'), \n",
    "                 30, \n",
    "                 'rougher.input.feed_size')"
   ]
  },
  {
   "cell_type": "markdown",
   "metadata": {},
   "source": [
    "Распределение по гранулам не равномерное, но при этом отличия критичными назвать сложно."
   ]
  },
  {
   "cell_type": "markdown",
   "metadata": {},
   "source": [
    "### Анализ концентрации всех веществ на разных стадиях: в сырье, в черновом и финальном концентратах"
   ]
  },
  {
   "cell_type": "code",
   "execution_count": 19,
   "metadata": {},
   "outputs": [
    {
     "data": {
      "image/png": "[encoded data removed]",
      "text/plain": [
       "<Figure size 432x288 with 1 Axes>"
      ]
     },
     "metadata": {
      "needs_background": "light"
     },
     "output_type": "display_data"
    },
    {
     "data": {
      "text/plain": [
       "'rougher.input.feed_au'"
      ]
     },
     "metadata": {},
     "output_type": "display_data"
    },
    {
     "data": {
      "text/plain": [
       "<AxesSubplot:>"
      ]
     },
     "metadata": {},
     "output_type": "display_data"
    },
    {
     "data": {
      "image/png": "[encoded data removed]",
      "text/plain": [
       "<Figure size 432x288 with 1 Axes>"
      ]
     },
     "metadata": {
      "needs_background": "light"
     },
     "output_type": "display_data"
    },
    {
     "data": {
      "text/plain": [
       "'rougher.input.feed_ag'"
      ]
     },
     "metadata": {},
     "output_type": "display_data"
    },
    {
     "data": {
      "text/plain": [
       "<AxesSubplot:>"
      ]
     },
     "metadata": {},
     "output_type": "display_data"
    },
    {
     "data": {
      "image/png": "[encoded data removed]",
      "text/plain": [
       "<Figure size 432x288 with 1 Axes>"
      ]
     },
     "metadata": {
      "needs_background": "light"
     },
     "output_type": "display_data"
    },
    {
     "data": {
      "text/plain": [
       "'rougher.input.feed_pb'"
      ]
     },
     "metadata": {},
     "output_type": "display_data"
    },
    {
     "data": {
      "text/plain": [
       "<AxesSubplot:>"
      ]
     },
     "metadata": {},
     "output_type": "display_data"
    },
    {
     "data": {
      "image/png": "[encoded data removed]",
      "text/plain": [
       "<Figure size 432x288 with 1 Axes>"
      ]
     },
     "metadata": {
      "needs_background": "light"
     },
     "output_type": "display_data"
    },
    {
     "data": {
      "text/plain": [
       "'rougher.input.feed_sol'"
      ]
     },
     "metadata": {},
     "output_type": "display_data"
    },
    {
     "data": {
      "text/plain": [
       "<AxesSubplot:>"
      ]
     },
     "metadata": {},
     "output_type": "display_data"
    },
    {
     "data": {
      "image/png": "[encoded data removed]",
      "text/plain": [
       "<Figure size 432x288 with 1 Axes>"
      ]
     },
     "metadata": {
      "needs_background": "light"
     },
     "output_type": "display_data"
    },
    {
     "data": {
      "text/plain": [
       "'rougher.output.concentrate_au'"
      ]
     },
     "metadata": {},
     "output_type": "display_data"
    },
    {
     "data": {
      "text/plain": [
       "<AxesSubplot:>"
      ]
     },
     "metadata": {},
     "output_type": "display_data"
    },
    {
     "data": {
      "image/png": "[encoded data removed]",
      "text/plain": [
       "<Figure size 432x288 with 1 Axes>"
      ]
     },
     "metadata": {
      "needs_background": "light"
     },
     "output_type": "display_data"
    },
    {
     "data": {
      "text/plain": [
       "'rougher.output.concentrate_ag'"
      ]
     },
     "metadata": {},
     "output_type": "display_data"
    },
    {
     "data": {
      "text/plain": [
       "<AxesSubplot:>"
      ]
     },
     "metadata": {},
     "output_type": "display_data"
    },
    {
     "data": {
      "image/png": "[encoded data removed]",
      "text/plain": [
       "<Figure size 432x288 with 1 Axes>"
      ]
     },
     "metadata": {
      "needs_background": "light"
     },
     "output_type": "display_data"
    },
    {
     "data": {
      "text/plain": [
       "'rougher.output.concentrate_pb'"
      ]
     },
     "metadata": {},
     "output_type": "display_data"
    },
    {
     "data": {
      "text/plain": [
       "<AxesSubplot:>"
      ]
     },
     "metadata": {},
     "output_type": "display_data"
    },
    {
     "data": {
      "image/png": "[encoded data removed]",
      "text/plain": [
       "<Figure size 432x288 with 1 Axes>"
      ]
     },
     "metadata": {
      "needs_background": "light"
     },
     "output_type": "display_data"
    },
    {
     "data": {
      "text/plain": [
       "'rougher.output.concentrate_sol'"
      ]
     },
     "metadata": {},
     "output_type": "display_data"
    },
    {
     "data": {
      "text/plain": [
       "<AxesSubplot:>"
      ]
     },
     "metadata": {},
     "output_type": "display_data"
    },
    {
     "data": {
      "image/png": "[encoded data removed]",
      "text/plain": [
       "<Figure size 432x288 with 1 Axes>"
      ]
     },
     "metadata": {
      "needs_background": "light"
     },
     "output_type": "display_data"
    },
    {
     "data": {
      "text/plain": [
       "'primary_cleaner.output.concentrate_au'"
      ]
     },
     "metadata": {},
     "output_type": "display_data"
    },
    {
     "data": {
      "text/plain": [
       "<AxesSubplot:>"
      ]
     },
     "metadata": {},
     "output_type": "display_data"
    },
    {
     "data": {
      "image/png": "[encoded data removed]",
      "text/plain": [
       "<Figure size 432x288 with 1 Axes>"
      ]
     },
     "metadata": {
      "needs_background": "light"
     },
     "output_type": "display_data"
    },
    {
     "data": {
      "text/plain": [
       "'primary_cleaner.output.concentrate_ag'"
      ]
     },
     "metadata": {},
     "output_type": "display_data"
    },
    {
     "data": {
      "text/plain": [
       "<AxesSubplot:>"
      ]
     },
     "metadata": {},
     "output_type": "display_data"
    },
    {
     "data": {
      "image/png": "[encoded data removed]",
      "text/plain": [
       "<Figure size 432x288 with 1 Axes>"
      ]
     },
     "metadata": {
      "needs_background": "light"
     },
     "output_type": "display_data"
    },
    {
     "data": {
      "text/plain": [
       "'primary_cleaner.output.concentrate_pb'"
      ]
     },
     "metadata": {},
     "output_type": "display_data"
    },
    {
     "data": {
      "text/plain": [
       "<AxesSubplot:>"
      ]
     },
     "metadata": {},
     "output_type": "display_data"
    },
    {
     "data": {
      "image/png": "[encoded data removed]",
      "text/plain": [
       "<Figure size 432x288 with 1 Axes>"
      ]
     },
     "metadata": {
      "needs_background": "light"
     },
     "output_type": "display_data"
    },
    {
     "data": {
      "text/plain": [
       "'primary_cleaner.output.concentrate_sol'"
      ]
     },
     "metadata": {},
     "output_type": "display_data"
    },
    {
     "data": {
      "text/plain": [
       "<AxesSubplot:>"
      ]
     },
     "metadata": {},
     "output_type": "display_data"
    },
    {
     "data": {
      "image/png": "[encoded data removed]",
      "text/plain": [
       "<Figure size 432x288 with 1 Axes>"
      ]
     },
     "metadata": {
      "needs_background": "light"
     },
     "output_type": "display_data"
    },
    {
     "data": {
      "text/plain": [
       "'final.output.concentrate_au'"
      ]
     },
     "metadata": {},
     "output_type": "display_data"
    },
    {
     "data": {
      "text/plain": [
       "<AxesSubplot:>"
      ]
     },
     "metadata": {},
     "output_type": "display_data"
    },
    {
     "data": {
      "image/png": "[encoded data removed]",
      "text/plain": [
       "<Figure size 432x288 with 1 Axes>"
      ]
     },
     "metadata": {
      "needs_background": "light"
     },
     "output_type": "display_data"
    },
    {
     "data": {
      "text/plain": [
       "'final.output.concentrate_ag'"
      ]
     },
     "metadata": {},
     "output_type": "display_data"
    },
    {
     "data": {
      "text/plain": [
       "<AxesSubplot:>"
      ]
     },
     "metadata": {},
     "output_type": "display_data"
    },
    {
     "data": {
      "image/png": "[encoded data removed]",
      "text/plain": [
       "<Figure size 432x288 with 1 Axes>"
      ]
     },
     "metadata": {
      "needs_background": "light"
     },
     "output_type": "display_data"
    },
    {
     "data": {
      "text/plain": [
       "'final.output.concentrate_pb'"
      ]
     },
     "metadata": {},
     "output_type": "display_data"
    },
    {
     "data": {
      "text/plain": [
       "<AxesSubplot:>"
      ]
     },
     "metadata": {},
     "output_type": "display_data"
    },
    {
     "data": {
      "image/png": "[encoded data removed]",
      "text/plain": [
       "<Figure size 432x288 with 1 Axes>"
      ]
     },
     "metadata": {
      "needs_background": "light"
     },
     "output_type": "display_data"
    },
    {
     "data": {
      "text/plain": [
       "'final.output.concentrate_sol'"
      ]
     },
     "metadata": {},
     "output_type": "display_data"
    },
    {
     "data": {
      "text/plain": [
       "<AxesSubplot:>"
      ]
     },
     "metadata": {},
     "output_type": "display_data"
    },
    {
     "data": {
      "image/png": "[encoded data removed]",
      "text/plain": [
       "<Figure size 432x288 with 1 Axes>"
      ]
     },
     "metadata": {
      "needs_background": "light"
     },
     "output_type": "display_data"
    }
   ],
   "source": [
    "data = []\n",
    "\n",
    "data.append(['rougher.input',\n",
    "            (df_list['full'].get('df')['rougher.input.feed_au'].mean()+\n",
    "            df_list['full'].get('df')['rougher.input.feed_ag'].mean() +\n",
    "            df_list['full'].get('df')['rougher.input.feed_pb'].mean()+\n",
    "            df_list['full'].get('df')['rougher.input.feed_sol'].mean())])\n",
    "\n",
    "data.append(['rougher.output',\n",
    "            (df_list['full'].get('df')['rougher.output.concentrate_au'].mean()+\n",
    "            df_list['full'].get('df')['rougher.output.concentrate_ag'].mean() +\n",
    "            df_list['full'].get('df')['rougher.output.concentrate_pb'].mean()+\n",
    "            df_list['full'].get('df')['rougher.output.concentrate_sol'].mean())])\n",
    "\n",
    "data.append(['primary_cleaner.output',\n",
    "            (df_list['full'].get('df')['primary_cleaner.output.concentrate_au'].mean()+\n",
    "            df_list['full'].get('df')['primary_cleaner.output.concentrate_ag'].mean() +\n",
    "            df_list['full'].get('df')['primary_cleaner.output.concentrate_pb'].mean()+\n",
    "            df_list['full'].get('df')['primary_cleaner.output.concentrate_sol'].mean())])\n",
    "\n",
    "data.append(['final.output',\n",
    "            (df_list['full'].get('df')['final.output.concentrate_au'].mean()+\n",
    "            df_list['full'].get('df')['final.output.concentrate_ag'].mean() +\n",
    "            df_list['full'].get('df')['final.output.concentrate_pb'].mean()+\n",
    "            df_list['full'].get('df')['final.output.concentrate_sol'].mean())])\n",
    "\n",
    "pd.DataFrame(data, columns=['Step','Concentrate']).set_index('Step').plot(kind='bar')\n",
    "plt.show()\n",
    "\n",
    "\n",
    "list_hist = ['rougher.input.feed_au',\n",
    "            'rougher.input.feed_ag',\n",
    "            'rougher.input.feed_pb',\n",
    "            'rougher.input.feed_sol',\n",
    "            'rougher.output.concentrate_au',\n",
    "            'rougher.output.concentrate_ag',\n",
    "            'rougher.output.concentrate_pb',\n",
    "            'rougher.output.concentrate_sol',\n",
    "            'primary_cleaner.output.concentrate_au',\n",
    "            'primary_cleaner.output.concentrate_ag',\n",
    "            'primary_cleaner.output.concentrate_pb',\n",
    "            'primary_cleaner.output.concentrate_sol',\n",
    "            'final.output.concentrate_au',\n",
    "            'final.output.concentrate_ag',\n",
    "            'final.output.concentrate_pb',\n",
    "            'final.output.concentrate_sol']\n",
    "\n",
    "for value in list_hist:\n",
    "    display(value)\n",
    "    display(df3[value].hist(bins=50))\n",
    "    plt.show()"
   ]
  },
  {
   "cell_type": "markdown",
   "metadata": {},
   "source": [
    "Концентрация всех металлов на разных стадия находится в диапозоне от 58 до 70%. В ряде данных наблюдаются выбросы в районе 0, которые необходимо обработать. Это или пустая порода, или сбои данных, надо найти время в которое это произошло и разобраться с бизнесом."
   ]
  },
  {
   "cell_type": "code",
   "execution_count": 20,
   "metadata": {},
   "outputs": [],
   "source": [
    "#Удалим все данные, которые <1\n",
    "\n",
    "for _df in df_list.items():\n",
    "    for value in list_hist:\n",
    "        df = _df[1].get('df')\n",
    "        try:\n",
    "            df.drop(df[df[value]<=1].index,inplace=True)\n",
    "        except:\n",
    "            continue"
   ]
  },
  {
   "cell_type": "markdown",
   "metadata": {},
   "source": [
    "## Модель"
   ]
  },
  {
   "cell_type": "markdown",
   "metadata": {},
   "source": [
    "### sMAPE"
   ]
  },
  {
   "cell_type": "code",
   "execution_count": 21,
   "metadata": {},
   "outputs": [],
   "source": [
    "def smape(predict, target):\n",
    "    return 1/len(target) * np.sum(np.abs(target-predict) / ((np.abs(predict) + np.abs(target))/2)*100)"
   ]
  },
  {
   "cell_type": "markdown",
   "metadata": {},
   "source": [
    "### Разделение и масштабирование данных"
   ]
  },
  {
   "cell_type": "code",
   "execution_count": 22,
   "metadata": {},
   "outputs": [],
   "source": [
    "#колонки флотации без концентрации\n",
    "rougher_columns = ['rougher.calculation.sulfate_to_au_concentrate',\n",
    "       'rougher.calculation.floatbank10_sulfate_to_au_feed',\n",
    "       'rougher.calculation.floatbank11_sulfate_to_au_feed',\n",
    "       'rougher.calculation.au_pb_ratio', 'rougher.input.feed_ag',\n",
    "       'rougher.input.feed_pb', 'rougher.input.feed_rate',\n",
    "       'rougher.input.feed_size', 'rougher.input.feed_sol',\n",
    "       'rougher.input.feed_au', 'rougher.input.floatbank10_sulfate',\n",
    "       'rougher.input.floatbank10_xanthate',\n",
    "       'rougher.input.floatbank11_sulfate',\n",
    "       'rougher.input.floatbank11_xanthate', 'rougher.output.concentrate_ag',\n",
    "       'rougher.output.concentrate_pb', 'rougher.output.concentrate_sol',\n",
    "       'rougher.output.concentrate_au', \n",
    "       'rougher.output.tail_ag', 'rougher.output.tail_pb',\n",
    "       'rougher.output.tail_sol', 'rougher.output.tail_au',\n",
    "       'rougher.state.floatbank10_a_air', 'rougher.state.floatbank10_a_level',\n",
    "       'rougher.state.floatbank10_b_air', 'rougher.state.floatbank10_b_level',\n",
    "       'rougher.state.floatbank10_c_air', 'rougher.state.floatbank10_c_level',\n",
    "       'rougher.state.floatbank10_d_air', 'rougher.state.floatbank10_d_level',\n",
    "       'rougher.state.floatbank10_e_air', 'rougher.state.floatbank10_e_level',\n",
    "       'rougher.state.floatbank10_f_air', 'rougher.state.floatbank10_f_level']\n",
    "\n",
    "#все колонки без концентрации на этапе флотации и первичной оценки\n",
    "final_columns = list(df_dict['full'].get('df').columns)\n",
    "final_columns.remove('date')\n",
    "final_columns.remove('rougher.output.recovery')\n",
    "final_columns.remove('primary_cleaner.output.concentrate_au')\n",
    "\n",
    "#удалим данные, которых нет в исходном процессе\n",
    "def remove_column(column_list):\n",
    "    for value in drop_columns_list:\n",
    "        try:\n",
    "            column_list.remove(value) \n",
    "        except:\n",
    "            continue\n",
    "      \n",
    "    \n",
    "remove_column(rougher_columns)\n",
    "remove_column(final_columns)"
   ]
  },
  {
   "cell_type": "code",
   "execution_count": 23,
   "metadata": {},
   "outputs": [],
   "source": [
    "df = df_dict['full'].get('df')\n",
    "\n",
    "df_dict = {'rougher':{'features':df[rougher_columns],'target':df['rougher.output.recovery'],'columns':rougher_columns},\n",
    "           'final':{'features':df[final_columns],'target':df['final.output.recovery'],'columns':final_columns}}"
   ]
  },
  {
   "cell_type": "code",
   "execution_count": 24,
   "metadata": {},
   "outputs": [
    {
     "name": "stdout",
     "output_type": "stream",
     "text": [
      "rougher\n",
      "(11616, 22)\n",
      "(3873, 22)\n",
      "final\n",
      "(11616, 52)\n",
      "(3873, 52)\n"
     ]
    }
   ],
   "source": [
    "#разделим 75:25\n",
    "for step in df_dict.items():\n",
    "    (step[1]['features_train'], step[1]['features_valid'], \n",
    "    step[1]['target_train'], step[1]['target_valid']) = train_test_split(step[1].get('features'),\n",
    "                                                                         step[1].get('target'),\n",
    "                                                                         test_size=0.25,\n",
    "                                                                         random_state=12345)\n",
    "\n",
    "    print(step[0])\n",
    "    print(step[1]['features_train'].shape)\n",
    "    print(step[1]['features_valid'].shape)"
   ]
  },
  {
   "cell_type": "code",
   "execution_count": 25,
   "metadata": {},
   "outputs": [],
   "source": [
    "for step in df_dict.items():\n",
    "    scaler = StandardScaler()\n",
    "    scaler.fit(step[1]['features_train'][step[1].get('columns')]) \n",
    "    step[1]['features_train'] = scaler.transform(step[1]['features_train'][step[1].get('columns')])\n",
    "    step[1]['features_valid'] = scaler.transform(step[1]['features_valid'][step[1].get('columns')])\n",
    "    step[1]['scaler'] = scaler"
   ]
  },
  {
   "cell_type": "markdown",
   "metadata": {},
   "source": [
    "### Обучение модели"
   ]
  },
  {
   "cell_type": "code",
   "execution_count": 26,
   "metadata": {},
   "outputs": [],
   "source": [
    "data = []"
   ]
  },
  {
   "cell_type": "code",
   "execution_count": 27,
   "metadata": {},
   "outputs": [],
   "source": [
    "def learn_model(model, rf_grid, model_name, data):\n",
    "    score = make_scorer(smape, greater_is_better=False)\n",
    "    \n",
    "    for step in df_dict.items():\n",
    "        step[1]['model'] = GridSearchCV(model, rf_grid, \n",
    "                         scoring = score, cv=2, verbose=1)\n",
    "        step[1].get('model').fit(step[1]['features_train'], step[1]['target_train'])\n",
    "        \n",
    "        data.append([model_name,\n",
    "                 step[1]['model'].best_score_,\n",
    "                 step[1]['model'].best_params_])"
   ]
  },
  {
   "cell_type": "markdown",
   "metadata": {},
   "source": [
    "#### Случайное дерево"
   ]
  },
  {
   "cell_type": "code",
   "execution_count": 28,
   "metadata": {
    "scrolled": true
   },
   "outputs": [
    {
     "name": "stdout",
     "output_type": "stream",
     "text": [
      "Fitting 2 folds for each of 1 candidates, totalling 2 fits\n",
      "Fitting 2 folds for each of 1 candidates, totalling 2 fits\n",
      "CPU times: user 2min 4s, sys: 495 ms, total: 2min 5s\n",
      "Wall time: 2min 5s\n"
     ]
    }
   ],
   "source": [
    "%%time\n",
    "\n",
    "#Wall time: 1h 47min 52s\n",
    "#rf_grid ={'criterion': ['mse', 'mae'],\n",
    "#         'max_depth': [int(x) for x in np.linspace(10, 50, num = 5)],\n",
    "#         'random_state':[12345]}\n",
    "\n",
    "#Wall time: 1min 58s\n",
    "rf_grid ={'criterion': ['mse'], 'max_depth': [20], 'random_state': [12345]}\n",
    "\n",
    "learn_model(RandomForestRegressor(), rf_grid, 'RandomForestRegressor', data)"
   ]
  },
  {
   "cell_type": "markdown",
   "metadata": {},
   "source": [
    "#### Линейная регрессия"
   ]
  },
  {
   "cell_type": "code",
   "execution_count": 29,
   "metadata": {
    "scrolled": true
   },
   "outputs": [
    {
     "name": "stdout",
     "output_type": "stream",
     "text": [
      "Fitting 2 folds for each of 1 candidates, totalling 2 fits\n",
      "Fitting 2 folds for each of 1 candidates, totalling 2 fits\n",
      "CPU times: user 218 ms, sys: 366 ms, total: 584 ms\n",
      "Wall time: 588 ms\n"
     ]
    }
   ],
   "source": [
    "%%time\n",
    "#Wall time: 5.78 s\n",
    "#rf_grid ={'fit_intercept': [True, False],\n",
    "#         'normalize': [True, False],\n",
    "#         'positive': [True, False]}\n",
    "\n",
    "#Wall time: 1s\n",
    "rf_grid ={'fit_intercept': [True], 'normalize': [False], 'positive': [True]}\n",
    "\n",
    "learn_model(LinearRegression(), rf_grid, 'LinearRegression', data)"
   ]
  },
  {
   "cell_type": "markdown",
   "metadata": {},
   "source": [
    "#### Дерево решений"
   ]
  },
  {
   "cell_type": "code",
   "execution_count": 30,
   "metadata": {},
   "outputs": [
    {
     "name": "stdout",
     "output_type": "stream",
     "text": [
      "Fitting 2 folds for each of 1 candidates, totalling 2 fits\n",
      "Fitting 2 folds for each of 1 candidates, totalling 2 fits\n",
      "CPU times: user 1min 15s, sys: 362 ms, total: 1min 16s\n",
      "Wall time: 1min 16s\n"
     ]
    }
   ],
   "source": [
    "%%time\n",
    "\n",
    "#Wall time: 59min 4s\n",
    "# rf_grid ={'criterion': ['mse', 'friedman_mse', 'mae', 'poisson'],\n",
    "#          'splitter': ['best', 'random'],\n",
    "#          'max_depth': [int(x) for x in np.linspace(10, 200, num = 10)],\n",
    "#          'max_leaf_nodes': [int(x) for x in np.linspace(4, 50, num = 10)],\n",
    "#          'random_state':[12345]}\n",
    "\n",
    "#Wall time: 1min 24s\n",
    "rf_grid ={'criterion': ['mae'],\n",
    "           'max_depth': [10],\n",
    "           'max_leaf_nodes': [50],\n",
    "           'random_state': [12345],\n",
    "           'splitter': ['best']}\n",
    "\n",
    "learn_model(DecisionTreeRegressor(), rf_grid, 'DecisionTreeRegressor', data)"
   ]
  },
  {
   "cell_type": "markdown",
   "metadata": {},
   "source": [
    "#### Простейшая модель"
   ]
  },
  {
   "cell_type": "code",
   "execution_count": 31,
   "metadata": {},
   "outputs": [
    {
     "name": "stdout",
     "output_type": "stream",
     "text": [
      "Fitting 2 folds for each of 4 candidates, totalling 8 fits\n",
      "Fitting 2 folds for each of 4 candidates, totalling 8 fits\n",
      "CPU times: user 54.5 ms, sys: 0 ns, total: 54.5 ms\n",
      "Wall time: 63 ms\n"
     ]
    }
   ],
   "source": [
    "%%time\n",
    "\n",
    "#Wall time: 53.4 ms\n",
    "rf_grid ={'strategy':['mean','median','quantile','constant']}\n",
    "\n",
    "learn_model(DummyRegressor(), rf_grid, 'DummyRegressor', data)"
   ]
  },
  {
   "cell_type": "markdown",
   "metadata": {},
   "source": [
    "#### Выводы"
   ]
  },
  {
   "cell_type": "code",
   "execution_count": 32,
   "metadata": {},
   "outputs": [
    {
     "data": {
      "text/html": [
       "<div>\n",
       "<style scoped>\n",
       "    .dataframe tbody tr th:only-of-type {\n",
       "        vertical-align: middle;\n",
       "    }\n",
       "\n",
       "    .dataframe tbody tr th {\n",
       "        vertical-align: top;\n",
       "    }\n",
       "\n",
       "    .dataframe thead th {\n",
       "        text-align: right;\n",
       "    }\n",
       "</style>\n",
       "<table border=\"1\" class=\"dataframe\">\n",
       "  <thead>\n",
       "    <tr style=\"text-align: right;\">\n",
       "      <th></th>\n",
       "      <th>Model</th>\n",
       "      <th>Result</th>\n",
       "      <th>Best params</th>\n",
       "    </tr>\n",
       "  </thead>\n",
       "  <tbody>\n",
       "    <tr>\n",
       "      <th>0</th>\n",
       "      <td>RandomForestRegressor</td>\n",
       "      <td>-2.664946</td>\n",
       "      <td>{'criterion': 'mse', 'max_depth': 20, 'random_...</td>\n",
       "    </tr>\n",
       "    <tr>\n",
       "      <th>4</th>\n",
       "      <td>DecisionTreeRegressor</td>\n",
       "      <td>-3.685295</td>\n",
       "      <td>{'criterion': 'mae', 'max_depth': 10, 'max_lea...</td>\n",
       "    </tr>\n",
       "    <tr>\n",
       "      <th>2</th>\n",
       "      <td>LinearRegression</td>\n",
       "      <td>-4.594657</td>\n",
       "      <td>{'fit_intercept': True, 'normalize': False, 'p...</td>\n",
       "    </tr>\n",
       "    <tr>\n",
       "      <th>1</th>\n",
       "      <td>RandomForestRegressor</td>\n",
       "      <td>-5.283574</td>\n",
       "      <td>{'criterion': 'mse', 'max_depth': 20, 'random_...</td>\n",
       "    </tr>\n",
       "    <tr>\n",
       "      <th>6</th>\n",
       "      <td>DummyRegressor</td>\n",
       "      <td>-6.057274</td>\n",
       "      <td>{'strategy': 'median'}</td>\n",
       "    </tr>\n",
       "    <tr>\n",
       "      <th>5</th>\n",
       "      <td>DecisionTreeRegressor</td>\n",
       "      <td>-6.358841</td>\n",
       "      <td>{'criterion': 'mae', 'max_depth': 10, 'max_lea...</td>\n",
       "    </tr>\n",
       "    <tr>\n",
       "      <th>3</th>\n",
       "      <td>LinearRegression</td>\n",
       "      <td>-7.052926</td>\n",
       "      <td>{'fit_intercept': True, 'normalize': False, 'p...</td>\n",
       "    </tr>\n",
       "    <tr>\n",
       "      <th>7</th>\n",
       "      <td>DummyRegressor</td>\n",
       "      <td>-8.434509</td>\n",
       "      <td>{'strategy': 'median'}</td>\n",
       "    </tr>\n",
       "  </tbody>\n",
       "</table>\n",
       "</div>"
      ],
      "text/plain": [
       "                   Model    Result  \\\n",
       "0  RandomForestRegressor -2.664946   \n",
       "4  DecisionTreeRegressor -3.685295   \n",
       "2       LinearRegression -4.594657   \n",
       "1  RandomForestRegressor -5.283574   \n",
       "6         DummyRegressor -6.057274   \n",
       "5  DecisionTreeRegressor -6.358841   \n",
       "3       LinearRegression -7.052926   \n",
       "7         DummyRegressor -8.434509   \n",
       "\n",
       "                                         Best params  \n",
       "0  {'criterion': 'mse', 'max_depth': 20, 'random_...  \n",
       "4  {'criterion': 'mae', 'max_depth': 10, 'max_lea...  \n",
       "2  {'fit_intercept': True, 'normalize': False, 'p...  \n",
       "1  {'criterion': 'mse', 'max_depth': 20, 'random_...  \n",
       "6                             {'strategy': 'median'}  \n",
       "5  {'criterion': 'mae', 'max_depth': 10, 'max_lea...  \n",
       "3  {'fit_intercept': True, 'normalize': False, 'p...  \n",
       "7                             {'strategy': 'median'}  "
      ]
     },
     "metadata": {},
     "output_type": "display_data"
    }
   ],
   "source": [
    "df = pd.DataFrame(data, columns=['Model','Result','Best params']).sort_values('Result', ascending=False)\n",
    "display(df)"
   ]
  },
  {
   "cell_type": "markdown",
   "metadata": {},
   "source": [
    "### Проверка на тестовой выборке"
   ]
  },
  {
   "cell_type": "code",
   "execution_count": 33,
   "metadata": {},
   "outputs": [],
   "source": [
    "#Добавим в тестовую модель ответы\n",
    "df2 = df2.merge(df3[['date','rougher.output.recovery','final.output.recovery']], on='date')"
   ]
  },
  {
   "cell_type": "markdown",
   "metadata": {},
   "source": [
    "#### Проверка на лучшей"
   ]
  },
  {
   "cell_type": "code",
   "execution_count": 34,
   "metadata": {
    "scrolled": true
   },
   "outputs": [
    {
     "name": "stdout",
     "output_type": "stream",
     "text": [
      "Fitting 2 folds for each of 1 candidates, totalling 2 fits\n",
      "Fitting 2 folds for each of 1 candidates, totalling 2 fits\n",
      "final sMAPE: 2.7661926178980885\n",
      "CPU times: user 2min 6s, sys: 453 ms, total: 2min 6s\n",
      "Wall time: 2min 6s\n"
     ]
    }
   ],
   "source": [
    "%%time\n",
    "for step in df_dict.items():\n",
    "    #заново обучим модель\n",
    "    score = make_scorer(smape, greater_is_better=False)\n",
    "    step[1]['model'] = GridSearchCV(RandomForestRegressor(), {'criterion': ['mse'], 'max_depth': [20], \n",
    "                                                              'random_state': [12345]}, \n",
    "                         scoring = score, cv=2, verbose=1)\n",
    "    step[1].get('model').fit(step[1]['features_train'], step[1]['target_train'])\n",
    "    #масштабируем тестовую выборку\n",
    "    df_for_predict = df2[step[1].get('columns')]\n",
    "    df_for_predict = step[1].get('scaler').transform(df_for_predict)  \n",
    "    #сделаем предсказания по тестовой моделе\n",
    "    step[1]['predict'] = step[1].get('model').predict(df_for_predict)\n",
    "    #дополним словарь овтетами из тестового набора для дальнейшего расчета smape\n",
    "    if step[0] == 'rougher':\n",
    "        step[1]['target_test'] = df2['rougher.output.recovery']\n",
    "    else:\n",
    "        step[1]['target_test'] = df2['final.output.recovery']\n",
    "        \n",
    "print('final sMAPE:',.25*smape(df_dict['rougher'].get('predict'),df_dict['rougher'].get('target_test')) + \n",
    "            .75*smape(df_dict['final'].get('predict'),df_dict['final'].get('target_test')))"
   ]
  },
  {
   "cell_type": "markdown",
   "metadata": {},
   "source": [
    "#### Проверка на константной"
   ]
  },
  {
   "cell_type": "code",
   "execution_count": 35,
   "metadata": {},
   "outputs": [
    {
     "name": "stdout",
     "output_type": "stream",
     "text": [
      "Fitting 2 folds for each of 1 candidates, totalling 2 fits\n",
      "Fitting 2 folds for each of 1 candidates, totalling 2 fits\n",
      "final sMAPE: 6.620178683915559\n",
      "CPU times: user 33.4 ms, sys: 15 µs, total: 33.4 ms\n",
      "Wall time: 31.5 ms\n"
     ]
    }
   ],
   "source": [
    "%%time\n",
    "for step in df_dict.items():\n",
    "    #заново обучим модель на сформированных данных\n",
    "    score = make_scorer(smape, greater_is_better=False)\n",
    "    step[1]['model'] = GridSearchCV(DummyRegressor(), {'strategy': ['median']}, \n",
    "                         scoring = score, cv=2, verbose=1)\n",
    "    step[1].get('model').fit(step[1]['features_train'], step[1]['target_train'])\n",
    "    #масштабируем тестовую выборку\n",
    "    df_for_predict = df2[step[1].get('columns')]\n",
    "    df_for_predict = step[1].get('scaler').transform(df_for_predict)  \n",
    "    #сделаем предсказания по тестовой моделе\n",
    "    step[1]['predict'] = step[1].get('model').predict(df_for_predict)\n",
    "    #дополним словарь овтетами из тестового набора для дальнейшего расчета smape\n",
    "    if step[0] == 'rougher':\n",
    "        step[1]['target_test'] = df2['rougher.output.recovery']\n",
    "    else:\n",
    "        step[1]['target_test'] = df2['final.output.recovery']\n",
    "        \n",
    "print('final sMAPE:',.25*smape(df_dict['rougher'].get('predict'),df_dict['rougher'].get('target_test')) + \n",
    "            .75*smape(df_dict['final'].get('predict'),df_dict['final'].get('target_test')))"
   ]
  },
  {
   "cell_type": "markdown",
   "metadata": {},
   "source": [
    "## Выводы"
   ]
  },
  {
   "cell_type": "markdown",
   "metadata": {},
   "source": [
    "При анализе исходных данных были проверены наборы, в тестовом наборе данных не хватает части колонок. В исходных наборах данных были пропуски по значениям и 0 занчения в исследуемых областях, строки с пропусками и 0 были удалены были удалены.\n",
    "\n",
    "В ходе анализа данных были получены следующие данные:\n",
    "- Концентрация золота растет по мере фрохождения по технологическому процесу.\n",
    "- Распределение по гранулам не равномерное, но критичных различий не видно. Принято допущение, что эти выборки можно использовать.\n",
    "\n",
    "Сравнение с простейшей моделью показывает эффективность в 2 раза в части точности предсказаний.\n",
    "Наилучшей моделью оказалась модель случайного леса с результатом sMAPE 2.76, константная модель показала результат в 6.62"
   ]
  }
 ],
 "metadata": {
  "ExecuteTimeLog": [
   {
    "duration": 1317,
    "start_time": "2022-08-09T12:40:26.564Z"
   },
   {
    "duration": 9,
    "start_time": "2022-08-09T12:40:28.224Z"
   },
   {
    "duration": 16572,
    "start_time": "2022-08-09T12:40:44.229Z"
   },
   {
    "duration": 3861,
    "start_time": "2022-08-09T12:41:01.928Z"
   },
   {
    "duration": 0,
    "start_time": "2022-08-09T12:41:05.790Z"
   },
   {
    "duration": 638,
    "start_time": "2022-08-09T12:41:21.294Z"
   },
   {
    "duration": 3673,
    "start_time": "2022-08-09T12:42:23.471Z"
   },
   {
    "duration": 2399,
    "start_time": "2022-08-09T12:42:27.146Z"
   },
   {
    "duration": 2418,
    "start_time": "2022-08-09T12:47:28.718Z"
   },
   {
    "duration": 687,
    "start_time": "2022-08-09T12:47:31.138Z"
   },
   {
    "duration": 607,
    "start_time": "2022-08-09T12:48:13.372Z"
   },
   {
    "duration": 658,
    "start_time": "2022-08-09T12:51:23.573Z"
   },
   {
    "duration": 2466,
    "start_time": "2022-08-09T12:51:54.679Z"
   },
   {
    "duration": 163,
    "start_time": "2022-08-09T12:51:57.147Z"
   },
   {
    "duration": 2358,
    "start_time": "2022-08-09T12:52:05.946Z"
   },
   {
    "duration": 2413,
    "start_time": "2022-08-09T12:52:43.275Z"
   },
   {
    "duration": 4348,
    "start_time": "2022-08-09T14:05:56.335Z"
   },
   {
    "duration": 959,
    "start_time": "2022-08-09T14:06:00.685Z"
   },
   {
    "duration": 920,
    "start_time": "2022-08-09T14:18:47.235Z"
   },
   {
    "duration": 880,
    "start_time": "2022-08-09T16:26:50.758Z"
   },
   {
    "duration": 966,
    "start_time": "2022-08-09T16:28:31.223Z"
   },
   {
    "duration": 2467,
    "start_time": "2022-08-09T16:42:20.779Z"
   },
   {
    "duration": 742,
    "start_time": "2022-08-09T16:56:51.048Z"
   },
   {
    "duration": 33,
    "start_time": "2022-08-09T16:58:38.662Z"
   },
   {
    "duration": 75,
    "start_time": "2022-08-09T16:59:36.793Z"
   },
   {
    "duration": 12,
    "start_time": "2022-08-09T16:59:41.489Z"
   },
   {
    "duration": 11,
    "start_time": "2022-08-09T16:59:51.487Z"
   },
   {
    "duration": 18,
    "start_time": "2022-08-09T17:00:50.555Z"
   },
   {
    "duration": 32,
    "start_time": "2022-08-09T17:00:58.044Z"
   },
   {
    "duration": 25,
    "start_time": "2022-08-09T17:01:09.172Z"
   },
   {
    "duration": 14,
    "start_time": "2022-08-09T17:05:19.358Z"
   },
   {
    "duration": 30,
    "start_time": "2022-08-09T17:12:33.786Z"
   },
   {
    "duration": 33,
    "start_time": "2022-08-09T17:13:08.831Z"
   },
   {
    "duration": 954,
    "start_time": "2022-08-09T17:15:39.344Z"
   },
   {
    "duration": 16,
    "start_time": "2022-08-09T17:15:50.989Z"
   },
   {
    "duration": 17,
    "start_time": "2022-08-09T17:18:14.309Z"
   },
   {
    "duration": 1690,
    "start_time": "2022-08-09T17:19:50.646Z"
   },
   {
    "duration": 13,
    "start_time": "2022-08-09T17:20:20.233Z"
   },
   {
    "duration": 19,
    "start_time": "2022-08-09T17:20:28.784Z"
   },
   {
    "duration": 24,
    "start_time": "2022-08-09T17:21:06.226Z"
   },
   {
    "duration": 26,
    "start_time": "2022-08-09T17:21:51.648Z"
   },
   {
    "duration": 39,
    "start_time": "2022-08-09T17:24:02.802Z"
   },
   {
    "duration": 30,
    "start_time": "2022-08-09T17:24:16.403Z"
   },
   {
    "duration": 29,
    "start_time": "2022-08-09T17:24:36.303Z"
   },
   {
    "duration": 33,
    "start_time": "2022-08-09T17:24:51.330Z"
   },
   {
    "duration": 33,
    "start_time": "2022-08-09T17:26:50.805Z"
   },
   {
    "duration": 41,
    "start_time": "2022-08-09T17:27:12.387Z"
   },
   {
    "duration": 36,
    "start_time": "2022-08-09T17:32:32.858Z"
   },
   {
    "duration": 429,
    "start_time": "2022-08-09T17:33:48.597Z"
   },
   {
    "duration": 92,
    "start_time": "2022-08-09T17:34:03.548Z"
   },
   {
    "duration": 37,
    "start_time": "2022-08-09T17:34:06.389Z"
   },
   {
    "duration": 509,
    "start_time": "2022-08-09T17:34:18.526Z"
   },
   {
    "duration": 26,
    "start_time": "2022-08-09T17:34:27.163Z"
   },
   {
    "duration": 37,
    "start_time": "2022-08-09T17:34:33.806Z"
   },
   {
    "duration": 399,
    "start_time": "2022-08-09T17:35:09.402Z"
   },
   {
    "duration": 39,
    "start_time": "2022-08-09T17:35:33.185Z"
   },
   {
    "duration": 941,
    "start_time": "2022-08-09T17:35:44.225Z"
   },
   {
    "duration": 800,
    "start_time": "2022-08-09T17:35:51.997Z"
   },
   {
    "duration": 416,
    "start_time": "2022-08-09T17:36:06.834Z"
   },
   {
    "duration": 25,
    "start_time": "2022-08-09T17:36:16.012Z"
   },
   {
    "duration": 22,
    "start_time": "2022-08-09T17:36:52.307Z"
   },
   {
    "duration": 17,
    "start_time": "2022-08-09T17:52:17.324Z"
   },
   {
    "duration": 12,
    "start_time": "2022-08-09T17:54:49.312Z"
   },
   {
    "duration": 3740,
    "start_time": "2022-08-09T17:55:08.825Z"
   },
   {
    "duration": 1263,
    "start_time": "2022-08-09T17:55:12.570Z"
   },
   {
    "duration": 77,
    "start_time": "2022-08-09T17:55:13.835Z"
   },
   {
    "duration": 23,
    "start_time": "2022-08-09T17:55:13.915Z"
   },
   {
    "duration": 5,
    "start_time": "2022-08-09T17:55:13.940Z"
   },
   {
    "duration": 7,
    "start_time": "2022-08-09T18:04:23.302Z"
   },
   {
    "duration": 4,
    "start_time": "2022-08-09T18:04:50.605Z"
   },
   {
    "duration": 4,
    "start_time": "2022-08-09T18:04:57.025Z"
   },
   {
    "duration": 5,
    "start_time": "2022-08-09T18:05:01.875Z"
   },
   {
    "duration": 5,
    "start_time": "2022-08-09T18:06:12.379Z"
   },
   {
    "duration": 5,
    "start_time": "2022-08-09T18:07:00.304Z"
   },
   {
    "duration": 5,
    "start_time": "2022-08-09T18:07:11.734Z"
   },
   {
    "duration": 6,
    "start_time": "2022-08-09T18:07:28.216Z"
   },
   {
    "duration": 6,
    "start_time": "2022-08-09T18:07:50.661Z"
   },
   {
    "duration": 16,
    "start_time": "2022-08-09T18:08:18.595Z"
   },
   {
    "duration": 600,
    "start_time": "2022-08-09T18:09:02.190Z"
   },
   {
    "duration": 476,
    "start_time": "2022-08-09T18:09:14.775Z"
   },
   {
    "duration": 43,
    "start_time": "2022-08-09T18:11:06.130Z"
   },
   {
    "duration": 16,
    "start_time": "2022-08-09T18:11:39.659Z"
   },
   {
    "duration": 19,
    "start_time": "2022-08-09T18:11:51.201Z"
   },
   {
    "duration": 16,
    "start_time": "2022-08-09T18:11:59.948Z"
   },
   {
    "duration": 80,
    "start_time": "2022-08-09T18:12:37.093Z"
   },
   {
    "duration": 31,
    "start_time": "2022-08-09T18:12:41.169Z"
   },
   {
    "duration": 24,
    "start_time": "2022-08-09T18:12:45.426Z"
   },
   {
    "duration": 17,
    "start_time": "2022-08-09T18:13:34.408Z"
   },
   {
    "duration": 14,
    "start_time": "2022-08-09T18:13:40.715Z"
   },
   {
    "duration": 13,
    "start_time": "2022-08-09T18:14:01.505Z"
   },
   {
    "duration": 21,
    "start_time": "2022-08-09T18:14:45.706Z"
   },
   {
    "duration": 15,
    "start_time": "2022-08-09T18:15:40.625Z"
   },
   {
    "duration": 15,
    "start_time": "2022-08-09T18:15:49.221Z"
   },
   {
    "duration": 17,
    "start_time": "2022-08-09T18:16:39.834Z"
   },
   {
    "duration": 16,
    "start_time": "2022-08-09T18:16:46.197Z"
   },
   {
    "duration": 9,
    "start_time": "2022-08-09T18:16:59.449Z"
   },
   {
    "duration": 12,
    "start_time": "2022-08-09T18:18:44.394Z"
   },
   {
    "duration": 14,
    "start_time": "2022-08-09T18:18:59.618Z"
   },
   {
    "duration": 13,
    "start_time": "2022-08-09T18:19:08.981Z"
   },
   {
    "duration": 13,
    "start_time": "2022-08-09T18:19:15.037Z"
   },
   {
    "duration": 18,
    "start_time": "2022-08-09T18:19:20.642Z"
   },
   {
    "duration": 17,
    "start_time": "2022-08-09T18:19:27.671Z"
   },
   {
    "duration": 14,
    "start_time": "2022-08-09T18:20:05.828Z"
   },
   {
    "duration": 9,
    "start_time": "2022-08-09T18:20:21.231Z"
   },
   {
    "duration": 6,
    "start_time": "2022-08-09T18:20:31.705Z"
   },
   {
    "duration": 3,
    "start_time": "2022-08-09T18:32:25.096Z"
   },
   {
    "duration": 6,
    "start_time": "2022-08-09T18:33:45.800Z"
   },
   {
    "duration": 19,
    "start_time": "2022-08-09T18:34:07.437Z"
   },
   {
    "duration": 8,
    "start_time": "2022-08-09T18:34:23.393Z"
   },
   {
    "duration": 8,
    "start_time": "2022-08-09T18:34:45.620Z"
   },
   {
    "duration": 11,
    "start_time": "2022-08-09T18:34:55.556Z"
   },
   {
    "duration": 8,
    "start_time": "2022-08-09T18:35:01.356Z"
   },
   {
    "duration": 4,
    "start_time": "2022-08-09T18:35:15.123Z"
   },
   {
    "duration": 3,
    "start_time": "2022-08-09T18:35:24.129Z"
   },
   {
    "duration": 8,
    "start_time": "2022-08-09T18:35:35.978Z"
   },
   {
    "duration": 11,
    "start_time": "2022-08-09T18:35:55.427Z"
   },
   {
    "duration": 8,
    "start_time": "2022-08-09T18:36:06.797Z"
   },
   {
    "duration": 9,
    "start_time": "2022-08-09T18:37:40.667Z"
   },
   {
    "duration": 4,
    "start_time": "2022-08-09T18:37:45.734Z"
   },
   {
    "duration": 9,
    "start_time": "2022-08-09T18:38:41.196Z"
   },
   {
    "duration": 9,
    "start_time": "2022-08-09T18:38:47.951Z"
   },
   {
    "duration": 5,
    "start_time": "2022-08-09T18:39:44.035Z"
   },
   {
    "duration": 4,
    "start_time": "2022-08-09T18:40:01.345Z"
   },
   {
    "duration": 4,
    "start_time": "2022-08-09T18:45:58.218Z"
   },
   {
    "duration": 2,
    "start_time": "2022-08-09T18:48:59.558Z"
   },
   {
    "duration": 25,
    "start_time": "2022-08-11T17:49:31.286Z"
   },
   {
    "duration": 2026,
    "start_time": "2022-08-11T17:49:37.635Z"
   },
   {
    "duration": 905,
    "start_time": "2022-08-11T17:49:39.663Z"
   },
   {
    "duration": 60,
    "start_time": "2022-08-11T17:49:40.570Z"
   },
   {
    "duration": 13,
    "start_time": "2022-08-11T17:49:40.632Z"
   },
   {
    "duration": 5,
    "start_time": "2022-08-11T17:49:40.647Z"
   },
   {
    "duration": 5,
    "start_time": "2022-08-11T17:49:40.653Z"
   },
   {
    "duration": 233,
    "start_time": "2022-08-11T17:49:40.711Z"
   },
   {
    "duration": 0,
    "start_time": "2022-08-11T17:49:40.946Z"
   },
   {
    "duration": 33,
    "start_time": "2022-08-11T17:49:54.871Z"
   },
   {
    "duration": 44,
    "start_time": "2022-08-11T17:50:02.134Z"
   },
   {
    "duration": 2194,
    "start_time": "2022-08-11T17:50:23.719Z"
   },
   {
    "duration": 1799,
    "start_time": "2022-08-11T17:50:25.915Z"
   },
   {
    "duration": 101,
    "start_time": "2022-08-11T17:50:27.715Z"
   },
   {
    "duration": 13,
    "start_time": "2022-08-11T17:50:27.818Z"
   },
   {
    "duration": 5,
    "start_time": "2022-08-11T17:50:27.832Z"
   },
   {
    "duration": 16,
    "start_time": "2022-08-11T17:50:27.838Z"
   },
   {
    "duration": 78,
    "start_time": "2022-08-11T17:50:27.855Z"
   },
   {
    "duration": 4,
    "start_time": "2022-08-11T17:50:27.935Z"
   },
   {
    "duration": 110,
    "start_time": "2022-08-11T17:51:32.016Z"
   },
   {
    "duration": 2236,
    "start_time": "2022-08-11T17:51:38.198Z"
   },
   {
    "duration": 1463,
    "start_time": "2022-08-11T17:51:40.435Z"
   },
   {
    "duration": 51,
    "start_time": "2022-08-11T17:51:41.911Z"
   },
   {
    "duration": 14,
    "start_time": "2022-08-11T17:51:41.963Z"
   },
   {
    "duration": 5,
    "start_time": "2022-08-11T17:51:41.979Z"
   },
   {
    "duration": 29,
    "start_time": "2022-08-11T17:51:41.985Z"
   },
   {
    "duration": 120,
    "start_time": "2022-08-11T17:51:42.015Z"
   },
   {
    "duration": 0,
    "start_time": "2022-08-11T17:51:42.136Z"
   },
   {
    "duration": 27,
    "start_time": "2022-08-11T17:51:48.573Z"
   },
   {
    "duration": 22,
    "start_time": "2022-08-11T17:54:46.875Z"
   },
   {
    "duration": 2009,
    "start_time": "2022-08-11T17:55:19.818Z"
   },
   {
    "duration": 1755,
    "start_time": "2022-08-11T17:55:21.829Z"
   },
   {
    "duration": 59,
    "start_time": "2022-08-11T17:55:23.588Z"
   },
   {
    "duration": 13,
    "start_time": "2022-08-11T17:55:23.649Z"
   },
   {
    "duration": 4,
    "start_time": "2022-08-11T17:55:23.663Z"
   },
   {
    "duration": 5,
    "start_time": "2022-08-11T17:55:23.669Z"
   },
   {
    "duration": 143,
    "start_time": "2022-08-11T17:55:23.675Z"
   },
   {
    "duration": 0,
    "start_time": "2022-08-11T17:55:23.820Z"
   },
   {
    "duration": 9,
    "start_time": "2022-08-11T17:58:18.219Z"
   },
   {
    "duration": 1895,
    "start_time": "2022-08-11T17:58:28.556Z"
   },
   {
    "duration": 1559,
    "start_time": "2022-08-11T17:58:30.452Z"
   },
   {
    "duration": 100,
    "start_time": "2022-08-11T17:58:32.013Z"
   },
   {
    "duration": 14,
    "start_time": "2022-08-11T17:58:32.115Z"
   },
   {
    "duration": 5,
    "start_time": "2022-08-11T17:58:32.130Z"
   },
   {
    "duration": 7,
    "start_time": "2022-08-11T17:58:32.136Z"
   },
   {
    "duration": 268,
    "start_time": "2022-08-11T17:58:32.144Z"
   },
   {
    "duration": 0,
    "start_time": "2022-08-11T17:58:32.414Z"
   },
   {
    "duration": 21,
    "start_time": "2022-08-11T17:58:39.374Z"
   },
   {
    "duration": 14,
    "start_time": "2022-08-11T17:58:43.345Z"
   },
   {
    "duration": 12,
    "start_time": "2022-08-11T17:58:55.615Z"
   },
   {
    "duration": 1890,
    "start_time": "2022-08-11T17:59:16.764Z"
   },
   {
    "duration": 894,
    "start_time": "2022-08-11T17:59:18.656Z"
   },
   {
    "duration": 59,
    "start_time": "2022-08-11T17:59:19.552Z"
   },
   {
    "duration": 14,
    "start_time": "2022-08-11T17:59:19.613Z"
   },
   {
    "duration": 12,
    "start_time": "2022-08-11T17:59:19.629Z"
   },
   {
    "duration": 15,
    "start_time": "2022-08-11T17:59:19.642Z"
   },
   {
    "duration": 23,
    "start_time": "2022-08-11T17:59:19.658Z"
   },
   {
    "duration": 3,
    "start_time": "2022-08-11T17:59:19.682Z"
   },
   {
    "duration": 112,
    "start_time": "2022-08-11T18:04:29.740Z"
   },
   {
    "duration": 8,
    "start_time": "2022-08-11T18:04:51.814Z"
   },
   {
    "duration": 8,
    "start_time": "2022-08-11T18:05:14.056Z"
   },
   {
    "duration": 9,
    "start_time": "2022-08-11T18:05:26.892Z"
   },
   {
    "duration": 22,
    "start_time": "2022-08-11T18:05:40.552Z"
   },
   {
    "duration": 25,
    "start_time": "2022-08-11T18:05:49.487Z"
   },
   {
    "duration": 2165,
    "start_time": "2022-08-11T18:07:10.871Z"
   },
   {
    "duration": 1590,
    "start_time": "2022-08-11T18:07:13.038Z"
   },
   {
    "duration": 47,
    "start_time": "2022-08-11T18:07:14.630Z"
   },
   {
    "duration": 34,
    "start_time": "2022-08-11T18:07:14.678Z"
   },
   {
    "duration": 5,
    "start_time": "2022-08-11T18:07:14.713Z"
   },
   {
    "duration": 5,
    "start_time": "2022-08-11T18:07:14.719Z"
   },
   {
    "duration": 42,
    "start_time": "2022-08-11T18:07:14.726Z"
   },
   {
    "duration": 0,
    "start_time": "2022-08-11T18:07:14.770Z"
   },
   {
    "duration": 0,
    "start_time": "2022-08-11T18:07:14.771Z"
   },
   {
    "duration": 1946,
    "start_time": "2022-08-11T18:08:44.914Z"
   },
   {
    "duration": 1720,
    "start_time": "2022-08-11T18:08:46.910Z"
   },
   {
    "duration": 49,
    "start_time": "2022-08-11T18:08:48.632Z"
   },
   {
    "duration": 29,
    "start_time": "2022-08-11T18:08:48.682Z"
   },
   {
    "duration": 22,
    "start_time": "2022-08-11T18:08:48.713Z"
   },
   {
    "duration": 31,
    "start_time": "2022-08-11T18:08:48.737Z"
   },
   {
    "duration": 30,
    "start_time": "2022-08-11T18:08:48.770Z"
   },
   {
    "duration": 11,
    "start_time": "2022-08-11T18:08:48.801Z"
   },
   {
    "duration": 30,
    "start_time": "2022-08-11T18:08:48.813Z"
   },
   {
    "duration": 27,
    "start_time": "2022-08-11T18:09:24.634Z"
   },
   {
    "duration": 128,
    "start_time": "2022-08-11T18:24:11.342Z"
   },
   {
    "duration": 22,
    "start_time": "2022-08-11T18:27:16.954Z"
   },
   {
    "duration": 27,
    "start_time": "2022-08-11T18:27:50.135Z"
   },
   {
    "duration": 18,
    "start_time": "2022-08-11T18:29:32.622Z"
   },
   {
    "duration": 31,
    "start_time": "2022-08-11T18:30:47.414Z"
   },
   {
    "duration": 16,
    "start_time": "2022-08-11T18:31:42.015Z"
   },
   {
    "duration": 1998,
    "start_time": "2022-08-11T18:31:46.376Z"
   },
   {
    "duration": 925,
    "start_time": "2022-08-11T18:31:48.375Z"
   },
   {
    "duration": 52,
    "start_time": "2022-08-11T18:31:49.302Z"
   },
   {
    "duration": 13,
    "start_time": "2022-08-11T18:31:49.356Z"
   },
   {
    "duration": 5,
    "start_time": "2022-08-11T18:31:49.370Z"
   },
   {
    "duration": 6,
    "start_time": "2022-08-11T18:31:49.377Z"
   },
   {
    "duration": 43,
    "start_time": "2022-08-11T18:31:49.384Z"
   },
   {
    "duration": 4,
    "start_time": "2022-08-11T18:31:49.429Z"
   },
   {
    "duration": 18,
    "start_time": "2022-08-11T18:31:49.435Z"
   },
   {
    "duration": 58,
    "start_time": "2022-08-11T18:31:49.455Z"
   },
   {
    "duration": 32,
    "start_time": "2022-08-11T18:32:00.463Z"
   },
   {
    "duration": 125,
    "start_time": "2022-08-11T18:32:08.964Z"
   },
   {
    "duration": 767,
    "start_time": "2022-08-11T18:34:36.068Z"
   },
   {
    "duration": 821,
    "start_time": "2022-08-11T18:34:50.190Z"
   },
   {
    "duration": 16,
    "start_time": "2022-08-11T18:34:54.682Z"
   },
   {
    "duration": 734,
    "start_time": "2022-08-11T18:35:07.616Z"
   },
   {
    "duration": 859,
    "start_time": "2022-08-11T18:36:16.350Z"
   },
   {
    "duration": 16,
    "start_time": "2022-08-11T18:36:23.169Z"
   },
   {
    "duration": 16,
    "start_time": "2022-08-11T18:36:47.524Z"
   },
   {
    "duration": 16,
    "start_time": "2022-08-11T18:37:34.631Z"
   },
   {
    "duration": 748,
    "start_time": "2022-08-11T18:37:39.516Z"
   },
   {
    "duration": 915,
    "start_time": "2022-08-11T18:37:57.017Z"
   },
   {
    "duration": 788,
    "start_time": "2022-08-11T18:38:01.288Z"
   },
   {
    "duration": 754,
    "start_time": "2022-08-11T18:38:10.323Z"
   },
   {
    "duration": 30,
    "start_time": "2022-08-11T18:38:18.095Z"
   },
   {
    "duration": 29,
    "start_time": "2022-08-11T18:38:25.363Z"
   },
   {
    "duration": 15,
    "start_time": "2022-08-11T18:38:35.717Z"
   },
   {
    "duration": 27,
    "start_time": "2022-08-11T18:38:47.236Z"
   },
   {
    "duration": 26,
    "start_time": "2022-08-11T18:42:50.116Z"
   },
   {
    "duration": 30,
    "start_time": "2022-08-12T06:01:16.261Z"
   },
   {
    "duration": 9,
    "start_time": "2022-08-12T07:16:55.154Z"
   },
   {
    "duration": 12,
    "start_time": "2022-08-12T07:17:00.646Z"
   },
   {
    "duration": 9,
    "start_time": "2022-08-12T07:17:17.368Z"
   },
   {
    "duration": 12,
    "start_time": "2022-08-12T07:17:24.753Z"
   },
   {
    "duration": 486,
    "start_time": "2022-08-12T07:17:29.039Z"
   },
   {
    "duration": 10,
    "start_time": "2022-08-12T07:18:58.160Z"
   },
   {
    "duration": 37,
    "start_time": "2022-08-12T07:19:05.564Z"
   },
   {
    "duration": 60,
    "start_time": "2022-08-12T07:19:39.019Z"
   },
   {
    "duration": 2249,
    "start_time": "2022-08-12T07:20:07.893Z"
   },
   {
    "duration": 1785,
    "start_time": "2022-08-12T07:20:10.144Z"
   },
   {
    "duration": 51,
    "start_time": "2022-08-12T07:20:11.930Z"
   },
   {
    "duration": 39,
    "start_time": "2022-08-12T07:20:11.983Z"
   },
   {
    "duration": 5,
    "start_time": "2022-08-12T07:20:12.024Z"
   },
   {
    "duration": 6,
    "start_time": "2022-08-12T07:20:12.030Z"
   },
   {
    "duration": 20,
    "start_time": "2022-08-12T07:20:12.037Z"
   },
   {
    "duration": 4,
    "start_time": "2022-08-12T07:20:12.058Z"
   },
   {
    "duration": 101,
    "start_time": "2022-08-12T07:20:12.064Z"
   },
   {
    "duration": 145,
    "start_time": "2022-08-12T07:20:12.167Z"
   },
   {
    "duration": 0,
    "start_time": "2022-08-12T07:20:12.314Z"
   },
   {
    "duration": 194,
    "start_time": "2022-08-12T07:21:08.265Z"
   },
   {
    "duration": 29,
    "start_time": "2022-08-12T07:21:09.925Z"
   },
   {
    "duration": 23,
    "start_time": "2022-08-12T07:23:10.161Z"
   },
   {
    "duration": 19,
    "start_time": "2022-08-12T07:23:30.376Z"
   },
   {
    "duration": 18,
    "start_time": "2022-08-12T07:24:34.565Z"
   },
   {
    "duration": 17,
    "start_time": "2022-08-12T07:41:50.414Z"
   },
   {
    "duration": 1981,
    "start_time": "2022-08-12T11:26:12.662Z"
   },
   {
    "duration": 280,
    "start_time": "2022-08-12T11:26:14.644Z"
   },
   {
    "duration": 0,
    "start_time": "2022-08-12T11:26:14.926Z"
   },
   {
    "duration": 0,
    "start_time": "2022-08-12T11:26:14.927Z"
   },
   {
    "duration": 0,
    "start_time": "2022-08-12T11:26:14.928Z"
   },
   {
    "duration": 0,
    "start_time": "2022-08-12T11:26:14.929Z"
   },
   {
    "duration": 0,
    "start_time": "2022-08-12T11:26:14.929Z"
   },
   {
    "duration": 0,
    "start_time": "2022-08-12T11:26:14.930Z"
   },
   {
    "duration": 0,
    "start_time": "2022-08-12T11:26:14.931Z"
   },
   {
    "duration": 0,
    "start_time": "2022-08-12T11:26:14.931Z"
   },
   {
    "duration": 0,
    "start_time": "2022-08-12T11:26:14.932Z"
   },
   {
    "duration": 0,
    "start_time": "2022-08-12T11:26:14.933Z"
   },
   {
    "duration": 46,
    "start_time": "2022-08-12T11:26:41.477Z"
   },
   {
    "duration": 1965,
    "start_time": "2022-08-12T11:27:28.017Z"
   },
   {
    "duration": 976,
    "start_time": "2022-08-12T11:27:29.985Z"
   },
   {
    "duration": 65,
    "start_time": "2022-08-12T11:27:30.964Z"
   },
   {
    "duration": 13,
    "start_time": "2022-08-12T11:27:31.031Z"
   },
   {
    "duration": 18,
    "start_time": "2022-08-12T11:27:31.045Z"
   },
   {
    "duration": 12,
    "start_time": "2022-08-12T11:27:31.064Z"
   },
   {
    "duration": 30,
    "start_time": "2022-08-12T11:27:31.078Z"
   },
   {
    "duration": 25,
    "start_time": "2022-08-12T11:27:31.110Z"
   },
   {
    "duration": 163,
    "start_time": "2022-08-12T11:27:31.137Z"
   },
   {
    "duration": 0,
    "start_time": "2022-08-12T11:27:31.302Z"
   },
   {
    "duration": 1997,
    "start_time": "2022-08-12T11:27:57.654Z"
   },
   {
    "duration": 982,
    "start_time": "2022-08-12T11:27:59.653Z"
   },
   {
    "duration": 51,
    "start_time": "2022-08-12T11:28:00.636Z"
   },
   {
    "duration": 34,
    "start_time": "2022-08-12T11:28:00.689Z"
   },
   {
    "duration": 6,
    "start_time": "2022-08-12T11:28:00.724Z"
   },
   {
    "duration": 13,
    "start_time": "2022-08-12T11:28:00.731Z"
   },
   {
    "duration": 153,
    "start_time": "2022-08-12T11:28:00.745Z"
   },
   {
    "duration": 0,
    "start_time": "2022-08-12T11:28:00.899Z"
   },
   {
    "duration": 0,
    "start_time": "2022-08-12T11:28:00.901Z"
   },
   {
    "duration": 0,
    "start_time": "2022-08-12T11:28:00.902Z"
   },
   {
    "duration": 38,
    "start_time": "2022-08-12T11:28:12.195Z"
   },
   {
    "duration": 2489,
    "start_time": "2022-08-12T11:28:26.151Z"
   },
   {
    "duration": 96,
    "start_time": "2022-08-12T11:28:28.642Z"
   },
   {
    "duration": 1274,
    "start_time": "2022-08-12T11:28:28.740Z"
   },
   {
    "duration": 52,
    "start_time": "2022-08-12T11:28:30.016Z"
   },
   {
    "duration": 48,
    "start_time": "2022-08-12T11:28:30.069Z"
   },
   {
    "duration": 6,
    "start_time": "2022-08-12T11:28:30.119Z"
   },
   {
    "duration": 11,
    "start_time": "2022-08-12T11:28:30.127Z"
   },
   {
    "duration": 23,
    "start_time": "2022-08-12T11:28:30.140Z"
   },
   {
    "duration": 4,
    "start_time": "2022-08-12T11:28:30.165Z"
   },
   {
    "duration": 60,
    "start_time": "2022-08-12T11:28:30.172Z"
   },
   {
    "duration": 2513,
    "start_time": "2022-08-12T11:28:37.844Z"
   },
   {
    "duration": 1500,
    "start_time": "2022-08-12T11:28:40.410Z"
   },
   {
    "duration": 46,
    "start_time": "2022-08-12T11:28:41.915Z"
   },
   {
    "duration": 85,
    "start_time": "2022-08-12T11:28:41.963Z"
   },
   {
    "duration": 15,
    "start_time": "2022-08-12T11:28:42.050Z"
   },
   {
    "duration": 6,
    "start_time": "2022-08-12T11:28:42.067Z"
   },
   {
    "duration": 6,
    "start_time": "2022-08-12T11:28:42.110Z"
   },
   {
    "duration": 43,
    "start_time": "2022-08-12T11:28:42.117Z"
   },
   {
    "duration": 4,
    "start_time": "2022-08-12T11:28:42.163Z"
   },
   {
    "duration": 50,
    "start_time": "2022-08-12T11:28:42.169Z"
   },
   {
    "duration": 1995,
    "start_time": "2022-08-12T11:28:50.373Z"
   },
   {
    "duration": 1050,
    "start_time": "2022-08-12T11:28:52.370Z"
   },
   {
    "duration": 49,
    "start_time": "2022-08-12T11:28:53.422Z"
   },
   {
    "duration": 163,
    "start_time": "2022-08-12T11:28:53.473Z"
   },
   {
    "duration": 0,
    "start_time": "2022-08-12T11:28:53.637Z"
   },
   {
    "duration": 0,
    "start_time": "2022-08-12T11:28:53.638Z"
   },
   {
    "duration": 0,
    "start_time": "2022-08-12T11:28:53.639Z"
   },
   {
    "duration": 0,
    "start_time": "2022-08-12T11:28:53.640Z"
   },
   {
    "duration": 0,
    "start_time": "2022-08-12T11:28:53.641Z"
   },
   {
    "duration": 0,
    "start_time": "2022-08-12T11:28:53.642Z"
   },
   {
    "duration": 2003,
    "start_time": "2022-08-12T11:29:54.052Z"
   },
   {
    "duration": 1765,
    "start_time": "2022-08-12T11:29:56.056Z"
   },
   {
    "duration": 23,
    "start_time": "2022-08-12T11:29:57.823Z"
   },
   {
    "duration": 64,
    "start_time": "2022-08-12T11:29:57.848Z"
   },
   {
    "duration": 13,
    "start_time": "2022-08-12T11:29:57.913Z"
   },
   {
    "duration": 6,
    "start_time": "2022-08-12T11:29:57.927Z"
   },
   {
    "duration": 6,
    "start_time": "2022-08-12T11:29:57.935Z"
   },
   {
    "duration": 19,
    "start_time": "2022-08-12T11:29:57.943Z"
   },
   {
    "duration": 4,
    "start_time": "2022-08-12T11:29:57.963Z"
   },
   {
    "duration": 64,
    "start_time": "2022-08-12T11:29:57.969Z"
   },
   {
    "duration": 142,
    "start_time": "2022-08-12T11:31:06.264Z"
   },
   {
    "duration": 286,
    "start_time": "2022-08-12T11:31:18.126Z"
   },
   {
    "duration": 322,
    "start_time": "2022-08-12T11:45:28.095Z"
   },
   {
    "duration": 5,
    "start_time": "2022-08-12T11:47:23.987Z"
   },
   {
    "duration": 434,
    "start_time": "2022-08-12T11:47:50.778Z"
   },
   {
    "duration": 1774,
    "start_time": "2022-08-12T11:54:21.686Z"
   },
   {
    "duration": 1904,
    "start_time": "2022-08-12T14:24:20.275Z"
   },
   {
    "duration": 1713,
    "start_time": "2022-08-12T14:24:22.180Z"
   },
   {
    "duration": 59,
    "start_time": "2022-08-12T14:24:23.895Z"
   },
   {
    "duration": 13,
    "start_time": "2022-08-12T14:24:23.956Z"
   },
   {
    "duration": 5,
    "start_time": "2022-08-12T14:24:23.971Z"
   },
   {
    "duration": 34,
    "start_time": "2022-08-12T14:24:23.978Z"
   },
   {
    "duration": 18,
    "start_time": "2022-08-12T14:24:24.015Z"
   },
   {
    "duration": 4,
    "start_time": "2022-08-12T14:24:24.035Z"
   },
   {
    "duration": 158,
    "start_time": "2022-08-12T14:24:24.041Z"
   },
   {
    "duration": 0,
    "start_time": "2022-08-12T14:24:24.201Z"
   },
   {
    "duration": 0,
    "start_time": "2022-08-12T14:24:24.202Z"
   },
   {
    "duration": 14,
    "start_time": "2022-08-12T14:25:05.953Z"
   },
   {
    "duration": 1994,
    "start_time": "2022-08-12T14:29:44.438Z"
   },
   {
    "duration": 2657,
    "start_time": "2022-08-12T14:29:46.434Z"
   },
   {
    "duration": 38,
    "start_time": "2022-08-12T14:29:49.093Z"
   },
   {
    "duration": 13,
    "start_time": "2022-08-12T14:29:49.133Z"
   },
   {
    "duration": 4,
    "start_time": "2022-08-12T14:29:49.148Z"
   },
   {
    "duration": 9,
    "start_time": "2022-08-12T14:29:49.154Z"
   },
   {
    "duration": 20,
    "start_time": "2022-08-12T14:29:49.164Z"
   },
   {
    "duration": 3,
    "start_time": "2022-08-12T14:29:49.186Z"
   },
   {
    "duration": 1629,
    "start_time": "2022-08-12T14:29:49.190Z"
   },
   {
    "duration": 216,
    "start_time": "2022-08-12T14:29:50.826Z"
   },
   {
    "duration": 0,
    "start_time": "2022-08-12T14:29:51.043Z"
   },
   {
    "duration": 13,
    "start_time": "2022-08-12T14:30:44.881Z"
   },
   {
    "duration": 60,
    "start_time": "2022-08-12T14:30:50.079Z"
   },
   {
    "duration": 452,
    "start_time": "2022-08-12T14:32:00.662Z"
   },
   {
    "duration": 3,
    "start_time": "2022-08-12T14:34:14.038Z"
   },
   {
    "duration": 521,
    "start_time": "2022-08-12T14:34:14.892Z"
   },
   {
    "duration": 618,
    "start_time": "2022-08-12T14:34:41.197Z"
   },
   {
    "duration": 2309,
    "start_time": "2022-08-12T14:39:22.634Z"
   },
   {
    "duration": 2429,
    "start_time": "2022-08-12T14:39:24.944Z"
   },
   {
    "duration": 40,
    "start_time": "2022-08-12T14:39:27.375Z"
   },
   {
    "duration": 16,
    "start_time": "2022-08-12T14:39:27.418Z"
   },
   {
    "duration": 8,
    "start_time": "2022-08-12T14:39:27.436Z"
   },
   {
    "duration": 27,
    "start_time": "2022-08-12T14:39:27.446Z"
   },
   {
    "duration": 27,
    "start_time": "2022-08-12T14:39:27.475Z"
   },
   {
    "duration": 3,
    "start_time": "2022-08-12T14:39:27.504Z"
   },
   {
    "duration": 4,
    "start_time": "2022-08-12T14:39:27.510Z"
   },
   {
    "duration": 634,
    "start_time": "2022-08-12T14:39:27.516Z"
   },
   {
    "duration": 0,
    "start_time": "2022-08-12T14:39:28.151Z"
   },
   {
    "duration": 0,
    "start_time": "2022-08-12T14:39:28.153Z"
   },
   {
    "duration": 0,
    "start_time": "2022-08-12T14:39:28.154Z"
   },
   {
    "duration": 1988,
    "start_time": "2022-08-12T14:40:03.739Z"
   },
   {
    "duration": 1719,
    "start_time": "2022-08-12T14:40:05.729Z"
   },
   {
    "duration": 26,
    "start_time": "2022-08-12T14:40:07.450Z"
   },
   {
    "duration": 35,
    "start_time": "2022-08-12T14:40:07.479Z"
   },
   {
    "duration": 6,
    "start_time": "2022-08-12T14:40:07.516Z"
   },
   {
    "duration": 5,
    "start_time": "2022-08-12T14:40:07.523Z"
   },
   {
    "duration": 18,
    "start_time": "2022-08-12T14:40:07.530Z"
   },
   {
    "duration": 4,
    "start_time": "2022-08-12T14:40:07.550Z"
   },
   {
    "duration": 5,
    "start_time": "2022-08-12T14:40:07.556Z"
   },
   {
    "duration": 451,
    "start_time": "2022-08-12T14:40:07.562Z"
   },
   {
    "duration": 696,
    "start_time": "2022-08-12T14:40:08.014Z"
   },
   {
    "duration": 406,
    "start_time": "2022-08-12T14:40:08.712Z"
   },
   {
    "duration": 94,
    "start_time": "2022-08-12T14:40:09.119Z"
   },
   {
    "duration": 119,
    "start_time": "2022-08-12T14:43:51.765Z"
   },
   {
    "duration": 64,
    "start_time": "2022-08-12T14:43:57.887Z"
   },
   {
    "duration": 153,
    "start_time": "2022-08-12T14:44:44.163Z"
   },
   {
    "duration": 146,
    "start_time": "2022-08-12T14:45:20.384Z"
   },
   {
    "duration": 14,
    "start_time": "2022-08-12T14:45:40.519Z"
   },
   {
    "duration": 2223,
    "start_time": "2022-08-12T14:46:12.096Z"
   },
   {
    "duration": 1777,
    "start_time": "2022-08-12T14:46:14.320Z"
   },
   {
    "duration": 28,
    "start_time": "2022-08-12T14:46:16.111Z"
   },
   {
    "duration": 15,
    "start_time": "2022-08-12T14:46:16.141Z"
   },
   {
    "duration": 5,
    "start_time": "2022-08-12T14:46:16.158Z"
   },
   {
    "duration": 10,
    "start_time": "2022-08-12T14:46:16.165Z"
   },
   {
    "duration": 53,
    "start_time": "2022-08-12T14:46:16.177Z"
   },
   {
    "duration": 6,
    "start_time": "2022-08-12T14:46:16.232Z"
   },
   {
    "duration": 10,
    "start_time": "2022-08-12T14:46:16.240Z"
   },
   {
    "duration": 259,
    "start_time": "2022-08-12T14:46:16.252Z"
   },
   {
    "duration": 800,
    "start_time": "2022-08-12T14:46:16.513Z"
   },
   {
    "duration": 598,
    "start_time": "2022-08-12T14:46:17.315Z"
   },
   {
    "duration": 6,
    "start_time": "2022-08-12T14:46:17.915Z"
   },
   {
    "duration": 313,
    "start_time": "2022-08-12T14:46:17.922Z"
   },
   {
    "duration": 26,
    "start_time": "2022-08-12T14:47:49.012Z"
   },
   {
    "duration": 2,
    "start_time": "2022-08-12T14:52:26.107Z"
   },
   {
    "duration": 113,
    "start_time": "2022-08-12T15:05:02.811Z"
   },
   {
    "duration": 8,
    "start_time": "2022-08-12T15:05:06.575Z"
   },
   {
    "duration": 9,
    "start_time": "2022-08-12T15:05:14.730Z"
   },
   {
    "duration": 10,
    "start_time": "2022-08-12T15:05:25.639Z"
   },
   {
    "duration": 4,
    "start_time": "2022-08-12T15:05:28.554Z"
   },
   {
    "duration": 20,
    "start_time": "2022-08-12T15:13:53.667Z"
   },
   {
    "duration": 18,
    "start_time": "2022-08-12T15:16:14.451Z"
   },
   {
    "duration": 13,
    "start_time": "2022-08-12T15:20:28.782Z"
   },
   {
    "duration": 5,
    "start_time": "2022-08-12T15:24:49.661Z"
   },
   {
    "duration": 141,
    "start_time": "2022-08-12T15:26:38.832Z"
   },
   {
    "duration": 133,
    "start_time": "2022-08-12T15:26:51.215Z"
   },
   {
    "duration": 176,
    "start_time": "2022-08-12T15:27:06.599Z"
   },
   {
    "duration": 148,
    "start_time": "2022-08-12T15:27:27.036Z"
   },
   {
    "duration": 118,
    "start_time": "2022-08-12T15:27:28.125Z"
   },
   {
    "duration": 4,
    "start_time": "2022-08-12T15:33:11.526Z"
   },
   {
    "duration": 182,
    "start_time": "2022-08-12T15:33:12.010Z"
   },
   {
    "duration": 179,
    "start_time": "2022-08-12T15:33:56.737Z"
   },
   {
    "duration": 5,
    "start_time": "2022-08-12T15:38:10.481Z"
   },
   {
    "duration": 185,
    "start_time": "2022-08-12T15:38:11.025Z"
   },
   {
    "duration": 1965,
    "start_time": "2022-08-12T15:38:20.092Z"
   },
   {
    "duration": 1726,
    "start_time": "2022-08-12T15:38:22.059Z"
   },
   {
    "duration": 34,
    "start_time": "2022-08-12T15:38:23.787Z"
   },
   {
    "duration": 13,
    "start_time": "2022-08-12T15:38:23.822Z"
   },
   {
    "duration": 4,
    "start_time": "2022-08-12T15:38:23.837Z"
   },
   {
    "duration": 6,
    "start_time": "2022-08-12T15:38:23.842Z"
   },
   {
    "duration": 18,
    "start_time": "2022-08-12T15:38:23.849Z"
   },
   {
    "duration": 4,
    "start_time": "2022-08-12T15:38:23.868Z"
   },
   {
    "duration": 5,
    "start_time": "2022-08-12T15:38:23.874Z"
   },
   {
    "duration": 398,
    "start_time": "2022-08-12T15:38:23.912Z"
   },
   {
    "duration": 390,
    "start_time": "2022-08-12T15:38:24.323Z"
   },
   {
    "duration": 596,
    "start_time": "2022-08-12T15:38:24.715Z"
   },
   {
    "duration": 5,
    "start_time": "2022-08-12T15:38:25.313Z"
   },
   {
    "duration": 113,
    "start_time": "2022-08-12T15:38:25.319Z"
   },
   {
    "duration": 15,
    "start_time": "2022-08-12T15:38:25.434Z"
   },
   {
    "duration": 4,
    "start_time": "2022-08-12T15:38:25.451Z"
   },
   {
    "duration": 199,
    "start_time": "2022-08-12T15:38:25.457Z"
   },
   {
    "duration": 178,
    "start_time": "2022-08-12T15:38:25.658Z"
   },
   {
    "duration": 4,
    "start_time": "2022-08-12T15:39:25.306Z"
   },
   {
    "duration": 359,
    "start_time": "2022-08-12T15:39:25.761Z"
   },
   {
    "duration": 4,
    "start_time": "2022-08-12T15:40:26.591Z"
   },
   {
    "duration": 197,
    "start_time": "2022-08-12T15:40:26.927Z"
   },
   {
    "duration": 4,
    "start_time": "2022-08-12T15:42:11.491Z"
   },
   {
    "duration": 174,
    "start_time": "2022-08-12T15:42:12.013Z"
   },
   {
    "duration": 4,
    "start_time": "2022-08-12T15:51:32.992Z"
   },
   {
    "duration": 182,
    "start_time": "2022-08-12T15:51:33.871Z"
   },
   {
    "duration": 181,
    "start_time": "2022-08-12T15:52:00.282Z"
   },
   {
    "duration": 12,
    "start_time": "2022-08-12T16:01:35.168Z"
   },
   {
    "duration": 17,
    "start_time": "2022-08-12T16:02:08.637Z"
   },
   {
    "duration": 10,
    "start_time": "2022-08-12T16:02:20.381Z"
   },
   {
    "duration": 14,
    "start_time": "2022-08-12T16:03:59.762Z"
   },
   {
    "duration": 3,
    "start_time": "2022-08-12T16:09:58.766Z"
   },
   {
    "duration": 1964,
    "start_time": "2022-08-12T16:32:52.366Z"
   },
   {
    "duration": 1724,
    "start_time": "2022-08-12T16:32:54.332Z"
   },
   {
    "duration": 26,
    "start_time": "2022-08-12T16:32:56.058Z"
   },
   {
    "duration": 30,
    "start_time": "2022-08-12T16:32:56.086Z"
   },
   {
    "duration": 5,
    "start_time": "2022-08-12T16:32:56.118Z"
   },
   {
    "duration": 6,
    "start_time": "2022-08-12T16:32:56.124Z"
   },
   {
    "duration": 18,
    "start_time": "2022-08-12T16:32:56.131Z"
   },
   {
    "duration": 3,
    "start_time": "2022-08-12T16:32:56.151Z"
   },
   {
    "duration": 7,
    "start_time": "2022-08-12T16:32:56.155Z"
   },
   {
    "duration": 348,
    "start_time": "2022-08-12T16:32:56.164Z"
   },
   {
    "duration": 497,
    "start_time": "2022-08-12T16:32:56.514Z"
   },
   {
    "duration": 402,
    "start_time": "2022-08-12T16:32:57.013Z"
   },
   {
    "duration": 94,
    "start_time": "2022-08-12T16:32:57.417Z"
   },
   {
    "duration": 111,
    "start_time": "2022-08-12T16:32:57.513Z"
   },
   {
    "duration": 10,
    "start_time": "2022-08-12T16:32:57.625Z"
   },
   {
    "duration": 6,
    "start_time": "2022-08-12T16:32:57.636Z"
   },
   {
    "duration": 200,
    "start_time": "2022-08-12T16:32:57.644Z"
   },
   {
    "duration": 195,
    "start_time": "2022-08-12T16:32:57.846Z"
   },
   {
    "duration": 80,
    "start_time": "2022-08-12T16:32:58.042Z"
   },
   {
    "duration": 2,
    "start_time": "2022-08-12T16:32:58.124Z"
   },
   {
    "duration": 15,
    "start_time": "2022-08-12T16:32:58.127Z"
   },
   {
    "duration": 166,
    "start_time": "2022-08-12T16:35:30.343Z"
   },
   {
    "duration": 210,
    "start_time": "2022-08-12T16:36:53.283Z"
   },
   {
    "duration": 189,
    "start_time": "2022-08-12T16:37:51.625Z"
   },
   {
    "duration": 186,
    "start_time": "2022-08-12T16:39:01.899Z"
   },
   {
    "duration": 176,
    "start_time": "2022-08-12T16:39:36.644Z"
   },
   {
    "duration": 183,
    "start_time": "2022-08-12T16:39:48.385Z"
   },
   {
    "duration": 11,
    "start_time": "2022-08-12T16:42:08.023Z"
   },
   {
    "duration": 11,
    "start_time": "2022-08-12T16:42:15.364Z"
   },
   {
    "duration": 10,
    "start_time": "2022-08-12T16:43:07.871Z"
   },
   {
    "duration": 11,
    "start_time": "2022-08-12T16:43:28.419Z"
   },
   {
    "duration": 2122,
    "start_time": "2022-08-12T16:43:42.352Z"
   },
   {
    "duration": 1711,
    "start_time": "2022-08-12T16:43:44.476Z"
   },
   {
    "duration": 29,
    "start_time": "2022-08-12T16:43:46.188Z"
   },
   {
    "duration": 12,
    "start_time": "2022-08-12T16:43:46.219Z"
   },
   {
    "duration": 11,
    "start_time": "2022-08-12T16:43:46.232Z"
   },
   {
    "duration": 6,
    "start_time": "2022-08-12T16:43:46.244Z"
   },
   {
    "duration": 25,
    "start_time": "2022-08-12T16:43:46.251Z"
   },
   {
    "duration": 11,
    "start_time": "2022-08-12T16:43:46.278Z"
   },
   {
    "duration": 8,
    "start_time": "2022-08-12T16:43:46.291Z"
   },
   {
    "duration": 302,
    "start_time": "2022-08-12T16:43:46.311Z"
   },
   {
    "duration": 598,
    "start_time": "2022-08-12T16:43:46.615Z"
   },
   {
    "duration": 402,
    "start_time": "2022-08-12T16:43:47.215Z"
   },
   {
    "duration": 97,
    "start_time": "2022-08-12T16:43:47.619Z"
   },
   {
    "duration": 117,
    "start_time": "2022-08-12T16:43:47.719Z"
   },
   {
    "duration": 13,
    "start_time": "2022-08-12T16:43:47.838Z"
   },
   {
    "duration": 6,
    "start_time": "2022-08-12T16:43:47.852Z"
   },
   {
    "duration": 220,
    "start_time": "2022-08-12T16:43:47.860Z"
   },
   {
    "duration": 189,
    "start_time": "2022-08-12T16:43:48.082Z"
   },
   {
    "duration": 81,
    "start_time": "2022-08-12T16:43:48.273Z"
   },
   {
    "duration": 2,
    "start_time": "2022-08-12T16:43:48.356Z"
   },
   {
    "duration": 127,
    "start_time": "2022-08-12T16:43:48.360Z"
   },
   {
    "duration": 213,
    "start_time": "2022-08-12T16:44:29.053Z"
   },
   {
    "duration": 2,
    "start_time": "2022-08-12T16:49:28.324Z"
   },
   {
    "duration": 7,
    "start_time": "2022-08-12T17:06:14.024Z"
   },
   {
    "duration": 1959,
    "start_time": "2022-08-12T17:06:19.510Z"
   },
   {
    "duration": 1740,
    "start_time": "2022-08-12T17:06:21.471Z"
   },
   {
    "duration": 24,
    "start_time": "2022-08-12T17:06:23.212Z"
   },
   {
    "duration": 12,
    "start_time": "2022-08-12T17:06:23.238Z"
   },
   {
    "duration": 4,
    "start_time": "2022-08-12T17:06:23.252Z"
   },
   {
    "duration": 4,
    "start_time": "2022-08-12T17:06:23.257Z"
   },
   {
    "duration": 18,
    "start_time": "2022-08-12T17:06:23.262Z"
   },
   {
    "duration": 4,
    "start_time": "2022-08-12T17:06:23.310Z"
   },
   {
    "duration": 6,
    "start_time": "2022-08-12T17:06:23.315Z"
   },
   {
    "duration": 293,
    "start_time": "2022-08-12T17:06:23.323Z"
   },
   {
    "duration": 394,
    "start_time": "2022-08-12T17:06:23.619Z"
   },
   {
    "duration": 496,
    "start_time": "2022-08-12T17:06:24.015Z"
   },
   {
    "duration": 6,
    "start_time": "2022-08-12T17:06:24.513Z"
   },
   {
    "duration": 119,
    "start_time": "2022-08-12T17:06:24.521Z"
   },
   {
    "duration": 11,
    "start_time": "2022-08-12T17:06:24.641Z"
   },
   {
    "duration": 4,
    "start_time": "2022-08-12T17:06:24.653Z"
   },
   {
    "duration": 203,
    "start_time": "2022-08-12T17:06:24.659Z"
   },
   {
    "duration": 200,
    "start_time": "2022-08-12T17:06:24.863Z"
   },
   {
    "duration": 86,
    "start_time": "2022-08-12T17:06:25.064Z"
   },
   {
    "duration": 2,
    "start_time": "2022-08-12T17:06:25.152Z"
   },
   {
    "duration": 6,
    "start_time": "2022-08-12T17:06:25.156Z"
   },
   {
    "duration": 984,
    "start_time": "2022-08-12T17:06:25.163Z"
   },
   {
    "duration": 0,
    "start_time": "2022-08-12T17:06:26.149Z"
   },
   {
    "duration": 4,
    "start_time": "2022-08-12T17:21:31.452Z"
   },
   {
    "duration": 5,
    "start_time": "2022-08-12T17:21:32.110Z"
   },
   {
    "duration": 10,
    "start_time": "2022-08-12T17:23:14.020Z"
   },
   {
    "duration": 4,
    "start_time": "2022-08-12T17:23:14.517Z"
   },
   {
    "duration": 4,
    "start_time": "2022-08-12T17:23:37.810Z"
   },
   {
    "duration": 4,
    "start_time": "2022-08-12T17:23:38.022Z"
   },
   {
    "duration": 73,
    "start_time": "2022-08-12T17:26:00.495Z"
   },
   {
    "duration": 826,
    "start_time": "2022-08-12T17:28:31.093Z"
   },
   {
    "duration": 2007,
    "start_time": "2022-08-12T17:28:35.692Z"
   },
   {
    "duration": 1744,
    "start_time": "2022-08-12T17:28:37.701Z"
   },
   {
    "duration": 25,
    "start_time": "2022-08-12T17:28:39.447Z"
   },
   {
    "duration": 15,
    "start_time": "2022-08-12T17:28:39.473Z"
   },
   {
    "duration": 5,
    "start_time": "2022-08-12T17:28:39.510Z"
   },
   {
    "duration": 5,
    "start_time": "2022-08-12T17:28:39.517Z"
   },
   {
    "duration": 18,
    "start_time": "2022-08-12T17:28:39.523Z"
   },
   {
    "duration": 4,
    "start_time": "2022-08-12T17:28:39.543Z"
   },
   {
    "duration": 5,
    "start_time": "2022-08-12T17:28:39.548Z"
   },
   {
    "duration": 357,
    "start_time": "2022-08-12T17:28:39.556Z"
   },
   {
    "duration": 797,
    "start_time": "2022-08-12T17:28:39.915Z"
   },
   {
    "duration": 401,
    "start_time": "2022-08-12T17:28:40.714Z"
   },
   {
    "duration": 3,
    "start_time": "2022-08-12T17:28:41.116Z"
   },
   {
    "duration": 112,
    "start_time": "2022-08-12T17:28:41.212Z"
   },
   {
    "duration": 11,
    "start_time": "2022-08-12T17:28:41.325Z"
   },
   {
    "duration": 4,
    "start_time": "2022-08-12T17:28:41.337Z"
   },
   {
    "duration": 219,
    "start_time": "2022-08-12T17:28:41.342Z"
   },
   {
    "duration": 218,
    "start_time": "2022-08-12T17:28:41.562Z"
   },
   {
    "duration": 82,
    "start_time": "2022-08-12T17:28:41.782Z"
   },
   {
    "duration": 4,
    "start_time": "2022-08-12T17:28:41.865Z"
   },
   {
    "duration": 6,
    "start_time": "2022-08-12T17:28:41.870Z"
   },
   {
    "duration": 4,
    "start_time": "2022-08-12T17:28:41.878Z"
   },
   {
    "duration": 1022,
    "start_time": "2022-08-12T17:28:41.883Z"
   },
   {
    "duration": 0,
    "start_time": "2022-08-12T17:28:42.907Z"
   },
   {
    "duration": 27,
    "start_time": "2022-08-12T17:29:53.401Z"
   },
   {
    "duration": 914,
    "start_time": "2022-08-12T17:30:04.812Z"
   },
   {
    "duration": 5,
    "start_time": "2022-08-12T17:30:14.422Z"
   },
   {
    "duration": 717,
    "start_time": "2022-08-12T17:30:26.888Z"
   },
   {
    "duration": 1067,
    "start_time": "2022-08-12T17:31:29.000Z"
   },
   {
    "duration": 914,
    "start_time": "2022-08-12T17:31:57.374Z"
   },
   {
    "duration": 24,
    "start_time": "2022-08-12T17:32:12.788Z"
   },
   {
    "duration": 4,
    "start_time": "2022-08-12T17:32:29.660Z"
   },
   {
    "duration": 5,
    "start_time": "2022-08-12T17:32:38.128Z"
   },
   {
    "duration": 4,
    "start_time": "2022-08-12T17:32:56.060Z"
   },
   {
    "duration": 4,
    "start_time": "2022-08-12T17:32:56.659Z"
   },
   {
    "duration": 42,
    "start_time": "2022-08-12T17:33:16.315Z"
   },
   {
    "duration": 12,
    "start_time": "2022-08-12T17:33:22.341Z"
   },
   {
    "duration": 4,
    "start_time": "2022-08-12T17:33:53.283Z"
   },
   {
    "duration": 7,
    "start_time": "2022-08-12T17:33:53.993Z"
   },
   {
    "duration": 4671,
    "start_time": "2022-08-14T14:34:20.546Z"
   },
   {
    "duration": 1611,
    "start_time": "2022-08-14T14:34:25.219Z"
   },
   {
    "duration": 197,
    "start_time": "2022-08-14T14:34:26.832Z"
   },
   {
    "duration": 19,
    "start_time": "2022-08-14T14:34:27.031Z"
   },
   {
    "duration": 6,
    "start_time": "2022-08-14T14:34:27.051Z"
   },
   {
    "duration": 5,
    "start_time": "2022-08-14T14:34:27.059Z"
   },
   {
    "duration": 39,
    "start_time": "2022-08-14T14:34:27.065Z"
   },
   {
    "duration": 4,
    "start_time": "2022-08-14T14:34:27.106Z"
   },
   {
    "duration": 6,
    "start_time": "2022-08-14T14:34:27.111Z"
   },
   {
    "duration": 581,
    "start_time": "2022-08-14T14:34:27.120Z"
   },
   {
    "duration": 697,
    "start_time": "2022-08-14T14:34:27.703Z"
   },
   {
    "duration": 700,
    "start_time": "2022-08-14T14:34:28.402Z"
   },
   {
    "duration": 4,
    "start_time": "2022-08-14T14:34:29.105Z"
   },
   {
    "duration": 117,
    "start_time": "2022-08-14T14:34:29.111Z"
   },
   {
    "duration": 14,
    "start_time": "2022-08-14T14:34:29.230Z"
   },
   {
    "duration": 6,
    "start_time": "2022-08-14T14:34:29.246Z"
   },
   {
    "duration": 280,
    "start_time": "2022-08-14T14:34:29.254Z"
   },
   {
    "duration": 300,
    "start_time": "2022-08-14T14:34:29.535Z"
   },
   {
    "duration": 15,
    "start_time": "2022-08-14T14:34:29.836Z"
   },
   {
    "duration": 3,
    "start_time": "2022-08-14T14:34:29.853Z"
   },
   {
    "duration": 11,
    "start_time": "2022-08-14T14:34:29.858Z"
   },
   {
    "duration": 8,
    "start_time": "2022-08-14T14:34:29.870Z"
   },
   {
    "duration": 48,
    "start_time": "2022-08-14T14:34:29.880Z"
   },
   {
    "duration": 65,
    "start_time": "2022-08-14T14:34:29.930Z"
   },
   {
    "duration": 26,
    "start_time": "2022-08-14T14:34:40.422Z"
   },
   {
    "duration": 108,
    "start_time": "2022-08-14T14:37:50.297Z"
   },
   {
    "duration": 19,
    "start_time": "2022-08-14T14:38:52.379Z"
   },
   {
    "duration": 24,
    "start_time": "2022-08-14T14:39:07.774Z"
   },
   {
    "duration": 34,
    "start_time": "2022-08-14T14:42:07.541Z"
   },
   {
    "duration": 25,
    "start_time": "2022-08-14T14:43:02.264Z"
   },
   {
    "duration": 18,
    "start_time": "2022-08-14T14:44:35.267Z"
   },
   {
    "duration": 26,
    "start_time": "2022-08-14T14:47:42.923Z"
   },
   {
    "duration": 820,
    "start_time": "2022-08-14T14:50:41.381Z"
   },
   {
    "duration": 4,
    "start_time": "2022-08-14T14:51:05.132Z"
   },
   {
    "duration": 10,
    "start_time": "2022-08-14T14:51:10.512Z"
   },
   {
    "duration": 30,
    "start_time": "2022-08-14T14:51:10.997Z"
   },
   {
    "duration": 4,
    "start_time": "2022-08-14T14:51:11.780Z"
   },
   {
    "duration": 24,
    "start_time": "2022-08-14T14:51:17.914Z"
   },
   {
    "duration": 44,
    "start_time": "2022-08-14T14:51:22.281Z"
   },
   {
    "duration": 17323,
    "start_time": "2022-08-14T14:55:40.422Z"
   },
   {
    "duration": 18149,
    "start_time": "2022-08-14T14:56:36.675Z"
   },
   {
    "duration": 186,
    "start_time": "2022-08-14T15:01:03.870Z"
   },
   {
    "duration": 10,
    "start_time": "2022-08-14T15:01:04.142Z"
   },
   {
    "duration": 4,
    "start_time": "2022-08-14T15:01:19.717Z"
   },
   {
    "duration": 8,
    "start_time": "2022-08-14T15:01:39.348Z"
   },
   {
    "duration": 107,
    "start_time": "2022-08-14T15:01:42.474Z"
   },
   {
    "duration": 9,
    "start_time": "2022-08-14T15:01:43.377Z"
   },
   {
    "duration": 130,
    "start_time": "2022-08-14T15:01:48.874Z"
   },
   {
    "duration": 65,
    "start_time": "2022-08-14T15:02:01.251Z"
   },
   {
    "duration": 10,
    "start_time": "2022-08-14T15:02:01.445Z"
   },
   {
    "duration": 17196,
    "start_time": "2022-08-14T15:02:07.736Z"
   },
   {
    "duration": 4,
    "start_time": "2022-08-14T15:02:25.001Z"
   },
   {
    "duration": 3,
    "start_time": "2022-08-14T18:08:09.641Z"
   },
   {
    "duration": 4,
    "start_time": "2022-08-14T18:08:10.028Z"
   },
   {
    "duration": 16259,
    "start_time": "2022-08-14T18:08:11.052Z"
   },
   {
    "duration": 1422,
    "start_time": "2022-08-14T18:28:00.570Z"
   },
   {
    "duration": 663,
    "start_time": "2022-08-14T18:28:01.993Z"
   },
   {
    "duration": 1679,
    "start_time": "2022-08-14T18:28:02.658Z"
   },
   {
    "duration": 27,
    "start_time": "2022-08-14T18:28:04.339Z"
   },
   {
    "duration": 39,
    "start_time": "2022-08-14T18:28:04.368Z"
   },
   {
    "duration": 6,
    "start_time": "2022-08-14T18:28:04.408Z"
   },
   {
    "duration": 13,
    "start_time": "2022-08-14T18:28:04.415Z"
   },
   {
    "duration": 18,
    "start_time": "2022-08-14T18:28:04.430Z"
   },
   {
    "duration": 5,
    "start_time": "2022-08-14T18:28:04.450Z"
   },
   {
    "duration": 9,
    "start_time": "2022-08-14T18:28:04.458Z"
   },
   {
    "duration": 434,
    "start_time": "2022-08-14T18:28:04.469Z"
   },
   {
    "duration": 696,
    "start_time": "2022-08-14T18:28:04.906Z"
   },
   {
    "duration": 698,
    "start_time": "2022-08-14T18:28:05.604Z"
   },
   {
    "duration": 5,
    "start_time": "2022-08-14T18:28:06.305Z"
   },
   {
    "duration": 114,
    "start_time": "2022-08-14T18:28:06.313Z"
   },
   {
    "duration": 11,
    "start_time": "2022-08-14T18:28:06.429Z"
   },
   {
    "duration": 4,
    "start_time": "2022-08-14T18:28:06.441Z"
   },
   {
    "duration": 215,
    "start_time": "2022-08-14T18:28:06.446Z"
   },
   {
    "duration": 282,
    "start_time": "2022-08-14T18:28:06.662Z"
   },
   {
    "duration": 15,
    "start_time": "2022-08-14T18:28:06.946Z"
   },
   {
    "duration": 5,
    "start_time": "2022-08-14T18:28:06.963Z"
   },
   {
    "duration": 7,
    "start_time": "2022-08-14T18:28:06.969Z"
   },
   {
    "duration": 38,
    "start_time": "2022-08-14T18:28:06.977Z"
   },
   {
    "duration": 34,
    "start_time": "2022-08-14T18:28:07.017Z"
   },
   {
    "duration": 46,
    "start_time": "2022-08-14T18:28:07.053Z"
   },
   {
    "duration": 3,
    "start_time": "2022-08-14T18:28:07.100Z"
   },
   {
    "duration": 7,
    "start_time": "2022-08-14T18:28:07.104Z"
   },
   {
    "duration": 176,
    "start_time": "2022-08-14T18:28:07.114Z"
   },
   {
    "duration": 80,
    "start_time": "2022-08-14T18:28:07.292Z"
   },
   {
    "duration": 85,
    "start_time": "2022-08-14T18:28:07.374Z"
   },
   {
    "duration": 74,
    "start_time": "2022-08-14T18:28:07.460Z"
   },
   {
    "duration": 9,
    "start_time": "2022-08-14T18:28:07.535Z"
   },
   {
    "duration": 5253,
    "start_time": "2022-08-14T18:28:51.367Z"
   },
   {
    "duration": 83,
    "start_time": "2022-08-14T18:28:56.622Z"
   },
   {
    "duration": 80,
    "start_time": "2022-08-14T18:28:56.838Z"
   },
   {
    "duration": 73,
    "start_time": "2022-08-14T18:28:58.453Z"
   },
   {
    "duration": 5,
    "start_time": "2022-08-14T18:30:14.158Z"
   },
   {
    "duration": 15448,
    "start_time": "2022-08-14T18:30:14.991Z"
   },
   {
    "duration": 4,
    "start_time": "2022-08-14T18:30:38.068Z"
   },
   {
    "duration": 5,
    "start_time": "2022-08-14T18:31:13.339Z"
   },
   {
    "duration": 83,
    "start_time": "2022-08-14T18:31:14.641Z"
   },
   {
    "duration": 4,
    "start_time": "2022-08-14T18:33:08.651Z"
   },
   {
    "duration": 15518,
    "start_time": "2022-08-14T18:33:09.583Z"
   },
   {
    "duration": 95,
    "start_time": "2022-08-14T18:33:25.105Z"
   },
   {
    "duration": 4,
    "start_time": "2022-08-14T18:33:33.100Z"
   },
   {
    "duration": 5,
    "start_time": "2022-08-14T18:33:33.295Z"
   },
   {
    "duration": 1352,
    "start_time": "2022-08-14T18:33:38.635Z"
   },
   {
    "duration": 678,
    "start_time": "2022-08-14T18:33:39.989Z"
   },
   {
    "duration": 1650,
    "start_time": "2022-08-14T18:33:40.669Z"
   },
   {
    "duration": 28,
    "start_time": "2022-08-14T18:33:42.321Z"
   },
   {
    "duration": 16,
    "start_time": "2022-08-14T18:33:42.350Z"
   },
   {
    "duration": 5,
    "start_time": "2022-08-14T18:33:42.367Z"
   },
   {
    "duration": 5,
    "start_time": "2022-08-14T18:33:42.400Z"
   },
   {
    "duration": 21,
    "start_time": "2022-08-14T18:33:42.406Z"
   },
   {
    "duration": 4,
    "start_time": "2022-08-14T18:33:42.428Z"
   },
   {
    "duration": 8,
    "start_time": "2022-08-14T18:33:42.435Z"
   },
   {
    "duration": 262,
    "start_time": "2022-08-14T18:33:42.445Z"
   },
   {
    "duration": 691,
    "start_time": "2022-08-14T18:33:42.709Z"
   },
   {
    "duration": 508,
    "start_time": "2022-08-14T18:33:43.402Z"
   },
   {
    "duration": 4,
    "start_time": "2022-08-14T18:33:44.001Z"
   },
   {
    "duration": 27,
    "start_time": "2022-08-14T18:33:44.007Z"
   },
   {
    "duration": 68,
    "start_time": "2022-08-14T18:33:44.036Z"
   },
   {
    "duration": 5,
    "start_time": "2022-08-14T18:33:44.106Z"
   },
   {
    "duration": 210,
    "start_time": "2022-08-14T18:33:44.113Z"
   },
   {
    "duration": 279,
    "start_time": "2022-08-14T18:33:44.325Z"
   },
   {
    "duration": 16,
    "start_time": "2022-08-14T18:33:44.606Z"
   },
   {
    "duration": 4,
    "start_time": "2022-08-14T18:33:44.623Z"
   },
   {
    "duration": 6,
    "start_time": "2022-08-14T18:33:44.629Z"
   },
   {
    "duration": 16,
    "start_time": "2022-08-14T18:33:44.636Z"
   },
   {
    "duration": 51,
    "start_time": "2022-08-14T18:33:44.653Z"
   },
   {
    "duration": 42,
    "start_time": "2022-08-14T18:33:44.706Z"
   },
   {
    "duration": 2,
    "start_time": "2022-08-14T18:33:44.750Z"
   },
   {
    "duration": 8,
    "start_time": "2022-08-14T18:33:44.754Z"
   },
   {
    "duration": 15038,
    "start_time": "2022-08-14T18:33:44.765Z"
   },
   {
    "duration": 94,
    "start_time": "2022-08-14T18:33:59.805Z"
   },
   {
    "duration": 187,
    "start_time": "2022-08-14T18:33:59.901Z"
   },
   {
    "duration": 91,
    "start_time": "2022-08-14T18:34:00.090Z"
   },
   {
    "duration": 92,
    "start_time": "2022-08-14T18:34:00.183Z"
   },
   {
    "duration": 8,
    "start_time": "2022-08-14T18:34:00.277Z"
   },
   {
    "duration": 1454,
    "start_time": "2022-08-14T18:34:35.014Z"
   },
   {
    "duration": 724,
    "start_time": "2022-08-14T18:34:36.470Z"
   },
   {
    "duration": 1684,
    "start_time": "2022-08-14T18:34:37.196Z"
   },
   {
    "duration": 41,
    "start_time": "2022-08-14T18:34:38.882Z"
   },
   {
    "duration": 16,
    "start_time": "2022-08-14T18:34:38.925Z"
   },
   {
    "duration": 5,
    "start_time": "2022-08-14T18:34:38.943Z"
   },
   {
    "duration": 8,
    "start_time": "2022-08-14T18:34:38.949Z"
   },
   {
    "duration": 45,
    "start_time": "2022-08-14T18:34:38.958Z"
   },
   {
    "duration": 5,
    "start_time": "2022-08-14T18:34:39.006Z"
   },
   {
    "duration": 17,
    "start_time": "2022-08-14T18:34:39.013Z"
   },
   {
    "duration": 279,
    "start_time": "2022-08-14T18:34:39.032Z"
   },
   {
    "duration": 804,
    "start_time": "2022-08-14T18:34:39.399Z"
   },
   {
    "duration": 997,
    "start_time": "2022-08-14T18:34:40.205Z"
   },
   {
    "duration": 4,
    "start_time": "2022-08-14T18:34:41.206Z"
   },
   {
    "duration": 120,
    "start_time": "2022-08-14T18:34:41.212Z"
   },
   {
    "duration": 12,
    "start_time": "2022-08-14T18:34:41.334Z"
   },
   {
    "duration": 4,
    "start_time": "2022-08-14T18:34:41.347Z"
   },
   {
    "duration": 272,
    "start_time": "2022-08-14T18:34:41.353Z"
   },
   {
    "duration": 280,
    "start_time": "2022-08-14T18:34:41.626Z"
   },
   {
    "duration": 14,
    "start_time": "2022-08-14T18:34:41.908Z"
   },
   {
    "duration": 17,
    "start_time": "2022-08-14T18:34:41.923Z"
   },
   {
    "duration": 8,
    "start_time": "2022-08-14T18:34:41.941Z"
   },
   {
    "duration": 13,
    "start_time": "2022-08-14T18:34:41.951Z"
   },
   {
    "duration": 23,
    "start_time": "2022-08-14T18:34:41.965Z"
   },
   {
    "duration": 48,
    "start_time": "2022-08-14T18:34:41.990Z"
   },
   {
    "duration": 3,
    "start_time": "2022-08-14T18:34:42.039Z"
   },
   {
    "duration": 6,
    "start_time": "2022-08-14T18:34:42.043Z"
   },
   {
    "duration": 16758,
    "start_time": "2022-08-14T18:34:42.050Z"
   },
   {
    "duration": 1367,
    "start_time": "2022-08-14T18:36:08.081Z"
   },
   {
    "duration": 703,
    "start_time": "2022-08-14T18:36:09.451Z"
   },
   {
    "duration": 1683,
    "start_time": "2022-08-14T18:36:10.155Z"
   },
   {
    "duration": 25,
    "start_time": "2022-08-14T18:36:11.840Z"
   },
   {
    "duration": 13,
    "start_time": "2022-08-14T18:36:11.867Z"
   },
   {
    "duration": 4,
    "start_time": "2022-08-14T18:36:11.900Z"
   },
   {
    "duration": 7,
    "start_time": "2022-08-14T18:36:11.905Z"
   },
   {
    "duration": 18,
    "start_time": "2022-08-14T18:36:11.913Z"
   },
   {
    "duration": 3,
    "start_time": "2022-08-14T18:36:11.932Z"
   },
   {
    "duration": 15,
    "start_time": "2022-08-14T18:36:11.937Z"
   },
   {
    "duration": 450,
    "start_time": "2022-08-14T18:36:11.953Z"
   },
   {
    "duration": 495,
    "start_time": "2022-08-14T18:36:12.405Z"
   },
   {
    "duration": 600,
    "start_time": "2022-08-14T18:36:12.902Z"
   },
   {
    "duration": 3,
    "start_time": "2022-08-14T18:36:13.504Z"
   },
   {
    "duration": 191,
    "start_time": "2022-08-14T18:36:13.509Z"
   },
   {
    "duration": 11,
    "start_time": "2022-08-14T18:36:13.702Z"
   },
   {
    "duration": 4,
    "start_time": "2022-08-14T18:36:13.714Z"
   },
   {
    "duration": 219,
    "start_time": "2022-08-14T18:36:13.719Z"
   },
   {
    "duration": 265,
    "start_time": "2022-08-14T18:36:13.940Z"
   },
   {
    "duration": 14,
    "start_time": "2022-08-14T18:36:14.206Z"
   },
   {
    "duration": 20,
    "start_time": "2022-08-14T18:36:14.221Z"
   },
   {
    "duration": 16,
    "start_time": "2022-08-14T18:36:14.243Z"
   },
   {
    "duration": 46,
    "start_time": "2022-08-14T18:36:14.260Z"
   },
   {
    "duration": 44,
    "start_time": "2022-08-14T18:36:14.308Z"
   },
   {
    "duration": 41,
    "start_time": "2022-08-14T18:36:14.353Z"
   },
   {
    "duration": 3,
    "start_time": "2022-08-14T18:36:14.395Z"
   },
   {
    "duration": 25,
    "start_time": "2022-08-14T18:36:14.399Z"
   },
   {
    "duration": 15012,
    "start_time": "2022-08-14T18:36:14.427Z"
   },
   {
    "duration": 1359,
    "start_time": "2022-08-14T18:36:52.276Z"
   },
   {
    "duration": 673,
    "start_time": "2022-08-14T18:36:53.637Z"
   },
   {
    "duration": 1571,
    "start_time": "2022-08-14T18:36:54.314Z"
   },
   {
    "duration": 35,
    "start_time": "2022-08-14T18:36:55.886Z"
   },
   {
    "duration": 14,
    "start_time": "2022-08-14T18:36:55.923Z"
   },
   {
    "duration": 5,
    "start_time": "2022-08-14T18:36:55.938Z"
   },
   {
    "duration": 6,
    "start_time": "2022-08-14T18:36:55.944Z"
   },
   {
    "duration": 20,
    "start_time": "2022-08-14T18:36:55.952Z"
   },
   {
    "duration": 27,
    "start_time": "2022-08-14T18:36:55.974Z"
   },
   {
    "duration": 6,
    "start_time": "2022-08-14T18:36:56.003Z"
   },
   {
    "duration": 294,
    "start_time": "2022-08-14T18:36:56.010Z"
   },
   {
    "duration": 701,
    "start_time": "2022-08-14T18:36:56.306Z"
   },
   {
    "duration": 599,
    "start_time": "2022-08-14T18:36:57.008Z"
   },
   {
    "duration": 93,
    "start_time": "2022-08-14T18:36:57.610Z"
   },
   {
    "duration": 108,
    "start_time": "2022-08-14T18:36:57.705Z"
   },
   {
    "duration": 12,
    "start_time": "2022-08-14T18:36:57.814Z"
   },
   {
    "duration": 4,
    "start_time": "2022-08-14T18:36:57.827Z"
   },
   {
    "duration": 208,
    "start_time": "2022-08-14T18:36:57.832Z"
   },
   {
    "duration": 268,
    "start_time": "2022-08-14T18:36:58.042Z"
   },
   {
    "duration": 12,
    "start_time": "2022-08-14T18:36:58.312Z"
   },
   {
    "duration": 11,
    "start_time": "2022-08-14T18:36:58.325Z"
   },
   {
    "duration": 8,
    "start_time": "2022-08-14T18:36:58.337Z"
   },
   {
    "duration": 12,
    "start_time": "2022-08-14T18:36:58.347Z"
   },
   {
    "duration": 23,
    "start_time": "2022-08-14T18:36:58.361Z"
   },
   {
    "duration": 39,
    "start_time": "2022-08-14T18:36:58.400Z"
   },
   {
    "duration": 2,
    "start_time": "2022-08-14T18:36:58.441Z"
   },
   {
    "duration": 4,
    "start_time": "2022-08-14T18:36:58.446Z"
   },
   {
    "duration": 5748,
    "start_time": "2022-08-14T18:36:58.452Z"
   },
   {
    "duration": 1311,
    "start_time": "2022-08-14T18:37:29.487Z"
   },
   {
    "duration": 657,
    "start_time": "2022-08-14T18:37:30.799Z"
   },
   {
    "duration": 1631,
    "start_time": "2022-08-14T18:37:31.458Z"
   },
   {
    "duration": 26,
    "start_time": "2022-08-14T18:37:33.101Z"
   },
   {
    "duration": 15,
    "start_time": "2022-08-14T18:37:33.129Z"
   },
   {
    "duration": 6,
    "start_time": "2022-08-14T18:37:33.146Z"
   },
   {
    "duration": 10,
    "start_time": "2022-08-14T18:37:33.153Z"
   },
   {
    "duration": 47,
    "start_time": "2022-08-14T18:37:33.164Z"
   },
   {
    "duration": 3,
    "start_time": "2022-08-14T18:37:33.213Z"
   },
   {
    "duration": 4,
    "start_time": "2022-08-14T18:37:33.219Z"
   },
   {
    "duration": 379,
    "start_time": "2022-08-14T18:37:33.224Z"
   },
   {
    "duration": 700,
    "start_time": "2022-08-14T18:37:33.604Z"
   },
   {
    "duration": 596,
    "start_time": "2022-08-14T18:37:34.306Z"
   },
   {
    "duration": 7,
    "start_time": "2022-08-14T18:37:34.904Z"
   },
   {
    "duration": 121,
    "start_time": "2022-08-14T18:37:34.913Z"
   },
   {
    "duration": 73,
    "start_time": "2022-08-14T18:37:35.036Z"
   },
   {
    "duration": 6,
    "start_time": "2022-08-14T18:37:35.111Z"
   },
   {
    "duration": 211,
    "start_time": "2022-08-14T18:37:35.119Z"
   },
   {
    "duration": 278,
    "start_time": "2022-08-14T18:37:35.332Z"
   },
   {
    "duration": 14,
    "start_time": "2022-08-14T18:37:35.612Z"
   },
   {
    "duration": 3,
    "start_time": "2022-08-14T18:37:35.628Z"
   },
   {
    "duration": 7,
    "start_time": "2022-08-14T18:37:35.633Z"
   },
   {
    "duration": 30,
    "start_time": "2022-08-14T18:37:35.642Z"
   },
   {
    "duration": 32,
    "start_time": "2022-08-14T18:37:35.674Z"
   },
   {
    "duration": 41,
    "start_time": "2022-08-14T18:37:35.708Z"
   },
   {
    "duration": 3,
    "start_time": "2022-08-14T18:37:35.751Z"
   },
   {
    "duration": 25,
    "start_time": "2022-08-14T18:37:35.755Z"
   },
   {
    "duration": 14331,
    "start_time": "2022-08-14T18:37:35.783Z"
   },
   {
    "duration": 1260,
    "start_time": "2022-08-14T18:40:25.237Z"
   },
   {
    "duration": 648,
    "start_time": "2022-08-14T18:40:26.499Z"
   },
   {
    "duration": 1585,
    "start_time": "2022-08-14T18:40:27.149Z"
   },
   {
    "duration": 25,
    "start_time": "2022-08-14T18:40:28.736Z"
   },
   {
    "duration": 14,
    "start_time": "2022-08-14T18:40:28.763Z"
   },
   {
    "duration": 24,
    "start_time": "2022-08-14T18:40:28.779Z"
   },
   {
    "duration": 11,
    "start_time": "2022-08-14T18:40:28.804Z"
   },
   {
    "duration": 19,
    "start_time": "2022-08-14T18:40:28.816Z"
   },
   {
    "duration": 4,
    "start_time": "2022-08-14T18:40:28.837Z"
   },
   {
    "duration": 5,
    "start_time": "2022-08-14T18:40:28.843Z"
   },
   {
    "duration": 354,
    "start_time": "2022-08-14T18:40:28.849Z"
   },
   {
    "duration": 604,
    "start_time": "2022-08-14T18:40:29.205Z"
   },
   {
    "duration": 601,
    "start_time": "2022-08-14T18:40:29.901Z"
   },
   {
    "duration": 5,
    "start_time": "2022-08-14T18:40:30.504Z"
   },
   {
    "duration": 114,
    "start_time": "2022-08-14T18:40:30.511Z"
   },
   {
    "duration": 12,
    "start_time": "2022-08-14T18:40:30.627Z"
   },
   {
    "duration": 10,
    "start_time": "2022-08-14T18:40:30.641Z"
   },
   {
    "duration": 223,
    "start_time": "2022-08-14T18:40:30.653Z"
   },
   {
    "duration": 294,
    "start_time": "2022-08-14T18:40:30.878Z"
   },
   {
    "duration": 28,
    "start_time": "2022-08-14T18:40:31.173Z"
   },
   {
    "duration": 3,
    "start_time": "2022-08-14T18:40:31.203Z"
   },
   {
    "duration": 16,
    "start_time": "2022-08-14T18:40:31.208Z"
   },
   {
    "duration": 41,
    "start_time": "2022-08-14T18:40:31.226Z"
   },
   {
    "duration": 40,
    "start_time": "2022-08-14T18:40:31.269Z"
   },
   {
    "duration": 60,
    "start_time": "2022-08-14T18:40:31.310Z"
   },
   {
    "duration": 2,
    "start_time": "2022-08-14T18:40:31.372Z"
   },
   {
    "duration": 53,
    "start_time": "2022-08-14T18:40:31.375Z"
   },
   {
    "duration": 0,
    "start_time": "2022-08-14T18:40:31.430Z"
   },
   {
    "duration": 0,
    "start_time": "2022-08-14T18:40:31.431Z"
   },
   {
    "duration": 0,
    "start_time": "2022-08-14T18:40:31.431Z"
   },
   {
    "duration": 0,
    "start_time": "2022-08-14T18:40:31.432Z"
   },
   {
    "duration": 0,
    "start_time": "2022-08-14T18:40:31.434Z"
   },
   {
    "duration": 5,
    "start_time": "2022-08-14T18:40:37.614Z"
   },
   {
    "duration": 5886,
    "start_time": "2022-08-14T18:40:38.747Z"
   },
   {
    "duration": 4,
    "start_time": "2022-08-14T18:40:47.527Z"
   },
   {
    "duration": 1407,
    "start_time": "2022-08-14T18:41:11.196Z"
   },
   {
    "duration": 689,
    "start_time": "2022-08-14T18:41:12.606Z"
   },
   {
    "duration": 1613,
    "start_time": "2022-08-14T18:41:13.297Z"
   },
   {
    "duration": 25,
    "start_time": "2022-08-14T18:41:14.912Z"
   },
   {
    "duration": 14,
    "start_time": "2022-08-14T18:41:14.939Z"
   },
   {
    "duration": 14,
    "start_time": "2022-08-14T18:41:14.955Z"
   },
   {
    "duration": 5,
    "start_time": "2022-08-14T18:41:14.971Z"
   },
   {
    "duration": 45,
    "start_time": "2022-08-14T18:41:14.977Z"
   },
   {
    "duration": 6,
    "start_time": "2022-08-14T18:41:15.024Z"
   },
   {
    "duration": 4,
    "start_time": "2022-08-14T18:41:15.033Z"
   },
   {
    "duration": 266,
    "start_time": "2022-08-14T18:41:15.038Z"
   },
   {
    "duration": 597,
    "start_time": "2022-08-14T18:41:15.306Z"
   },
   {
    "duration": 495,
    "start_time": "2022-08-14T18:41:15.906Z"
   },
   {
    "duration": 96,
    "start_time": "2022-08-14T18:41:16.403Z"
   },
   {
    "duration": 33,
    "start_time": "2022-08-14T18:41:16.501Z"
   },
   {
    "duration": 12,
    "start_time": "2022-08-14T18:41:16.535Z"
   },
   {
    "duration": 3,
    "start_time": "2022-08-14T18:41:16.549Z"
   },
   {
    "duration": 222,
    "start_time": "2022-08-14T18:41:16.554Z"
   },
   {
    "duration": 289,
    "start_time": "2022-08-14T18:41:16.778Z"
   },
   {
    "duration": 34,
    "start_time": "2022-08-14T18:41:17.069Z"
   },
   {
    "duration": 3,
    "start_time": "2022-08-14T18:41:17.105Z"
   },
   {
    "duration": 12,
    "start_time": "2022-08-14T18:41:17.110Z"
   },
   {
    "duration": 15,
    "start_time": "2022-08-14T18:41:17.123Z"
   },
   {
    "duration": 24,
    "start_time": "2022-08-14T18:41:17.140Z"
   },
   {
    "duration": 60,
    "start_time": "2022-08-14T18:41:17.166Z"
   },
   {
    "duration": 3,
    "start_time": "2022-08-14T18:41:17.228Z"
   },
   {
    "duration": 6,
    "start_time": "2022-08-14T18:41:17.233Z"
   },
   {
    "duration": 5857,
    "start_time": "2022-08-14T18:41:17.243Z"
   },
   {
    "duration": 4,
    "start_time": "2022-08-14T18:41:23.102Z"
   },
   {
    "duration": 3544959,
    "start_time": "2022-08-14T18:41:23.108Z"
   },
   {
    "duration": 188,
    "start_time": "2022-08-14T19:40:28.069Z"
   },
   {
    "duration": 56,
    "start_time": "2022-08-14T19:40:28.259Z"
   },
   {
    "duration": 12,
    "start_time": "2022-08-14T19:40:28.317Z"
   },
   {
    "duration": 6,
    "start_time": "2022-08-14T19:40:28.332Z"
   },
   {
    "duration": 7181,
    "start_time": "2022-08-14T19:45:13.022Z"
   },
   {
    "duration": 1443,
    "start_time": "2022-08-14T19:46:02.907Z"
   },
   {
    "duration": 750,
    "start_time": "2022-08-14T19:46:04.352Z"
   },
   {
    "duration": 2032,
    "start_time": "2022-08-14T19:46:05.104Z"
   },
   {
    "duration": 34,
    "start_time": "2022-08-14T19:46:07.139Z"
   },
   {
    "duration": 37,
    "start_time": "2022-08-14T19:46:07.175Z"
   },
   {
    "duration": 35,
    "start_time": "2022-08-14T19:46:07.214Z"
   },
   {
    "duration": 24,
    "start_time": "2022-08-14T19:46:07.251Z"
   },
   {
    "duration": 43,
    "start_time": "2022-08-14T19:46:07.277Z"
   },
   {
    "duration": 22,
    "start_time": "2022-08-14T19:46:07.324Z"
   },
   {
    "duration": 13,
    "start_time": "2022-08-14T19:46:07.350Z"
   },
   {
    "duration": 447,
    "start_time": "2022-08-14T19:46:07.366Z"
   },
   {
    "duration": 996,
    "start_time": "2022-08-14T19:46:07.817Z"
   },
   {
    "duration": 2099,
    "start_time": "2022-08-14T19:46:08.815Z"
   },
   {
    "duration": 87,
    "start_time": "2022-08-14T19:46:10.916Z"
   },
   {
    "duration": 119,
    "start_time": "2022-08-14T19:46:11.007Z"
   },
   {
    "duration": 73,
    "start_time": "2022-08-14T19:46:11.128Z"
   },
   {
    "duration": 5,
    "start_time": "2022-08-14T19:46:11.203Z"
   },
   {
    "duration": 616,
    "start_time": "2022-08-14T19:46:11.210Z"
   },
   {
    "duration": 879,
    "start_time": "2022-08-14T19:46:11.829Z"
   },
   {
    "duration": 20,
    "start_time": "2022-08-14T19:46:12.710Z"
   },
   {
    "duration": 28,
    "start_time": "2022-08-14T19:46:12.732Z"
   },
   {
    "duration": 21,
    "start_time": "2022-08-14T19:46:12.761Z"
   },
   {
    "duration": 37,
    "start_time": "2022-08-14T19:46:12.786Z"
   },
   {
    "duration": 50,
    "start_time": "2022-08-14T19:46:12.825Z"
   },
   {
    "duration": 56,
    "start_time": "2022-08-14T19:46:12.877Z"
   },
   {
    "duration": 3,
    "start_time": "2022-08-14T19:46:12.935Z"
   },
   {
    "duration": 15,
    "start_time": "2022-08-14T19:46:12.940Z"
   },
   {
    "duration": 216,
    "start_time": "2022-08-14T19:46:12.959Z"
   },
   {
    "duration": 64,
    "start_time": "2022-08-14T19:46:13.177Z"
   },
   {
    "duration": 4,
    "start_time": "2022-08-14T19:46:13.243Z"
   },
   {
    "duration": 3672,
    "start_time": "2022-08-14T19:46:13.249Z"
   },
   {
    "duration": 3392,
    "start_time": "2022-08-14T19:46:16.922Z"
   },
   {
    "duration": 13,
    "start_time": "2022-08-14T19:46:20.316Z"
   },
   {
    "duration": 1399,
    "start_time": "2022-08-14T19:46:49.080Z"
   },
   {
    "duration": 688,
    "start_time": "2022-08-14T19:46:50.481Z"
   },
   {
    "duration": 1746,
    "start_time": "2022-08-14T19:46:51.171Z"
   },
   {
    "duration": 28,
    "start_time": "2022-08-14T19:46:52.919Z"
   },
   {
    "duration": 19,
    "start_time": "2022-08-14T19:46:52.955Z"
   },
   {
    "duration": 30,
    "start_time": "2022-08-14T19:46:52.975Z"
   },
   {
    "duration": 8,
    "start_time": "2022-08-14T19:46:53.008Z"
   },
   {
    "duration": 29,
    "start_time": "2022-08-14T19:46:53.018Z"
   },
   {
    "duration": 8,
    "start_time": "2022-08-14T19:46:53.050Z"
   },
   {
    "duration": 14,
    "start_time": "2022-08-14T19:46:53.061Z"
   },
   {
    "duration": 426,
    "start_time": "2022-08-14T19:46:53.076Z"
   },
   {
    "duration": 812,
    "start_time": "2022-08-14T19:46:53.504Z"
   },
   {
    "duration": 995,
    "start_time": "2022-08-14T19:46:54.318Z"
   },
   {
    "duration": 5,
    "start_time": "2022-08-14T19:46:55.401Z"
   },
   {
    "duration": 109,
    "start_time": "2022-08-14T19:46:55.408Z"
   },
   {
    "duration": 12,
    "start_time": "2022-08-14T19:46:55.518Z"
   },
   {
    "duration": 4,
    "start_time": "2022-08-14T19:46:55.532Z"
   },
   {
    "duration": 230,
    "start_time": "2022-08-14T19:46:55.538Z"
   },
   {
    "duration": 294,
    "start_time": "2022-08-14T19:46:55.770Z"
   },
   {
    "duration": 35,
    "start_time": "2022-08-14T19:46:56.066Z"
   },
   {
    "duration": 3,
    "start_time": "2022-08-14T19:46:56.103Z"
   },
   {
    "duration": 7,
    "start_time": "2022-08-14T19:46:56.108Z"
   },
   {
    "duration": 15,
    "start_time": "2022-08-14T19:46:56.116Z"
   },
   {
    "duration": 26,
    "start_time": "2022-08-14T19:46:56.133Z"
   },
   {
    "duration": 84,
    "start_time": "2022-08-14T19:46:56.161Z"
   },
   {
    "duration": 4,
    "start_time": "2022-08-14T19:46:56.246Z"
   },
   {
    "duration": 8,
    "start_time": "2022-08-14T19:46:56.252Z"
   },
   {
    "duration": 3578,
    "start_time": "2022-08-14T19:46:56.264Z"
   },
   {
    "duration": 84542,
    "start_time": "2022-08-14T19:46:59.844Z"
   },
   {
    "duration": 517,
    "start_time": "2022-08-14T19:48:24.388Z"
   },
   {
    "duration": 3120,
    "start_time": "2022-08-14T19:48:24.907Z"
   },
   {
    "duration": 14,
    "start_time": "2022-08-14T19:48:28.030Z"
   },
   {
    "duration": 1375,
    "start_time": "2022-08-14T19:49:36.255Z"
   },
   {
    "duration": 717,
    "start_time": "2022-08-14T19:49:37.633Z"
   },
   {
    "duration": 2008,
    "start_time": "2022-08-14T19:49:38.352Z"
   },
   {
    "duration": 39,
    "start_time": "2022-08-14T19:49:40.363Z"
   },
   {
    "duration": 19,
    "start_time": "2022-08-14T19:49:40.404Z"
   },
   {
    "duration": 6,
    "start_time": "2022-08-14T19:49:40.425Z"
   },
   {
    "duration": 18,
    "start_time": "2022-08-14T19:49:40.433Z"
   },
   {
    "duration": 32,
    "start_time": "2022-08-14T19:49:40.453Z"
   },
   {
    "duration": 15,
    "start_time": "2022-08-14T19:49:40.487Z"
   },
   {
    "duration": 5,
    "start_time": "2022-08-14T19:49:40.506Z"
   },
   {
    "duration": 496,
    "start_time": "2022-08-14T19:49:40.513Z"
   },
   {
    "duration": 614,
    "start_time": "2022-08-14T19:49:41.011Z"
   },
   {
    "duration": 672,
    "start_time": "2022-08-14T19:49:41.630Z"
   },
   {
    "duration": 5,
    "start_time": "2022-08-14T19:49:42.304Z"
   },
   {
    "duration": 199,
    "start_time": "2022-08-14T19:49:42.311Z"
   },
   {
    "duration": 14,
    "start_time": "2022-08-14T19:49:42.512Z"
   },
   {
    "duration": 29,
    "start_time": "2022-08-14T19:49:42.528Z"
   },
   {
    "duration": 257,
    "start_time": "2022-08-14T19:49:42.559Z"
   },
   {
    "duration": 383,
    "start_time": "2022-08-14T19:49:42.817Z"
   },
   {
    "duration": 18,
    "start_time": "2022-08-14T19:49:43.202Z"
   },
   {
    "duration": 7,
    "start_time": "2022-08-14T19:49:43.222Z"
   },
   {
    "duration": 6,
    "start_time": "2022-08-14T19:49:43.230Z"
   },
   {
    "duration": 16,
    "start_time": "2022-08-14T19:49:43.238Z"
   },
   {
    "duration": 61,
    "start_time": "2022-08-14T19:49:43.256Z"
   },
   {
    "duration": 51,
    "start_time": "2022-08-14T19:49:43.320Z"
   },
   {
    "duration": 3,
    "start_time": "2022-08-14T19:49:43.373Z"
   },
   {
    "duration": 22,
    "start_time": "2022-08-14T19:49:43.378Z"
   },
   {
    "duration": 4012,
    "start_time": "2022-08-14T19:49:43.404Z"
   },
   {
    "duration": 84721,
    "start_time": "2022-08-14T19:49:47.418Z"
   },
   {
    "duration": 1856,
    "start_time": "2022-08-14T19:53:35.348Z"
   },
   {
    "duration": 1395,
    "start_time": "2022-08-14T19:53:37.206Z"
   },
   {
    "duration": 2965,
    "start_time": "2022-08-14T19:53:38.604Z"
   },
   {
    "duration": 49,
    "start_time": "2022-08-14T19:53:41.572Z"
   },
   {
    "duration": 28,
    "start_time": "2022-08-14T19:53:41.625Z"
   },
   {
    "duration": 8,
    "start_time": "2022-08-14T19:53:41.657Z"
   },
   {
    "duration": 16,
    "start_time": "2022-08-14T19:53:41.668Z"
   },
   {
    "duration": 33,
    "start_time": "2022-08-14T19:53:41.686Z"
   },
   {
    "duration": 6,
    "start_time": "2022-08-14T19:53:41.721Z"
   },
   {
    "duration": 8,
    "start_time": "2022-08-14T19:53:41.730Z"
   },
   {
    "duration": 975,
    "start_time": "2022-08-14T19:53:41.740Z"
   },
   {
    "duration": 587,
    "start_time": "2022-08-14T19:53:42.718Z"
   },
   {
    "duration": 705,
    "start_time": "2022-08-14T19:53:43.307Z"
   },
   {
    "duration": 89,
    "start_time": "2022-08-14T19:53:44.014Z"
   },
   {
    "duration": 118,
    "start_time": "2022-08-14T19:53:44.106Z"
   },
   {
    "duration": 16,
    "start_time": "2022-08-14T19:53:44.226Z"
   },
   {
    "duration": 5,
    "start_time": "2022-08-14T19:53:44.244Z"
   },
   {
    "duration": 259,
    "start_time": "2022-08-14T19:53:44.251Z"
   },
   {
    "duration": 300,
    "start_time": "2022-08-14T19:53:44.512Z"
   },
   {
    "duration": 19,
    "start_time": "2022-08-14T19:53:44.813Z"
   },
   {
    "duration": 5,
    "start_time": "2022-08-14T19:53:44.834Z"
   },
   {
    "duration": 9,
    "start_time": "2022-08-14T19:53:44.841Z"
   },
   {
    "duration": 14,
    "start_time": "2022-08-14T19:53:44.852Z"
   },
   {
    "duration": 57,
    "start_time": "2022-08-14T19:53:44.868Z"
   },
   {
    "duration": 48,
    "start_time": "2022-08-14T19:53:44.927Z"
   },
   {
    "duration": 4,
    "start_time": "2022-08-14T19:53:44.977Z"
   },
   {
    "duration": 30,
    "start_time": "2022-08-14T19:53:44.983Z"
   },
   {
    "duration": 908,
    "start_time": "2022-08-14T19:53:45.016Z"
   },
   {
    "duration": 82556,
    "start_time": "2022-08-14T19:53:45.931Z"
   },
   {
    "duration": 1365,
    "start_time": "2022-08-14T19:56:08.312Z"
   },
   {
    "duration": 741,
    "start_time": "2022-08-14T19:56:09.679Z"
   },
   {
    "duration": 1794,
    "start_time": "2022-08-14T19:56:10.422Z"
   },
   {
    "duration": 27,
    "start_time": "2022-08-14T19:56:12.220Z"
   },
   {
    "duration": 19,
    "start_time": "2022-08-14T19:56:12.249Z"
   },
   {
    "duration": 17,
    "start_time": "2022-08-14T19:56:12.301Z"
   },
   {
    "duration": 48,
    "start_time": "2022-08-14T19:56:12.320Z"
   },
   {
    "duration": 41,
    "start_time": "2022-08-14T19:56:12.370Z"
   },
   {
    "duration": 34,
    "start_time": "2022-08-14T19:56:12.413Z"
   },
   {
    "duration": 32,
    "start_time": "2022-08-14T19:56:12.450Z"
   },
   {
    "duration": 619,
    "start_time": "2022-08-14T19:56:12.484Z"
   },
   {
    "duration": 1098,
    "start_time": "2022-08-14T19:56:13.105Z"
   },
   {
    "duration": 1106,
    "start_time": "2022-08-14T19:56:14.205Z"
   },
   {
    "duration": 89,
    "start_time": "2022-08-14T19:56:15.313Z"
   },
   {
    "duration": 127,
    "start_time": "2022-08-14T19:56:15.404Z"
   },
   {
    "duration": 71,
    "start_time": "2022-08-14T19:56:15.533Z"
   },
   {
    "duration": 30,
    "start_time": "2022-08-14T19:56:15.605Z"
   },
   {
    "duration": 488,
    "start_time": "2022-08-14T19:56:15.637Z"
   },
   {
    "duration": 500,
    "start_time": "2022-08-14T19:56:16.127Z"
   },
   {
    "duration": 16,
    "start_time": "2022-08-14T19:56:16.629Z"
   },
   {
    "duration": 57,
    "start_time": "2022-08-14T19:56:16.646Z"
   },
   {
    "duration": 32,
    "start_time": "2022-08-14T19:56:16.705Z"
   },
   {
    "duration": 49,
    "start_time": "2022-08-14T19:56:16.739Z"
   },
   {
    "duration": 34,
    "start_time": "2022-08-14T19:56:16.790Z"
   },
   {
    "duration": 75,
    "start_time": "2022-08-14T19:56:16.826Z"
   },
   {
    "duration": 2,
    "start_time": "2022-08-14T19:56:16.903Z"
   },
   {
    "duration": 44,
    "start_time": "2022-08-14T19:56:16.907Z"
   },
   {
    "duration": 1386,
    "start_time": "2022-08-14T19:57:48.958Z"
   },
   {
    "duration": 679,
    "start_time": "2022-08-14T19:57:50.346Z"
   },
   {
    "duration": 1776,
    "start_time": "2022-08-14T19:57:51.027Z"
   },
   {
    "duration": 28,
    "start_time": "2022-08-14T19:57:52.805Z"
   },
   {
    "duration": 20,
    "start_time": "2022-08-14T19:57:52.835Z"
   },
   {
    "duration": 7,
    "start_time": "2022-08-14T19:57:52.856Z"
   },
   {
    "duration": 5,
    "start_time": "2022-08-14T19:57:52.901Z"
   },
   {
    "duration": 37,
    "start_time": "2022-08-14T19:57:52.908Z"
   },
   {
    "duration": 5,
    "start_time": "2022-08-14T19:57:52.947Z"
   },
   {
    "duration": 10,
    "start_time": "2022-08-14T19:57:52.955Z"
   },
   {
    "duration": 339,
    "start_time": "2022-08-14T19:57:52.967Z"
   },
   {
    "duration": 594,
    "start_time": "2022-08-14T19:57:53.308Z"
   },
   {
    "duration": 498,
    "start_time": "2022-08-14T19:57:53.905Z"
   },
   {
    "duration": 92,
    "start_time": "2022-08-14T19:57:54.410Z"
   },
   {
    "duration": 104,
    "start_time": "2022-08-14T19:57:54.504Z"
   },
   {
    "duration": 13,
    "start_time": "2022-08-14T19:57:54.610Z"
   },
   {
    "duration": 5,
    "start_time": "2022-08-14T19:57:54.625Z"
   },
   {
    "duration": 245,
    "start_time": "2022-08-14T19:57:54.632Z"
   },
   {
    "duration": 325,
    "start_time": "2022-08-14T19:57:54.878Z"
   },
   {
    "duration": 15,
    "start_time": "2022-08-14T19:57:55.204Z"
   },
   {
    "duration": 4,
    "start_time": "2022-08-14T19:57:55.221Z"
   },
   {
    "duration": 15,
    "start_time": "2022-08-14T19:57:55.226Z"
   },
   {
    "duration": 15,
    "start_time": "2022-08-14T19:57:55.243Z"
   },
   {
    "duration": 57,
    "start_time": "2022-08-14T19:57:55.260Z"
   },
   {
    "duration": 47,
    "start_time": "2022-08-14T19:57:55.320Z"
   },
   {
    "duration": 3,
    "start_time": "2022-08-14T19:57:55.369Z"
   },
   {
    "duration": 28,
    "start_time": "2022-08-14T19:57:55.374Z"
   },
   {
    "duration": 1362,
    "start_time": "2022-08-14T19:58:40.531Z"
   },
   {
    "duration": 774,
    "start_time": "2022-08-14T19:58:41.895Z"
   },
   {
    "duration": 1974,
    "start_time": "2022-08-14T19:58:42.672Z"
   },
   {
    "duration": 29,
    "start_time": "2022-08-14T19:58:44.648Z"
   },
   {
    "duration": 18,
    "start_time": "2022-08-14T19:58:44.701Z"
   },
   {
    "duration": 7,
    "start_time": "2022-08-14T19:58:44.720Z"
   },
   {
    "duration": 7,
    "start_time": "2022-08-14T19:58:44.729Z"
   },
   {
    "duration": 34,
    "start_time": "2022-08-14T19:58:44.738Z"
   },
   {
    "duration": 5,
    "start_time": "2022-08-14T19:58:44.800Z"
   },
   {
    "duration": 20,
    "start_time": "2022-08-14T19:58:44.808Z"
   },
   {
    "duration": 573,
    "start_time": "2022-08-14T19:58:44.830Z"
   },
   {
    "duration": 599,
    "start_time": "2022-08-14T19:58:45.404Z"
   },
   {
    "duration": 606,
    "start_time": "2022-08-14T19:58:46.005Z"
   },
   {
    "duration": 94,
    "start_time": "2022-08-14T19:58:46.614Z"
   },
   {
    "duration": 134,
    "start_time": "2022-08-14T19:58:46.711Z"
   },
   {
    "duration": 17,
    "start_time": "2022-08-14T19:58:46.847Z"
   },
   {
    "duration": 6,
    "start_time": "2022-08-14T19:58:46.866Z"
   },
   {
    "duration": 261,
    "start_time": "2022-08-14T19:58:46.874Z"
   },
   {
    "duration": 322,
    "start_time": "2022-08-14T19:58:47.137Z"
   },
   {
    "duration": 41,
    "start_time": "2022-08-14T19:58:47.460Z"
   },
   {
    "duration": 3,
    "start_time": "2022-08-14T19:58:47.503Z"
   },
   {
    "duration": 14,
    "start_time": "2022-08-14T19:58:47.508Z"
   },
   {
    "duration": 15,
    "start_time": "2022-08-14T19:58:47.523Z"
   },
   {
    "duration": 32,
    "start_time": "2022-08-14T19:58:47.540Z"
   },
   {
    "duration": 51,
    "start_time": "2022-08-14T19:58:47.599Z"
   },
   {
    "duration": 2,
    "start_time": "2022-08-14T19:58:47.652Z"
   },
   {
    "duration": 7,
    "start_time": "2022-08-14T19:58:47.656Z"
   },
   {
    "duration": 1411,
    "start_time": "2022-08-14T20:02:41.089Z"
   },
   {
    "duration": 678,
    "start_time": "2022-08-14T20:02:42.502Z"
   },
   {
    "duration": 1646,
    "start_time": "2022-08-14T20:02:43.182Z"
   },
   {
    "duration": 33,
    "start_time": "2022-08-14T20:02:44.830Z"
   },
   {
    "duration": 35,
    "start_time": "2022-08-14T20:02:44.865Z"
   },
   {
    "duration": 5,
    "start_time": "2022-08-14T20:02:44.902Z"
   },
   {
    "duration": 6,
    "start_time": "2022-08-14T20:02:44.908Z"
   },
   {
    "duration": 18,
    "start_time": "2022-08-14T20:02:44.915Z"
   },
   {
    "duration": 4,
    "start_time": "2022-08-14T20:02:44.934Z"
   },
   {
    "duration": 7,
    "start_time": "2022-08-14T20:02:44.940Z"
   },
   {
    "duration": 554,
    "start_time": "2022-08-14T20:02:44.949Z"
   },
   {
    "duration": 798,
    "start_time": "2022-08-14T20:02:45.506Z"
   },
   {
    "duration": 501,
    "start_time": "2022-08-14T20:02:46.306Z"
   },
   {
    "duration": 191,
    "start_time": "2022-08-14T20:02:46.810Z"
   },
   {
    "duration": 55,
    "start_time": "2022-08-14T20:02:47.003Z"
   },
   {
    "duration": 16,
    "start_time": "2022-08-14T20:02:47.060Z"
   },
   {
    "duration": 18,
    "start_time": "2022-08-14T20:02:47.078Z"
   },
   {
    "duration": 232,
    "start_time": "2022-08-14T20:02:47.098Z"
   },
   {
    "duration": 291,
    "start_time": "2022-08-14T20:02:47.332Z"
   },
   {
    "duration": 16,
    "start_time": "2022-08-14T20:02:47.625Z"
   },
   {
    "duration": 16,
    "start_time": "2022-08-14T20:02:47.643Z"
   },
   {
    "duration": 21,
    "start_time": "2022-08-14T20:02:47.660Z"
   },
   {
    "duration": 39,
    "start_time": "2022-08-14T20:02:47.683Z"
   },
   {
    "duration": 51,
    "start_time": "2022-08-14T20:02:47.723Z"
   },
   {
    "duration": 58,
    "start_time": "2022-08-14T20:02:47.775Z"
   },
   {
    "duration": 2,
    "start_time": "2022-08-14T20:02:47.835Z"
   },
   {
    "duration": 50,
    "start_time": "2022-08-14T20:02:47.839Z"
   },
   {
    "duration": 1364,
    "start_time": "2022-08-14T21:29:19.968Z"
   },
   {
    "duration": 714,
    "start_time": "2022-08-14T21:29:21.334Z"
   },
   {
    "duration": 1724,
    "start_time": "2022-08-14T21:29:22.049Z"
   },
   {
    "duration": 37,
    "start_time": "2022-08-14T21:29:23.776Z"
   },
   {
    "duration": 17,
    "start_time": "2022-08-14T21:29:23.815Z"
   },
   {
    "duration": 9,
    "start_time": "2022-08-14T21:29:23.833Z"
   },
   {
    "duration": 27,
    "start_time": "2022-08-14T21:29:23.844Z"
   },
   {
    "duration": 40,
    "start_time": "2022-08-14T21:29:23.874Z"
   },
   {
    "duration": 6,
    "start_time": "2022-08-14T21:29:23.916Z"
   },
   {
    "duration": 24,
    "start_time": "2022-08-14T21:29:23.925Z"
   },
   {
    "duration": 1053,
    "start_time": "2022-08-14T21:29:23.952Z"
   },
   {
    "duration": 1109,
    "start_time": "2022-08-14T21:29:25.009Z"
   },
   {
    "duration": 489,
    "start_time": "2022-08-14T21:29:26.123Z"
   },
   {
    "duration": 88,
    "start_time": "2022-08-14T21:29:26.614Z"
   },
   {
    "duration": 124,
    "start_time": "2022-08-14T21:29:26.704Z"
   },
   {
    "duration": 23,
    "start_time": "2022-08-14T21:29:26.830Z"
   },
   {
    "duration": 21,
    "start_time": "2022-08-14T21:29:26.855Z"
   },
   {
    "duration": 251,
    "start_time": "2022-08-14T21:29:26.878Z"
   },
   {
    "duration": 302,
    "start_time": "2022-08-14T21:29:27.131Z"
   },
   {
    "duration": 16,
    "start_time": "2022-08-14T21:29:27.434Z"
   },
   {
    "duration": 37,
    "start_time": "2022-08-14T21:29:27.452Z"
   },
   {
    "duration": 22,
    "start_time": "2022-08-14T21:29:27.491Z"
   },
   {
    "duration": 28,
    "start_time": "2022-08-14T21:29:27.515Z"
   },
   {
    "duration": 55,
    "start_time": "2022-08-14T21:29:27.545Z"
   },
   {
    "duration": 50,
    "start_time": "2022-08-14T21:29:27.602Z"
   },
   {
    "duration": 3,
    "start_time": "2022-08-14T21:29:27.654Z"
   },
   {
    "duration": 22,
    "start_time": "2022-08-14T21:29:27.658Z"
   },
   {
    "duration": 1332,
    "start_time": "2022-08-14T21:51:53.492Z"
   },
   {
    "duration": 682,
    "start_time": "2022-08-14T21:51:54.825Z"
   },
   {
    "duration": 1696,
    "start_time": "2022-08-14T21:51:55.509Z"
   },
   {
    "duration": 27,
    "start_time": "2022-08-14T21:51:57.207Z"
   },
   {
    "duration": 16,
    "start_time": "2022-08-14T21:51:57.235Z"
   },
   {
    "duration": 5,
    "start_time": "2022-08-14T21:51:57.253Z"
   },
   {
    "duration": 41,
    "start_time": "2022-08-14T21:51:57.260Z"
   },
   {
    "duration": 19,
    "start_time": "2022-08-14T21:51:57.303Z"
   },
   {
    "duration": 4,
    "start_time": "2022-08-14T21:51:57.323Z"
   },
   {
    "duration": 7,
    "start_time": "2022-08-14T21:51:57.330Z"
   },
   {
    "duration": 565,
    "start_time": "2022-08-14T21:51:57.338Z"
   },
   {
    "duration": 595,
    "start_time": "2022-08-14T21:51:57.905Z"
   },
   {
    "duration": 900,
    "start_time": "2022-08-14T21:51:58.502Z"
   },
   {
    "duration": 97,
    "start_time": "2022-08-14T21:51:59.404Z"
   },
   {
    "duration": 115,
    "start_time": "2022-08-14T21:51:59.502Z"
   },
   {
    "duration": 11,
    "start_time": "2022-08-14T21:51:59.618Z"
   },
   {
    "duration": 4,
    "start_time": "2022-08-14T21:51:59.631Z"
   },
   {
    "duration": 232,
    "start_time": "2022-08-14T21:51:59.636Z"
   },
   {
    "duration": 311,
    "start_time": "2022-08-14T21:51:59.869Z"
   },
   {
    "duration": 30,
    "start_time": "2022-08-14T21:52:00.181Z"
   },
   {
    "duration": 7,
    "start_time": "2022-08-14T21:52:00.213Z"
   },
   {
    "duration": 6,
    "start_time": "2022-08-14T21:52:00.221Z"
   },
   {
    "duration": 18,
    "start_time": "2022-08-14T21:52:00.229Z"
   },
   {
    "duration": 29,
    "start_time": "2022-08-14T21:52:00.249Z"
   },
   {
    "duration": 64,
    "start_time": "2022-08-14T21:52:00.280Z"
   },
   {
    "duration": 3,
    "start_time": "2022-08-14T21:52:00.346Z"
   },
   {
    "duration": 11,
    "start_time": "2022-08-14T21:52:00.350Z"
   },
   {
    "duration": 1416,
    "start_time": "2022-08-15T04:40:53.571Z"
   },
   {
    "duration": 698,
    "start_time": "2022-08-15T04:40:54.988Z"
   },
   {
    "duration": 1739,
    "start_time": "2022-08-15T04:40:55.688Z"
   },
   {
    "duration": 28,
    "start_time": "2022-08-15T04:40:57.430Z"
   },
   {
    "duration": 49,
    "start_time": "2022-08-15T04:40:57.459Z"
   },
   {
    "duration": 6,
    "start_time": "2022-08-15T04:40:57.512Z"
   },
   {
    "duration": 14,
    "start_time": "2022-08-15T04:40:57.520Z"
   },
   {
    "duration": 37,
    "start_time": "2022-08-15T04:40:57.535Z"
   },
   {
    "duration": 4,
    "start_time": "2022-08-15T04:40:57.574Z"
   },
   {
    "duration": 31,
    "start_time": "2022-08-15T04:40:57.581Z"
   },
   {
    "duration": 1204,
    "start_time": "2022-08-15T04:40:57.614Z"
   },
   {
    "duration": 1009,
    "start_time": "2022-08-15T04:40:58.821Z"
   },
   {
    "duration": 985,
    "start_time": "2022-08-15T04:40:59.832Z"
   },
   {
    "duration": 88,
    "start_time": "2022-08-15T04:41:00.819Z"
   },
   {
    "duration": 119,
    "start_time": "2022-08-15T04:41:00.909Z"
   },
   {
    "duration": 13,
    "start_time": "2022-08-15T04:41:01.030Z"
   },
   {
    "duration": 4,
    "start_time": "2022-08-15T04:41:01.045Z"
   },
   {
    "duration": 322,
    "start_time": "2022-08-15T04:41:01.050Z"
   },
   {
    "duration": 447,
    "start_time": "2022-08-15T04:41:01.374Z"
   },
   {
    "duration": 15,
    "start_time": "2022-08-15T04:41:01.823Z"
   },
   {
    "duration": 11,
    "start_time": "2022-08-15T04:41:01.840Z"
   },
   {
    "duration": 19,
    "start_time": "2022-08-15T04:41:01.852Z"
   },
   {
    "duration": 16,
    "start_time": "2022-08-15T04:41:01.873Z"
   },
   {
    "duration": 45,
    "start_time": "2022-08-15T04:41:01.891Z"
   },
   {
    "duration": 48,
    "start_time": "2022-08-15T04:41:01.938Z"
   },
   {
    "duration": 17,
    "start_time": "2022-08-15T04:41:01.988Z"
   },
   {
    "duration": 24,
    "start_time": "2022-08-15T04:41:02.010Z"
   },
   {
    "duration": 1351,
    "start_time": "2022-08-15T04:49:14.882Z"
   },
   {
    "duration": 714,
    "start_time": "2022-08-15T04:49:16.235Z"
   },
   {
    "duration": 1772,
    "start_time": "2022-08-15T04:49:16.951Z"
   },
   {
    "duration": 31,
    "start_time": "2022-08-15T04:49:18.725Z"
   },
   {
    "duration": 14,
    "start_time": "2022-08-15T04:49:18.758Z"
   },
   {
    "duration": 14,
    "start_time": "2022-08-15T04:49:18.802Z"
   },
   {
    "duration": 7,
    "start_time": "2022-08-15T04:49:18.817Z"
   },
   {
    "duration": 21,
    "start_time": "2022-08-15T04:49:18.825Z"
   },
   {
    "duration": 3,
    "start_time": "2022-08-15T04:49:18.848Z"
   },
   {
    "duration": 5,
    "start_time": "2022-08-15T04:49:18.854Z"
   },
   {
    "duration": 763,
    "start_time": "2022-08-15T04:49:18.861Z"
   },
   {
    "duration": 989,
    "start_time": "2022-08-15T04:49:19.626Z"
   },
   {
    "duration": 1483,
    "start_time": "2022-08-15T04:49:20.617Z"
   },
   {
    "duration": 4,
    "start_time": "2022-08-15T04:49:22.102Z"
   },
   {
    "duration": 121,
    "start_time": "2022-08-15T04:49:22.120Z"
   },
   {
    "duration": 12,
    "start_time": "2022-08-15T04:49:22.242Z"
   },
   {
    "duration": 5,
    "start_time": "2022-08-15T04:49:22.255Z"
   },
   {
    "duration": 252,
    "start_time": "2022-08-15T04:49:22.261Z"
   },
   {
    "duration": 297,
    "start_time": "2022-08-15T04:49:22.518Z"
   },
   {
    "duration": 16,
    "start_time": "2022-08-15T04:49:22.816Z"
   },
   {
    "duration": 3,
    "start_time": "2022-08-15T04:49:22.833Z"
   },
   {
    "duration": 5,
    "start_time": "2022-08-15T04:49:22.838Z"
   },
   {
    "duration": 15,
    "start_time": "2022-08-15T04:49:22.845Z"
   },
   {
    "duration": 51,
    "start_time": "2022-08-15T04:49:22.862Z"
   },
   {
    "duration": 44,
    "start_time": "2022-08-15T04:49:22.917Z"
   },
   {
    "duration": 3,
    "start_time": "2022-08-15T04:49:22.963Z"
   },
   {
    "duration": 12,
    "start_time": "2022-08-15T04:49:22.967Z"
   },
   {
    "duration": 1489,
    "start_time": "2022-08-15T05:18:14.683Z"
   },
   {
    "duration": 712,
    "start_time": "2022-08-15T05:18:16.174Z"
   },
   {
    "duration": 1692,
    "start_time": "2022-08-15T05:18:16.890Z"
   },
   {
    "duration": 40,
    "start_time": "2022-08-15T05:18:18.583Z"
   },
   {
    "duration": 15,
    "start_time": "2022-08-15T05:18:18.626Z"
   },
   {
    "duration": 5,
    "start_time": "2022-08-15T05:18:18.643Z"
   },
   {
    "duration": 6,
    "start_time": "2022-08-15T05:18:18.650Z"
   },
   {
    "duration": 48,
    "start_time": "2022-08-15T05:18:18.658Z"
   },
   {
    "duration": 16,
    "start_time": "2022-08-15T05:18:18.709Z"
   },
   {
    "duration": 10,
    "start_time": "2022-08-15T05:18:18.726Z"
   },
   {
    "duration": 3572,
    "start_time": "2022-08-15T05:18:18.738Z"
   },
   {
    "duration": 998,
    "start_time": "2022-08-15T05:18:22.319Z"
   },
   {
    "duration": 982,
    "start_time": "2022-08-15T05:18:23.322Z"
   },
   {
    "duration": 8,
    "start_time": "2022-08-15T05:18:24.309Z"
   },
   {
    "duration": 123,
    "start_time": "2022-08-15T05:18:24.322Z"
   },
   {
    "duration": 13,
    "start_time": "2022-08-15T05:18:24.446Z"
   },
   {
    "duration": 45,
    "start_time": "2022-08-15T05:18:24.460Z"
   },
   {
    "duration": 238,
    "start_time": "2022-08-15T05:18:24.513Z"
   },
   {
    "duration": 324,
    "start_time": "2022-08-15T05:18:24.753Z"
   },
   {
    "duration": 32,
    "start_time": "2022-08-15T05:18:25.079Z"
   },
   {
    "duration": 5,
    "start_time": "2022-08-15T05:18:25.113Z"
   },
   {
    "duration": 8,
    "start_time": "2022-08-15T05:18:25.120Z"
   },
   {
    "duration": 14,
    "start_time": "2022-08-15T05:18:25.130Z"
   },
   {
    "duration": 24,
    "start_time": "2022-08-15T05:18:25.146Z"
   },
   {
    "duration": 58,
    "start_time": "2022-08-15T05:18:25.171Z"
   },
   {
    "duration": 2,
    "start_time": "2022-08-15T05:18:25.231Z"
   },
   {
    "duration": 10,
    "start_time": "2022-08-15T05:18:25.236Z"
   },
   {
    "duration": 6472574,
    "start_time": "2022-08-15T05:18:25.248Z"
   },
   {
    "duration": 792,
    "start_time": "2022-08-15T07:06:17.824Z"
   },
   {
    "duration": 78706,
    "start_time": "2022-08-15T07:06:18.618Z"
   },
   {
    "duration": 58,
    "start_time": "2022-08-15T07:07:37.325Z"
   },
   {
    "duration": 19,
    "start_time": "2022-08-15T07:07:37.384Z"
   },
   {
    "duration": 38,
    "start_time": "2022-08-15T07:07:37.404Z"
   },
   {
    "duration": 112,
    "start_time": "2022-08-15T07:07:37.443Z"
   },
   {
    "duration": 1436,
    "start_time": "2022-08-15T07:13:58.437Z"
   },
   {
    "duration": 718,
    "start_time": "2022-08-15T07:13:59.875Z"
   },
   {
    "duration": 1738,
    "start_time": "2022-08-15T07:14:00.595Z"
   },
   {
    "duration": 24,
    "start_time": "2022-08-15T07:14:02.335Z"
   },
   {
    "duration": 14,
    "start_time": "2022-08-15T07:14:02.360Z"
   },
   {
    "duration": 26,
    "start_time": "2022-08-15T07:14:02.376Z"
   },
   {
    "duration": 10,
    "start_time": "2022-08-15T07:14:02.404Z"
   },
   {
    "duration": 24,
    "start_time": "2022-08-15T07:14:02.415Z"
   },
   {
    "duration": 3,
    "start_time": "2022-08-15T07:14:02.441Z"
   },
   {
    "duration": 16,
    "start_time": "2022-08-15T07:14:02.446Z"
   },
   {
    "duration": 341,
    "start_time": "2022-08-15T07:14:02.463Z"
   },
   {
    "duration": 697,
    "start_time": "2022-08-15T07:14:02.806Z"
   },
   {
    "duration": 998,
    "start_time": "2022-08-15T07:14:03.504Z"
   },
   {
    "duration": 6,
    "start_time": "2022-08-15T07:14:04.505Z"
   },
   {
    "duration": 125,
    "start_time": "2022-08-15T07:14:04.602Z"
   },
   {
    "duration": 72,
    "start_time": "2022-08-15T07:14:04.729Z"
   },
   {
    "duration": 7,
    "start_time": "2022-08-15T07:14:04.803Z"
   },
   {
    "duration": 495,
    "start_time": "2022-08-15T07:14:04.811Z"
   },
   {
    "duration": 593,
    "start_time": "2022-08-15T07:14:05.308Z"
   },
   {
    "duration": 14,
    "start_time": "2022-08-15T07:14:05.903Z"
   },
   {
    "duration": 3,
    "start_time": "2022-08-15T07:14:05.919Z"
   },
   {
    "duration": 8,
    "start_time": "2022-08-15T07:14:05.923Z"
   },
   {
    "duration": 15,
    "start_time": "2022-08-15T07:14:05.932Z"
   },
   {
    "duration": 70,
    "start_time": "2022-08-15T07:14:05.949Z"
   },
   {
    "duration": 98,
    "start_time": "2022-08-15T07:14:06.020Z"
   },
   {
    "duration": 2,
    "start_time": "2022-08-15T07:14:06.120Z"
   },
   {
    "duration": 12,
    "start_time": "2022-08-15T07:14:06.123Z"
   },
   {
    "duration": 118107,
    "start_time": "2022-08-15T07:14:06.137Z"
   },
   {
    "duration": 1054,
    "start_time": "2022-08-15T07:16:04.246Z"
   },
   {
    "duration": 79248,
    "start_time": "2022-08-15T07:16:05.306Z"
   },
   {
    "duration": 54,
    "start_time": "2022-08-15T07:17:24.555Z"
   },
   {
    "duration": 7,
    "start_time": "2022-08-15T07:17:24.611Z"
   },
   {
    "duration": 17,
    "start_time": "2022-08-15T07:17:24.620Z"
   },
   {
    "duration": 964,
    "start_time": "2022-08-15T07:17:24.638Z"
   },
   {
    "duration": 15,
    "start_time": "2022-08-15T07:18:16.705Z"
   },
   {
    "duration": 13,
    "start_time": "2022-08-15T07:18:25.971Z"
   },
   {
    "duration": 12,
    "start_time": "2022-08-15T07:18:29.732Z"
   },
   {
    "duration": 15,
    "start_time": "2022-08-15T07:18:51.303Z"
   },
   {
    "duration": 11,
    "start_time": "2022-08-15T07:19:11.220Z"
   },
   {
    "duration": 14,
    "start_time": "2022-08-15T07:19:15.077Z"
   },
   {
    "duration": 21,
    "start_time": "2022-08-15T07:19:27.865Z"
   },
   {
    "duration": 1248,
    "start_time": "2022-08-15T07:21:29.052Z"
   },
   {
    "duration": 1248,
    "start_time": "2022-08-15T07:21:39.083Z"
   },
   {
    "duration": 1064,
    "start_time": "2022-08-15T07:21:51.823Z"
   },
   {
    "duration": 13,
    "start_time": "2022-08-15T07:22:21.378Z"
   },
   {
    "duration": 17,
    "start_time": "2022-08-15T07:22:47.079Z"
   },
   {
    "duration": 15,
    "start_time": "2022-08-15T07:23:01.369Z"
   },
   {
    "duration": 15,
    "start_time": "2022-08-15T07:23:13.218Z"
   },
   {
    "duration": 53,
    "start_time": "2022-08-15T07:23:49.796Z"
   },
   {
    "duration": 62,
    "start_time": "2022-08-15T07:23:57.270Z"
   },
   {
    "duration": 23,
    "start_time": "2022-08-15T07:24:05.773Z"
   },
   {
    "duration": 238298,
    "start_time": "2022-08-15T07:26:11.504Z"
   },
   {
    "duration": 1424,
    "start_time": "2022-08-15T07:32:26.107Z"
   },
   {
    "duration": 669,
    "start_time": "2022-08-15T07:32:27.533Z"
   },
   {
    "duration": 1668,
    "start_time": "2022-08-15T07:32:28.203Z"
   },
   {
    "duration": 37,
    "start_time": "2022-08-15T07:32:29.873Z"
   },
   {
    "duration": 15,
    "start_time": "2022-08-15T07:32:29.912Z"
   },
   {
    "duration": 6,
    "start_time": "2022-08-15T07:32:29.929Z"
   },
   {
    "duration": 13,
    "start_time": "2022-08-15T07:32:29.937Z"
   },
   {
    "duration": 33,
    "start_time": "2022-08-15T07:32:29.952Z"
   },
   {
    "duration": 14,
    "start_time": "2022-08-15T07:32:29.987Z"
   },
   {
    "duration": 35,
    "start_time": "2022-08-15T07:32:30.003Z"
   },
   {
    "duration": 662,
    "start_time": "2022-08-15T07:32:30.040Z"
   },
   {
    "duration": 901,
    "start_time": "2022-08-15T07:32:30.704Z"
   },
   {
    "duration": 693,
    "start_time": "2022-08-15T07:32:31.607Z"
   },
   {
    "duration": 7,
    "start_time": "2022-08-15T07:32:32.303Z"
   },
   {
    "duration": 122,
    "start_time": "2022-08-15T07:32:32.312Z"
   },
   {
    "duration": 12,
    "start_time": "2022-08-15T07:32:32.435Z"
   },
   {
    "duration": 8,
    "start_time": "2022-08-15T07:32:32.449Z"
   },
   {
    "duration": 217,
    "start_time": "2022-08-15T07:32:32.459Z"
   },
   {
    "duration": 342,
    "start_time": "2022-08-15T07:32:32.679Z"
   },
   {
    "duration": 17,
    "start_time": "2022-08-15T07:32:33.023Z"
   },
   {
    "duration": 9,
    "start_time": "2022-08-15T07:32:33.041Z"
   },
   {
    "duration": 9,
    "start_time": "2022-08-15T07:32:33.052Z"
   },
   {
    "duration": 21,
    "start_time": "2022-08-15T07:32:33.062Z"
   },
   {
    "duration": 38,
    "start_time": "2022-08-15T07:32:33.084Z"
   },
   {
    "duration": 48,
    "start_time": "2022-08-15T07:32:33.123Z"
   },
   {
    "duration": 2,
    "start_time": "2022-08-15T07:32:33.173Z"
   },
   {
    "duration": 26,
    "start_time": "2022-08-15T07:32:33.177Z"
   },
   {
    "duration": 0,
    "start_time": "2022-08-15T07:32:33.205Z"
   },
   {
    "duration": 0,
    "start_time": "2022-08-15T07:32:33.206Z"
   },
   {
    "duration": 0,
    "start_time": "2022-08-15T07:32:33.207Z"
   },
   {
    "duration": 0,
    "start_time": "2022-08-15T07:32:33.208Z"
   },
   {
    "duration": 0,
    "start_time": "2022-08-15T07:32:33.209Z"
   },
   {
    "duration": 0,
    "start_time": "2022-08-15T07:32:33.211Z"
   },
   {
    "duration": 5,
    "start_time": "2022-08-15T07:44:55.141Z"
   },
   {
    "duration": 1417,
    "start_time": "2022-08-15T07:45:01.640Z"
   },
   {
    "duration": 663,
    "start_time": "2022-08-15T07:45:03.059Z"
   },
   {
    "duration": 1812,
    "start_time": "2022-08-15T07:45:03.723Z"
   },
   {
    "duration": 27,
    "start_time": "2022-08-15T07:45:05.537Z"
   },
   {
    "duration": 35,
    "start_time": "2022-08-15T07:45:05.566Z"
   },
   {
    "duration": 5,
    "start_time": "2022-08-15T07:45:05.603Z"
   },
   {
    "duration": 26,
    "start_time": "2022-08-15T07:45:05.610Z"
   },
   {
    "duration": 25,
    "start_time": "2022-08-15T07:45:05.638Z"
   },
   {
    "duration": 6,
    "start_time": "2022-08-15T07:45:05.665Z"
   },
   {
    "duration": 10,
    "start_time": "2022-08-15T07:45:05.674Z"
   },
   {
    "duration": 317,
    "start_time": "2022-08-15T07:45:05.686Z"
   },
   {
    "duration": 598,
    "start_time": "2022-08-15T07:45:06.005Z"
   },
   {
    "duration": 698,
    "start_time": "2022-08-15T07:45:06.605Z"
   },
   {
    "duration": 9,
    "start_time": "2022-08-15T07:45:07.305Z"
   },
   {
    "duration": 99,
    "start_time": "2022-08-15T07:45:07.401Z"
   },
   {
    "duration": 13,
    "start_time": "2022-08-15T07:45:07.502Z"
   },
   {
    "duration": 5,
    "start_time": "2022-08-15T07:45:07.516Z"
   },
   {
    "duration": 230,
    "start_time": "2022-08-15T07:45:07.522Z"
   },
   {
    "duration": 282,
    "start_time": "2022-08-15T07:45:07.753Z"
   },
   {
    "duration": 13,
    "start_time": "2022-08-15T07:45:08.037Z"
   },
   {
    "duration": 2,
    "start_time": "2022-08-15T07:45:08.052Z"
   },
   {
    "duration": 7,
    "start_time": "2022-08-15T07:45:08.056Z"
   },
   {
    "duration": 41,
    "start_time": "2022-08-15T07:45:08.065Z"
   },
   {
    "duration": 23,
    "start_time": "2022-08-15T07:45:08.108Z"
   },
   {
    "duration": 45,
    "start_time": "2022-08-15T07:45:08.133Z"
   },
   {
    "duration": 19,
    "start_time": "2022-08-15T07:45:08.181Z"
   },
   {
    "duration": 7,
    "start_time": "2022-08-15T07:45:08.202Z"
   },
   {
    "duration": 123072,
    "start_time": "2022-08-15T07:45:08.213Z"
   },
   {
    "duration": 747,
    "start_time": "2022-08-15T07:47:11.286Z"
   },
   {
    "duration": 81168,
    "start_time": "2022-08-15T07:47:12.035Z"
   },
   {
    "duration": 70,
    "start_time": "2022-08-15T07:48:33.205Z"
   },
   {
    "duration": 152,
    "start_time": "2022-08-15T07:48:33.277Z"
   },
   {
    "duration": 0,
    "start_time": "2022-08-15T07:48:33.431Z"
   },
   {
    "duration": 15,
    "start_time": "2022-08-15T07:51:38.302Z"
   },
   {
    "duration": 1317,
    "start_time": "2022-08-15T07:51:44.339Z"
   },
   {
    "duration": 733,
    "start_time": "2022-08-15T07:51:45.659Z"
   },
   {
    "duration": 1680,
    "start_time": "2022-08-15T07:51:46.394Z"
   },
   {
    "duration": 36,
    "start_time": "2022-08-15T07:51:48.076Z"
   },
   {
    "duration": 16,
    "start_time": "2022-08-15T07:51:48.114Z"
   },
   {
    "duration": 12,
    "start_time": "2022-08-15T07:51:48.131Z"
   },
   {
    "duration": 13,
    "start_time": "2022-08-15T07:51:48.144Z"
   },
   {
    "duration": 20,
    "start_time": "2022-08-15T07:51:48.160Z"
   },
   {
    "duration": 20,
    "start_time": "2022-08-15T07:51:48.182Z"
   },
   {
    "duration": 7,
    "start_time": "2022-08-15T07:51:48.204Z"
   },
   {
    "duration": 499,
    "start_time": "2022-08-15T07:51:48.213Z"
   },
   {
    "duration": 1086,
    "start_time": "2022-08-15T07:51:48.714Z"
   },
   {
    "duration": 602,
    "start_time": "2022-08-15T07:51:49.802Z"
   },
   {
    "duration": 90,
    "start_time": "2022-08-15T07:51:50.413Z"
   },
   {
    "duration": 118,
    "start_time": "2022-08-15T07:51:50.504Z"
   },
   {
    "duration": 14,
    "start_time": "2022-08-15T07:51:50.624Z"
   },
   {
    "duration": 14,
    "start_time": "2022-08-15T07:51:50.639Z"
   },
   {
    "duration": 253,
    "start_time": "2022-08-15T07:51:50.655Z"
   },
   {
    "duration": 289,
    "start_time": "2022-08-15T07:51:50.910Z"
   },
   {
    "duration": 16,
    "start_time": "2022-08-15T07:51:51.201Z"
   },
   {
    "duration": 3,
    "start_time": "2022-08-15T07:51:51.218Z"
   },
   {
    "duration": 19,
    "start_time": "2022-08-15T07:51:51.223Z"
   },
   {
    "duration": 21,
    "start_time": "2022-08-15T07:51:51.243Z"
   },
   {
    "duration": 25,
    "start_time": "2022-08-15T07:51:51.266Z"
   },
   {
    "duration": 50,
    "start_time": "2022-08-15T07:51:51.300Z"
   },
   {
    "duration": 4,
    "start_time": "2022-08-15T07:51:51.351Z"
   },
   {
    "duration": 11,
    "start_time": "2022-08-15T07:51:51.357Z"
   },
   {
    "duration": 121212,
    "start_time": "2022-08-15T07:51:51.370Z"
   },
   {
    "duration": 836,
    "start_time": "2022-08-15T07:53:52.584Z"
   },
   {
    "duration": 81068,
    "start_time": "2022-08-15T07:53:53.422Z"
   },
   {
    "duration": 59,
    "start_time": "2022-08-15T07:55:14.492Z"
   },
   {
    "duration": 11,
    "start_time": "2022-08-15T07:55:14.553Z"
   },
   {
    "duration": 120014,
    "start_time": "2022-08-15T07:55:14.566Z"
   },
   {
    "duration": 3155,
    "start_time": "2022-08-15T09:37:16.167Z"
   },
   {
    "duration": 3128,
    "start_time": "2022-08-15T09:37:19.325Z"
   },
   {
    "duration": 1655,
    "start_time": "2022-08-15T09:37:22.454Z"
   },
   {
    "duration": 26,
    "start_time": "2022-08-15T09:37:24.111Z"
   },
   {
    "duration": 14,
    "start_time": "2022-08-15T09:37:24.139Z"
   },
   {
    "duration": 34,
    "start_time": "2022-08-15T09:37:24.154Z"
   },
   {
    "duration": 5,
    "start_time": "2022-08-15T09:37:24.189Z"
   },
   {
    "duration": 19,
    "start_time": "2022-08-15T09:37:24.195Z"
   },
   {
    "duration": 4,
    "start_time": "2022-08-15T09:37:24.216Z"
   },
   {
    "duration": 9,
    "start_time": "2022-08-15T09:37:24.222Z"
   },
   {
    "duration": 557,
    "start_time": "2022-08-15T09:37:24.232Z"
   },
   {
    "duration": 498,
    "start_time": "2022-08-15T09:37:24.791Z"
   },
   {
    "duration": 599,
    "start_time": "2022-08-15T09:37:25.291Z"
   },
   {
    "duration": 4,
    "start_time": "2022-08-15T09:37:25.893Z"
   },
   {
    "duration": 196,
    "start_time": "2022-08-15T09:37:25.899Z"
   },
   {
    "duration": 12,
    "start_time": "2022-08-15T09:37:26.096Z"
   },
   {
    "duration": 4,
    "start_time": "2022-08-15T09:37:26.110Z"
   },
   {
    "duration": 290,
    "start_time": "2022-08-15T09:37:26.116Z"
   },
   {
    "duration": 342,
    "start_time": "2022-08-15T09:37:26.408Z"
   },
   {
    "duration": 17,
    "start_time": "2022-08-15T09:37:26.752Z"
   },
   {
    "duration": 4,
    "start_time": "2022-08-15T09:37:26.787Z"
   },
   {
    "duration": 7,
    "start_time": "2022-08-15T09:37:26.793Z"
   },
   {
    "duration": 13,
    "start_time": "2022-08-15T09:37:26.802Z"
   },
   {
    "duration": 27,
    "start_time": "2022-08-15T09:37:26.817Z"
   },
   {
    "duration": 61,
    "start_time": "2022-08-15T09:37:26.846Z"
   },
   {
    "duration": 69,
    "start_time": "2022-08-15T10:16:22.949Z"
   },
   {
    "duration": 43,
    "start_time": "2022-08-15T10:35:40.638Z"
   },
   {
    "duration": 1629,
    "start_time": "2022-08-15T10:35:45.128Z"
   },
   {
    "duration": 3101,
    "start_time": "2022-08-15T10:35:46.759Z"
   },
   {
    "duration": 2355,
    "start_time": "2022-08-15T10:35:49.862Z"
   },
   {
    "duration": 25,
    "start_time": "2022-08-15T10:35:52.218Z"
   },
   {
    "duration": 69,
    "start_time": "2022-08-15T10:35:52.244Z"
   },
   {
    "duration": 12,
    "start_time": "2022-08-15T10:35:52.314Z"
   },
   {
    "duration": 10,
    "start_time": "2022-08-15T10:35:52.328Z"
   },
   {
    "duration": 67,
    "start_time": "2022-08-15T10:35:52.339Z"
   },
   {
    "duration": 6,
    "start_time": "2022-08-15T10:35:52.408Z"
   },
   {
    "duration": 10,
    "start_time": "2022-08-15T10:35:52.416Z"
   },
   {
    "duration": 777,
    "start_time": "2022-08-15T10:35:52.428Z"
   },
   {
    "duration": 700,
    "start_time": "2022-08-15T10:35:53.207Z"
   },
   {
    "duration": 702,
    "start_time": "2022-08-15T10:35:53.909Z"
   },
   {
    "duration": 5,
    "start_time": "2022-08-15T10:35:54.705Z"
   },
   {
    "duration": 119,
    "start_time": "2022-08-15T10:35:54.712Z"
   },
   {
    "duration": 12,
    "start_time": "2022-08-15T10:35:54.833Z"
   },
   {
    "duration": 4,
    "start_time": "2022-08-15T10:35:54.847Z"
   },
   {
    "duration": 259,
    "start_time": "2022-08-15T10:35:54.852Z"
   },
   {
    "duration": 302,
    "start_time": "2022-08-15T10:35:55.113Z"
   },
   {
    "duration": 15,
    "start_time": "2022-08-15T10:35:55.417Z"
   },
   {
    "duration": 4,
    "start_time": "2022-08-15T10:35:55.434Z"
   },
   {
    "duration": 6,
    "start_time": "2022-08-15T10:35:55.439Z"
   },
   {
    "duration": 15,
    "start_time": "2022-08-15T10:35:55.447Z"
   },
   {
    "duration": 51,
    "start_time": "2022-08-15T10:35:55.464Z"
   },
   {
    "duration": 45,
    "start_time": "2022-08-15T10:35:55.517Z"
   },
   {
    "duration": 3,
    "start_time": "2022-08-15T10:35:55.563Z"
   },
   {
    "duration": 7,
    "start_time": "2022-08-15T10:35:55.568Z"
   },
   {
    "duration": 1402,
    "start_time": "2022-08-15T10:36:43.287Z"
   },
   {
    "duration": 1026,
    "start_time": "2022-08-15T10:36:44.691Z"
   },
   {
    "duration": 3440,
    "start_time": "2022-08-15T10:36:45.718Z"
   },
   {
    "duration": 42,
    "start_time": "2022-08-15T10:36:49.161Z"
   },
   {
    "duration": 19,
    "start_time": "2022-08-15T10:36:49.205Z"
   },
   {
    "duration": 7,
    "start_time": "2022-08-15T10:36:49.227Z"
   },
   {
    "duration": 132,
    "start_time": "2022-08-15T10:36:49.235Z"
   },
   {
    "duration": 0,
    "start_time": "2022-08-15T10:36:49.369Z"
   },
   {
    "duration": 0,
    "start_time": "2022-08-15T10:36:49.370Z"
   },
   {
    "duration": 0,
    "start_time": "2022-08-15T10:36:49.371Z"
   },
   {
    "duration": 0,
    "start_time": "2022-08-15T10:36:49.372Z"
   },
   {
    "duration": 0,
    "start_time": "2022-08-15T10:36:49.373Z"
   },
   {
    "duration": 1,
    "start_time": "2022-08-15T10:36:49.374Z"
   },
   {
    "duration": 0,
    "start_time": "2022-08-15T10:36:49.376Z"
   },
   {
    "duration": 0,
    "start_time": "2022-08-15T10:36:49.377Z"
   },
   {
    "duration": 0,
    "start_time": "2022-08-15T10:36:49.378Z"
   },
   {
    "duration": 0,
    "start_time": "2022-08-15T10:36:49.379Z"
   },
   {
    "duration": 0,
    "start_time": "2022-08-15T10:36:49.380Z"
   },
   {
    "duration": 0,
    "start_time": "2022-08-15T10:36:49.403Z"
   },
   {
    "duration": 0,
    "start_time": "2022-08-15T10:36:49.405Z"
   },
   {
    "duration": 0,
    "start_time": "2022-08-15T10:36:49.406Z"
   },
   {
    "duration": 0,
    "start_time": "2022-08-15T10:36:49.407Z"
   },
   {
    "duration": 0,
    "start_time": "2022-08-15T10:36:49.408Z"
   },
   {
    "duration": 0,
    "start_time": "2022-08-15T10:36:49.409Z"
   },
   {
    "duration": 0,
    "start_time": "2022-08-15T10:36:49.410Z"
   },
   {
    "duration": 0,
    "start_time": "2022-08-15T10:36:49.412Z"
   },
   {
    "duration": 0,
    "start_time": "2022-08-15T10:36:49.413Z"
   },
   {
    "duration": 0,
    "start_time": "2022-08-15T10:36:49.414Z"
   },
   {
    "duration": 0,
    "start_time": "2022-08-15T10:36:49.415Z"
   },
   {
    "duration": 0,
    "start_time": "2022-08-15T10:36:49.416Z"
   },
   {
    "duration": 0,
    "start_time": "2022-08-15T10:36:49.417Z"
   },
   {
    "duration": 0,
    "start_time": "2022-08-15T10:36:49.418Z"
   },
   {
    "duration": 0,
    "start_time": "2022-08-15T10:36:49.420Z"
   },
   {
    "duration": 4,
    "start_time": "2022-08-15T10:36:58.134Z"
   },
   {
    "duration": 0,
    "start_time": "2022-08-15T10:42:55.609Z"
   },
   {
    "duration": 0,
    "start_time": "2022-08-15T10:42:55.610Z"
   },
   {
    "duration": 0,
    "start_time": "2022-08-15T10:42:55.612Z"
   },
   {
    "duration": 0,
    "start_time": "2022-08-15T10:42:55.613Z"
   },
   {
    "duration": 0,
    "start_time": "2022-08-15T10:42:55.614Z"
   },
   {
    "duration": 0,
    "start_time": "2022-08-15T10:42:55.615Z"
   },
   {
    "duration": 0,
    "start_time": "2022-08-15T10:42:55.616Z"
   },
   {
    "duration": 0,
    "start_time": "2022-08-15T10:42:55.617Z"
   },
   {
    "duration": 0,
    "start_time": "2022-08-15T10:42:55.618Z"
   },
   {
    "duration": 0,
    "start_time": "2022-08-15T10:42:55.619Z"
   },
   {
    "duration": 0,
    "start_time": "2022-08-15T10:42:55.620Z"
   },
   {
    "duration": 0,
    "start_time": "2022-08-15T10:42:55.621Z"
   },
   {
    "duration": 0,
    "start_time": "2022-08-15T10:42:55.622Z"
   },
   {
    "duration": 0,
    "start_time": "2022-08-15T10:42:55.623Z"
   },
   {
    "duration": 0,
    "start_time": "2022-08-15T10:42:55.624Z"
   },
   {
    "duration": 0,
    "start_time": "2022-08-15T10:42:55.625Z"
   },
   {
    "duration": 0,
    "start_time": "2022-08-15T10:42:55.627Z"
   },
   {
    "duration": 0,
    "start_time": "2022-08-15T10:42:55.628Z"
   },
   {
    "duration": 0,
    "start_time": "2022-08-15T10:42:55.629Z"
   },
   {
    "duration": 0,
    "start_time": "2022-08-15T10:42:55.630Z"
   },
   {
    "duration": 0,
    "start_time": "2022-08-15T10:42:55.631Z"
   },
   {
    "duration": 0,
    "start_time": "2022-08-15T10:42:55.632Z"
   },
   {
    "duration": 0,
    "start_time": "2022-08-15T10:42:55.633Z"
   },
   {
    "duration": 0,
    "start_time": "2022-08-15T10:42:55.634Z"
   },
   {
    "duration": 0,
    "start_time": "2022-08-15T10:42:55.636Z"
   },
   {
    "duration": 0,
    "start_time": "2022-08-15T10:42:55.636Z"
   },
   {
    "duration": 0,
    "start_time": "2022-08-15T10:42:55.638Z"
   },
   {
    "duration": 0,
    "start_time": "2022-08-15T10:42:55.639Z"
   },
   {
    "duration": 0,
    "start_time": "2022-08-15T10:42:55.640Z"
   },
   {
    "duration": 0,
    "start_time": "2022-08-15T10:42:55.641Z"
   },
   {
    "duration": 0,
    "start_time": "2022-08-15T10:42:55.642Z"
   },
   {
    "duration": 0,
    "start_time": "2022-08-15T10:42:55.643Z"
   },
   {
    "duration": 0,
    "start_time": "2022-08-15T10:42:55.703Z"
   },
   {
    "duration": 0,
    "start_time": "2022-08-15T10:42:55.704Z"
   },
   {
    "duration": 1345,
    "start_time": "2022-08-15T10:43:07.635Z"
   },
   {
    "duration": 661,
    "start_time": "2022-08-15T10:43:08.982Z"
   },
   {
    "duration": 1932,
    "start_time": "2022-08-15T10:43:09.644Z"
   },
   {
    "duration": 29,
    "start_time": "2022-08-15T10:43:11.578Z"
   },
   {
    "duration": 15,
    "start_time": "2022-08-15T10:43:11.609Z"
   },
   {
    "duration": 5,
    "start_time": "2022-08-15T10:43:11.626Z"
   },
   {
    "duration": 26,
    "start_time": "2022-08-15T10:43:11.633Z"
   },
   {
    "duration": 22,
    "start_time": "2022-08-15T10:43:11.661Z"
   },
   {
    "duration": 5,
    "start_time": "2022-08-15T10:43:11.684Z"
   },
   {
    "duration": 6,
    "start_time": "2022-08-15T10:43:11.692Z"
   },
   {
    "duration": 407,
    "start_time": "2022-08-15T10:43:11.700Z"
   },
   {
    "duration": 691,
    "start_time": "2022-08-15T10:43:12.112Z"
   },
   {
    "duration": 601,
    "start_time": "2022-08-15T10:43:12.806Z"
   },
   {
    "duration": 336,
    "start_time": "2022-08-15T10:43:13.409Z"
   },
   {
    "duration": 0,
    "start_time": "2022-08-15T10:43:13.748Z"
   },
   {
    "duration": 0,
    "start_time": "2022-08-15T10:43:13.749Z"
   },
   {
    "duration": 0,
    "start_time": "2022-08-15T10:43:13.750Z"
   },
   {
    "duration": 0,
    "start_time": "2022-08-15T10:43:13.750Z"
   },
   {
    "duration": 0,
    "start_time": "2022-08-15T10:43:13.803Z"
   },
   {
    "duration": 0,
    "start_time": "2022-08-15T10:43:13.804Z"
   },
   {
    "duration": 0,
    "start_time": "2022-08-15T10:43:13.806Z"
   },
   {
    "duration": 0,
    "start_time": "2022-08-15T10:43:13.808Z"
   },
   {
    "duration": 0,
    "start_time": "2022-08-15T10:43:13.808Z"
   },
   {
    "duration": 0,
    "start_time": "2022-08-15T10:43:13.810Z"
   },
   {
    "duration": 0,
    "start_time": "2022-08-15T10:43:13.811Z"
   },
   {
    "duration": 0,
    "start_time": "2022-08-15T10:43:13.812Z"
   },
   {
    "duration": 0,
    "start_time": "2022-08-15T10:43:13.813Z"
   },
   {
    "duration": 0,
    "start_time": "2022-08-15T10:43:13.814Z"
   },
   {
    "duration": 0,
    "start_time": "2022-08-15T10:43:13.815Z"
   },
   {
    "duration": 0,
    "start_time": "2022-08-15T10:43:13.816Z"
   },
   {
    "duration": 0,
    "start_time": "2022-08-15T10:43:13.817Z"
   },
   {
    "duration": 0,
    "start_time": "2022-08-15T10:43:13.818Z"
   },
   {
    "duration": 0,
    "start_time": "2022-08-15T10:43:13.819Z"
   },
   {
    "duration": 0,
    "start_time": "2022-08-15T10:43:13.820Z"
   },
   {
    "duration": 22,
    "start_time": "2022-08-15T10:44:03.749Z"
   },
   {
    "duration": 113,
    "start_time": "2022-08-15T10:44:17.183Z"
   },
   {
    "duration": 108,
    "start_time": "2022-08-15T10:44:21.865Z"
   },
   {
    "duration": 1699,
    "start_time": "2022-08-15T10:54:29.805Z"
   },
   {
    "duration": 305,
    "start_time": "2022-08-15T10:54:49.926Z"
   },
   {
    "duration": 255,
    "start_time": "2022-08-15T10:57:53.095Z"
   },
   {
    "duration": 253,
    "start_time": "2022-08-15T10:58:23.714Z"
   },
   {
    "duration": 209,
    "start_time": "2022-08-15T10:58:27.780Z"
   },
   {
    "duration": 200,
    "start_time": "2022-08-15T10:58:35.308Z"
   },
   {
    "duration": 222,
    "start_time": "2022-08-15T10:59:46.327Z"
   },
   {
    "duration": 777,
    "start_time": "2022-08-15T11:00:14.368Z"
   },
   {
    "duration": 198,
    "start_time": "2022-08-15T11:04:25.061Z"
   },
   {
    "duration": 4,
    "start_time": "2022-08-15T11:04:30.019Z"
   },
   {
    "duration": 204,
    "start_time": "2022-08-15T11:04:32.433Z"
   },
   {
    "duration": 5,
    "start_time": "2022-08-15T11:04:32.638Z"
   },
   {
    "duration": 207,
    "start_time": "2022-08-15T11:04:35.731Z"
   },
   {
    "duration": 71,
    "start_time": "2022-08-15T11:04:58.203Z"
   },
   {
    "duration": 33,
    "start_time": "2022-08-15T11:05:03.689Z"
   },
   {
    "duration": 71,
    "start_time": "2022-08-15T11:05:20.843Z"
   },
   {
    "duration": 56,
    "start_time": "2022-08-15T11:05:40.589Z"
   },
   {
    "duration": 386,
    "start_time": "2022-08-15T11:06:00.425Z"
   },
   {
    "duration": 20,
    "start_time": "2022-08-15T11:06:15.063Z"
   },
   {
    "duration": 100,
    "start_time": "2022-08-15T11:06:24.240Z"
   },
   {
    "duration": 4,
    "start_time": "2022-08-15T11:06:24.342Z"
   },
   {
    "duration": 72,
    "start_time": "2022-08-15T11:06:36.313Z"
   },
   {
    "duration": 50,
    "start_time": "2022-08-15T11:06:50.594Z"
   },
   {
    "duration": 54,
    "start_time": "2022-08-15T11:07:00.054Z"
   },
   {
    "duration": 75,
    "start_time": "2022-08-15T11:07:11.893Z"
   },
   {
    "duration": 195,
    "start_time": "2022-08-15T11:07:26.556Z"
   },
   {
    "duration": 72,
    "start_time": "2022-08-15T11:07:34.586Z"
   },
   {
    "duration": 4,
    "start_time": "2022-08-15T11:07:34.660Z"
   },
   {
    "duration": 66,
    "start_time": "2022-08-15T11:07:43.589Z"
   },
   {
    "duration": 199,
    "start_time": "2022-08-15T11:07:48.231Z"
   },
   {
    "duration": 169,
    "start_time": "2022-08-15T11:08:08.462Z"
   },
   {
    "duration": 174,
    "start_time": "2022-08-15T11:08:21.095Z"
   },
   {
    "duration": 167,
    "start_time": "2022-08-15T11:08:32.365Z"
   },
   {
    "duration": 39108,
    "start_time": "2022-08-15T11:08:53.317Z"
   },
   {
    "duration": 1488,
    "start_time": "2022-08-15T11:09:36.866Z"
   },
   {
    "duration": 744,
    "start_time": "2022-08-15T11:09:38.356Z"
   },
   {
    "duration": 1840,
    "start_time": "2022-08-15T11:09:39.102Z"
   },
   {
    "duration": 25,
    "start_time": "2022-08-15T11:09:40.944Z"
   },
   {
    "duration": 32,
    "start_time": "2022-08-15T11:09:40.971Z"
   },
   {
    "duration": 5,
    "start_time": "2022-08-15T11:09:41.005Z"
   },
   {
    "duration": 7,
    "start_time": "2022-08-15T11:09:41.011Z"
   },
   {
    "duration": 6,
    "start_time": "2022-08-15T11:09:41.019Z"
   },
   {
    "duration": 280,
    "start_time": "2022-08-15T11:09:41.026Z"
   },
   {
    "duration": 501,
    "start_time": "2022-08-15T11:09:41.309Z"
   },
   {
    "duration": 593,
    "start_time": "2022-08-15T11:09:41.812Z"
   },
   {
    "duration": 373,
    "start_time": "2022-08-15T11:09:42.406Z"
   },
   {
    "duration": 0,
    "start_time": "2022-08-15T11:09:42.781Z"
   },
   {
    "duration": 0,
    "start_time": "2022-08-15T11:09:42.782Z"
   },
   {
    "duration": 0,
    "start_time": "2022-08-15T11:09:42.783Z"
   },
   {
    "duration": 0,
    "start_time": "2022-08-15T11:09:42.785Z"
   },
   {
    "duration": 0,
    "start_time": "2022-08-15T11:09:42.786Z"
   },
   {
    "duration": 0,
    "start_time": "2022-08-15T11:09:42.787Z"
   },
   {
    "duration": 0,
    "start_time": "2022-08-15T11:09:42.803Z"
   },
   {
    "duration": 0,
    "start_time": "2022-08-15T11:09:42.804Z"
   },
   {
    "duration": 0,
    "start_time": "2022-08-15T11:09:42.805Z"
   },
   {
    "duration": 0,
    "start_time": "2022-08-15T11:09:42.806Z"
   },
   {
    "duration": 0,
    "start_time": "2022-08-15T11:09:42.807Z"
   },
   {
    "duration": 0,
    "start_time": "2022-08-15T11:09:42.808Z"
   },
   {
    "duration": 0,
    "start_time": "2022-08-15T11:09:42.809Z"
   },
   {
    "duration": 0,
    "start_time": "2022-08-15T11:09:42.810Z"
   },
   {
    "duration": 1,
    "start_time": "2022-08-15T11:09:42.810Z"
   },
   {
    "duration": 0,
    "start_time": "2022-08-15T11:09:42.811Z"
   },
   {
    "duration": 0,
    "start_time": "2022-08-15T11:09:42.812Z"
   },
   {
    "duration": 0,
    "start_time": "2022-08-15T11:09:42.813Z"
   },
   {
    "duration": 0,
    "start_time": "2022-08-15T11:09:42.814Z"
   },
   {
    "duration": 0,
    "start_time": "2022-08-15T11:09:42.816Z"
   },
   {
    "duration": 181,
    "start_time": "2022-08-15T11:09:51.595Z"
   },
   {
    "duration": 184,
    "start_time": "2022-08-15T11:10:00.197Z"
   },
   {
    "duration": 169,
    "start_time": "2022-08-15T12:13:47.507Z"
   },
   {
    "duration": 5,
    "start_time": "2022-08-15T12:13:48.951Z"
   },
   {
    "duration": 159,
    "start_time": "2022-08-15T12:13:52.719Z"
   },
   {
    "duration": 167,
    "start_time": "2022-08-15T12:13:55.334Z"
   },
   {
    "duration": 167,
    "start_time": "2022-08-15T12:13:57.611Z"
   },
   {
    "duration": 159,
    "start_time": "2022-08-15T12:14:00.022Z"
   },
   {
    "duration": 161,
    "start_time": "2022-08-15T12:14:02.466Z"
   },
   {
    "duration": 163,
    "start_time": "2022-08-15T12:14:04.828Z"
   },
   {
    "duration": 167,
    "start_time": "2022-08-15T12:14:08.244Z"
   },
   {
    "duration": 173,
    "start_time": "2022-08-15T12:14:10.280Z"
   },
   {
    "duration": 165,
    "start_time": "2022-08-15T12:14:12.290Z"
   },
   {
    "duration": 161,
    "start_time": "2022-08-15T12:14:24.975Z"
   },
   {
    "duration": 166,
    "start_time": "2022-08-15T12:14:32.301Z"
   },
   {
    "duration": 4,
    "start_time": "2022-08-15T12:14:33.475Z"
   },
   {
    "duration": 170,
    "start_time": "2022-08-15T12:14:35.474Z"
   },
   {
    "duration": 176,
    "start_time": "2022-08-15T12:14:37.315Z"
   },
   {
    "duration": 190,
    "start_time": "2022-08-15T12:14:39.000Z"
   },
   {
    "duration": 152,
    "start_time": "2022-08-15T12:14:40.684Z"
   },
   {
    "duration": 163,
    "start_time": "2022-08-15T12:14:42.199Z"
   },
   {
    "duration": 160,
    "start_time": "2022-08-15T12:14:43.917Z"
   },
   {
    "duration": 157,
    "start_time": "2022-08-15T12:14:45.460Z"
   },
   {
    "duration": 167,
    "start_time": "2022-08-15T12:16:12.285Z"
   },
   {
    "duration": 170,
    "start_time": "2022-08-15T12:16:22.530Z"
   },
   {
    "duration": 20,
    "start_time": "2022-08-15T12:16:38.101Z"
   },
   {
    "duration": 177,
    "start_time": "2022-08-15T12:16:45.025Z"
   },
   {
    "duration": 55,
    "start_time": "2022-08-15T12:21:27.470Z"
   },
   {
    "duration": 64,
    "start_time": "2022-08-15T12:21:40.657Z"
   },
   {
    "duration": 53,
    "start_time": "2022-08-15T12:22:10.341Z"
   },
   {
    "duration": 63,
    "start_time": "2022-08-15T12:22:53.497Z"
   },
   {
    "duration": 173,
    "start_time": "2022-08-15T12:23:03.879Z"
   },
   {
    "duration": 219,
    "start_time": "2022-08-15T12:23:13.020Z"
   },
   {
    "duration": 241,
    "start_time": "2022-08-15T12:23:22.003Z"
   },
   {
    "duration": 27,
    "start_time": "2022-08-15T12:24:00.917Z"
   },
   {
    "duration": 24806,
    "start_time": "2022-08-15T12:24:38.044Z"
   },
   {
    "duration": 23668,
    "start_time": "2022-08-15T12:25:29.742Z"
   },
   {
    "duration": 23562,
    "start_time": "2022-08-15T12:25:57.447Z"
   },
   {
    "duration": 5,
    "start_time": "2022-08-15T12:27:25.921Z"
   },
   {
    "duration": 1439,
    "start_time": "2022-08-15T12:28:00.739Z"
   },
   {
    "duration": 659,
    "start_time": "2022-08-15T12:28:02.181Z"
   },
   {
    "duration": 2762,
    "start_time": "2022-08-15T12:28:02.842Z"
   },
   {
    "duration": 31,
    "start_time": "2022-08-15T12:28:05.606Z"
   },
   {
    "duration": 17,
    "start_time": "2022-08-15T12:28:05.639Z"
   },
   {
    "duration": 6,
    "start_time": "2022-08-15T12:28:05.658Z"
   },
   {
    "duration": 41,
    "start_time": "2022-08-15T12:28:05.666Z"
   },
   {
    "duration": 7,
    "start_time": "2022-08-15T12:28:05.709Z"
   },
   {
    "duration": 485,
    "start_time": "2022-08-15T12:28:05.718Z"
   },
   {
    "duration": 602,
    "start_time": "2022-08-15T12:28:06.205Z"
   },
   {
    "duration": 600,
    "start_time": "2022-08-15T12:28:06.809Z"
   },
   {
    "duration": 23601,
    "start_time": "2022-08-15T12:28:07.502Z"
   },
   {
    "duration": 4,
    "start_time": "2022-08-15T12:28:31.106Z"
   },
   {
    "duration": 110,
    "start_time": "2022-08-15T12:28:31.114Z"
   },
   {
    "duration": 14,
    "start_time": "2022-08-15T12:28:31.227Z"
   },
   {
    "duration": 19,
    "start_time": "2022-08-15T12:28:31.243Z"
   },
   {
    "duration": 256,
    "start_time": "2022-08-15T12:28:31.263Z"
   },
   {
    "duration": 303,
    "start_time": "2022-08-15T12:28:31.521Z"
   },
   {
    "duration": 17,
    "start_time": "2022-08-15T12:28:31.826Z"
   },
   {
    "duration": 4,
    "start_time": "2022-08-15T12:28:31.845Z"
   },
   {
    "duration": 19,
    "start_time": "2022-08-15T12:28:31.851Z"
   },
   {
    "duration": 37,
    "start_time": "2022-08-15T12:28:31.871Z"
   },
   {
    "duration": 30,
    "start_time": "2022-08-15T12:28:31.910Z"
   },
   {
    "duration": 75,
    "start_time": "2022-08-15T12:28:31.942Z"
   },
   {
    "duration": 2,
    "start_time": "2022-08-15T12:28:32.019Z"
   },
   {
    "duration": 9,
    "start_time": "2022-08-15T12:28:32.023Z"
   },
   {
    "duration": 134794,
    "start_time": "2022-08-15T12:28:32.033Z"
   },
   {
    "duration": 803,
    "start_time": "2022-08-15T12:30:46.829Z"
   },
   {
    "duration": 90084,
    "start_time": "2022-08-15T12:30:47.704Z"
   },
   {
    "duration": 50,
    "start_time": "2022-08-15T12:32:17.790Z"
   },
   {
    "duration": 11,
    "start_time": "2022-08-15T12:32:17.842Z"
   },
   {
    "duration": 134693,
    "start_time": "2022-08-15T12:32:17.854Z"
   },
   {
    "duration": 137,
    "start_time": "2022-08-15T12:44:29.759Z"
   },
   {
    "duration": 379,
    "start_time": "2022-08-15T12:45:00.916Z"
   },
   {
    "duration": 161,
    "start_time": "2022-08-15T12:46:20.934Z"
   },
   {
    "duration": 23,
    "start_time": "2022-08-15T12:47:43.466Z"
   },
   {
    "duration": 160,
    "start_time": "2022-08-15T12:47:49.665Z"
   },
   {
    "duration": 174,
    "start_time": "2022-08-15T12:51:39.408Z"
   },
   {
    "duration": 6,
    "start_time": "2022-08-15T12:52:45.962Z"
   },
   {
    "duration": 255,
    "start_time": "2022-08-15T12:52:47.491Z"
   },
   {
    "duration": 323,
    "start_time": "2022-08-15T12:53:15.908Z"
   },
   {
    "duration": 5,
    "start_time": "2022-08-15T12:53:40.021Z"
   },
   {
    "duration": 223,
    "start_time": "2022-08-15T12:53:40.616Z"
   },
   {
    "duration": 228,
    "start_time": "2022-08-15T12:53:46.915Z"
   },
   {
    "duration": 163,
    "start_time": "2022-08-15T13:02:29.960Z"
   },
   {
    "duration": 142,
    "start_time": "2022-08-15T13:05:39.806Z"
   },
   {
    "duration": 19,
    "start_time": "2022-08-15T13:05:51.705Z"
   },
   {
    "duration": 182,
    "start_time": "2022-08-15T13:05:58.833Z"
   },
   {
    "duration": 165,
    "start_time": "2022-08-15T13:06:18.746Z"
   },
   {
    "duration": 150,
    "start_time": "2022-08-15T13:06:52.919Z"
   },
   {
    "duration": 15,
    "start_time": "2022-08-15T13:08:24.724Z"
   },
   {
    "duration": 170,
    "start_time": "2022-08-15T13:08:39.411Z"
   },
   {
    "duration": 269,
    "start_time": "2022-08-15T13:10:06.534Z"
   },
   {
    "duration": 158,
    "start_time": "2022-08-15T13:10:20.308Z"
   },
   {
    "duration": 162,
    "start_time": "2022-08-15T13:11:52.119Z"
   },
   {
    "duration": 151,
    "start_time": "2022-08-15T13:11:57.947Z"
   },
   {
    "duration": 5,
    "start_time": "2022-08-15T13:25:56.916Z"
   },
   {
    "duration": 1445,
    "start_time": "2022-08-15T13:32:38.343Z"
   },
   {
    "duration": 804,
    "start_time": "2022-08-15T13:32:39.790Z"
   },
   {
    "duration": 2086,
    "start_time": "2022-08-15T13:32:40.596Z"
   },
   {
    "duration": 38,
    "start_time": "2022-08-15T13:32:42.685Z"
   },
   {
    "duration": 17,
    "start_time": "2022-08-15T13:32:42.726Z"
   },
   {
    "duration": 6,
    "start_time": "2022-08-15T13:32:42.745Z"
   },
   {
    "duration": 8,
    "start_time": "2022-08-15T13:32:42.753Z"
   },
   {
    "duration": 6,
    "start_time": "2022-08-15T13:32:42.763Z"
   },
   {
    "duration": 437,
    "start_time": "2022-08-15T13:32:42.770Z"
   },
   {
    "duration": 603,
    "start_time": "2022-08-15T13:32:43.211Z"
   },
   {
    "duration": 4105,
    "start_time": "2022-08-15T13:32:43.902Z"
   },
   {
    "duration": 26597,
    "start_time": "2022-08-15T13:32:48.009Z"
   },
   {
    "duration": 4,
    "start_time": "2022-08-15T13:33:14.611Z"
   },
   {
    "duration": 115,
    "start_time": "2022-08-15T13:33:14.617Z"
   },
   {
    "duration": 259,
    "start_time": "2022-08-15T13:33:14.734Z"
   },
   {
    "duration": 7,
    "start_time": "2022-08-15T13:33:14.996Z"
   },
   {
    "duration": 257,
    "start_time": "2022-08-15T13:33:15.005Z"
   },
   {
    "duration": 363,
    "start_time": "2022-08-15T13:33:15.264Z"
   },
   {
    "duration": 175,
    "start_time": "2022-08-15T13:33:15.630Z"
   },
   {
    "duration": 4,
    "start_time": "2022-08-15T13:33:15.807Z"
   },
   {
    "duration": 26,
    "start_time": "2022-08-15T13:33:15.813Z"
   },
   {
    "duration": 30,
    "start_time": "2022-08-15T13:33:15.841Z"
   },
   {
    "duration": 124,
    "start_time": "2022-08-15T13:33:15.873Z"
   },
   {
    "duration": 0,
    "start_time": "2022-08-15T13:33:16.000Z"
   },
   {
    "duration": 0,
    "start_time": "2022-08-15T13:33:16.003Z"
   },
   {
    "duration": 0,
    "start_time": "2022-08-15T13:33:16.004Z"
   },
   {
    "duration": 0,
    "start_time": "2022-08-15T13:33:16.005Z"
   },
   {
    "duration": 0,
    "start_time": "2022-08-15T13:33:16.006Z"
   },
   {
    "duration": 0,
    "start_time": "2022-08-15T13:33:16.008Z"
   },
   {
    "duration": 0,
    "start_time": "2022-08-15T13:33:16.009Z"
   },
   {
    "duration": 0,
    "start_time": "2022-08-15T13:33:16.010Z"
   },
   {
    "duration": 4,
    "start_time": "2022-08-15T13:37:50.131Z"
   },
   {
    "duration": 236,
    "start_time": "2022-08-15T13:37:50.763Z"
   },
   {
    "duration": 248,
    "start_time": "2022-08-15T13:37:52.262Z"
   },
   {
    "duration": 11,
    "start_time": "2022-08-15T13:40:59.232Z"
   },
   {
    "duration": 1563,
    "start_time": "2022-08-15T13:41:28.148Z"
   },
   {
    "duration": 748,
    "start_time": "2022-08-15T13:41:29.714Z"
   },
   {
    "duration": 1966,
    "start_time": "2022-08-15T13:41:30.463Z"
   },
   {
    "duration": 30,
    "start_time": "2022-08-15T13:41:32.432Z"
   },
   {
    "duration": 39,
    "start_time": "2022-08-15T13:41:32.464Z"
   },
   {
    "duration": 6,
    "start_time": "2022-08-15T13:41:32.505Z"
   },
   {
    "duration": 26,
    "start_time": "2022-08-15T13:41:32.513Z"
   },
   {
    "duration": 19,
    "start_time": "2022-08-15T13:41:32.542Z"
   },
   {
    "duration": 545,
    "start_time": "2022-08-15T13:41:32.563Z"
   },
   {
    "duration": 795,
    "start_time": "2022-08-15T13:41:33.112Z"
   },
   {
    "duration": 801,
    "start_time": "2022-08-15T13:41:33.909Z"
   },
   {
    "duration": 26095,
    "start_time": "2022-08-15T13:41:34.713Z"
   },
   {
    "duration": 96,
    "start_time": "2022-08-15T13:42:00.810Z"
   },
   {
    "duration": 144,
    "start_time": "2022-08-15T13:42:00.908Z"
   },
   {
    "duration": 238,
    "start_time": "2022-08-15T13:42:01.054Z"
   },
   {
    "duration": 5,
    "start_time": "2022-08-15T13:42:01.294Z"
   },
   {
    "duration": 266,
    "start_time": "2022-08-15T13:42:01.303Z"
   },
   {
    "duration": 339,
    "start_time": "2022-08-15T13:42:01.571Z"
   },
   {
    "duration": 193,
    "start_time": "2022-08-15T13:42:01.912Z"
   },
   {
    "duration": 4,
    "start_time": "2022-08-15T13:42:02.106Z"
   },
   {
    "duration": 20,
    "start_time": "2022-08-15T13:42:02.112Z"
   },
   {
    "duration": 31,
    "start_time": "2022-08-15T13:42:02.135Z"
   },
   {
    "duration": 130,
    "start_time": "2022-08-15T13:42:02.168Z"
   },
   {
    "duration": 0,
    "start_time": "2022-08-15T13:42:02.299Z"
   },
   {
    "duration": 0,
    "start_time": "2022-08-15T13:42:02.305Z"
   },
   {
    "duration": 0,
    "start_time": "2022-08-15T13:42:02.306Z"
   },
   {
    "duration": 0,
    "start_time": "2022-08-15T13:42:02.307Z"
   },
   {
    "duration": 0,
    "start_time": "2022-08-15T13:42:02.308Z"
   },
   {
    "duration": 0,
    "start_time": "2022-08-15T13:42:02.310Z"
   },
   {
    "duration": 0,
    "start_time": "2022-08-15T13:42:02.310Z"
   },
   {
    "duration": 0,
    "start_time": "2022-08-15T13:42:02.312Z"
   },
   {
    "duration": 42,
    "start_time": "2022-08-15T13:44:06.906Z"
   },
   {
    "duration": 1538,
    "start_time": "2022-08-15T13:49:30.376Z"
   },
   {
    "duration": 714,
    "start_time": "2022-08-15T13:49:31.916Z"
   },
   {
    "duration": 1926,
    "start_time": "2022-08-15T13:49:32.631Z"
   },
   {
    "duration": 28,
    "start_time": "2022-08-15T13:49:34.560Z"
   },
   {
    "duration": 29,
    "start_time": "2022-08-15T13:49:34.590Z"
   },
   {
    "duration": 6,
    "start_time": "2022-08-15T13:49:34.620Z"
   },
   {
    "duration": 8,
    "start_time": "2022-08-15T13:49:34.628Z"
   },
   {
    "duration": 7,
    "start_time": "2022-08-15T13:49:34.638Z"
   },
   {
    "duration": 458,
    "start_time": "2022-08-15T13:49:34.647Z"
   },
   {
    "duration": 498,
    "start_time": "2022-08-15T13:49:35.108Z"
   },
   {
    "duration": 698,
    "start_time": "2022-08-15T13:49:35.608Z"
   },
   {
    "duration": 25600,
    "start_time": "2022-08-15T13:49:36.309Z"
   },
   {
    "duration": 93,
    "start_time": "2022-08-15T13:50:01.911Z"
   },
   {
    "duration": 118,
    "start_time": "2022-08-15T13:50:02.008Z"
   },
   {
    "duration": 394,
    "start_time": "2022-08-15T13:50:02.127Z"
   },
   {
    "duration": 4,
    "start_time": "2022-08-15T13:50:02.523Z"
   },
   {
    "duration": 263,
    "start_time": "2022-08-15T13:50:02.528Z"
   },
   {
    "duration": 307,
    "start_time": "2022-08-15T13:50:02.793Z"
   },
   {
    "duration": 162,
    "start_time": "2022-08-15T13:50:03.102Z"
   },
   {
    "duration": 3,
    "start_time": "2022-08-15T13:50:03.266Z"
   },
   {
    "duration": 11,
    "start_time": "2022-08-15T13:50:03.271Z"
   },
   {
    "duration": 22,
    "start_time": "2022-08-15T13:50:03.283Z"
   },
   {
    "duration": 124,
    "start_time": "2022-08-15T13:50:03.306Z"
   },
   {
    "duration": 0,
    "start_time": "2022-08-15T13:50:03.432Z"
   },
   {
    "duration": 0,
    "start_time": "2022-08-15T13:50:03.434Z"
   },
   {
    "duration": 0,
    "start_time": "2022-08-15T13:50:03.435Z"
   },
   {
    "duration": 0,
    "start_time": "2022-08-15T13:50:03.436Z"
   },
   {
    "duration": 0,
    "start_time": "2022-08-15T13:50:03.438Z"
   },
   {
    "duration": 0,
    "start_time": "2022-08-15T13:50:03.439Z"
   },
   {
    "duration": 0,
    "start_time": "2022-08-15T13:50:03.441Z"
   },
   {
    "duration": 0,
    "start_time": "2022-08-15T13:50:03.442Z"
   },
   {
    "duration": 0,
    "start_time": "2022-08-15T13:50:03.443Z"
   },
   {
    "duration": 18,
    "start_time": "2022-08-15T13:52:44.365Z"
   },
   {
    "duration": 10,
    "start_time": "2022-08-15T13:52:59.603Z"
   },
   {
    "duration": 21,
    "start_time": "2022-08-15T13:53:00.070Z"
   },
   {
    "duration": 1482,
    "start_time": "2022-08-15T13:53:17.194Z"
   },
   {
    "duration": 770,
    "start_time": "2022-08-15T13:53:18.677Z"
   },
   {
    "duration": 1891,
    "start_time": "2022-08-15T13:53:19.449Z"
   },
   {
    "duration": 26,
    "start_time": "2022-08-15T13:53:21.342Z"
   },
   {
    "duration": 34,
    "start_time": "2022-08-15T13:53:21.370Z"
   },
   {
    "duration": 5,
    "start_time": "2022-08-15T13:53:21.406Z"
   },
   {
    "duration": 6,
    "start_time": "2022-08-15T13:53:21.413Z"
   },
   {
    "duration": 4,
    "start_time": "2022-08-15T13:53:21.421Z"
   },
   {
    "duration": 283,
    "start_time": "2022-08-15T13:53:21.427Z"
   },
   {
    "duration": 690,
    "start_time": "2022-08-15T13:53:21.713Z"
   },
   {
    "duration": 600,
    "start_time": "2022-08-15T13:53:22.405Z"
   },
   {
    "duration": 23805,
    "start_time": "2022-08-15T13:53:23.007Z"
   },
   {
    "duration": 5,
    "start_time": "2022-08-15T13:53:46.907Z"
   },
   {
    "duration": 29,
    "start_time": "2022-08-15T13:53:47.004Z"
   },
   {
    "duration": 201,
    "start_time": "2022-08-15T13:53:47.035Z"
   },
   {
    "duration": 4,
    "start_time": "2022-08-15T13:53:47.238Z"
   },
   {
    "duration": 261,
    "start_time": "2022-08-15T13:53:47.244Z"
   },
   {
    "duration": 329,
    "start_time": "2022-08-15T13:53:47.507Z"
   },
   {
    "duration": 185,
    "start_time": "2022-08-15T13:53:47.837Z"
   },
   {
    "duration": 3,
    "start_time": "2022-08-15T13:53:48.024Z"
   },
   {
    "duration": 9,
    "start_time": "2022-08-15T13:53:48.030Z"
   },
   {
    "duration": 22,
    "start_time": "2022-08-15T13:53:48.041Z"
   },
   {
    "duration": 41,
    "start_time": "2022-08-15T13:53:48.065Z"
   },
   {
    "duration": 56,
    "start_time": "2022-08-15T13:53:48.108Z"
   },
   {
    "duration": 3,
    "start_time": "2022-08-15T13:53:48.166Z"
   },
   {
    "duration": 7,
    "start_time": "2022-08-15T13:53:48.171Z"
   },
   {
    "duration": 194,
    "start_time": "2022-08-15T13:53:48.180Z"
   },
   {
    "duration": 62,
    "start_time": "2022-08-15T13:53:48.378Z"
   },
   {
    "duration": 72,
    "start_time": "2022-08-15T13:53:48.442Z"
   },
   {
    "duration": 62,
    "start_time": "2022-08-15T13:53:48.516Z"
   },
   {
    "duration": 9,
    "start_time": "2022-08-15T13:53:48.580Z"
   },
   {
    "duration": 19,
    "start_time": "2022-08-15T13:53:48.591Z"
   },
   {
    "duration": 5,
    "start_time": "2022-08-15T13:54:32.153Z"
   },
   {
    "duration": 1441,
    "start_time": "2022-08-15T13:56:26.638Z"
   },
   {
    "duration": 734,
    "start_time": "2022-08-15T13:56:28.080Z"
   },
   {
    "duration": 1934,
    "start_time": "2022-08-15T13:56:28.816Z"
   },
   {
    "duration": 28,
    "start_time": "2022-08-15T13:56:30.751Z"
   },
   {
    "duration": 33,
    "start_time": "2022-08-15T13:56:30.781Z"
   },
   {
    "duration": 36,
    "start_time": "2022-08-15T13:56:30.816Z"
   },
   {
    "duration": 16,
    "start_time": "2022-08-15T13:56:30.853Z"
   },
   {
    "duration": 40,
    "start_time": "2022-08-15T13:56:30.870Z"
   },
   {
    "duration": 493,
    "start_time": "2022-08-15T13:56:30.912Z"
   },
   {
    "duration": 599,
    "start_time": "2022-08-15T13:56:31.407Z"
   },
   {
    "duration": 597,
    "start_time": "2022-08-15T13:56:32.008Z"
   },
   {
    "duration": 24007,
    "start_time": "2022-08-15T13:56:32.606Z"
   },
   {
    "duration": 5,
    "start_time": "2022-08-15T13:56:56.704Z"
   },
   {
    "duration": 110,
    "start_time": "2022-08-15T13:56:56.713Z"
   },
   {
    "duration": 181,
    "start_time": "2022-08-15T13:56:56.825Z"
   },
   {
    "duration": 3,
    "start_time": "2022-08-15T13:56:57.008Z"
   },
   {
    "duration": 244,
    "start_time": "2022-08-15T13:56:57.013Z"
   },
   {
    "duration": 328,
    "start_time": "2022-08-15T13:56:57.259Z"
   },
   {
    "duration": 161,
    "start_time": "2022-08-15T13:56:57.589Z"
   },
   {
    "duration": 3,
    "start_time": "2022-08-15T13:56:57.752Z"
   },
   {
    "duration": 9,
    "start_time": "2022-08-15T13:56:57.757Z"
   },
   {
    "duration": 19,
    "start_time": "2022-08-15T13:56:57.767Z"
   },
   {
    "duration": 35,
    "start_time": "2022-08-15T13:56:57.787Z"
   },
   {
    "duration": 48,
    "start_time": "2022-08-15T13:56:57.824Z"
   },
   {
    "duration": 3,
    "start_time": "2022-08-15T13:56:57.874Z"
   },
   {
    "duration": 23,
    "start_time": "2022-08-15T13:56:57.880Z"
   },
   {
    "duration": 136402,
    "start_time": "2022-08-15T13:56:57.905Z"
   },
   {
    "duration": 776,
    "start_time": "2022-08-15T13:59:14.309Z"
   },
   {
    "duration": 91877,
    "start_time": "2022-08-15T13:59:15.086Z"
   },
   {
    "duration": 115,
    "start_time": "2022-08-15T14:00:46.965Z"
   },
   {
    "duration": 12,
    "start_time": "2022-08-15T14:00:47.082Z"
   },
   {
    "duration": 23,
    "start_time": "2022-08-15T14:00:47.099Z"
   },
   {
    "duration": 0,
    "start_time": "2022-08-15T14:00:47.124Z"
   },
   {
    "duration": 0,
    "start_time": "2022-08-15T14:00:47.125Z"
   },
   {
    "duration": 5,
    "start_time": "2022-08-15T14:03:19.731Z"
   },
   {
    "duration": 142962,
    "start_time": "2022-08-15T14:03:25.355Z"
   },
   {
    "duration": 713,
    "start_time": "2022-08-15T14:06:26.413Z"
   },
   {
    "duration": 92949,
    "start_time": "2022-08-15T14:06:28.556Z"
   },
   {
    "duration": 64,
    "start_time": "2022-08-15T14:08:01.508Z"
   },
   {
    "duration": 11,
    "start_time": "2022-08-15T14:08:01.574Z"
   },
   {
    "duration": 12,
    "start_time": "2022-08-15T14:13:16.141Z"
   },
   {
    "duration": 11,
    "start_time": "2022-08-15T14:13:20.953Z"
   },
   {
    "duration": 0,
    "start_time": "2022-08-15T14:14:35.072Z"
   },
   {
    "duration": 32654,
    "start_time": "2022-08-15T14:18:15.679Z"
   },
   {
    "duration": 32791,
    "start_time": "2022-08-15T14:19:38.721Z"
   },
   {
    "duration": 35648,
    "start_time": "2022-08-15T14:21:17.946Z"
   },
   {
    "duration": 52,
    "start_time": "2022-08-15T14:23:53.560Z"
   },
   {
    "duration": 14,
    "start_time": "2022-08-15T14:25:13.961Z"
   },
   {
    "duration": 11,
    "start_time": "2022-08-15T14:25:34.168Z"
   },
   {
    "duration": 1559,
    "start_time": "2022-08-15T14:25:37.874Z"
   },
   {
    "duration": 712,
    "start_time": "2022-08-15T14:25:39.435Z"
   },
   {
    "duration": 1861,
    "start_time": "2022-08-15T14:25:40.149Z"
   },
   {
    "duration": 26,
    "start_time": "2022-08-15T14:25:42.013Z"
   },
   {
    "duration": 17,
    "start_time": "2022-08-15T14:25:42.040Z"
   },
   {
    "duration": 7,
    "start_time": "2022-08-15T14:25:42.058Z"
   },
   {
    "duration": 39,
    "start_time": "2022-08-15T14:25:42.067Z"
   },
   {
    "duration": 5,
    "start_time": "2022-08-15T14:25:42.108Z"
   },
   {
    "duration": 491,
    "start_time": "2022-08-15T14:25:42.114Z"
   },
   {
    "duration": 499,
    "start_time": "2022-08-15T14:25:42.608Z"
   },
   {
    "duration": 596,
    "start_time": "2022-08-15T14:25:43.109Z"
   },
   {
    "duration": 24301,
    "start_time": "2022-08-15T14:25:43.706Z"
   },
   {
    "duration": 95,
    "start_time": "2022-08-15T14:26:08.011Z"
   },
   {
    "duration": 117,
    "start_time": "2022-08-15T14:26:08.108Z"
   },
   {
    "duration": 190,
    "start_time": "2022-08-15T14:26:08.227Z"
   },
   {
    "duration": 4,
    "start_time": "2022-08-15T14:26:08.419Z"
   },
   {
    "duration": 254,
    "start_time": "2022-08-15T14:26:08.425Z"
   },
   {
    "duration": 338,
    "start_time": "2022-08-15T14:26:08.680Z"
   },
   {
    "duration": 197,
    "start_time": "2022-08-15T14:26:09.021Z"
   },
   {
    "duration": 4,
    "start_time": "2022-08-15T14:26:09.220Z"
   },
   {
    "duration": 130,
    "start_time": "2022-08-15T14:26:09.225Z"
   },
   {
    "duration": 0,
    "start_time": "2022-08-15T14:26:09.357Z"
   },
   {
    "duration": 0,
    "start_time": "2022-08-15T14:26:09.358Z"
   },
   {
    "duration": 0,
    "start_time": "2022-08-15T14:26:09.359Z"
   },
   {
    "duration": 0,
    "start_time": "2022-08-15T14:26:09.361Z"
   },
   {
    "duration": 0,
    "start_time": "2022-08-15T14:26:09.362Z"
   },
   {
    "duration": 0,
    "start_time": "2022-08-15T14:26:09.363Z"
   },
   {
    "duration": 0,
    "start_time": "2022-08-15T14:26:09.364Z"
   },
   {
    "duration": 0,
    "start_time": "2022-08-15T14:26:09.366Z"
   },
   {
    "duration": 0,
    "start_time": "2022-08-15T14:26:09.367Z"
   },
   {
    "duration": 0,
    "start_time": "2022-08-15T14:26:09.368Z"
   },
   {
    "duration": 0,
    "start_time": "2022-08-15T14:26:09.369Z"
   },
   {
    "duration": 7,
    "start_time": "2022-08-15T14:32:21.473Z"
   },
   {
    "duration": 1438,
    "start_time": "2022-08-15T14:32:50.377Z"
   },
   {
    "duration": 718,
    "start_time": "2022-08-15T14:32:51.817Z"
   },
   {
    "duration": 1832,
    "start_time": "2022-08-15T14:32:52.537Z"
   },
   {
    "duration": 41,
    "start_time": "2022-08-15T14:32:54.371Z"
   },
   {
    "duration": 16,
    "start_time": "2022-08-15T14:32:54.414Z"
   },
   {
    "duration": 7,
    "start_time": "2022-08-15T14:32:54.432Z"
   },
   {
    "duration": 17,
    "start_time": "2022-08-15T14:32:54.441Z"
   },
   {
    "duration": 9,
    "start_time": "2022-08-15T14:32:54.460Z"
   },
   {
    "duration": 341,
    "start_time": "2022-08-15T14:32:54.471Z"
   },
   {
    "duration": 600,
    "start_time": "2022-08-15T14:32:54.905Z"
   },
   {
    "duration": 502,
    "start_time": "2022-08-15T14:32:55.507Z"
   },
   {
    "duration": 24293,
    "start_time": "2022-08-15T14:32:56.010Z"
   },
   {
    "duration": 6,
    "start_time": "2022-08-15T14:33:20.306Z"
   },
   {
    "duration": 110,
    "start_time": "2022-08-15T14:33:20.314Z"
   },
   {
    "duration": 202,
    "start_time": "2022-08-15T14:33:20.425Z"
   },
   {
    "duration": 3,
    "start_time": "2022-08-15T14:33:20.629Z"
   },
   {
    "duration": 239,
    "start_time": "2022-08-15T14:33:20.633Z"
   },
   {
    "duration": 311,
    "start_time": "2022-08-15T14:33:20.874Z"
   },
   {
    "duration": 188,
    "start_time": "2022-08-15T14:33:21.187Z"
   },
   {
    "duration": 3,
    "start_time": "2022-08-15T14:33:21.377Z"
   },
   {
    "duration": 13,
    "start_time": "2022-08-15T14:33:21.382Z"
   },
   {
    "duration": 10,
    "start_time": "2022-08-15T14:33:21.403Z"
   },
   {
    "duration": 23,
    "start_time": "2022-08-15T14:33:21.415Z"
   },
   {
    "duration": 40,
    "start_time": "2022-08-15T14:33:21.440Z"
   },
   {
    "duration": 21,
    "start_time": "2022-08-15T14:33:21.483Z"
   },
   {
    "duration": 7,
    "start_time": "2022-08-15T14:33:21.506Z"
   },
   {
    "duration": 116182,
    "start_time": "2022-08-15T14:33:21.515Z"
   },
   {
    "duration": 616,
    "start_time": "2022-08-15T14:35:17.703Z"
   },
   {
    "duration": 56575,
    "start_time": "2022-08-15T14:35:18.321Z"
   },
   {
    "duration": 70,
    "start_time": "2022-08-15T14:36:14.898Z"
   },
   {
    "duration": 12,
    "start_time": "2022-08-15T14:36:14.969Z"
   },
   {
    "duration": 16297,
    "start_time": "2022-08-15T14:36:15.002Z"
   },
   {
    "duration": 13,
    "start_time": "2022-08-15T14:38:03.888Z"
   },
   {
    "duration": 1497,
    "start_time": "2022-08-15T14:38:07.931Z"
   },
   {
    "duration": 719,
    "start_time": "2022-08-15T14:38:09.430Z"
   },
   {
    "duration": 1925,
    "start_time": "2022-08-15T14:38:10.151Z"
   },
   {
    "duration": 37,
    "start_time": "2022-08-15T14:38:12.078Z"
   },
   {
    "duration": 15,
    "start_time": "2022-08-15T14:38:12.117Z"
   },
   {
    "duration": 6,
    "start_time": "2022-08-15T14:38:12.134Z"
   },
   {
    "duration": 8,
    "start_time": "2022-08-15T14:38:12.142Z"
   },
   {
    "duration": 5,
    "start_time": "2022-08-15T14:38:12.152Z"
   },
   {
    "duration": 450,
    "start_time": "2022-08-15T14:38:12.159Z"
   },
   {
    "duration": 791,
    "start_time": "2022-08-15T14:38:12.615Z"
   },
   {
    "duration": 603,
    "start_time": "2022-08-15T14:38:13.408Z"
   },
   {
    "duration": 25592,
    "start_time": "2022-08-15T14:38:14.014Z"
   },
   {
    "duration": 8,
    "start_time": "2022-08-15T14:38:39.609Z"
   },
   {
    "duration": 109,
    "start_time": "2022-08-15T14:38:39.620Z"
   },
   {
    "duration": 256,
    "start_time": "2022-08-15T14:38:39.731Z"
   },
   {
    "duration": 4,
    "start_time": "2022-08-15T14:38:39.988Z"
   },
   {
    "duration": 252,
    "start_time": "2022-08-15T14:38:39.993Z"
   },
   {
    "duration": 337,
    "start_time": "2022-08-15T14:38:40.247Z"
   },
   {
    "duration": 180,
    "start_time": "2022-08-15T14:38:40.585Z"
   },
   {
    "duration": 3,
    "start_time": "2022-08-15T14:38:40.767Z"
   },
   {
    "duration": 11,
    "start_time": "2022-08-15T14:38:40.772Z"
   },
   {
    "duration": 27,
    "start_time": "2022-08-15T14:38:40.786Z"
   },
   {
    "duration": 27,
    "start_time": "2022-08-15T14:38:40.816Z"
   },
   {
    "duration": 38,
    "start_time": "2022-08-15T14:38:40.845Z"
   },
   {
    "duration": 2,
    "start_time": "2022-08-15T14:38:40.885Z"
   },
   {
    "duration": 17,
    "start_time": "2022-08-15T14:38:40.902Z"
   },
   {
    "duration": 1463,
    "start_time": "2022-08-15T14:40:23.054Z"
   },
   {
    "duration": 752,
    "start_time": "2022-08-15T14:40:24.519Z"
   },
   {
    "duration": 1935,
    "start_time": "2022-08-15T14:40:25.273Z"
   },
   {
    "duration": 30,
    "start_time": "2022-08-15T14:40:27.211Z"
   },
   {
    "duration": 16,
    "start_time": "2022-08-15T14:40:27.242Z"
   },
   {
    "duration": 6,
    "start_time": "2022-08-15T14:40:27.259Z"
   },
   {
    "duration": 8,
    "start_time": "2022-08-15T14:40:27.267Z"
   },
   {
    "duration": 37,
    "start_time": "2022-08-15T14:40:27.277Z"
   },
   {
    "duration": 1112,
    "start_time": "2022-08-15T14:40:27.316Z"
   },
   {
    "duration": 1010,
    "start_time": "2022-08-15T14:40:28.509Z"
   },
   {
    "duration": 887,
    "start_time": "2022-08-15T14:40:29.525Z"
   },
   {
    "duration": 26005,
    "start_time": "2022-08-15T14:40:30.413Z"
   },
   {
    "duration": 87,
    "start_time": "2022-08-15T14:40:56.421Z"
   },
   {
    "duration": 43,
    "start_time": "2022-08-15T14:40:56.510Z"
   },
   {
    "duration": 197,
    "start_time": "2022-08-15T14:40:56.555Z"
   },
   {
    "duration": 5,
    "start_time": "2022-08-15T14:40:56.753Z"
   },
   {
    "duration": 243,
    "start_time": "2022-08-15T14:40:56.760Z"
   },
   {
    "duration": 333,
    "start_time": "2022-08-15T14:40:57.005Z"
   },
   {
    "duration": 185,
    "start_time": "2022-08-15T14:40:57.340Z"
   },
   {
    "duration": 4,
    "start_time": "2022-08-15T14:40:57.527Z"
   },
   {
    "duration": 151,
    "start_time": "2022-08-15T14:40:57.534Z"
   },
   {
    "duration": 0,
    "start_time": "2022-08-15T14:40:57.687Z"
   },
   {
    "duration": 0,
    "start_time": "2022-08-15T14:40:57.688Z"
   },
   {
    "duration": 0,
    "start_time": "2022-08-15T14:40:57.690Z"
   },
   {
    "duration": 0,
    "start_time": "2022-08-15T14:40:57.703Z"
   },
   {
    "duration": 0,
    "start_time": "2022-08-15T14:40:57.705Z"
   },
   {
    "duration": 0,
    "start_time": "2022-08-15T14:40:57.706Z"
   },
   {
    "duration": 0,
    "start_time": "2022-08-15T14:40:57.708Z"
   },
   {
    "duration": 0,
    "start_time": "2022-08-15T14:40:57.709Z"
   },
   {
    "duration": 0,
    "start_time": "2022-08-15T14:40:57.710Z"
   },
   {
    "duration": 0,
    "start_time": "2022-08-15T14:40:57.711Z"
   },
   {
    "duration": 0,
    "start_time": "2022-08-15T14:40:57.711Z"
   },
   {
    "duration": 19,
    "start_time": "2022-08-15T14:42:04.078Z"
   },
   {
    "duration": 20,
    "start_time": "2022-08-15T14:42:40.884Z"
   },
   {
    "duration": 15,
    "start_time": "2022-08-15T14:42:53.382Z"
   },
   {
    "duration": 7,
    "start_time": "2022-08-15T14:43:08.739Z"
   },
   {
    "duration": 15,
    "start_time": "2022-08-15T14:43:12.892Z"
   },
   {
    "duration": 15,
    "start_time": "2022-08-15T14:43:23.391Z"
   },
   {
    "duration": 15,
    "start_time": "2022-08-15T14:43:55.026Z"
   },
   {
    "duration": 15,
    "start_time": "2022-08-15T14:44:10.153Z"
   },
   {
    "duration": 21,
    "start_time": "2022-08-15T14:44:29.641Z"
   },
   {
    "duration": 9,
    "start_time": "2022-08-15T14:54:02.866Z"
   },
   {
    "duration": 11,
    "start_time": "2022-08-15T14:54:08.736Z"
   },
   {
    "duration": 11,
    "start_time": "2022-08-15T14:54:14.248Z"
   },
   {
    "duration": 6,
    "start_time": "2022-08-15T14:54:23.234Z"
   },
   {
    "duration": 1533,
    "start_time": "2022-08-15T14:56:50.554Z"
   },
   {
    "duration": 773,
    "start_time": "2022-08-15T14:56:52.089Z"
   },
   {
    "duration": 1911,
    "start_time": "2022-08-15T14:56:52.864Z"
   },
   {
    "duration": 38,
    "start_time": "2022-08-15T14:56:54.777Z"
   },
   {
    "duration": 15,
    "start_time": "2022-08-15T14:56:54.817Z"
   },
   {
    "duration": 6,
    "start_time": "2022-08-15T14:56:54.834Z"
   },
   {
    "duration": 12,
    "start_time": "2022-08-15T14:56:54.841Z"
   },
   {
    "duration": 5,
    "start_time": "2022-08-15T14:56:54.855Z"
   },
   {
    "duration": 544,
    "start_time": "2022-08-15T14:56:54.861Z"
   },
   {
    "duration": 503,
    "start_time": "2022-08-15T14:56:55.408Z"
   },
   {
    "duration": 596,
    "start_time": "2022-08-15T14:56:55.913Z"
   },
   {
    "duration": 26197,
    "start_time": "2022-08-15T14:56:56.511Z"
   },
   {
    "duration": 4,
    "start_time": "2022-08-15T14:57:22.711Z"
   },
   {
    "duration": 204,
    "start_time": "2022-08-15T14:57:22.717Z"
   },
   {
    "duration": 193,
    "start_time": "2022-08-15T14:57:22.924Z"
   },
   {
    "duration": 4,
    "start_time": "2022-08-15T14:57:23.119Z"
   },
   {
    "duration": 241,
    "start_time": "2022-08-15T14:57:23.125Z"
   },
   {
    "duration": 323,
    "start_time": "2022-08-15T14:57:23.368Z"
   },
   {
    "duration": 173,
    "start_time": "2022-08-15T14:57:23.693Z"
   },
   {
    "duration": 4,
    "start_time": "2022-08-15T14:57:23.867Z"
   },
   {
    "duration": 6,
    "start_time": "2022-08-15T14:57:23.873Z"
   },
   {
    "duration": 30,
    "start_time": "2022-08-15T14:57:23.881Z"
   },
   {
    "duration": 24,
    "start_time": "2022-08-15T14:57:23.913Z"
   },
   {
    "duration": 40,
    "start_time": "2022-08-15T14:57:23.940Z"
   },
   {
    "duration": 21,
    "start_time": "2022-08-15T14:57:23.982Z"
   },
   {
    "duration": 8,
    "start_time": "2022-08-15T14:57:24.005Z"
   },
   {
    "duration": 112849,
    "start_time": "2022-08-15T14:57:24.016Z"
   },
   {
    "duration": 547,
    "start_time": "2022-08-15T14:59:16.868Z"
   },
   {
    "duration": 54235,
    "start_time": "2022-08-15T14:59:17.417Z"
   },
   {
    "duration": 59,
    "start_time": "2022-08-15T15:00:11.654Z"
   },
   {
    "duration": 11,
    "start_time": "2022-08-15T15:00:11.715Z"
   },
   {
    "duration": 55,
    "start_time": "2022-08-15T15:00:11.728Z"
   },
   {
    "duration": 110925,
    "start_time": "2022-08-15T15:01:02.548Z"
   },
   {
    "duration": 1439,
    "start_time": "2022-08-15T15:03:19.729Z"
   },
   {
    "duration": 727,
    "start_time": "2022-08-15T15:03:21.170Z"
   },
   {
    "duration": 1871,
    "start_time": "2022-08-15T15:03:21.899Z"
   },
   {
    "duration": 37,
    "start_time": "2022-08-15T15:03:23.772Z"
   },
   {
    "duration": 16,
    "start_time": "2022-08-15T15:03:23.811Z"
   },
   {
    "duration": 6,
    "start_time": "2022-08-15T15:03:23.828Z"
   },
   {
    "duration": 6,
    "start_time": "2022-08-15T15:03:23.835Z"
   },
   {
    "duration": 6,
    "start_time": "2022-08-15T15:03:23.842Z"
   },
   {
    "duration": 353,
    "start_time": "2022-08-15T15:03:23.850Z"
   },
   {
    "duration": 596,
    "start_time": "2022-08-15T15:03:24.207Z"
   },
   {
    "duration": 498,
    "start_time": "2022-08-15T15:03:24.805Z"
   },
   {
    "duration": 24397,
    "start_time": "2022-08-15T15:03:25.306Z"
   },
   {
    "duration": 7,
    "start_time": "2022-08-15T15:03:49.706Z"
   },
   {
    "duration": 108,
    "start_time": "2022-08-15T15:03:49.715Z"
   },
   {
    "duration": 185,
    "start_time": "2022-08-15T15:03:49.824Z"
   },
   {
    "duration": 5,
    "start_time": "2022-08-15T15:03:50.011Z"
   },
   {
    "duration": 239,
    "start_time": "2022-08-15T15:03:50.018Z"
   },
   {
    "duration": 306,
    "start_time": "2022-08-15T15:03:50.259Z"
   },
   {
    "duration": 165,
    "start_time": "2022-08-15T15:03:50.567Z"
   },
   {
    "duration": 4,
    "start_time": "2022-08-15T15:03:50.734Z"
   },
   {
    "duration": 7,
    "start_time": "2022-08-15T15:03:50.741Z"
   },
   {
    "duration": 16,
    "start_time": "2022-08-15T15:03:50.750Z"
   },
   {
    "duration": 39,
    "start_time": "2022-08-15T15:03:50.768Z"
   },
   {
    "duration": 43,
    "start_time": "2022-08-15T15:03:50.810Z"
   },
   {
    "duration": 3,
    "start_time": "2022-08-15T15:03:50.856Z"
   },
   {
    "duration": 13,
    "start_time": "2022-08-15T15:03:50.860Z"
   },
   {
    "duration": 112168,
    "start_time": "2022-08-15T15:03:50.874Z"
   },
   {
    "duration": 563,
    "start_time": "2022-08-15T15:05:43.046Z"
   },
   {
    "duration": 54131,
    "start_time": "2022-08-15T15:05:43.611Z"
   },
   {
    "duration": 51,
    "start_time": "2022-08-15T15:06:37.744Z"
   },
   {
    "duration": 11,
    "start_time": "2022-08-15T15:06:37.803Z"
   },
   {
    "duration": 33439,
    "start_time": "2022-08-15T15:06:37.816Z"
   },
   {
    "duration": 111292,
    "start_time": "2022-08-15T15:10:24.414Z"
   },
   {
    "duration": 4,
    "start_time": "2022-08-15T15:13:03.931Z"
   },
   {
    "duration": 5,
    "start_time": "2022-08-15T15:13:18.212Z"
   },
   {
    "duration": 5,
    "start_time": "2022-08-15T15:13:58.283Z"
   },
   {
    "duration": 33609,
    "start_time": "2022-08-15T15:22:37.823Z"
   },
   {
    "duration": 112729,
    "start_time": "2022-08-15T15:25:19.809Z"
   },
   {
    "duration": 76,
    "start_time": "2022-08-15T15:28:01.324Z"
   },
   {
    "duration": 18,
    "start_time": "2022-08-15T16:07:53.239Z"
   },
   {
    "duration": 14,
    "start_time": "2022-08-15T16:08:04.722Z"
   },
   {
    "duration": 829,
    "start_time": "2022-08-15T16:08:30.956Z"
   },
   {
    "duration": 15,
    "start_time": "2022-08-15T16:09:42.788Z"
   },
   {
    "duration": 32,
    "start_time": "2022-08-15T16:10:28.841Z"
   },
   {
    "duration": 922,
    "start_time": "2022-08-15T16:11:11.478Z"
   },
   {
    "duration": 19,
    "start_time": "2022-08-15T16:14:01.111Z"
   },
   {
    "duration": 14,
    "start_time": "2022-08-15T16:14:13.080Z"
   },
   {
    "duration": 24,
    "start_time": "2022-08-15T16:18:13.501Z"
   },
   {
    "duration": 16,
    "start_time": "2022-08-15T16:18:26.597Z"
   },
   {
    "duration": 33711,
    "start_time": "2022-08-15T16:18:28.032Z"
   },
   {
    "duration": 33315,
    "start_time": "2022-08-15T16:20:16.470Z"
   },
   {
    "duration": 16,
    "start_time": "2022-08-15T16:21:21.325Z"
   },
   {
    "duration": 1508,
    "start_time": "2022-08-15T16:21:27.102Z"
   },
   {
    "duration": 822,
    "start_time": "2022-08-15T16:21:28.612Z"
   },
   {
    "duration": 1970,
    "start_time": "2022-08-15T16:21:29.435Z"
   },
   {
    "duration": 28,
    "start_time": "2022-08-15T16:21:31.407Z"
   },
   {
    "duration": 19,
    "start_time": "2022-08-15T16:21:31.437Z"
   },
   {
    "duration": 8,
    "start_time": "2022-08-15T16:21:31.457Z"
   },
   {
    "duration": 11,
    "start_time": "2022-08-15T16:21:31.467Z"
   },
   {
    "duration": 5,
    "start_time": "2022-08-15T16:21:31.503Z"
   },
   {
    "duration": 502,
    "start_time": "2022-08-15T16:21:31.511Z"
   },
   {
    "duration": 801,
    "start_time": "2022-08-15T16:21:32.105Z"
   },
   {
    "duration": 596,
    "start_time": "2022-08-15T16:21:32.909Z"
   },
   {
    "duration": 25203,
    "start_time": "2022-08-15T16:21:33.506Z"
   },
   {
    "duration": 93,
    "start_time": "2022-08-15T16:21:58.711Z"
   },
   {
    "duration": 99,
    "start_time": "2022-08-15T16:21:58.806Z"
   },
   {
    "duration": 255,
    "start_time": "2022-08-15T16:21:58.907Z"
   },
   {
    "duration": 5,
    "start_time": "2022-08-15T16:21:59.165Z"
   },
   {
    "duration": 243,
    "start_time": "2022-08-15T16:21:59.172Z"
   },
   {
    "duration": 326,
    "start_time": "2022-08-15T16:21:59.417Z"
   },
   {
    "duration": 172,
    "start_time": "2022-08-15T16:21:59.745Z"
   },
   {
    "duration": 4,
    "start_time": "2022-08-15T16:21:59.919Z"
   },
   {
    "duration": 6,
    "start_time": "2022-08-15T16:21:59.925Z"
   },
   {
    "duration": 19,
    "start_time": "2022-08-15T16:21:59.933Z"
   },
   {
    "duration": 24,
    "start_time": "2022-08-15T16:21:59.954Z"
   },
   {
    "duration": 58,
    "start_time": "2022-08-15T16:21:59.980Z"
   },
   {
    "duration": 3,
    "start_time": "2022-08-15T16:22:00.040Z"
   },
   {
    "duration": 7,
    "start_time": "2022-08-15T16:22:00.045Z"
   },
   {
    "duration": 114930,
    "start_time": "2022-08-15T16:22:00.053Z"
   },
   {
    "duration": 531,
    "start_time": "2022-08-15T16:23:54.987Z"
   },
   {
    "duration": 54580,
    "start_time": "2022-08-15T16:23:55.519Z"
   },
   {
    "duration": 59,
    "start_time": "2022-08-15T16:24:50.104Z"
   },
   {
    "duration": 12,
    "start_time": "2022-08-15T16:24:50.165Z"
   },
   {
    "duration": 36,
    "start_time": "2022-08-15T16:24:50.179Z"
   },
   {
    "duration": 33681,
    "start_time": "2022-08-15T16:24:50.217Z"
   },
   {
    "duration": 0,
    "start_time": "2022-08-15T16:25:23.903Z"
   },
   {
    "duration": 5,
    "start_time": "2022-08-15T16:27:24.626Z"
   },
   {
    "duration": 33300,
    "start_time": "2022-08-15T16:28:34.534Z"
   },
   {
    "duration": 13,
    "start_time": "2022-08-15T16:29:42.958Z"
   },
   {
    "duration": 1499,
    "start_time": "2022-08-15T16:29:54.189Z"
   },
   {
    "duration": 724,
    "start_time": "2022-08-15T16:29:55.690Z"
   },
   {
    "duration": 2895,
    "start_time": "2022-08-15T16:29:56.416Z"
   },
   {
    "duration": 27,
    "start_time": "2022-08-15T16:29:59.313Z"
   },
   {
    "duration": 74,
    "start_time": "2022-08-15T16:29:59.341Z"
   },
   {
    "duration": 8,
    "start_time": "2022-08-15T16:29:59.417Z"
   },
   {
    "duration": 10,
    "start_time": "2022-08-15T16:29:59.427Z"
   },
   {
    "duration": 5,
    "start_time": "2022-08-15T16:29:59.439Z"
   },
   {
    "duration": 560,
    "start_time": "2022-08-15T16:29:59.446Z"
   },
   {
    "duration": 597,
    "start_time": "2022-08-15T16:30:00.010Z"
   },
   {
    "duration": 703,
    "start_time": "2022-08-15T16:30:00.609Z"
   },
   {
    "duration": 24697,
    "start_time": "2022-08-15T16:30:01.316Z"
   },
   {
    "duration": 95,
    "start_time": "2022-08-15T16:30:26.016Z"
   },
   {
    "duration": 112,
    "start_time": "2022-08-15T16:30:26.113Z"
   },
   {
    "duration": 206,
    "start_time": "2022-08-15T16:30:26.226Z"
   },
   {
    "duration": 4,
    "start_time": "2022-08-15T16:30:26.434Z"
   },
   {
    "duration": 246,
    "start_time": "2022-08-15T16:30:26.440Z"
   },
   {
    "duration": 312,
    "start_time": "2022-08-15T16:30:26.688Z"
   },
   {
    "duration": 169,
    "start_time": "2022-08-15T16:30:27.003Z"
   },
   {
    "duration": 4,
    "start_time": "2022-08-15T16:30:27.173Z"
   },
   {
    "duration": 10,
    "start_time": "2022-08-15T16:30:27.179Z"
   },
   {
    "duration": 23,
    "start_time": "2022-08-15T16:30:27.190Z"
   },
   {
    "duration": 26,
    "start_time": "2022-08-15T16:30:27.215Z"
   },
   {
    "duration": 60,
    "start_time": "2022-08-15T16:30:27.243Z"
   },
   {
    "duration": 3,
    "start_time": "2022-08-15T16:30:27.305Z"
   },
   {
    "duration": 13,
    "start_time": "2022-08-15T16:30:27.310Z"
   },
   {
    "duration": 111672,
    "start_time": "2022-08-15T16:30:27.324Z"
   },
   {
    "duration": 525,
    "start_time": "2022-08-15T16:32:19.002Z"
   },
   {
    "duration": 53608,
    "start_time": "2022-08-15T16:32:19.529Z"
   },
   {
    "duration": 52,
    "start_time": "2022-08-15T16:33:13.139Z"
   },
   {
    "duration": 10,
    "start_time": "2022-08-15T16:33:13.203Z"
   },
   {
    "duration": 27,
    "start_time": "2022-08-15T16:33:13.215Z"
   },
   {
    "duration": 112397,
    "start_time": "2022-08-15T16:33:13.244Z"
   },
   {
    "duration": 75,
    "start_time": "2022-08-15T16:35:05.642Z"
   },
   {
    "duration": 1451,
    "start_time": "2022-08-15T16:36:19.018Z"
   },
   {
    "duration": 728,
    "start_time": "2022-08-15T16:36:20.471Z"
   },
   {
    "duration": 1924,
    "start_time": "2022-08-15T16:36:21.200Z"
   },
   {
    "duration": 26,
    "start_time": "2022-08-15T16:36:23.127Z"
   },
   {
    "duration": 15,
    "start_time": "2022-08-15T16:36:23.155Z"
   },
   {
    "duration": 32,
    "start_time": "2022-08-15T16:36:23.172Z"
   },
   {
    "duration": 5,
    "start_time": "2022-08-15T16:36:23.206Z"
   },
   {
    "duration": 7,
    "start_time": "2022-08-15T16:36:23.212Z"
   },
   {
    "duration": 585,
    "start_time": "2022-08-15T16:36:23.220Z"
   },
   {
    "duration": 897,
    "start_time": "2022-08-15T16:36:23.809Z"
   },
   {
    "duration": 906,
    "start_time": "2022-08-15T16:36:24.709Z"
   },
   {
    "duration": 23987,
    "start_time": "2022-08-15T16:36:25.617Z"
   },
   {
    "duration": 4,
    "start_time": "2022-08-15T16:36:49.606Z"
   },
   {
    "duration": 123,
    "start_time": "2022-08-15T16:36:49.612Z"
   },
   {
    "duration": 191,
    "start_time": "2022-08-15T16:36:49.737Z"
   },
   {
    "duration": 3,
    "start_time": "2022-08-15T16:36:49.930Z"
   },
   {
    "duration": 234,
    "start_time": "2022-08-15T16:36:49.935Z"
   },
   {
    "duration": 302,
    "start_time": "2022-08-15T16:36:50.171Z"
   },
   {
    "duration": 167,
    "start_time": "2022-08-15T16:36:50.474Z"
   },
   {
    "duration": 3,
    "start_time": "2022-08-15T16:36:50.643Z"
   },
   {
    "duration": 30,
    "start_time": "2022-08-15T16:36:50.648Z"
   },
   {
    "duration": 29,
    "start_time": "2022-08-15T16:36:50.680Z"
   },
   {
    "duration": 50,
    "start_time": "2022-08-15T16:36:50.710Z"
   },
   {
    "duration": 39,
    "start_time": "2022-08-15T16:36:50.761Z"
   },
   {
    "duration": 3,
    "start_time": "2022-08-15T16:36:50.802Z"
   },
   {
    "duration": 34,
    "start_time": "2022-08-15T16:36:50.806Z"
   },
   {
    "duration": 110853,
    "start_time": "2022-08-15T16:36:50.842Z"
   },
   {
    "duration": 528,
    "start_time": "2022-08-15T16:38:41.698Z"
   },
   {
    "duration": 54168,
    "start_time": "2022-08-15T16:38:42.228Z"
   },
   {
    "duration": 54,
    "start_time": "2022-08-15T16:39:36.403Z"
   },
   {
    "duration": 11,
    "start_time": "2022-08-15T16:39:36.460Z"
   },
   {
    "duration": 34,
    "start_time": "2022-08-15T16:39:36.473Z"
   },
   {
    "duration": 111214,
    "start_time": "2022-08-15T16:39:36.509Z"
   },
   {
    "duration": 37,
    "start_time": "2022-08-15T16:41:27.725Z"
   },
   {
    "duration": 346,
    "start_time": "2022-08-15T16:45:48.375Z"
   },
   {
    "duration": 3553,
    "start_time": "2022-08-15T16:48:51.735Z"
   },
   {
    "duration": 282,
    "start_time": "2022-08-15T16:49:34.647Z"
   },
   {
    "duration": 3694,
    "start_time": "2022-08-15T16:49:41.214Z"
   },
   {
    "duration": 22,
    "start_time": "2022-08-15T16:55:49.484Z"
   },
   {
    "duration": 1498,
    "start_time": "2022-08-15T16:55:54.178Z"
   },
   {
    "duration": 710,
    "start_time": "2022-08-15T16:55:55.679Z"
   },
   {
    "duration": 3031,
    "start_time": "2022-08-15T16:55:56.394Z"
   },
   {
    "duration": 28,
    "start_time": "2022-08-15T16:55:59.427Z"
   },
   {
    "duration": 19,
    "start_time": "2022-08-15T16:55:59.457Z"
   },
   {
    "duration": 28,
    "start_time": "2022-08-15T16:55:59.479Z"
   },
   {
    "duration": 28,
    "start_time": "2022-08-15T16:55:59.509Z"
   },
   {
    "duration": 34,
    "start_time": "2022-08-15T16:55:59.539Z"
   },
   {
    "duration": 430,
    "start_time": "2022-08-15T16:55:59.576Z"
   },
   {
    "duration": 697,
    "start_time": "2022-08-15T16:56:00.008Z"
   },
   {
    "duration": 996,
    "start_time": "2022-08-15T16:56:00.709Z"
   },
   {
    "duration": 25295,
    "start_time": "2022-08-15T16:56:01.709Z"
   },
   {
    "duration": 5,
    "start_time": "2022-08-15T16:56:27.006Z"
   },
   {
    "duration": 33,
    "start_time": "2022-08-15T16:56:27.013Z"
   },
   {
    "duration": 236,
    "start_time": "2022-08-15T16:56:27.048Z"
   },
   {
    "duration": 4,
    "start_time": "2022-08-15T16:56:27.286Z"
   },
   {
    "duration": 265,
    "start_time": "2022-08-15T16:56:27.292Z"
   },
   {
    "duration": 306,
    "start_time": "2022-08-15T16:56:27.559Z"
   },
   {
    "duration": 3583,
    "start_time": "2022-08-15T16:56:27.867Z"
   },
   {
    "duration": 128,
    "start_time": "2022-08-15T16:56:31.452Z"
   },
   {
    "duration": 0,
    "start_time": "2022-08-15T16:56:31.582Z"
   },
   {
    "duration": 0,
    "start_time": "2022-08-15T16:56:31.583Z"
   },
   {
    "duration": 0,
    "start_time": "2022-08-15T16:56:31.586Z"
   },
   {
    "duration": 0,
    "start_time": "2022-08-15T16:56:31.587Z"
   },
   {
    "duration": 0,
    "start_time": "2022-08-15T16:56:31.603Z"
   },
   {
    "duration": 0,
    "start_time": "2022-08-15T16:56:31.605Z"
   },
   {
    "duration": 0,
    "start_time": "2022-08-15T16:56:31.607Z"
   },
   {
    "duration": 0,
    "start_time": "2022-08-15T16:56:31.609Z"
   },
   {
    "duration": 0,
    "start_time": "2022-08-15T16:56:31.610Z"
   },
   {
    "duration": 0,
    "start_time": "2022-08-15T16:56:31.612Z"
   },
   {
    "duration": 0,
    "start_time": "2022-08-15T16:56:31.613Z"
   },
   {
    "duration": 0,
    "start_time": "2022-08-15T16:56:31.615Z"
   },
   {
    "duration": 0,
    "start_time": "2022-08-15T16:56:31.618Z"
   },
   {
    "duration": 0,
    "start_time": "2022-08-15T16:56:31.619Z"
   },
   {
    "duration": 0,
    "start_time": "2022-08-15T16:56:31.621Z"
   },
   {
    "duration": 121,
    "start_time": "2022-08-15T17:00:02.649Z"
   },
   {
    "duration": 984,
    "start_time": "2022-08-15T17:00:08.198Z"
   },
   {
    "duration": 3497,
    "start_time": "2022-08-15T17:00:32.241Z"
   },
   {
    "duration": 3613,
    "start_time": "2022-08-15T17:00:57.621Z"
   },
   {
    "duration": 75,
    "start_time": "2022-08-15T17:01:24.479Z"
   },
   {
    "duration": 3438,
    "start_time": "2022-08-15T17:01:45.991Z"
   },
   {
    "duration": 3014,
    "start_time": "2022-08-15T17:02:17.405Z"
   },
   {
    "duration": 1346,
    "start_time": "2022-08-15T17:03:05.177Z"
   },
   {
    "duration": 1127,
    "start_time": "2022-08-15T17:03:38.984Z"
   },
   {
    "duration": 5,
    "start_time": "2022-08-15T17:03:50.164Z"
   },
   {
    "duration": 4,
    "start_time": "2022-08-15T17:04:05.434Z"
   },
   {
    "duration": 4,
    "start_time": "2022-08-15T17:04:15.894Z"
   },
   {
    "duration": 9,
    "start_time": "2022-08-15T17:04:27.617Z"
   },
   {
    "duration": 62,
    "start_time": "2022-08-15T17:04:55.123Z"
   },
   {
    "duration": 1796,
    "start_time": "2022-08-15T17:05:13.398Z"
   },
   {
    "duration": 709,
    "start_time": "2022-08-15T17:05:15.196Z"
   },
   {
    "duration": 2828,
    "start_time": "2022-08-15T17:05:15.907Z"
   },
   {
    "duration": 27,
    "start_time": "2022-08-15T17:05:18.738Z"
   },
   {
    "duration": 15,
    "start_time": "2022-08-15T17:05:18.767Z"
   },
   {
    "duration": 5,
    "start_time": "2022-08-15T17:05:18.803Z"
   },
   {
    "duration": 11,
    "start_time": "2022-08-15T17:05:18.809Z"
   },
   {
    "duration": 6,
    "start_time": "2022-08-15T17:05:18.822Z"
   },
   {
    "duration": 578,
    "start_time": "2022-08-15T17:05:18.829Z"
   },
   {
    "duration": 796,
    "start_time": "2022-08-15T17:05:19.410Z"
   },
   {
    "duration": 694,
    "start_time": "2022-08-15T17:05:20.208Z"
   },
   {
    "duration": 308,
    "start_time": "2022-08-15T17:05:20.904Z"
   },
   {
    "duration": 95,
    "start_time": "2022-08-15T17:05:21.310Z"
   },
   {
    "duration": 25,
    "start_time": "2022-08-15T17:05:21.407Z"
   },
   {
    "duration": 201,
    "start_time": "2022-08-15T17:05:21.434Z"
   },
   {
    "duration": 4,
    "start_time": "2022-08-15T17:05:21.637Z"
   },
   {
    "duration": 243,
    "start_time": "2022-08-15T17:05:21.643Z"
   },
   {
    "duration": 309,
    "start_time": "2022-08-15T17:05:21.888Z"
   },
   {
    "duration": 3583,
    "start_time": "2022-08-15T17:05:22.202Z"
   },
   {
    "duration": 577,
    "start_time": "2022-08-15T17:05:25.787Z"
   },
   {
    "duration": 4,
    "start_time": "2022-08-15T17:05:26.366Z"
   },
   {
    "duration": 9,
    "start_time": "2022-08-15T17:05:26.371Z"
   },
   {
    "duration": 25,
    "start_time": "2022-08-15T17:05:26.381Z"
   },
   {
    "duration": 30,
    "start_time": "2022-08-15T17:05:26.408Z"
   },
   {
    "duration": 40,
    "start_time": "2022-08-15T17:05:26.439Z"
   },
   {
    "duration": 22,
    "start_time": "2022-08-15T17:05:26.481Z"
   },
   {
    "duration": 9,
    "start_time": "2022-08-15T17:05:26.504Z"
   },
   {
    "duration": 1377,
    "start_time": "2022-08-15T17:05:51.038Z"
   },
   {
    "duration": 717,
    "start_time": "2022-08-15T17:05:52.417Z"
   },
   {
    "duration": 2861,
    "start_time": "2022-08-15T17:05:53.136Z"
   },
   {
    "duration": 27,
    "start_time": "2022-08-15T17:05:56.003Z"
   },
   {
    "duration": 15,
    "start_time": "2022-08-15T17:05:56.031Z"
   },
   {
    "duration": 6,
    "start_time": "2022-08-15T17:05:56.048Z"
   },
   {
    "duration": 13,
    "start_time": "2022-08-15T17:05:56.056Z"
   },
   {
    "duration": 33,
    "start_time": "2022-08-15T17:05:56.070Z"
   },
   {
    "duration": 401,
    "start_time": "2022-08-15T17:05:56.105Z"
   },
   {
    "duration": 601,
    "start_time": "2022-08-15T17:05:56.509Z"
   },
   {
    "duration": 692,
    "start_time": "2022-08-15T17:05:57.113Z"
   },
   {
    "duration": 404,
    "start_time": "2022-08-15T17:05:57.807Z"
   },
   {
    "duration": 98,
    "start_time": "2022-08-15T17:05:58.305Z"
   },
   {
    "duration": 33,
    "start_time": "2022-08-15T17:05:58.405Z"
   },
   {
    "duration": 190,
    "start_time": "2022-08-15T17:05:58.439Z"
   },
   {
    "duration": 4,
    "start_time": "2022-08-15T17:05:58.630Z"
   },
   {
    "duration": 241,
    "start_time": "2022-08-15T17:05:58.636Z"
   },
   {
    "duration": 371,
    "start_time": "2022-08-15T17:05:58.879Z"
   },
   {
    "duration": 3560,
    "start_time": "2022-08-15T17:05:59.252Z"
   },
   {
    "duration": 906,
    "start_time": "2022-08-15T17:06:02.814Z"
   },
   {
    "duration": 0,
    "start_time": "2022-08-15T17:06:03.723Z"
   },
   {
    "duration": 0,
    "start_time": "2022-08-15T17:06:03.724Z"
   },
   {
    "duration": 0,
    "start_time": "2022-08-15T17:06:03.726Z"
   },
   {
    "duration": 0,
    "start_time": "2022-08-15T17:06:03.728Z"
   },
   {
    "duration": 0,
    "start_time": "2022-08-15T17:06:03.729Z"
   },
   {
    "duration": 0,
    "start_time": "2022-08-15T17:06:03.731Z"
   },
   {
    "duration": 0,
    "start_time": "2022-08-15T17:06:03.732Z"
   },
   {
    "duration": 0,
    "start_time": "2022-08-15T17:06:03.733Z"
   },
   {
    "duration": 0,
    "start_time": "2022-08-15T17:06:03.735Z"
   },
   {
    "duration": 0,
    "start_time": "2022-08-15T17:06:03.736Z"
   },
   {
    "duration": 0,
    "start_time": "2022-08-15T17:06:03.738Z"
   },
   {
    "duration": 0,
    "start_time": "2022-08-15T17:06:03.739Z"
   },
   {
    "duration": 0,
    "start_time": "2022-08-15T17:06:03.741Z"
   },
   {
    "duration": 0,
    "start_time": "2022-08-15T17:06:03.742Z"
   },
   {
    "duration": 0,
    "start_time": "2022-08-15T17:06:03.744Z"
   },
   {
    "duration": 3431,
    "start_time": "2022-08-15T17:06:29.905Z"
   },
   {
    "duration": 3561,
    "start_time": "2022-08-15T17:06:57.461Z"
   },
   {
    "duration": 134,
    "start_time": "2022-08-15T17:07:05.928Z"
   },
   {
    "duration": 3291,
    "start_time": "2022-08-15T17:07:21.232Z"
   },
   {
    "duration": 1470,
    "start_time": "2022-08-15T17:07:32.322Z"
   },
   {
    "duration": 727,
    "start_time": "2022-08-15T17:07:33.795Z"
   },
   {
    "duration": 1849,
    "start_time": "2022-08-15T17:07:34.524Z"
   },
   {
    "duration": 39,
    "start_time": "2022-08-15T17:07:36.376Z"
   },
   {
    "duration": 18,
    "start_time": "2022-08-15T17:07:36.417Z"
   },
   {
    "duration": 7,
    "start_time": "2022-08-15T17:07:36.437Z"
   },
   {
    "duration": 12,
    "start_time": "2022-08-15T17:07:36.446Z"
   },
   {
    "duration": 13,
    "start_time": "2022-08-15T17:07:36.459Z"
   },
   {
    "duration": 331,
    "start_time": "2022-08-15T17:07:36.474Z"
   },
   {
    "duration": 597,
    "start_time": "2022-08-15T17:07:36.809Z"
   },
   {
    "duration": 500,
    "start_time": "2022-08-15T17:07:37.408Z"
   },
   {
    "duration": 504,
    "start_time": "2022-08-15T17:07:37.910Z"
   },
   {
    "duration": 4,
    "start_time": "2022-08-15T17:07:38.504Z"
   },
   {
    "duration": 113,
    "start_time": "2022-08-15T17:07:38.510Z"
   },
   {
    "duration": 185,
    "start_time": "2022-08-15T17:07:38.625Z"
   },
   {
    "duration": 3,
    "start_time": "2022-08-15T17:07:38.812Z"
   },
   {
    "duration": 298,
    "start_time": "2022-08-15T17:07:38.817Z"
   },
   {
    "duration": 325,
    "start_time": "2022-08-15T17:07:39.118Z"
   },
   {
    "duration": 3534,
    "start_time": "2022-08-15T17:07:39.445Z"
   },
   {
    "duration": 3590,
    "start_time": "2022-08-15T17:07:42.981Z"
   },
   {
    "duration": 0,
    "start_time": "2022-08-15T17:07:46.573Z"
   },
   {
    "duration": 0,
    "start_time": "2022-08-15T17:07:46.574Z"
   },
   {
    "duration": 0,
    "start_time": "2022-08-15T17:07:46.575Z"
   },
   {
    "duration": 0,
    "start_time": "2022-08-15T17:07:46.576Z"
   },
   {
    "duration": 0,
    "start_time": "2022-08-15T17:07:46.577Z"
   },
   {
    "duration": 0,
    "start_time": "2022-08-15T17:07:46.579Z"
   },
   {
    "duration": 0,
    "start_time": "2022-08-15T17:07:46.580Z"
   },
   {
    "duration": 0,
    "start_time": "2022-08-15T17:07:46.580Z"
   },
   {
    "duration": 0,
    "start_time": "2022-08-15T17:07:46.581Z"
   },
   {
    "duration": 0,
    "start_time": "2022-08-15T17:07:46.582Z"
   },
   {
    "duration": 0,
    "start_time": "2022-08-15T17:07:46.583Z"
   },
   {
    "duration": 0,
    "start_time": "2022-08-15T17:07:46.603Z"
   },
   {
    "duration": 0,
    "start_time": "2022-08-15T17:07:46.604Z"
   },
   {
    "duration": 0,
    "start_time": "2022-08-15T17:07:46.605Z"
   },
   {
    "duration": 0,
    "start_time": "2022-08-15T17:07:46.607Z"
   },
   {
    "duration": 1502,
    "start_time": "2022-08-15T17:08:18.377Z"
   },
   {
    "duration": 751,
    "start_time": "2022-08-15T17:08:19.881Z"
   },
   {
    "duration": 2804,
    "start_time": "2022-08-15T17:08:20.633Z"
   },
   {
    "duration": 77,
    "start_time": "2022-08-15T17:08:23.439Z"
   },
   {
    "duration": 15,
    "start_time": "2022-08-15T17:08:23.518Z"
   },
   {
    "duration": 6,
    "start_time": "2022-08-15T17:08:23.535Z"
   },
   {
    "duration": 7,
    "start_time": "2022-08-15T17:08:23.543Z"
   },
   {
    "duration": 11,
    "start_time": "2022-08-15T17:08:23.552Z"
   },
   {
    "duration": 440,
    "start_time": "2022-08-15T17:08:23.565Z"
   },
   {
    "duration": 598,
    "start_time": "2022-08-15T17:08:24.008Z"
   },
   {
    "duration": 595,
    "start_time": "2022-08-15T17:08:24.608Z"
   },
   {
    "duration": 507,
    "start_time": "2022-08-15T17:08:25.205Z"
   },
   {
    "duration": 4,
    "start_time": "2022-08-15T17:08:25.803Z"
   },
   {
    "duration": 26,
    "start_time": "2022-08-15T17:08:25.809Z"
   },
   {
    "duration": 191,
    "start_time": "2022-08-15T17:08:25.836Z"
   },
   {
    "duration": 4,
    "start_time": "2022-08-15T17:08:26.028Z"
   },
   {
    "duration": 241,
    "start_time": "2022-08-15T17:08:26.033Z"
   },
   {
    "duration": 323,
    "start_time": "2022-08-15T17:08:26.276Z"
   },
   {
    "duration": 3505,
    "start_time": "2022-08-15T17:08:26.602Z"
   },
   {
    "duration": 3582,
    "start_time": "2022-08-15T17:08:30.109Z"
   },
   {
    "duration": 0,
    "start_time": "2022-08-15T17:08:33.693Z"
   },
   {
    "duration": 0,
    "start_time": "2022-08-15T17:08:33.695Z"
   },
   {
    "duration": 0,
    "start_time": "2022-08-15T17:08:33.695Z"
   },
   {
    "duration": 0,
    "start_time": "2022-08-15T17:08:33.702Z"
   },
   {
    "duration": 0,
    "start_time": "2022-08-15T17:08:33.703Z"
   },
   {
    "duration": 0,
    "start_time": "2022-08-15T17:08:33.704Z"
   },
   {
    "duration": 0,
    "start_time": "2022-08-15T17:08:33.706Z"
   },
   {
    "duration": 0,
    "start_time": "2022-08-15T17:08:33.707Z"
   },
   {
    "duration": 0,
    "start_time": "2022-08-15T17:08:33.708Z"
   },
   {
    "duration": 0,
    "start_time": "2022-08-15T17:08:33.710Z"
   },
   {
    "duration": 0,
    "start_time": "2022-08-15T17:08:33.711Z"
   },
   {
    "duration": 0,
    "start_time": "2022-08-15T17:08:33.712Z"
   },
   {
    "duration": 0,
    "start_time": "2022-08-15T17:08:33.714Z"
   },
   {
    "duration": 0,
    "start_time": "2022-08-15T17:08:33.715Z"
   },
   {
    "duration": 0,
    "start_time": "2022-08-15T17:08:33.716Z"
   },
   {
    "duration": 1477,
    "start_time": "2022-08-15T17:09:37.102Z"
   },
   {
    "duration": 762,
    "start_time": "2022-08-15T17:09:38.581Z"
   },
   {
    "duration": 1883,
    "start_time": "2022-08-15T17:09:39.345Z"
   },
   {
    "duration": 28,
    "start_time": "2022-08-15T17:09:41.230Z"
   },
   {
    "duration": 17,
    "start_time": "2022-08-15T17:09:41.259Z"
   },
   {
    "duration": 28,
    "start_time": "2022-08-15T17:09:41.278Z"
   },
   {
    "duration": 11,
    "start_time": "2022-08-15T17:09:41.308Z"
   },
   {
    "duration": 6,
    "start_time": "2022-08-15T17:09:41.321Z"
   },
   {
    "duration": 382,
    "start_time": "2022-08-15T17:09:41.329Z"
   },
   {
    "duration": 497,
    "start_time": "2022-08-15T17:09:41.714Z"
   },
   {
    "duration": 608,
    "start_time": "2022-08-15T17:09:42.303Z"
   },
   {
    "duration": 600,
    "start_time": "2022-08-15T17:09:43.004Z"
   },
   {
    "duration": 5,
    "start_time": "2022-08-15T17:09:43.605Z"
   },
   {
    "duration": 122,
    "start_time": "2022-08-15T17:09:43.611Z"
   },
   {
    "duration": 186,
    "start_time": "2022-08-15T17:09:43.735Z"
   },
   {
    "duration": 4,
    "start_time": "2022-08-15T17:09:43.923Z"
   },
   {
    "duration": 246,
    "start_time": "2022-08-15T17:09:43.928Z"
   },
   {
    "duration": 315,
    "start_time": "2022-08-15T17:09:44.176Z"
   },
   {
    "duration": 3517,
    "start_time": "2022-08-15T17:09:44.492Z"
   },
   {
    "duration": 150,
    "start_time": "2022-08-15T17:09:48.011Z"
   },
   {
    "duration": 4,
    "start_time": "2022-08-15T17:09:48.163Z"
   },
   {
    "duration": 9,
    "start_time": "2022-08-15T17:09:48.169Z"
   },
   {
    "duration": 13,
    "start_time": "2022-08-15T17:09:48.180Z"
   },
   {
    "duration": 20,
    "start_time": "2022-08-15T17:09:48.203Z"
   },
   {
    "duration": 40,
    "start_time": "2022-08-15T17:09:48.224Z"
   },
   {
    "duration": 4,
    "start_time": "2022-08-15T17:09:48.265Z"
   },
   {
    "duration": 8,
    "start_time": "2022-08-15T17:09:48.270Z"
   },
   {
    "duration": 101475,
    "start_time": "2022-08-15T17:09:48.305Z"
   },
   {
    "duration": 528,
    "start_time": "2022-08-15T17:11:29.782Z"
   },
   {
    "duration": 49508,
    "start_time": "2022-08-15T17:11:30.312Z"
   },
   {
    "duration": 52,
    "start_time": "2022-08-15T17:12:19.822Z"
   },
   {
    "duration": 11,
    "start_time": "2022-08-15T17:12:19.876Z"
   },
   {
    "duration": 25,
    "start_time": "2022-08-15T17:12:19.889Z"
   },
   {
    "duration": 100884,
    "start_time": "2022-08-15T17:12:19.916Z"
   },
   {
    "duration": 38,
    "start_time": "2022-08-15T17:14:00.802Z"
   },
   {
    "duration": 1423,
    "start_time": "2022-08-15T17:21:50.352Z"
   },
   {
    "duration": 747,
    "start_time": "2022-08-15T17:21:51.778Z"
   },
   {
    "duration": 1844,
    "start_time": "2022-08-15T17:21:52.527Z"
   },
   {
    "duration": 37,
    "start_time": "2022-08-15T17:21:54.374Z"
   },
   {
    "duration": 17,
    "start_time": "2022-08-15T17:21:54.413Z"
   },
   {
    "duration": 15,
    "start_time": "2022-08-15T17:21:54.432Z"
   },
   {
    "duration": 7,
    "start_time": "2022-08-15T17:21:54.449Z"
   },
   {
    "duration": 20,
    "start_time": "2022-08-15T17:21:54.458Z"
   },
   {
    "duration": 327,
    "start_time": "2022-08-15T17:21:54.480Z"
   },
   {
    "duration": 593,
    "start_time": "2022-08-15T17:21:54.810Z"
   },
   {
    "duration": 500,
    "start_time": "2022-08-15T17:21:55.405Z"
   },
   {
    "duration": 504,
    "start_time": "2022-08-15T17:21:55.907Z"
   },
   {
    "duration": 96,
    "start_time": "2022-08-15T17:21:56.507Z"
   },
   {
    "duration": 29,
    "start_time": "2022-08-15T17:21:56.605Z"
   },
   {
    "duration": 180,
    "start_time": "2022-08-15T17:21:56.636Z"
   },
   {
    "duration": 4,
    "start_time": "2022-08-15T17:21:56.818Z"
   },
   {
    "duration": 241,
    "start_time": "2022-08-15T17:21:56.823Z"
   },
   {
    "duration": 310,
    "start_time": "2022-08-15T17:21:57.066Z"
   },
   {
    "duration": 3541,
    "start_time": "2022-08-15T17:21:57.377Z"
   },
   {
    "duration": 149,
    "start_time": "2022-08-15T17:22:00.920Z"
   },
   {
    "duration": 3,
    "start_time": "2022-08-15T17:22:01.071Z"
   },
   {
    "duration": 11,
    "start_time": "2022-08-15T17:22:01.076Z"
   },
   {
    "duration": 19,
    "start_time": "2022-08-15T17:22:01.089Z"
   },
   {
    "duration": 29,
    "start_time": "2022-08-15T17:22:01.110Z"
   },
   {
    "duration": 42,
    "start_time": "2022-08-15T17:22:01.141Z"
   },
   {
    "duration": 3,
    "start_time": "2022-08-15T17:22:01.185Z"
   },
   {
    "duration": 16,
    "start_time": "2022-08-15T17:22:01.189Z"
   },
   {
    "duration": 100299,
    "start_time": "2022-08-15T17:22:01.209Z"
   },
   {
    "duration": 501,
    "start_time": "2022-08-15T17:23:41.510Z"
   },
   {
    "duration": 1451,
    "start_time": "2022-08-15T17:24:08.035Z"
   },
   {
    "duration": 709,
    "start_time": "2022-08-15T17:24:09.488Z"
   },
   {
    "duration": 1876,
    "start_time": "2022-08-15T17:24:10.199Z"
   },
   {
    "duration": 37,
    "start_time": "2022-08-15T17:24:12.077Z"
   },
   {
    "duration": 15,
    "start_time": "2022-08-15T17:24:12.116Z"
   },
   {
    "duration": 5,
    "start_time": "2022-08-15T17:24:12.133Z"
   },
   {
    "duration": 5,
    "start_time": "2022-08-15T17:24:12.139Z"
   },
   {
    "duration": 4,
    "start_time": "2022-08-15T17:24:12.146Z"
   },
   {
    "duration": 451,
    "start_time": "2022-08-15T17:24:12.152Z"
   },
   {
    "duration": 404,
    "start_time": "2022-08-15T17:24:12.605Z"
   },
   {
    "duration": 503,
    "start_time": "2022-08-15T17:24:13.102Z"
   },
   {
    "duration": 601,
    "start_time": "2022-08-15T17:24:13.607Z"
   },
   {
    "duration": 94,
    "start_time": "2022-08-15T17:24:14.210Z"
   },
   {
    "duration": 98,
    "start_time": "2022-08-15T17:24:14.309Z"
   },
   {
    "duration": 192,
    "start_time": "2022-08-15T17:24:14.410Z"
   },
   {
    "duration": 5,
    "start_time": "2022-08-15T17:24:14.604Z"
   },
   {
    "duration": 249,
    "start_time": "2022-08-15T17:24:14.611Z"
   },
   {
    "duration": 314,
    "start_time": "2022-08-15T17:24:14.862Z"
   },
   {
    "duration": 3526,
    "start_time": "2022-08-15T17:24:15.179Z"
   },
   {
    "duration": 133,
    "start_time": "2022-08-15T17:24:18.707Z"
   },
   {
    "duration": 3,
    "start_time": "2022-08-15T17:24:18.842Z"
   },
   {
    "duration": 19,
    "start_time": "2022-08-15T17:24:18.847Z"
   },
   {
    "duration": 23,
    "start_time": "2022-08-15T17:24:18.868Z"
   },
   {
    "duration": 33,
    "start_time": "2022-08-15T17:24:18.893Z"
   },
   {
    "duration": 48,
    "start_time": "2022-08-15T17:24:18.928Z"
   },
   {
    "duration": 4,
    "start_time": "2022-08-15T17:24:18.978Z"
   },
   {
    "duration": 21,
    "start_time": "2022-08-15T17:24:18.983Z"
   },
   {
    "duration": 1463,
    "start_time": "2022-08-15T17:25:13.527Z"
   },
   {
    "duration": 948,
    "start_time": "2022-08-15T17:25:14.991Z"
   },
   {
    "duration": 2686,
    "start_time": "2022-08-15T17:25:15.941Z"
   },
   {
    "duration": 33,
    "start_time": "2022-08-15T17:25:18.629Z"
   },
   {
    "duration": 42,
    "start_time": "2022-08-15T17:25:18.664Z"
   },
   {
    "duration": 6,
    "start_time": "2022-08-15T17:25:18.709Z"
   },
   {
    "duration": 16,
    "start_time": "2022-08-15T17:25:18.718Z"
   },
   {
    "duration": 32,
    "start_time": "2022-08-15T17:25:18.737Z"
   },
   {
    "duration": 634,
    "start_time": "2022-08-15T17:25:18.772Z"
   },
   {
    "duration": 600,
    "start_time": "2022-08-15T17:25:19.410Z"
   },
   {
    "duration": 502,
    "start_time": "2022-08-15T17:25:20.013Z"
   },
   {
    "duration": 691,
    "start_time": "2022-08-15T17:25:20.517Z"
   },
   {
    "duration": 94,
    "start_time": "2022-08-15T17:25:21.211Z"
   },
   {
    "duration": 123,
    "start_time": "2022-08-15T17:25:21.307Z"
   },
   {
    "duration": 187,
    "start_time": "2022-08-15T17:25:21.432Z"
   },
   {
    "duration": 4,
    "start_time": "2022-08-15T17:25:21.621Z"
   },
   {
    "duration": 240,
    "start_time": "2022-08-15T17:25:21.626Z"
   },
   {
    "duration": 306,
    "start_time": "2022-08-15T17:25:21.868Z"
   },
   {
    "duration": 3541,
    "start_time": "2022-08-15T17:25:22.176Z"
   },
   {
    "duration": 153,
    "start_time": "2022-08-15T17:25:25.718Z"
   },
   {
    "duration": 3,
    "start_time": "2022-08-15T17:25:25.874Z"
   },
   {
    "duration": 11,
    "start_time": "2022-08-15T17:25:25.879Z"
   },
   {
    "duration": 9,
    "start_time": "2022-08-15T17:25:25.903Z"
   },
   {
    "duration": 29,
    "start_time": "2022-08-15T17:25:25.913Z"
   },
   {
    "duration": 60,
    "start_time": "2022-08-15T17:25:25.944Z"
   },
   {
    "duration": 4,
    "start_time": "2022-08-15T17:25:26.006Z"
   },
   {
    "duration": 20,
    "start_time": "2022-08-15T17:25:26.012Z"
   },
   {
    "duration": 130090,
    "start_time": "2022-08-15T17:25:26.037Z"
   },
   {
    "duration": 592,
    "start_time": "2022-08-15T17:27:36.129Z"
   },
   {
    "duration": 79636,
    "start_time": "2022-08-15T17:27:36.723Z"
   },
   {
    "duration": 72,
    "start_time": "2022-08-15T17:28:56.362Z"
   },
   {
    "duration": 11,
    "start_time": "2022-08-15T17:28:56.435Z"
   },
   {
    "duration": 20,
    "start_time": "2022-08-15T17:28:56.448Z"
   },
   {
    "duration": 130423,
    "start_time": "2022-08-15T17:28:56.470Z"
   },
   {
    "duration": 46,
    "start_time": "2022-08-15T17:31:06.895Z"
   },
   {
    "duration": 1636,
    "start_time": "2022-08-15T17:32:16.578Z"
   },
   {
    "duration": 777,
    "start_time": "2022-08-15T17:32:18.216Z"
   },
   {
    "duration": 1986,
    "start_time": "2022-08-15T17:32:18.995Z"
   },
   {
    "duration": 45,
    "start_time": "2022-08-15T17:32:20.984Z"
   },
   {
    "duration": 17,
    "start_time": "2022-08-15T17:32:21.032Z"
   },
   {
    "duration": 10,
    "start_time": "2022-08-15T17:32:21.051Z"
   },
   {
    "duration": 12,
    "start_time": "2022-08-15T17:32:21.063Z"
   },
   {
    "duration": 26,
    "start_time": "2022-08-15T17:32:21.077Z"
   },
   {
    "duration": 803,
    "start_time": "2022-08-15T17:32:21.105Z"
   },
   {
    "duration": 891,
    "start_time": "2022-08-15T17:32:21.915Z"
   },
   {
    "duration": 596,
    "start_time": "2022-08-15T17:32:22.809Z"
   },
   {
    "duration": 597,
    "start_time": "2022-08-15T17:32:23.413Z"
   },
   {
    "duration": 92,
    "start_time": "2022-08-15T17:32:24.012Z"
   },
   {
    "duration": 67,
    "start_time": "2022-08-15T17:32:24.121Z"
   },
   {
    "duration": 200,
    "start_time": "2022-08-15T17:32:24.189Z"
   },
   {
    "duration": 5,
    "start_time": "2022-08-15T17:32:24.391Z"
   },
   {
    "duration": 256,
    "start_time": "2022-08-15T17:32:24.397Z"
   },
   {
    "duration": 313,
    "start_time": "2022-08-15T17:32:24.655Z"
   },
   {
    "duration": 3585,
    "start_time": "2022-08-15T17:32:24.970Z"
   },
   {
    "duration": 139,
    "start_time": "2022-08-15T17:32:28.557Z"
   },
   {
    "duration": 6,
    "start_time": "2022-08-15T17:32:28.697Z"
   },
   {
    "duration": 9,
    "start_time": "2022-08-15T17:32:28.704Z"
   },
   {
    "duration": 20,
    "start_time": "2022-08-15T17:32:28.715Z"
   },
   {
    "duration": 27,
    "start_time": "2022-08-15T17:32:28.737Z"
   },
   {
    "duration": 44,
    "start_time": "2022-08-15T17:32:28.766Z"
   },
   {
    "duration": 2,
    "start_time": "2022-08-15T17:32:28.812Z"
   },
   {
    "duration": 8,
    "start_time": "2022-08-15T17:32:28.816Z"
   },
   {
    "duration": 132206,
    "start_time": "2022-08-15T17:32:28.828Z"
   },
   {
    "duration": 593,
    "start_time": "2022-08-15T17:34:41.036Z"
   },
   {
    "duration": 78747,
    "start_time": "2022-08-15T17:34:41.631Z"
   },
   {
    "duration": 73,
    "start_time": "2022-08-15T17:36:00.380Z"
   },
   {
    "duration": 11,
    "start_time": "2022-08-15T17:36:00.455Z"
   },
   {
    "duration": 29,
    "start_time": "2022-08-15T17:36:00.468Z"
   },
   {
    "duration": 129387,
    "start_time": "2022-08-15T17:36:00.503Z"
   },
   {
    "duration": 43,
    "start_time": "2022-08-15T17:38:09.892Z"
   },
   {
    "duration": 3442,
    "start_time": "2022-08-15T18:34:55.212Z"
   },
   {
    "duration": 3213,
    "start_time": "2022-08-15T18:34:58.656Z"
   },
   {
    "duration": 1777,
    "start_time": "2022-08-15T18:35:01.871Z"
   },
   {
    "duration": 26,
    "start_time": "2022-08-15T18:35:03.650Z"
   },
   {
    "duration": 36,
    "start_time": "2022-08-15T18:35:03.678Z"
   },
   {
    "duration": 14,
    "start_time": "2022-08-15T18:35:03.716Z"
   },
   {
    "duration": 12,
    "start_time": "2022-08-15T18:35:03.732Z"
   },
   {
    "duration": 9,
    "start_time": "2022-08-15T18:35:03.745Z"
   },
   {
    "duration": 361,
    "start_time": "2022-08-15T18:35:03.755Z"
   },
   {
    "duration": 690,
    "start_time": "2022-08-15T18:35:04.119Z"
   },
   {
    "duration": 500,
    "start_time": "2022-08-15T18:35:04.816Z"
   },
   {
    "duration": 793,
    "start_time": "2022-08-15T18:35:05.320Z"
   },
   {
    "duration": 6,
    "start_time": "2022-08-15T18:35:06.115Z"
   },
   {
    "duration": 112,
    "start_time": "2022-08-15T18:35:06.208Z"
   },
   {
    "duration": 169,
    "start_time": "2022-08-15T18:35:06.322Z"
   },
   {
    "duration": 3,
    "start_time": "2022-08-15T18:35:06.493Z"
   },
   {
    "duration": 232,
    "start_time": "2022-08-15T18:35:06.497Z"
   },
   {
    "duration": 279,
    "start_time": "2022-08-15T18:35:06.731Z"
   },
   {
    "duration": 3149,
    "start_time": "2022-08-15T18:35:07.013Z"
   },
   {
    "duration": 125,
    "start_time": "2022-08-15T18:35:10.164Z"
   },
   {
    "duration": 4,
    "start_time": "2022-08-15T18:35:10.291Z"
   },
   {
    "duration": 14,
    "start_time": "2022-08-15T18:35:10.297Z"
   },
   {
    "duration": 19,
    "start_time": "2022-08-15T18:35:10.313Z"
   },
   {
    "duration": 27,
    "start_time": "2022-08-15T18:35:10.335Z"
   },
   {
    "duration": 52,
    "start_time": "2022-08-15T18:35:10.364Z"
   },
   {
    "duration": 3,
    "start_time": "2022-08-15T18:35:10.419Z"
   },
   {
    "duration": 9,
    "start_time": "2022-08-15T18:35:10.424Z"
   },
   {
    "duration": 17,
    "start_time": "2022-08-15T18:35:47.277Z"
   },
   {
    "duration": 120273,
    "start_time": "2022-08-15T18:35:50.723Z"
   },
   {
    "duration": 109,
    "start_time": "2022-08-15T18:38:47.076Z"
   },
   {
    "duration": 12,
    "start_time": "2022-08-15T18:39:12.297Z"
   },
   {
    "duration": 34,
    "start_time": "2022-08-15T18:41:45.501Z"
   },
   {
    "duration": 9,
    "start_time": "2022-08-15T18:42:11.478Z"
   },
   {
    "duration": 34,
    "start_time": "2022-08-15T18:42:32.550Z"
   },
   {
    "duration": 32,
    "start_time": "2022-08-15T18:43:22.319Z"
   },
   {
    "duration": 9,
    "start_time": "2022-08-15T18:45:31.921Z"
   },
   {
    "duration": 4,
    "start_time": "2022-08-15T18:45:53.298Z"
   },
   {
    "duration": 21,
    "start_time": "2022-08-15T18:56:04.270Z"
   },
   {
    "duration": 16,
    "start_time": "2022-08-15T18:56:44.917Z"
   },
   {
    "duration": 75,
    "start_time": "2022-08-15T18:57:52.371Z"
   },
   {
    "duration": 71,
    "start_time": "2022-08-15T18:58:16.443Z"
   },
   {
    "duration": 9,
    "start_time": "2022-08-15T18:58:46.113Z"
   },
   {
    "duration": 89,
    "start_time": "2022-08-15T18:58:59.523Z"
   },
   {
    "duration": 15,
    "start_time": "2022-08-15T18:59:12.586Z"
   },
   {
    "duration": 20,
    "start_time": "2022-08-15T18:59:26.289Z"
   },
   {
    "duration": 19,
    "start_time": "2022-08-15T18:59:47.609Z"
   },
   {
    "duration": 10,
    "start_time": "2022-08-15T19:00:23.501Z"
   },
   {
    "duration": 10,
    "start_time": "2022-08-15T19:00:31.569Z"
   },
   {
    "duration": 15,
    "start_time": "2022-08-15T19:00:42.420Z"
   },
   {
    "duration": 12,
    "start_time": "2022-08-15T19:01:51.650Z"
   },
   {
    "duration": 105,
    "start_time": "2022-08-15T19:13:53.987Z"
   },
   {
    "duration": 14,
    "start_time": "2022-08-15T19:14:31.787Z"
   },
   {
    "duration": 23,
    "start_time": "2022-08-15T19:15:31.393Z"
   },
   {
    "duration": 80,
    "start_time": "2022-08-15T19:16:02.949Z"
   },
   {
    "duration": 28,
    "start_time": "2022-08-15T19:16:41.085Z"
   },
   {
    "duration": 1447,
    "start_time": "2022-08-16T06:38:28.820Z"
   },
   {
    "duration": 719,
    "start_time": "2022-08-16T06:38:30.270Z"
   },
   {
    "duration": 1873,
    "start_time": "2022-08-16T06:38:30.991Z"
   },
   {
    "duration": 41,
    "start_time": "2022-08-16T06:38:32.866Z"
   },
   {
    "duration": 16,
    "start_time": "2022-08-16T06:38:32.909Z"
   },
   {
    "duration": 5,
    "start_time": "2022-08-16T06:38:32.927Z"
   },
   {
    "duration": 8,
    "start_time": "2022-08-16T06:38:32.934Z"
   },
   {
    "duration": 4,
    "start_time": "2022-08-16T06:38:32.944Z"
   },
   {
    "duration": 361,
    "start_time": "2022-08-16T06:38:32.950Z"
   },
   {
    "duration": 590,
    "start_time": "2022-08-16T06:38:33.313Z"
   },
   {
    "duration": 405,
    "start_time": "2022-08-16T06:38:33.905Z"
   },
   {
    "duration": 504,
    "start_time": "2022-08-16T06:38:34.402Z"
   },
   {
    "duration": 4,
    "start_time": "2022-08-16T06:38:34.909Z"
   },
   {
    "duration": 193,
    "start_time": "2022-08-16T06:38:34.914Z"
   },
   {
    "duration": 189,
    "start_time": "2022-08-16T06:38:35.109Z"
   },
   {
    "duration": 3,
    "start_time": "2022-08-16T06:38:35.302Z"
   },
   {
    "duration": 232,
    "start_time": "2022-08-16T06:38:35.307Z"
   },
   {
    "duration": 310,
    "start_time": "2022-08-16T06:38:35.540Z"
   },
   {
    "duration": 3413,
    "start_time": "2022-08-16T06:38:35.851Z"
   },
   {
    "duration": 4,
    "start_time": "2022-08-16T06:38:39.266Z"
   },
   {
    "duration": 10,
    "start_time": "2022-08-16T06:38:39.272Z"
   },
   {
    "duration": 26,
    "start_time": "2022-08-16T06:38:39.284Z"
   },
   {
    "duration": 28,
    "start_time": "2022-08-16T06:38:39.312Z"
   },
   {
    "duration": 44,
    "start_time": "2022-08-16T06:38:39.342Z"
   },
   {
    "duration": 15,
    "start_time": "2022-08-16T06:38:39.388Z"
   },
   {
    "duration": 6,
    "start_time": "2022-08-16T06:38:39.405Z"
   },
   {
    "duration": 142948,
    "start_time": "2022-08-16T06:38:39.412Z"
   },
   {
    "duration": 657,
    "start_time": "2022-08-16T06:41:02.363Z"
   },
   {
    "duration": 82419,
    "start_time": "2022-08-16T06:41:03.022Z"
   },
   {
    "duration": 64,
    "start_time": "2022-08-16T06:42:25.443Z"
   },
   {
    "duration": 11,
    "start_time": "2022-08-16T06:42:25.508Z"
   },
   {
    "duration": 23,
    "start_time": "2022-08-16T06:42:25.521Z"
   },
   {
    "duration": 140033,
    "start_time": "2022-08-16T06:42:25.546Z"
   },
   {
    "duration": 53,
    "start_time": "2022-08-16T06:44:45.581Z"
   },
   {
    "duration": 2020,
    "start_time": "2022-08-16T07:09:49.097Z"
   },
   {
    "duration": 924,
    "start_time": "2022-08-16T07:09:51.119Z"
   },
   {
    "duration": 1768,
    "start_time": "2022-08-16T07:09:52.045Z"
   },
   {
    "duration": 26,
    "start_time": "2022-08-16T07:09:53.815Z"
   },
   {
    "duration": 16,
    "start_time": "2022-08-16T07:09:53.842Z"
   },
   {
    "duration": 5,
    "start_time": "2022-08-16T07:09:53.860Z"
   },
   {
    "duration": 36,
    "start_time": "2022-08-16T07:09:53.867Z"
   },
   {
    "duration": 4,
    "start_time": "2022-08-16T07:09:53.905Z"
   },
   {
    "duration": 395,
    "start_time": "2022-08-16T07:09:53.911Z"
   },
   {
    "duration": 496,
    "start_time": "2022-08-16T07:09:54.309Z"
   },
   {
    "duration": 601,
    "start_time": "2022-08-16T07:09:54.809Z"
   },
   {
    "duration": 495,
    "start_time": "2022-08-16T07:09:55.412Z"
   },
   {
    "duration": 95,
    "start_time": "2022-08-16T07:09:55.908Z"
   },
   {
    "duration": 111,
    "start_time": "2022-08-16T07:09:56.006Z"
   },
   {
    "duration": 186,
    "start_time": "2022-08-16T07:09:56.118Z"
   },
   {
    "duration": 4,
    "start_time": "2022-08-16T07:09:56.306Z"
   },
   {
    "duration": 234,
    "start_time": "2022-08-16T07:09:56.311Z"
   },
   {
    "duration": 293,
    "start_time": "2022-08-16T07:09:56.546Z"
   },
   {
    "duration": 3404,
    "start_time": "2022-08-16T07:09:56.841Z"
   },
   {
    "duration": 144,
    "start_time": "2022-08-16T07:10:00.247Z"
   },
   {
    "duration": 11,
    "start_time": "2022-08-16T07:10:00.393Z"
   },
   {
    "duration": 24,
    "start_time": "2022-08-16T07:10:00.407Z"
   },
   {
    "duration": 60,
    "start_time": "2022-08-16T07:10:00.433Z"
   },
   {
    "duration": 38,
    "start_time": "2022-08-16T07:10:00.495Z"
   },
   {
    "duration": 64,
    "start_time": "2022-08-16T07:10:00.534Z"
   },
   {
    "duration": 3,
    "start_time": "2022-08-16T07:10:00.600Z"
   },
   {
    "duration": 39,
    "start_time": "2022-08-16T07:10:00.604Z"
   },
   {
    "duration": 124958,
    "start_time": "2022-08-16T07:10:00.646Z"
   },
   {
    "duration": 522,
    "start_time": "2022-08-16T07:12:05.606Z"
   },
   {
    "duration": 76253,
    "start_time": "2022-08-16T07:12:06.131Z"
   },
   {
    "duration": 62,
    "start_time": "2022-08-16T07:13:22.386Z"
   },
   {
    "duration": 11,
    "start_time": "2022-08-16T07:13:22.449Z"
   },
   {
    "duration": 15,
    "start_time": "2022-08-16T07:13:22.462Z"
   },
   {
    "duration": 1451,
    "start_time": "2022-08-16T07:13:48.371Z"
   },
   {
    "duration": 704,
    "start_time": "2022-08-16T07:13:49.824Z"
   },
   {
    "duration": 1836,
    "start_time": "2022-08-16T07:13:50.530Z"
   },
   {
    "duration": 38,
    "start_time": "2022-08-16T07:13:52.368Z"
   },
   {
    "duration": 17,
    "start_time": "2022-08-16T07:13:52.407Z"
   },
   {
    "duration": 6,
    "start_time": "2022-08-16T07:13:52.426Z"
   },
   {
    "duration": 11,
    "start_time": "2022-08-16T07:13:52.434Z"
   },
   {
    "duration": 14,
    "start_time": "2022-08-16T07:13:52.447Z"
   },
   {
    "duration": 339,
    "start_time": "2022-08-16T07:13:52.463Z"
   },
   {
    "duration": 501,
    "start_time": "2022-08-16T07:13:52.805Z"
   },
   {
    "duration": 701,
    "start_time": "2022-08-16T07:13:53.308Z"
   },
   {
    "duration": 592,
    "start_time": "2022-08-16T07:13:54.011Z"
   },
   {
    "duration": 4,
    "start_time": "2022-08-16T07:13:54.605Z"
   },
   {
    "duration": 36,
    "start_time": "2022-08-16T07:13:54.611Z"
   },
   {
    "duration": 186,
    "start_time": "2022-08-16T07:13:54.649Z"
   },
   {
    "duration": 4,
    "start_time": "2022-08-16T07:13:54.837Z"
   },
   {
    "duration": 241,
    "start_time": "2022-08-16T07:13:54.842Z"
   },
   {
    "duration": 302,
    "start_time": "2022-08-16T07:13:55.085Z"
   },
   {
    "duration": 3404,
    "start_time": "2022-08-16T07:13:55.389Z"
   },
   {
    "duration": 148,
    "start_time": "2022-08-16T07:13:58.795Z"
   },
   {
    "duration": 4,
    "start_time": "2022-08-16T07:13:58.945Z"
   },
   {
    "duration": 9,
    "start_time": "2022-08-16T07:13:58.950Z"
   },
   {
    "duration": 13,
    "start_time": "2022-08-16T07:13:58.961Z"
   },
   {
    "duration": 30,
    "start_time": "2022-08-16T07:13:58.976Z"
   },
   {
    "duration": 40,
    "start_time": "2022-08-16T07:13:59.008Z"
   },
   {
    "duration": 3,
    "start_time": "2022-08-16T07:13:59.050Z"
   },
   {
    "duration": 5,
    "start_time": "2022-08-16T07:13:59.056Z"
   },
   {
    "duration": 126013,
    "start_time": "2022-08-16T07:13:59.065Z"
   },
   {
    "duration": 635,
    "start_time": "2022-08-16T07:16:05.079Z"
   },
   {
    "duration": 75524,
    "start_time": "2022-08-16T07:16:05.716Z"
   },
   {
    "duration": 66,
    "start_time": "2022-08-16T07:17:21.242Z"
   },
   {
    "duration": 15,
    "start_time": "2022-08-16T07:17:21.310Z"
   },
   {
    "duration": 16,
    "start_time": "2022-08-16T07:17:21.327Z"
   },
   {
    "duration": 125804,
    "start_time": "2022-08-16T07:17:21.345Z"
   },
   {
    "duration": 39,
    "start_time": "2022-08-16T07:19:27.151Z"
   },
   {
    "duration": 1491,
    "start_time": "2022-08-16T07:40:40.199Z"
   },
   {
    "duration": 715,
    "start_time": "2022-08-16T07:40:41.692Z"
   },
   {
    "duration": 1815,
    "start_time": "2022-08-16T07:40:42.409Z"
   },
   {
    "duration": 26,
    "start_time": "2022-08-16T07:40:44.226Z"
   },
   {
    "duration": 15,
    "start_time": "2022-08-16T07:40:44.254Z"
   },
   {
    "duration": 33,
    "start_time": "2022-08-16T07:40:44.271Z"
   },
   {
    "duration": 5,
    "start_time": "2022-08-16T07:40:44.305Z"
   },
   {
    "duration": 5,
    "start_time": "2022-08-16T07:40:44.312Z"
   },
   {
    "duration": 288,
    "start_time": "2022-08-16T07:40:44.318Z"
   },
   {
    "duration": 500,
    "start_time": "2022-08-16T07:40:44.609Z"
   },
   {
    "duration": 592,
    "start_time": "2022-08-16T07:40:45.111Z"
   },
   {
    "duration": 707,
    "start_time": "2022-08-16T07:40:45.708Z"
   },
   {
    "duration": 5,
    "start_time": "2022-08-16T07:40:46.417Z"
   },
   {
    "duration": 109,
    "start_time": "2022-08-16T07:40:46.423Z"
   },
   {
    "duration": 184,
    "start_time": "2022-08-16T07:40:46.534Z"
   },
   {
    "duration": 4,
    "start_time": "2022-08-16T07:40:46.720Z"
   },
   {
    "duration": 227,
    "start_time": "2022-08-16T07:40:46.725Z"
   },
   {
    "duration": 307,
    "start_time": "2022-08-16T07:40:46.954Z"
   },
   {
    "duration": 3463,
    "start_time": "2022-08-16T07:40:47.263Z"
   },
   {
    "duration": 138,
    "start_time": "2022-08-16T07:40:50.728Z"
   },
   {
    "duration": 4,
    "start_time": "2022-08-16T07:40:50.868Z"
   },
   {
    "duration": 9,
    "start_time": "2022-08-16T07:40:50.873Z"
   },
   {
    "duration": 22,
    "start_time": "2022-08-16T07:40:50.884Z"
   },
   {
    "duration": 19,
    "start_time": "2022-08-16T07:40:50.907Z"
   },
   {
    "duration": 35,
    "start_time": "2022-08-16T07:40:50.928Z"
   },
   {
    "duration": 3,
    "start_time": "2022-08-16T07:40:50.965Z"
   },
   {
    "duration": 7,
    "start_time": "2022-08-16T07:40:50.969Z"
   },
   {
    "duration": 81575,
    "start_time": "2022-08-16T07:40:50.979Z"
   },
   {
    "duration": 548,
    "start_time": "2022-08-16T07:42:12.556Z"
   },
   {
    "duration": 37777,
    "start_time": "2022-08-16T07:42:13.106Z"
   },
   {
    "duration": 57,
    "start_time": "2022-08-16T07:42:50.885Z"
   },
   {
    "duration": 11,
    "start_time": "2022-08-16T07:42:50.944Z"
   },
   {
    "duration": 17,
    "start_time": "2022-08-16T07:42:50.957Z"
   },
   {
    "duration": 81852,
    "start_time": "2022-08-16T07:42:50.976Z"
   },
   {
    "duration": 35,
    "start_time": "2022-08-16T07:44:12.830Z"
   },
   {
    "duration": 1422,
    "start_time": "2022-08-16T07:45:09.883Z"
   },
   {
    "duration": 716,
    "start_time": "2022-08-16T07:45:11.307Z"
   },
   {
    "duration": 1817,
    "start_time": "2022-08-16T07:45:12.025Z"
   },
   {
    "duration": 25,
    "start_time": "2022-08-16T07:45:13.844Z"
   },
   {
    "duration": 35,
    "start_time": "2022-08-16T07:45:13.870Z"
   },
   {
    "duration": 6,
    "start_time": "2022-08-16T07:45:13.907Z"
   },
   {
    "duration": 9,
    "start_time": "2022-08-16T07:45:13.915Z"
   },
   {
    "duration": 6,
    "start_time": "2022-08-16T07:45:13.926Z"
   },
   {
    "duration": 368,
    "start_time": "2022-08-16T07:45:13.934Z"
   },
   {
    "duration": 500,
    "start_time": "2022-08-16T07:45:14.305Z"
   },
   {
    "duration": 595,
    "start_time": "2022-08-16T07:45:14.808Z"
   },
   {
    "duration": 501,
    "start_time": "2022-08-16T07:45:15.405Z"
   },
   {
    "duration": 5,
    "start_time": "2022-08-16T07:45:15.908Z"
   },
   {
    "duration": 101,
    "start_time": "2022-08-16T07:45:15.914Z"
   },
   {
    "duration": 185,
    "start_time": "2022-08-16T07:45:16.017Z"
   },
   {
    "duration": 4,
    "start_time": "2022-08-16T07:45:16.204Z"
   },
   {
    "duration": 241,
    "start_time": "2022-08-16T07:45:16.209Z"
   },
   {
    "duration": 308,
    "start_time": "2022-08-16T07:45:16.451Z"
   },
   {
    "duration": 3500,
    "start_time": "2022-08-16T07:45:16.761Z"
   },
   {
    "duration": 254,
    "start_time": "2022-08-16T07:45:20.263Z"
   },
   {
    "duration": 4,
    "start_time": "2022-08-16T07:45:20.519Z"
   },
   {
    "duration": 8,
    "start_time": "2022-08-16T07:45:20.525Z"
   },
   {
    "duration": 14,
    "start_time": "2022-08-16T07:45:20.535Z"
   },
   {
    "duration": 54,
    "start_time": "2022-08-16T07:45:20.551Z"
   },
   {
    "duration": 43,
    "start_time": "2022-08-16T07:45:20.607Z"
   },
   {
    "duration": 51,
    "start_time": "2022-08-16T07:45:20.652Z"
   },
   {
    "duration": 6,
    "start_time": "2022-08-16T07:45:20.705Z"
   },
   {
    "duration": 125603,
    "start_time": "2022-08-16T07:45:20.715Z"
   },
   {
    "duration": 591,
    "start_time": "2022-08-16T07:47:26.320Z"
   },
   {
    "duration": 76329,
    "start_time": "2022-08-16T07:47:26.913Z"
   },
   {
    "duration": 66,
    "start_time": "2022-08-16T07:48:43.244Z"
   },
   {
    "duration": 12,
    "start_time": "2022-08-16T07:48:43.312Z"
   },
   {
    "duration": 17,
    "start_time": "2022-08-16T07:48:43.325Z"
   },
   {
    "duration": 126992,
    "start_time": "2022-08-16T07:48:43.343Z"
   },
   {
    "duration": 37,
    "start_time": "2022-08-16T07:50:50.337Z"
   }
  ],
  "kernelspec": {
   "display_name": "Python 3 (ipykernel)",
   "language": "python",
   "name": "python3"
  },
  "language_info": {
   "codemirror_mode": {
    "name": "ipython",
    "version": 3
   },
   "file_extension": ".py",
   "mimetype": "text/x-python",
   "name": "python",
   "nbconvert_exporter": "python",
   "pygments_lexer": "ipython3",
   "version": "3.12.4"
  },
  "toc": {
   "base_numbering": 1,
   "nav_menu": {},
   "number_sections": true,
   "sideBar": true,
   "skip_h1_title": true,
   "title_cell": "Содержание",
   "title_sidebar": "Contents",
   "toc_cell": true,
   "toc_position": {
    "height": "629.078px",
    "left": "88px",
    "top": "111.125px",
    "width": "365px"
   },
   "toc_section_display": true,
   "toc_window_display": true
  }
 },
 "nbformat": 4,
 "nbformat_minor": 4
}
